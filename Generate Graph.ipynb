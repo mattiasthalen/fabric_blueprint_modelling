{
 "cells": [
  {
   "cell_type": "code",
   "execution_count": null,
   "id": "83660118-6f33-4581-982e-384eeaccf011",
   "metadata": {
    "microsoft": {
     "language": "python",
     "language_group": "synapse_pyspark"
    }
   },
   "outputs": [],
   "source": [
    "!pip install sqlglot==27.20.0"
   ]
  },
  {
   "cell_type": "code",
   "execution_count": null,
   "id": "d666ae49-ae89-4f03-aa4b-432c9e480613",
   "metadata": {
    "microsoft": {
     "language": "python",
     "language_group": "synapse_pyspark"
    }
   },
   "outputs": [],
   "source": [
    "from functools import reduce\n",
    "from itertools import combinations\n",
    "from math import comb\n",
    "from pyspark.sql import functions as F\n",
    "from sqlglot import exp\n",
    "from tqdm.auto import tqdm\n",
    "from typing import Dict, Iterable, List, Tuple, Any"
   ]
  },
  {
   "cell_type": "code",
   "execution_count": null,
   "id": "39107525-1edb-4966-ae8e-09c472a7aa20",
   "metadata": {
    "microsoft": {
     "language": "python",
     "language_group": "synapse_pyspark"
    }
   },
   "outputs": [],
   "source": [
    "MANIFEST_PATH = \"metadata.manifest\"\n",
    "FROM_SCHEMA = \"hook\"\n",
    "FROM_PREFIX = \"frame\"\n",
    "TO_SCHEMA = \"graph\""
   ]
  },
  {
   "cell_type": "code",
   "execution_count": null,
   "id": "fbf7284d-20c7-40ad-9671-f3267b3f9333",
   "metadata": {
    "jupyter": {
     "outputs_hidden": false,
     "source_hidden": false
    },
    "microsoft": {
     "language": "python",
     "language_group": "synapse_pyspark"
    },
    "nteract": {
     "transient": {
      "deleting": false
     }
    }
   },
   "outputs": [],
   "source": [
    "def load_manifest(table_path: str):\n",
    "    manifest = (\n",
    "        spark.read.table(table_path)\n",
    "        .collect()\n",
    "    )\n",
    "\n",
    "    return manifest"
   ]
  },
  {
   "cell_type": "code",
   "execution_count": null,
   "id": "4ffe35e1-7c3c-4c7e-9704-cef33260c38c",
   "metadata": {
    "microsoft": {
     "language": "python",
     "language_group": "synapse_pyspark"
    }
   },
   "outputs": [],
   "source": [
    "def is_unique_key(table, key):\n",
    "    df = (\n",
    "        spark.read.table(table)\n",
    "        .select(F.col(key))\n",
    "        .agg(\n",
    "            F.count(F.lit(1)).alias(\"row_count\"),\n",
    "            F.countDistinct(F.col(key)).alias(\"n_unique\")\n",
    "        )\n",
    "        .collect()[0]\n",
    "    )\n",
    "\n",
    "    result = df[\"row_count\"] == df[\"n_unique\"]\n",
    "\n",
    "    return result"
   ]
  },
  {
   "cell_type": "code",
   "execution_count": null,
   "id": "b0eae38e-8a31-47b2-aa39-e20985413aae",
   "metadata": {
    "microsoft": {
     "language": "python",
     "language_group": "synapse_pyspark"
    }
   },
   "outputs": [],
   "source": [
    "def construct_qualified_name(\n",
    "    schema: str,\n",
    "    prefix: str,\n",
    "    source: str,\n",
    "    name: str\n",
    ") -> str:\n",
    "\n",
    "    return f\"{schema}.{prefix}__{source}__{name}\""
   ]
  },
  {
   "cell_type": "code",
   "execution_count": null,
   "id": "f4040b75-fb93-4c1d-9cdf-e940bc2c2fe4",
   "metadata": {
    "microsoft": {
     "language": "python",
     "language_group": "synapse_pyspark"
    }
   },
   "outputs": [],
   "source": [
    "def core_fields(h: dict) -> tuple:\n",
    "    \"\"\"Extract the fields that define hook identity.\"\"\"\n",
    "    return (h[\"name\"], h[\"concept\"], h[\"keyset\"])"
   ]
  },
  {
   "cell_type": "code",
   "execution_count": null,
   "id": "91722a25-5a2d-477d-94e2-99cc48e16a4c",
   "metadata": {
    "jupyter": {
     "outputs_hidden": false,
     "source_hidden": false
    },
    "microsoft": {
     "language": "python",
     "language_group": "synapse_pyspark"
    },
    "nteract": {
     "transient": {
      "deleting": false
     }
    }
   },
   "outputs": [],
   "source": [
    "def build_edges_for_frame(table: str, hooks: list[dict]) -> list[dict]:\n",
    "    \"\"\"Produce unordered, deduped edges for a frame.\"\"\"\n",
    "    n = len(hooks)\n",
    "\n",
    "    if n < 2:\n",
    "        return []\n",
    "        \n",
    "    edges: list[dict] = []\n",
    "    seen_pairs = set()\n",
    "    total_pairs = comb(n, 2)\n",
    "    hook_combinations = combinations(hooks, 2)\n",
    "\n",
    "    for a, b in hook_combinations:\n",
    "        ka, kb = core_fields(a), core_fields(b)\n",
    "        pair_key = tuple(sorted((ka, kb)))\n",
    "        if pair_key in seen_pairs:\n",
    "            continue\n",
    "        seen_pairs.add(pair_key)\n",
    "\n",
    "        u, v = (a, b) if ka <= kb else (b, a)\n",
    "        u_name, u_concept, u_keyset = core_fields(u)\n",
    "        v_name, v_concept, v_keyset = core_fields(v)\n",
    "\n",
    "        edges.append({\n",
    "            \"from_frame\": table,\n",
    "            \"from_concept\": u_concept,\n",
    "            \"from_keyset\": u_keyset,\n",
    "            \"from_hook_name\": u_name,\n",
    "            \"to_concept\": v_concept,\n",
    "            \"to_keyset\": v_keyset,\n",
    "            \"to_hook_name\": v_name,\n",
    "        })\n",
    "    return edges"
   ]
  },
  {
   "cell_type": "code",
   "execution_count": null,
   "id": "27d808bd-5981-4ab2-8695-5d566866474b",
   "metadata": {
    "jupyter": {
     "outputs_hidden": false,
     "source_hidden": false
    },
    "microsoft": {
     "language": "python",
     "language_group": "synapse_pyspark"
    },
    "nteract": {
     "transient": {
      "deleting": false
     }
    }
   },
   "outputs": [],
   "source": [
    "def build_nodes_for_frame(table: str, hooks: list[dict]) -> list[dict]:\n",
    "    \"\"\"Produce nodes for a frame.\"\"\"\n",
    "    nodes: list[dict] = []\n",
    "    for h in hooks:\n",
    "        name, concept, keyset = core_fields(h)\n",
    "        if is_unique_key(table, name):\n",
    "            nodes.append({\n",
    "                \"frame\": table,\n",
    "                \"concept\": concept,\n",
    "                \"keyset\": keyset,\n",
    "                \"hook_name\": name,\n",
    "            })\n",
    "    return nodes"
   ]
  },
  {
   "cell_type": "code",
   "execution_count": null,
   "id": "c6a779cb-44a0-4897-b5ce-c5d49e9cb1f6",
   "metadata": {
    "jupyter": {
     "outputs_hidden": false,
     "source_hidden": false
    },
    "microsoft": {
     "language": "python",
     "language_group": "synapse_pyspark"
    },
    "nteract": {
     "transient": {
      "deleting": false
     }
    }
   },
   "outputs": [],
   "source": [
    "def scan_frames(manifest_path: str) -> dict:\n",
    "    frames = load_manifest(manifest_path)\n",
    "\n",
    "    nodes = []\n",
    "    edges = []\n",
    "\n",
    "    for frame in tqdm(frames, desc=\"Scanning frames\"):\n",
    "        table = construct_qualified_name(\n",
    "            FROM_SCHEMA, FROM_PREFIX, frame[\"source\"], frame[\"name\"]\n",
    "        )\n",
    "\n",
    "        hooks = frame[\"hooks\"]\n",
    "\n",
    "        edges.extend(build_edges_for_frame(table, hooks))\n",
    "        nodes.extend(build_nodes_for_frame(table, hooks))\n",
    "    \n",
    "    return {\"nodes\": nodes, \"edges\": edges}\n",
    "\n",
    "nodes_and_edges = scan_frames(MANIFEST_PATH)"
   ]
  },
  {
   "cell_type": "code",
   "execution_count": null,
   "id": "007bcb5d-b066-4343-a2e5-87bfd3eb95ee",
   "metadata": {
    "microsoft": {
     "language": "python",
     "language_group": "synapse_pyspark"
    }
   },
   "outputs": [],
   "source": [
    "def union_all(queries):\n",
    "    return reduce(lambda a, b: a.union(b, distinct=False), queries)"
   ]
  },
  {
   "cell_type": "code",
   "execution_count": null,
   "id": "8249e671-0279-4fdb-bb1c-651dae32ba6a",
   "metadata": {
    "microsoft": {
     "language": "python",
     "language_group": "synapse_pyspark"
    }
   },
   "outputs": [],
   "source": [
    "def generate_node_sql(nodes: list[dict]) -> exp.Expression:\n",
    "    queries = []\n",
    "\n",
    "    for node in nodes:\n",
    "        frame = node[\"frame\"]\n",
    "        concept = node[\"concept\"]\n",
    "        keyset = node[\"keyset\"]\n",
    "        hook_name = node[\"hook_name\"]\n",
    "\n",
    "        query = (\n",
    "            exp.select(\n",
    "                exp.Literal.string(frame).as_(\"frame\"),\n",
    "                exp.Literal.string(concept).as_(\"concept\"),\n",
    "                exp.Literal.string(keyset).as_(\"keyset\"),\n",
    "                exp.Literal.string(hook_name).as_(\"hook_name\"),\n",
    "                exp.column(hook_name).as_(\"hook_value\")\n",
    "            )\n",
    "            .from_(frame)\n",
    "        )\n",
    "\n",
    "        queries.append(query)\n",
    "\n",
    "        final_query = union_all(queries)\n",
    "\n",
    "    return final_query"
   ]
  },
  {
   "cell_type": "code",
   "execution_count": null,
   "id": "755d9b2f-b1d7-4296-8cd4-d08a1f0e3e1f",
   "metadata": {
    "microsoft": {
     "language": "python",
     "language_group": "synapse_pyspark"
    }
   },
   "outputs": [],
   "source": [
    "def generate_edge_sql(edges: list[dict]) -> exp.Expression:\n",
    "    queries = []\n",
    "\n",
    "    for edge in edges:\n",
    "        from_frame = edge[\"from_frame\"]\n",
    "        from_concept = edge[\"from_concept\"]\n",
    "        from_keyset = edge[\"from_keyset\"]\n",
    "        from_hook_name = edge[\"from_hook_name\"]\n",
    "        to_concept = edge[\"to_concept\"]\n",
    "        to_keyset = edge[\"to_keyset\"]\n",
    "        to_hook_name = edge[\"to_hook_name\"]\n",
    "\n",
    "        query = (\n",
    "            exp.select(\n",
    "                exp.Literal.string(from_frame).as_(\"from_frame\"),\n",
    "                exp.Literal.string(from_concept).as_(\"from_concept\"),\n",
    "                exp.Literal.string(from_keyset).as_(\"from_keyset\"),\n",
    "                exp.Literal.string(from_hook_name).as_(\"from_hook_name\"),\n",
    "                exp.column(from_hook_name).as_(\"from_hook_value\"),\n",
    "\n",
    "                exp.Literal.string(to_concept).as_(\"to_concept\"),\n",
    "                exp.Literal.string(to_keyset).as_(\"to_keyset\"),\n",
    "                exp.Literal.string(to_hook_name).as_(\"to_hook_name\"),\n",
    "                exp.column(to_hook_name).as_(\"to_hook_value\")\n",
    "            )\n",
    "            .from_(from_frame)\n",
    "            .where(\n",
    "                exp.and_(\n",
    "                    exp.Is(this=exp.column(from_hook_name), expression=exp.Null()).not_(),\n",
    "                    exp.Is(this=exp.column(to_hook_name), expression=exp.Null()).not_(),\n",
    "                )\n",
    "            )\n",
    "        )\n",
    "\n",
    "        queries.append(query)\n",
    "\n",
    "        final_query = union_all(queries)\n",
    "\n",
    "    return final_query"
   ]
  },
  {
   "cell_type": "code",
   "execution_count": null,
   "id": "129c5c38-8915-4e3a-9345-bd97381e4d5a",
   "metadata": {
    "collapsed": false,
    "microsoft": {
     "language": "python",
     "language_group": "synapse_pyspark"
    }
   },
   "outputs": [],
   "source": [
    "_ = spark.sql(f\"CREATE SCHEMA IF NOT EXISTS {TO_SCHEMA};\")"
   ]
  },
  {
   "cell_type": "code",
   "execution_count": null,
   "id": "b3d06d7a-0754-496d-b61c-cd616536bb09",
   "metadata": {
    "microsoft": {
     "language": "python",
     "language_group": "synapse_pyspark"
    }
   },
   "outputs": [],
   "source": [
    "node_query = generate_node_sql(nodes_and_edges[\"nodes\"])\n",
    "edge_query = generate_edge_sql(nodes_and_edges[\"edges\"])"
   ]
  },
  {
   "cell_type": "code",
   "execution_count": null,
   "id": "72fddde2-debe-4c4c-aa04-7d0d872a448a",
   "metadata": {
    "collapsed": false,
    "jupyter": {
     "outputs_hidden": false,
     "source_hidden": false
    },
    "microsoft": {
     "language": "python",
     "language_group": "synapse_pyspark"
    },
    "nteract": {
     "transient": {
      "deleting": false
     }
    }
   },
   "outputs": [],
   "source": [
    "mlvs = {\n",
    "    \"nodes\": {\"query\": node_query, \"partition_by\": [\"frame\"]},\n",
    "    \"edges\": {\"query\": edge_query, \"partition_by\": [\"from_frame\"]},\n",
    "}\n",
    "\n",
    "for mlv, value in mlvs.items():\n",
    "    query = value[\"query\"]\n",
    "    partition_by = \", \".join(value[\"partition_by\"])\n",
    "\n",
    "    spark_sql = query.sql(dialect=\"spark\", identify=True, pretty=True)\n",
    "    result = spark.sql(f\"CREATE MATERIALIZED LAKE VIEW IF NOT EXISTS {TO_SCHEMA}.{mlv} PARTITIONED BY ({partition_by}) AS ({spark_sql});\")\n",
    "\n",
    "    display(result)"
   ]
  }
 ],
 "metadata": {
  "dependencies": {
   "lakehouse": {
    "default_lakehouse": "606b479f-9338-452b-ac6d-d84f8e49e976",
    "default_lakehouse_name": "tpch",
    "default_lakehouse_workspace_id": "99a969c7-6acc-45c8-808f-93eea0b7b50e",
    "known_lakehouses": [
     {
      "id": "606b479f-9338-452b-ac6d-d84f8e49e976"
     }
    ]
   }
  },
  "kernel_info": {
   "name": "synapse_pyspark"
  },
  "kernelspec": {
   "display_name": "synapse_pyspark",
   "name": "synapse_pyspark"
  },
  "language_info": {
   "name": "python"
  },
  "microsoft": {
   "language": "python",
   "language_group": "synapse_pyspark",
   "ms_spell_check": {
    "ms_spell_check_language": "en"
   }
  },
  "nteract": {
   "version": "nteract-front-end@1.0.0"
  },
  "spark_compute": {
   "compute_id": "/trident/default",
   "session_options": {
    "conf": {
     "spark.synapse.nbs.session.timeout": "1200000"
    }
   }
  },
  "synapse_widget": {
   "state": {},
   "version": "0.1"
  },
  "widgets": {
   "application/vnd.jupyter.widget-state+json": {
    "state": {
     "001af4b437b3442282666e66d51df282": {
      "model_module": "@jupyter-widgets/controls",
      "model_module_version": "2.0.0",
      "model_name": "HTMLStyleModel",
      "state": {
       "description_width": "",
       "font_size": null,
       "text_color": null
      }
     },
     "00203f9bd632402fabdc88ebadd04522": {
      "model_module": "@jupyter-widgets/controls",
      "model_module_version": "2.0.0",
      "model_name": "FloatProgressModel",
      "state": {
       "layout": "IPY_MODEL_9ce4d231155f4290b37d644111088119",
       "max": 2,
       "style": "IPY_MODEL_e6ec75c2358d4c2eb5ec0650575badb7",
       "value": 2
      }
     },
     "00284596372b4daea1796315394478fe": {
      "model_module": "@jupyter-widgets/controls",
      "model_module_version": "2.0.0",
      "model_name": "HTMLStyleModel",
      "state": {
       "description_width": "",
       "font_size": null,
       "text_color": null
      }
     },
     "00367132200c4fb3ac7969256bce000c": {
      "model_module": "@jupyter-widgets/base",
      "model_module_version": "2.0.0",
      "model_name": "LayoutModel",
      "state": {}
     },
     "003ea001b7e1441a93359e5f5c3c699d": {
      "model_module": "@jupyter-widgets/base",
      "model_module_version": "2.0.0",
      "model_name": "LayoutModel",
      "state": {}
     },
     "0055fe64b5ee451b92502d0d4af5754e": {
      "model_module": "@jupyter-widgets/controls",
      "model_module_version": "2.0.0",
      "model_name": "HBoxModel",
      "state": {
       "children": [
        "IPY_MODEL_12ad5a0e9ac84d068917af25cefe9360",
        "IPY_MODEL_d48cfed5b2b940da94a57ed03a2669a5",
        "IPY_MODEL_ca38c78f23b543ab91a10cde7e7935f9"
       ],
       "layout": "IPY_MODEL_5110e552bed241128bcea1b8055bd667"
      }
     },
     "00837fc2188642dfa9116f5f24c9e3ce": {
      "model_module": "@jupyter-widgets/controls",
      "model_module_version": "2.0.0",
      "model_name": "ProgressStyleModel",
      "state": {
       "description_width": ""
      }
     },
     "0099be425d0c4c099a23df11f5ed38b8": {
      "model_module": "@jupyter-widgets/base",
      "model_module_version": "2.0.0",
      "model_name": "LayoutModel",
      "state": {}
     },
     "009b1af1f73a4845961ab07fcc69acb1": {
      "model_module": "@jupyter-widgets/base",
      "model_module_version": "2.0.0",
      "model_name": "LayoutModel",
      "state": {}
     },
     "00a7a705146f4de99dd96362c9b7384d": {
      "model_module": "@jupyter-widgets/base",
      "model_module_version": "2.0.0",
      "model_name": "LayoutModel",
      "state": {}
     },
     "00d0b9a10b414c38aa0b9a68a9131e25": {
      "model_module": "@jupyter-widgets/controls",
      "model_module_version": "2.0.0",
      "model_name": "HBoxModel",
      "state": {
       "children": [
        "IPY_MODEL_74d2e79cfb484715aa4a239549bec375",
        "IPY_MODEL_3f79be0e7d7e4e968b7ed375cf1c3f7b",
        "IPY_MODEL_91e57ffa2714481487565db9cdf0d0ee"
       ],
       "layout": "IPY_MODEL_9360f3ccf48d4d94afdc053e42fe6e5d"
      }
     },
     "00fd817c7efe468692ece772e688c947": {
      "model_module": "@jupyter-widgets/controls",
      "model_module_version": "2.0.0",
      "model_name": "HTMLStyleModel",
      "state": {
       "description_width": "",
       "font_size": null,
       "text_color": null
      }
     },
     "0104bc9e0a6f4bcbb75851150d84c324": {
      "model_module": "@jupyter-widgets/controls",
      "model_module_version": "2.0.0",
      "model_name": "FloatProgressModel",
      "state": {
       "bar_style": "success",
       "layout": "IPY_MODEL_c03baf888cd645abb4612718e76fa1ce",
       "max": 1,
       "style": "IPY_MODEL_f6d17d094cfb44249ba9cb1fce591799",
       "value": 1
      }
     },
     "0150dad39e7446b9bb766fea0e68945b": {
      "model_module": "@jupyter-widgets/controls",
      "model_module_version": "2.0.0",
      "model_name": "HTMLModel",
      "state": {
       "layout": "IPY_MODEL_2f3b3a24d96b453aadae468bbd1a3b10",
       "style": "IPY_MODEL_39b719413058433b9779c853745e9aa3",
       "value": " 1/1 [00:00&lt;00:00, 198.09it/s]"
      }
     },
     "0195f206855446fdbe1c9b97d018172f": {
      "model_module": "@jupyter-widgets/base",
      "model_module_version": "2.0.0",
      "model_name": "LayoutModel",
      "state": {}
     },
     "01a607c5e8444e59a1ab748e3cb3e033": {
      "model_module": "@jupyter-widgets/controls",
      "model_module_version": "2.0.0",
      "model_name": "HTMLModel",
      "state": {
       "layout": "IPY_MODEL_42c07b3f275045b3b317195237dd9eb1",
       "style": "IPY_MODEL_fb621e1d0ba14d14a32e04e9e9936163",
       "value": " 2/2 [00:01&lt;00:00,  1.50it/s]"
      }
     },
     "01db5be122ea41a693905586143867bc": {
      "model_module": "@jupyter-widgets/base",
      "model_module_version": "2.0.0",
      "model_name": "LayoutModel",
      "state": {}
     },
     "01e49a500419413facb4899624a024a4": {
      "model_module": "@jupyter-widgets/controls",
      "model_module_version": "2.0.0",
      "model_name": "HTMLModel",
      "state": {
       "layout": "IPY_MODEL_16aa537ee2894151a052733965c7a96c",
       "style": "IPY_MODEL_026c6ff83e954cac88478f3124481e2d",
       "value": " 1/1 [00:00&lt;00:00,  1.07it/s]"
      }
     },
     "01e9714a78d64f0ea332263a81cb433c": {
      "model_module": "@jupyter-widgets/controls",
      "model_module_version": "2.0.0",
      "model_name": "FloatProgressModel",
      "state": {
       "layout": "IPY_MODEL_bff89c5f271c4379945d829ffc030d4f",
       "max": 6,
       "style": "IPY_MODEL_d1532bfe6e614ffd9579a1891cb203c2",
       "value": 6
      }
     },
     "01ec01b878834e9681f70e696548db26": {
      "model_module": "@jupyter-widgets/base",
      "model_module_version": "2.0.0",
      "model_name": "LayoutModel",
      "state": {}
     },
     "01ee4987b7794dfc89dd145067f1a403": {
      "model_module": "@jupyter-widgets/controls",
      "model_module_version": "2.0.0",
      "model_name": "HTMLModel",
      "state": {
       "layout": "IPY_MODEL_45e0a55b244640e19bc2824918f5b123",
       "style": "IPY_MODEL_14db3dde836c4e93b81725dda557d12d",
       "value": "hook.frame__tpch__partsupp: edges...: 100%"
      }
     },
     "01f88a260de84893b56578ee18699d42": {
      "model_module": "@jupyter-widgets/base",
      "model_module_version": "2.0.0",
      "model_name": "LayoutModel",
      "state": {
       "display": "inline-flex",
       "flex_flow": "row wrap",
       "width": "100%"
      }
     },
     "020704612a6b43c1883f9489c12d1a77": {
      "model_module": "@jupyter-widgets/controls",
      "model_module_version": "2.0.0",
      "model_name": "HTMLModel",
      "state": {
       "layout": "IPY_MODEL_d965e79314c2434bb3eb896ff347c39b",
       "style": "IPY_MODEL_869429d61cf147fd89663322f41dda0e",
       "value": " 1/1 [00:00&lt;00:00,  1.02it/s]"
      }
     },
     "020e1fa6de5e47d9890a7ef0db6d3fff": {
      "model_module": "@jupyter-widgets/base",
      "model_module_version": "2.0.0",
      "model_name": "LayoutModel",
      "state": {}
     },
     "0236dda5b9214b708b0f80d691ffd51b": {
      "model_module": "@jupyter-widgets/controls",
      "model_module_version": "2.0.0",
      "model_name": "HTMLModel",
      "state": {
       "layout": "IPY_MODEL_a75d0e4f092f41dc85d7551d10d5bdfd",
       "style": "IPY_MODEL_1973203d3664421891be0fcd89e27685",
       "value": "hook.frame__tpch__part: nodes...: 100%"
      }
     },
     "026c6ff83e954cac88478f3124481e2d": {
      "model_module": "@jupyter-widgets/controls",
      "model_module_version": "2.0.0",
      "model_name": "HTMLStyleModel",
      "state": {
       "description_width": "",
       "font_size": null,
       "text_color": null
      }
     },
     "026dd8dfd9e44d6f81782f061c162c03": {
      "model_module": "@jupyter-widgets/controls",
      "model_module_version": "2.0.0",
      "model_name": "HTMLModel",
      "state": {
       "layout": "IPY_MODEL_623daaf6408d44a7be164800fbebade7",
       "style": "IPY_MODEL_be4a2a56706a4105b67faacee5f37c72",
       "value": " 2/2 [00:01&lt;00:00,  1.45it/s]"
      }
     },
     "0278030ae04e4087b56412167fee138e": {
      "model_module": "@jupyter-widgets/controls",
      "model_module_version": "2.0.0",
      "model_name": "HTMLStyleModel",
      "state": {
       "description_width": "",
       "font_size": null,
       "text_color": null
      }
     },
     "0283ff4957c542d992873643444fbdff": {
      "model_module": "@jupyter-widgets/controls",
      "model_module_version": "2.0.0",
      "model_name": "HTMLModel",
      "state": {
       "layout": "IPY_MODEL_dbd2964c89e3453eb1d4ebba3c6ef5d1",
       "style": "IPY_MODEL_0b522fab6ef54b538922bedeade22356",
       "value": "Scanning for nodes...: 100%"
      }
     },
     "028debc68a014d75b213adb875a6dc8f": {
      "model_module": "@jupyter-widgets/base",
      "model_module_version": "2.0.0",
      "model_name": "LayoutModel",
      "state": {}
     },
     "02afb28537c449b4b441671d89e0d839": {
      "model_module": "@jupyter-widgets/base",
      "model_module_version": "2.0.0",
      "model_name": "LayoutModel",
      "state": {}
     },
     "02e050a552054f63b24150e480292613": {
      "model_module": "@jupyter-widgets/base",
      "model_module_version": "2.0.0",
      "model_name": "LayoutModel",
      "state": {}
     },
     "02e201c67cc24ceba688f36c23a06ffe": {
      "model_module": "@jupyter-widgets/controls",
      "model_module_version": "2.0.0",
      "model_name": "ProgressStyleModel",
      "state": {
       "description_width": ""
      }
     },
     "02e3079f67ce477c8cde119ec5720a01": {
      "model_module": "@jupyter-widgets/controls",
      "model_module_version": "2.0.0",
      "model_name": "HTMLModel",
      "state": {
       "layout": "IPY_MODEL_558c0f7a41c24a30b5522a050c4da787",
       "style": "IPY_MODEL_a5274d2bf1564fdabcd880788da35cfa",
       "value": " 8/8 [00:51&lt;00:00,  5.60s/it]"
      }
     },
     "02f3ecf281f64d988dea46759e9b38b7": {
      "model_module": "@jupyter-widgets/base",
      "model_module_version": "2.0.0",
      "model_name": "LayoutModel",
      "state": {}
     },
     "0317637efd7f4ad29413fdadfe490264": {
      "model_module": "@jupyter-widgets/controls",
      "model_module_version": "2.0.0",
      "model_name": "HTMLModel",
      "state": {
       "layout": "IPY_MODEL_eea15e48057141c58de2f3b5f62892c3",
       "style": "IPY_MODEL_67dc7290f466461685afcaa4a558059f",
       "value": " 0/3 [00:00&lt;?, ?it/s]"
      }
     },
     "035a131dbdbb471e80bbba35211ac577": {
      "model_module": "@jupyter-widgets/controls",
      "model_module_version": "2.0.0",
      "model_name": "HTMLStyleModel",
      "state": {
       "description_width": "",
       "font_size": null,
       "text_color": null
      }
     },
     "0378b91c1448444f82e5434a84e97813": {
      "model_module": "@jupyter-widgets/controls",
      "model_module_version": "2.0.0",
      "model_name": "HTMLStyleModel",
      "state": {
       "description_width": "",
       "font_size": null,
       "text_color": null
      }
     },
     "0382c73db5604452b8e1abcae5d029da": {
      "model_module": "@jupyter-widgets/controls",
      "model_module_version": "2.0.0",
      "model_name": "HTMLStyleModel",
      "state": {
       "description_width": "",
       "font_size": null,
       "text_color": null
      }
     },
     "039147e939d54bb080730c5eefa3e672": {
      "model_module": "@jupyter-widgets/controls",
      "model_module_version": "2.0.0",
      "model_name": "HTMLModel",
      "state": {
       "layout": "IPY_MODEL_4f24a6dbc63e4711ab45185d37c06dcb",
       "style": "IPY_MODEL_829849edf6af48959c771b926a0d71e8",
       "value": "Scanning for edges...:   0%"
      }
     },
     "039c97b4475c48e7b1f3a1446955f655": {
      "model_module": "@jupyter-widgets/controls",
      "model_module_version": "2.0.0",
      "model_name": "ProgressStyleModel",
      "state": {
       "description_width": ""
      }
     },
     "03c6cb16f31e4a79b619e8abb11a984d": {
      "model_module": "@jupyter-widgets/controls",
      "model_module_version": "2.0.0",
      "model_name": "HTMLStyleModel",
      "state": {
       "description_width": "",
       "font_size": null,
       "text_color": null
      }
     },
     "03cb0f67d09b47af915cbcfed3a8bbd7": {
      "model_module": "@jupyter-widgets/base",
      "model_module_version": "2.0.0",
      "model_name": "LayoutModel",
      "state": {
       "visibility": "hidden"
      }
     },
     "03e21c0399af446f805414940b159b66": {
      "model_module": "@jupyter-widgets/controls",
      "model_module_version": "2.0.0",
      "model_name": "HBoxModel",
      "state": {
       "children": [
        "IPY_MODEL_915b81c8ba8d42f9bc3f4a70ef5f91ce",
        "IPY_MODEL_942702e1b8464119a09d67c501af0e85",
        "IPY_MODEL_73391f90c1b54f85abb9d0a4721d784e"
       ],
       "layout": "IPY_MODEL_d1a85e890e8c40a3ab45b68ea5b35cca"
      }
     },
     "03ff8693f35249eba0ed3a4016336fec": {
      "model_module": "@jupyter-widgets/controls",
      "model_module_version": "2.0.0",
      "model_name": "HBoxModel",
      "state": {
       "children": [
        "IPY_MODEL_4cceca4f156c442c806cca93bcb4bd54",
        "IPY_MODEL_dae150d41f994d26952cd8910f4ac727",
        "IPY_MODEL_e739350a794e42af941825ea094fda15"
       ],
       "layout": "IPY_MODEL_7b7abfc8ff6349f397f67f3ee6c80c30"
      }
     },
     "0447c86c821e4881bee351b409ccb051": {
      "model_module": "@jupyter-widgets/controls",
      "model_module_version": "2.0.0",
      "model_name": "ProgressStyleModel",
      "state": {
       "description_width": ""
      }
     },
     "044a43fb885d456dbd4b604f8bb481a0": {
      "model_module": "@jupyter-widgets/base",
      "model_module_version": "2.0.0",
      "model_name": "LayoutModel",
      "state": {}
     },
     "0451e64be76e44eea7319569b8a727a4": {
      "model_module": "@jupyter-widgets/controls",
      "model_module_version": "2.0.0",
      "model_name": "HTMLStyleModel",
      "state": {
       "description_width": "",
       "font_size": null,
       "text_color": null
      }
     },
     "046cfba4f6b44039978a46e41f5d5297": {
      "model_module": "@jupyter-widgets/controls",
      "model_module_version": "2.0.0",
      "model_name": "ProgressStyleModel",
      "state": {
       "description_width": ""
      }
     },
     "0473f8a514964cc39d813599eaa628db": {
      "model_module": "@jupyter-widgets/controls",
      "model_module_version": "2.0.0",
      "model_name": "HTMLModel",
      "state": {
       "layout": "IPY_MODEL_14d1cb9610864a22a98e56c1b0126f37",
       "style": "IPY_MODEL_d39ccb105a63454eb59853ca611f507d",
       "value": "hook.frame__tpch__orders: nodes...: 100%"
      }
     },
     "04835936dbb446a9ad2fcbc0a7f1bf75": {
      "model_module": "@jupyter-widgets/controls",
      "model_module_version": "2.0.0",
      "model_name": "HTMLModel",
      "state": {
       "layout": "IPY_MODEL_527d4a277a88470496c70899d0309e18",
       "style": "IPY_MODEL_d55680a9f3f244ce8ee5588438186577",
       "value": "hook.frame__tpch__part: 100%"
      }
     },
     "049e605da12a48bb863870f2d6e9f9e6": {
      "model_module": "@jupyter-widgets/controls",
      "model_module_version": "2.0.0",
      "model_name": "ProgressStyleModel",
      "state": {
       "description_width": ""
      }
     },
     "04ab387d02f44bf9942386db23fe726e": {
      "model_module": "@jupyter-widgets/controls",
      "model_module_version": "2.0.0",
      "model_name": "ProgressStyleModel",
      "state": {
       "description_width": ""
      }
     },
     "0501b01dcd3344c5bd6f4ab00e24ed6e": {
      "model_module": "@jupyter-widgets/controls",
      "model_module_version": "2.0.0",
      "model_name": "HTMLModel",
      "state": {
       "layout": "IPY_MODEL_a9fc2ca659264c39975ed9055c0aa77a",
       "style": "IPY_MODEL_61f0f4c8e040493e85de5d5e9540921b",
       "value": "Scanning for edges...:   0%"
      }
     },
     "05120cf7b1ab437faf82e3b2ec3fbb92": {
      "model_module": "@jupyter-widgets/controls",
      "model_module_version": "2.0.0",
      "model_name": "ProgressStyleModel",
      "state": {
       "description_width": ""
      }
     },
     "054f7a67e0bc47c8b5bae44a42fabc17": {
      "model_module": "@jupyter-widgets/base",
      "model_module_version": "2.0.0",
      "model_name": "LayoutModel",
      "state": {}
     },
     "057ca4dcebfa451e9f5f6233e0ba06b2": {
      "model_module": "@jupyter-widgets/controls",
      "model_module_version": "2.0.0",
      "model_name": "HTMLModel",
      "state": {
       "layout": "IPY_MODEL_4b121da8f8e14ef7ab253fa05a0ae06b",
       "style": "IPY_MODEL_5dfbce96a1d54e8cb3d142985c7ba065",
       "value": "hook.frame__tpch__region: 100%"
      }
     },
     "0589c21e1a274ec893028a7c2a70d918": {
      "model_module": "@jupyter-widgets/controls",
      "model_module_version": "2.0.0",
      "model_name": "HTMLStyleModel",
      "state": {
       "description_width": "",
       "font_size": null,
       "text_color": null
      }
     },
     "05a868b1ffd34dd095831ec18a349965": {
      "model_module": "@jupyter-widgets/controls",
      "model_module_version": "2.0.0",
      "model_name": "ProgressStyleModel",
      "state": {
       "description_width": ""
      }
     },
     "05bc1b3f416a4c7eaa5c4ad20afc1c40": {
      "model_module": "@jupyter-widgets/base",
      "model_module_version": "2.0.0",
      "model_name": "LayoutModel",
      "state": {}
     },
     "05c3a63ac4294e67827c17af42816c0c": {
      "model_module": "@jupyter-widgets/controls",
      "model_module_version": "2.0.0",
      "model_name": "HTMLStyleModel",
      "state": {
       "description_width": "",
       "font_size": null,
       "text_color": null
      }
     },
     "05d21b8acfd2472d824a0a4515d56953": {
      "model_module": "@jupyter-widgets/controls",
      "model_module_version": "2.0.0",
      "model_name": "ProgressStyleModel",
      "state": {
       "description_width": ""
      }
     },
     "05da6632a1424f46b5c18933749f0aba": {
      "model_module": "@jupyter-widgets/base",
      "model_module_version": "2.0.0",
      "model_name": "LayoutModel",
      "state": {}
     },
     "05fcf1eb940e4c52a61cdbc7aec01187": {
      "model_module": "@jupyter-widgets/base",
      "model_module_version": "2.0.0",
      "model_name": "LayoutModel",
      "state": {}
     },
     "0609ec62973a4c8b8ab8097bff61a106": {
      "model_module": "@jupyter-widgets/controls",
      "model_module_version": "2.0.0",
      "model_name": "HBoxModel",
      "state": {
       "children": [
        "IPY_MODEL_1e2b259e3f0e43dfa566884fc5ed29ab",
        "IPY_MODEL_7dc64e5200964ec6af9d351a024ab9e1",
        "IPY_MODEL_b40fda10717340c58a9ea228b4a59e64"
       ],
       "layout": "IPY_MODEL_391670af33cc43bd838b3b317c2cc9d9"
      }
     },
     "060ad3b7966b4640a345a07f1b1e9870": {
      "model_module": "@jupyter-widgets/base",
      "model_module_version": "2.0.0",
      "model_name": "LayoutModel",
      "state": {}
     },
     "061c813599c340c2a7c2522a23a9371a": {
      "model_module": "@jupyter-widgets/controls",
      "model_module_version": "2.0.0",
      "model_name": "HTMLStyleModel",
      "state": {
       "description_width": "",
       "font_size": null,
       "text_color": null
      }
     },
     "06269113fcf44e96b8d49d156f39111f": {
      "model_module": "@jupyter-widgets/controls",
      "model_module_version": "2.0.0",
      "model_name": "HTMLModel",
      "state": {
       "layout": "IPY_MODEL_1e47006fa1fe43678ac6daefd08300d8",
       "style": "IPY_MODEL_5bd1ec3026f44a7a99d30293f94d8498",
       "value": " 1/1 [00:00&lt;00:00, 152.87it/s]"
      }
     },
     "062a845503c3436cb8956796fc88f1e2": {
      "model_module": "@jupyter-widgets/base",
      "model_module_version": "2.0.0",
      "model_name": "LayoutModel",
      "state": {}
     },
     "0638b4e67138491ea7228a52ab3e70e8": {
      "model_module": "@jupyter-widgets/base",
      "model_module_version": "2.0.0",
      "model_name": "LayoutModel",
      "state": {}
     },
     "06603a7ab3de424e80284f634e8d7f0b": {
      "model_module": "@jupyter-widgets/controls",
      "model_module_version": "2.0.0",
      "model_name": "HTMLStyleModel",
      "state": {
       "description_width": "",
       "font_size": null,
       "text_color": null
      }
     },
     "0663f64585984bf0be64415061feca6a": {
      "model_module": "@jupyter-widgets/controls",
      "model_module_version": "2.0.0",
      "model_name": "HTMLStyleModel",
      "state": {
       "description_width": "",
       "font_size": null,
       "text_color": null
      }
     },
     "0689639c78ea4802b6a5bd89429afb82": {
      "model_module": "@jupyter-widgets/controls",
      "model_module_version": "2.0.0",
      "model_name": "HTMLStyleModel",
      "state": {
       "description_width": "",
       "font_size": null,
       "text_color": null
      }
     },
     "0691e4fb57cc45259da4be98000f0ead": {
      "model_module": "@jupyter-widgets/base",
      "model_module_version": "2.0.0",
      "model_name": "LayoutModel",
      "state": {}
     },
     "0693b0c3f96140bd8b351fe46e92a839": {
      "model_module": "@jupyter-widgets/base",
      "model_module_version": "2.0.0",
      "model_name": "LayoutModel",
      "state": {}
     },
     "06972a8c79f3465e90284a3faa73ac84": {
      "model_module": "@jupyter-widgets/base",
      "model_module_version": "2.0.0",
      "model_name": "LayoutModel",
      "state": {}
     },
     "06e37ebe7fa046cd817dd2c4394a9cc0": {
      "model_module": "@jupyter-widgets/controls",
      "model_module_version": "2.0.0",
      "model_name": "HTMLStyleModel",
      "state": {
       "description_width": "",
       "font_size": null,
       "text_color": null
      }
     },
     "06f11bde0c3a4ce889a47e73df9b910b": {
      "model_module": "@jupyter-widgets/controls",
      "model_module_version": "2.0.0",
      "model_name": "HTMLModel",
      "state": {
       "layout": "IPY_MODEL_43cf3dec375a4d81b511959959da89aa",
       "style": "IPY_MODEL_376df05a034d45ef876e747271f09ade",
       "value": "hook.frame__tpch__partsupp: 100%"
      }
     },
     "06f27da265794b37a1f95d07e9f087ba": {
      "model_module": "@jupyter-widgets/controls",
      "model_module_version": "2.0.0",
      "model_name": "FloatProgressModel",
      "state": {
       "layout": "IPY_MODEL_92cb06bb4f874162921627382fc20a2d",
       "max": 1,
       "style": "IPY_MODEL_96a57ab93f4844dbab6c5c028055ace8",
       "value": 1
      }
     },
     "07081d64db0e41de9a0cec72dae7a2a9": {
      "model_module": "@jupyter-widgets/controls",
      "model_module_version": "2.0.0",
      "model_name": "ProgressStyleModel",
      "state": {
       "description_width": ""
      }
     },
     "07096e69152d4403a3158325ff8c5688": {
      "model_module": "@jupyter-widgets/controls",
      "model_module_version": "2.0.0",
      "model_name": "ProgressStyleModel",
      "state": {
       "description_width": ""
      }
     },
     "070f16aeca2e44cb822302459ee2ab63": {
      "model_module": "@jupyter-widgets/controls",
      "model_module_version": "2.0.0",
      "model_name": "HTMLModel",
      "state": {
       "layout": "IPY_MODEL_675f4c8b75f24eddb80b4126ebfc1d70",
       "style": "IPY_MODEL_5044f07d017543b1b84ce2c7b7ab1850",
       "value": "hook.frame__tpch__partsupp: nodes...: 100%"
      }
     },
     "072a998d5fff4e7aaf440383970f7569": {
      "model_module": "@jupyter-widgets/base",
      "model_module_version": "2.0.0",
      "model_name": "LayoutModel",
      "state": {}
     },
     "072f2f7557534fafbd3b5f7c98a1d573": {
      "model_module": "@jupyter-widgets/controls",
      "model_module_version": "2.0.0",
      "model_name": "HBoxModel",
      "state": {
       "children": [
        "IPY_MODEL_ffb6dc0c7105426784f7236503a16494",
        "IPY_MODEL_51e9066ee06b49369cd1063348d083ab",
        "IPY_MODEL_76bb00b638c945ea9e28571bd76893ae"
       ],
       "layout": "IPY_MODEL_33f0460673b0471cb2ee0f634e901868"
      }
     },
     "07579f7a6cc74c2e936b5579915a40f1": {
      "model_module": "@jupyter-widgets/controls",
      "model_module_version": "2.0.0",
      "model_name": "HTMLModel",
      "state": {
       "layout": "IPY_MODEL_7dcac37c4d8748629705f307d0ddebcd",
       "style": "IPY_MODEL_8c99bad089274fc9ab18cedff0cb3140",
       "value": " 0/1 [00:00&lt;?, ?it/s]"
      }
     },
     "0762c4b9834d460fab6377585920adf3": {
      "model_module": "@jupyter-widgets/controls",
      "model_module_version": "2.0.0",
      "model_name": "ProgressStyleModel",
      "state": {
       "description_width": ""
      }
     },
     "076957cef631464785a6307dd83cdf11": {
      "model_module": "@jupyter-widgets/base",
      "model_module_version": "2.0.0",
      "model_name": "LayoutModel",
      "state": {}
     },
     "078fae3fd3284e8bbcce8b17d8a51c9e": {
      "model_module": "@jupyter-widgets/controls",
      "model_module_version": "2.0.0",
      "model_name": "HTMLStyleModel",
      "state": {
       "description_width": "",
       "font_size": null,
       "text_color": null
      }
     },
     "07a3f68a29684313b77229a05f744b51": {
      "model_module": "@jupyter-widgets/base",
      "model_module_version": "2.0.0",
      "model_name": "LayoutModel",
      "state": {}
     },
     "07c01f584cb340ce8ca454768b798a39": {
      "model_module": "@jupyter-widgets/base",
      "model_module_version": "2.0.0",
      "model_name": "LayoutModel",
      "state": {
       "visibility": "hidden"
      }
     },
     "07c2489592f042d4acef04db433c612e": {
      "model_module": "@jupyter-widgets/controls",
      "model_module_version": "2.0.0",
      "model_name": "HTMLModel",
      "state": {
       "layout": "IPY_MODEL_140b71ff8d1346ad865962d259471e16",
       "style": "IPY_MODEL_c6698d93cc864b38939b2dce5720ceb7",
       "value": "Scanning for nodes...: 100%"
      }
     },
     "07eecd2f362e4d39a43cb954cc56e361": {
      "model_module": "@jupyter-widgets/controls",
      "model_module_version": "2.0.0",
      "model_name": "FloatProgressModel",
      "state": {
       "bar_style": "success",
       "layout": "IPY_MODEL_abb396294f2e44e5a17fd6c29fe3067b",
       "max": 2,
       "style": "IPY_MODEL_1eecbc5f0105406586226ae8ebb35a38",
       "value": 2
      }
     },
     "081e7cdd5a4d4ebf963ee5606f8b662a": {
      "model_module": "@jupyter-widgets/controls",
      "model_module_version": "2.0.0",
      "model_name": "HTMLModel",
      "state": {
       "layout": "IPY_MODEL_6fdec4eaa2274d3fa07aca0658a41971",
       "style": "IPY_MODEL_713c99e6e80649dfa21541896367eba9",
       "value": "hook.frame__tpch__supplier: edges...: "
      }
     },
     "0829be2263fb4a3d8d0da045668d4ecd": {
      "model_module": "@jupyter-widgets/base",
      "model_module_version": "2.0.0",
      "model_name": "LayoutModel",
      "state": {}
     },
     "082cf8f36c57499e9c4d7ca4100050ea": {
      "model_module": "@jupyter-widgets/base",
      "model_module_version": "2.0.0",
      "model_name": "LayoutModel",
      "state": {}
     },
     "086f97dba65744cbbdbe01526341fad0": {
      "model_module": "@jupyter-widgets/base",
      "model_module_version": "2.0.0",
      "model_name": "LayoutModel",
      "state": {}
     },
     "08773c257a5e41b786b81c2d8438de6d": {
      "model_module": "@jupyter-widgets/controls",
      "model_module_version": "2.0.0",
      "model_name": "HTMLStyleModel",
      "state": {
       "description_width": "",
       "font_size": null,
       "text_color": null
      }
     },
     "08a38461841648bda5c6a102a8fcf95f": {
      "model_module": "@jupyter-widgets/controls",
      "model_module_version": "2.0.0",
      "model_name": "HTMLStyleModel",
      "state": {
       "description_width": "",
       "font_size": null,
       "text_color": null
      }
     },
     "08a8568f781944779227265e8247001f": {
      "model_module": "@jupyter-widgets/base",
      "model_module_version": "2.0.0",
      "model_name": "LayoutModel",
      "state": {
       "flex": "2"
      }
     },
     "08b04b69e6754b57aae04d67be234c92": {
      "model_module": "@jupyter-widgets/controls",
      "model_module_version": "2.0.0",
      "model_name": "FloatProgressModel",
      "state": {
       "bar_style": "success",
       "layout": "IPY_MODEL_5386f71042d04a04b6726196bbe4a32e",
       "max": 2,
       "style": "IPY_MODEL_51258fc8083e4fe2b892d4c49e220ff9",
       "value": 2
      }
     },
     "08cfdabab44b4f5089d629c7ee0b7de9": {
      "model_module": "@jupyter-widgets/controls",
      "model_module_version": "2.0.0",
      "model_name": "FloatProgressModel",
      "state": {
       "bar_style": "success",
       "layout": "IPY_MODEL_8b67089ea9834b4e8e096b75e89030e8",
       "max": 3,
       "style": "IPY_MODEL_846a0b16c19a409685e0cbea4dfdeab2",
       "value": 3
      }
     },
     "08d485ab926e45e290f99ccc2cd022f9": {
      "model_module": "@jupyter-widgets/controls",
      "model_module_version": "2.0.0",
      "model_name": "HTMLStyleModel",
      "state": {
       "description_width": "",
       "font_size": null,
       "text_color": null
      }
     },
     "08dcaafc548a4d5496d90c492b491363": {
      "model_module": "@jupyter-widgets/controls",
      "model_module_version": "2.0.0",
      "model_name": "ProgressStyleModel",
      "state": {
       "description_width": ""
      }
     },
     "0905eba3ff594ae283ed7cc2784f56a4": {
      "model_module": "@jupyter-widgets/base",
      "model_module_version": "2.0.0",
      "model_name": "LayoutModel",
      "state": {}
     },
     "092071c73e934e05aa9400f1b8bd364f": {
      "model_module": "@jupyter-widgets/base",
      "model_module_version": "2.0.0",
      "model_name": "LayoutModel",
      "state": {}
     },
     "0929f5938e5d4568a050a0e0ffd1fc1f": {
      "model_module": "@jupyter-widgets/base",
      "model_module_version": "2.0.0",
      "model_name": "LayoutModel",
      "state": {}
     },
     "094ec30e1b2d4f279dc2b5a367b67bbc": {
      "model_module": "@jupyter-widgets/base",
      "model_module_version": "2.0.0",
      "model_name": "LayoutModel",
      "state": {}
     },
     "09501733c73b47d1af0aeb3a1efbe298": {
      "model_module": "@jupyter-widgets/controls",
      "model_module_version": "2.0.0",
      "model_name": "HTMLStyleModel",
      "state": {
       "description_width": "",
       "font_size": null,
       "text_color": null
      }
     },
     "096fa30be0a048858a90c65958fa5b14": {
      "model_module": "@jupyter-widgets/base",
      "model_module_version": "2.0.0",
      "model_name": "LayoutModel",
      "state": {}
     },
     "097adfd9f9334cb4b08e95b3c84a3207": {
      "model_module": "@jupyter-widgets/controls",
      "model_module_version": "2.0.0",
      "model_name": "HTMLStyleModel",
      "state": {
       "description_width": "",
       "font_size": null,
       "text_color": null
      }
     },
     "0990728dddbc40e48131cad230be937b": {
      "model_module": "@jupyter-widgets/base",
      "model_module_version": "2.0.0",
      "model_name": "LayoutModel",
      "state": {}
     },
     "09c3df64e068454b82536f5956617f9c": {
      "model_module": "@jupyter-widgets/controls",
      "model_module_version": "2.0.0",
      "model_name": "HTMLModel",
      "state": {
       "layout": "IPY_MODEL_e85bfebdaa564c64b7eb67f854617ffb",
       "style": "IPY_MODEL_b6065954cef04fcf8d24460ef5d4cf65",
       "value": "hook.frame__tpch__lineitem: 100%"
      }
     },
     "09c93829a03440f59a19e4a295dacfa8": {
      "model_module": "@jupyter-widgets/base",
      "model_module_version": "2.0.0",
      "model_name": "LayoutModel",
      "state": {}
     },
     "09f915049d4d4569b7d78bae8e4b9252": {
      "model_module": "@jupyter-widgets/base",
      "model_module_version": "2.0.0",
      "model_name": "LayoutModel",
      "state": {}
     },
     "09fcd2cf2a294aca9e62cad317a3366e": {
      "model_module": "@jupyter-widgets/base",
      "model_module_version": "2.0.0",
      "model_name": "LayoutModel",
      "state": {}
     },
     "0a005278da6e47ffac264af1dd22d30e": {
      "model_module": "@jupyter-widgets/controls",
      "model_module_version": "2.0.0",
      "model_name": "HTMLStyleModel",
      "state": {
       "description_width": "",
       "font_size": null,
       "text_color": null
      }
     },
     "0a0f69ab2cb446e98772f66281bb0895": {
      "model_module": "@jupyter-widgets/controls",
      "model_module_version": "2.0.0",
      "model_name": "HTMLModel",
      "state": {
       "layout": "IPY_MODEL_1b607eeaacdc405bacb009d537da652e",
       "style": "IPY_MODEL_0ab73788782d4b8289c1b2eb61e2d857",
       "value": "Scanning hook.frame__tpch__lineitem:  50%"
      }
     },
     "0a25b05dd82c498aa7479d4678290cbe": {
      "model_module": "@jupyter-widgets/controls",
      "model_module_version": "2.0.0",
      "model_name": "HTMLModel",
      "state": {
       "layout": "IPY_MODEL_a3d8052082134403bdc93acb00a975ba",
       "style": "IPY_MODEL_0382c73db5604452b8e1abcae5d029da",
       "value": "hook.frame__tpch__customer (nodes)...: 100%"
      }
     },
     "0a4b06be27a545fba50ea03a513537b6": {
      "model_module": "@jupyter-widgets/base",
      "model_module_version": "2.0.0",
      "model_name": "LayoutModel",
      "state": {}
     },
     "0a5b3123479c4a7eaf286e44470916a8": {
      "model_module": "@jupyter-widgets/controls",
      "model_module_version": "2.0.0",
      "model_name": "HTMLStyleModel",
      "state": {
       "description_width": "",
       "font_size": null,
       "text_color": null
      }
     },
     "0a662b25c87b46e48ac2e5bfa86ad29a": {
      "model_module": "@jupyter-widgets/controls",
      "model_module_version": "2.0.0",
      "model_name": "HBoxModel",
      "state": {
       "children": [
        "IPY_MODEL_98a8a1c5a5804248b947433c086f4082",
        "IPY_MODEL_97ff96b033c84c3d9fa1aa781ab77d05",
        "IPY_MODEL_1a1d8ca464f44ef194a23e2358e53d11"
       ],
       "layout": "IPY_MODEL_3f6dfd1eb80340c88a21939d66848bde"
      }
     },
     "0a6c7dabb73f4ca5b88571c30d188aa0": {
      "model_module": "@jupyter-widgets/controls",
      "model_module_version": "2.0.0",
      "model_name": "HBoxModel",
      "state": {
       "children": [
        "IPY_MODEL_4ffee3ad1be24167b58d42f5eba5aa93",
        "IPY_MODEL_cc49ce1b82004cc3a0a23b1f26db50c0",
        "IPY_MODEL_96a29f03ee5341558f6bd69457fbbb76"
       ],
       "layout": "IPY_MODEL_a0f75fc84b9f49aa85f8c29dd99371b6"
      }
     },
     "0ab73788782d4b8289c1b2eb61e2d857": {
      "model_module": "@jupyter-widgets/controls",
      "model_module_version": "2.0.0",
      "model_name": "HTMLStyleModel",
      "state": {
       "description_width": "",
       "font_size": null,
       "text_color": null
      }
     },
     "0ac2af1b025947efa753f698e10df7ca": {
      "model_module": "@jupyter-widgets/base",
      "model_module_version": "2.0.0",
      "model_name": "LayoutModel",
      "state": {}
     },
     "0af3b15a37b34330bf8eab8c9a09fd45": {
      "model_module": "@jupyter-widgets/controls",
      "model_module_version": "2.0.0",
      "model_name": "ProgressStyleModel",
      "state": {
       "description_width": ""
      }
     },
     "0b0fcbbd92bf472bbe08b2514951afa9": {
      "model_module": "@jupyter-widgets/controls",
      "model_module_version": "2.0.0",
      "model_name": "HBoxModel",
      "state": {
       "children": [
        "IPY_MODEL_4865af3dd0004162aa515550ff7cdc5c",
        "IPY_MODEL_844da6567ed54dceb5d9c6979e08401d",
        "IPY_MODEL_0150dad39e7446b9bb766fea0e68945b"
       ],
       "layout": "IPY_MODEL_5d8f37d76457449db79a95a27a78c4f5"
      }
     },
     "0b522fab6ef54b538922bedeade22356": {
      "model_module": "@jupyter-widgets/controls",
      "model_module_version": "2.0.0",
      "model_name": "HTMLStyleModel",
      "state": {
       "description_width": "",
       "font_size": null,
       "text_color": null
      }
     },
     "0b674f0d56554b0cb6f3fe65d677d120": {
      "model_module": "@jupyter-widgets/base",
      "model_module_version": "2.0.0",
      "model_name": "LayoutModel",
      "state": {}
     },
     "0b7a9e8e112649c881f7e624fdfe7675": {
      "model_module": "@jupyter-widgets/controls",
      "model_module_version": "2.0.0",
      "model_name": "HTMLStyleModel",
      "state": {
       "description_width": "",
       "font_size": null,
       "text_color": null
      }
     },
     "0b808bc7ca3643f0bf09cde1c4a2821e": {
      "model_module": "@jupyter-widgets/controls",
      "model_module_version": "2.0.0",
      "model_name": "HTMLModel",
      "state": {
       "layout": "IPY_MODEL_b8abf7e622ce4674bdac73aceceb7633",
       "style": "IPY_MODEL_1d04418b5d0c4c68bfd4541aab62d98a",
       "value": " 8/8 [00:47&lt;00:00,  5.22s/it]"
      }
     },
     "0b99f3ef325b4553b6db5e2fe2d1d15f": {
      "model_module": "@jupyter-widgets/base",
      "model_module_version": "2.0.0",
      "model_name": "LayoutModel",
      "state": {}
     },
     "0ba1302e61fe4bbba731335fca905454": {
      "model_module": "@jupyter-widgets/controls",
      "model_module_version": "2.0.0",
      "model_name": "HTMLStyleModel",
      "state": {
       "description_width": "",
       "font_size": null,
       "text_color": null
      }
     },
     "0bb5baa51f9047c499a038421754511d": {
      "model_module": "@jupyter-widgets/controls",
      "model_module_version": "2.0.0",
      "model_name": "ProgressStyleModel",
      "state": {
       "description_width": ""
      }
     },
     "0bb6d3bff36d4deb90c22375a787290a": {
      "model_module": "@jupyter-widgets/controls",
      "model_module_version": "2.0.0",
      "model_name": "HBoxModel",
      "state": {
       "children": [
        "IPY_MODEL_5eda7b16b2324f2fb23df7e6855d046b",
        "IPY_MODEL_2f7888e5085144bcb410eff70c2cc1f9",
        "IPY_MODEL_54f1cc4566c3455b9c523ea12d74ce0e"
       ],
       "layout": "IPY_MODEL_b2f21d30716d4e3caab3459571898647"
      }
     },
     "0bdb768a65f4454698ef18ef8836afe7": {
      "model_module": "@jupyter-widgets/controls",
      "model_module_version": "2.0.0",
      "model_name": "HBoxModel",
      "state": {
       "children": [
        "IPY_MODEL_7152599f62fc4d2d81e867cd7f7e3055",
        "IPY_MODEL_f530d4581cdd4f419b7abce0dedbf4e6",
        "IPY_MODEL_3d3a9a562de7422885c5ba71e00313f7"
       ],
       "layout": "IPY_MODEL_19837a5d8c054cf4ac6e35ded26a6a31"
      }
     },
     "0c00d2398c104ce9b676587f42cf62ea": {
      "model_module": "@jupyter-widgets/controls",
      "model_module_version": "2.0.0",
      "model_name": "ProgressStyleModel",
      "state": {
       "description_width": ""
      }
     },
     "0c1efb735e98477db84ac3e2d0e230bc": {
      "model_module": "@jupyter-widgets/controls",
      "model_module_version": "2.0.0",
      "model_name": "FloatProgressModel",
      "state": {
       "bar_style": "success",
       "layout": "IPY_MODEL_c16e14c7464b4597a721ba2d3bfae141",
       "max": 6,
       "style": "IPY_MODEL_d55e5b29683049f5b1e0e3b247acfe4c",
       "value": 6
      }
     },
     "0c382e9aeaad45d4ad6feeb9ccd817b9": {
      "model_module": "@jupyter-widgets/controls",
      "model_module_version": "2.0.0",
      "model_name": "ProgressStyleModel",
      "state": {
       "description_width": ""
      }
     },
     "0c554a5326da427da8e65acfff79414a": {
      "model_module": "@jupyter-widgets/controls",
      "model_module_version": "2.0.0",
      "model_name": "HTMLStyleModel",
      "state": {
       "description_width": "",
       "font_size": null,
       "text_color": null
      }
     },
     "0c81b71c67204d24a12fee474b7f648b": {
      "model_module": "@jupyter-widgets/controls",
      "model_module_version": "2.0.0",
      "model_name": "HTMLModel",
      "state": {
       "layout": "IPY_MODEL_fcb0e2b399e44171802097f231ece1e6",
       "style": "IPY_MODEL_1aae91976deb4b1ab07b10484b7c13ca",
       "value": " 1/2 [00:01&lt;00:01,  1.19s/it]"
      }
     },
     "0c8a018a0adb48fa86f6485bf4645d0e": {
      "model_module": "@jupyter-widgets/controls",
      "model_module_version": "2.0.0",
      "model_name": "HTMLModel",
      "state": {
       "layout": "IPY_MODEL_f58a6b73061d430289100abf170aa420",
       "style": "IPY_MODEL_f2cc446450004d2f8190482ec5d95f3b",
       "value": "hook.frame__tpch__orders: 100%"
      }
     },
     "0cab628c65d04ba0abef303fc6e5769c": {
      "model_module": "@jupyter-widgets/base",
      "model_module_version": "2.0.0",
      "model_name": "LayoutModel",
      "state": {}
     },
     "0ccfcc5e770a45b4b8f1033487457500": {
      "model_module": "@jupyter-widgets/base",
      "model_module_version": "2.0.0",
      "model_name": "LayoutModel",
      "state": {}
     },
     "0cd9e84ac8ed42deadc4a07fa631c2fe": {
      "model_module": "@jupyter-widgets/controls",
      "model_module_version": "2.0.0",
      "model_name": "ProgressStyleModel",
      "state": {
       "description_width": ""
      }
     },
     "0cdbbbd9542d44229720e3cdcfd759ad": {
      "model_module": "@jupyter-widgets/controls",
      "model_module_version": "2.0.0",
      "model_name": "HTMLModel",
      "state": {
       "layout": "IPY_MODEL_dcff33af18544cc197c41fd54e1df8f1",
       "style": "IPY_MODEL_493d5a58bc7e49e08436b2857e1e9632",
       "value": " 0/1 [00:00&lt;?, ?it/s]"
      }
     },
     "0ce3d58f8dfd4ee4accd1eceb212f0b0": {
      "model_module": "@jupyter-widgets/base",
      "model_module_version": "2.0.0",
      "model_name": "LayoutModel",
      "state": {}
     },
     "0d0d30bc999b4c0ba701907316b047ba": {
      "model_module": "@jupyter-widgets/base",
      "model_module_version": "2.0.0",
      "model_name": "LayoutModel",
      "state": {}
     },
     "0d2bbd91f1e9458fa9ea6f823da13ef3": {
      "model_module": "@jupyter-widgets/controls",
      "model_module_version": "2.0.0",
      "model_name": "FloatProgressModel",
      "state": {
       "bar_style": "success",
       "layout": "IPY_MODEL_de55001ae74a4c558469fab4b2a40823",
       "max": 8,
       "style": "IPY_MODEL_605ab31cdec94dc4b725a10463dd1f2b",
       "value": 8
      }
     },
     "0d32659ddc5740e6aee8ac82dfe3f4b2": {
      "model_module": "@jupyter-widgets/base",
      "model_module_version": "2.0.0",
      "model_name": "LayoutModel",
      "state": {}
     },
     "0d47b4a85b4d40118dd34c2d36a2f326": {
      "model_module": "@jupyter-widgets/controls",
      "model_module_version": "2.0.0",
      "model_name": "ProgressStyleModel",
      "state": {
       "description_width": ""
      }
     },
     "0d4af63ed8e44f6eb5e35387bdd21a77": {
      "model_module": "@jupyter-widgets/base",
      "model_module_version": "2.0.0",
      "model_name": "LayoutModel",
      "state": {}
     },
     "0d528bb3dc3a4cb182e732cfa1ed8101": {
      "model_module": "@jupyter-widgets/base",
      "model_module_version": "2.0.0",
      "model_name": "LayoutModel",
      "state": {}
     },
     "0d5737bb12554c9fadaf284a008e6bed": {
      "model_module": "@jupyter-widgets/base",
      "model_module_version": "2.0.0",
      "model_name": "LayoutModel",
      "state": {}
     },
     "0d8e24cafc164fe6a353f0c27e3ecd80": {
      "model_module": "@jupyter-widgets/controls",
      "model_module_version": "2.0.0",
      "model_name": "HTMLModel",
      "state": {
       "layout": "IPY_MODEL_07a3f68a29684313b77229a05f744b51",
       "style": "IPY_MODEL_adc94a083d5840e0bf2f142cf349db75",
       "value": " 1/2 [00:01&lt;00:01,  1.10s/it]"
      }
     },
     "0dad0bd5dc1946c2a865ff3a487e564d": {
      "model_module": "@jupyter-widgets/base",
      "model_module_version": "2.0.0",
      "model_name": "LayoutModel",
      "state": {}
     },
     "0db94bb0348c4159ab569a05c619e396": {
      "model_module": "@jupyter-widgets/controls",
      "model_module_version": "2.0.0",
      "model_name": "HTMLStyleModel",
      "state": {
       "description_width": "",
       "font_size": null,
       "text_color": null
      }
     },
     "0dc24344583a48408323adef92ce6555": {
      "model_module": "@jupyter-widgets/controls",
      "model_module_version": "2.0.0",
      "model_name": "HBoxModel",
      "state": {
       "children": [
        "IPY_MODEL_0283ff4957c542d992873643444fbdff",
        "IPY_MODEL_9cfa82e79ac14652883e1742ab0fa9bd",
        "IPY_MODEL_779acd58e24c4b2ba9e442b6f4fa4c4a"
       ],
       "layout": "IPY_MODEL_d1ad4095483f460084ffe9d28044219e"
      }
     },
     "0dc4e512aa0a4ae9bf6f4f10a2415c63": {
      "model_module": "@jupyter-widgets/controls",
      "model_module_version": "2.0.0",
      "model_name": "HTMLStyleModel",
      "state": {
       "description_width": "",
       "font_size": null,
       "text_color": null
      }
     },
     "0dcad528673841a5b3353eeda96293e5": {
      "model_module": "@jupyter-widgets/controls",
      "model_module_version": "2.0.0",
      "model_name": "HTMLModel",
      "state": {
       "layout": "IPY_MODEL_816e3f7689bc4812bee7628048ec5578",
       "style": "IPY_MODEL_4582df950a2a4cd5919f80a9eba48b17",
       "value": "hook.frame__tpch__orders (nodes)...: 100%"
      }
     },
     "0dec8e7a440e418ca40e3a1928b20dcd": {
      "model_module": "@jupyter-widgets/base",
      "model_module_version": "2.0.0",
      "model_name": "LayoutModel",
      "state": {}
     },
     "0e05029d6c45437cb1e80e39c1668cbb": {
      "model_module": "@jupyter-widgets/controls",
      "model_module_version": "2.0.0",
      "model_name": "HBoxModel",
      "state": {
       "children": [
        "IPY_MODEL_0a25b05dd82c498aa7479d4678290cbe",
        "IPY_MODEL_4ca69e6caa03486ab271fb71c20b815e",
        "IPY_MODEL_e2f9733b3a7f4f3ca40faaee832f9037"
       ],
       "layout": "IPY_MODEL_0905eba3ff594ae283ed7cc2784f56a4"
      }
     },
     "0e314f336bfc40d9af724c78a2274bed": {
      "model_module": "@jupyter-widgets/base",
      "model_module_version": "2.0.0",
      "model_name": "LayoutModel",
      "state": {
       "visibility": "hidden"
      }
     },
     "0e4ac96e2b7946e3877d72826919e52a": {
      "model_module": "@jupyter-widgets/controls",
      "model_module_version": "2.0.0",
      "model_name": "HTMLStyleModel",
      "state": {
       "description_width": "",
       "font_size": null,
       "text_color": null
      }
     },
     "0e7278c1089f40e0a12a35883e5fa046": {
      "model_module": "@jupyter-widgets/base",
      "model_module_version": "2.0.0",
      "model_name": "LayoutModel",
      "state": {}
     },
     "0e8439f18b8b457fb1d5a73c1136ca18": {
      "model_module": "@jupyter-widgets/controls",
      "model_module_version": "2.0.0",
      "model_name": "HBoxModel",
      "state": {
       "children": [
        "IPY_MODEL_4ebeaba7be84453ab60313ecd5eb9b0d",
        "IPY_MODEL_48c557e385214f5586af0fe21c28e097",
        "IPY_MODEL_6d84b101007a4bd48fb891071934650f"
       ],
       "layout": "IPY_MODEL_8bd96905766c4e33b953214542c7267a"
      }
     },
     "0ea2f79fd4eb43189478d03304b6e41d": {
      "model_module": "@jupyter-widgets/controls",
      "model_module_version": "2.0.0",
      "model_name": "ProgressStyleModel",
      "state": {
       "description_width": ""
      }
     },
     "0ea8ab63dc404125b35d983a4589805d": {
      "model_module": "@jupyter-widgets/controls",
      "model_module_version": "2.0.0",
      "model_name": "FloatProgressModel",
      "state": {
       "bar_style": "success",
       "layout": "IPY_MODEL_910c74b4e0544e2f8fb997cab02e7a88",
       "max": 2,
       "style": "IPY_MODEL_6ce0279ede68473298ec0d37c55b56ea",
       "value": 2
      }
     },
     "0ee18d104ec14f678bcc3328834c130f": {
      "model_module": "@jupyter-widgets/base",
      "model_module_version": "2.0.0",
      "model_name": "LayoutModel",
      "state": {}
     },
     "0f48e53fb67f40e9838a36718061f1a7": {
      "model_module": "@jupyter-widgets/controls",
      "model_module_version": "2.0.0",
      "model_name": "HTMLStyleModel",
      "state": {
       "description_width": "",
       "font_size": null,
       "text_color": null
      }
     },
     "0f6760bc594d4cd787e5e55d97fb0bf8": {
      "model_module": "@jupyter-widgets/controls",
      "model_module_version": "2.0.0",
      "model_name": "HTMLStyleModel",
      "state": {
       "description_width": "",
       "font_size": null,
       "text_color": null
      }
     },
     "0f8b8c238abc49878abe856c31d4610d": {
      "model_module": "@jupyter-widgets/controls",
      "model_module_version": "2.0.0",
      "model_name": "HTMLModel",
      "state": {
       "layout": "IPY_MODEL_f9c36aed219a413786dbb03881907048",
       "style": "IPY_MODEL_b4220d0e7f194dc7b3accdc2de0a7ce3",
       "value": "Scanning for nodes...: 100%"
      }
     },
     "0f93ac1adb8e431f8fc23f9854422bac": {
      "model_module": "@jupyter-widgets/base",
      "model_module_version": "2.0.0",
      "model_name": "LayoutModel",
      "state": {
       "width": "20px"
      }
     },
     "0fcab43eaf4d48cf9fba7a4cdabe4189": {
      "model_module": "@jupyter-widgets/controls",
      "model_module_version": "2.0.0",
      "model_name": "ProgressStyleModel",
      "state": {
       "description_width": ""
      }
     },
     "0fd3eafe94ad408391bd1697a4630d29": {
      "model_module": "@jupyter-widgets/controls",
      "model_module_version": "2.0.0",
      "model_name": "HTMLModel",
      "state": {
       "layout": "IPY_MODEL_a7b17ed71a724b7d9a79ba04e443c355",
       "style": "IPY_MODEL_9c0d63c4e3754350b3abb0bb889d5a5e",
       "value": "Scanning frames: 100%"
      }
     },
     "0fe423a320e54595b9203d2167630426": {
      "model_module": "@jupyter-widgets/controls",
      "model_module_version": "2.0.0",
      "model_name": "HTMLModel",
      "state": {
       "layout": "IPY_MODEL_c818db67140244dea3405c663aa57b7e",
       "style": "IPY_MODEL_189eb82cc53f4db286c117fbde8e6d1b",
       "value": " 1/2 [00:31&lt;00:31, 31.36s/it]"
      }
     },
     "100a927dc67147bfbc25ffbd53c8cb04": {
      "model_module": "@jupyter-widgets/base",
      "model_module_version": "2.0.0",
      "model_name": "LayoutModel",
      "state": {}
     },
     "10122a60207b477fafaf88310df719ad": {
      "model_module": "@jupyter-widgets/controls",
      "model_module_version": "2.0.0",
      "model_name": "HBoxModel",
      "state": {
       "children": [
        "IPY_MODEL_f32727c635e640579345ab216853b47f",
        "IPY_MODEL_7df55effecf04cddb65208b88b211fe5",
        "IPY_MODEL_1c047e1ee6d8459e9e856633321933ae"
       ],
       "layout": "IPY_MODEL_78a3e6cf0ba04a3e8615e36831649c5d"
      }
     },
     "102af84bd79a41109ef0fa8030dd5461": {
      "model_module": "@jupyter-widgets/base",
      "model_module_version": "2.0.0",
      "model_name": "LayoutModel",
      "state": {}
     },
     "10597857b4cb4b2584c7ba2eb1052faf": {
      "model_module": "@jupyter-widgets/controls",
      "model_module_version": "2.0.0",
      "model_name": "HBoxModel",
      "state": {
       "children": [
        "IPY_MODEL_1eb71ede220b4d9daf0121df1264b1fd",
        "IPY_MODEL_4e040583956e43118fe6594500699300",
        "IPY_MODEL_171a6c860f4a418fa42615dabdea3275"
       ],
       "layout": "IPY_MODEL_06972a8c79f3465e90284a3faa73ac84"
      }
     },
     "1074ec16eaa74d6a8ce11740eee5ca83": {
      "model_module": "@jupyter-widgets/base",
      "model_module_version": "2.0.0",
      "model_name": "LayoutModel",
      "state": {}
     },
     "10861c5fca0c4df2b447f1d8c4f025b8": {
      "model_module": "@jupyter-widgets/base",
      "model_module_version": "2.0.0",
      "model_name": "LayoutModel",
      "state": {
       "visibility": "hidden"
      }
     },
     "10e29229d787447a90f5f879db26eb3d": {
      "model_module": "@jupyter-widgets/controls",
      "model_module_version": "2.0.0",
      "model_name": "HTMLStyleModel",
      "state": {
       "description_width": "",
       "font_size": null,
       "text_color": null
      }
     },
     "1116fbf01f404b5aa1c42c3f740b2bf4": {
      "model_module": "@jupyter-widgets/controls",
      "model_module_version": "2.0.0",
      "model_name": "HTMLModel",
      "state": {
       "layout": "IPY_MODEL_ea01f51c00be425c96439fb739903b99",
       "style": "IPY_MODEL_18a6f0e321754702a8d7d068639442cb",
       "value": " 4/4 [00:31&lt;00:00,  8.00s/it]"
      }
     },
     "112b3e77e189469aa300e975ed471f61": {
      "model_module": "@jupyter-widgets/controls",
      "model_module_version": "2.0.0",
      "model_name": "FloatProgressModel",
      "state": {
       "bar_style": "success",
       "layout": "IPY_MODEL_3efe4e07ff2949c78ee28dfeb2d5c891",
       "max": 2,
       "style": "IPY_MODEL_af6256faa57144449f6a57c961a73708",
       "value": 2
      }
     },
     "113981073a5a47af9d590729de9ecd8b": {
      "model_module": "@jupyter-widgets/controls",
      "model_module_version": "2.0.0",
      "model_name": "HTMLModel",
      "state": {
       "layout": "IPY_MODEL_838f1741847b4fe3a5ac47d8f9a445d2",
       "style": "IPY_MODEL_e1c93c26b4544eb399c1c948852f6b9e",
       "value": "hook.frame__tpch__customer: 100%"
      }
     },
     "1151a2898e30486d8c3a97f6538d1943": {
      "model_module": "@jupyter-widgets/base",
      "model_module_version": "2.0.0",
      "model_name": "LayoutModel",
      "state": {}
     },
     "115e26fccfcc418b855095729e233120": {
      "model_module": "@jupyter-widgets/base",
      "model_module_version": "2.0.0",
      "model_name": "LayoutModel",
      "state": {}
     },
     "116aafb683524591bd28bf7ac0501dbf": {
      "model_module": "@jupyter-widgets/controls",
      "model_module_version": "2.0.0",
      "model_name": "HTMLStyleModel",
      "state": {
       "description_width": "",
       "font_size": null,
       "text_color": null
      }
     },
     "117f2d5e065948a4a10dd9d585f8709a": {
      "model_module": "@jupyter-widgets/base",
      "model_module_version": "2.0.0",
      "model_name": "LayoutModel",
      "state": {
       "visibility": "hidden"
      }
     },
     "11d9d0896ef44b1d8d75eedd939f70d3": {
      "model_module": "@jupyter-widgets/controls",
      "model_module_version": "2.0.0",
      "model_name": "HTMLModel",
      "state": {
       "layout": "IPY_MODEL_8134434cb4ec4366a1750b147b4742f5",
       "style": "IPY_MODEL_99c7089d664f4219b40d84ae0182dc55",
       "value": "Scanning for nodes...: 100%"
      }
     },
     "11ed4ddd87a04453bea23fee84ef1ec6": {
      "model_module": "@jupyter-widgets/controls",
      "model_module_version": "2.0.0",
      "model_name": "HTMLStyleModel",
      "state": {
       "description_width": "",
       "font_size": null,
       "text_color": null
      }
     },
     "11f329e40a674ef7a6788652c30377d9": {
      "model_module": "@jupyter-widgets/base",
      "model_module_version": "2.0.0",
      "model_name": "LayoutModel",
      "state": {}
     },
     "11f7931ae53040e295af17e49fe58ce9": {
      "model_module": "@jupyter-widgets/base",
      "model_module_version": "2.0.0",
      "model_name": "LayoutModel",
      "state": {}
     },
     "12837fba86d842c4b7cb2fed2e0f16a4": {
      "model_module": "@jupyter-widgets/base",
      "model_module_version": "2.0.0",
      "model_name": "LayoutModel",
      "state": {}
     },
     "12917c82e8144417bc391a47c0072ee2": {
      "model_module": "@jupyter-widgets/controls",
      "model_module_version": "2.0.0",
      "model_name": "ProgressStyleModel",
      "state": {
       "description_width": ""
      }
     },
     "12a1b56b84ce4d388130cfab394742c4": {
      "model_module": "@jupyter-widgets/controls",
      "model_module_version": "2.0.0",
      "model_name": "FloatProgressModel",
      "state": {
       "bar_style": "success",
       "layout": "IPY_MODEL_42ae3f68006843439da4136bfa2611ea",
       "max": 2,
       "style": "IPY_MODEL_9e08ccfdb0024eacb0c8ad3498eebbab",
       "value": 2
      }
     },
     "12ad5a0e9ac84d068917af25cefe9360": {
      "model_module": "@jupyter-widgets/controls",
      "model_module_version": "2.0.0",
      "model_name": "HTMLModel",
      "state": {
       "layout": "IPY_MODEL_61da5475b7bc4a22be598e48b84b29ae",
       "style": "IPY_MODEL_594a0148e4cd4e34af53a85cb82f9ef1",
       "value": "Scanning for edges...:   0%"
      }
     },
     "12c2f856fd284ac2b45d240e667b916f": {
      "model_module": "@jupyter-widgets/controls",
      "model_module_version": "2.0.0",
      "model_name": "HTMLModel",
      "state": {
       "layout": "IPY_MODEL_1d62978b91a04ec7bcf963ce5c996a70",
       "style": "IPY_MODEL_eee7439073e447afb0f1ecc59d76f021",
       "value": " 2/2 [00:01&lt;00:00,  1.03s/it]"
      }
     },
     "12c68921c931413bbc131010cbf6ab5b": {
      "model_module": "@jupyter-widgets/base",
      "model_module_version": "2.0.0",
      "model_name": "LayoutModel",
      "state": {}
     },
     "12eaca34dd654566872d1a0f4768dd94": {
      "model_module": "@jupyter-widgets/controls",
      "model_module_version": "2.0.0",
      "model_name": "HTMLModel",
      "state": {
       "layout": "IPY_MODEL_6556ee0275304b849ee4eed4578c46b7",
       "style": "IPY_MODEL_21c8c7989a0c4f6b93be29750af96e36",
       "value": " 2/2 [00:01&lt;00:00,  1.72it/s]"
      }
     },
     "12ee143638ac480ca1579d0144e4d64a": {
      "model_module": "@jupyter-widgets/base",
      "model_module_version": "2.0.0",
      "model_name": "LayoutModel",
      "state": {
       "flex": "2"
      }
     },
     "12f2136e66e046b2a52c3bede4537684": {
      "model_module": "@jupyter-widgets/controls",
      "model_module_version": "2.0.0",
      "model_name": "FloatProgressModel",
      "state": {
       "bar_style": "success",
       "layout": "IPY_MODEL_e6dc9e034dce4f31b0075d5b5b47de4c",
       "max": 6,
       "style": "IPY_MODEL_1c207012091846719ca987bccc21911f",
       "value": 6
      }
     },
     "131ea0459ebe487e988bcfc3081c51b2": {
      "model_module": "@jupyter-widgets/base",
      "model_module_version": "2.0.0",
      "model_name": "LayoutModel",
      "state": {}
     },
     "1368640db99b4c2eab13ef1e63ed4a12": {
      "model_module": "@jupyter-widgets/base",
      "model_module_version": "2.0.0",
      "model_name": "LayoutModel",
      "state": {}
     },
     "137b47fb4ff94f4bbd5a7699c948eedb": {
      "model_module": "@jupyter-widgets/controls",
      "model_module_version": "2.0.0",
      "model_name": "HTMLStyleModel",
      "state": {
       "description_width": "",
       "font_size": null,
       "text_color": null
      }
     },
     "13873b333af24fb4830b8912ce47dec5": {
      "model_module": "@jupyter-widgets/controls",
      "model_module_version": "2.0.0",
      "model_name": "HTMLStyleModel",
      "state": {
       "description_width": "",
       "font_size": null,
       "text_color": null
      }
     },
     "13ce86aafeda451cad89389491dae76a": {
      "model_module": "@jupyter-widgets/controls",
      "model_module_version": "2.0.0",
      "model_name": "HTMLModel",
      "state": {
       "layout": "IPY_MODEL_096fa30be0a048858a90c65958fa5b14",
       "style": "IPY_MODEL_af1d2160d42a40a792f56b248be637ff",
       "value": " 1/1 [00:00&lt;00:00, 193.38it/s]"
      }
     },
     "13d4a7bc98044feaa9d3a67b3cf85649": {
      "model_module": "@jupyter-widgets/controls",
      "model_module_version": "2.0.0",
      "model_name": "FloatProgressModel",
      "state": {
       "bar_style": "success",
       "layout": "IPY_MODEL_cc0554796feb4833bc231f54dc54890e",
       "max": 1,
       "style": "IPY_MODEL_0447c86c821e4881bee351b409ccb051",
       "value": 1
      }
     },
     "13df32bbed9940b58069d667dcc8cf77": {
      "model_module": "@jupyter-widgets/controls",
      "model_module_version": "2.0.0",
      "model_name": "HTMLStyleModel",
      "state": {
       "description_width": "",
       "font_size": null,
       "text_color": null
      }
     },
     "13efcff82e3e4e40bf8eff67ae4653a9": {
      "model_module": "@jupyter-widgets/controls",
      "model_module_version": "2.0.0",
      "model_name": "HTMLStyleModel",
      "state": {
       "description_width": "",
       "font_size": null,
       "text_color": null
      }
     },
     "140b71ff8d1346ad865962d259471e16": {
      "model_module": "@jupyter-widgets/base",
      "model_module_version": "2.0.0",
      "model_name": "LayoutModel",
      "state": {}
     },
     "142278c53a72470b9a22a3b7a846bd4f": {
      "model_module": "@jupyter-widgets/controls",
      "model_module_version": "2.0.0",
      "model_name": "HTMLModel",
      "state": {
       "layout": "IPY_MODEL_2e5589ef8f0047208db7500950618f0a",
       "style": "IPY_MODEL_06603a7ab3de424e80284f634e8d7f0b",
       "value": " 1/1 [00:00&lt;00:00,  1.11it/s]"
      }
     },
     "14741da87d54476f8315cb0866687079": {
      "model_module": "@jupyter-widgets/base",
      "model_module_version": "2.0.0",
      "model_name": "LayoutModel",
      "state": {}
     },
     "1480c6aa6d364ee6ad892562e06f50bf": {
      "model_module": "@jupyter-widgets/controls",
      "model_module_version": "2.0.0",
      "model_name": "HTMLStyleModel",
      "state": {
       "description_width": "",
       "font_size": null,
       "text_color": null
      }
     },
     "14936d6bb87b416ba7b0188115e50f62": {
      "model_module": "@jupyter-widgets/controls",
      "model_module_version": "2.0.0",
      "model_name": "HTMLStyleModel",
      "state": {
       "description_width": "",
       "font_size": null,
       "text_color": null
      }
     },
     "14ad9f1ac4834fdea4e3be93fcf03d2c": {
      "model_module": "@jupyter-widgets/base",
      "model_module_version": "2.0.0",
      "model_name": "LayoutModel",
      "state": {}
     },
     "14af962c7de24da0afbe05002a9f058e": {
      "model_module": "@jupyter-widgets/controls",
      "model_module_version": "2.0.0",
      "model_name": "ProgressStyleModel",
      "state": {
       "description_width": ""
      }
     },
     "14ca2aaacb9c4763a724570ab46207b3": {
      "model_module": "@jupyter-widgets/base",
      "model_module_version": "2.0.0",
      "model_name": "LayoutModel",
      "state": {
       "visibility": "hidden"
      }
     },
     "14d1cb9610864a22a98e56c1b0126f37": {
      "model_module": "@jupyter-widgets/base",
      "model_module_version": "2.0.0",
      "model_name": "LayoutModel",
      "state": {}
     },
     "14db3dde836c4e93b81725dda557d12d": {
      "model_module": "@jupyter-widgets/controls",
      "model_module_version": "2.0.0",
      "model_name": "HTMLStyleModel",
      "state": {
       "description_width": "",
       "font_size": null,
       "text_color": null
      }
     },
     "14f9d89b27b548199a83201352d0e915": {
      "model_module": "@jupyter-widgets/controls",
      "model_module_version": "2.0.0",
      "model_name": "ProgressStyleModel",
      "state": {
       "description_width": ""
      }
     },
     "151428d8fa6d4ddface5000917302e56": {
      "model_module": "@jupyter-widgets/controls",
      "model_module_version": "2.0.0",
      "model_name": "HBoxModel",
      "state": {
       "children": [
        "IPY_MODEL_ca2d0d7c451f4f4eb2e7180d5e9d5737",
        "IPY_MODEL_46d3d16f77bb4af9974d591feec03de8",
        "IPY_MODEL_76a00a64cf8d4cc2a4a22927415fa2ee"
       ],
       "layout": "IPY_MODEL_e54e4c15f2014348b678d04f17c24768"
      }
     },
     "15382934781a4766b4bd0c6d5db16964": {
      "model_module": "@jupyter-widgets/base",
      "model_module_version": "2.0.0",
      "model_name": "LayoutModel",
      "state": {}
     },
     "154bc929a4e34f0fad1887367343e26c": {
      "model_module": "@jupyter-widgets/controls",
      "model_module_version": "2.0.0",
      "model_name": "HTMLModel",
      "state": {
       "layout": "IPY_MODEL_6dde294beddd46ba89a0ca57edef9e63",
       "style": "IPY_MODEL_459758edc12d439583b6cb90189fc069",
       "value": " 0/3 [00:00&lt;?, ?it/s]"
      }
     },
     "1573d7569b04467cbf03eb2a109f94e1": {
      "model_module": "@jupyter-widgets/controls",
      "model_module_version": "2.0.0",
      "model_name": "ProgressStyleModel",
      "state": {
       "description_width": ""
      }
     },
     "157eb8b93591447bbc02715b94910ebf": {
      "model_module": "@jupyter-widgets/controls",
      "model_module_version": "2.0.0",
      "model_name": "ProgressStyleModel",
      "state": {
       "description_width": ""
      }
     },
     "159e0c842c90437bbd3622cc0461f3b9": {
      "model_module": "@jupyter-widgets/base",
      "model_module_version": "2.0.0",
      "model_name": "LayoutModel",
      "state": {}
     },
     "15c3367946074bff905632991874ba9f": {
      "model_module": "@jupyter-widgets/controls",
      "model_module_version": "2.0.0",
      "model_name": "HTMLModel",
      "state": {
       "layout": "IPY_MODEL_d24f4aa5135546858506d876b372f41a",
       "style": "IPY_MODEL_97e93f2cf8f441ae974edd597d150aed",
       "value": "Scanning for nodes...: 100%"
      }
     },
     "15c5f761bf954a2dbe03d39f2e9c4cb7": {
      "model_module": "@jupyter-widgets/base",
      "model_module_version": "2.0.0",
      "model_name": "LayoutModel",
      "state": {}
     },
     "15e258e4c2c84c358539aad43db1d027": {
      "model_module": "@jupyter-widgets/base",
      "model_module_version": "2.0.0",
      "model_name": "LayoutModel",
      "state": {}
     },
     "15f8ebf365a349229994a64756e355dc": {
      "model_module": "@jupyter-widgets/controls",
      "model_module_version": "2.0.0",
      "model_name": "HBoxModel",
      "state": {
       "children": [
        "IPY_MODEL_f4bf58af33704f89bbede92d93665097",
        "IPY_MODEL_2a7fd76061454c3f8a79a00470db1a54",
        "IPY_MODEL_640e13dfef5d4f69b08f2ea0a0bf1130"
       ],
       "layout": "IPY_MODEL_d0a5ad3dd6084f4cbbfd8641d415f83d"
      }
     },
     "1604ee4b8ed8470e8eed6c6415aaf8f8": {
      "model_module": "@jupyter-widgets/base",
      "model_module_version": "2.0.0",
      "model_name": "LayoutModel",
      "state": {}
     },
     "164d8fe331ba41d1b663d8812e3088b2": {
      "model_module": "@jupyter-widgets/controls",
      "model_module_version": "2.0.0",
      "model_name": "HTMLStyleModel",
      "state": {
       "description_width": "",
       "font_size": null,
       "text_color": null
      }
     },
     "1656822f9f1141c8a24f26b6a3dc4268": {
      "model_module": "@jupyter-widgets/controls",
      "model_module_version": "2.0.0",
      "model_name": "ProgressStyleModel",
      "state": {
       "description_width": ""
      }
     },
     "16671f4c8fe040408b370281269591bb": {
      "model_module": "@jupyter-widgets/controls",
      "model_module_version": "2.0.0",
      "model_name": "HTMLStyleModel",
      "state": {
       "description_width": "",
       "font_size": null,
       "text_color": null
      }
     },
     "1672e022416d43a7a6b859f10e0a09a6": {
      "model_module": "@jupyter-widgets/controls",
      "model_module_version": "2.0.0",
      "model_name": "HTMLStyleModel",
      "state": {
       "description_width": "",
       "font_size": null,
       "text_color": null
      }
     },
     "16741817a8e14c9e84cba8d0570a51af": {
      "model_module": "@jupyter-widgets/controls",
      "model_module_version": "2.0.0",
      "model_name": "HTMLStyleModel",
      "state": {
       "description_width": "",
       "font_size": null,
       "text_color": null
      }
     },
     "16aa537ee2894151a052733965c7a96c": {
      "model_module": "@jupyter-widgets/base",
      "model_module_version": "2.0.0",
      "model_name": "LayoutModel",
      "state": {}
     },
     "16b51921e98e445489d8313a5c51cfc1": {
      "model_module": "@jupyter-widgets/controls",
      "model_module_version": "2.0.0",
      "model_name": "ProgressStyleModel",
      "state": {
       "description_width": ""
      }
     },
     "16baea35e48a47b88557b12f5bb0be24": {
      "model_module": "@jupyter-widgets/base",
      "model_module_version": "2.0.0",
      "model_name": "LayoutModel",
      "state": {}
     },
     "16c05d5732454000bd7496816cd0850b": {
      "model_module": "@jupyter-widgets/controls",
      "model_module_version": "2.0.0",
      "model_name": "FloatProgressModel",
      "state": {
       "layout": "IPY_MODEL_27a3c3c9c81949e4b3425cb79a012d95",
       "max": 1,
       "style": "IPY_MODEL_ae37d32e4590464bbebd1f4276252858",
       "value": 1
      }
     },
     "16ec0aa1fc5d45ad905acb6b294e3b7d": {
      "model_module": "@jupyter-widgets/controls",
      "model_module_version": "2.0.0",
      "model_name": "HBoxModel",
      "state": {
       "children": [
        "IPY_MODEL_82ea74a31130405aaaee8b754317ce5a",
        "IPY_MODEL_65d3dcf70a9b4c539731d23332c57f8f",
        "IPY_MODEL_780e2140794a4827a35e9e700c6911e1"
       ],
       "layout": "IPY_MODEL_84c41c21b4a042d2bebb9a2ea15d49e0"
      }
     },
     "16ecc60eb44d4ab3bd73e0d3261d14aa": {
      "model_module": "@jupyter-widgets/controls",
      "model_module_version": "2.0.0",
      "model_name": "HTMLModel",
      "state": {
       "layout": "IPY_MODEL_5f19521f3a154554a2201651f4175d15",
       "style": "IPY_MODEL_7a223de2035b4fabbb754ec9f4644e6f",
       "value": " 2/2 [00:01&lt;00:00,  1.68it/s]"
      }
     },
     "171a6c860f4a418fa42615dabdea3275": {
      "model_module": "@jupyter-widgets/controls",
      "model_module_version": "2.0.0",
      "model_name": "HTMLModel",
      "state": {
       "layout": "IPY_MODEL_d4a78c75f8064535b58bbb80b66cebb1",
       "style": "IPY_MODEL_37e4ee30b00549c5a49cdcc52e5ff239",
       "value": " 6/6 [00:00&lt;00:00, 1120.72it/s]"
      }
     },
     "176e2363593041608add8fbd3ecf05e4": {
      "model_module": "@jupyter-widgets/controls",
      "model_module_version": "2.0.0",
      "model_name": "HTMLStyleModel",
      "state": {
       "description_width": "",
       "font_size": null,
       "text_color": null
      }
     },
     "17b6467511194e2d8bc276e1698bf078": {
      "model_module": "@jupyter-widgets/controls",
      "model_module_version": "2.0.0",
      "model_name": "HTMLStyleModel",
      "state": {
       "description_width": "",
       "font_size": null,
       "text_color": null
      }
     },
     "17e53c27ffb843a18ef7e16d6ff8805f": {
      "model_module": "@jupyter-widgets/base",
      "model_module_version": "2.0.0",
      "model_name": "LayoutModel",
      "state": {}
     },
     "17fab7c096834f17a3436a2bd07947f9": {
      "model_module": "@jupyter-widgets/controls",
      "model_module_version": "2.0.0",
      "model_name": "HTMLModel",
      "state": {
       "layout": "IPY_MODEL_0d32659ddc5740e6aee8ac82dfe3f4b2",
       "style": "IPY_MODEL_2d086a31de8e4997990de8d96fc68cbd",
       "value": "Scanning for nodes...: 100%"
      }
     },
     "183ffbfe347a4802a9898f65dcbced3d": {
      "model_module": "@jupyter-widgets/controls",
      "model_module_version": "2.0.0",
      "model_name": "ProgressStyleModel",
      "state": {
       "description_width": ""
      }
     },
     "18489443bb31474fb66a4c56f3d1765c": {
      "model_module": "@jupyter-widgets/controls",
      "model_module_version": "2.0.0",
      "model_name": "FloatProgressModel",
      "state": {
       "bar_style": "success",
       "layout": "IPY_MODEL_7e2456e526254349acf09406af48f90d",
       "max": 1,
       "style": "IPY_MODEL_cb51aac12b124fdda307e8d6da07f230",
       "value": 1
      }
     },
     "185264bd10454a778b1b1d5c8d63466a": {
      "model_module": "@jupyter-widgets/controls",
      "model_module_version": "2.0.0",
      "model_name": "HTMLModel",
      "state": {
       "layout": "IPY_MODEL_11f329e40a674ef7a6788652c30377d9",
       "style": "IPY_MODEL_27bd2bf06070401a8bdbea3600057337",
       "value": "Scanning hook.frame__tpch__orders: 100%"
      }
     },
     "186e97415bd646818b8fb4993b465e04": {
      "model_module": "@jupyter-widgets/controls",
      "model_module_version": "2.0.0",
      "model_name": "FloatProgressModel",
      "state": {
       "layout": "IPY_MODEL_a6019c54ae334c4390b1eaad3c8cd06b",
       "max": 3,
       "style": "IPY_MODEL_6dc634b66c8f4d4e8ed594b5f95c8eda",
       "value": 3
      }
     },
     "18781ca6c0fc40fe9c26c9a4611872a3": {
      "model_module": "@jupyter-widgets/base",
      "model_module_version": "2.0.0",
      "model_name": "LayoutModel",
      "state": {}
     },
     "187ab0f400f14b3aaff95f2d1016cbee": {
      "model_module": "@jupyter-widgets/controls",
      "model_module_version": "2.0.0",
      "model_name": "HBoxModel",
      "state": {
       "children": [
        "IPY_MODEL_92d6debabb774e8ab83a4bb533a30836",
        "IPY_MODEL_c556e4a4dcca48f9a0040eb810d26db2",
        "IPY_MODEL_272717e384e74a81ab6668dbf2a6ecdf"
       ],
       "layout": "IPY_MODEL_4e04288ac31f4896b7bd1db17297e21b"
      }
     },
     "187c77b7e1944d4b9db965c26e66f7a3": {
      "model_module": "@jupyter-widgets/base",
      "model_module_version": "2.0.0",
      "model_name": "LayoutModel",
      "state": {}
     },
     "18907b2ec659416881f790e9782ca55d": {
      "model_module": "@jupyter-widgets/controls",
      "model_module_version": "2.0.0",
      "model_name": "FloatProgressModel",
      "state": {
       "bar_style": "success",
       "layout": "IPY_MODEL_b3200a94d16a42e995174017c0f0ac6c",
       "max": 1,
       "style": "IPY_MODEL_aa7e46de2a06446780061635a1023620",
       "value": 1
      }
     },
     "189c56142ea24173b4cd1a693e9dcf13": {
      "model_module": "@jupyter-widgets/base",
      "model_module_version": "2.0.0",
      "model_name": "LayoutModel",
      "state": {}
     },
     "189eb82cc53f4db286c117fbde8e6d1b": {
      "model_module": "@jupyter-widgets/controls",
      "model_module_version": "2.0.0",
      "model_name": "HTMLStyleModel",
      "state": {
       "description_width": "",
       "font_size": null,
       "text_color": null
      }
     },
     "18a6f0e321754702a8d7d068639442cb": {
      "model_module": "@jupyter-widgets/controls",
      "model_module_version": "2.0.0",
      "model_name": "HTMLStyleModel",
      "state": {
       "description_width": "",
       "font_size": null,
       "text_color": null
      }
     },
     "18aefe829fe94a0f88792fe8828881e4": {
      "model_module": "@jupyter-widgets/controls",
      "model_module_version": "2.0.0",
      "model_name": "HTMLModel",
      "state": {
       "layout": "IPY_MODEL_1db853cbc01e429785c69f94bf425b30",
       "style": "IPY_MODEL_426bf8193e464574823994d0ab5d21b9",
       "value": "Scanning hook.frame__tpch__supplier: 100%"
      }
     },
     "18df7b76c2324f7dbdaef3b5144afd8b": {
      "model_module": "@jupyter-widgets/base",
      "model_module_version": "2.0.0",
      "model_name": "LayoutModel",
      "state": {}
     },
     "18f2aa55aea14a5da784c79d096afdda": {
      "model_module": "@jupyter-widgets/controls",
      "model_module_version": "2.0.0",
      "model_name": "FloatProgressModel",
      "state": {
       "layout": "IPY_MODEL_01db5be122ea41a693905586143867bc",
       "max": 1,
       "style": "IPY_MODEL_9a591a8596d344c596be0b39a58ea9f7",
       "value": 1
      }
     },
     "18f50d9fd05b411899afcf16f2e1e822": {
      "model_module": "@jupyter-widgets/base",
      "model_module_version": "2.0.0",
      "model_name": "LayoutModel",
      "state": {}
     },
     "19119aec3fcc42deb18d6d69d1d82f5d": {
      "model_module": "@jupyter-widgets/base",
      "model_module_version": "2.0.0",
      "model_name": "LayoutModel",
      "state": {}
     },
     "19217440936e4777b344e02e500c8b89": {
      "model_module": "@jupyter-widgets/base",
      "model_module_version": "2.0.0",
      "model_name": "LayoutModel",
      "state": {
       "display": "inline-flex",
       "flex_flow": "row wrap",
       "width": "100%"
      }
     },
     "194f6d18591c46a6814137a765919a53": {
      "model_module": "@jupyter-widgets/controls",
      "model_module_version": "2.0.0",
      "model_name": "HTMLModel",
      "state": {
       "layout": "IPY_MODEL_6477887cbed54f0191ee36860ed1ec3c",
       "style": "IPY_MODEL_9e56883c7bb244f6abba3eddaffad593",
       "value": " 8/8 [00:49&lt;00:00,  5.58s/it]"
      }
     },
     "1973203d3664421891be0fcd89e27685": {
      "model_module": "@jupyter-widgets/controls",
      "model_module_version": "2.0.0",
      "model_name": "HTMLStyleModel",
      "state": {
       "description_width": "",
       "font_size": null,
       "text_color": null
      }
     },
     "1974a15712d84d4cad21ae62a8b01a07": {
      "model_module": "@jupyter-widgets/controls",
      "model_module_version": "2.0.0",
      "model_name": "HTMLModel",
      "state": {
       "layout": "IPY_MODEL_5d49095f1b974d728633467e470328d6",
       "style": "IPY_MODEL_4433d4379ea342f1825dc2bda325ba85",
       "value": " 1/1 [00:00&lt;00:00, 166.99it/s]"
      }
     },
     "19837a5d8c054cf4ac6e35ded26a6a31": {
      "model_module": "@jupyter-widgets/base",
      "model_module_version": "2.0.0",
      "model_name": "LayoutModel",
      "state": {
       "visibility": "hidden"
      }
     },
     "19aa3217b7e74bc5a26dddd93846b14b": {
      "model_module": "@jupyter-widgets/controls",
      "model_module_version": "2.0.0",
      "model_name": "HBoxModel",
      "state": {
       "children": [
        "IPY_MODEL_d49b6ca334c84189a0704ad6b4ebb8be",
        "IPY_MODEL_be840f997e924da587f156829c44597f",
        "IPY_MODEL_66e007d25a8744b6b40c14e7ce8e0e89"
       ],
       "layout": "IPY_MODEL_19217440936e4777b344e02e500c8b89"
      }
     },
     "19b3d9b953124d3ba95b61bce8a1f669": {
      "model_module": "@jupyter-widgets/controls",
      "model_module_version": "2.0.0",
      "model_name": "ProgressStyleModel",
      "state": {
       "description_width": ""
      }
     },
     "19c989fb59314dec8d38c4e316987263": {
      "model_module": "@jupyter-widgets/base",
      "model_module_version": "2.0.0",
      "model_name": "LayoutModel",
      "state": {}
     },
     "19def831413d4d8b8fb7268ce8eb7cd3": {
      "model_module": "@jupyter-widgets/controls",
      "model_module_version": "2.0.0",
      "model_name": "ProgressStyleModel",
      "state": {
       "description_width": ""
      }
     },
     "19f51e3e9e2948d69ae2110b1c1cbb1d": {
      "model_module": "@jupyter-widgets/base",
      "model_module_version": "2.0.0",
      "model_name": "LayoutModel",
      "state": {}
     },
     "1a1d8ca464f44ef194a23e2358e53d11": {
      "model_module": "@jupyter-widgets/controls",
      "model_module_version": "2.0.0",
      "model_name": "HTMLModel",
      "state": {
       "layout": "IPY_MODEL_81283aad5df04cca8d4fb1d58ba74147",
       "style": "IPY_MODEL_5c892979865e4ebcbde0cb0c8e75b2c6",
       "value": " 2/2 [00:06&lt;00:00,  3.49s/it]"
      }
     },
     "1a2d3c31dfac4a868311f54061dcfcf0": {
      "model_module": "@jupyter-widgets/base",
      "model_module_version": "2.0.0",
      "model_name": "LayoutModel",
      "state": {}
     },
     "1a3981bc4c5e4a8ca940c892892ebb1b": {
      "model_module": "@jupyter-widgets/controls",
      "model_module_version": "2.0.0",
      "model_name": "HTMLStyleModel",
      "state": {
       "description_width": "",
       "font_size": null,
       "text_color": null
      }
     },
     "1a4a987960b24f7fb2d10b101bf90b18": {
      "model_module": "@jupyter-widgets/controls",
      "model_module_version": "2.0.0",
      "model_name": "ProgressStyleModel",
      "state": {
       "description_width": ""
      }
     },
     "1a527efaba3c4536ab5524c0833f2f88": {
      "model_module": "@jupyter-widgets/base",
      "model_module_version": "2.0.0",
      "model_name": "LayoutModel",
      "state": {}
     },
     "1a54917a8c2e42ff9042c2a2b31e97e5": {
      "model_module": "@jupyter-widgets/controls",
      "model_module_version": "2.0.0",
      "model_name": "FloatProgressModel",
      "state": {
       "bar_style": "success",
       "layout": "IPY_MODEL_a66e0ddda3694166a19c67725f5db350",
       "max": 2,
       "style": "IPY_MODEL_55b25e9b5a8042ad930d154efeadc038",
       "value": 2
      }
     },
     "1a7980f174a1492bba607c758788cd5a": {
      "model_module": "@jupyter-widgets/controls",
      "model_module_version": "2.0.0",
      "model_name": "HTMLStyleModel",
      "state": {
       "description_width": "",
       "font_size": null,
       "text_color": null
      }
     },
     "1a7e6b18500647d689b1e363a58703f5": {
      "model_module": "@jupyter-widgets/controls",
      "model_module_version": "2.0.0",
      "model_name": "HTMLModel",
      "state": {
       "layout": "IPY_MODEL_839a3c67551042eaa766d325824e2f6d",
       "style": "IPY_MODEL_0663f64585984bf0be64415061feca6a",
       "value": " 2/2 [00:01&lt;00:00,  1.61it/s]"
      }
     },
     "1aae91976deb4b1ab07b10484b7c13ca": {
      "model_module": "@jupyter-widgets/controls",
      "model_module_version": "2.0.0",
      "model_name": "HTMLStyleModel",
      "state": {
       "description_width": "",
       "font_size": null,
       "text_color": null
      }
     },
     "1ac7ee2f07bc44358ed94239b7cb5458": {
      "model_module": "@jupyter-widgets/controls",
      "model_module_version": "2.0.0",
      "model_name": "FloatProgressModel",
      "state": {
       "bar_style": "success",
       "layout": "IPY_MODEL_a3b06933b3ac4bd992fa32ed4b9f3242",
       "max": 8,
       "style": "IPY_MODEL_1dc6545ff4b2457cb62410e6aa65c9f3",
       "value": 8
      }
     },
     "1ae11b586e61419488fc0efea0e7b77a": {
      "model_module": "@jupyter-widgets/base",
      "model_module_version": "2.0.0",
      "model_name": "LayoutModel",
      "state": {}
     },
     "1aeda4db595a423bac01e9fdf5a16cef": {
      "model_module": "@jupyter-widgets/controls",
      "model_module_version": "2.0.0",
      "model_name": "FloatProgressModel",
      "state": {
       "bar_style": "success",
       "layout": "IPY_MODEL_509e22ae0cbb445491511f03ccb5065f",
       "max": 2,
       "style": "IPY_MODEL_560bddca60a941eca0383eff811d6a8b",
       "value": 2
      }
     },
     "1afeb400609d4081b42b2e0d100a082b": {
      "model_module": "@jupyter-widgets/controls",
      "model_module_version": "2.0.0",
      "model_name": "HTMLStyleModel",
      "state": {
       "description_width": "",
       "font_size": null,
       "text_color": null
      }
     },
     "1b0969300925436fbb6b4cca0ac2b9d2": {
      "model_module": "@jupyter-widgets/base",
      "model_module_version": "2.0.0",
      "model_name": "LayoutModel",
      "state": {}
     },
     "1b5a3527748b40b0b02be48026d8995f": {
      "model_module": "@jupyter-widgets/controls",
      "model_module_version": "2.0.0",
      "model_name": "HTMLModel",
      "state": {
       "layout": "IPY_MODEL_ab402cfb47314d17bd34ad64fc67117e",
       "style": "IPY_MODEL_460aa3504ed743589df2ca6511a14918",
       "value": "Scanning for edges...: 100%"
      }
     },
     "1b607eeaacdc405bacb009d537da652e": {
      "model_module": "@jupyter-widgets/base",
      "model_module_version": "2.0.0",
      "model_name": "LayoutModel",
      "state": {}
     },
     "1b67e024a04b4550966512883ce53846": {
      "model_module": "@jupyter-widgets/base",
      "model_module_version": "2.0.0",
      "model_name": "LayoutModel",
      "state": {}
     },
     "1b8d21dbe85a4ea1a597e7ddb3363f83": {
      "model_module": "@jupyter-widgets/base",
      "model_module_version": "2.0.0",
      "model_name": "LayoutModel",
      "state": {}
     },
     "1be5e64c996845deaa427e596cd0e0d8": {
      "model_module": "@jupyter-widgets/base",
      "model_module_version": "2.0.0",
      "model_name": "LayoutModel",
      "state": {}
     },
     "1bf7dfb7826d43889404544c320fe821": {
      "model_module": "@jupyter-widgets/base",
      "model_module_version": "2.0.0",
      "model_name": "LayoutModel",
      "state": {}
     },
     "1c047e1ee6d8459e9e856633321933ae": {
      "model_module": "@jupyter-widgets/controls",
      "model_module_version": "2.0.0",
      "model_name": "HTMLModel",
      "state": {
       "layout": "IPY_MODEL_2a00be0b336646789436250f01e77416",
       "style": "IPY_MODEL_e04d0d8ee4624fbb8c6f76c576e86a78",
       "value": " 2/2 [00:06&lt;00:00,  3.41s/it]"
      }
     },
     "1c1d58587c5f48d69710672fb9889a29": {
      "model_module": "@jupyter-widgets/base",
      "model_module_version": "2.0.0",
      "model_name": "LayoutModel",
      "state": {}
     },
     "1c207012091846719ca987bccc21911f": {
      "model_module": "@jupyter-widgets/controls",
      "model_module_version": "2.0.0",
      "model_name": "ProgressStyleModel",
      "state": {
       "description_width": ""
      }
     },
     "1c25a89955364b98aa1b2dc43fc372f6": {
      "model_module": "@jupyter-widgets/base",
      "model_module_version": "2.0.0",
      "model_name": "LayoutModel",
      "state": {}
     },
     "1c278972c23a4ee79d287ee62217d462": {
      "model_module": "@jupyter-widgets/controls",
      "model_module_version": "2.0.0",
      "model_name": "HTMLStyleModel",
      "state": {
       "description_width": "",
       "font_size": null,
       "text_color": null
      }
     },
     "1c2de4dc5fa44772b8a339f89b1cc04e": {
      "model_module": "@jupyter-widgets/base",
      "model_module_version": "2.0.0",
      "model_name": "LayoutModel",
      "state": {}
     },
     "1c716008972b4fe28ddf30414292476f": {
      "model_module": "@jupyter-widgets/controls",
      "model_module_version": "2.0.0",
      "model_name": "HTMLModel",
      "state": {
       "layout": "IPY_MODEL_6f04a9d05bda4c60a67c86dc0164bdbb",
       "style": "IPY_MODEL_cfbd7e1c67a74be881594f9e5604d57b",
       "value": "Scanning frames: 100%"
      }
     },
     "1c8ad758e79948048029ac1e10dbaa4b": {
      "model_module": "@jupyter-widgets/base",
      "model_module_version": "2.0.0",
      "model_name": "LayoutModel",
      "state": {}
     },
     "1c9146bc957b4b918b968fa44310f34c": {
      "model_module": "@jupyter-widgets/base",
      "model_module_version": "2.0.0",
      "model_name": "LayoutModel",
      "state": {}
     },
     "1cc30e58f3484690a07fe7c67f532d0c": {
      "model_module": "@jupyter-widgets/controls",
      "model_module_version": "2.0.0",
      "model_name": "HBoxModel",
      "state": {
       "children": [
        "IPY_MODEL_2e4b9771071f42bc83fa656a9364941a",
        "IPY_MODEL_74c79dff79bb4cad8933ded98f911a3d",
        "IPY_MODEL_75034023ecff4729bf32c31f74d32298"
       ],
       "layout": "IPY_MODEL_fc9bfba8001f438d9e3a219ae3c85573"
      }
     },
     "1cc44eb56fde4667aba95bd7b6fbd4fd": {
      "model_module": "@jupyter-widgets/controls",
      "model_module_version": "2.0.0",
      "model_name": "HBoxModel",
      "state": {
       "children": [
        "IPY_MODEL_b4a3a2ae8a4645278bbbb5567a045955",
        "IPY_MODEL_7e6769bf31bb47178654fcdb41c1c933",
        "IPY_MODEL_3139c0ed62574270b22de3f9362ccc67"
       ],
       "layout": "IPY_MODEL_3cd5dc651360425db8ee87d85aef3f63"
      }
     },
     "1cc825042a634e62a7a18766af3b15dc": {
      "model_module": "@jupyter-widgets/controls",
      "model_module_version": "2.0.0",
      "model_name": "HTMLModel",
      "state": {
       "layout": "IPY_MODEL_e8a8206197934dd791ff08581815556c",
       "style": "IPY_MODEL_4ece4db40f2e41e495cbbbcc7865bfba",
       "value": "Scanning for edges...: 100%"
      }
     },
     "1cd4a6b36c8041c4a741b7de13f29d15": {
      "model_module": "@jupyter-widgets/controls",
      "model_module_version": "2.0.0",
      "model_name": "HTMLModel",
      "state": {
       "layout": "IPY_MODEL_4653e208db5341b4b10b3db16b5dae3d",
       "style": "IPY_MODEL_8288561d210d4bfdb6652c0532d3646b",
       "value": " 3/3 [00:04&lt;00:00,  1.52s/it]"
      }
     },
     "1cf0ef34f1e54fd9873397e9a82f3b79": {
      "model_module": "@jupyter-widgets/controls",
      "model_module_version": "2.0.0",
      "model_name": "HTMLStyleModel",
      "state": {
       "description_width": "",
       "font_size": null,
       "text_color": null
      }
     },
     "1d04418b5d0c4c68bfd4541aab62d98a": {
      "model_module": "@jupyter-widgets/controls",
      "model_module_version": "2.0.0",
      "model_name": "HTMLStyleModel",
      "state": {
       "description_width": "",
       "font_size": null,
       "text_color": null
      }
     },
     "1d0c3ab033ec40b09f92a964c3d5ff6c": {
      "model_module": "@jupyter-widgets/base",
      "model_module_version": "2.0.0",
      "model_name": "LayoutModel",
      "state": {
       "visibility": "hidden"
      }
     },
     "1d139fea979d46e686041ba43f71c5fe": {
      "model_module": "@jupyter-widgets/controls",
      "model_module_version": "2.0.0",
      "model_name": "HBoxModel",
      "state": {
       "children": [
        "IPY_MODEL_d5b8f84cd0f74fd6ad19e26970d68f1f",
        "IPY_MODEL_ce3e0a0834c647a4b156ba3977560d51",
        "IPY_MODEL_876e617ed1b84a8782f54e3beb8936be"
       ],
       "layout": "IPY_MODEL_7608b0502e3842dfb0a5638e3ed76f69"
      }
     },
     "1d35dc8412f744df82bf6d54581ff1e5": {
      "model_module": "@jupyter-widgets/controls",
      "model_module_version": "2.0.0",
      "model_name": "HBoxModel",
      "state": {
       "children": [
        "IPY_MODEL_b9e61994c83540daa97486434ea38d36",
        "IPY_MODEL_a54757c135694c3ba4e1e2b7ef52a735",
        "IPY_MODEL_30544f3ebe034c7281e8b36da82220d1"
       ],
       "layout": "IPY_MODEL_a3274ddcabd440c492003f1d9be48532"
      }
     },
     "1d62978b91a04ec7bcf963ce5c996a70": {
      "model_module": "@jupyter-widgets/base",
      "model_module_version": "2.0.0",
      "model_name": "LayoutModel",
      "state": {}
     },
     "1d62f33da01b43f887c83268a9915324": {
      "model_module": "@jupyter-widgets/base",
      "model_module_version": "2.0.0",
      "model_name": "LayoutModel",
      "state": {}
     },
     "1d6779664c0a4c249f85f74aa744e6f9": {
      "model_module": "@jupyter-widgets/base",
      "model_module_version": "2.0.0",
      "model_name": "LayoutModel",
      "state": {}
     },
     "1d888cfddea7480cadfed22f0e8ffbcb": {
      "model_module": "@jupyter-widgets/controls",
      "model_module_version": "2.0.0",
      "model_name": "ProgressStyleModel",
      "state": {
       "description_width": ""
      }
     },
     "1db853cbc01e429785c69f94bf425b30": {
      "model_module": "@jupyter-widgets/base",
      "model_module_version": "2.0.0",
      "model_name": "LayoutModel",
      "state": {}
     },
     "1dc6545ff4b2457cb62410e6aa65c9f3": {
      "model_module": "@jupyter-widgets/controls",
      "model_module_version": "2.0.0",
      "model_name": "ProgressStyleModel",
      "state": {
       "description_width": ""
      }
     },
     "1df17afb386f4dc6bb3ee971b7f91a02": {
      "model_module": "@jupyter-widgets/base",
      "model_module_version": "2.0.0",
      "model_name": "LayoutModel",
      "state": {}
     },
     "1e09d543c7e042f4b21f22323cf95328": {
      "model_module": "@jupyter-widgets/base",
      "model_module_version": "2.0.0",
      "model_name": "LayoutModel",
      "state": {
       "visibility": "hidden"
      }
     },
     "1e2b259e3f0e43dfa566884fc5ed29ab": {
      "model_module": "@jupyter-widgets/controls",
      "model_module_version": "2.0.0",
      "model_name": "HTMLModel",
      "state": {
       "layout": "IPY_MODEL_5e814b9b506d4f07a751a7f84d2054b0",
       "style": "IPY_MODEL_8b1f3bae2c884e22bcc94d3436e9d9c7",
       "value": "Scanning for nodes in hook.frame__tpch__supplier...: 100%"
      }
     },
     "1e35f5fea2a8424d91513be90de45480": {
      "model_module": "@jupyter-widgets/controls",
      "model_module_version": "2.0.0",
      "model_name": "ProgressStyleModel",
      "state": {
       "description_width": ""
      }
     },
     "1e3717cec6ed4c298361be139b287ea0": {
      "model_module": "@jupyter-widgets/controls",
      "model_module_version": "2.0.0",
      "model_name": "HTMLStyleModel",
      "state": {
       "description_width": "",
       "font_size": null,
       "text_color": null
      }
     },
     "1e47006fa1fe43678ac6daefd08300d8": {
      "model_module": "@jupyter-widgets/base",
      "model_module_version": "2.0.0",
      "model_name": "LayoutModel",
      "state": {}
     },
     "1e7b10305b684a7797af66f3432b74a0": {
      "model_module": "@jupyter-widgets/controls",
      "model_module_version": "2.0.0",
      "model_name": "FloatProgressModel",
      "state": {
       "bar_style": "success",
       "layout": "IPY_MODEL_1df17afb386f4dc6bb3ee971b7f91a02",
       "max": 3,
       "style": "IPY_MODEL_8669e8d6e25641a68a0d98e4ea5eebc0",
       "value": 3
      }
     },
     "1e885c4c76ec4f92a13ea55e53c87840": {
      "model_module": "@jupyter-widgets/controls",
      "model_module_version": "2.0.0",
      "model_name": "HTMLStyleModel",
      "state": {
       "description_width": "",
       "font_size": null,
       "text_color": null
      }
     },
     "1eb71ede220b4d9daf0121df1264b1fd": {
      "model_module": "@jupyter-widgets/controls",
      "model_module_version": "2.0.0",
      "model_name": "HTMLModel",
      "state": {
       "layout": "IPY_MODEL_246bb5f7cc654f8a8bf8ee3bb956bb2d",
       "style": "IPY_MODEL_9408ef8d89a549979c0d880e757bf85f",
       "value": "hook.frame__tpch__lineitem: edges...: 100%"
      }
     },
     "1ee186f893b540d994c7c1182faab011": {
      "model_module": "@jupyter-widgets/controls",
      "model_module_version": "2.0.0",
      "model_name": "HTMLModel",
      "state": {
       "layout": "IPY_MODEL_4d5f70a3b0814dba8a2242b21b889e87",
       "style": "IPY_MODEL_7d16db5f57734cb7a53c6d609a703e2c",
       "value": "Scanning for edges...:   0%"
      }
     },
     "1ee8f43e438747f490593bd037dd946c": {
      "model_module": "@jupyter-widgets/base",
      "model_module_version": "2.0.0",
      "model_name": "LayoutModel",
      "state": {}
     },
     "1eecbc5f0105406586226ae8ebb35a38": {
      "model_module": "@jupyter-widgets/controls",
      "model_module_version": "2.0.0",
      "model_name": "ProgressStyleModel",
      "state": {
       "description_width": ""
      }
     },
     "1f108c81ba19491b9b4360b9971b987d": {
      "model_module": "@jupyter-widgets/controls",
      "model_module_version": "2.0.0",
      "model_name": "HTMLModel",
      "state": {
       "layout": "IPY_MODEL_38de030f3d1e45d6a115ad7fdd0f3cee",
       "style": "IPY_MODEL_34d02a56c5084950a993899da0848c80",
       "value": " 2/2 [00:01&lt;00:00,  1.07it/s]"
      }
     },
     "1f327462347b4440a7d6665e3f286b30": {
      "model_module": "@jupyter-widgets/base",
      "model_module_version": "2.0.0",
      "model_name": "LayoutModel",
      "state": {}
     },
     "1f40a172d2954a46826ea2f9e1d0c683": {
      "model_module": "@jupyter-widgets/base",
      "model_module_version": "2.0.0",
      "model_name": "LayoutModel",
      "state": {}
     },
     "1f47e022d8f94f8192a2622ad0421671": {
      "model_module": "@jupyter-widgets/controls",
      "model_module_version": "2.0.0",
      "model_name": "HTMLStyleModel",
      "state": {
       "description_width": "",
       "font_size": null,
       "text_color": null
      }
     },
     "1f56e2c605a3470e9d5ff869f9663e1c": {
      "model_module": "@jupyter-widgets/base",
      "model_module_version": "2.0.0",
      "model_name": "LayoutModel",
      "state": {}
     },
     "1f73f1ed426a4055928a9e369d3409fc": {
      "model_module": "@jupyter-widgets/controls",
      "model_module_version": "2.0.0",
      "model_name": "HTMLModel",
      "state": {
       "layout": "IPY_MODEL_0099be425d0c4c099a23df11f5ed38b8",
       "style": "IPY_MODEL_2479e9b88991418daffa7aec7fd376de",
       "value": " 3/8 [00:22&lt;00:30,  6.06s/it]"
      }
     },
     "1f99ad3e573749209cdd9d46136e5c9c": {
      "model_module": "@jupyter-widgets/controls",
      "model_module_version": "2.0.0",
      "model_name": "HBoxModel",
      "state": {
       "children": [
        "IPY_MODEL_d5830dfa441f4b0e98508f98296115c6",
        "IPY_MODEL_93c7ca8f7be54070b837b4f31c226067",
        "IPY_MODEL_2785e36382424a2798252170b2b19810"
       ],
       "layout": "IPY_MODEL_4c61a87aac89431fb1f9e77f0c4e64d3"
      }
     },
     "1fae0b55af7a4b46b24c67d7518de3ac": {
      "model_module": "@jupyter-widgets/controls",
      "model_module_version": "2.0.0",
      "model_name": "HTMLModel",
      "state": {
       "layout": "IPY_MODEL_62f059b11439428dbd540feca2f88e46",
       "style": "IPY_MODEL_137b47fb4ff94f4bbd5a7699c948eedb",
       "value": "Scanning for edges...:   0%"
      }
     },
     "1fe01584c7734b4cac1d88ca722f2d90": {
      "model_module": "@jupyter-widgets/base",
      "model_module_version": "2.0.0",
      "model_name": "LayoutModel",
      "state": {}
     },
     "1ffa69b877b443568f3dfa4dd729d826": {
      "model_module": "@jupyter-widgets/controls",
      "model_module_version": "2.0.0",
      "model_name": "ProgressStyleModel",
      "state": {
       "description_width": ""
      }
     },
     "2052e638350a4f9fb52b376ec0c55845": {
      "model_module": "@jupyter-widgets/controls",
      "model_module_version": "2.0.0",
      "model_name": "HBoxModel",
      "state": {
       "children": [
        "IPY_MODEL_057ca4dcebfa451e9f5f6233e0ba06b2",
        "IPY_MODEL_a3ee7baaddcc4382bb6e34dce7036f68",
        "IPY_MODEL_853a00daf72a437a988bcf07568857e6"
       ],
       "layout": "IPY_MODEL_e94fdf69a81f4209a3cae3638ed061e3"
      }
     },
     "20eb255e6cb44e9682624d2a88aedeb3": {
      "model_module": "@jupyter-widgets/controls",
      "model_module_version": "2.0.0",
      "model_name": "HTMLStyleModel",
      "state": {
       "description_width": "",
       "font_size": null,
       "text_color": null
      }
     },
     "215054dc01b14cb5bf91e147ff0a7275": {
      "model_module": "@jupyter-widgets/controls",
      "model_module_version": "2.0.0",
      "model_name": "ProgressStyleModel",
      "state": {
       "description_width": ""
      }
     },
     "216c83dae6f9402a91b3dc6cdb991786": {
      "model_module": "@jupyter-widgets/controls",
      "model_module_version": "2.0.0",
      "model_name": "HTMLModel",
      "state": {
       "layout": "IPY_MODEL_a32f476cbc904f8980b2905a019c76c7",
       "style": "IPY_MODEL_e6cc3b5ec19148c8858e4a7072fd1d9f",
       "value": "Scanning for nodes...: 100%"
      }
     },
     "218813f188e54f16ad85f197f4c4d455": {
      "model_module": "@jupyter-widgets/base",
      "model_module_version": "2.0.0",
      "model_name": "LayoutModel",
      "state": {}
     },
     "21a44b0a9d03455396514101f2efd1f5": {
      "model_module": "@jupyter-widgets/controls",
      "model_module_version": "2.0.0",
      "model_name": "ProgressStyleModel",
      "state": {
       "description_width": ""
      }
     },
     "21ad024d6bdd4550b79baca8582d413f": {
      "model_module": "@jupyter-widgets/controls",
      "model_module_version": "2.0.0",
      "model_name": "HTMLStyleModel",
      "state": {
       "description_width": "",
       "font_size": null,
       "text_color": null
      }
     },
     "21c87f19287340caa0fde28039ebc997": {
      "model_module": "@jupyter-widgets/controls",
      "model_module_version": "2.0.0",
      "model_name": "HTMLModel",
      "state": {
       "layout": "IPY_MODEL_9b630e7c17db4f57950434160c8feecd",
       "style": "IPY_MODEL_f8e571c6373c49f6b100103bada65a6c",
       "value": " 3/3 [00:05&lt;00:00,  1.75s/it]"
      }
     },
     "21c8c7989a0c4f6b93be29750af96e36": {
      "model_module": "@jupyter-widgets/controls",
      "model_module_version": "2.0.0",
      "model_name": "HTMLStyleModel",
      "state": {
       "description_width": "",
       "font_size": null,
       "text_color": null
      }
     },
     "21cc21814056417d8c5ce78ec08e5d31": {
      "model_module": "@jupyter-widgets/base",
      "model_module_version": "2.0.0",
      "model_name": "LayoutModel",
      "state": {}
     },
     "21ffab25e2064f3483f50936365733b9": {
      "model_module": "@jupyter-widgets/controls",
      "model_module_version": "2.0.0",
      "model_name": "ProgressStyleModel",
      "state": {
       "description_width": ""
      }
     },
     "226e6f498a144613badeff0abc9a296f": {
      "model_module": "@jupyter-widgets/controls",
      "model_module_version": "2.0.0",
      "model_name": "HTMLStyleModel",
      "state": {
       "description_width": "",
       "font_size": null,
       "text_color": null
      }
     },
     "2277f025423e487dbfa9a6452ab807e2": {
      "model_module": "@jupyter-widgets/base",
      "model_module_version": "2.0.0",
      "model_name": "LayoutModel",
      "state": {}
     },
     "227c468380864ebfb1169ae192debdf0": {
      "model_module": "@jupyter-widgets/controls",
      "model_module_version": "2.0.0",
      "model_name": "HTMLStyleModel",
      "state": {
       "description_width": "",
       "font_size": null,
       "text_color": null
      }
     },
     "227d3dbb38ca4a4e990a529d686b7719": {
      "model_module": "@jupyter-widgets/controls",
      "model_module_version": "2.0.0",
      "model_name": "HTMLModel",
      "state": {
       "layout": "IPY_MODEL_8f0f681977514adbb42eb8b54156591c",
       "style": "IPY_MODEL_89135aba7da347d994bd3d0535745e4d",
       "value": "Scanning for nodes...: 100%"
      }
     },
     "228fe4e3f8bc405887abdae43f69ebc9": {
      "model_module": "@jupyter-widgets/controls",
      "model_module_version": "2.0.0",
      "model_name": "HBoxModel",
      "state": {
       "children": [
        "IPY_MODEL_e833547848234e35af498efb17507451",
        "IPY_MODEL_558513f80af24fe5be579ed60f8c759c",
        "IPY_MODEL_b97207bb021740c6847c5920c124151c"
       ],
       "layout": "IPY_MODEL_c8152d1475d34d879dac67baaeb18549"
      }
     },
     "22cdc8862e44490e982c0f6cad6e66ea": {
      "model_module": "@jupyter-widgets/base",
      "model_module_version": "2.0.0",
      "model_name": "LayoutModel",
      "state": {}
     },
     "22edcfb017bb41848d1734d4a28ee480": {
      "model_module": "@jupyter-widgets/base",
      "model_module_version": "2.0.0",
      "model_name": "LayoutModel",
      "state": {}
     },
     "22f2a929099b434aa2deeee252a08a96": {
      "model_module": "@jupyter-widgets/controls",
      "model_module_version": "2.0.0",
      "model_name": "HBoxModel",
      "state": {
       "children": [
        "IPY_MODEL_cd57262fcd7041e49b711f1819d136a4",
        "IPY_MODEL_fe51255632df408298745c50b068af6d",
        "IPY_MODEL_88303e37c5ae471aab0910502a968001"
       ],
       "layout": "IPY_MODEL_328ba984120c45f29dff4682b08845d3"
      }
     },
     "231641cd16904e5e873deeace16d9304": {
      "model_module": "@jupyter-widgets/base",
      "model_module_version": "2.0.0",
      "model_name": "LayoutModel",
      "state": {}
     },
     "2339b390cd4048caa6a65f462ccf6cc6": {
      "model_module": "@jupyter-widgets/base",
      "model_module_version": "2.0.0",
      "model_name": "LayoutModel",
      "state": {}
     },
     "23423e45ed0f41f192c6b71ba66c6318": {
      "model_module": "@jupyter-widgets/controls",
      "model_module_version": "2.0.0",
      "model_name": "HTMLStyleModel",
      "state": {
       "description_width": "",
       "font_size": null,
       "text_color": null
      }
     },
     "2363f8de8ee84ee6960a620dad2ed32d": {
      "model_module": "@jupyter-widgets/controls",
      "model_module_version": "2.0.0",
      "model_name": "HTMLModel",
      "state": {
       "layout": "IPY_MODEL_281e4c53796d4e51a237f55203d1c00c",
       "style": "IPY_MODEL_9b6a6ab2547a4f38a3014ea4dd881f70",
       "value": " 6/6 [00:00&lt;00:00, 1256.34it/s]"
      }
     },
     "23651b8a99674721a725131a0d2416b1": {
      "model_module": "@jupyter-widgets/controls",
      "model_module_version": "2.0.0",
      "model_name": "HTMLModel",
      "state": {
       "layout": "IPY_MODEL_a4ddba9b185f4085989de1fcd429785e",
       "style": "IPY_MODEL_0f6760bc594d4cd787e5e55d97fb0bf8",
       "value": " 2/2 [00:05&lt;00:00,  3.26s/it]"
      }
     },
     "2369e2fbb2454f8bbd1d5932ed8989ac": {
      "model_module": "@jupyter-widgets/base",
      "model_module_version": "2.0.0",
      "model_name": "LayoutModel",
      "state": {}
     },
     "236f198ef2c84e1abb68fdbc6c3c6b9f": {
      "model_module": "@jupyter-widgets/base",
      "model_module_version": "2.0.0",
      "model_name": "LayoutModel",
      "state": {}
     },
     "237e41c9358a427898a5e237c5386ec4": {
      "model_module": "@jupyter-widgets/controls",
      "model_module_version": "2.0.0",
      "model_name": "FloatProgressModel",
      "state": {
       "layout": "IPY_MODEL_3b5d901e61194a2488e0bd07ba4dedcd",
       "max": 1,
       "style": "IPY_MODEL_cecc66256ce14f5ba40843626fe2963c",
       "value": 1
      }
     },
     "238a4248fc5f4c4ba0f3cb68196d41b8": {
      "model_module": "@jupyter-widgets/controls",
      "model_module_version": "2.0.0",
      "model_name": "HTMLModel",
      "state": {
       "layout": "IPY_MODEL_6645ee82435f4a82994209df0e00ccaf",
       "style": "IPY_MODEL_8d4ee57b8d6a49cfa49e0c6efd95e188",
       "value": "Scanning for nodes...:  50%"
      }
     },
     "239143ab7b474e77bfe751230082edcc": {
      "model_module": "@jupyter-widgets/controls",
      "model_module_version": "2.0.0",
      "model_name": "HTMLModel",
      "state": {
       "layout": "IPY_MODEL_738e8552c4bb4a6f956d03eea3b6b7cc",
       "style": "IPY_MODEL_de2ec648470f40c38309e97559834161",
       "value": "Scanning hook.frame__tpch__orders:  50%"
      }
     },
     "23a805f2420e45fa81aff5a0e1741a48": {
      "model_module": "@jupyter-widgets/base",
      "model_module_version": "2.0.0",
      "model_name": "LayoutModel",
      "state": {}
     },
     "23ab686eaa3842469ac07e0d1a3dc138": {
      "model_module": "@jupyter-widgets/controls",
      "model_module_version": "2.0.0",
      "model_name": "HTMLModel",
      "state": {
       "layout": "IPY_MODEL_b54b2ccc049f44f1912f591d3323a897",
       "style": "IPY_MODEL_00fd817c7efe468692ece772e688c947",
       "value": " 2/2 [00:01&lt;00:00,  1.76it/s]"
      }
     },
     "23d38a4c718249d29f057ec1528d2ef6": {
      "model_module": "@jupyter-widgets/controls",
      "model_module_version": "2.0.0",
      "model_name": "HTMLModel",
      "state": {
       "layout": "IPY_MODEL_f10800fd88a14e12987bf7402a672b67",
       "style": "IPY_MODEL_3c9f869347b7442e9132340fe0f36a04",
       "value": "hook.frame__tpch__supplier: 100%"
      }
     },
     "23e3f492c35b4d628d125f18d1647d8f": {
      "model_module": "@jupyter-widgets/base",
      "model_module_version": "2.0.0",
      "model_name": "LayoutModel",
      "state": {}
     },
     "24114a9bca1e48679d6acd6976d68958": {
      "model_module": "@jupyter-widgets/controls",
      "model_module_version": "2.0.0",
      "model_name": "HTMLModel",
      "state": {
       "layout": "IPY_MODEL_1a527efaba3c4536ab5524c0833f2f88",
       "style": "IPY_MODEL_aeaf1c74fe224f7f86b91cabb818020a",
       "value": " 8/8 [00:51&lt;00:00,  5.57s/it]"
      }
     },
     "24199f4002ce4b8f8b6c98e15e63559b": {
      "model_module": "@jupyter-widgets/controls",
      "model_module_version": "2.0.0",
      "model_name": "HTMLModel",
      "state": {
       "layout": "IPY_MODEL_ae04c446c9484439805c49e6bd6ab8c6",
       "style": "IPY_MODEL_af639590a7274e36a547fb064af0b176",
       "value": "Scanning frames: 100%"
      }
     },
     "2437b3f5f3a94fbfaf59d74df38cec4b": {
      "model_module": "@jupyter-widgets/base",
      "model_module_version": "2.0.0",
      "model_name": "LayoutModel",
      "state": {
       "visibility": "hidden"
      }
     },
     "2447f73e85c746f489431460eb5b41a1": {
      "model_module": "@jupyter-widgets/base",
      "model_module_version": "2.0.0",
      "model_name": "LayoutModel",
      "state": {}
     },
     "245447b4f84340f6a9b9f4bd7f7b0836": {
      "model_module": "@jupyter-widgets/controls",
      "model_module_version": "2.0.0",
      "model_name": "HTMLModel",
      "state": {
       "layout": "IPY_MODEL_45c3f72d6c624124b66c9773978bd71e",
       "style": "IPY_MODEL_326d05b1097749b3be5b8cf3df1471d4",
       "value": "hook.frame__tpch__lineitem: 100%"
      }
     },
     "24561d21d1524462a0ba124e119363a3": {
      "model_module": "@jupyter-widgets/controls",
      "model_module_version": "2.0.0",
      "model_name": "HTMLModel",
      "state": {
       "layout": "IPY_MODEL_a268223ad81748ff865e2ab0cec11da4",
       "style": "IPY_MODEL_f21c9329f01a44d1b275dbcb78a940f8",
       "value": "Scanning for nodes...: 100%"
      }
     },
     "246805f873f547c38072e6dd8302279b": {
      "model_module": "@jupyter-widgets/base",
      "model_module_version": "2.0.0",
      "model_name": "LayoutModel",
      "state": {}
     },
     "246bb5f7cc654f8a8bf8ee3bb956bb2d": {
      "model_module": "@jupyter-widgets/base",
      "model_module_version": "2.0.0",
      "model_name": "LayoutModel",
      "state": {}
     },
     "2479e9b88991418daffa7aec7fd376de": {
      "model_module": "@jupyter-widgets/controls",
      "model_module_version": "2.0.0",
      "model_name": "HTMLStyleModel",
      "state": {
       "description_width": "",
       "font_size": null,
       "text_color": null
      }
     },
     "24849fb1d395403491a4941f158b1d54": {
      "model_module": "@jupyter-widgets/controls",
      "model_module_version": "2.0.0",
      "model_name": "HBoxModel",
      "state": {
       "children": [
        "IPY_MODEL_e08275feaa9b434b851b7f712472c3d8",
        "IPY_MODEL_a28fd94fb2db4784925de29c8a8d18c0",
        "IPY_MODEL_6722e94ff798465d9967fd17f03a4f6f"
       ],
       "layout": "IPY_MODEL_1e09d543c7e042f4b21f22323cf95328"
      }
     },
     "24a669dee39f4ef3bd15a143f61f6023": {
      "model_module": "@jupyter-widgets/controls",
      "model_module_version": "2.0.0",
      "model_name": "FloatProgressModel",
      "state": {
       "layout": "IPY_MODEL_cf1b9bcdddb9450691e6f4847aa7e4a6",
       "max": 3,
       "style": "IPY_MODEL_0bb5baa51f9047c499a038421754511d",
       "value": 3
      }
     },
     "24b9f084b1f2411883f6c2c92fed5819": {
      "model_module": "@jupyter-widgets/base",
      "model_module_version": "2.0.0",
      "model_name": "LayoutModel",
      "state": {}
     },
     "24d4b5684bfc4bf49e44de424c6eff7f": {
      "model_module": "@jupyter-widgets/controls",
      "model_module_version": "2.0.0",
      "model_name": "HTMLModel",
      "state": {
       "layout": "IPY_MODEL_86060599e7914681904deef5c38efe1a",
       "style": "IPY_MODEL_37f3532a91424c05a933f9b891eb934a",
       "value": " 1/1 [00:01&lt;00:00,  1.14s/it]"
      }
     },
     "24fa856e726444b99db7acf88f20263d": {
      "model_module": "@jupyter-widgets/base",
      "model_module_version": "2.0.0",
      "model_name": "LayoutModel",
      "state": {
       "display": "inline-flex",
       "flex_flow": "row wrap",
       "width": "100%"
      }
     },
     "25069a3010b44b0aa1cb57773ead112e": {
      "model_module": "@jupyter-widgets/controls",
      "model_module_version": "2.0.0",
      "model_name": "HTMLStyleModel",
      "state": {
       "description_width": "",
       "font_size": null,
       "text_color": null
      }
     },
     "251ad6f82638416c8545fd9daa505851": {
      "model_module": "@jupyter-widgets/controls",
      "model_module_version": "2.0.0",
      "model_name": "FloatProgressModel",
      "state": {
       "layout": "IPY_MODEL_ceaafa1dd7b64be68c099595a00e602e",
       "max": 1,
       "style": "IPY_MODEL_05a868b1ffd34dd095831ec18a349965",
       "value": 1
      }
     },
     "2566cb6410364d6aad53b2008f3c67f6": {
      "model_module": "@jupyter-widgets/controls",
      "model_module_version": "2.0.0",
      "model_name": "HTMLModel",
      "state": {
       "layout": "IPY_MODEL_32bc9934ec4d451a9d05dd607215ac42",
       "style": "IPY_MODEL_2758cc0bab124514b873d4a2b3d816ba",
       "value": "Scanning for edges...: 100%"
      }
     },
     "25706b8f3ef44be3b08ea2f0e4349ff5": {
      "model_module": "@jupyter-widgets/base",
      "model_module_version": "2.0.0",
      "model_name": "LayoutModel",
      "state": {
       "visibility": "hidden"
      }
     },
     "2571d796a37e4fbd86fc02a165ed00ca": {
      "model_module": "@jupyter-widgets/controls",
      "model_module_version": "2.0.0",
      "model_name": "HTMLModel",
      "state": {
       "layout": "IPY_MODEL_1c1d58587c5f48d69710672fb9889a29",
       "style": "IPY_MODEL_837624c15f5842b2970c054a61992816",
       "value": " 2/2 [00:01&lt;00:00,  1.29it/s]"
      }
     },
     "25b5ee416f384123bb3517072b0fb1b7": {
      "model_module": "@jupyter-widgets/controls",
      "model_module_version": "2.0.0",
      "model_name": "HTMLStyleModel",
      "state": {
       "description_width": "",
       "font_size": null,
       "text_color": null
      }
     },
     "265fa9614c1c431b9f6eda496c009680": {
      "model_module": "@jupyter-widgets/controls",
      "model_module_version": "2.0.0",
      "model_name": "ProgressStyleModel",
      "state": {
       "description_width": ""
      }
     },
     "266d41982fee4705828019ccb29a7924": {
      "model_module": "@jupyter-widgets/controls",
      "model_module_version": "2.0.0",
      "model_name": "HTMLModel",
      "state": {
       "layout": "IPY_MODEL_c40cb5ddbc974ca795d701f8ab25f003",
       "style": "IPY_MODEL_7ce90a37dffb4c62a27fcb366141855d",
       "value": "Scanning frames:  38%"
      }
     },
     "26713ba57f5047649ef774e665cb089b": {
      "model_module": "@jupyter-widgets/controls",
      "model_module_version": "2.0.0",
      "model_name": "HTMLModel",
      "state": {
       "layout": "IPY_MODEL_4bee39cf8773478f8785c97861c743d4",
       "style": "IPY_MODEL_5f8657e5233b4e919b7f0b09f7bd0179",
       "value": "hook.frame__tpch__region: nodes...: 100%"
      }
     },
     "267b01073279406791904a3ea9085e57": {
      "model_module": "@jupyter-widgets/base",
      "model_module_version": "2.0.0",
      "model_name": "LayoutModel",
      "state": {}
     },
     "26c370c0552d43df8957d454b43602a9": {
      "model_module": "@jupyter-widgets/controls",
      "model_module_version": "2.0.0",
      "model_name": "HTMLModel",
      "state": {
       "layout": "IPY_MODEL_f0dec97b9cc1468e86d3c1fd3e7117e4",
       "style": "IPY_MODEL_1cf0ef34f1e54fd9873397e9a82f3b79",
       "value": " 1/2 [00:06&lt;00:06,  6.59s/it]"
      }
     },
     "26c9d8d7ffa44556b4374a0e331da1fe": {
      "model_module": "@jupyter-widgets/controls",
      "model_module_version": "2.0.0",
      "model_name": "ProgressStyleModel",
      "state": {
       "description_width": ""
      }
     },
     "2712c1077b324da087beca1c5d5943c6": {
      "model_module": "@jupyter-widgets/controls",
      "model_module_version": "2.0.0",
      "model_name": "HTMLStyleModel",
      "state": {
       "description_width": "",
       "font_size": null,
       "text_color": null
      }
     },
     "272717e384e74a81ab6668dbf2a6ecdf": {
      "model_module": "@jupyter-widgets/controls",
      "model_module_version": "2.0.0",
      "model_name": "HTMLModel",
      "state": {
       "layout": "IPY_MODEL_8e3cfad00f0e4aa696d21b811d4faada",
       "style": "IPY_MODEL_7084cce0676d4b0ab8f387857da23046",
       "value": " 2/2 [00:01&lt;00:00,  1.08it/s]"
      }
     },
     "2750660b5d4e4ff993565b33c475906b": {
      "model_module": "@jupyter-widgets/base",
      "model_module_version": "2.0.0",
      "model_name": "LayoutModel",
      "state": {}
     },
     "2758cc0bab124514b873d4a2b3d816ba": {
      "model_module": "@jupyter-widgets/controls",
      "model_module_version": "2.0.0",
      "model_name": "HTMLStyleModel",
      "state": {
       "description_width": "",
       "font_size": null,
       "text_color": null
      }
     },
     "2773580b94f44220985d4edd40dc16fb": {
      "model_module": "@jupyter-widgets/controls",
      "model_module_version": "2.0.0",
      "model_name": "HTMLStyleModel",
      "state": {
       "description_width": "",
       "font_size": null,
       "text_color": null
      }
     },
     "2783e72fe0b14b479503e7dc33d5074a": {
      "model_module": "@jupyter-widgets/controls",
      "model_module_version": "2.0.0",
      "model_name": "HTMLModel",
      "state": {
       "layout": "IPY_MODEL_9afe9ea8b7024193b8a904b9da531562",
       "style": "IPY_MODEL_b9c7b7cce37147af8966568523557ce0",
       "value": " 1/2 [00:33&lt;00:33, 33.79s/it]"
      }
     },
     "2785e36382424a2798252170b2b19810": {
      "model_module": "@jupyter-widgets/controls",
      "model_module_version": "2.0.0",
      "model_name": "HTMLModel",
      "state": {
       "layout": "IPY_MODEL_7c966f61cff64a6fab65cb7e9418735d",
       "style": "IPY_MODEL_0c554a5326da427da8e65acfff79414a",
       "value": " 3/3 [00:04&lt;00:00,  1.54s/it]"
      }
     },
     "27967906adda4c419df5b8b18ee9f54b": {
      "model_module": "@jupyter-widgets/controls",
      "model_module_version": "2.0.0",
      "model_name": "HTMLModel",
      "state": {
       "layout": "IPY_MODEL_8f1731962f7b4eb2a68d42b48ab4de3a",
       "style": "IPY_MODEL_5babf1c5e53e47629486ec17ff1ed053",
       "value": "hook.frame__tpch__part (nodes)...: 100%"
      }
     },
     "27a0557b698a483d90352e5966794a02": {
      "model_module": "@jupyter-widgets/controls",
      "model_module_version": "2.0.0",
      "model_name": "HTMLModel",
      "state": {
       "layout": "IPY_MODEL_bac3244be2544a89ad667343b74db00c",
       "style": "IPY_MODEL_bacff2eecdc54045a21ff883f80e2dc2",
       "value": " 1/2 [00:05&lt;00:05,  5.19s/it]"
      }
     },
     "27a3c3c9c81949e4b3425cb79a012d95": {
      "model_module": "@jupyter-widgets/base",
      "model_module_version": "2.0.0",
      "model_name": "LayoutModel",
      "state": {}
     },
     "27bd2bf06070401a8bdbea3600057337": {
      "model_module": "@jupyter-widgets/controls",
      "model_module_version": "2.0.0",
      "model_name": "HTMLStyleModel",
      "state": {
       "description_width": "",
       "font_size": null,
       "text_color": null
      }
     },
     "281e4c53796d4e51a237f55203d1c00c": {
      "model_module": "@jupyter-widgets/base",
      "model_module_version": "2.0.0",
      "model_name": "LayoutModel",
      "state": {}
     },
     "2840ed5c54644e05a3bc475f50ec548c": {
      "model_module": "@jupyter-widgets/base",
      "model_module_version": "2.0.0",
      "model_name": "LayoutModel",
      "state": {}
     },
     "28696a7b772a493cbc40fc5febc8ad8e": {
      "model_module": "@jupyter-widgets/base",
      "model_module_version": "2.0.0",
      "model_name": "LayoutModel",
      "state": {}
     },
     "28a1d0da85284aa2948fc4341b7ffe66": {
      "model_module": "@jupyter-widgets/controls",
      "model_module_version": "2.0.0",
      "model_name": "HBoxModel",
      "state": {
       "children": [
        "IPY_MODEL_3820c30198c94886b34a26ee992e8998",
        "IPY_MODEL_ea3feb1f74814ad6adcfb506d258d070",
        "IPY_MODEL_4e55aeb80c7940be8af6040c8e53a23c"
       ],
       "layout": "IPY_MODEL_18781ca6c0fc40fe9c26c9a4611872a3"
      }
     },
     "28adae921de44408bdc0e9c2d6133bba": {
      "model_module": "@jupyter-widgets/controls",
      "model_module_version": "2.0.0",
      "model_name": "HTMLStyleModel",
      "state": {
       "description_width": "",
       "font_size": null,
       "text_color": null
      }
     },
     "290c8e63f0584f2abb3f6c01342c4aff": {
      "model_module": "@jupyter-widgets/base",
      "model_module_version": "2.0.0",
      "model_name": "LayoutModel",
      "state": {}
     },
     "29482f5906b24ac8ba9ef6f6d7a63f8e": {
      "model_module": "@jupyter-widgets/base",
      "model_module_version": "2.0.0",
      "model_name": "LayoutModel",
      "state": {}
     },
     "2948306dd43342469ff1ed60cc458954": {
      "model_module": "@jupyter-widgets/controls",
      "model_module_version": "2.0.0",
      "model_name": "ProgressStyleModel",
      "state": {
       "description_width": ""
      }
     },
     "2953cc8f7f8641049bf6add326ad95f6": {
      "model_module": "@jupyter-widgets/controls",
      "model_module_version": "2.0.0",
      "model_name": "ProgressStyleModel",
      "state": {
       "description_width": ""
      }
     },
     "2956c5e2a79b458986d28428bfb6c247": {
      "model_module": "@jupyter-widgets/controls",
      "model_module_version": "2.0.0",
      "model_name": "HTMLStyleModel",
      "state": {
       "description_width": "",
       "font_size": null,
       "text_color": null
      }
     },
     "29734772197c4b6b931d02b598f27442": {
      "model_module": "@jupyter-widgets/controls",
      "model_module_version": "2.0.0",
      "model_name": "HTMLModel",
      "state": {
       "layout": "IPY_MODEL_1ae11b586e61419488fc0efea0e7b77a",
       "style": "IPY_MODEL_b9539ef2d64647f1be9d4f982b65d338",
       "value": "Scanning for nodes...: 100%"
      }
     },
     "29973cb2da9b49d5ae949a1b212089eb": {
      "model_module": "@jupyter-widgets/controls",
      "model_module_version": "2.0.0",
      "model_name": "HTMLModel",
      "state": {
       "layout": "IPY_MODEL_b1cbb7139b9043c4959186b0d5f43331",
       "style": "IPY_MODEL_fe87d3af48df4c02b368bcf05c5b3fcf",
       "value": "Scanning for nodes...: 100%"
      }
     },
     "29badc57ce7d4a1dbfdc33b7afb6f5f9": {
      "model_module": "@jupyter-widgets/controls",
      "model_module_version": "2.0.0",
      "model_name": "HBoxModel",
      "state": {
       "children": [
        "IPY_MODEL_d46804e811de4c15a6982195c7b35f24",
        "IPY_MODEL_f740cfaf0ac94670a5df2c0bddf16251",
        "IPY_MODEL_600cb958523d45258dfc8d7e297d7e3e"
       ],
       "layout": "IPY_MODEL_1c25a89955364b98aa1b2dc43fc372f6"
      }
     },
     "29bafc07ee564680a97a43ae30a8f273": {
      "model_module": "@jupyter-widgets/controls",
      "model_module_version": "2.0.0",
      "model_name": "ProgressStyleModel",
      "state": {
       "description_width": ""
      }
     },
     "29e1e1a7f89c4b48b7749abc9e4841f5": {
      "model_module": "@jupyter-widgets/controls",
      "model_module_version": "2.0.0",
      "model_name": "HTMLModel",
      "state": {
       "layout": "IPY_MODEL_ce2cc28d3c81423db45565e524903fe9",
       "style": "IPY_MODEL_b96c5dad9d684fc18273214fbf4f19c1",
       "value": "hook.frame__tpch__orders: edges...: 100%"
      }
     },
     "2a00be0b336646789436250f01e77416": {
      "model_module": "@jupyter-widgets/base",
      "model_module_version": "2.0.0",
      "model_name": "LayoutModel",
      "state": {}
     },
     "2a180966a1e6484b8ec803dcc10d9937": {
      "model_module": "@jupyter-widgets/base",
      "model_module_version": "2.0.0",
      "model_name": "LayoutModel",
      "state": {}
     },
     "2a5d91249cc1435887289ccd3ae4520f": {
      "model_module": "@jupyter-widgets/controls",
      "model_module_version": "2.0.0",
      "model_name": "HTMLStyleModel",
      "state": {
       "description_width": "",
       "font_size": null,
       "text_color": null
      }
     },
     "2a636eba07d243718e11fc657171a3d9": {
      "model_module": "@jupyter-widgets/controls",
      "model_module_version": "2.0.0",
      "model_name": "HTMLStyleModel",
      "state": {
       "description_width": "",
       "font_size": null,
       "text_color": null
      }
     },
     "2a7c03aa47f84778af98dcc90cf7a740": {
      "model_module": "@jupyter-widgets/controls",
      "model_module_version": "2.0.0",
      "model_name": "HTMLStyleModel",
      "state": {
       "description_width": "",
       "font_size": null,
       "text_color": null
      }
     },
     "2a7fd76061454c3f8a79a00470db1a54": {
      "model_module": "@jupyter-widgets/controls",
      "model_module_version": "2.0.0",
      "model_name": "FloatProgressModel",
      "state": {
       "bar_style": "success",
       "layout": "IPY_MODEL_1604ee4b8ed8470e8eed6c6415aaf8f8",
       "max": 1,
       "style": "IPY_MODEL_63c77364b7604947a7e780c7961d91a1",
       "value": 1
      }
     },
     "2a9582e6b9cd428ebe9a63dc804edfec": {
      "model_module": "@jupyter-widgets/controls",
      "model_module_version": "2.0.0",
      "model_name": "HTMLModel",
      "state": {
       "layout": "IPY_MODEL_5e060c1b3984457db405ffb18cbc8121",
       "style": "IPY_MODEL_2a7c03aa47f84778af98dcc90cf7a740",
       "value": " 1/1 [00:00&lt;00:00,  2.00it/s]"
      }
     },
     "2abe69f6e61f47a9bbe2781e2e3f7acc": {
      "model_module": "@jupyter-widgets/controls",
      "model_module_version": "2.0.0",
      "model_name": "HTMLModel",
      "state": {
       "layout": "IPY_MODEL_3222e8bfbebe4730a5defc21f1ec6d37",
       "style": "IPY_MODEL_fd0268e9113042c4a581e79862e7c56b",
       "value": " 1/1 [00:12&lt;00:00, 12.35s/it]"
      }
     },
     "2af9e94df58847558c2af0af5847cd25": {
      "model_module": "@jupyter-widgets/controls",
      "model_module_version": "2.0.0",
      "model_name": "HTMLModel",
      "state": {
       "layout": "IPY_MODEL_9da14c3562c2417e9590f45265c86c86",
       "style": "IPY_MODEL_b5a7ba69b119486ea6fa186eac5ddeb3",
       "value": "Scanning frames: 100%"
      }
     },
     "2b0958e10e7b4e9fa7e0713a56be44be": {
      "model_module": "@jupyter-widgets/base",
      "model_module_version": "2.0.0",
      "model_name": "LayoutModel",
      "state": {}
     },
     "2b1a8479a93e4e49a90db3ea4e680a45": {
      "model_module": "@jupyter-widgets/base",
      "model_module_version": "2.0.0",
      "model_name": "LayoutModel",
      "state": {
       "flex": "2"
      }
     },
     "2b216e3e7d294c7ab41c0283df6d7b0a": {
      "model_module": "@jupyter-widgets/controls",
      "model_module_version": "2.0.0",
      "model_name": "FloatProgressModel",
      "state": {
       "bar_style": "success",
       "layout": "IPY_MODEL_a289f2c518b6497d8783cf0111a7bf67",
       "max": 1,
       "style": "IPY_MODEL_d01de1e232f146e8995124e3be860ac4",
       "value": 1
      }
     },
     "2b3f5c71a6a74e8f89ead702ce316e6b": {
      "model_module": "@jupyter-widgets/controls",
      "model_module_version": "2.0.0",
      "model_name": "HTMLModel",
      "state": {
       "layout": "IPY_MODEL_ec32c2635fa24af2823757883799227e",
       "style": "IPY_MODEL_f7916e20139a4323b7ca5f7082ba989c",
       "value": " 0/1 [00:00&lt;?, ?it/s]"
      }
     },
     "2b867e4d9702414caac6516d10387770": {
      "model_module": "@jupyter-widgets/controls",
      "model_module_version": "2.0.0",
      "model_name": "HTMLStyleModel",
      "state": {
       "description_width": "",
       "font_size": null,
       "text_color": null
      }
     },
     "2bd9f387ba3f4ba9ac5055ede6e72b68": {
      "model_module": "@jupyter-widgets/controls",
      "model_module_version": "2.0.0",
      "model_name": "ProgressStyleModel",
      "state": {
       "description_width": ""
      }
     },
     "2bdca6966dc74e4a841ef63e5eefd65d": {
      "model_module": "@jupyter-widgets/controls",
      "model_module_version": "2.0.0",
      "model_name": "HTMLModel",
      "state": {
       "layout": "IPY_MODEL_ac27303078bc47d49c52067b3d3e42fd",
       "style": "IPY_MODEL_b611e1fcd8224d3eb8d8a226620a5d4c",
       "value": "hook.frame__tpch__nation: edges...: 100%"
      }
     },
     "2bf68778433a4754a3c3051b9facaf31": {
      "model_module": "@jupyter-widgets/controls",
      "model_module_version": "2.0.0",
      "model_name": "HBoxModel",
      "state": {
       "children": [
        "IPY_MODEL_6cac0bdeda27482f8a3a41434f6fff53",
        "IPY_MODEL_7f287800fff24ce381c53f0e7b8a93cb",
        "IPY_MODEL_c285ab06809f456ab81be3c2ce09ffc5"
       ],
       "layout": "IPY_MODEL_2c51a1d933a74ea1869ebc9ba78cb00e"
      }
     },
     "2bf7528fcdab4438b7bc5d7d42d69ef9": {
      "model_module": "@jupyter-widgets/base",
      "model_module_version": "2.0.0",
      "model_name": "LayoutModel",
      "state": {}
     },
     "2c0ed4fbf1a84259b59b0415b931936f": {
      "model_module": "@jupyter-widgets/controls",
      "model_module_version": "2.0.0",
      "model_name": "HTMLModel",
      "state": {
       "layout": "IPY_MODEL_36dc468aad5b427fb011d2722d4ff991",
       "style": "IPY_MODEL_38e3105fd1a74221aaab67c1933bd010",
       "value": " 2/2 [00:00&lt;00:00,  1.04it/s]"
      }
     },
     "2c0f49e67d4d42c295b36ae44d6ca41b": {
      "model_module": "@jupyter-widgets/controls",
      "model_module_version": "2.0.0",
      "model_name": "HTMLModel",
      "state": {
       "layout": "IPY_MODEL_494e918936df460faad75a772ab593b0",
       "style": "IPY_MODEL_6ae52fbaae3947f699ed120b77352d4e",
       "value": "hook.frame__tpch__supplier:  50%"
      }
     },
     "2c13d51c9e524eaa953a0de7e42951ba": {
      "model_module": "@jupyter-widgets/base",
      "model_module_version": "2.0.0",
      "model_name": "LayoutModel",
      "state": {}
     },
     "2c443a0945e2472eb179b8468454e34c": {
      "model_module": "@jupyter-widgets/controls",
      "model_module_version": "2.0.0",
      "model_name": "HTMLStyleModel",
      "state": {
       "description_width": "",
       "font_size": null,
       "text_color": null
      }
     },
     "2c51a1d933a74ea1869ebc9ba78cb00e": {
      "model_module": "@jupyter-widgets/base",
      "model_module_version": "2.0.0",
      "model_name": "LayoutModel",
      "state": {
       "visibility": "hidden"
      }
     },
     "2c52a8a9bc2a45b3935334a677853d22": {
      "model_module": "@jupyter-widgets/controls",
      "model_module_version": "2.0.0",
      "model_name": "FloatProgressModel",
      "state": {
       "bar_style": "success",
       "layout": "IPY_MODEL_62a9fa395984427cb8e22d80d59d6963",
       "max": 2,
       "style": "IPY_MODEL_51aebb283fb34ea28d13c2cc53c165dc",
       "value": 2
      }
     },
     "2c7e9f857003455b8f09ca7d484edf32": {
      "model_module": "@jupyter-widgets/controls",
      "model_module_version": "2.0.0",
      "model_name": "HBoxModel",
      "state": {
       "children": [
        "IPY_MODEL_0fd3eafe94ad408391bd1697a4630d29",
        "IPY_MODEL_802a51857b34421d918e4d1dd1559dc8",
        "IPY_MODEL_9e8ea4acbc634a08a3e314a98808af2d"
       ],
       "layout": "IPY_MODEL_6911e5479d6b4eb1bb513427e34daa89"
      }
     },
     "2cb306e8006b4562bc05d229225d2e11": {
      "model_module": "@jupyter-widgets/base",
      "model_module_version": "2.0.0",
      "model_name": "LayoutModel",
      "state": {}
     },
     "2cb63b4088144fd7b4d4573266e79269": {
      "model_module": "@jupyter-widgets/controls",
      "model_module_version": "2.0.0",
      "model_name": "HTMLStyleModel",
      "state": {
       "description_width": "",
       "font_size": null,
       "text_color": null
      }
     },
     "2cdf8b9807ef499086f82f3db386437b": {
      "model_module": "@jupyter-widgets/base",
      "model_module_version": "2.0.0",
      "model_name": "LayoutModel",
      "state": {}
     },
     "2d086a31de8e4997990de8d96fc68cbd": {
      "model_module": "@jupyter-widgets/controls",
      "model_module_version": "2.0.0",
      "model_name": "HTMLStyleModel",
      "state": {
       "description_width": "",
       "font_size": null,
       "text_color": null
      }
     },
     "2d0d1f5953ed4f0394ba1106e8e08554": {
      "model_module": "@jupyter-widgets/controls",
      "model_module_version": "2.0.0",
      "model_name": "HTMLModel",
      "state": {
       "layout": "IPY_MODEL_8c7f722c7d8245c4a990ac4ab2f7950e",
       "style": "IPY_MODEL_b75cbc2e99c1423f8611ec66a74c66a5",
       "value": " 1/1 [00:00&lt;00:00, 173.94it/s]"
      }
     },
     "2d272aec4b434f5f87588718d0d5f74e": {
      "model_module": "@jupyter-widgets/controls",
      "model_module_version": "2.0.0",
      "model_name": "ProgressStyleModel",
      "state": {
       "description_width": ""
      }
     },
     "2d321e7ce66b46e3b7d21f2212f7c699": {
      "model_module": "@jupyter-widgets/base",
      "model_module_version": "2.0.0",
      "model_name": "LayoutModel",
      "state": {
       "visibility": "hidden"
      }
     },
     "2d552c2c7ba242849aa95ead3947dbde": {
      "model_module": "@jupyter-widgets/base",
      "model_module_version": "2.0.0",
      "model_name": "LayoutModel",
      "state": {}
     },
     "2d5e38bbb3e046aeba460c7c5d422bfe": {
      "model_module": "@jupyter-widgets/base",
      "model_module_version": "2.0.0",
      "model_name": "LayoutModel",
      "state": {}
     },
     "2d6a0b73509c41b9ae6f5b7cc6e8477e": {
      "model_module": "@jupyter-widgets/controls",
      "model_module_version": "2.0.0",
      "model_name": "HBoxModel",
      "state": {
       "children": [
        "IPY_MODEL_3d369e1cd33b4465b2de5659307ddc36",
        "IPY_MODEL_08cfdabab44b4f5089d629c7ee0b7de9",
        "IPY_MODEL_7aaf83ff85804f0885e99157500cc5ff"
       ],
       "layout": "IPY_MODEL_28696a7b772a493cbc40fc5febc8ad8e"
      }
     },
     "2d736642cf0e478da392ad18fab62bf8": {
      "model_module": "@jupyter-widgets/base",
      "model_module_version": "2.0.0",
      "model_name": "LayoutModel",
      "state": {}
     },
     "2d7a421429e948b48e2e4f2734f13f1a": {
      "model_module": "@jupyter-widgets/controls",
      "model_module_version": "2.0.0",
      "model_name": "HTMLModel",
      "state": {
       "layout": "IPY_MODEL_babfa90acbb340a9b6e65604a015786a",
       "style": "IPY_MODEL_f4cce909534d42ba8afd96ca57ce3925",
       "value": "Scanning for nodes...: 100%"
      }
     },
     "2db6f49170a04880adbe0f4666f0ba85": {
      "model_module": "@jupyter-widgets/controls",
      "model_module_version": "2.0.0",
      "model_name": "FloatProgressModel",
      "state": {
       "layout": "IPY_MODEL_89463767278c4f34a4733a93be6db9dd",
       "max": 2,
       "style": "IPY_MODEL_14af962c7de24da0afbe05002a9f058e",
       "value": 2
      }
     },
     "2de6805a3d194c4bb7c4cd1d8aa6a681": {
      "model_module": "@jupyter-widgets/controls",
      "model_module_version": "2.0.0",
      "model_name": "HTMLStyleModel",
      "state": {
       "description_width": "",
       "font_size": null,
       "text_color": null
      }
     },
     "2dee40c817b14e748aaa74267e97d71a": {
      "model_module": "@jupyter-widgets/base",
      "model_module_version": "2.0.0",
      "model_name": "LayoutModel",
      "state": {}
     },
     "2e031c2f855f43f5a2fd38f1ce4b2bc7": {
      "model_module": "@jupyter-widgets/controls",
      "model_module_version": "2.0.0",
      "model_name": "FloatProgressModel",
      "state": {
       "bar_style": "success",
       "layout": "IPY_MODEL_5fbafe411da343ffb65312d97c1635ca",
       "max": 2,
       "style": "IPY_MODEL_a6878a31d03540f59f41cbd9a881bf5c",
       "value": 2
      }
     },
     "2e09dacc76e04238b461e32bf9a4c769": {
      "model_module": "@jupyter-widgets/base",
      "model_module_version": "2.0.0",
      "model_name": "LayoutModel",
      "state": {
       "visibility": "hidden"
      }
     },
     "2e0ef5e7c03a4859947d2edae9099fdb": {
      "model_module": "@jupyter-widgets/base",
      "model_module_version": "2.0.0",
      "model_name": "LayoutModel",
      "state": {}
     },
     "2e33fc72593e4fdc8bb8fad2990262c7": {
      "model_module": "@jupyter-widgets/base",
      "model_module_version": "2.0.0",
      "model_name": "LayoutModel",
      "state": {}
     },
     "2e4b9771071f42bc83fa656a9364941a": {
      "model_module": "@jupyter-widgets/controls",
      "model_module_version": "2.0.0",
      "model_name": "HTMLModel",
      "state": {
       "layout": "IPY_MODEL_302f0bb4d34b4861897d9735fddda0c2",
       "style": "IPY_MODEL_32c2cc5096864d989e592d89028aab76",
       "value": "hook.frame__tpch__lineitem: nodes...: 100%"
      }
     },
     "2e5589ef8f0047208db7500950618f0a": {
      "model_module": "@jupyter-widgets/base",
      "model_module_version": "2.0.0",
      "model_name": "LayoutModel",
      "state": {}
     },
     "2e7a8c7b15ea46a2bab8e207fda35f43": {
      "model_module": "@jupyter-widgets/base",
      "model_module_version": "2.0.0",
      "model_name": "LayoutModel",
      "state": {}
     },
     "2e82162e7cef4b549891140e073d7696": {
      "model_module": "@jupyter-widgets/controls",
      "model_module_version": "2.0.0",
      "model_name": "ProgressStyleModel",
      "state": {
       "description_width": ""
      }
     },
     "2e94cbb96a9c4445827f9b477e8fe598": {
      "model_module": "@jupyter-widgets/base",
      "model_module_version": "2.0.0",
      "model_name": "LayoutModel",
      "state": {}
     },
     "2e9a20298d1e4c9d9acfb9735d5064d0": {
      "model_module": "@jupyter-widgets/base",
      "model_module_version": "2.0.0",
      "model_name": "LayoutModel",
      "state": {}
     },
     "2ea3860f5ca445c087154920c93f19ac": {
      "model_module": "@jupyter-widgets/controls",
      "model_module_version": "2.0.0",
      "model_name": "HTMLStyleModel",
      "state": {
       "description_width": "",
       "font_size": null,
       "text_color": null
      }
     },
     "2ea9950701f647aaac39c0004ad26c7e": {
      "model_module": "@jupyter-widgets/base",
      "model_module_version": "2.0.0",
      "model_name": "LayoutModel",
      "state": {}
     },
     "2eef707141874257aa3aff7cbe5d24a5": {
      "model_module": "@jupyter-widgets/controls",
      "model_module_version": "2.0.0",
      "model_name": "HTMLModel",
      "state": {
       "layout": "IPY_MODEL_c6827f8fc74e47548b30485a7cce2f9e",
       "style": "IPY_MODEL_455b006ea58047679306317fd83ffdb2",
       "value": " 0/1 [00:00&lt;?, ?it/s]"
      }
     },
     "2f3b3a24d96b453aadae468bbd1a3b10": {
      "model_module": "@jupyter-widgets/base",
      "model_module_version": "2.0.0",
      "model_name": "LayoutModel",
      "state": {}
     },
     "2f6e84aaa2a04a8993276501ae19b764": {
      "model_module": "@jupyter-widgets/controls",
      "model_module_version": "2.0.0",
      "model_name": "ProgressStyleModel",
      "state": {
       "description_width": ""
      }
     },
     "2f7888e5085144bcb410eff70c2cc1f9": {
      "model_module": "@jupyter-widgets/controls",
      "model_module_version": "2.0.0",
      "model_name": "FloatProgressModel",
      "state": {
       "bar_style": "success",
       "layout": "IPY_MODEL_a16c23bf41134b5b9b58077823c971a8",
       "max": 4,
       "style": "IPY_MODEL_ddaf693174b5424eaa0aba5a4ab79182",
       "value": 4
      }
     },
     "2f8097a054c04450bb9e6c775dbeded3": {
      "model_module": "@jupyter-widgets/controls",
      "model_module_version": "2.0.0",
      "model_name": "HTMLModel",
      "state": {
       "layout": "IPY_MODEL_b1ef2be153754906a3fff4d33e41e583",
       "style": "IPY_MODEL_5574bcf190374efcbf809214e4ba2527",
       "value": " 2/2 [00:00&lt;00:00,  2.12it/s]"
      }
     },
     "2f88d7775d8e4f628ae856bab327dcf0": {
      "model_module": "@jupyter-widgets/controls",
      "model_module_version": "2.0.0",
      "model_name": "HTMLModel",
      "state": {
       "layout": "IPY_MODEL_f0294a44ce274497839ccc1a4c9a2239",
       "style": "IPY_MODEL_d88723c47145438b8c42454fadf796d9",
       "value": " 2/2 [00:01&lt;00:00,  1.66it/s]"
      }
     },
     "2f8fe0b722c54e9aa03ba93107939aaf": {
      "model_module": "@jupyter-widgets/controls",
      "model_module_version": "2.0.0",
      "model_name": "HBoxModel",
      "state": {
       "children": [
        "IPY_MODEL_346d6d1386dc47fda4f7ba4c0e96d1b8",
        "IPY_MODEL_08b04b69e6754b57aae04d67be234c92",
        "IPY_MODEL_58d1e2f891984e99b8ee8a6a79bbbc4e"
       ],
       "layout": "IPY_MODEL_724579da70f845caa9a8d6b89c5a25a7"
      }
     },
     "2f92d47315e74846a00997d6842862d0": {
      "model_module": "@jupyter-widgets/controls",
      "model_module_version": "2.0.0",
      "model_name": "HBoxModel",
      "state": {
       "children": [
        "IPY_MODEL_c936085327474821a95e792251678ab3",
        "IPY_MODEL_c917ab6694e342668b1728659be4ecba",
        "IPY_MODEL_e57e644611c947a68b6b304282c967dd"
       ],
       "layout": "IPY_MODEL_1d6779664c0a4c249f85f74aa744e6f9"
      }
     },
     "2faa1732bb3749b9a658d17c4b1e3a7e": {
      "model_module": "@jupyter-widgets/base",
      "model_module_version": "2.0.0",
      "model_name": "LayoutModel",
      "state": {
       "visibility": "hidden"
      }
     },
     "2fcc602d14224995aaf587d7ba564cff": {
      "model_module": "@jupyter-widgets/controls",
      "model_module_version": "2.0.0",
      "model_name": "HTMLStyleModel",
      "state": {
       "description_width": "",
       "font_size": null,
       "text_color": null
      }
     },
     "2fd4907d35aa4d0688a88d2bcd418dd3": {
      "model_module": "@jupyter-widgets/controls",
      "model_module_version": "2.0.0",
      "model_name": "HBoxModel",
      "state": {
       "children": [
        "IPY_MODEL_3cf370aab9274996b8cde8995a5d51da",
        "IPY_MODEL_b191c0c044244b2ab91ed9525ab4675c",
        "IPY_MODEL_7ee0646961d7445ca37412682a6ff1f2"
       ],
       "layout": "IPY_MODEL_b37f60783cf54809a234f3f73dc8da63"
      }
     },
     "3000f87c8cd64de0b0e094d67455aa42": {
      "model_module": "@jupyter-widgets/controls",
      "model_module_version": "2.0.0",
      "model_name": "HTMLModel",
      "state": {
       "layout": "IPY_MODEL_7aaadd9836be497687e9564a41ae1336",
       "style": "IPY_MODEL_733aae0570b14351adf7efc7834044c1",
       "value": " 4/8 [00:31&lt;00:13,  3.36s/it]"
      }
     },
     "30141bd4d0684e45b3a955c11942e69c": {
      "model_module": "@jupyter-widgets/base",
      "model_module_version": "2.0.0",
      "model_name": "LayoutModel",
      "state": {}
     },
     "302058f3965e4d61a4a99b375f0e10fd": {
      "model_module": "@jupyter-widgets/base",
      "model_module_version": "2.0.0",
      "model_name": "LayoutModel",
      "state": {}
     },
     "302f0bb4d34b4861897d9735fddda0c2": {
      "model_module": "@jupyter-widgets/base",
      "model_module_version": "2.0.0",
      "model_name": "LayoutModel",
      "state": {}
     },
     "3030bb604401485faf66e44cb127cb0d": {
      "model_module": "@jupyter-widgets/base",
      "model_module_version": "2.0.0",
      "model_name": "LayoutModel",
      "state": {}
     },
     "30409f19858244e992f0c9ed47c5c527": {
      "model_module": "@jupyter-widgets/base",
      "model_module_version": "2.0.0",
      "model_name": "LayoutModel",
      "state": {}
     },
     "30544f3ebe034c7281e8b36da82220d1": {
      "model_module": "@jupyter-widgets/controls",
      "model_module_version": "2.0.0",
      "model_name": "HTMLModel",
      "state": {
       "layout": "IPY_MODEL_b22a387571fe446b9f27dbba9163427a",
       "style": "IPY_MODEL_a2ffa1b3278c45d7aa9dbd4fc8e7b929",
       "value": " 1/1 [00:00&lt;00:00,  1.08it/s]"
      }
     },
     "3093cb10173d4b7e926d05a0968f4ed5": {
      "model_module": "@jupyter-widgets/base",
      "model_module_version": "2.0.0",
      "model_name": "LayoutModel",
      "state": {}
     },
     "30a34f471a8b4a4ab0d48cb4e1887f5f": {
      "model_module": "@jupyter-widgets/controls",
      "model_module_version": "2.0.0",
      "model_name": "HTMLStyleModel",
      "state": {
       "description_width": "",
       "font_size": null,
       "text_color": null
      }
     },
     "30b696ab29414bdfa347e0404928a4ae": {
      "model_module": "@jupyter-widgets/controls",
      "model_module_version": "2.0.0",
      "model_name": "ProgressStyleModel",
      "state": {
       "description_width": ""
      }
     },
     "30dd5929415f4e368ba99f925c7b8887": {
      "model_module": "@jupyter-widgets/controls",
      "model_module_version": "2.0.0",
      "model_name": "HBoxModel",
      "state": {
       "children": [
        "IPY_MODEL_0c8a018a0adb48fa86f6485bf4645d0e",
        "IPY_MODEL_c78f98189e0c433f9e8ddd53059c9240",
        "IPY_MODEL_5e8781fde91e475fa18f5658c2bafeee"
       ],
       "layout": "IPY_MODEL_ccd0b8983c914678a63b80f1120064d8"
      }
     },
     "30dee072dff7497f90b908c3f7e293bd": {
      "model_module": "@jupyter-widgets/controls",
      "model_module_version": "2.0.0",
      "model_name": "HTMLStyleModel",
      "state": {
       "description_width": "",
       "font_size": null,
       "text_color": null
      }
     },
     "30f7a16724d145cd922bb2f8ecf9629f": {
      "model_module": "@jupyter-widgets/base",
      "model_module_version": "2.0.0",
      "model_name": "LayoutModel",
      "state": {}
     },
     "3139c0ed62574270b22de3f9362ccc67": {
      "model_module": "@jupyter-widgets/controls",
      "model_module_version": "2.0.0",
      "model_name": "HTMLModel",
      "state": {
       "layout": "IPY_MODEL_6ea92ca6f05c43c5a18315a8ecbd6565",
       "style": "IPY_MODEL_d51b270a6c8e48d0ab86d4da8ce85078",
       "value": " 2/2 [00:31&lt;00:00, 15.54s/it]"
      }
     },
     "3156754761ec4cb0a476bb60d348dd3e": {
      "model_module": "@jupyter-widgets/base",
      "model_module_version": "2.0.0",
      "model_name": "LayoutModel",
      "state": {}
     },
     "3170df213c364d3b9becfcc8a1df0bed": {
      "model_module": "@jupyter-widgets/base",
      "model_module_version": "2.0.0",
      "model_name": "LayoutModel",
      "state": {}
     },
     "3177add784874b4e9ec12842e7f87a9f": {
      "model_module": "@jupyter-widgets/base",
      "model_module_version": "2.0.0",
      "model_name": "LayoutModel",
      "state": {}
     },
     "31a2c03af074435eade574191154d27c": {
      "model_module": "@jupyter-widgets/base",
      "model_module_version": "2.0.0",
      "model_name": "LayoutModel",
      "state": {}
     },
     "31e4743e2d884cbc91986e0b7f96b884": {
      "model_module": "@jupyter-widgets/controls",
      "model_module_version": "2.0.0",
      "model_name": "ProgressStyleModel",
      "state": {
       "description_width": ""
      }
     },
     "31f3711e65a94bf098c44a8d79ebccdc": {
      "model_module": "@jupyter-widgets/controls",
      "model_module_version": "2.0.0",
      "model_name": "FloatProgressModel",
      "state": {
       "layout": "IPY_MODEL_41fe96a496fc49089beb5edfd0693791",
       "max": 1,
       "style": "IPY_MODEL_b07dbead3c864cbcb6549eacf9aa6a8c",
       "value": 1
      }
     },
     "321efa8648e44ddc9d15f99426bcaa91": {
      "model_module": "@jupyter-widgets/controls",
      "model_module_version": "2.0.0",
      "model_name": "HBoxModel",
      "state": {
       "children": [
        "IPY_MODEL_07c2489592f042d4acef04db433c612e",
        "IPY_MODEL_a37651aa2ed64831964f17f8f2bfef28",
        "IPY_MODEL_3ff5011ba9284568a4b77f6026cfeb4a"
       ],
       "layout": "IPY_MODEL_aa7b6832643342789ce1adc03fc2f2e9"
      }
     },
     "3222e8bfbebe4730a5defc21f1ec6d37": {
      "model_module": "@jupyter-widgets/base",
      "model_module_version": "2.0.0",
      "model_name": "LayoutModel",
      "state": {}
     },
     "322b2d4589914137b1913c02a9aa1ff3": {
      "model_module": "@jupyter-widgets/controls",
      "model_module_version": "2.0.0",
      "model_name": "HBoxModel",
      "state": {
       "children": [
        "IPY_MODEL_fef19ca358644ccdab68eebc0c9d007a",
        "IPY_MODEL_7878df3c102c45fbb5b936bc24fb1c36",
        "IPY_MODEL_3441e465dbc54923b108ffb49f6dd5e3"
       ],
       "layout": "IPY_MODEL_3d78ddc9819e49528044d7e011721c36"
      }
     },
     "322db34160ee4572847378a3beb775eb": {
      "model_module": "@jupyter-widgets/controls",
      "model_module_version": "2.0.0",
      "model_name": "HTMLModel",
      "state": {
       "layout": "IPY_MODEL_d9aca17ba463475a942c03387156cb8a",
       "style": "IPY_MODEL_f031db51838543bdb4b8b42910f61f50",
       "value": " 1/2 [00:01&lt;00:01,  1.60s/it]"
      }
     },
     "326d05b1097749b3be5b8cf3df1471d4": {
      "model_module": "@jupyter-widgets/controls",
      "model_module_version": "2.0.0",
      "model_name": "HTMLStyleModel",
      "state": {
       "description_width": "",
       "font_size": null,
       "text_color": null
      }
     },
     "3276d477c7b443b4bcc9fe8a022e50f6": {
      "model_module": "@jupyter-widgets/controls",
      "model_module_version": "2.0.0",
      "model_name": "HTMLStyleModel",
      "state": {
       "description_width": "",
       "font_size": null,
       "text_color": null
      }
     },
     "327e0fefe63c40e7a9a7a717adfd0ebe": {
      "model_module": "@jupyter-widgets/base",
      "model_module_version": "2.0.0",
      "model_name": "LayoutModel",
      "state": {
       "visibility": "hidden"
      }
     },
     "32844f8627614d93817c7a1b45f877fe": {
      "model_module": "@jupyter-widgets/controls",
      "model_module_version": "2.0.0",
      "model_name": "HTMLModel",
      "state": {
       "layout": "IPY_MODEL_8a4ac3caff924161ad1518f4c389a694",
       "style": "IPY_MODEL_0451e64be76e44eea7319569b8a727a4",
       "value": "Scanning for nodes...: 100%"
      }
     },
     "328ba984120c45f29dff4682b08845d3": {
      "model_module": "@jupyter-widgets/base",
      "model_module_version": "2.0.0",
      "model_name": "LayoutModel",
      "state": {
       "visibility": "hidden"
      }
     },
     "32a32aab913f4d9daf4fa58ea132b43c": {
      "model_module": "@jupyter-widgets/controls",
      "model_module_version": "2.0.0",
      "model_name": "FloatProgressModel",
      "state": {
       "layout": "IPY_MODEL_399581133d5a4f2481b3a5338b0c5250",
       "max": 4,
       "style": "IPY_MODEL_aade29b10186432f87b7cb2081cb7637",
       "value": 4
      }
     },
     "32bc9934ec4d451a9d05dd607215ac42": {
      "model_module": "@jupyter-widgets/base",
      "model_module_version": "2.0.0",
      "model_name": "LayoutModel",
      "state": {}
     },
     "32c2cc5096864d989e592d89028aab76": {
      "model_module": "@jupyter-widgets/controls",
      "model_module_version": "2.0.0",
      "model_name": "HTMLStyleModel",
      "state": {
       "description_width": "",
       "font_size": null,
       "text_color": null
      }
     },
     "32c508b5276547c2b653489f9dd0d5d7": {
      "model_module": "@jupyter-widgets/controls",
      "model_module_version": "2.0.0",
      "model_name": "ProgressStyleModel",
      "state": {
       "description_width": ""
      }
     },
     "32c77d9eea8d47fca886ad46d6629c9d": {
      "model_module": "@jupyter-widgets/controls",
      "model_module_version": "2.0.0",
      "model_name": "HTMLStyleModel",
      "state": {
       "description_width": "",
       "font_size": null,
       "text_color": null
      }
     },
     "32d78904fe5e4a66bed4d8bd1722a507": {
      "model_module": "@jupyter-widgets/controls",
      "model_module_version": "2.0.0",
      "model_name": "HTMLModel",
      "state": {
       "layout": "IPY_MODEL_c3c047d708a9486c8f8fec8272a63671",
       "style": "IPY_MODEL_b2dfeaa8fd2f4f928d73de02c7a6e342",
       "value": "Scanning for edges...: 100%"
      }
     },
     "3303f47ec9ca4c1d9601546404412cf0": {
      "model_module": "@jupyter-widgets/controls",
      "model_module_version": "2.0.0",
      "model_name": "HBoxModel",
      "state": {
       "children": [
        "IPY_MODEL_b8cc3fef84f44fe286031ee57b23dd42",
        "IPY_MODEL_01e9714a78d64f0ea332263a81cb433c",
        "IPY_MODEL_5c5b0a74c4cd43d39fad8e2a6d8e5d22"
       ],
       "layout": "IPY_MODEL_505a622b841544799b9bae0c47b64f94"
      }
     },
     "3315f528496647bab3b32613138d51f4": {
      "model_module": "@jupyter-widgets/controls",
      "model_module_version": "2.0.0",
      "model_name": "HTMLStyleModel",
      "state": {
       "description_width": "",
       "font_size": null,
       "text_color": null
      }
     },
     "336fe9417c60486eb57a9accba7369ea": {
      "model_module": "@jupyter-widgets/base",
      "model_module_version": "2.0.0",
      "model_name": "LayoutModel",
      "state": {}
     },
     "337665fca2bc48f0b31044d672896eda": {
      "model_module": "@jupyter-widgets/controls",
      "model_module_version": "2.0.0",
      "model_name": "FloatProgressModel",
      "state": {
       "layout": "IPY_MODEL_a77c76ee1b244e09ab4ad7cdf4c6cc91",
       "max": 1,
       "style": "IPY_MODEL_e254bf751bbf4eb7a6f027b12fa1607a",
       "value": 1
      }
     },
     "33868b32785f4242b78061dabb6ac003": {
      "model_module": "@jupyter-widgets/controls",
      "model_module_version": "2.0.0",
      "model_name": "HTMLModel",
      "state": {
       "layout": "IPY_MODEL_21cc21814056417d8c5ce78ec08e5d31",
       "style": "IPY_MODEL_37d24a940537474fb11908b8507698b2",
       "value": " 1/2 [00:01&lt;00:01,  1.37s/it]"
      }
     },
     "33a677bbd6e54f7a91287bd780c0c056": {
      "model_module": "@jupyter-widgets/controls",
      "model_module_version": "2.0.0",
      "model_name": "ProgressStyleModel",
      "state": {
       "description_width": ""
      }
     },
     "33c3914f6fea4960865d183fa869ca5b": {
      "model_module": "@jupyter-widgets/controls",
      "model_module_version": "2.0.0",
      "model_name": "HTMLStyleModel",
      "state": {
       "description_width": "",
       "font_size": null,
       "text_color": null
      }
     },
     "33de19f2dc8a4f498ef45082a70b7479": {
      "model_module": "@jupyter-widgets/controls",
      "model_module_version": "2.0.0",
      "model_name": "ProgressStyleModel",
      "state": {
       "description_width": ""
      }
     },
     "33defd52c4014bceb8b45b8014f357c6": {
      "model_module": "@jupyter-widgets/controls",
      "model_module_version": "2.0.0",
      "model_name": "HTMLStyleModel",
      "state": {
       "description_width": "",
       "font_size": null,
       "text_color": null
      }
     },
     "33e7c2d2934d41839e9b4fea1effc0aa": {
      "model_module": "@jupyter-widgets/controls",
      "model_module_version": "2.0.0",
      "model_name": "HTMLStyleModel",
      "state": {
       "description_width": "",
       "font_size": null,
       "text_color": null
      }
     },
     "33ec4f75f29a4abaab106298f8af0a78": {
      "model_module": "@jupyter-widgets/base",
      "model_module_version": "2.0.0",
      "model_name": "LayoutModel",
      "state": {}
     },
     "33f0460673b0471cb2ee0f634e901868": {
      "model_module": "@jupyter-widgets/base",
      "model_module_version": "2.0.0",
      "model_name": "LayoutModel",
      "state": {}
     },
     "33f23c17f3b640ed93efc80f289c85ae": {
      "model_module": "@jupyter-widgets/controls",
      "model_module_version": "2.0.0",
      "model_name": "HTMLStyleModel",
      "state": {
       "description_width": "",
       "font_size": null,
       "text_color": null
      }
     },
     "3441e465dbc54923b108ffb49f6dd5e3": {
      "model_module": "@jupyter-widgets/controls",
      "model_module_version": "2.0.0",
      "model_name": "HTMLModel",
      "state": {
       "layout": "IPY_MODEL_f7469d4869a94d05a08599868f6024b2",
       "style": "IPY_MODEL_38084b03e6684fb6b25ef4d7d9a48826",
       "value": " 1/1 [00:01&lt;00:00,  1.02s/it]"
      }
     },
     "346d6d1386dc47fda4f7ba4c0e96d1b8": {
      "model_module": "@jupyter-widgets/controls",
      "model_module_version": "2.0.0",
      "model_name": "HTMLModel",
      "state": {
       "layout": "IPY_MODEL_74706e2666db4e739da75f418366ef57",
       "style": "IPY_MODEL_078fae3fd3284e8bbcce8b17d8a51c9e",
       "value": "Scanning for nodes...: 100%"
      }
     },
     "349e4822b2a24a3cafe9d1214a2aea78": {
      "model_module": "@jupyter-widgets/base",
      "model_module_version": "2.0.0",
      "model_name": "LayoutModel",
      "state": {}
     },
     "34a33bd4c67e4fe8954df04bffa6edd9": {
      "model_module": "@jupyter-widgets/base",
      "model_module_version": "2.0.0",
      "model_name": "LayoutModel",
      "state": {}
     },
     "34d02a56c5084950a993899da0848c80": {
      "model_module": "@jupyter-widgets/controls",
      "model_module_version": "2.0.0",
      "model_name": "HTMLStyleModel",
      "state": {
       "description_width": "",
       "font_size": null,
       "text_color": null
      }
     },
     "34d0aca0f5ac45999e68fdb69f0ff25f": {
      "model_module": "@jupyter-widgets/controls",
      "model_module_version": "2.0.0",
      "model_name": "HTMLModel",
      "state": {
       "layout": "IPY_MODEL_6847deec00a94b33bac4a93969efdc1f",
       "style": "IPY_MODEL_de167d8d962d4404a06728e9b8c89d32",
       "value": " 1/1 [00:00&lt;00:00, 196.72it/s]"
      }
     },
     "34f8b57dc60145a8b7034aaaacdc8067": {
      "model_module": "@jupyter-widgets/controls",
      "model_module_version": "2.0.0",
      "model_name": "HBoxModel",
      "state": {
       "children": [
        "IPY_MODEL_4d58598831f849768f88af116263d0b1",
        "IPY_MODEL_59e0fe11cc0b413fae403ef813c921dd",
        "IPY_MODEL_4573285594044701a8654011d0533b75"
       ],
       "layout": "IPY_MODEL_e5c632262e8b470eb9165808ab1eaa98"
      }
     },
     "350ed54ddc774955936b04ec594b65bb": {
      "model_module": "@jupyter-widgets/controls",
      "model_module_version": "2.0.0",
      "model_name": "HTMLStyleModel",
      "state": {
       "description_width": "",
       "font_size": null,
       "text_color": null
      }
     },
     "352c71136ffe4ba78fc69ad5c3928197": {
      "model_module": "@jupyter-widgets/base",
      "model_module_version": "2.0.0",
      "model_name": "LayoutModel",
      "state": {}
     },
     "354f909fafa54e41a712850ac0b669a5": {
      "model_module": "@jupyter-widgets/controls",
      "model_module_version": "2.0.0",
      "model_name": "HTMLStyleModel",
      "state": {
       "description_width": "",
       "font_size": null,
       "text_color": null
      }
     },
     "355521775ef14f54969228b85afd9e0c": {
      "model_module": "@jupyter-widgets/base",
      "model_module_version": "2.0.0",
      "model_name": "LayoutModel",
      "state": {}
     },
     "3561974acf3549f0a5aeea8eb4c59926": {
      "model_module": "@jupyter-widgets/base",
      "model_module_version": "2.0.0",
      "model_name": "LayoutModel",
      "state": {}
     },
     "35a220e552604d75b9d386efb897adb9": {
      "model_module": "@jupyter-widgets/controls",
      "model_module_version": "2.0.0",
      "model_name": "HTMLStyleModel",
      "state": {
       "description_width": "",
       "font_size": null,
       "text_color": null
      }
     },
     "35a8e938a111462a91437056f4034a23": {
      "model_module": "@jupyter-widgets/base",
      "model_module_version": "2.0.0",
      "model_name": "LayoutModel",
      "state": {}
     },
     "35aba944f0fc4563a21918cf20a78541": {
      "model_module": "@jupyter-widgets/controls",
      "model_module_version": "2.0.0",
      "model_name": "HTMLStyleModel",
      "state": {
       "description_width": "",
       "font_size": null,
       "text_color": null
      }
     },
     "35b62678cd97456093eee0ce5968081f": {
      "model_module": "@jupyter-widgets/controls",
      "model_module_version": "2.0.0",
      "model_name": "FloatProgressModel",
      "state": {
       "bar_style": "success",
       "layout": "IPY_MODEL_fe2085c239804d3884b29bce69610816",
       "max": 1,
       "style": "IPY_MODEL_cb110647b321462fa568160fa90731ad",
       "value": 1
      }
     },
     "35ed4d3df2624983940aace64e9fdbf1": {
      "model_module": "@jupyter-widgets/base",
      "model_module_version": "2.0.0",
      "model_name": "LayoutModel",
      "state": {}
     },
     "35f9dd5cb55d4e9db572fb105faf4f40": {
      "model_module": "@jupyter-widgets/controls",
      "model_module_version": "2.0.0",
      "model_name": "ProgressStyleModel",
      "state": {
       "description_width": ""
      }
     },
     "36789e95d2024761836086c9259dfc19": {
      "model_module": "@jupyter-widgets/base",
      "model_module_version": "2.0.0",
      "model_name": "LayoutModel",
      "state": {}
     },
     "369f1f15a1b8428e9fe603b83b7400ba": {
      "model_module": "@jupyter-widgets/controls",
      "model_module_version": "2.0.0",
      "model_name": "ProgressStyleModel",
      "state": {
       "description_width": ""
      }
     },
     "36dc468aad5b427fb011d2722d4ff991": {
      "model_module": "@jupyter-widgets/base",
      "model_module_version": "2.0.0",
      "model_name": "LayoutModel",
      "state": {}
     },
     "372de33e3dc247ae8d3966d62fc09036": {
      "model_module": "@jupyter-widgets/base",
      "model_module_version": "2.0.0",
      "model_name": "LayoutModel",
      "state": {}
     },
     "374076a434cf418e89ac04ede2571c49": {
      "model_module": "@jupyter-widgets/controls",
      "model_module_version": "2.0.0",
      "model_name": "HTMLModel",
      "state": {
       "layout": "IPY_MODEL_59c7d86f19274023b4e0aa201f2d360a",
       "style": "IPY_MODEL_60174c11b3cf4810802ef24ee5c19bc3",
       "value": " 8/8 [00:51&lt;00:00,  5.62s/it]"
      }
     },
     "374fd2b8f181401e8bd5d19a31f79ece": {
      "model_module": "@jupyter-widgets/controls",
      "model_module_version": "2.0.0",
      "model_name": "HTMLStyleModel",
      "state": {
       "description_width": "",
       "font_size": null,
       "text_color": null
      }
     },
     "376096a5c2f3444e911aa86e80310cf0": {
      "model_module": "@jupyter-widgets/controls",
      "model_module_version": "2.0.0",
      "model_name": "HTMLStyleModel",
      "state": {
       "description_width": "",
       "font_size": null,
       "text_color": null
      }
     },
     "376df05a034d45ef876e747271f09ade": {
      "model_module": "@jupyter-widgets/controls",
      "model_module_version": "2.0.0",
      "model_name": "HTMLStyleModel",
      "state": {
       "description_width": "",
       "font_size": null,
       "text_color": null
      }
     },
     "377ccd3a34ad431ca1ed9662dd3f057d": {
      "model_module": "@jupyter-widgets/controls",
      "model_module_version": "2.0.0",
      "model_name": "HTMLModel",
      "state": {
       "layout": "IPY_MODEL_57e5743a259e4db1ba90efda54080662",
       "style": "IPY_MODEL_5436bc87d07e4c2d8db51503f0d5eeda",
       "value": " 1/2 [00:00&lt;00:00,  1.56it/s]"
      }
     },
     "377f0b3b2c524c4fa60a963c52e1a87e": {
      "model_module": "@jupyter-widgets/controls",
      "model_module_version": "2.0.0",
      "model_name": "FloatProgressModel",
      "state": {
       "layout": "IPY_MODEL_336fe9417c60486eb57a9accba7369ea",
       "max": 1,
       "style": "IPY_MODEL_54856b1244b34bd1b8dfc2f571a6a87f",
       "value": 1
      }
     },
     "3787105c419b4b068b66333c9206fbba": {
      "model_module": "@jupyter-widgets/base",
      "model_module_version": "2.0.0",
      "model_name": "LayoutModel",
      "state": {
       "visibility": "hidden"
      }
     },
     "37a622563c37435d83f357aaaaaba055": {
      "model_module": "@jupyter-widgets/controls",
      "model_module_version": "2.0.0",
      "model_name": "HTMLStyleModel",
      "state": {
       "description_width": "",
       "font_size": null,
       "text_color": null
      }
     },
     "37d24a940537474fb11908b8507698b2": {
      "model_module": "@jupyter-widgets/controls",
      "model_module_version": "2.0.0",
      "model_name": "HTMLStyleModel",
      "state": {
       "description_width": "",
       "font_size": null,
       "text_color": null
      }
     },
     "37e4ee30b00549c5a49cdcc52e5ff239": {
      "model_module": "@jupyter-widgets/controls",
      "model_module_version": "2.0.0",
      "model_name": "HTMLStyleModel",
      "state": {
       "description_width": "",
       "font_size": null,
       "text_color": null
      }
     },
     "37e9c3519476419286c7d32a9c3ccf1e": {
      "model_module": "@jupyter-widgets/controls",
      "model_module_version": "2.0.0",
      "model_name": "HTMLStyleModel",
      "state": {
       "description_width": "",
       "font_size": null,
       "text_color": null
      }
     },
     "37f3532a91424c05a933f9b891eb934a": {
      "model_module": "@jupyter-widgets/controls",
      "model_module_version": "2.0.0",
      "model_name": "HTMLStyleModel",
      "state": {
       "description_width": "",
       "font_size": null,
       "text_color": null
      }
     },
     "37f7d81daa724b1b93dc3d0db874c237": {
      "model_module": "@jupyter-widgets/controls",
      "model_module_version": "2.0.0",
      "model_name": "HTMLStyleModel",
      "state": {
       "description_width": "",
       "font_size": null,
       "text_color": null
      }
     },
     "37f7ec4dc1db453191ea8a3fe07a2ea7": {
      "model_module": "@jupyter-widgets/controls",
      "model_module_version": "2.0.0",
      "model_name": "FloatProgressModel",
      "state": {
       "bar_style": "success",
       "layout": "IPY_MODEL_a9a68d036ef04d36abd2addaf70147d0",
       "max": 4,
       "style": "IPY_MODEL_4490f029aa1c463297a947808e034daf",
       "value": 4
      }
     },
     "38084b03e6684fb6b25ef4d7d9a48826": {
      "model_module": "@jupyter-widgets/controls",
      "model_module_version": "2.0.0",
      "model_name": "HTMLStyleModel",
      "state": {
       "description_width": "",
       "font_size": null,
       "text_color": null
      }
     },
     "3820c30198c94886b34a26ee992e8998": {
      "model_module": "@jupyter-widgets/controls",
      "model_module_version": "2.0.0",
      "model_name": "HTMLModel",
      "state": {
       "layout": "IPY_MODEL_d184bd592a0b4a3cbccce3b5f0220639",
       "style": "IPY_MODEL_4d6921a94a5c49758111244d7dec0f0f",
       "value": "hook.frame__tpch__customer: nodes...: 100%"
      }
     },
     "384f0307c43c4cbeab170e17d1a5db95": {
      "model_module": "@jupyter-widgets/controls",
      "model_module_version": "2.0.0",
      "model_name": "HBoxModel",
      "state": {
       "children": [
        "IPY_MODEL_bd449587301e4d95aacfeb8e321a0e91",
        "IPY_MODEL_afde542f2028453a907cbd9357200988",
        "IPY_MODEL_1a7e6b18500647d689b1e363a58703f5"
       ],
       "layout": "IPY_MODEL_267b01073279406791904a3ea9085e57"
      }
     },
     "385491b9d560484eaefd30f79641192c": {
      "model_module": "@jupyter-widgets/controls",
      "model_module_version": "2.0.0",
      "model_name": "HTMLStyleModel",
      "state": {
       "description_width": "",
       "font_size": null,
       "text_color": null
      }
     },
     "386e75923bad4aedb8434e7689da0b28": {
      "model_module": "@jupyter-widgets/controls",
      "model_module_version": "2.0.0",
      "model_name": "HTMLStyleModel",
      "state": {
       "description_width": "",
       "font_size": null,
       "text_color": null
      }
     },
     "3893b03ea9124aab809f17fd093fc538": {
      "model_module": "@jupyter-widgets/base",
      "model_module_version": "2.0.0",
      "model_name": "LayoutModel",
      "state": {}
     },
     "389672cc2e154495b253a66675020f1f": {
      "model_module": "@jupyter-widgets/base",
      "model_module_version": "2.0.0",
      "model_name": "LayoutModel",
      "state": {}
     },
     "389aa59e04c042c1ab55e849e78023b6": {
      "model_module": "@jupyter-widgets/base",
      "model_module_version": "2.0.0",
      "model_name": "LayoutModel",
      "state": {
       "visibility": "hidden"
      }
     },
     "38bb248faa4a4f3697eb8f3135e1f619": {
      "model_module": "@jupyter-widgets/controls",
      "model_module_version": "2.0.0",
      "model_name": "HTMLStyleModel",
      "state": {
       "description_width": "",
       "font_size": null,
       "text_color": null
      }
     },
     "38de030f3d1e45d6a115ad7fdd0f3cee": {
      "model_module": "@jupyter-widgets/base",
      "model_module_version": "2.0.0",
      "model_name": "LayoutModel",
      "state": {}
     },
     "38e3105fd1a74221aaab67c1933bd010": {
      "model_module": "@jupyter-widgets/controls",
      "model_module_version": "2.0.0",
      "model_name": "HTMLStyleModel",
      "state": {
       "description_width": "",
       "font_size": null,
       "text_color": null
      }
     },
     "390ecaa6e4364c6087095c1055fe533d": {
      "model_module": "@jupyter-widgets/controls",
      "model_module_version": "2.0.0",
      "model_name": "HTMLStyleModel",
      "state": {
       "description_width": "",
       "font_size": null,
       "text_color": null
      }
     },
     "3914e06b38a249c7a5729ab0197d5b49": {
      "model_module": "@jupyter-widgets/controls",
      "model_module_version": "2.0.0",
      "model_name": "HBoxModel",
      "state": {
       "children": [
        "IPY_MODEL_6f6e149d7a4d4202a8bab989771c9e5f",
        "IPY_MODEL_a6966f0462af4404972b7b46747134fd",
        "IPY_MODEL_63847051164749fb8155ae88cbce0dbc"
       ],
       "layout": "IPY_MODEL_6ea01b70c0414d1f9c383ea89c17073a"
      }
     },
     "391670af33cc43bd838b3b317c2cc9d9": {
      "model_module": "@jupyter-widgets/base",
      "model_module_version": "2.0.0",
      "model_name": "LayoutModel",
      "state": {}
     },
     "395362894ae443fd98da8b8024eb5728": {
      "model_module": "@jupyter-widgets/base",
      "model_module_version": "2.0.0",
      "model_name": "LayoutModel",
      "state": {}
     },
     "3988e0ed57e44a5f9dc5a3818833bed7": {
      "model_module": "@jupyter-widgets/controls",
      "model_module_version": "2.0.0",
      "model_name": "HTMLModel",
      "state": {
       "layout": "IPY_MODEL_ed289de87a0c4a23b771f60526bc756e",
       "style": "IPY_MODEL_1a7980f174a1492bba607c758788cd5a",
       "value": "Scanning for edges...:   0%"
      }
     },
     "399581133d5a4f2481b3a5338b0c5250": {
      "model_module": "@jupyter-widgets/base",
      "model_module_version": "2.0.0",
      "model_name": "LayoutModel",
      "state": {}
     },
     "399db600823a4dc48a859396dc36e224": {
      "model_module": "@jupyter-widgets/controls",
      "model_module_version": "2.0.0",
      "model_name": "ProgressStyleModel",
      "state": {
       "description_width": ""
      }
     },
     "399e2f6b88de412986f84e1d48d4484f": {
      "model_module": "@jupyter-widgets/controls",
      "model_module_version": "2.0.0",
      "model_name": "HTMLModel",
      "state": {
       "layout": "IPY_MODEL_a3a4aa8eb1aa4c35a081feff35761049",
       "style": "IPY_MODEL_8d89678d82034b4b92ea55b028a996df",
       "value": " 2/2 [00:01&lt;00:00,  1.42it/s]"
      }
     },
     "39b719413058433b9779c853745e9aa3": {
      "model_module": "@jupyter-widgets/controls",
      "model_module_version": "2.0.0",
      "model_name": "HTMLStyleModel",
      "state": {
       "description_width": "",
       "font_size": null,
       "text_color": null
      }
     },
     "39e34b0b6cfa411e8ece6aac3d85f6c1": {
      "model_module": "@jupyter-widgets/controls",
      "model_module_version": "2.0.0",
      "model_name": "HTMLModel",
      "state": {
       "layout": "IPY_MODEL_6ce599f14742435984673af8c2a53e61",
       "style": "IPY_MODEL_aef065ed8beb4e66bc61f4f9e3395667",
       "value": "Scanning hook.frame__tpch__part:  50%"
      }
     },
     "39e8c7570dd441aaa23dfa4cfb1bb59f": {
      "model_module": "@jupyter-widgets/controls",
      "model_module_version": "2.0.0",
      "model_name": "HTMLStyleModel",
      "state": {
       "description_width": "",
       "font_size": null,
       "text_color": null
      }
     },
     "3a144276e4de40d28e53530674a17fb9": {
      "model_module": "@jupyter-widgets/controls",
      "model_module_version": "2.0.0",
      "model_name": "ProgressStyleModel",
      "state": {
       "description_width": ""
      }
     },
     "3a4ff74bf2d44d1e819b49a2ce287290": {
      "model_module": "@jupyter-widgets/base",
      "model_module_version": "2.0.0",
      "model_name": "LayoutModel",
      "state": {
       "visibility": "hidden"
      }
     },
     "3a7464aa43b14259aa35cc41233ee687": {
      "model_module": "@jupyter-widgets/controls",
      "model_module_version": "2.0.0",
      "model_name": "ProgressStyleModel",
      "state": {
       "description_width": ""
      }
     },
     "3a75ce46c9404090862c195876662aba": {
      "model_module": "@jupyter-widgets/controls",
      "model_module_version": "2.0.0",
      "model_name": "FloatProgressModel",
      "state": {
       "bar_style": "success",
       "layout": "IPY_MODEL_a1e05ffa5a654d879ebe0781d7f9ae3a",
       "max": 8,
       "style": "IPY_MODEL_f24c0ea9281143fdbf086e60bc5c7256",
       "value": 8
      }
     },
     "3a772f5efe2242aeb629f94f920f7369": {
      "model_module": "@jupyter-widgets/controls",
      "model_module_version": "2.0.0",
      "model_name": "HTMLModel",
      "state": {
       "layout": "IPY_MODEL_0dec8e7a440e418ca40e3a1928b20dcd",
       "style": "IPY_MODEL_b52408d8bf384b199d77d53d93387a8d",
       "value": "hook.frame__tpch__lineitem: 100%"
      }
     },
     "3ae206d42d7d4955bd58107120da1919": {
      "model_module": "@jupyter-widgets/controls",
      "model_module_version": "2.0.0",
      "model_name": "FloatProgressModel",
      "state": {
       "layout": "IPY_MODEL_4c5559000da543e9bd4dff80da8426a9",
       "max": 1,
       "style": "IPY_MODEL_3a144276e4de40d28e53530674a17fb9",
       "value": 1
      }
     },
     "3ae5eaea71524ee69b9fe3c9e7449e29": {
      "model_module": "@jupyter-widgets/controls",
      "model_module_version": "2.0.0",
      "model_name": "HTMLModel",
      "state": {
       "layout": "IPY_MODEL_2bf7528fcdab4438b7bc5d7d42d69ef9",
       "style": "IPY_MODEL_a3f27e4ff51d46e9adec8905fa6582f1",
       "value": " 2/2 [00:01&lt;00:00,  1.24it/s]"
      }
     },
     "3afb62be53d64fdfa384f6e646bec7eb": {
      "model_module": "@jupyter-widgets/controls",
      "model_module_version": "2.0.0",
      "model_name": "HBoxModel",
      "state": {
       "children": [
        "IPY_MODEL_5fdab11ae6e94576a69cec3d14d26a14",
        "IPY_MODEL_4edf822c9bc2454eb6cdba086e5a7b50",
        "IPY_MODEL_c3dd23e335ab4d89a0a482dbc9e40ed3"
       ],
       "layout": "IPY_MODEL_ec9086baf15e4603bcec5f904263372b"
      }
     },
     "3b033764a8334fb2afb233a93627ad3c": {
      "model_module": "@jupyter-widgets/controls",
      "model_module_version": "2.0.0",
      "model_name": "ProgressStyleModel",
      "state": {
       "description_width": ""
      }
     },
     "3b2c653e591442a387b1ab7025750b6f": {
      "model_module": "@jupyter-widgets/controls",
      "model_module_version": "2.0.0",
      "model_name": "HTMLModel",
      "state": {
       "layout": "IPY_MODEL_c25fa88ad3c4497fbc210b318f526259",
       "style": "IPY_MODEL_05c3a63ac4294e67827c17af42816c0c",
       "value": "Scanning for nodes in hook.frame__tpch__lineitem...: 100%"
      }
     },
     "3b5d901e61194a2488e0bd07ba4dedcd": {
      "model_module": "@jupyter-widgets/base",
      "model_module_version": "2.0.0",
      "model_name": "LayoutModel",
      "state": {}
     },
     "3b6dade1470e4b299f2b5a20d63c0499": {
      "model_module": "@jupyter-widgets/base",
      "model_module_version": "2.0.0",
      "model_name": "LayoutModel",
      "state": {}
     },
     "3bb3dc6955f44d16bfbaa92791401e7e": {
      "model_module": "@jupyter-widgets/base",
      "model_module_version": "2.0.0",
      "model_name": "LayoutModel",
      "state": {}
     },
     "3bcf91bdb734495fa6bf859ee0b5d2f4": {
      "model_module": "@jupyter-widgets/base",
      "model_module_version": "2.0.0",
      "model_name": "LayoutModel",
      "state": {}
     },
     "3be613a6fe734db890d5a76782251db4": {
      "model_module": "@jupyter-widgets/base",
      "model_module_version": "2.0.0",
      "model_name": "LayoutModel",
      "state": {
       "visibility": "hidden"
      }
     },
     "3bfa76780c154320a5e97165dc6d123a": {
      "model_module": "@jupyter-widgets/base",
      "model_module_version": "2.0.0",
      "model_name": "LayoutModel",
      "state": {
       "visibility": "hidden"
      }
     },
     "3c2a6a9e1ef847178ca118ded120fcdf": {
      "model_module": "@jupyter-widgets/base",
      "model_module_version": "2.0.0",
      "model_name": "LayoutModel",
      "state": {}
     },
     "3c2debadd7424ce0aae6b23fa5e8d358": {
      "model_module": "@jupyter-widgets/controls",
      "model_module_version": "2.0.0",
      "model_name": "HBoxModel",
      "state": {
       "children": [
        "IPY_MODEL_5d3859c5a4434fa381276db9eaf1ec14",
        "IPY_MODEL_71c888efee264bf4b5da07e74b776236",
        "IPY_MODEL_bbde4064697d4f9fb88dca202cb525bc"
       ],
       "layout": "IPY_MODEL_23a805f2420e45fa81aff5a0e1741a48"
      }
     },
     "3c302cd48bdd4d3ab8c29c12c0d19ef8": {
      "model_module": "@jupyter-widgets/base",
      "model_module_version": "2.0.0",
      "model_name": "LayoutModel",
      "state": {}
     },
     "3c3cb7406c3145e9bf4a74461c912b27": {
      "model_module": "@jupyter-widgets/base",
      "model_module_version": "2.0.0",
      "model_name": "LayoutModel",
      "state": {}
     },
     "3c9f869347b7442e9132340fe0f36a04": {
      "model_module": "@jupyter-widgets/controls",
      "model_module_version": "2.0.0",
      "model_name": "HTMLStyleModel",
      "state": {
       "description_width": "",
       "font_size": null,
       "text_color": null
      }
     },
     "3cbe0112bb65482d95b785f5802aa131": {
      "model_module": "@jupyter-widgets/controls",
      "model_module_version": "2.0.0",
      "model_name": "HTMLStyleModel",
      "state": {
       "description_width": "",
       "font_size": null,
       "text_color": null
      }
     },
     "3cd5dc651360425db8ee87d85aef3f63": {
      "model_module": "@jupyter-widgets/base",
      "model_module_version": "2.0.0",
      "model_name": "LayoutModel",
      "state": {
       "visibility": "hidden"
      }
     },
     "3cf370aab9274996b8cde8995a5d51da": {
      "model_module": "@jupyter-widgets/controls",
      "model_module_version": "2.0.0",
      "model_name": "HTMLModel",
      "state": {
       "layout": "IPY_MODEL_446fd818555c4dc2982be3d4a2d12cbb",
       "style": "IPY_MODEL_25069a3010b44b0aa1cb57773ead112e",
       "value": "Scanning for nodes...: 100%"
      }
     },
     "3d1946a6ec284fb19495ffb29d9f86ba": {
      "model_module": "@jupyter-widgets/base",
      "model_module_version": "2.0.0",
      "model_name": "LayoutModel",
      "state": {}
     },
     "3d369e1cd33b4465b2de5659307ddc36": {
      "model_module": "@jupyter-widgets/controls",
      "model_module_version": "2.0.0",
      "model_name": "HTMLModel",
      "state": {
       "layout": "IPY_MODEL_11f7931ae53040e295af17e49fe58ce9",
       "style": "IPY_MODEL_e95b5bccd19d45bfa619959e940fc8f7",
       "value": "hook.frame__tpch__partsupp: nodes...: 100%"
      }
     },
     "3d3a9a562de7422885c5ba71e00313f7": {
      "model_module": "@jupyter-widgets/controls",
      "model_module_version": "2.0.0",
      "model_name": "HTMLModel",
      "state": {
       "layout": "IPY_MODEL_e431553bade94ebeb90beba7286fad87",
       "style": "IPY_MODEL_4a7dc61ce4154758adda9d579eaf29e0",
       "value": " 4/4 [00:31&lt;00:00,  7.97s/it]"
      }
     },
     "3d40fd9f2c904dffa56c39c2a079f41d": {
      "model_module": "@jupyter-widgets/controls",
      "model_module_version": "2.0.0",
      "model_name": "HTMLStyleModel",
      "state": {
       "description_width": "",
       "font_size": null,
       "text_color": null
      }
     },
     "3d78ddc9819e49528044d7e011721c36": {
      "model_module": "@jupyter-widgets/base",
      "model_module_version": "2.0.0",
      "model_name": "LayoutModel",
      "state": {}
     },
     "3d79373083a446659e0d076610ddbdab": {
      "model_module": "@jupyter-widgets/controls",
      "model_module_version": "2.0.0",
      "model_name": "ProgressStyleModel",
      "state": {
       "description_width": ""
      }
     },
     "3d833687e80f4fff8ffecc7791774d78": {
      "model_module": "@jupyter-widgets/base",
      "model_module_version": "2.0.0",
      "model_name": "LayoutModel",
      "state": {}
     },
     "3da218f3b0fc4b14848341738bf9e91e": {
      "model_module": "@jupyter-widgets/controls",
      "model_module_version": "2.0.0",
      "model_name": "HTMLModel",
      "state": {
       "layout": "IPY_MODEL_01ec01b878834e9681f70e696548db26",
       "style": "IPY_MODEL_9462c8e1de004ca68c3d015d1f4d2fc9",
       "value": "hook.frame__tpch__supplier: 100%"
      }
     },
     "3db41054ad2c40be9246968506ef9b0b": {
      "model_module": "@jupyter-widgets/controls",
      "model_module_version": "2.0.0",
      "model_name": "HBoxModel",
      "state": {
       "children": [
        "IPY_MODEL_9a0fa9dce4bd4f8088532cbab5ca8b30",
        "IPY_MODEL_882eda8459704d53b1d7b24dc540d012",
        "IPY_MODEL_a2486e361e944cb086082d69ec02f19e"
       ],
       "layout": "IPY_MODEL_f7bc147c6a57428d94ee361aa11d2cf5"
      }
     },
     "3db77ebf23c24e96a7d72afc75deec36": {
      "model_module": "@jupyter-widgets/base",
      "model_module_version": "2.0.0",
      "model_name": "LayoutModel",
      "state": {}
     },
     "3e0b9154d4a645d98a1e4d80bfd82a99": {
      "model_module": "@jupyter-widgets/controls",
      "model_module_version": "2.0.0",
      "model_name": "HTMLModel",
      "state": {
       "layout": "IPY_MODEL_fcb91d6af4ee4c0293267ec8d1dc0bdc",
       "style": "IPY_MODEL_6a86b4468c274793b963519821c07614",
       "value": "Scanning for nodes...: 100%"
      }
     },
     "3e0d27c24cba4fdeaa7e99b5be9c76c4": {
      "model_module": "@jupyter-widgets/base",
      "model_module_version": "2.0.0",
      "model_name": "LayoutModel",
      "state": {}
     },
     "3e1df9c900f148cb9725e8022371c181": {
      "model_module": "@jupyter-widgets/base",
      "model_module_version": "2.0.0",
      "model_name": "LayoutModel",
      "state": {}
     },
     "3e669d95f618428d9c41ff2b53c179fb": {
      "model_module": "@jupyter-widgets/base",
      "model_module_version": "2.0.0",
      "model_name": "LayoutModel",
      "state": {}
     },
     "3e6f230ec8b64611b6247e35e15a0d1d": {
      "model_module": "@jupyter-widgets/base",
      "model_module_version": "2.0.0",
      "model_name": "LayoutModel",
      "state": {}
     },
     "3e9e4fb1eb374632ad1ca3e2b9a8e70b": {
      "model_module": "@jupyter-widgets/base",
      "model_module_version": "2.0.0",
      "model_name": "LayoutModel",
      "state": {
       "visibility": "hidden"
      }
     },
     "3ea9c75314494f9997efd0d5eabe1887": {
      "model_module": "@jupyter-widgets/base",
      "model_module_version": "2.0.0",
      "model_name": "LayoutModel",
      "state": {
       "visibility": "hidden"
      }
     },
     "3ed589c31722483690f5aa07a1127273": {
      "model_module": "@jupyter-widgets/controls",
      "model_module_version": "2.0.0",
      "model_name": "HTMLModel",
      "state": {
       "layout": "IPY_MODEL_891cb147a8b14f09bb050558f5b78036",
       "style": "IPY_MODEL_e9d326db6baa4c3c89f4c3ec28429f6a",
       "value": "Scanning for nodes...: 100%"
      }
     },
     "3ed904a158d440d49e014f32e7ad0598": {
      "model_module": "@jupyter-widgets/controls",
      "model_module_version": "2.0.0",
      "model_name": "HBoxModel",
      "state": {
       "children": [
        "IPY_MODEL_bbc62f7510764c6b88926d6553c613a8",
        "IPY_MODEL_186e97415bd646818b8fb4993b465e04",
        "IPY_MODEL_d5e9744e3fd447a8b03c0d5a7673baaf"
       ],
       "layout": "IPY_MODEL_49de6b0615674b0cbf5fd334ee2e5106"
      }
     },
     "3ee5383b029b48d3b88ac97477722339": {
      "model_module": "@jupyter-widgets/controls",
      "model_module_version": "2.0.0",
      "model_name": "ProgressStyleModel",
      "state": {
       "description_width": ""
      }
     },
     "3ee74a21e9614f9e98d144ee2a84f204": {
      "model_module": "@jupyter-widgets/controls",
      "model_module_version": "2.0.0",
      "model_name": "HTMLStyleModel",
      "state": {
       "description_width": "",
       "font_size": null,
       "text_color": null
      }
     },
     "3ef6446475254989b2a6dadb402542d5": {
      "model_module": "@jupyter-widgets/base",
      "model_module_version": "2.0.0",
      "model_name": "LayoutModel",
      "state": {}
     },
     "3efe4e07ff2949c78ee28dfeb2d5c891": {
      "model_module": "@jupyter-widgets/base",
      "model_module_version": "2.0.0",
      "model_name": "LayoutModel",
      "state": {}
     },
     "3f0345f4518b44c894fa9441a286d022": {
      "model_module": "@jupyter-widgets/controls",
      "model_module_version": "2.0.0",
      "model_name": "FloatProgressModel",
      "state": {
       "layout": "IPY_MODEL_c60931ebeff44219866be9a9241bca88",
       "max": 2,
       "style": "IPY_MODEL_9fad56fa177a4117affea798c4936dcc",
       "value": 2
      }
     },
     "3f1d528d68394e8eaf908263dc459204": {
      "model_module": "@jupyter-widgets/controls",
      "model_module_version": "2.0.0",
      "model_name": "HTMLModel",
      "state": {
       "layout": "IPY_MODEL_9623765a546b49b79ba7b313457a83d9",
       "style": "IPY_MODEL_1e885c4c76ec4f92a13ea55e53c87840",
       "value": "hook.frame__tpch__part: 100%"
      }
     },
     "3f45074a6c41403d84e66d6029252ce3": {
      "model_module": "@jupyter-widgets/controls",
      "model_module_version": "2.0.0",
      "model_name": "HTMLModel",
      "state": {
       "layout": "IPY_MODEL_dc580354095847d2b8f4d41af658a58a",
       "style": "IPY_MODEL_a5603126ad864fd98e0cf4370a3b8110",
       "value": "hook.frame__tpch__supplier: edges...: 100%"
      }
     },
     "3f61c8ad285c47fdab33fa1eda1f6431": {
      "model_module": "@jupyter-widgets/base",
      "model_module_version": "2.0.0",
      "model_name": "LayoutModel",
      "state": {}
     },
     "3f6dfd1eb80340c88a21939d66848bde": {
      "model_module": "@jupyter-widgets/base",
      "model_module_version": "2.0.0",
      "model_name": "LayoutModel",
      "state": {}
     },
     "3f79be0e7d7e4e968b7ed375cf1c3f7b": {
      "model_module": "@jupyter-widgets/controls",
      "model_module_version": "2.0.0",
      "model_name": "FloatProgressModel",
      "state": {
       "layout": "IPY_MODEL_fbfea17f7d4e481ea9b3f57d3a41bfa8",
       "max": 2,
       "style": "IPY_MODEL_5a47bb02ea2e45c893499bb6887680e3",
       "value": 2
      }
     },
     "3fbd672185d8447baf274eb08ef0f442": {
      "model_module": "@jupyter-widgets/controls",
      "model_module_version": "2.0.0",
      "model_name": "HTMLStyleModel",
      "state": {
       "description_width": "",
       "font_size": null,
       "text_color": null
      }
     },
     "3fc40ac3e7a04e74aa8efa216e917883": {
      "model_module": "@jupyter-widgets/controls",
      "model_module_version": "2.0.0",
      "model_name": "FloatProgressModel",
      "state": {
       "layout": "IPY_MODEL_1a2d3c31dfac4a868311f54061dcfcf0",
       "max": 2,
       "style": "IPY_MODEL_0ea2f79fd4eb43189478d03304b6e41d",
       "value": 2
      }
     },
     "3fe3666344aa4a78814ace10eb99c721": {
      "model_module": "@jupyter-widgets/controls",
      "model_module_version": "2.0.0",
      "model_name": "HBoxModel",
      "state": {
       "children": [
        "IPY_MODEL_f1747b5c7f0242d3aa623c7aa258347a",
        "IPY_MODEL_1aeda4db595a423bac01e9fdf5a16cef",
        "IPY_MODEL_7dcaf99861ae4b4e832f05bed79f81f2"
       ],
       "layout": "IPY_MODEL_fdeed3494bd74fb6aab1fa41acbc4ef1"
      }
     },
     "3ff5011ba9284568a4b77f6026cfeb4a": {
      "model_module": "@jupyter-widgets/controls",
      "model_module_version": "2.0.0",
      "model_name": "HTMLModel",
      "state": {
       "layout": "IPY_MODEL_54913987625c4352a1fd0310cffc1972",
       "style": "IPY_MODEL_e9e1a9968e5d4efc8535d4a02b3ff975",
       "value": " 4/4 [00:31&lt;00:00,  7.95s/it]"
      }
     },
     "4048f4239bc4404cb3a836fbc9946eaa": {
      "model_module": "@jupyter-widgets/controls",
      "model_module_version": "2.0.0",
      "model_name": "HBoxModel",
      "state": {
       "children": [
        "IPY_MODEL_5d886a31392c4a818f3e194c73c75bdc",
        "IPY_MODEL_a5432c34b7ad46939d915d6e961f3283",
        "IPY_MODEL_d6ff4268fafa4e00baf9c2519143c66d"
       ],
       "layout": "IPY_MODEL_63cf058e554f475fb2177bfe07907b50"
      }
     },
     "40577833fe2e4e2fb344c3d234ddc093": {
      "model_module": "@jupyter-widgets/controls",
      "model_module_version": "2.0.0",
      "model_name": "HTMLStyleModel",
      "state": {
       "description_width": "",
       "font_size": null,
       "text_color": null
      }
     },
     "40762a831f2b43d89a6d7054f2bf7a4b": {
      "model_module": "@jupyter-widgets/controls",
      "model_module_version": "2.0.0",
      "model_name": "HTMLModel",
      "state": {
       "layout": "IPY_MODEL_98817da2b2ec4054b5055b93fc298836",
       "style": "IPY_MODEL_c563b605e8ab4cc69ba02944e6eba74f",
       "value": "Scanning for nodes...: 100%"
      }
     },
     "407b41b5c2dd497e8fc3afdf829226a8": {
      "model_module": "@jupyter-widgets/controls",
      "model_module_version": "2.0.0",
      "model_name": "ProgressStyleModel",
      "state": {
       "description_width": ""
      }
     },
     "407d86fdd9aa4d18a5579b0fb9031ef2": {
      "model_module": "@jupyter-widgets/controls",
      "model_module_version": "2.0.0",
      "model_name": "HBoxModel",
      "state": {
       "children": [
        "IPY_MODEL_c31d6aa51da14f53a47bb0f92477e73a",
        "IPY_MODEL_75b0d2d8b3ab47319feb36d230c70e53",
        "IPY_MODEL_23651b8a99674721a725131a0d2416b1"
       ],
       "layout": "IPY_MODEL_d27dce899de9418b8718bce36deb3236"
      }
     },
     "4085bff371484e92aa4cb7001aff7a8b": {
      "model_module": "@jupyter-widgets/base",
      "model_module_version": "2.0.0",
      "model_name": "LayoutModel",
      "state": {}
     },
     "409e874b253f4c58a37bf67904578c02": {
      "model_module": "@jupyter-widgets/controls",
      "model_module_version": "2.0.0",
      "model_name": "HBoxModel",
      "state": {
       "children": [
        "IPY_MODEL_c67fc0dba0cc41779dd57793c7972b87",
        "IPY_MODEL_5253d3021e3b4e9b9887e1aefc1eddda",
        "IPY_MODEL_9b2e37d5e308445fa1f1463a043e313d"
       ],
       "layout": "IPY_MODEL_6bc9e669babe4ce59597c4128b908158"
      }
     },
     "40b02c5772df4d5aaf7d413a3125b713": {
      "model_module": "@jupyter-widgets/controls",
      "model_module_version": "2.0.0",
      "model_name": "HTMLModel",
      "state": {
       "layout": "IPY_MODEL_6e415b5ee9fc424480bc33da744d6afc",
       "style": "IPY_MODEL_66ba37701cfa4cc9af669d14df9e1ecd",
       "value": " 2/2 [00:04&lt;00:00,  4.75s/it]"
      }
     },
     "40ba8dc8a2c94beba98f19d8b85339aa": {
      "model_module": "@jupyter-widgets/base",
      "model_module_version": "2.0.0",
      "model_name": "LayoutModel",
      "state": {
       "visibility": "hidden"
      }
     },
     "4116ea3e1f1548859bc9929d18277f38": {
      "model_module": "@jupyter-widgets/base",
      "model_module_version": "2.0.0",
      "model_name": "LayoutModel",
      "state": {}
     },
     "4166931f50d84dd6a7147662388051dd": {
      "model_module": "@jupyter-widgets/base",
      "model_module_version": "2.0.0",
      "model_name": "LayoutModel",
      "state": {}
     },
     "417db4fc092746359584094cf0403da2": {
      "model_module": "@jupyter-widgets/controls",
      "model_module_version": "2.0.0",
      "model_name": "HTMLModel",
      "state": {
       "layout": "IPY_MODEL_f810c47e38fa4a96b83d45f18f6cab1f",
       "style": "IPY_MODEL_c2e12a9a575b4dfb817de748bd713c79",
       "value": "Scanning hook.frame__tpch__part: 100%"
      }
     },
     "4180ae8b880043a3ae71072e5e865cd3": {
      "model_module": "@jupyter-widgets/controls",
      "model_module_version": "2.0.0",
      "model_name": "FloatProgressModel",
      "state": {
       "layout": "IPY_MODEL_15382934781a4766b4bd0c6d5db16964",
       "max": 6,
       "style": "IPY_MODEL_fa2b3e47e55246429e6795d6527eb1f1",
       "value": 6
      }
     },
     "4196a3786a3f443081671b5cb69dd721": {
      "model_module": "@jupyter-widgets/controls",
      "model_module_version": "2.0.0",
      "model_name": "HTMLModel",
      "state": {
       "layout": "IPY_MODEL_f399c57a71dc45e59710f102542d2d98",
       "style": "IPY_MODEL_13873b333af24fb4830b8912ce47dec5",
       "value": "Scanning frames: 100%"
      }
     },
     "41a8b59b9b684314973bfc74d3dbb0ab": {
      "model_module": "@jupyter-widgets/controls",
      "model_module_version": "2.0.0",
      "model_name": "HTMLModel",
      "state": {
       "layout": "IPY_MODEL_0929f5938e5d4568a050a0e0ffd1fc1f",
       "style": "IPY_MODEL_17b6467511194e2d8bc276e1698bf078",
       "value": " 1/2 [00:01&lt;00:01,  1.13s/it]"
      }
     },
     "41e35693eed14760a4bec91fe064827e": {
      "model_module": "@jupyter-widgets/controls",
      "model_module_version": "2.0.0",
      "model_name": "ProgressStyleModel",
      "state": {
       "description_width": ""
      }
     },
     "41f3eabac7714b4e82c69f08fd48981e": {
      "model_module": "@jupyter-widgets/controls",
      "model_module_version": "2.0.0",
      "model_name": "FloatProgressModel",
      "state": {
       "layout": "IPY_MODEL_19c989fb59314dec8d38c4e316987263",
       "max": 2,
       "style": "IPY_MODEL_0762c4b9834d460fab6377585920adf3",
       "value": 2
      }
     },
     "41f829bc121c47f58029a974e076dec8": {
      "model_module": "@jupyter-widgets/base",
      "model_module_version": "2.0.0",
      "model_name": "LayoutModel",
      "state": {}
     },
     "41fe96a496fc49089beb5edfd0693791": {
      "model_module": "@jupyter-widgets/base",
      "model_module_version": "2.0.0",
      "model_name": "LayoutModel",
      "state": {}
     },
     "422511a3fdc74d81a0b8672214b954d5": {
      "model_module": "@jupyter-widgets/base",
      "model_module_version": "2.0.0",
      "model_name": "LayoutModel",
      "state": {}
     },
     "423723e6a7f949bbb61e1871ee8e7a4b": {
      "model_module": "@jupyter-widgets/base",
      "model_module_version": "2.0.0",
      "model_name": "LayoutModel",
      "state": {}
     },
     "423ec73fbd3d4a92b3f2b2a4020600bf": {
      "model_module": "@jupyter-widgets/controls",
      "model_module_version": "2.0.0",
      "model_name": "HTMLStyleModel",
      "state": {
       "description_width": "",
       "font_size": null,
       "text_color": null
      }
     },
     "426bf8193e464574823994d0ab5d21b9": {
      "model_module": "@jupyter-widgets/controls",
      "model_module_version": "2.0.0",
      "model_name": "HTMLStyleModel",
      "state": {
       "description_width": "",
       "font_size": null,
       "text_color": null
      }
     },
     "42ab93531d9149df8b9ae3fdb3c26c15": {
      "model_module": "@jupyter-widgets/base",
      "model_module_version": "2.0.0",
      "model_name": "LayoutModel",
      "state": {}
     },
     "42ae3f68006843439da4136bfa2611ea": {
      "model_module": "@jupyter-widgets/base",
      "model_module_version": "2.0.0",
      "model_name": "LayoutModel",
      "state": {
       "flex": "2"
      }
     },
     "42ba9b0b37984db69b7cde454ecd4151": {
      "model_module": "@jupyter-widgets/base",
      "model_module_version": "2.0.0",
      "model_name": "LayoutModel",
      "state": {}
     },
     "42c07b3f275045b3b317195237dd9eb1": {
      "model_module": "@jupyter-widgets/base",
      "model_module_version": "2.0.0",
      "model_name": "LayoutModel",
      "state": {}
     },
     "42cb88c177804c5d9e7dba3a356a8849": {
      "model_module": "@jupyter-widgets/controls",
      "model_module_version": "2.0.0",
      "model_name": "HTMLStyleModel",
      "state": {
       "description_width": "",
       "font_size": null,
       "text_color": null
      }
     },
     "42d3c8a1691b4b6583342f15eb4b2946": {
      "model_module": "@jupyter-widgets/controls",
      "model_module_version": "2.0.0",
      "model_name": "HTMLStyleModel",
      "state": {
       "description_width": "",
       "font_size": null,
       "text_color": null
      }
     },
     "42dc5f229480411284823dc94defca9d": {
      "model_module": "@jupyter-widgets/controls",
      "model_module_version": "2.0.0",
      "model_name": "HTMLModel",
      "state": {
       "layout": "IPY_MODEL_b81ef55536d04a05804db2ea51ea7ce5",
       "style": "IPY_MODEL_25b5ee416f384123bb3517072b0fb1b7",
       "value": " 2/2 [00:01&lt;00:00,  1.49it/s]"
      }
     },
     "4304fa8bdb2e47359b43456ea08ce13a": {
      "model_module": "@jupyter-widgets/controls",
      "model_module_version": "2.0.0",
      "model_name": "HTMLModel",
      "state": {
       "layout": "IPY_MODEL_d114783643b9436b9e9aa78c379f2b46",
       "style": "IPY_MODEL_0689639c78ea4802b6a5bd89429afb82",
       "value": "hook.frame__tpch__customer: 100%"
      }
     },
     "43389149bd4543e1a9209e0cf187c0d1": {
      "model_module": "@jupyter-widgets/controls",
      "model_module_version": "2.0.0",
      "model_name": "ProgressStyleModel",
      "state": {
       "description_width": ""
      }
     },
     "436799f4808a4f88b138bca053c36dfa": {
      "model_module": "@jupyter-widgets/base",
      "model_module_version": "2.0.0",
      "model_name": "LayoutModel",
      "state": {}
     },
     "43716b8d733d488d81af8a5e1cef9443": {
      "model_module": "@jupyter-widgets/base",
      "model_module_version": "2.0.0",
      "model_name": "LayoutModel",
      "state": {}
     },
     "4381d6bdde8a44518ab172423005f5c3": {
      "model_module": "@jupyter-widgets/base",
      "model_module_version": "2.0.0",
      "model_name": "LayoutModel",
      "state": {}
     },
     "4395e9ea04364638b6ebfeef6ce5538d": {
      "model_module": "@jupyter-widgets/base",
      "model_module_version": "2.0.0",
      "model_name": "LayoutModel",
      "state": {}
     },
     "43a1d784c64e490ab4aee5b250fa3d5b": {
      "model_module": "@jupyter-widgets/controls",
      "model_module_version": "2.0.0",
      "model_name": "ProgressStyleModel",
      "state": {
       "description_width": ""
      }
     },
     "43b821ed702742038fa114c20c9f7c30": {
      "model_module": "@jupyter-widgets/base",
      "model_module_version": "2.0.0",
      "model_name": "LayoutModel",
      "state": {}
     },
     "43c0b7d6b7e4468ebd08e0915fce619d": {
      "model_module": "@jupyter-widgets/base",
      "model_module_version": "2.0.0",
      "model_name": "LayoutModel",
      "state": {}
     },
     "43ce3ad510ba48d3b20e02bf65e264ab": {
      "model_module": "@jupyter-widgets/base",
      "model_module_version": "2.0.0",
      "model_name": "LayoutModel",
      "state": {}
     },
     "43cf3dec375a4d81b511959959da89aa": {
      "model_module": "@jupyter-widgets/base",
      "model_module_version": "2.0.0",
      "model_name": "LayoutModel",
      "state": {}
     },
     "43dc7d1dca4840a8a8819ae5de3560dd": {
      "model_module": "@jupyter-widgets/base",
      "model_module_version": "2.0.0",
      "model_name": "LayoutModel",
      "state": {}
     },
     "43e5c756d8f94cd7b7faa088450c612b": {
      "model_module": "@jupyter-widgets/base",
      "model_module_version": "2.0.0",
      "model_name": "LayoutModel",
      "state": {}
     },
     "4415434b7baf4c658fb1b1da759da5ca": {
      "model_module": "@jupyter-widgets/controls",
      "model_module_version": "2.0.0",
      "model_name": "HTMLStyleModel",
      "state": {
       "description_width": "",
       "font_size": null,
       "text_color": null
      }
     },
     "442859fbbce9422d9f0e4392633546d8": {
      "model_module": "@jupyter-widgets/controls",
      "model_module_version": "2.0.0",
      "model_name": "HBoxModel",
      "state": {
       "children": [
        "IPY_MODEL_5f75298879414d66ae61bcf23590afef",
        "IPY_MODEL_4c861eb3fabb4d8ebfa50891ed25abbb",
        "IPY_MODEL_1974a15712d84d4cad21ae62a8b01a07"
       ],
       "layout": "IPY_MODEL_bc498b53e17c4c58b7f94a3affc8f471"
      }
     },
     "4433d4379ea342f1825dc2bda325ba85": {
      "model_module": "@jupyter-widgets/controls",
      "model_module_version": "2.0.0",
      "model_name": "HTMLStyleModel",
      "state": {
       "description_width": "",
       "font_size": null,
       "text_color": null
      }
     },
     "444f5f19ccfd4c8ab6afb7d5d96468d4": {
      "model_module": "@jupyter-widgets/controls",
      "model_module_version": "2.0.0",
      "model_name": "HTMLModel",
      "state": {
       "layout": "IPY_MODEL_4d2fbe92b7924bfd992110b14a4b670b",
       "style": "IPY_MODEL_b84c79936fdd48b9bba10c96534c9d7c",
       "value": "Scanning hook.frame__tpch__region:  50%"
      }
     },
     "444fbf773404401bb8eba44b89113c38": {
      "model_module": "@jupyter-widgets/controls",
      "model_module_version": "2.0.0",
      "model_name": "HTMLStyleModel",
      "state": {
       "description_width": "",
       "font_size": null,
       "text_color": null
      }
     },
     "4455e6c1849a4873b870e25e3fd483d4": {
      "model_module": "@jupyter-widgets/controls",
      "model_module_version": "2.0.0",
      "model_name": "HTMLStyleModel",
      "state": {
       "description_width": "",
       "font_size": null,
       "text_color": null
      }
     },
     "4457d26f4a29407f92c8a94806a40e90": {
      "model_module": "@jupyter-widgets/base",
      "model_module_version": "2.0.0",
      "model_name": "LayoutModel",
      "state": {}
     },
     "446ad092d03b4a02abd5c83b867a44d3": {
      "model_module": "@jupyter-widgets/controls",
      "model_module_version": "2.0.0",
      "model_name": "HTMLModel",
      "state": {
       "layout": "IPY_MODEL_eff41d2270f543109b8737daccf66827",
       "style": "IPY_MODEL_374fd2b8f181401e8bd5d19a31f79ece",
       "value": " 2/2 [00:06&lt;00:00,  3.29s/it]"
      }
     },
     "446fd818555c4dc2982be3d4a2d12cbb": {
      "model_module": "@jupyter-widgets/base",
      "model_module_version": "2.0.0",
      "model_name": "LayoutModel",
      "state": {}
     },
     "447844f5b01e43a0b62115327d86441a": {
      "model_module": "@jupyter-widgets/controls",
      "model_module_version": "2.0.0",
      "model_name": "ProgressStyleModel",
      "state": {
       "description_width": ""
      }
     },
     "4481cf2d2b634035915fa56578a8c8ff": {
      "model_module": "@jupyter-widgets/controls",
      "model_module_version": "2.0.0",
      "model_name": "ProgressStyleModel",
      "state": {
       "description_width": ""
      }
     },
     "4490f029aa1c463297a947808e034daf": {
      "model_module": "@jupyter-widgets/controls",
      "model_module_version": "2.0.0",
      "model_name": "ProgressStyleModel",
      "state": {
       "description_width": ""
      }
     },
     "44982e52c8cb46fbbd4285942dd56323": {
      "model_module": "@jupyter-widgets/controls",
      "model_module_version": "2.0.0",
      "model_name": "HBoxModel",
      "state": {
       "children": [
        "IPY_MODEL_93e02fa74bec4588bbb81cd6d072c98e",
        "IPY_MODEL_d85a22e96b034f0896226acdcb6fb6c2",
        "IPY_MODEL_974ea97f79f946ecb2c9500d08a0ad57"
       ],
       "layout": "IPY_MODEL_68af3376785c4b52a40f542a8ce0cd36"
      }
     },
     "449cd55f23ec4fa1b9706a027fa616be": {
      "model_module": "@jupyter-widgets/controls",
      "model_module_version": "2.0.0",
      "model_name": "HTMLModel",
      "state": {
       "layout": "IPY_MODEL_f55aa2ee44d247abb3c39a103a96cd03",
       "style": "IPY_MODEL_b95fd45ca4c84a0b8e63d027eba12520",
       "value": "hook.frame__tpch__lineitem: nodes...: 100%"
      }
     },
     "44b09acfb1bd493ab65488a398fd112a": {
      "model_module": "@jupyter-widgets/base",
      "model_module_version": "2.0.0",
      "model_name": "LayoutModel",
      "state": {}
     },
     "44e1eee023984bb99ddf12a12b87ae59": {
      "model_module": "@jupyter-widgets/base",
      "model_module_version": "2.0.0",
      "model_name": "LayoutModel",
      "state": {}
     },
     "44fc52644d8d4400bc7fc949d1c311c1": {
      "model_module": "@jupyter-widgets/controls",
      "model_module_version": "2.0.0",
      "model_name": "HTMLStyleModel",
      "state": {
       "description_width": "",
       "font_size": null,
       "text_color": null
      }
     },
     "4522c10772b04d0bb16aa9672146ddff": {
      "model_module": "@jupyter-widgets/base",
      "model_module_version": "2.0.0",
      "model_name": "LayoutModel",
      "state": {}
     },
     "45324b2ded97487b890c2c043c7baf86": {
      "model_module": "@jupyter-widgets/controls",
      "model_module_version": "2.0.0",
      "model_name": "HTMLModel",
      "state": {
       "layout": "IPY_MODEL_f54f507322954bcbac3a30377fe164b3",
       "style": "IPY_MODEL_0a5b3123479c4a7eaf286e44470916a8",
       "value": "hook.frame__tpch__orders: 100%"
      }
     },
     "4558d26c561742dab0453a10608c1a95": {
      "model_module": "@jupyter-widgets/controls",
      "model_module_version": "2.0.0",
      "model_name": "HTMLModel",
      "state": {
       "layout": "IPY_MODEL_46cf46f51b0b4806b4699f9e12fa8ce4",
       "style": "IPY_MODEL_ab2b402d983b4d049676adb4bcaaca40",
       "value": "Scanning frames: 100%"
      }
     },
     "455b006ea58047679306317fd83ffdb2": {
      "model_module": "@jupyter-widgets/controls",
      "model_module_version": "2.0.0",
      "model_name": "HTMLStyleModel",
      "state": {
       "description_width": "",
       "font_size": null,
       "text_color": null
      }
     },
     "4573285594044701a8654011d0533b75": {
      "model_module": "@jupyter-widgets/controls",
      "model_module_version": "2.0.0",
      "model_name": "HTMLModel",
      "state": {
       "layout": "IPY_MODEL_c8bf052a5ecc49108875112cfd4ce3f2",
       "style": "IPY_MODEL_eba440feba2f4eaa82d96d2e9aeb3467",
       "value": " 8/8 [00:48&lt;00:00,  5.30s/it]"
      }
     },
     "4577778c5f4645928c877ab7025dc078": {
      "model_module": "@jupyter-widgets/base",
      "model_module_version": "2.0.0",
      "model_name": "LayoutModel",
      "state": {}
     },
     "457b8eae29ba4974855c1f6b20fb89d2": {
      "model_module": "@jupyter-widgets/base",
      "model_module_version": "2.0.0",
      "model_name": "LayoutModel",
      "state": {
       "visibility": "hidden"
      }
     },
     "4582df950a2a4cd5919f80a9eba48b17": {
      "model_module": "@jupyter-widgets/controls",
      "model_module_version": "2.0.0",
      "model_name": "HTMLStyleModel",
      "state": {
       "description_width": "",
       "font_size": null,
       "text_color": null
      }
     },
     "459344c5bb1b49ff8c5e479fc900aed8": {
      "model_module": "@jupyter-widgets/base",
      "model_module_version": "2.0.0",
      "model_name": "LayoutModel",
      "state": {
       "visibility": "hidden"
      }
     },
     "459758edc12d439583b6cb90189fc069": {
      "model_module": "@jupyter-widgets/controls",
      "model_module_version": "2.0.0",
      "model_name": "HTMLStyleModel",
      "state": {
       "description_width": "",
       "font_size": null,
       "text_color": null
      }
     },
     "45c3f72d6c624124b66c9773978bd71e": {
      "model_module": "@jupyter-widgets/base",
      "model_module_version": "2.0.0",
      "model_name": "LayoutModel",
      "state": {}
     },
     "45c9ce473cf84218998caf98f450a28d": {
      "model_module": "@jupyter-widgets/base",
      "model_module_version": "2.0.0",
      "model_name": "LayoutModel",
      "state": {}
     },
     "45dc80705806433a963a6a4e54212096": {
      "model_module": "@jupyter-widgets/controls",
      "model_module_version": "2.0.0",
      "model_name": "FloatProgressModel",
      "state": {
       "layout": "IPY_MODEL_db57b92335924058ab497584bf62674f",
       "max": 3,
       "style": "IPY_MODEL_e1307919140a4710b2be7bbe0276be5c",
       "value": 3
      }
     },
     "45dd13a498b04fa7ad7ca2793b1039c3": {
      "model_module": "@jupyter-widgets/controls",
      "model_module_version": "2.0.0",
      "model_name": "HBoxModel",
      "state": {
       "children": [
        "IPY_MODEL_574e6e7507524ecd9f784fc153ea1848",
        "IPY_MODEL_48d5a6458fe2412e9d4f7d6fe9dde599",
        "IPY_MODEL_85c421a4f4f64c139c6aa6e7ad2fa604"
       ],
       "layout": "IPY_MODEL_cc8db08f50034753a0db27e19720f5f8"
      }
     },
     "45e0a55b244640e19bc2824918f5b123": {
      "model_module": "@jupyter-widgets/base",
      "model_module_version": "2.0.0",
      "model_name": "LayoutModel",
      "state": {}
     },
     "460aa3504ed743589df2ca6511a14918": {
      "model_module": "@jupyter-widgets/controls",
      "model_module_version": "2.0.0",
      "model_name": "HTMLStyleModel",
      "state": {
       "description_width": "",
       "font_size": null,
       "text_color": null
      }
     },
     "4615a90e96884ca6ab9b8a0495e6bffa": {
      "model_module": "@jupyter-widgets/controls",
      "model_module_version": "2.0.0",
      "model_name": "HTMLStyleModel",
      "state": {
       "description_width": "",
       "font_size": null,
       "text_color": null
      }
     },
     "462a1ebbf73143d18891e1fd3ad1eca3": {
      "model_module": "@jupyter-widgets/controls",
      "model_module_version": "2.0.0",
      "model_name": "HTMLModel",
      "state": {
       "layout": "IPY_MODEL_7ca77359a29b4376b33d0b093cbc7edf",
       "style": "IPY_MODEL_8327328c34c645b09862b581e9629c63",
       "value": "hook.frame__tpch__supplier: nodes...: 100%"
      }
     },
     "462bf39cbce245e895dd5121b1fd047f": {
      "model_module": "@jupyter-widgets/controls",
      "model_module_version": "2.0.0",
      "model_name": "HBoxModel",
      "state": {
       "children": [
        "IPY_MODEL_3f45074a6c41403d84e66d6029252ce3",
        "IPY_MODEL_ef54522c0e0342409207e2a36d02c5d6",
        "IPY_MODEL_2d0d1f5953ed4f0394ba1106e8e08554"
       ],
       "layout": "IPY_MODEL_12c68921c931413bbc131010cbf6ab5b"
      }
     },
     "462ea932d397487c8a756adbb569e16d": {
      "model_module": "@jupyter-widgets/controls",
      "model_module_version": "2.0.0",
      "model_name": "HTMLStyleModel",
      "state": {
       "description_width": "",
       "font_size": null,
       "text_color": null
      }
     },
     "46329d5f632d4b2e970f9aeee52ca00d": {
      "model_module": "@jupyter-widgets/base",
      "model_module_version": "2.0.0",
      "model_name": "LayoutModel",
      "state": {}
     },
     "4653e208db5341b4b10b3db16b5dae3d": {
      "model_module": "@jupyter-widgets/base",
      "model_module_version": "2.0.0",
      "model_name": "LayoutModel",
      "state": {}
     },
     "4685ee2a5ace453090ef6032ea7c1dda": {
      "model_module": "@jupyter-widgets/controls",
      "model_module_version": "2.0.0",
      "model_name": "HTMLStyleModel",
      "state": {
       "description_width": "",
       "font_size": null,
       "text_color": null
      }
     },
     "469c43cacaee404c9a94539d170945f5": {
      "model_module": "@jupyter-widgets/controls",
      "model_module_version": "2.0.0",
      "model_name": "FloatProgressModel",
      "state": {
       "bar_style": "success",
       "layout": "IPY_MODEL_fb3e59f4b29d43aca26fb3b18a8eb7c9",
       "max": 1,
       "style": "IPY_MODEL_8cb7a6744e3d44a4b69f8018fd27d743",
       "value": 1
      }
     },
     "46a772bb0b8d4110b1f65fa83adb60ff": {
      "model_module": "@jupyter-widgets/controls",
      "model_module_version": "2.0.0",
      "model_name": "HTMLModel",
      "state": {
       "layout": "IPY_MODEL_2369e2fbb2454f8bbd1d5932ed8989ac",
       "style": "IPY_MODEL_e7da2338daa746d88aa3561680c49f1b",
       "value": " 2/2 [00:01&lt;00:00,  1.29it/s]"
      }
     },
     "46bc748075b542d7a372ac5ba0a5b8da": {
      "model_module": "@jupyter-widgets/base",
      "model_module_version": "2.0.0",
      "model_name": "LayoutModel",
      "state": {}
     },
     "46ce7f5540804b07883c41552bf56264": {
      "model_module": "@jupyter-widgets/controls",
      "model_module_version": "2.0.0",
      "model_name": "HTMLStyleModel",
      "state": {
       "description_width": "",
       "font_size": null,
       "text_color": null
      }
     },
     "46cf46f51b0b4806b4699f9e12fa8ce4": {
      "model_module": "@jupyter-widgets/base",
      "model_module_version": "2.0.0",
      "model_name": "LayoutModel",
      "state": {}
     },
     "46d2ab76db7f4d67a58a37a1c2fac60b": {
      "model_module": "@jupyter-widgets/controls",
      "model_module_version": "2.0.0",
      "model_name": "HBoxModel",
      "state": {
       "children": [
        "IPY_MODEL_78c6a3943b80438aa925d1ec1e15fd6d",
        "IPY_MODEL_0ea8ab63dc404125b35d983a4589805d",
        "IPY_MODEL_c10a7838bf1545338c8eb6e221683fc9"
       ],
       "layout": "IPY_MODEL_5771ee4466254a819dc758d2d98e9b37"
      }
     },
     "46d3d16f77bb4af9974d591feec03de8": {
      "model_module": "@jupyter-widgets/controls",
      "model_module_version": "2.0.0",
      "model_name": "FloatProgressModel",
      "state": {
       "bar_style": "success",
       "layout": "IPY_MODEL_7794039e851a44d5986bad7d39983395",
       "max": 2,
       "style": "IPY_MODEL_7598ac631a1d44ecb278a079e2fa69be",
       "value": 2
      }
     },
     "472152fb168943db82b287c5e8763146": {
      "model_module": "@jupyter-widgets/base",
      "model_module_version": "2.0.0",
      "model_name": "LayoutModel",
      "state": {}
     },
     "4722c95e8bb04b7f9f598ab98978cde4": {
      "model_module": "@jupyter-widgets/controls",
      "model_module_version": "2.0.0",
      "model_name": "HTMLStyleModel",
      "state": {
       "description_width": "",
       "font_size": null,
       "text_color": null
      }
     },
     "4730c9ba50014111b8a85670e018ed8e": {
      "model_module": "@jupyter-widgets/controls",
      "model_module_version": "2.0.0",
      "model_name": "HTMLStyleModel",
      "state": {
       "description_width": "",
       "font_size": null,
       "text_color": null
      }
     },
     "47408a440b59453fba4acae65b459f35": {
      "model_module": "@jupyter-widgets/controls",
      "model_module_version": "2.0.0",
      "model_name": "FloatProgressModel",
      "state": {
       "bar_style": "success",
       "layout": "IPY_MODEL_08a8568f781944779227265e8247001f",
       "max": 2,
       "style": "IPY_MODEL_a62db91857c54b4a84010739676cba8a",
       "value": 2
      }
     },
     "476e896db105497b8a88fba89c8751fa": {
      "model_module": "@jupyter-widgets/controls",
      "model_module_version": "2.0.0",
      "model_name": "FloatProgressModel",
      "state": {
       "bar_style": "success",
       "layout": "IPY_MODEL_5940e909d02846fd80ac83fefe00199f",
       "max": 1,
       "style": "IPY_MODEL_b68de9bce6764b1fa06b3a61ef9a3353",
       "value": 1
      }
     },
     "476ed4ca01504999bfb372397fb9dcc2": {
      "model_module": "@jupyter-widgets/controls",
      "model_module_version": "2.0.0",
      "model_name": "HTMLModel",
      "state": {
       "layout": "IPY_MODEL_faf8c8cb7d0042bab51cc6b9ba8d1817",
       "style": "IPY_MODEL_97dbbd08e2fc449aa6d39e688eb792c0",
       "value": "Scanning frames: 100%"
      }
     },
     "47a0e9c9c76a459a93bf80dce0f1b446": {
      "model_module": "@jupyter-widgets/controls",
      "model_module_version": "2.0.0",
      "model_name": "HBoxModel",
      "state": {
       "children": [
        "IPY_MODEL_fe54513485fc42a7bbbd902f64adca90",
        "IPY_MODEL_0104bc9e0a6f4bcbb75851150d84c324",
        "IPY_MODEL_acf8e76e212249f58e4c6edd9cea52dc"
       ],
       "layout": "IPY_MODEL_22edcfb017bb41848d1734d4a28ee480"
      }
     },
     "47b5dd57bd5d4479a555cc6f2927ac8a": {
      "model_module": "@jupyter-widgets/base",
      "model_module_version": "2.0.0",
      "model_name": "LayoutModel",
      "state": {}
     },
     "47d3b1adbbd54f1091ac82aefa746ff5": {
      "model_module": "@jupyter-widgets/controls",
      "model_module_version": "2.0.0",
      "model_name": "FloatProgressModel",
      "state": {
       "layout": "IPY_MODEL_f6a347b855a54c24be109611a30845be",
       "max": 2,
       "style": "IPY_MODEL_0fcab43eaf4d48cf9fba7a4cdabe4189",
       "value": 2
      }
     },
     "47f6bc12c5a344929897f35a7bb1e9a5": {
      "model_module": "@jupyter-widgets/base",
      "model_module_version": "2.0.0",
      "model_name": "LayoutModel",
      "state": {}
     },
     "4801c6a92e024ecbaa8ed5daad860709": {
      "model_module": "@jupyter-widgets/controls",
      "model_module_version": "2.0.0",
      "model_name": "HTMLStyleModel",
      "state": {
       "description_width": "",
       "font_size": null,
       "text_color": null
      }
     },
     "481f6829c92a4a22bd0ce216ff19fc2e": {
      "model_module": "@jupyter-widgets/controls",
      "model_module_version": "2.0.0",
      "model_name": "ProgressStyleModel",
      "state": {
       "description_width": ""
      }
     },
     "483035ec9b95491195dfde65beff5a77": {
      "model_module": "@jupyter-widgets/controls",
      "model_module_version": "2.0.0",
      "model_name": "HTMLStyleModel",
      "state": {
       "description_width": "",
       "font_size": null,
       "text_color": null
      }
     },
     "48483e6f36174ed8a275b5508f1950af": {
      "model_module": "@jupyter-widgets/controls",
      "model_module_version": "2.0.0",
      "model_name": "FloatProgressModel",
      "state": {
       "layout": "IPY_MODEL_b9063543355b4470b411eb75dc47cf76",
       "max": 1,
       "style": "IPY_MODEL_e8c4edd5741542308e5fc1b3c982d311",
       "value": 1
      }
     },
     "4861ac93c2154d729348e90da0ef73a0": {
      "model_module": "@jupyter-widgets/controls",
      "model_module_version": "2.0.0",
      "model_name": "HTMLModel",
      "state": {
       "layout": "IPY_MODEL_d9564c12351a43629e58946216fefd9e",
       "style": "IPY_MODEL_08a38461841648bda5c6a102a8fcf95f",
       "value": "Scanning frames:  12%"
      }
     },
     "4865af3dd0004162aa515550ff7cdc5c": {
      "model_module": "@jupyter-widgets/controls",
      "model_module_version": "2.0.0",
      "model_name": "HTMLModel",
      "state": {
       "layout": "IPY_MODEL_35a8e938a111462a91437056f4034a23",
       "style": "IPY_MODEL_6822791de0ad402b98e344039a1fc17f",
       "value": "Scanning for edges...: 100%"
      }
     },
     "489bdd48142f4cb490c5c22f638c7dbc": {
      "model_module": "@jupyter-widgets/controls",
      "model_module_version": "2.0.0",
      "model_name": "ProgressStyleModel",
      "state": {
       "description_width": ""
      }
     },
     "48c410d01b9f41c28b6949e9cca5000e": {
      "model_module": "@jupyter-widgets/base",
      "model_module_version": "2.0.0",
      "model_name": "LayoutModel",
      "state": {}
     },
     "48c557e385214f5586af0fe21c28e097": {
      "model_module": "@jupyter-widgets/controls",
      "model_module_version": "2.0.0",
      "model_name": "FloatProgressModel",
      "state": {
       "bar_style": "success",
       "layout": "IPY_MODEL_8ed96596a6ec476cb871edf13cc3742f",
       "max": 1,
       "style": "IPY_MODEL_9ea1f0008f3741c7bee31bee506ab0e9",
       "value": 1
      }
     },
     "48d5a6458fe2412e9d4f7d6fe9dde599": {
      "model_module": "@jupyter-widgets/controls",
      "model_module_version": "2.0.0",
      "model_name": "FloatProgressModel",
      "state": {
       "bar_style": "success",
       "layout": "IPY_MODEL_2339b390cd4048caa6a65f462ccf6cc6",
       "max": 2,
       "style": "IPY_MODEL_722c95745fab48419434a970f540cbc7",
       "value": 2
      }
     },
     "49042964391544d0aa5159ca27d82dfc": {
      "model_module": "@jupyter-widgets/controls",
      "model_module_version": "2.0.0",
      "model_name": "ProgressStyleModel",
      "state": {
       "description_width": ""
      }
     },
     "49150fdf74294514b161736314aa77a7": {
      "model_module": "@jupyter-widgets/controls",
      "model_module_version": "2.0.0",
      "model_name": "HTMLModel",
      "state": {
       "layout": "IPY_MODEL_43b821ed702742038fa114c20c9f7c30",
       "style": "IPY_MODEL_097adfd9f9334cb4b08e95b3c84a3207",
       "value": " 2/2 [00:01&lt;00:00,  1.99it/s]"
      }
     },
     "493d5a58bc7e49e08436b2857e1e9632": {
      "model_module": "@jupyter-widgets/controls",
      "model_module_version": "2.0.0",
      "model_name": "HTMLStyleModel",
      "state": {
       "description_width": "",
       "font_size": null,
       "text_color": null
      }
     },
     "49450b96b9384e2f9276c2c8a8520f37": {
      "model_module": "@jupyter-widgets/base",
      "model_module_version": "2.0.0",
      "model_name": "LayoutModel",
      "state": {}
     },
     "494e918936df460faad75a772ab593b0": {
      "model_module": "@jupyter-widgets/base",
      "model_module_version": "2.0.0",
      "model_name": "LayoutModel",
      "state": {}
     },
     "49a3392986a34dc08e7d4b5d473d20bb": {
      "model_module": "@jupyter-widgets/controls",
      "model_module_version": "2.0.0",
      "model_name": "ProgressStyleModel",
      "state": {
       "description_width": ""
      }
     },
     "49a51d9310084770af58ca281b358a47": {
      "model_module": "@jupyter-widgets/base",
      "model_module_version": "2.0.0",
      "model_name": "LayoutModel",
      "state": {}
     },
     "49c42153f87d48d58d4683e8d0dec867": {
      "model_module": "@jupyter-widgets/base",
      "model_module_version": "2.0.0",
      "model_name": "LayoutModel",
      "state": {}
     },
     "49de6b0615674b0cbf5fd334ee2e5106": {
      "model_module": "@jupyter-widgets/base",
      "model_module_version": "2.0.0",
      "model_name": "LayoutModel",
      "state": {
       "visibility": "hidden"
      }
     },
     "4a1587db0d00476381cce6c20e789710": {
      "model_module": "@jupyter-widgets/controls",
      "model_module_version": "2.0.0",
      "model_name": "HTMLStyleModel",
      "state": {
       "description_width": "",
       "font_size": null,
       "text_color": null
      }
     },
     "4a1fd9b469fc493ca77e771d7d7eec48": {
      "model_module": "@jupyter-widgets/base",
      "model_module_version": "2.0.0",
      "model_name": "LayoutModel",
      "state": {}
     },
     "4a20bb527c984888bc3f2554e1a0eb1a": {
      "model_module": "@jupyter-widgets/controls",
      "model_module_version": "2.0.0",
      "model_name": "FloatProgressModel",
      "state": {
       "layout": "IPY_MODEL_6c80f686c35148e2b05c541a662b095b",
       "max": 1,
       "style": "IPY_MODEL_30b696ab29414bdfa347e0404928a4ae",
       "value": 1
      }
     },
     "4a7dc61ce4154758adda9d579eaf29e0": {
      "model_module": "@jupyter-widgets/controls",
      "model_module_version": "2.0.0",
      "model_name": "HTMLStyleModel",
      "state": {
       "description_width": "",
       "font_size": null,
       "text_color": null
      }
     },
     "4ad832058b5749a3b77c551a8a505702": {
      "model_module": "@jupyter-widgets/controls",
      "model_module_version": "2.0.0",
      "model_name": "HBoxModel",
      "state": {
       "children": [
        "IPY_MODEL_c59f0d1439f143808111ddc4a7cf2bf3",
        "IPY_MODEL_a7d1961ce61a452cad4084b07f0da484",
        "IPY_MODEL_2abe69f6e61f47a9bbe2781e2e3f7acc"
       ],
       "layout": "IPY_MODEL_5b033141e09f4f5dba74ed17b2ba1d05"
      }
     },
     "4adfc472cb2249748afd71c983c29d5c": {
      "model_module": "@jupyter-widgets/controls",
      "model_module_version": "2.0.0",
      "model_name": "HTMLModel",
      "state": {
       "layout": "IPY_MODEL_0ce3d58f8dfd4ee4accd1eceb212f0b0",
       "style": "IPY_MODEL_82fc1b52c8fe4e4bb1aef5a7dba6393f",
       "value": " 0/1 [00:00&lt;?, ?it/s]"
      }
     },
     "4ae7f8c74e9743eaa83a9d840082fd0b": {
      "model_module": "@jupyter-widgets/base",
      "model_module_version": "2.0.0",
      "model_name": "LayoutModel",
      "state": {
       "visibility": "hidden"
      }
     },
     "4b121da8f8e14ef7ab253fa05a0ae06b": {
      "model_module": "@jupyter-widgets/base",
      "model_module_version": "2.0.0",
      "model_name": "LayoutModel",
      "state": {}
     },
     "4b31ff17b8374d829788d20397496c8b": {
      "model_module": "@jupyter-widgets/base",
      "model_module_version": "2.0.0",
      "model_name": "LayoutModel",
      "state": {}
     },
     "4b400b1d3dfa4fd084b10a68ee3b95e1": {
      "model_module": "@jupyter-widgets/controls",
      "model_module_version": "2.0.0",
      "model_name": "FloatProgressModel",
      "state": {
       "layout": "IPY_MODEL_7c5d8f1464304910a1d95ae21b80eab9",
       "max": 2,
       "style": "IPY_MODEL_1d888cfddea7480cadfed22f0e8ffbcb",
       "value": 2
      }
     },
     "4b4142090d694d0995565d12ed168d65": {
      "model_module": "@jupyter-widgets/controls",
      "model_module_version": "2.0.0",
      "model_name": "FloatProgressModel",
      "state": {
       "layout": "IPY_MODEL_87db3058502e4319a1991dc489ba766b",
       "max": 2,
       "style": "IPY_MODEL_4481cf2d2b634035915fa56578a8c8ff",
       "value": 2
      }
     },
     "4b4236e1b5734c3cbca1eda14473d503": {
      "model_module": "@jupyter-widgets/controls",
      "model_module_version": "2.0.0",
      "model_name": "FloatProgressModel",
      "state": {
       "bar_style": "success",
       "layout": "IPY_MODEL_7d8a1f73f0e647a280612cde4834233f",
       "max": 4,
       "style": "IPY_MODEL_c26c50866f4c4ee4aba308338995ca59",
       "value": 4
      }
     },
     "4b53bb34412642a3b32d947c7fc7c9b1": {
      "model_module": "@jupyter-widgets/controls",
      "model_module_version": "2.0.0",
      "model_name": "HTMLModel",
      "state": {
       "layout": "IPY_MODEL_e5d7fa0a8f684a0ca41d6e0e7ce84d4a",
       "style": "IPY_MODEL_061c813599c340c2a7c2522a23a9371a",
       "value": "hook.frame__tpch__part: 100%"
      }
     },
     "4b6ffd32875544b89adde0d95f1747fd": {
      "model_module": "@jupyter-widgets/controls",
      "model_module_version": "2.0.0",
      "model_name": "HTMLModel",
      "state": {
       "layout": "IPY_MODEL_fff6f04f33334497968453065961cb70",
       "style": "IPY_MODEL_483035ec9b95491195dfde65beff5a77",
       "value": "Scanning for nodes...: 100%"
      }
     },
     "4b75921a0d104cc5b47dcfd011122421": {
      "model_module": "@jupyter-widgets/base",
      "model_module_version": "2.0.0",
      "model_name": "LayoutModel",
      "state": {}
     },
     "4be0ab266a374895b7ed15913c48136c": {
      "model_module": "@jupyter-widgets/base",
      "model_module_version": "2.0.0",
      "model_name": "LayoutModel",
      "state": {}
     },
     "4bee39cf8773478f8785c97861c743d4": {
      "model_module": "@jupyter-widgets/base",
      "model_module_version": "2.0.0",
      "model_name": "LayoutModel",
      "state": {}
     },
     "4c05e660b76b4888b8f2e68a2da3ac18": {
      "model_module": "@jupyter-widgets/controls",
      "model_module_version": "2.0.0",
      "model_name": "HTMLStyleModel",
      "state": {
       "description_width": "",
       "font_size": null,
       "text_color": null
      }
     },
     "4c243e3539044fdf8de3fe2ad12a9dad": {
      "model_module": "@jupyter-widgets/controls",
      "model_module_version": "2.0.0",
      "model_name": "HTMLStyleModel",
      "state": {
       "description_width": "",
       "font_size": null,
       "text_color": null
      }
     },
     "4c49fb11631d48cf93339307f50c9c4d": {
      "model_module": "@jupyter-widgets/controls",
      "model_module_version": "2.0.0",
      "model_name": "HTMLModel",
      "state": {
       "layout": "IPY_MODEL_a215a077fd5f489bb7e8f530101d9986",
       "style": "IPY_MODEL_6868fc69e5bf4a6ba1daaea8239d120e",
       "value": " 2/2 [00:06&lt;00:00,  3.12s/it]"
      }
     },
     "4c5559000da543e9bd4dff80da8426a9": {
      "model_module": "@jupyter-widgets/base",
      "model_module_version": "2.0.0",
      "model_name": "LayoutModel",
      "state": {}
     },
     "4c57b5c1397b463cb3b754a49204f41a": {
      "model_module": "@jupyter-widgets/base",
      "model_module_version": "2.0.0",
      "model_name": "LayoutModel",
      "state": {}
     },
     "4c61a87aac89431fb1f9e77f0c4e64d3": {
      "model_module": "@jupyter-widgets/base",
      "model_module_version": "2.0.0",
      "model_name": "LayoutModel",
      "state": {}
     },
     "4c861eb3fabb4d8ebfa50891ed25abbb": {
      "model_module": "@jupyter-widgets/controls",
      "model_module_version": "2.0.0",
      "model_name": "FloatProgressModel",
      "state": {
       "bar_style": "success",
       "layout": "IPY_MODEL_a94574325db34e2b81e5971219ff99b1",
       "max": 1,
       "style": "IPY_MODEL_c2a68ad159104e66bc9724f3e00b83c5",
       "value": 1
      }
     },
     "4c8765cd0445420b92a24b04beb879ce": {
      "model_module": "@jupyter-widgets/controls",
      "model_module_version": "2.0.0",
      "model_name": "HTMLStyleModel",
      "state": {
       "description_width": "",
       "font_size": null,
       "text_color": null
      }
     },
     "4c969a59dacc4cd9839fe6f1bf064d62": {
      "model_module": "@jupyter-widgets/base",
      "model_module_version": "2.0.0",
      "model_name": "LayoutModel",
      "state": {}
     },
     "4ca69e6caa03486ab271fb71c20b815e": {
      "model_module": "@jupyter-widgets/controls",
      "model_module_version": "2.0.0",
      "model_name": "FloatProgressModel",
      "state": {
       "bar_style": "success",
       "layout": "IPY_MODEL_60ffdfd2e7ab432a835209bbc7adbb45",
       "max": 2,
       "style": "IPY_MODEL_369f1f15a1b8428e9fe603b83b7400ba",
       "value": 2
      }
     },
     "4cceca4f156c442c806cca93bcb4bd54": {
      "model_module": "@jupyter-widgets/controls",
      "model_module_version": "2.0.0",
      "model_name": "HTMLModel",
      "state": {
       "layout": "IPY_MODEL_ffb1de2b9ed84506ba3e69a3fe345a15",
       "style": "IPY_MODEL_2a5d91249cc1435887289ccd3ae4520f",
       "value": "Scanning frames: 100%"
      }
     },
     "4ce0b8a4ab0d496a9c6a8fab7c22079f": {
      "model_module": "@jupyter-widgets/base",
      "model_module_version": "2.0.0",
      "model_name": "LayoutModel",
      "state": {}
     },
     "4cf9e0e1a8494575a2ea0ebdc44d2622": {
      "model_module": "@jupyter-widgets/base",
      "model_module_version": "2.0.0",
      "model_name": "LayoutModel",
      "state": {
       "visibility": "hidden"
      }
     },
     "4cfa8b37e98d45dcb698ee813a7fdd61": {
      "model_module": "@jupyter-widgets/controls",
      "model_module_version": "2.0.0",
      "model_name": "HTMLModel",
      "state": {
       "layout": "IPY_MODEL_cafe1ab982194b69a45a1c9f629c59a2",
       "style": "IPY_MODEL_42cb88c177804c5d9e7dba3a356a8849",
       "value": "Scanning frames: 100%"
      }
     },
     "4cffaa4ac7f048ff890982bbf8854503": {
      "model_module": "@jupyter-widgets/base",
      "model_module_version": "2.0.0",
      "model_name": "LayoutModel",
      "state": {}
     },
     "4d2fbe92b7924bfd992110b14a4b670b": {
      "model_module": "@jupyter-widgets/base",
      "model_module_version": "2.0.0",
      "model_name": "LayoutModel",
      "state": {}
     },
     "4d338d778d64423ea680c3c9d7cc69d4": {
      "model_module": "@jupyter-widgets/controls",
      "model_module_version": "2.0.0",
      "model_name": "HTMLModel",
      "state": {
       "layout": "IPY_MODEL_f8bb4e78a95f44e890588ead6a169c37",
       "style": "IPY_MODEL_4a1587db0d00476381cce6c20e789710",
       "value": " 2/2 [00:06&lt;00:00,  6.54s/it]"
      }
     },
     "4d341ed84a7145c7a20d7a44b384c0ee": {
      "model_module": "@jupyter-widgets/controls",
      "model_module_version": "2.0.0",
      "model_name": "HTMLStyleModel",
      "state": {
       "description_width": "",
       "font_size": null,
       "text_color": null
      }
     },
     "4d390aa4a71a4006bce4b7019e396304": {
      "model_module": "@jupyter-widgets/controls",
      "model_module_version": "2.0.0",
      "model_name": "HTMLModel",
      "state": {
       "layout": "IPY_MODEL_b016112fb4b3400ab65a4f1f664bbd9a",
       "style": "IPY_MODEL_30a34f471a8b4a4ab0d48cb4e1887f5f",
       "value": "Scanning for nodes...: 100%"
      }
     },
     "4d58598831f849768f88af116263d0b1": {
      "model_module": "@jupyter-widgets/controls",
      "model_module_version": "2.0.0",
      "model_name": "HTMLModel",
      "state": {
       "layout": "IPY_MODEL_53d15e4e77ae4814a492af83cb82c47b",
       "style": "IPY_MODEL_f235c0dc52a545bc8ef7ccd0d01889b7",
       "value": "Scanning frames: 100%"
      }
     },
     "4d5cdb4da605469895871659550bd90e": {
      "model_module": "@jupyter-widgets/base",
      "model_module_version": "2.0.0",
      "model_name": "LayoutModel",
      "state": {}
     },
     "4d5e12ccbfa74368b15cc8ce58776037": {
      "model_module": "@jupyter-widgets/controls",
      "model_module_version": "2.0.0",
      "model_name": "HBoxModel",
      "state": {
       "children": [
        "IPY_MODEL_2bdca6966dc74e4a841ef63e5eefd65d",
        "IPY_MODEL_8aa650f1883a4a7db8ba0bd06d7b920d",
        "IPY_MODEL_bbacd98df1954749a02a4f35e5132b0e"
       ],
       "layout": "IPY_MODEL_692da3585fab4704bce7952126ea7822"
      }
     },
     "4d5f70a3b0814dba8a2242b21b889e87": {
      "model_module": "@jupyter-widgets/base",
      "model_module_version": "2.0.0",
      "model_name": "LayoutModel",
      "state": {}
     },
     "4d6921a94a5c49758111244d7dec0f0f": {
      "model_module": "@jupyter-widgets/controls",
      "model_module_version": "2.0.0",
      "model_name": "HTMLStyleModel",
      "state": {
       "description_width": "",
       "font_size": null,
       "text_color": null
      }
     },
     "4d84e862bed64bf488e921417ef717d4": {
      "model_module": "@jupyter-widgets/controls",
      "model_module_version": "2.0.0",
      "model_name": "ProgressStyleModel",
      "state": {
       "description_width": ""
      }
     },
     "4da64266f78e44e09eb9bf521189c274": {
      "model_module": "@jupyter-widgets/controls",
      "model_module_version": "2.0.0",
      "model_name": "HBoxModel",
      "state": {
       "children": [
        "IPY_MODEL_2566cb6410364d6aad53b2008f3c67f6",
        "IPY_MODEL_e1774238a7b949319bb445743d015ae4",
        "IPY_MODEL_82d6b11b5b34494a80e0ef275fb3a034"
       ],
       "layout": "IPY_MODEL_b3a2f3c551974633b55f395eebaa6f2b"
      }
     },
     "4dbe5ceaf48140e3886274571e081e42": {
      "model_module": "@jupyter-widgets/controls",
      "model_module_version": "2.0.0",
      "model_name": "HTMLModel",
      "state": {
       "layout": "IPY_MODEL_7642893a236047c7a3437bd86928ac8f",
       "style": "IPY_MODEL_53350855ab7845629d89424044fb5aa6",
       "value": " 2/2 [00:01&lt;00:00,  1.75it/s]"
      }
     },
     "4dd3e9c8932e4a8a885f7bc99b1bf22f": {
      "model_module": "@jupyter-widgets/base",
      "model_module_version": "2.0.0",
      "model_name": "LayoutModel",
      "state": {}
     },
     "4dd8bcb8bccf491ab9c4e06acd1c770c": {
      "model_module": "@jupyter-widgets/base",
      "model_module_version": "2.0.0",
      "model_name": "LayoutModel",
      "state": {}
     },
     "4deec2236f8346d5a0db4de652acd7c3": {
      "model_module": "@jupyter-widgets/base",
      "model_module_version": "2.0.0",
      "model_name": "LayoutModel",
      "state": {}
     },
     "4e040583956e43118fe6594500699300": {
      "model_module": "@jupyter-widgets/controls",
      "model_module_version": "2.0.0",
      "model_name": "FloatProgressModel",
      "state": {
       "bar_style": "success",
       "layout": "IPY_MODEL_44b09acfb1bd493ab65488a398fd112a",
       "max": 6,
       "style": "IPY_MODEL_2d272aec4b434f5f87588718d0d5f74e",
       "value": 6
      }
     },
     "4e04288ac31f4896b7bd1db17297e21b": {
      "model_module": "@jupyter-widgets/base",
      "model_module_version": "2.0.0",
      "model_name": "LayoutModel",
      "state": {}
     },
     "4e26f23ff35f4dbcac52fff81438c2c7": {
      "model_module": "@jupyter-widgets/controls",
      "model_module_version": "2.0.0",
      "model_name": "HBoxModel",
      "state": {
       "children": [
        "IPY_MODEL_89bd9cd0011a423e8b5ee296174b65fb",
        "IPY_MODEL_86bbb07aaace4f8bb4f1f4c5a614245e",
        "IPY_MODEL_0cdbbbd9542d44229720e3cdcfd759ad"
       ],
       "layout": "IPY_MODEL_3a4ff74bf2d44d1e819b49a2ce287290"
      }
     },
     "4e4c5753a43b431db146cdf8f6296a2a": {
      "model_module": "@jupyter-widgets/base",
      "model_module_version": "2.0.0",
      "model_name": "LayoutModel",
      "state": {}
     },
     "4e55aeb80c7940be8af6040c8e53a23c": {
      "model_module": "@jupyter-widgets/controls",
      "model_module_version": "2.0.0",
      "model_name": "HTMLModel",
      "state": {
       "layout": "IPY_MODEL_4e4c5753a43b431db146cdf8f6296a2a",
       "style": "IPY_MODEL_9aeefaed594640d49c69bf91fe707c0e",
       "value": " 2/2 [00:01&lt;00:00,  1.42it/s]"
      }
     },
     "4e6fcf77fea94532a71ca163c5bee79f": {
      "model_module": "@jupyter-widgets/controls",
      "model_module_version": "2.0.0",
      "model_name": "HTMLStyleModel",
      "state": {
       "description_width": "",
       "font_size": null,
       "text_color": null
      }
     },
     "4e813b3da5ff452094540cdeab45262f": {
      "model_module": "@jupyter-widgets/controls",
      "model_module_version": "2.0.0",
      "model_name": "ProgressStyleModel",
      "state": {
       "description_width": ""
      }
     },
     "4e90844959d04b8895d772d77fd762f9": {
      "model_module": "@jupyter-widgets/base",
      "model_module_version": "2.0.0",
      "model_name": "LayoutModel",
      "state": {}
     },
     "4e9b81a685214ed8ab6af1160854e914": {
      "model_module": "@jupyter-widgets/controls",
      "model_module_version": "2.0.0",
      "model_name": "FloatProgressModel",
      "state": {
       "layout": "IPY_MODEL_c516d006fee0435996cf660019fc6e6e",
       "max": 2,
       "style": "IPY_MODEL_566ebc0dacdd48d5961eb5de5fd6c13c",
       "value": 2
      }
     },
     "4ebeaba7be84453ab60313ecd5eb9b0d": {
      "model_module": "@jupyter-widgets/controls",
      "model_module_version": "2.0.0",
      "model_name": "HTMLModel",
      "state": {
       "layout": "IPY_MODEL_f9fead8f2ade47a8a3a4ef7089e2cc43",
       "style": "IPY_MODEL_6f7a6ce7c6af4c3897ad930dcc2385c8",
       "value": "Scanning for edges...: 100%"
      }
     },
     "4ece4db40f2e41e495cbbbcc7865bfba": {
      "model_module": "@jupyter-widgets/controls",
      "model_module_version": "2.0.0",
      "model_name": "HTMLStyleModel",
      "state": {
       "description_width": "",
       "font_size": null,
       "text_color": null
      }
     },
     "4edeec0d4b3d4859a219db6a0eea0a5c": {
      "model_module": "@jupyter-widgets/controls",
      "model_module_version": "2.0.0",
      "model_name": "FloatProgressModel",
      "state": {
       "layout": "IPY_MODEL_4deec2236f8346d5a0db4de652acd7c3",
       "max": 2,
       "style": "IPY_MODEL_7b7d999ad4cf4315b42494f3efa7846f",
       "value": 2
      }
     },
     "4edf822c9bc2454eb6cdba086e5a7b50": {
      "model_module": "@jupyter-widgets/controls",
      "model_module_version": "2.0.0",
      "model_name": "FloatProgressModel",
      "state": {
       "bar_style": "danger",
       "layout": "IPY_MODEL_3d1946a6ec284fb19495ffb29d9f86ba",
       "max": 8,
       "style": "IPY_MODEL_32c508b5276547c2b653489f9dd0d5d7",
       "value": 1
      }
     },
     "4f24a6dbc63e4711ab45185d37c06dcb": {
      "model_module": "@jupyter-widgets/base",
      "model_module_version": "2.0.0",
      "model_name": "LayoutModel",
      "state": {}
     },
     "4f2658f8a4c74c1da2167095326332e7": {
      "model_module": "@jupyter-widgets/base",
      "model_module_version": "2.0.0",
      "model_name": "LayoutModel",
      "state": {}
     },
     "4f2a330543c0440197594333f4360a94": {
      "model_module": "@jupyter-widgets/controls",
      "model_module_version": "2.0.0",
      "model_name": "HTMLStyleModel",
      "state": {
       "description_width": "",
       "font_size": null,
       "text_color": null
      }
     },
     "4fba6b20da044d019323a45fe2df81c0": {
      "model_module": "@jupyter-widgets/base",
      "model_module_version": "2.0.0",
      "model_name": "LayoutModel",
      "state": {}
     },
     "4ffee3ad1be24167b58d42f5eba5aa93": {
      "model_module": "@jupyter-widgets/controls",
      "model_module_version": "2.0.0",
      "model_name": "HTMLModel",
      "state": {
       "layout": "IPY_MODEL_8750fe291be74588bbe604f7d273ccd0",
       "style": "IPY_MODEL_9007bc0a008c4ebfab85e69f7c061d6a",
       "value": "Scanning for edges...:   0%"
      }
     },
     "500dadac896143609406496079de802a": {
      "model_module": "@jupyter-widgets/base",
      "model_module_version": "2.0.0",
      "model_name": "LayoutModel",
      "state": {}
     },
     "5044f07d017543b1b84ce2c7b7ab1850": {
      "model_module": "@jupyter-widgets/controls",
      "model_module_version": "2.0.0",
      "model_name": "HTMLStyleModel",
      "state": {
       "description_width": "",
       "font_size": null,
       "text_color": null
      }
     },
     "505a622b841544799b9bae0c47b64f94": {
      "model_module": "@jupyter-widgets/base",
      "model_module_version": "2.0.0",
      "model_name": "LayoutModel",
      "state": {
       "visibility": "hidden"
      }
     },
     "506639cc32d7495d9cbc3d8ddb48b7e4": {
      "model_module": "@jupyter-widgets/controls",
      "model_module_version": "2.0.0",
      "model_name": "HTMLModel",
      "state": {
       "layout": "IPY_MODEL_e2ddcea63eba48a1a19e05cc5ad80f14",
       "style": "IPY_MODEL_b9d730f6a24747e9a9e14e58030cca77",
       "value": " 8/8 [00:50&lt;00:00,  5.59s/it]"
      }
     },
     "506afcd9e1e544909631a5191c2ec9d5": {
      "model_module": "@jupyter-widgets/base",
      "model_module_version": "2.0.0",
      "model_name": "LayoutModel",
      "state": {}
     },
     "507735e2f20b4d248aebc9ffd09c3fea": {
      "model_module": "@jupyter-widgets/base",
      "model_module_version": "2.0.0",
      "model_name": "LayoutModel",
      "state": {
       "visibility": "hidden"
      }
     },
     "509e22ae0cbb445491511f03ccb5065f": {
      "model_module": "@jupyter-widgets/base",
      "model_module_version": "2.0.0",
      "model_name": "LayoutModel",
      "state": {}
     },
     "50ab9d887ca64f8b8e02f3f3d6a945e1": {
      "model_module": "@jupyter-widgets/controls",
      "model_module_version": "2.0.0",
      "model_name": "FloatProgressModel",
      "state": {
       "bar_style": "success",
       "layout": "IPY_MODEL_0b674f0d56554b0cb6f3fe65d677d120",
       "max": 1,
       "style": "IPY_MODEL_5193c45523eb4fb09c473148e637944e",
       "value": 1
      }
     },
     "50b16b7fff774fee93719f282d1bb834": {
      "model_module": "@jupyter-widgets/controls",
      "model_module_version": "2.0.0",
      "model_name": "HTMLStyleModel",
      "state": {
       "description_width": "",
       "font_size": null,
       "text_color": null
      }
     },
     "50ea98afee344c2bb3889f1efb25f250": {
      "model_module": "@jupyter-widgets/controls",
      "model_module_version": "2.0.0",
      "model_name": "HTMLModel",
      "state": {
       "layout": "IPY_MODEL_246805f873f547c38072e6dd8302279b",
       "style": "IPY_MODEL_6ac68f2ef85a4da68a19720cc71343a7",
       "value": "Scanning frames: 100%"
      }
     },
     "5110e552bed241128bcea1b8055bd667": {
      "model_module": "@jupyter-widgets/base",
      "model_module_version": "2.0.0",
      "model_name": "LayoutModel",
      "state": {
       "visibility": "hidden"
      }
     },
     "51115e575ac44973bc42d7073cc3c531": {
      "model_module": "@jupyter-widgets/controls",
      "model_module_version": "2.0.0",
      "model_name": "HTMLModel",
      "state": {
       "layout": "IPY_MODEL_0693b0c3f96140bd8b351fe46e92a839",
       "style": "IPY_MODEL_16741817a8e14c9e84cba8d0570a51af",
       "value": "Scanning for edges...:   0%"
      }
     },
     "51258fc8083e4fe2b892d4c49e220ff9": {
      "model_module": "@jupyter-widgets/controls",
      "model_module_version": "2.0.0",
      "model_name": "ProgressStyleModel",
      "state": {
       "description_width": ""
      }
     },
     "5163b85537cb48e2886a91f8b62a3cbd": {
      "model_module": "@jupyter-widgets/controls",
      "model_module_version": "2.0.0",
      "model_name": "HTMLStyleModel",
      "state": {
       "description_width": "",
       "font_size": null,
       "text_color": null
      }
     },
     "5193c45523eb4fb09c473148e637944e": {
      "model_module": "@jupyter-widgets/controls",
      "model_module_version": "2.0.0",
      "model_name": "ProgressStyleModel",
      "state": {
       "description_width": ""
      }
     },
     "51aebb283fb34ea28d13c2cc53c165dc": {
      "model_module": "@jupyter-widgets/controls",
      "model_module_version": "2.0.0",
      "model_name": "ProgressStyleModel",
      "state": {
       "description_width": ""
      }
     },
     "51e9066ee06b49369cd1063348d083ab": {
      "model_module": "@jupyter-widgets/controls",
      "model_module_version": "2.0.0",
      "model_name": "FloatProgressModel",
      "state": {
       "bar_style": "success",
       "layout": "IPY_MODEL_c9cee45244b647ce9e6186b78642a918",
       "max": 2,
       "style": "IPY_MODEL_ffa9663fb9b548d7b56873b6903e5562",
       "value": 2
      }
     },
     "51fdbbb41ae14719be54f15a7aa2b878": {
      "model_module": "@jupyter-widgets/controls",
      "model_module_version": "2.0.0",
      "model_name": "HTMLModel",
      "state": {
       "layout": "IPY_MODEL_3170df213c364d3b9becfcc8a1df0bed",
       "style": "IPY_MODEL_a1cda36c91bf4022a72e22d53a3981eb",
       "value": " 2/2 [00:06&lt;00:00,  3.30s/it]"
      }
     },
     "522616e336c44e4389a3b165b0d310c4": {
      "model_module": "@jupyter-widgets/base",
      "model_module_version": "2.0.0",
      "model_name": "LayoutModel",
      "state": {}
     },
     "523a6d15cd11486c964dcbc24be53f9f": {
      "model_module": "@jupyter-widgets/controls",
      "model_module_version": "2.0.0",
      "model_name": "ProgressStyleModel",
      "state": {
       "description_width": ""
      }
     },
     "523a8d47d08041ed93d93fc2d15381fb": {
      "model_module": "@jupyter-widgets/base",
      "model_module_version": "2.0.0",
      "model_name": "LayoutModel",
      "state": {}
     },
     "5253d3021e3b4e9b9887e1aefc1eddda": {
      "model_module": "@jupyter-widgets/controls",
      "model_module_version": "2.0.0",
      "model_name": "FloatProgressModel",
      "state": {
       "bar_style": "success",
       "layout": "IPY_MODEL_775bed2a7b0f47968395d18fdd02580f",
       "max": 2,
       "style": "IPY_MODEL_215054dc01b14cb5bf91e147ff0a7275",
       "value": 2
      }
     },
     "525a5816fd554268b20de9488e7f5582": {
      "model_module": "@jupyter-widgets/base",
      "model_module_version": "2.0.0",
      "model_name": "LayoutModel",
      "state": {}
     },
     "527bcfe500a0497f8a344b7d92108eb9": {
      "model_module": "@jupyter-widgets/base",
      "model_module_version": "2.0.0",
      "model_name": "LayoutModel",
      "state": {
       "width": "20px"
      }
     },
     "527d4a277a88470496c70899d0309e18": {
      "model_module": "@jupyter-widgets/base",
      "model_module_version": "2.0.0",
      "model_name": "LayoutModel",
      "state": {}
     },
     "527e9b2bc73d4ecb89884d94656c1ed9": {
      "model_module": "@jupyter-widgets/controls",
      "model_module_version": "2.0.0",
      "model_name": "ProgressStyleModel",
      "state": {
       "description_width": ""
      }
     },
     "528b3001edb745c09ca1966d7bacb658": {
      "model_module": "@jupyter-widgets/controls",
      "model_module_version": "2.0.0",
      "model_name": "HTMLStyleModel",
      "state": {
       "description_width": "",
       "font_size": null,
       "text_color": null
      }
     },
     "528e3b8e2a4c4b68922f530c68e35237": {
      "model_module": "@jupyter-widgets/controls",
      "model_module_version": "2.0.0",
      "model_name": "HTMLModel",
      "state": {
       "layout": "IPY_MODEL_c24bf063750e456382ce510c4dbea8d4",
       "style": "IPY_MODEL_5605b70614d24595aaeccb3720991de4",
       "value": " 8/8 [00:48&lt;00:00,  5.34s/it]"
      }
     },
     "52c3094ac3cf4785a76f28fb6eaad617": {
      "model_module": "@jupyter-widgets/controls",
      "model_module_version": "2.0.0",
      "model_name": "ProgressStyleModel",
      "state": {
       "description_width": ""
      }
     },
     "52c9b1a6eddd45f5b61a5c3724b7a755": {
      "model_module": "@jupyter-widgets/controls",
      "model_module_version": "2.0.0",
      "model_name": "FloatProgressModel",
      "state": {
       "bar_style": "success",
       "layout": "IPY_MODEL_87ead3bfd0384d1a8fb61d1f61e9f8e0",
       "max": 8,
       "style": "IPY_MODEL_0c382e9aeaad45d4ad6feeb9ccd817b9",
       "value": 8
      }
     },
     "52d43d1cb2e5479dae323774781b9373": {
      "model_module": "@jupyter-widgets/controls",
      "model_module_version": "2.0.0",
      "model_name": "HTMLStyleModel",
      "state": {
       "description_width": "",
       "font_size": null,
       "text_color": null
      }
     },
     "53193be3f2d84449bc6d5c1aee7daada": {
      "model_module": "@jupyter-widgets/controls",
      "model_module_version": "2.0.0",
      "model_name": "ProgressStyleModel",
      "state": {
       "description_width": ""
      }
     },
     "5327a69f6e674ac2af6205b562ebb3a9": {
      "model_module": "@jupyter-widgets/base",
      "model_module_version": "2.0.0",
      "model_name": "LayoutModel",
      "state": {}
     },
     "53350855ab7845629d89424044fb5aa6": {
      "model_module": "@jupyter-widgets/controls",
      "model_module_version": "2.0.0",
      "model_name": "HTMLStyleModel",
      "state": {
       "description_width": "",
       "font_size": null,
       "text_color": null
      }
     },
     "534d633284d1405b9daef8d942990c1d": {
      "model_module": "@jupyter-widgets/base",
      "model_module_version": "2.0.0",
      "model_name": "LayoutModel",
      "state": {}
     },
     "5350bd130f334b588904142b9c65d7be": {
      "model_module": "@jupyter-widgets/controls",
      "model_module_version": "2.0.0",
      "model_name": "HBoxModel",
      "state": {
       "children": [
        "IPY_MODEL_4d390aa4a71a4006bce4b7019e396304",
        "IPY_MODEL_87ad0f8ac2344c958a30cc773397a86d",
        "IPY_MODEL_69eb849d732d4cc687b4b53f3be636a7"
       ],
       "layout": "IPY_MODEL_4f2658f8a4c74c1da2167095326332e7"
      }
     },
     "5358685b7b6f4f13b5fdec225fc34b0e": {
      "model_module": "@jupyter-widgets/base",
      "model_module_version": "2.0.0",
      "model_name": "LayoutModel",
      "state": {}
     },
     "5386f71042d04a04b6726196bbe4a32e": {
      "model_module": "@jupyter-widgets/base",
      "model_module_version": "2.0.0",
      "model_name": "LayoutModel",
      "state": {}
     },
     "53a3b25f151d4bd38cccfad80352dfb6": {
      "model_module": "@jupyter-widgets/base",
      "model_module_version": "2.0.0",
      "model_name": "LayoutModel",
      "state": {}
     },
     "53a9750d931742cea27c3ef74d308770": {
      "model_module": "@jupyter-widgets/base",
      "model_module_version": "2.0.0",
      "model_name": "LayoutModel",
      "state": {}
     },
     "53b2aa52bb2b415d901ce34174cf95e3": {
      "model_module": "@jupyter-widgets/controls",
      "model_module_version": "2.0.0",
      "model_name": "HTMLModel",
      "state": {
       "layout": "IPY_MODEL_4c57b5c1397b463cb3b754a49204f41a",
       "style": "IPY_MODEL_e555675896494bf68d81eae763233581",
       "value": " 0/1 [00:00&lt;?, ?it/s]"
      }
     },
     "53d15e4e77ae4814a492af83cb82c47b": {
      "model_module": "@jupyter-widgets/base",
      "model_module_version": "2.0.0",
      "model_name": "LayoutModel",
      "state": {}
     },
     "5436bc87d07e4c2d8db51503f0d5eeda": {
      "model_module": "@jupyter-widgets/controls",
      "model_module_version": "2.0.0",
      "model_name": "HTMLStyleModel",
      "state": {
       "description_width": "",
       "font_size": null,
       "text_color": null
      }
     },
     "547da60647d74cf39ed1f9c40b918285": {
      "model_module": "@jupyter-widgets/base",
      "model_module_version": "2.0.0",
      "model_name": "LayoutModel",
      "state": {
       "visibility": "hidden"
      }
     },
     "54856b1244b34bd1b8dfc2f571a6a87f": {
      "model_module": "@jupyter-widgets/controls",
      "model_module_version": "2.0.0",
      "model_name": "ProgressStyleModel",
      "state": {
       "description_width": ""
      }
     },
     "54913987625c4352a1fd0310cffc1972": {
      "model_module": "@jupyter-widgets/base",
      "model_module_version": "2.0.0",
      "model_name": "LayoutModel",
      "state": {}
     },
     "54a28fc7e14f4fa5812fe05da0d85e81": {
      "model_module": "@jupyter-widgets/controls",
      "model_module_version": "2.0.0",
      "model_name": "FloatProgressModel",
      "state": {
       "bar_style": "success",
       "layout": "IPY_MODEL_395362894ae443fd98da8b8024eb5728",
       "max": 8,
       "style": "IPY_MODEL_d4cb411d7b6b475a9d2652ac5b2a1b6d",
       "value": 8
      }
     },
     "54a93e120f8a42d8b81b79debc3b17c9": {
      "model_module": "@jupyter-widgets/controls",
      "model_module_version": "2.0.0",
      "model_name": "ProgressStyleModel",
      "state": {
       "description_width": ""
      }
     },
     "54b0fd2e1d9144cd8b2900b1f86f2046": {
      "model_module": "@jupyter-widgets/base",
      "model_module_version": "2.0.0",
      "model_name": "LayoutModel",
      "state": {}
     },
     "54e941a232db4ef69266e57898c28388": {
      "model_module": "@jupyter-widgets/controls",
      "model_module_version": "2.0.0",
      "model_name": "HTMLModel",
      "state": {
       "layout": "IPY_MODEL_302058f3965e4d61a4a99b375f0e10fd",
       "style": "IPY_MODEL_0b7a9e8e112649c881f7e624fdfe7675",
       "value": "Scanning hook.frame__tpch__customer:  50%"
      }
     },
     "54f1cc4566c3455b9c523ea12d74ce0e": {
      "model_module": "@jupyter-widgets/controls",
      "model_module_version": "2.0.0",
      "model_name": "HTMLModel",
      "state": {
       "layout": "IPY_MODEL_523a8d47d08041ed93d93fc2d15381fb",
       "style": "IPY_MODEL_df524b85b03f455298d2a6e32e05d4e2",
       "value": " 4/4 [00:32&lt;00:00,  8.34s/it]"
      }
     },
     "550ee0cc5eee4271b3206389ae0d26ae": {
      "model_module": "@jupyter-widgets/base",
      "model_module_version": "2.0.0",
      "model_name": "LayoutModel",
      "state": {}
     },
     "5529307c181c480bbd385eb404b0b52e": {
      "model_module": "@jupyter-widgets/controls",
      "model_module_version": "2.0.0",
      "model_name": "FloatProgressModel",
      "state": {
       "layout": "IPY_MODEL_56bd33a2317e440aafe3ac0517bd8882",
       "max": 2,
       "style": "IPY_MODEL_dcae5c1c4feb4cb08651ee4219e40e40",
       "value": 2
      }
     },
     "55374ce178bd479db1b9ce8d87cf606b": {
      "model_module": "@jupyter-widgets/base",
      "model_module_version": "2.0.0",
      "model_name": "LayoutModel",
      "state": {}
     },
     "553b56afad9d47e086d888bd6c78650f": {
      "model_module": "@jupyter-widgets/base",
      "model_module_version": "2.0.0",
      "model_name": "LayoutModel",
      "state": {}
     },
     "5574bcf190374efcbf809214e4ba2527": {
      "model_module": "@jupyter-widgets/controls",
      "model_module_version": "2.0.0",
      "model_name": "HTMLStyleModel",
      "state": {
       "description_width": "",
       "font_size": null,
       "text_color": null
      }
     },
     "558513f80af24fe5be579ed60f8c759c": {
      "model_module": "@jupyter-widgets/controls",
      "model_module_version": "2.0.0",
      "model_name": "FloatProgressModel",
      "state": {
       "layout": "IPY_MODEL_b1eb7751bd98473aa70557dbe77e2c3d",
       "max": 2,
       "style": "IPY_MODEL_80d58b53d0774ea9994fd93832a6631d",
       "value": 2
      }
     },
     "558c0f7a41c24a30b5522a050c4da787": {
      "model_module": "@jupyter-widgets/base",
      "model_module_version": "2.0.0",
      "model_name": "LayoutModel",
      "state": {}
     },
     "55b25e9b5a8042ad930d154efeadc038": {
      "model_module": "@jupyter-widgets/controls",
      "model_module_version": "2.0.0",
      "model_name": "ProgressStyleModel",
      "state": {
       "description_width": ""
      }
     },
     "5605b70614d24595aaeccb3720991de4": {
      "model_module": "@jupyter-widgets/controls",
      "model_module_version": "2.0.0",
      "model_name": "HTMLStyleModel",
      "state": {
       "description_width": "",
       "font_size": null,
       "text_color": null
      }
     },
     "56090583ba1e49d6922f9d81594f12ad": {
      "model_module": "@jupyter-widgets/controls",
      "model_module_version": "2.0.0",
      "model_name": "ProgressStyleModel",
      "state": {
       "description_width": ""
      }
     },
     "560bddca60a941eca0383eff811d6a8b": {
      "model_module": "@jupyter-widgets/controls",
      "model_module_version": "2.0.0",
      "model_name": "ProgressStyleModel",
      "state": {
       "description_width": ""
      }
     },
     "5663e752cb6941cea7571f6845fcca2e": {
      "model_module": "@jupyter-widgets/controls",
      "model_module_version": "2.0.0",
      "model_name": "HBoxModel",
      "state": {
       "children": [
        "IPY_MODEL_9b006e0a4e0442ecae86d065a333d46d",
        "IPY_MODEL_c4206823551f461e9b215b0c44be7b3a",
        "IPY_MODEL_676f157939c84dc58d6bc9fc14e3efc0"
       ],
       "layout": "IPY_MODEL_2dee40c817b14e748aaa74267e97d71a"
      }
     },
     "566ebc0dacdd48d5961eb5de5fd6c13c": {
      "model_module": "@jupyter-widgets/controls",
      "model_module_version": "2.0.0",
      "model_name": "ProgressStyleModel",
      "state": {
       "description_width": ""
      }
     },
     "567a5405730f415e974866deab8e167a": {
      "model_module": "@jupyter-widgets/controls",
      "model_module_version": "2.0.0",
      "model_name": "HTMLStyleModel",
      "state": {
       "description_width": "",
       "font_size": null,
       "text_color": null
      }
     },
     "5692f21ad74a4be09c7e18f410194a62": {
      "model_module": "@jupyter-widgets/controls",
      "model_module_version": "2.0.0",
      "model_name": "HBoxModel",
      "state": {
       "children": [
        "IPY_MODEL_c227ca0fd7674bbd980cf9c76d49ab36",
        "IPY_MODEL_06f27da265794b37a1f95d07e9f087ba",
        "IPY_MODEL_8cb1a7e60df94dc192ef15b948e149eb"
       ],
       "layout": "IPY_MODEL_79c61d5bba414d14b40148163566c1cf"
      }
     },
     "569a69baf49246fc8bc86be76e37b9b4": {
      "model_module": "@jupyter-widgets/controls",
      "model_module_version": "2.0.0",
      "model_name": "HTMLModel",
      "state": {
       "layout": "IPY_MODEL_f919d8697ba6409e8d13fc3396ca96ee",
       "style": "IPY_MODEL_9c57c2662de644e680996b6afd58df37",
       "value": "Scanning for nodes...: 100%"
      }
     },
     "56a45f5a6c0545aeaa20a806728bc41d": {
      "model_module": "@jupyter-widgets/controls",
      "model_module_version": "2.0.0",
      "model_name": "ProgressStyleModel",
      "state": {
       "description_width": ""
      }
     },
     "56b2c71c57b947ff9099bcee88561e9c": {
      "model_module": "@jupyter-widgets/base",
      "model_module_version": "2.0.0",
      "model_name": "LayoutModel",
      "state": {
       "visibility": "hidden"
      }
     },
     "56b75c9125164e369c40461d64e243ed": {
      "model_module": "@jupyter-widgets/controls",
      "model_module_version": "2.0.0",
      "model_name": "HTMLStyleModel",
      "state": {
       "description_width": "",
       "font_size": null,
       "text_color": null
      }
     },
     "56bd33a2317e440aafe3ac0517bd8882": {
      "model_module": "@jupyter-widgets/base",
      "model_module_version": "2.0.0",
      "model_name": "LayoutModel",
      "state": {}
     },
     "56c61b726b664179a08416a0c0473b02": {
      "model_module": "@jupyter-widgets/controls",
      "model_module_version": "2.0.0",
      "model_name": "FloatProgressModel",
      "state": {
       "bar_style": "danger",
       "layout": "IPY_MODEL_849b4a5b118943a48be3f6b1bde9327d",
       "max": 8,
       "style": "IPY_MODEL_acef125360a14723b3602a536c19da5c",
       "value": 4
      }
     },
     "56ca2900c3c74bb8adab375612f70612": {
      "model_module": "@jupyter-widgets/base",
      "model_module_version": "2.0.0",
      "model_name": "LayoutModel",
      "state": {}
     },
     "56d55b5b407744f7a76336ecdda0c5b9": {
      "model_module": "@jupyter-widgets/controls",
      "model_module_version": "2.0.0",
      "model_name": "HTMLModel",
      "state": {
       "layout": "IPY_MODEL_98307fe7e8a349ee9c87cdb1d713cf1f",
       "style": "IPY_MODEL_d9eab363e6cb4be88d3bc497accd5749",
       "value": " 6/6 [00:00&lt;00:00, 1283.64it/s]"
      }
     },
     "573f9998cd6e4dee8b8f043883e88938": {
      "model_module": "@jupyter-widgets/controls",
      "model_module_version": "2.0.0",
      "model_name": "HTMLStyleModel",
      "state": {
       "description_width": "",
       "font_size": null,
       "text_color": null
      }
     },
     "57488a7aa999454e889b97c33099651e": {
      "model_module": "@jupyter-widgets/base",
      "model_module_version": "2.0.0",
      "model_name": "LayoutModel",
      "state": {}
     },
     "574e6e7507524ecd9f784fc153ea1848": {
      "model_module": "@jupyter-widgets/controls",
      "model_module_version": "2.0.0",
      "model_name": "HTMLModel",
      "state": {
       "layout": "IPY_MODEL_4c969a59dacc4cd9839fe6f1bf064d62",
       "style": "IPY_MODEL_11ed4ddd87a04453bea23fee84ef1ec6",
       "value": "Scanning for nodes...: 100%"
      }
     },
     "5756682684904ad89f69ede538c571f2": {
      "model_module": "@jupyter-widgets/controls",
      "model_module_version": "2.0.0",
      "model_name": "FloatProgressModel",
      "state": {
       "bar_style": "success",
       "layout": "IPY_MODEL_a61bd97e1dab44f2b7a7e736c0b7fefd",
       "max": 1,
       "style": "IPY_MODEL_d042f15d486241109d9fa030007c867c",
       "value": 1
      }
     },
     "57673979c42e499fa686911675c95116": {
      "model_module": "@jupyter-widgets/base",
      "model_module_version": "2.0.0",
      "model_name": "LayoutModel",
      "state": {}
     },
     "5771ee4466254a819dc758d2d98e9b37": {
      "model_module": "@jupyter-widgets/base",
      "model_module_version": "2.0.0",
      "model_name": "LayoutModel",
      "state": {}
     },
     "578823a7e6154995a3bd4a83f8600b81": {
      "model_module": "@jupyter-widgets/controls",
      "model_module_version": "2.0.0",
      "model_name": "ProgressStyleModel",
      "state": {
       "description_width": ""
      }
     },
     "579160397e064d269262927460adb8f6": {
      "model_module": "@jupyter-widgets/controls",
      "model_module_version": "2.0.0",
      "model_name": "HTMLStyleModel",
      "state": {
       "description_width": "",
       "font_size": null,
       "text_color": null
      }
     },
     "57bfacbe3f8a4db8b277447b91870937": {
      "model_module": "@jupyter-widgets/controls",
      "model_module_version": "2.0.0",
      "model_name": "HBoxModel",
      "state": {
       "children": [
        "IPY_MODEL_edc0dc9c0a3f4087bbe02533788d1cbb",
        "IPY_MODEL_35b62678cd97456093eee0ce5968081f",
        "IPY_MODEL_aa4416239b2d4ef3b7b9148e7821d398"
       ],
       "layout": "IPY_MODEL_58ab857c79874a868eaba6bc6a0a3d2c"
      }
     },
     "57e44159a0a541fca5d805cb86228f31": {
      "model_module": "@jupyter-widgets/controls",
      "model_module_version": "2.0.0",
      "model_name": "HBoxModel",
      "state": {
       "children": [
        "IPY_MODEL_6029040896704de3b2a95ba3df2d864f",
        "IPY_MODEL_7253e6b6fb084473b2c3b356a6f1ae3e",
        "IPY_MODEL_c3f588d74c3f46409e3b8eca36080361"
       ],
       "layout": "IPY_MODEL_117f2d5e065948a4a10dd9d585f8709a"
      }
     },
     "57e5743a259e4db1ba90efda54080662": {
      "model_module": "@jupyter-widgets/base",
      "model_module_version": "2.0.0",
      "model_name": "LayoutModel",
      "state": {}
     },
     "57ee65967b6c4444ab5fa98ee480d67e": {
      "model_module": "@jupyter-widgets/controls",
      "model_module_version": "2.0.0",
      "model_name": "FloatProgressModel",
      "state": {
       "bar_style": "success",
       "layout": "IPY_MODEL_b7fa5519e8a64ee7bbf6af6687267ead",
       "max": 8,
       "style": "IPY_MODEL_9181f935d47743ed8c6c7f1cc5d0fe67",
       "value": 8
      }
     },
     "580c02a9013948bcacf4722d7805af51": {
      "model_module": "@jupyter-widgets/base",
      "model_module_version": "2.0.0",
      "model_name": "LayoutModel",
      "state": {}
     },
     "58119678325340b6a4003d710db854ac": {
      "model_module": "@jupyter-widgets/controls",
      "model_module_version": "2.0.0",
      "model_name": "HTMLStyleModel",
      "state": {
       "description_width": "",
       "font_size": null,
       "text_color": null
      }
     },
     "583d90e558a04d2b823117fa8de8c363": {
      "model_module": "@jupyter-widgets/controls",
      "model_module_version": "2.0.0",
      "model_name": "FloatProgressModel",
      "state": {
       "layout": "IPY_MODEL_fed8df60a0c342128175ba4974253d82",
       "max": 2,
       "style": "IPY_MODEL_1e35f5fea2a8424d91513be90de45480",
       "value": 2
      }
     },
     "58ab857c79874a868eaba6bc6a0a3d2c": {
      "model_module": "@jupyter-widgets/base",
      "model_module_version": "2.0.0",
      "model_name": "LayoutModel",
      "state": {}
     },
     "58cdb77c0b4344fc929b4d256fe66be8": {
      "model_module": "@jupyter-widgets/base",
      "model_module_version": "2.0.0",
      "model_name": "LayoutModel",
      "state": {
       "visibility": "hidden"
      }
     },
     "58d1e2f891984e99b8ee8a6a79bbbc4e": {
      "model_module": "@jupyter-widgets/controls",
      "model_module_version": "2.0.0",
      "model_name": "HTMLModel",
      "state": {
       "layout": "IPY_MODEL_30409f19858244e992f0c9ed47c5c527",
       "style": "IPY_MODEL_f0f52215006140d595a678dedb7eadc2",
       "value": " 2/2 [00:06&lt;00:00,  3.27s/it]"
      }
     },
     "5921e87dca584bc2b2383367a818f60a": {
      "model_module": "@jupyter-widgets/base",
      "model_module_version": "2.0.0",
      "model_name": "LayoutModel",
      "state": {}
     },
     "592fb10824fe4a5b83a90fb41044c64a": {
      "model_module": "@jupyter-widgets/base",
      "model_module_version": "2.0.0",
      "model_name": "LayoutModel",
      "state": {}
     },
     "5940e909d02846fd80ac83fefe00199f": {
      "model_module": "@jupyter-widgets/base",
      "model_module_version": "2.0.0",
      "model_name": "LayoutModel",
      "state": {}
     },
     "5946ab1dc5c94471951e8b82f25430d2": {
      "model_module": "@jupyter-widgets/controls",
      "model_module_version": "2.0.0",
      "model_name": "ProgressStyleModel",
      "state": {
       "description_width": ""
      }
     },
     "594a0148e4cd4e34af53a85cb82f9ef1": {
      "model_module": "@jupyter-widgets/controls",
      "model_module_version": "2.0.0",
      "model_name": "HTMLStyleModel",
      "state": {
       "description_width": "",
       "font_size": null,
       "text_color": null
      }
     },
     "59c7d86f19274023b4e0aa201f2d360a": {
      "model_module": "@jupyter-widgets/base",
      "model_module_version": "2.0.0",
      "model_name": "LayoutModel",
      "state": {}
     },
     "59e0fe11cc0b413fae403ef813c921dd": {
      "model_module": "@jupyter-widgets/controls",
      "model_module_version": "2.0.0",
      "model_name": "FloatProgressModel",
      "state": {
       "bar_style": "success",
       "layout": "IPY_MODEL_d89ba02b2b7248909598faee6e648500",
       "max": 8,
       "style": "IPY_MODEL_49042964391544d0aa5159ca27d82dfc",
       "value": 8
      }
     },
     "5a36cc5e6ca546fe850d8f7b09efea02": {
      "model_module": "@jupyter-widgets/controls",
      "model_module_version": "2.0.0",
      "model_name": "HTMLStyleModel",
      "state": {
       "description_width": "",
       "font_size": null,
       "text_color": null
      }
     },
     "5a4767a80ca044719570fa7e6cffc6ba": {
      "model_module": "@jupyter-widgets/controls",
      "model_module_version": "2.0.0",
      "model_name": "HBoxModel",
      "state": {
       "children": [
        "IPY_MODEL_081e7cdd5a4d4ebf963ee5606f8b662a",
        "IPY_MODEL_b5014b06811c425ea5c419f360692a81",
        "IPY_MODEL_d457f6312fec4a21bc4b844782013faf"
       ],
       "layout": "IPY_MODEL_8e5b92aef24f4d048f50afcd566a092d"
      }
     },
     "5a477e62e94f41b1ac34f989f9de0292": {
      "model_module": "@jupyter-widgets/controls",
      "model_module_version": "2.0.0",
      "model_name": "HTMLModel",
      "state": {
       "layout": "IPY_MODEL_95e816e10804416c85a39543b95b49e7",
       "style": "IPY_MODEL_e8a976d6cabd43c4a55f2a2b633c18ba",
       "value": " 0/1 [00:00&lt;?, ?it/s]"
      }
     },
     "5a47bb02ea2e45c893499bb6887680e3": {
      "model_module": "@jupyter-widgets/controls",
      "model_module_version": "2.0.0",
      "model_name": "ProgressStyleModel",
      "state": {
       "description_width": ""
      }
     },
     "5a589ad6728249078de748b387188e5d": {
      "model_module": "@jupyter-widgets/controls",
      "model_module_version": "2.0.0",
      "model_name": "HTMLModel",
      "state": {
       "layout": "IPY_MODEL_423723e6a7f949bbb61e1871ee8e7a4b",
       "style": "IPY_MODEL_1afeb400609d4081b42b2e0d100a082b",
       "value": " 4/4 [00:35&lt;00:00,  9.18s/it]"
      }
     },
     "5a6afc0dc12d4d8890663c860b0d52c1": {
      "model_module": "@jupyter-widgets/base",
      "model_module_version": "2.0.0",
      "model_name": "LayoutModel",
      "state": {}
     },
     "5a8319cfbf3240a0b0f22087b4652da5": {
      "model_module": "@jupyter-widgets/controls",
      "model_module_version": "2.0.0",
      "model_name": "HBoxModel",
      "state": {
       "children": [
        "IPY_MODEL_e1606a72abc743f2b37d34cc955ad71d",
        "IPY_MODEL_1ac7ee2f07bc44358ed94239b7cb5458",
        "IPY_MODEL_194f6d18591c46a6814137a765919a53"
       ],
       "layout": "IPY_MODEL_6480b3e1804b4d85a5e17e1171033113"
      }
     },
     "5ad689afba47445eb16398156ae113a9": {
      "model_module": "@jupyter-widgets/controls",
      "model_module_version": "2.0.0",
      "model_name": "ProgressStyleModel",
      "state": {
       "description_width": ""
      }
     },
     "5af98460a7524a5fb14ad45672d768fd": {
      "model_module": "@jupyter-widgets/base",
      "model_module_version": "2.0.0",
      "model_name": "LayoutModel",
      "state": {}
     },
     "5b033141e09f4f5dba74ed17b2ba1d05": {
      "model_module": "@jupyter-widgets/base",
      "model_module_version": "2.0.0",
      "model_name": "LayoutModel",
      "state": {}
     },
     "5b2074fe975146e2ad194a8af35e8a00": {
      "model_module": "@jupyter-widgets/controls",
      "model_module_version": "2.0.0",
      "model_name": "HTMLModel",
      "state": {
       "layout": "IPY_MODEL_d02fc06ac9f446c086832f430147a901",
       "style": "IPY_MODEL_f5599ee92abd44b990a427bc198df47d",
       "value": "hook.frame__tpch__supplier: 100%"
      }
     },
     "5b799d291e364627bf329b4c638a4c78": {
      "model_module": "@jupyter-widgets/controls",
      "model_module_version": "2.0.0",
      "model_name": "HTMLModel",
      "state": {
       "layout": "IPY_MODEL_472152fb168943db82b287c5e8763146",
       "style": "IPY_MODEL_604e86b9acf64489801201a20b9bca94",
       "value": "Scanning for nodes...: 100%"
      }
     },
     "5babf1c5e53e47629486ec17ff1ed053": {
      "model_module": "@jupyter-widgets/controls",
      "model_module_version": "2.0.0",
      "model_name": "HTMLStyleModel",
      "state": {
       "description_width": "",
       "font_size": null,
       "text_color": null
      }
     },
     "5bcd014ea5ab43f29bd44fced4b77656": {
      "model_module": "@jupyter-widgets/base",
      "model_module_version": "2.0.0",
      "model_name": "LayoutModel",
      "state": {}
     },
     "5bd0cf3d09454d15be636df8717f68e6": {
      "model_module": "@jupyter-widgets/controls",
      "model_module_version": "2.0.0",
      "model_name": "HTMLModel",
      "state": {
       "layout": "IPY_MODEL_19119aec3fcc42deb18d6d69d1d82f5d",
       "style": "IPY_MODEL_e049891761a74150845df1bf098bbced",
       "value": " 1/1 [00:01&lt;00:00,  1.05s/it]"
      }
     },
     "5bd1ec3026f44a7a99d30293f94d8498": {
      "model_module": "@jupyter-widgets/controls",
      "model_module_version": "2.0.0",
      "model_name": "HTMLStyleModel",
      "state": {
       "description_width": "",
       "font_size": null,
       "text_color": null
      }
     },
     "5bd2f342c8d24b358eb5fa0bf478b9bb": {
      "model_module": "@jupyter-widgets/base",
      "model_module_version": "2.0.0",
      "model_name": "LayoutModel",
      "state": {}
     },
     "5be357c076a24174abdf71f18aa28e55": {
      "model_module": "@jupyter-widgets/base",
      "model_module_version": "2.0.0",
      "model_name": "LayoutModel",
      "state": {}
     },
     "5bf814ec72de417c9bdfc651ecd41c79": {
      "model_module": "@jupyter-widgets/controls",
      "model_module_version": "2.0.0",
      "model_name": "HTMLStyleModel",
      "state": {
       "description_width": "",
       "font_size": null,
       "text_color": null
      }
     },
     "5c0ac1592e624b9b9f49f933f37d1f27": {
      "model_module": "@jupyter-widgets/base",
      "model_module_version": "2.0.0",
      "model_name": "LayoutModel",
      "state": {}
     },
     "5c1ed073b66b480490f93a18554222db": {
      "model_module": "@jupyter-widgets/controls",
      "model_module_version": "2.0.0",
      "model_name": "FloatProgressModel",
      "state": {
       "layout": "IPY_MODEL_6a9ec565a16d4d8d9fb6c499506ba166",
       "max": 2,
       "style": "IPY_MODEL_8408325f3636497fb3c42b8a928e7f14",
       "value": 2
      }
     },
     "5c3ff34711ef4ec481a4811311baf76c": {
      "model_module": "@jupyter-widgets/base",
      "model_module_version": "2.0.0",
      "model_name": "LayoutModel",
      "state": {
       "visibility": "hidden"
      }
     },
     "5c5b0a74c4cd43d39fad8e2a6d8e5d22": {
      "model_module": "@jupyter-widgets/controls",
      "model_module_version": "2.0.0",
      "model_name": "HTMLModel",
      "state": {
       "layout": "IPY_MODEL_d0e4bbfb3633438c87014c5e7caca8b0",
       "style": "IPY_MODEL_5edc79a4e03a46cd9f6035eec32b1940",
       "value": " 0/6 [00:00&lt;?, ?it/s]"
      }
     },
     "5c653e9bd1dd4bc39826746f5676ea3a": {
      "model_module": "@jupyter-widgets/base",
      "model_module_version": "2.0.0",
      "model_name": "LayoutModel",
      "state": {}
     },
     "5c68333fc29d4ce2bad2385531349e4b": {
      "model_module": "@jupyter-widgets/base",
      "model_module_version": "2.0.0",
      "model_name": "LayoutModel",
      "state": {
       "visibility": "hidden"
      }
     },
     "5c892979865e4ebcbde0cb0c8e75b2c6": {
      "model_module": "@jupyter-widgets/controls",
      "model_module_version": "2.0.0",
      "model_name": "HTMLStyleModel",
      "state": {
       "description_width": "",
       "font_size": null,
       "text_color": null
      }
     },
     "5c9aa03c9b1d40d2b31d24ef2fe214ed": {
      "model_module": "@jupyter-widgets/base",
      "model_module_version": "2.0.0",
      "model_name": "LayoutModel",
      "state": {}
     },
     "5ce3ca32d91d4f7f908c1230afa5f92a": {
      "model_module": "@jupyter-widgets/base",
      "model_module_version": "2.0.0",
      "model_name": "LayoutModel",
      "state": {}
     },
     "5d3061f7cf7f4814abc2fc4b2f75d9e5": {
      "model_module": "@jupyter-widgets/base",
      "model_module_version": "2.0.0",
      "model_name": "LayoutModel",
      "state": {}
     },
     "5d3859c5a4434fa381276db9eaf1ec14": {
      "model_module": "@jupyter-widgets/controls",
      "model_module_version": "2.0.0",
      "model_name": "HTMLModel",
      "state": {
       "layout": "IPY_MODEL_750d7f2dc3a44595a0c1ea3bc4b21d5d",
       "style": "IPY_MODEL_d4b3fb5c450742cd92f19c8fde627374",
       "value": "hook.frame__tpch__supplier: 100%"
      }
     },
     "5d49095f1b974d728633467e470328d6": {
      "model_module": "@jupyter-widgets/base",
      "model_module_version": "2.0.0",
      "model_name": "LayoutModel",
      "state": {}
     },
     "5d4dbe54dd754e2db0519996cc7fdfc9": {
      "model_module": "@jupyter-widgets/controls",
      "model_module_version": "2.0.0",
      "model_name": "ProgressStyleModel",
      "state": {
       "description_width": ""
      }
     },
     "5d68fb753ef8464dbc8a1a536a238729": {
      "model_module": "@jupyter-widgets/base",
      "model_module_version": "2.0.0",
      "model_name": "LayoutModel",
      "state": {
       "display": "inline-flex",
       "flex_flow": "row wrap",
       "width": "100%"
      }
     },
     "5d7322ede87847c1b2cde129cef0d794": {
      "model_module": "@jupyter-widgets/base",
      "model_module_version": "2.0.0",
      "model_name": "LayoutModel",
      "state": {}
     },
     "5d77fa2ec39149429a508e9f1181f925": {
      "model_module": "@jupyter-widgets/controls",
      "model_module_version": "2.0.0",
      "model_name": "HTMLStyleModel",
      "state": {
       "description_width": "",
       "font_size": null,
       "text_color": null
      }
     },
     "5d886a31392c4a818f3e194c73c75bdc": {
      "model_module": "@jupyter-widgets/controls",
      "model_module_version": "2.0.0",
      "model_name": "HTMLModel",
      "state": {
       "layout": "IPY_MODEL_0a4b06be27a545fba50ea03a513537b6",
       "style": "IPY_MODEL_2a636eba07d243718e11fc657171a3d9",
       "value": "Scanning hook.frame__tpch__nation:  50%"
      }
     },
     "5d8f37d76457449db79a95a27a78c4f5": {
      "model_module": "@jupyter-widgets/base",
      "model_module_version": "2.0.0",
      "model_name": "LayoutModel",
      "state": {}
     },
     "5da61859fe9a4d96b85e282d3ff693ca": {
      "model_module": "@jupyter-widgets/base",
      "model_module_version": "2.0.0",
      "model_name": "LayoutModel",
      "state": {}
     },
     "5dfbce96a1d54e8cb3d142985c7ba065": {
      "model_module": "@jupyter-widgets/controls",
      "model_module_version": "2.0.0",
      "model_name": "HTMLStyleModel",
      "state": {
       "description_width": "",
       "font_size": null,
       "text_color": null
      }
     },
     "5e060c1b3984457db405ffb18cbc8121": {
      "model_module": "@jupyter-widgets/base",
      "model_module_version": "2.0.0",
      "model_name": "LayoutModel",
      "state": {}
     },
     "5e2d52f349ac4e88aa40dfb0d4b5d545": {
      "model_module": "@jupyter-widgets/base",
      "model_module_version": "2.0.0",
      "model_name": "LayoutModel",
      "state": {}
     },
     "5e36a91c21ad43b6a6e5cf607f249404": {
      "model_module": "@jupyter-widgets/controls",
      "model_module_version": "2.0.0",
      "model_name": "HTMLModel",
      "state": {
       "layout": "IPY_MODEL_a8e286ccaf4342f5a1bddfdd083cb700",
       "style": "IPY_MODEL_4415434b7baf4c658fb1b1da759da5ca",
       "value": "hook.frame__tpch__orders:  50%"
      }
     },
     "5e4acd5ef25041969e125f835cd0c324": {
      "model_module": "@jupyter-widgets/base",
      "model_module_version": "2.0.0",
      "model_name": "LayoutModel",
      "state": {}
     },
     "5e61972b7d8d45459a77efe1fb2f344e": {
      "model_module": "@jupyter-widgets/controls",
      "model_module_version": "2.0.0",
      "model_name": "HTMLStyleModel",
      "state": {
       "description_width": "",
       "font_size": null,
       "text_color": null
      }
     },
     "5e74eb24477c4fb7a034eb8c1496d623": {
      "model_module": "@jupyter-widgets/base",
      "model_module_version": "2.0.0",
      "model_name": "LayoutModel",
      "state": {}
     },
     "5e814b9b506d4f07a751a7f84d2054b0": {
      "model_module": "@jupyter-widgets/base",
      "model_module_version": "2.0.0",
      "model_name": "LayoutModel",
      "state": {}
     },
     "5e8781fde91e475fa18f5658c2bafeee": {
      "model_module": "@jupyter-widgets/controls",
      "model_module_version": "2.0.0",
      "model_name": "HTMLModel",
      "state": {
       "layout": "IPY_MODEL_f7e548c0be5c4004a09ae645a2f41293",
       "style": "IPY_MODEL_6a86b0773162409d802e3639f1715602",
       "value": " 2/2 [00:06&lt;00:00,  3.50s/it]"
      }
     },
     "5eda7b16b2324f2fb23df7e6855d046b": {
      "model_module": "@jupyter-widgets/controls",
      "model_module_version": "2.0.0",
      "model_name": "HTMLModel",
      "state": {
       "layout": "IPY_MODEL_23e3f492c35b4d628d125f18d1647d8f",
       "style": "IPY_MODEL_001af4b437b3442282666e66d51df282",
       "value": "Scanning for nodes...: 100%"
      }
     },
     "5edc79a4e03a46cd9f6035eec32b1940": {
      "model_module": "@jupyter-widgets/controls",
      "model_module_version": "2.0.0",
      "model_name": "HTMLStyleModel",
      "state": {
       "description_width": "",
       "font_size": null,
       "text_color": null
      }
     },
     "5ee5ae941cec4cadaf44907ed3d45d29": {
      "model_module": "@jupyter-widgets/controls",
      "model_module_version": "2.0.0",
      "model_name": "HTMLModel",
      "state": {
       "layout": "IPY_MODEL_e5263def950d432186513f8d92864bf4",
       "style": "IPY_MODEL_376096a5c2f3444e911aa86e80310cf0",
       "value": "Scanning for nodes...: 100%"
      }
     },
     "5ee759f45e9e4a418a76474b194c40af": {
      "model_module": "@jupyter-widgets/controls",
      "model_module_version": "2.0.0",
      "model_name": "HTMLModel",
      "state": {
       "layout": "IPY_MODEL_8d97ea1bd11b47a8a64ade82b9747aa8",
       "style": "IPY_MODEL_f5f7003d3bff4412b94097e8433cc463",
       "value": "Scanning for edges...: 100%"
      }
     },
     "5f19521f3a154554a2201651f4175d15": {
      "model_module": "@jupyter-widgets/base",
      "model_module_version": "2.0.0",
      "model_name": "LayoutModel",
      "state": {}
     },
     "5f19f1f2ab384ce58ed396aed3e0985d": {
      "model_module": "@jupyter-widgets/controls",
      "model_module_version": "2.0.0",
      "model_name": "ProgressStyleModel",
      "state": {
       "description_width": ""
      }
     },
     "5f227e5925d8410aaee25b6f065e67bc": {
      "model_module": "@jupyter-widgets/controls",
      "model_module_version": "2.0.0",
      "model_name": "HTMLStyleModel",
      "state": {
       "description_width": "",
       "font_size": null,
       "text_color": null
      }
     },
     "5f75298879414d66ae61bcf23590afef": {
      "model_module": "@jupyter-widgets/controls",
      "model_module_version": "2.0.0",
      "model_name": "HTMLModel",
      "state": {
       "layout": "IPY_MODEL_ef719624649b4574bc4c8145df329577",
       "style": "IPY_MODEL_77751a579d1541b19a9ef34b08cf5bef",
       "value": "Scanning for edges...: 100%"
      }
     },
     "5f81c485b9af4f9b898e2a9f12fbed91": {
      "model_module": "@jupyter-widgets/controls",
      "model_module_version": "2.0.0",
      "model_name": "HTMLModel",
      "state": {
       "layout": "IPY_MODEL_8f671bee624b4c2f8736fdd57b090dd1",
       "style": "IPY_MODEL_b90220270c244bef9a0e77eb2ec1be6f",
       "value": " 1/1 [00:00&lt;00:00,  1.10it/s]"
      }
     },
     "5f8657e5233b4e919b7f0b09f7bd0179": {
      "model_module": "@jupyter-widgets/controls",
      "model_module_version": "2.0.0",
      "model_name": "HTMLStyleModel",
      "state": {
       "description_width": "",
       "font_size": null,
       "text_color": null
      }
     },
     "5f8726ed29ff441fa4a43d76d95d9de6": {
      "model_module": "@jupyter-widgets/controls",
      "model_module_version": "2.0.0",
      "model_name": "HBoxModel",
      "state": {
       "children": [
        "IPY_MODEL_c39d50f7e9384f95a53d331bf8ee2595",
        "IPY_MODEL_d96aff6693a34ab98e463d4563858710",
        "IPY_MODEL_2a9582e6b9cd428ebe9a63dc804edfec"
       ],
       "layout": "IPY_MODEL_8b908aefe00c426088e80f9ce5d61b4a"
      }
     },
     "5f98daafb3cc4395a8da74732bf56985": {
      "model_module": "@jupyter-widgets/controls",
      "model_module_version": "2.0.0",
      "model_name": "ProgressStyleModel",
      "state": {
       "description_width": ""
      }
     },
     "5fbafe411da343ffb65312d97c1635ca": {
      "model_module": "@jupyter-widgets/base",
      "model_module_version": "2.0.0",
      "model_name": "LayoutModel",
      "state": {
       "flex": "2"
      }
     },
     "5fc067f3c8884064acaad37d6f60d72d": {
      "model_module": "@jupyter-widgets/controls",
      "model_module_version": "2.0.0",
      "model_name": "HTMLStyleModel",
      "state": {
       "description_width": "",
       "font_size": null,
       "text_color": null
      }
     },
     "5fd1c694a97e43c2a15ada9080b60f6f": {
      "model_module": "@jupyter-widgets/controls",
      "model_module_version": "2.0.0",
      "model_name": "HTMLModel",
      "state": {
       "layout": "IPY_MODEL_c9a158e314084f4c911aab950a1311ec",
       "style": "IPY_MODEL_4c8765cd0445420b92a24b04beb879ce",
       "value": "Scanning hook.frame__tpch__supplier:  50%"
      }
     },
     "5fdab11ae6e94576a69cec3d14d26a14": {
      "model_module": "@jupyter-widgets/controls",
      "model_module_version": "2.0.0",
      "model_name": "HTMLModel",
      "state": {
       "layout": "IPY_MODEL_bf1fce3d0f26479490dd56bd1b683dbe",
       "style": "IPY_MODEL_6d392ddc52a7429cadf2a447a4642bae",
       "value": "Scanning frames:  12%"
      }
     },
     "600cb958523d45258dfc8d7e297d7e3e": {
      "model_module": "@jupyter-widgets/controls",
      "model_module_version": "2.0.0",
      "model_name": "HTMLModel",
      "state": {
       "layout": "IPY_MODEL_7ab0a0a5b1614714a1e3c5c79a0166bc",
       "style": "IPY_MODEL_727e5e2043ce4e25989e291ce1723371",
       "value": " 1/1 [00:00&lt;00:00, 202.18it/s]"
      }
     },
     "60174c11b3cf4810802ef24ee5c19bc3": {
      "model_module": "@jupyter-widgets/controls",
      "model_module_version": "2.0.0",
      "model_name": "HTMLStyleModel",
      "state": {
       "description_width": "",
       "font_size": null,
       "text_color": null
      }
     },
     "6029040896704de3b2a95ba3df2d864f": {
      "model_module": "@jupyter-widgets/controls",
      "model_module_version": "2.0.0",
      "model_name": "HTMLModel",
      "state": {
       "layout": "IPY_MODEL_1ee8f43e438747f490593bd037dd946c",
       "style": "IPY_MODEL_bc47768ebfd74cb1b8b19756eb93c344",
       "value": "Scanning for edges...:   0%"
      }
     },
     "602ffed68bb548b492b1dc545ec68096": {
      "model_module": "@jupyter-widgets/controls",
      "model_module_version": "2.0.0",
      "model_name": "HTMLModel",
      "state": {
       "layout": "IPY_MODEL_054f7a67e0bc47c8b5bae44a42fabc17",
       "style": "IPY_MODEL_23423e45ed0f41f192c6b71ba66c6318",
       "value": "Scanning for nodes...: 100%"
      }
     },
     "60395cfeb90f4c74b7366b49304291f0": {
      "model_module": "@jupyter-widgets/controls",
      "model_module_version": "2.0.0",
      "model_name": "HTMLModel",
      "state": {
       "layout": "IPY_MODEL_92f70f59429d4f189b5342a0e120d30a",
       "style": "IPY_MODEL_4722c95e8bb04b7f9f598ab98978cde4",
       "value": " 1/1 [00:00&lt;00:00, 190.19it/s]"
      }
     },
     "604e86b9acf64489801201a20b9bca94": {
      "model_module": "@jupyter-widgets/controls",
      "model_module_version": "2.0.0",
      "model_name": "HTMLStyleModel",
      "state": {
       "description_width": "",
       "font_size": null,
       "text_color": null
      }
     },
     "605ab31cdec94dc4b725a10463dd1f2b": {
      "model_module": "@jupyter-widgets/controls",
      "model_module_version": "2.0.0",
      "model_name": "ProgressStyleModel",
      "state": {
       "description_width": ""
      }
     },
     "6073bd09beae405797a070e396e5cbf6": {
      "model_module": "@jupyter-widgets/controls",
      "model_module_version": "2.0.0",
      "model_name": "HBoxModel",
      "state": {
       "children": [
        "IPY_MODEL_d6427b91bde34f93ab06b092b7bcde50",
        "IPY_MODEL_3a75ce46c9404090862c195876662aba",
        "IPY_MODEL_8867e25278de4d9593302983c6f49e38"
       ],
       "layout": "IPY_MODEL_3093cb10173d4b7e926d05a0968f4ed5"
      }
     },
     "607e084173b14f00860cd211d251e246": {
      "model_module": "@jupyter-widgets/controls",
      "model_module_version": "2.0.0",
      "model_name": "HBoxModel",
      "state": {
       "children": [
        "IPY_MODEL_32844f8627614d93817c7a1b45f877fe",
        "IPY_MODEL_e24c4030fbb245d3a807d40dc62a8306",
        "IPY_MODEL_49150fdf74294514b161736314aa77a7"
       ],
       "layout": "IPY_MODEL_58cdb77c0b4344fc929b4d256fe66be8"
      }
     },
     "6096f042a5374553947a9845c70bbc33": {
      "model_module": "@jupyter-widgets/controls",
      "model_module_version": "2.0.0",
      "model_name": "HTMLStyleModel",
      "state": {
       "description_width": "",
       "font_size": null,
       "text_color": null
      }
     },
     "60f917a9aacd4c7d9a2cce4f01b25001": {
      "model_module": "@jupyter-widgets/base",
      "model_module_version": "2.0.0",
      "model_name": "LayoutModel",
      "state": {}
     },
     "60ffdfd2e7ab432a835209bbc7adbb45": {
      "model_module": "@jupyter-widgets/base",
      "model_module_version": "2.0.0",
      "model_name": "LayoutModel",
      "state": {}
     },
     "610ef207caa84742bc845cf857e9b26d": {
      "model_module": "@jupyter-widgets/controls",
      "model_module_version": "2.0.0",
      "model_name": "ProgressStyleModel",
      "state": {
       "description_width": ""
      }
     },
     "6155f1d1e39f4f55a43d3d283bdf8b6a": {
      "model_module": "@jupyter-widgets/controls",
      "model_module_version": "2.0.0",
      "model_name": "FloatProgressModel",
      "state": {
       "bar_style": "success",
       "layout": "IPY_MODEL_1f327462347b4440a7d6665e3f286b30",
       "max": 2,
       "style": "IPY_MODEL_35f9dd5cb55d4e9db572fb105faf4f40",
       "value": 2
      }
     },
     "61821f8a2296496ab6e65427fde7a4d5": {
      "model_module": "@jupyter-widgets/controls",
      "model_module_version": "2.0.0",
      "model_name": "HTMLStyleModel",
      "state": {
       "description_width": "",
       "font_size": null,
       "text_color": null
      }
     },
     "61bb8ac2cbf143ab88abcca4cbc1da00": {
      "model_module": "@jupyter-widgets/base",
      "model_module_version": "2.0.0",
      "model_name": "LayoutModel",
      "state": {}
     },
     "61ce2290d16e49618f303f5c080bd5da": {
      "model_module": "@jupyter-widgets/base",
      "model_module_version": "2.0.0",
      "model_name": "LayoutModel",
      "state": {}
     },
     "61d6d4bc0f3d463c97646dbffa227bf1": {
      "model_module": "@jupyter-widgets/base",
      "model_module_version": "2.0.0",
      "model_name": "LayoutModel",
      "state": {}
     },
     "61d9b51ca4074f10968fa07a45421365": {
      "model_module": "@jupyter-widgets/base",
      "model_module_version": "2.0.0",
      "model_name": "LayoutModel",
      "state": {}
     },
     "61da5475b7bc4a22be598e48b84b29ae": {
      "model_module": "@jupyter-widgets/base",
      "model_module_version": "2.0.0",
      "model_name": "LayoutModel",
      "state": {}
     },
     "61e80fe60c1b4295ad417dea02a62dfe": {
      "model_module": "@jupyter-widgets/base",
      "model_module_version": "2.0.0",
      "model_name": "LayoutModel",
      "state": {}
     },
     "61f0f4c8e040493e85de5d5e9540921b": {
      "model_module": "@jupyter-widgets/controls",
      "model_module_version": "2.0.0",
      "model_name": "HTMLStyleModel",
      "state": {
       "description_width": "",
       "font_size": null,
       "text_color": null
      }
     },
     "6205277d80984afd82312d334a56e97f": {
      "model_module": "@jupyter-widgets/controls",
      "model_module_version": "2.0.0",
      "model_name": "FloatProgressModel",
      "state": {
       "bar_style": "success",
       "layout": "IPY_MODEL_31a2c03af074435eade574191154d27c",
       "max": 1,
       "style": "IPY_MODEL_1656822f9f1141c8a24f26b6a3dc4268",
       "value": 1
      }
     },
     "623daaf6408d44a7be164800fbebade7": {
      "model_module": "@jupyter-widgets/base",
      "model_module_version": "2.0.0",
      "model_name": "LayoutModel",
      "state": {}
     },
     "6240e93f33024ff9a4fa5daec5eb0db1": {
      "model_module": "@jupyter-widgets/controls",
      "model_module_version": "2.0.0",
      "model_name": "HTMLModel",
      "state": {
       "layout": "IPY_MODEL_c382ddec0e5542dcba59559b4500136f",
       "style": "IPY_MODEL_72e3820b84024946a92162c5582f2e8b",
       "value": " 1/8 [00:03&lt;00:08,  1.15s/it]"
      }
     },
     "6271ecfc6be44308b7ec21c48853e6a6": {
      "model_module": "@jupyter-widgets/controls",
      "model_module_version": "2.0.0",
      "model_name": "FloatProgressModel",
      "state": {
       "layout": "IPY_MODEL_a766c2ae2ad14d27b3a8ba4b7a27937e",
       "max": 2,
       "style": "IPY_MODEL_f56feabc12f6454c98428167adb45154",
       "value": 2
      }
     },
     "62834b8e3b0d429e9c1ba4372e62bb6d": {
      "model_module": "@jupyter-widgets/base",
      "model_module_version": "2.0.0",
      "model_name": "LayoutModel",
      "state": {}
     },
     "62a9fa395984427cb8e22d80d59d6963": {
      "model_module": "@jupyter-widgets/base",
      "model_module_version": "2.0.0",
      "model_name": "LayoutModel",
      "state": {
       "flex": "2"
      }
     },
     "62ce5a5b2e3742b38149fe60ff8404b0": {
      "model_module": "@jupyter-widgets/base",
      "model_module_version": "2.0.0",
      "model_name": "LayoutModel",
      "state": {}
     },
     "62d7fcd0da384e0d8ad10c7382a018ac": {
      "model_module": "@jupyter-widgets/base",
      "model_module_version": "2.0.0",
      "model_name": "LayoutModel",
      "state": {
       "visibility": "hidden"
      }
     },
     "62db2d47fd5f44e081a171e785e1131a": {
      "model_module": "@jupyter-widgets/controls",
      "model_module_version": "2.0.0",
      "model_name": "HTMLModel",
      "state": {
       "layout": "IPY_MODEL_3bb3dc6955f44d16bfbaa92791401e7e",
       "style": "IPY_MODEL_1c278972c23a4ee79d287ee62217d462",
       "value": " 5/8 [00:44&lt;00:40, 13.47s/it]"
      }
     },
     "62f059b11439428dbd540feca2f88e46": {
      "model_module": "@jupyter-widgets/base",
      "model_module_version": "2.0.0",
      "model_name": "LayoutModel",
      "state": {}
     },
     "62fef1dc54bc465fb07f8f81cdbf327d": {
      "model_module": "@jupyter-widgets/controls",
      "model_module_version": "2.0.0",
      "model_name": "HTMLModel",
      "state": {
       "layout": "IPY_MODEL_0b99f3ef325b4553b6db5e2fe2d1d15f",
       "style": "IPY_MODEL_880027aa93c242ee90964244d3898fe0",
       "value": " 2/2 [00:01&lt;00:00,  1.61it/s]"
      }
     },
     "6301fdfb2e374de783ffb26f2553f733": {
      "model_module": "@jupyter-widgets/controls",
      "model_module_version": "2.0.0",
      "model_name": "HBoxModel",
      "state": {
       "children": [
        "IPY_MODEL_7e203d706a62424bbd98ae2eeef5098f",
        "IPY_MODEL_f0665d5d5940450e9129b84fdf5757d7",
        "IPY_MODEL_77b045fefa8d4e6cac19966b0656e4bf"
       ],
       "layout": "IPY_MODEL_f17f0df93caf471ab0e06c8e8ff889b2"
      }
     },
     "630d3a6fd8724ad6bc6650723bb3fe2e": {
      "model_module": "@jupyter-widgets/controls",
      "model_module_version": "2.0.0",
      "model_name": "ProgressStyleModel",
      "state": {
       "description_width": ""
      }
     },
     "63219c41b1b6456483624f65c28f2221": {
      "model_module": "@jupyter-widgets/base",
      "model_module_version": "2.0.0",
      "model_name": "LayoutModel",
      "state": {}
     },
     "63847051164749fb8155ae88cbce0dbc": {
      "model_module": "@jupyter-widgets/controls",
      "model_module_version": "2.0.0",
      "model_name": "HTMLModel",
      "state": {
       "layout": "IPY_MODEL_05bc1b3f416a4c7eaa5c4ad20afc1c40",
       "style": "IPY_MODEL_fad346eff62a4699a6b97e1cf0d92299",
       "value": " 1/? [00:00&lt;00:00, 99.45it/s]"
      }
     },
     "6394a27c50444e89bf8ebf449e30d8c6": {
      "model_module": "@jupyter-widgets/controls",
      "model_module_version": "2.0.0",
      "model_name": "FloatProgressModel",
      "state": {
       "bar_style": "success",
       "layout": "IPY_MODEL_781ec80c466d4b8fa9bf3254295ab974",
       "max": 1,
       "style": "IPY_MODEL_90b62196d0f84ea7a54cc04d0881e294",
       "value": 1
      }
     },
     "6398c74b1238466f9a3b3a0c51c7eb41": {
      "model_module": "@jupyter-widgets/controls",
      "model_module_version": "2.0.0",
      "model_name": "ProgressStyleModel",
      "state": {
       "description_width": ""
      }
     },
     "63b13d402e23414bbdd52bd1afe800aa": {
      "model_module": "@jupyter-widgets/controls",
      "model_module_version": "2.0.0",
      "model_name": "HTMLStyleModel",
      "state": {
       "description_width": "",
       "font_size": null,
       "text_color": null
      }
     },
     "63c77364b7604947a7e780c7961d91a1": {
      "model_module": "@jupyter-widgets/controls",
      "model_module_version": "2.0.0",
      "model_name": "ProgressStyleModel",
      "state": {
       "description_width": ""
      }
     },
     "63cf058e554f475fb2177bfe07907b50": {
      "model_module": "@jupyter-widgets/base",
      "model_module_version": "2.0.0",
      "model_name": "LayoutModel",
      "state": {
       "visibility": "hidden"
      }
     },
     "640e13dfef5d4f69b08f2ea0a0bf1130": {
      "model_module": "@jupyter-widgets/controls",
      "model_module_version": "2.0.0",
      "model_name": "HTMLModel",
      "state": {
       "layout": "IPY_MODEL_3561974acf3549f0a5aeea8eb4c59926",
       "style": "IPY_MODEL_116aafb683524591bd28bf7ac0501dbf",
       "value": " 1/1 [00:01&lt;00:00,  1.47s/it]"
      }
     },
     "641ba3afd6044bd49b3f2dcf11df909e": {
      "model_module": "@jupyter-widgets/controls",
      "model_module_version": "2.0.0",
      "model_name": "ProgressStyleModel",
      "state": {
       "description_width": ""
      }
     },
     "6477887cbed54f0191ee36860ed1ec3c": {
      "model_module": "@jupyter-widgets/base",
      "model_module_version": "2.0.0",
      "model_name": "LayoutModel",
      "state": {}
     },
     "6480b3e1804b4d85a5e17e1171033113": {
      "model_module": "@jupyter-widgets/base",
      "model_module_version": "2.0.0",
      "model_name": "LayoutModel",
      "state": {}
     },
     "6495efb4994446a2ae6840a0df1c6b62": {
      "model_module": "@jupyter-widgets/base",
      "model_module_version": "2.0.0",
      "model_name": "LayoutModel",
      "state": {}
     },
     "64a9297dc3794959b2b71631056a0b9d": {
      "model_module": "@jupyter-widgets/controls",
      "model_module_version": "2.0.0",
      "model_name": "FloatProgressModel",
      "state": {
       "bar_style": "success",
       "layout": "IPY_MODEL_a5d302d2264540978e5269f77c6b07d0",
       "max": 8,
       "style": "IPY_MODEL_578823a7e6154995a3bd4a83f8600b81",
       "value": 8
      }
     },
     "64c73d0325264dc48e9af7c0908a1b8e": {
      "model_module": "@jupyter-widgets/base",
      "model_module_version": "2.0.0",
      "model_name": "LayoutModel",
      "state": {}
     },
     "65166e52257b460190e5e812934d800d": {
      "model_module": "@jupyter-widgets/controls",
      "model_module_version": "2.0.0",
      "model_name": "HTMLModel",
      "state": {
       "layout": "IPY_MODEL_bf772895dcdf4907ab0c321fa86f6817",
       "style": "IPY_MODEL_21ad024d6bdd4550b79baca8582d413f",
       "value": " 1/1 [00:00&lt;00:00,  1.77it/s]"
      }
     },
     "6542c62080d746e492b4b39ca6420e6b": {
      "model_module": "@jupyter-widgets/controls",
      "model_module_version": "2.0.0",
      "model_name": "HTMLModel",
      "state": {
       "layout": "IPY_MODEL_6a72fc507d5f40bbb05131b5986bfa12",
       "style": "IPY_MODEL_462ea932d397487c8a756adbb569e16d",
       "value": "hook.frame__tpch__customer:  50%"
      }
     },
     "6556ee0275304b849ee4eed4578c46b7": {
      "model_module": "@jupyter-widgets/base",
      "model_module_version": "2.0.0",
      "model_name": "LayoutModel",
      "state": {}
     },
     "658dac230eb043019bc66e41e1b7fd5f": {
      "model_module": "@jupyter-widgets/base",
      "model_module_version": "2.0.0",
      "model_name": "LayoutModel",
      "state": {}
     },
     "65d3dcf70a9b4c539731d23332c57f8f": {
      "model_module": "@jupyter-widgets/controls",
      "model_module_version": "2.0.0",
      "model_name": "FloatProgressModel",
      "state": {
       "bar_style": "success",
       "layout": "IPY_MODEL_0f93ac1adb8e431f8fc23f9854422bac",
       "max": 1,
       "style": "IPY_MODEL_729dfd6b814b4f5cb057597ac4a90f04",
       "value": 1
      }
     },
     "6645ee82435f4a82994209df0e00ccaf": {
      "model_module": "@jupyter-widgets/base",
      "model_module_version": "2.0.0",
      "model_name": "LayoutModel",
      "state": {}
     },
     "6685e0b11b814427a906835b8ea81d6f": {
      "model_module": "@jupyter-widgets/base",
      "model_module_version": "2.0.0",
      "model_name": "LayoutModel",
      "state": {}
     },
     "6699539c0a2e45afb57df3023d25cdc4": {
      "model_module": "@jupyter-widgets/base",
      "model_module_version": "2.0.0",
      "model_name": "LayoutModel",
      "state": {}
     },
     "66ba37701cfa4cc9af669d14df9e1ecd": {
      "model_module": "@jupyter-widgets/controls",
      "model_module_version": "2.0.0",
      "model_name": "HTMLStyleModel",
      "state": {
       "description_width": "",
       "font_size": null,
       "text_color": null
      }
     },
     "66e007d25a8744b6b40c14e7ce8e0e89": {
      "model_module": "@jupyter-widgets/controls",
      "model_module_version": "2.0.0",
      "model_name": "HTMLModel",
      "state": {
       "layout": "IPY_MODEL_af6cb605962641fcba5f8cae1ea614ce",
       "style": "IPY_MODEL_d654e60f745140619388d429f860d5b0",
       "value": " 1/1 [00:00&lt;00:00,  1.14it/s]"
      }
     },
     "66ee75e8b4924055911b08ec7c700bb6": {
      "model_module": "@jupyter-widgets/controls",
      "model_module_version": "2.0.0",
      "model_name": "ProgressStyleModel",
      "state": {
       "description_width": ""
      }
     },
     "66fedfe0b4a445f1ac480c0644dcfb01": {
      "model_module": "@jupyter-widgets/controls",
      "model_module_version": "2.0.0",
      "model_name": "HTMLModel",
      "state": {
       "layout": "IPY_MODEL_3bcf91bdb734495fa6bf859ee0b5d2f4",
       "style": "IPY_MODEL_1672e022416d43a7a6b859f10e0a09a6",
       "value": " 1/1 [00:00&lt;00:00, 192.68it/s]"
      }
     },
     "6722e94ff798465d9967fd17f03a4f6f": {
      "model_module": "@jupyter-widgets/controls",
      "model_module_version": "2.0.0",
      "model_name": "HTMLModel",
      "state": {
       "layout": "IPY_MODEL_60f917a9aacd4c7d9a2cce4f01b25001",
       "style": "IPY_MODEL_61821f8a2296496ab6e65427fde7a4d5",
       "value": " 0/1 [00:00&lt;?, ?it/s]"
      }
     },
     "675f4c8b75f24eddb80b4126ebfc1d70": {
      "model_module": "@jupyter-widgets/base",
      "model_module_version": "2.0.0",
      "model_name": "LayoutModel",
      "state": {}
     },
     "676f157939c84dc58d6bc9fc14e3efc0": {
      "model_module": "@jupyter-widgets/controls",
      "model_module_version": "2.0.0",
      "model_name": "HTMLModel",
      "state": {
       "layout": "IPY_MODEL_b216e1c8a44b46eb88c155cbecac4437",
       "style": "IPY_MODEL_b2427f7a3bd44d009da56f756afd3f45",
       "value": " 2/2 [00:01&lt;00:00,  1.52s/it]"
      }
     },
     "677a0ca61f3548f29ce589e8ebe4c3c7": {
      "model_module": "@jupyter-widgets/controls",
      "model_module_version": "2.0.0",
      "model_name": "HTMLModel",
      "state": {
       "layout": "IPY_MODEL_8a12cca277e144db95777ffe92b126e2",
       "style": "IPY_MODEL_db86bebddbb546ca9c7c6a1695b91a52",
       "value": " 8/8 [00:48&lt;00:00,  5.38s/it]"
      }
     },
     "6781d87641ca4970adab543f4d869b99": {
      "model_module": "@jupyter-widgets/controls",
      "model_module_version": "2.0.0",
      "model_name": "ProgressStyleModel",
      "state": {
       "description_width": ""
      }
     },
     "679fd2b3c3634bb5afaee755d0aa4c36": {
      "model_module": "@jupyter-widgets/controls",
      "model_module_version": "2.0.0",
      "model_name": "HTMLModel",
      "state": {
       "layout": "IPY_MODEL_3d833687e80f4fff8ffecc7791774d78",
       "style": "IPY_MODEL_50b16b7fff774fee93719f282d1bb834",
       "value": "hook.frame__tpch__part: nodes...: 100%"
      }
     },
     "67cf57f239944eff81ca0cc133682e38": {
      "model_module": "@jupyter-widgets/controls",
      "model_module_version": "2.0.0",
      "model_name": "ProgressStyleModel",
      "state": {
       "description_width": ""
      }
     },
     "67d8232ff10e4aef8615816a3d535913": {
      "model_module": "@jupyter-widgets/base",
      "model_module_version": "2.0.0",
      "model_name": "LayoutModel",
      "state": {}
     },
     "67dc7290f466461685afcaa4a558059f": {
      "model_module": "@jupyter-widgets/controls",
      "model_module_version": "2.0.0",
      "model_name": "HTMLStyleModel",
      "state": {
       "description_width": "",
       "font_size": null,
       "text_color": null
      }
     },
     "67f6c46dbce748b68b2db13cafc4b570": {
      "model_module": "@jupyter-widgets/controls",
      "model_module_version": "2.0.0",
      "model_name": "HBoxModel",
      "state": {
       "children": [
        "IPY_MODEL_a90858fe2e0d4f77a24fe5e8d9c58a07",
        "IPY_MODEL_6c92c9dce4ce4f7fa9c8afff2ec6c1c2",
        "IPY_MODEL_b24af60aefad4957b835bccea347745a"
       ],
       "layout": "IPY_MODEL_3e9e4fb1eb374632ad1ca3e2b9a8e70b"
      }
     },
     "67f9ba3b12524d70854861a818c00294": {
      "model_module": "@jupyter-widgets/controls",
      "model_module_version": "2.0.0",
      "model_name": "ProgressStyleModel",
      "state": {
       "description_width": ""
      }
     },
     "680fc67370c549ebb93b3f4f632dba21": {
      "model_module": "@jupyter-widgets/controls",
      "model_module_version": "2.0.0",
      "model_name": "HBoxModel",
      "state": {
       "children": [
        "IPY_MODEL_de9fc7e389754581891a801d2afda8c8",
        "IPY_MODEL_52c9b1a6eddd45f5b61a5c3724b7a755",
        "IPY_MODEL_677a0ca61f3548f29ce589e8ebe4c3c7"
       ],
       "layout": "IPY_MODEL_0d5737bb12554c9fadaf284a008e6bed"
      }
     },
     "6822791de0ad402b98e344039a1fc17f": {
      "model_module": "@jupyter-widgets/controls",
      "model_module_version": "2.0.0",
      "model_name": "HTMLStyleModel",
      "state": {
       "description_width": "",
       "font_size": null,
       "text_color": null
      }
     },
     "6847deec00a94b33bac4a93969efdc1f": {
      "model_module": "@jupyter-widgets/base",
      "model_module_version": "2.0.0",
      "model_name": "LayoutModel",
      "state": {}
     },
     "684b6b49df84474cba36e4682074fe47": {
      "model_module": "@jupyter-widgets/controls",
      "model_module_version": "2.0.0",
      "model_name": "HTMLModel",
      "state": {
       "layout": "IPY_MODEL_dbd1b9c501be450d9f5f8b188a380a1b",
       "style": "IPY_MODEL_e133ac1de0204250b2d372a797225298",
       "value": " 2/2 [00:01&lt;00:00,  1.74it/s]"
      }
     },
     "68643e9b3ec8456c90068b3ced2b1d78": {
      "model_module": "@jupyter-widgets/controls",
      "model_module_version": "2.0.0",
      "model_name": "HTMLModel",
      "state": {
       "layout": "IPY_MODEL_8aebc72da1464199a20d60d84ae821b9",
       "style": "IPY_MODEL_7db157a7b0714afc8498b84a5f12fc04",
       "value": " 2/2 [00:01&lt;00:00,  1.36it/s]"
      }
     },
     "6868fc69e5bf4a6ba1daaea8239d120e": {
      "model_module": "@jupyter-widgets/controls",
      "model_module_version": "2.0.0",
      "model_name": "HTMLStyleModel",
      "state": {
       "description_width": "",
       "font_size": null,
       "text_color": null
      }
     },
     "6880e48ee032473381c40dd4862270fe": {
      "model_module": "@jupyter-widgets/base",
      "model_module_version": "2.0.0",
      "model_name": "LayoutModel",
      "state": {}
     },
     "6887bbfc36244291a5d3a82103895f94": {
      "model_module": "@jupyter-widgets/controls",
      "model_module_version": "2.0.0",
      "model_name": "HTMLStyleModel",
      "state": {
       "description_width": "",
       "font_size": null,
       "text_color": null
      }
     },
     "68a1242e10004a0ba1ca807460adb64f": {
      "model_module": "@jupyter-widgets/controls",
      "model_module_version": "2.0.0",
      "model_name": "HTMLModel",
      "state": {
       "layout": "IPY_MODEL_94df2a88cad349cca1709295e651dca6",
       "style": "IPY_MODEL_8538b6f0298047c8b194a54d07163501",
       "value": "hook.frame__tpch__supplier (nodes)...: 100%"
      }
     },
     "68af3376785c4b52a40f542a8ce0cd36": {
      "model_module": "@jupyter-widgets/base",
      "model_module_version": "2.0.0",
      "model_name": "LayoutModel",
      "state": {}
     },
     "68ccd938148b45dab16e159d2e85fb32": {
      "model_module": "@jupyter-widgets/controls",
      "model_module_version": "2.0.0",
      "model_name": "HTMLModel",
      "state": {
       "layout": "IPY_MODEL_4381d6bdde8a44518ab172423005f5c3",
       "style": "IPY_MODEL_8d04c208abc943ad9b01fd794509cf9d",
       "value": "Scanning for nodes...: 100%"
      }
     },
     "68e02b391dca44038dd190ec5067d15d": {
      "model_module": "@jupyter-widgets/controls",
      "model_module_version": "2.0.0",
      "model_name": "HTMLModel",
      "state": {
       "layout": "IPY_MODEL_553b56afad9d47e086d888bd6c78650f",
       "style": "IPY_MODEL_ee18a344e7a74b5cb3d7dfcd6a828f5a",
       "value": "hook.frame__tpch__customer: edges...: 100%"
      }
     },
     "690db8d298cb4ef0a2e62b4b4768aabc": {
      "model_module": "@jupyter-widgets/controls",
      "model_module_version": "2.0.0",
      "model_name": "FloatProgressModel",
      "state": {
       "layout": "IPY_MODEL_7c6cc757058242d3956713a7e6a059b0",
       "max": 2,
       "style": "IPY_MODEL_29bafc07ee564680a97a43ae30a8f273",
       "value": 2
      }
     },
     "6911e5479d6b4eb1bb513427e34daa89": {
      "model_module": "@jupyter-widgets/base",
      "model_module_version": "2.0.0",
      "model_name": "LayoutModel",
      "state": {}
     },
     "692da3585fab4704bce7952126ea7822": {
      "model_module": "@jupyter-widgets/base",
      "model_module_version": "2.0.0",
      "model_name": "LayoutModel",
      "state": {}
     },
     "6933053392ba4c2699c4247d9a41c1ed": {
      "model_module": "@jupyter-widgets/base",
      "model_module_version": "2.0.0",
      "model_name": "LayoutModel",
      "state": {
       "visibility": "hidden"
      }
     },
     "69e6f16e260b43a7889f20f234069d6e": {
      "model_module": "@jupyter-widgets/base",
      "model_module_version": "2.0.0",
      "model_name": "LayoutModel",
      "state": {}
     },
     "69eb849d732d4cc687b4b53f3be636a7": {
      "model_module": "@jupyter-widgets/controls",
      "model_module_version": "2.0.0",
      "model_name": "HTMLModel",
      "state": {
       "layout": "IPY_MODEL_926f6e5d6bcf421f8f7177ddb09bfcfb",
       "style": "IPY_MODEL_870d8d2cc5cf4a5b84349b4c93637675",
       "value": " 2/2 [00:01&lt;00:00,  1.15it/s]"
      }
     },
     "69f06be4be2c45f38aa8d93e62acf00f": {
      "model_module": "@jupyter-widgets/controls",
      "model_module_version": "2.0.0",
      "model_name": "HBoxModel",
      "state": {
       "children": [
        "IPY_MODEL_11d9d0896ef44b1d8d75eedd939f70d3",
        "IPY_MODEL_41f3eabac7714b4e82c69f08fd48981e",
        "IPY_MODEL_a94ff8adb0264694aac10cd6716c10ca"
       ],
       "layout": "IPY_MODEL_62d7fcd0da384e0d8ad10c7382a018ac"
      }
     },
     "69f964a467f141feadcdc8da3b530d08": {
      "model_module": "@jupyter-widgets/controls",
      "model_module_version": "2.0.0",
      "model_name": "FloatProgressModel",
      "state": {
       "layout": "IPY_MODEL_062a845503c3436cb8956796fc88f1e2",
       "max": 1,
       "style": "IPY_MODEL_847bbd241d9443acbfe3410b3d25b140",
       "value": 1
      }
     },
     "6a01f8440f4b41819a5f6819696aaf37": {
      "model_module": "@jupyter-widgets/controls",
      "model_module_version": "2.0.0",
      "model_name": "HBoxModel",
      "state": {
       "children": [
        "IPY_MODEL_68e02b391dca44038dd190ec5067d15d",
        "IPY_MODEL_6205277d80984afd82312d334a56e97f",
        "IPY_MODEL_34d0aca0f5ac45999e68fdb69f0ff25f"
       ],
       "layout": "IPY_MODEL_506afcd9e1e544909631a5191c2ec9d5"
      }
     },
     "6a06003d658d4489a7afe6ffe573bf1c": {
      "model_module": "@jupyter-widgets/controls",
      "model_module_version": "2.0.0",
      "model_name": "HBoxModel",
      "state": {
       "children": [
        "IPY_MODEL_74729095cd0e4d938d766681d2db9f2c",
        "IPY_MODEL_7af029f5fa2c4f9984c69570e502d004",
        "IPY_MODEL_eac08400856041d6b19b8c6d9a6011a6"
       ],
       "layout": "IPY_MODEL_5c0ac1592e624b9b9f49f933f37d1f27"
      }
     },
     "6a2c0ffa8c714ad2a784acffff8bb46c": {
      "model_module": "@jupyter-widgets/base",
      "model_module_version": "2.0.0",
      "model_name": "LayoutModel",
      "state": {
       "visibility": "hidden"
      }
     },
     "6a72fc507d5f40bbb05131b5986bfa12": {
      "model_module": "@jupyter-widgets/base",
      "model_module_version": "2.0.0",
      "model_name": "LayoutModel",
      "state": {}
     },
     "6a81e65984204a07a29256a7cdaff14b": {
      "model_module": "@jupyter-widgets/controls",
      "model_module_version": "2.0.0",
      "model_name": "HTMLStyleModel",
      "state": {
       "description_width": "",
       "font_size": null,
       "text_color": null
      }
     },
     "6a86b0773162409d802e3639f1715602": {
      "model_module": "@jupyter-widgets/controls",
      "model_module_version": "2.0.0",
      "model_name": "HTMLStyleModel",
      "state": {
       "description_width": "",
       "font_size": null,
       "text_color": null
      }
     },
     "6a86b4468c274793b963519821c07614": {
      "model_module": "@jupyter-widgets/controls",
      "model_module_version": "2.0.0",
      "model_name": "HTMLStyleModel",
      "state": {
       "description_width": "",
       "font_size": null,
       "text_color": null
      }
     },
     "6a96bf6e55d74eca87816cf733165a61": {
      "model_module": "@jupyter-widgets/base",
      "model_module_version": "2.0.0",
      "model_name": "LayoutModel",
      "state": {
       "visibility": "hidden"
      }
     },
     "6a9e87334d7a42ffb2ece4fb6ede3423": {
      "model_module": "@jupyter-widgets/base",
      "model_module_version": "2.0.0",
      "model_name": "LayoutModel",
      "state": {}
     },
     "6a9ec565a16d4d8d9fb6c499506ba166": {
      "model_module": "@jupyter-widgets/base",
      "model_module_version": "2.0.0",
      "model_name": "LayoutModel",
      "state": {}
     },
     "6aa8421323694b608ac9f120d5c0504f": {
      "model_module": "@jupyter-widgets/controls",
      "model_module_version": "2.0.0",
      "model_name": "HBoxModel",
      "state": {
       "children": [
        "IPY_MODEL_e8c1de5cf34f4692aea6fbe165ca3068",
        "IPY_MODEL_1a54917a8c2e42ff9042c2a2b31e97e5",
        "IPY_MODEL_62fef1dc54bc465fb07f8f81cdbf327d"
       ],
       "layout": "IPY_MODEL_fb507dc43387467cbf5753c15c8fa071"
      }
     },
     "6ac68f2ef85a4da68a19720cc71343a7": {
      "model_module": "@jupyter-widgets/controls",
      "model_module_version": "2.0.0",
      "model_name": "HTMLStyleModel",
      "state": {
       "description_width": "",
       "font_size": null,
       "text_color": null
      }
     },
     "6ae2acb0fc4446f29e2cb2eae04cfe1c": {
      "model_module": "@jupyter-widgets/base",
      "model_module_version": "2.0.0",
      "model_name": "LayoutModel",
      "state": {}
     },
     "6ae52fbaae3947f699ed120b77352d4e": {
      "model_module": "@jupyter-widgets/controls",
      "model_module_version": "2.0.0",
      "model_name": "HTMLStyleModel",
      "state": {
       "description_width": "",
       "font_size": null,
       "text_color": null
      }
     },
     "6b47b347c9e24d31a3bbd3c9a1e2dcb6": {
      "model_module": "@jupyter-widgets/controls",
      "model_module_version": "2.0.0",
      "model_name": "HTMLModel",
      "state": {
       "layout": "IPY_MODEL_a9e6c7d0f5264c9b91866790be59394f",
       "style": "IPY_MODEL_4615a90e96884ca6ab9b8a0495e6bffa",
       "value": " 2/2 [00:01&lt;00:00,  1.08it/s]"
      }
     },
     "6b8f03525f864697adf153e2bd5f0ab3": {
      "model_module": "@jupyter-widgets/base",
      "model_module_version": "2.0.0",
      "model_name": "LayoutModel",
      "state": {}
     },
     "6bc9e669babe4ce59597c4128b908158": {
      "model_module": "@jupyter-widgets/base",
      "model_module_version": "2.0.0",
      "model_name": "LayoutModel",
      "state": {}
     },
     "6bd6c7743b6f4a5b8652fcdd9e89840f": {
      "model_module": "@jupyter-widgets/controls",
      "model_module_version": "2.0.0",
      "model_name": "FloatProgressModel",
      "state": {
       "bar_style": "success",
       "layout": "IPY_MODEL_0990728dddbc40e48131cad230be937b",
       "max": 2,
       "style": "IPY_MODEL_5f19f1f2ab384ce58ed396aed3e0985d",
       "value": 2
      }
     },
     "6c69918433944c278beb89e33ba24f80": {
      "model_module": "@jupyter-widgets/controls",
      "model_module_version": "2.0.0",
      "model_name": "ProgressStyleModel",
      "state": {
       "description_width": ""
      }
     },
     "6c7e75603f384e6193e1a0407bc21ba1": {
      "model_module": "@jupyter-widgets/controls",
      "model_module_version": "2.0.0",
      "model_name": "HTMLModel",
      "state": {
       "layout": "IPY_MODEL_3ef6446475254989b2a6dadb402542d5",
       "style": "IPY_MODEL_bbd0f745da944be8a70639ffdf24a6fc",
       "value": " 1/1 [00:00&lt;00:00, 183.14it/s]"
      }
     },
     "6c80f686c35148e2b05c541a662b095b": {
      "model_module": "@jupyter-widgets/base",
      "model_module_version": "2.0.0",
      "model_name": "LayoutModel",
      "state": {}
     },
     "6c8304f0f39a4f48b0d72c6762b49e00": {
      "model_module": "@jupyter-widgets/base",
      "model_module_version": "2.0.0",
      "model_name": "LayoutModel",
      "state": {}
     },
     "6c92c9dce4ce4f7fa9c8afff2ec6c1c2": {
      "model_module": "@jupyter-widgets/controls",
      "model_module_version": "2.0.0",
      "model_name": "FloatProgressModel",
      "state": {
       "layout": "IPY_MODEL_4d5cdb4da605469895871659550bd90e",
       "max": 6,
       "style": "IPY_MODEL_1ffa69b877b443568f3dfa4dd729d826",
       "value": 6
      }
     },
     "6cabfff3052f445e9b0b774564fcaa81": {
      "model_module": "@jupyter-widgets/controls",
      "model_module_version": "2.0.0",
      "model_name": "ProgressStyleModel",
      "state": {
       "description_width": ""
      }
     },
     "6cac0bdeda27482f8a3a41434f6fff53": {
      "model_module": "@jupyter-widgets/controls",
      "model_module_version": "2.0.0",
      "model_name": "HTMLModel",
      "state": {
       "layout": "IPY_MODEL_fe7dc07da681435884ad30c50feb5495",
       "style": "IPY_MODEL_c5c1ef31bb6a495d87a771b7bb1192b9",
       "value": "hook.frame__tpch__partsupp: 100%"
      }
     },
     "6cca712368494efc81b22ca400dc2cdf": {
      "model_module": "@jupyter-widgets/controls",
      "model_module_version": "2.0.0",
      "model_name": "HTMLModel",
      "state": {
       "layout": "IPY_MODEL_094ec30e1b2d4f279dc2b5a367b67bbc",
       "style": "IPY_MODEL_8a41341734404aaca4ca744e7f3cecb3",
       "value": " 0/1 [00:00&lt;?, ?it/s]"
      }
     },
     "6ce0279ede68473298ec0d37c55b56ea": {
      "model_module": "@jupyter-widgets/controls",
      "model_module_version": "2.0.0",
      "model_name": "ProgressStyleModel",
      "state": {
       "description_width": ""
      }
     },
     "6ce599f14742435984673af8c2a53e61": {
      "model_module": "@jupyter-widgets/base",
      "model_module_version": "2.0.0",
      "model_name": "LayoutModel",
      "state": {}
     },
     "6cf71a32523743d4a96ec1c1be2eebac": {
      "model_module": "@jupyter-widgets/base",
      "model_module_version": "2.0.0",
      "model_name": "LayoutModel",
      "state": {}
     },
     "6d0d8cb15e254f108addb40079c3f56f": {
      "model_module": "@jupyter-widgets/controls",
      "model_module_version": "2.0.0",
      "model_name": "HTMLStyleModel",
      "state": {
       "description_width": "",
       "font_size": null,
       "text_color": null
      }
     },
     "6d0dcde7d08f4a2ab1777c5539ada681": {
      "model_module": "@jupyter-widgets/base",
      "model_module_version": "2.0.0",
      "model_name": "LayoutModel",
      "state": {
       "visibility": "hidden"
      }
     },
     "6d39138bac3b415ea77df0f47a3a047c": {
      "model_module": "@jupyter-widgets/base",
      "model_module_version": "2.0.0",
      "model_name": "LayoutModel",
      "state": {
       "visibility": "hidden"
      }
     },
     "6d392ddc52a7429cadf2a447a4642bae": {
      "model_module": "@jupyter-widgets/controls",
      "model_module_version": "2.0.0",
      "model_name": "HTMLStyleModel",
      "state": {
       "description_width": "",
       "font_size": null,
       "text_color": null
      }
     },
     "6d6c84dce265422db1254919ec344dd6": {
      "model_module": "@jupyter-widgets/base",
      "model_module_version": "2.0.0",
      "model_name": "LayoutModel",
      "state": {
       "visibility": "hidden"
      }
     },
     "6d6d044e3b354aacb742ee8d7a43fb61": {
      "model_module": "@jupyter-widgets/controls",
      "model_module_version": "2.0.0",
      "model_name": "HTMLModel",
      "state": {
       "layout": "IPY_MODEL_b8dec5caffa145d7a15f9bce5ca76744",
       "style": "IPY_MODEL_e6807cc355df4dc9a56091b9d37b21f3",
       "value": "Scanning for nodes...: 100%"
      }
     },
     "6d84b101007a4bd48fb891071934650f": {
      "model_module": "@jupyter-widgets/controls",
      "model_module_version": "2.0.0",
      "model_name": "HTMLModel",
      "state": {
       "layout": "IPY_MODEL_dab7a70c68d748ab9e40eeeb62829dbc",
       "style": "IPY_MODEL_7531c5cd57634d3887ae4f2d0826a933",
       "value": " 1/1 [00:00&lt;00:00, 177.54it/s]"
      }
     },
     "6d8c7f109ca5418c873084bf71d9feb2": {
      "model_module": "@jupyter-widgets/controls",
      "model_module_version": "2.0.0",
      "model_name": "HTMLModel",
      "state": {
       "layout": "IPY_MODEL_3e669d95f618428d9c41ff2b53c179fb",
       "style": "IPY_MODEL_cca894e4c0064e05aa6070f2e34b3ebf",
       "value": " 3/3 [00:05&lt;00:00,  1.71s/it]"
      }
     },
     "6d8cb7db1ce14bbe95501e9d0ef20599": {
      "model_module": "@jupyter-widgets/controls",
      "model_module_version": "2.0.0",
      "model_name": "HTMLModel",
      "state": {
       "layout": "IPY_MODEL_0ccfcc5e770a45b4b8f1033487457500",
       "style": "IPY_MODEL_28adae921de44408bdc0e9c2d6133bba",
       "value": " 2/2 [00:06&lt;00:00,  3.51s/it]"
      }
     },
     "6d8f27701b594cd6adf8d3197f522fee": {
      "model_module": "@jupyter-widgets/base",
      "model_module_version": "2.0.0",
      "model_name": "LayoutModel",
      "state": {
       "visibility": "hidden"
      }
     },
     "6d9eac699cb64c73a3c126390326d972": {
      "model_module": "@jupyter-widgets/base",
      "model_module_version": "2.0.0",
      "model_name": "LayoutModel",
      "state": {}
     },
     "6dc634b66c8f4d4e8ed594b5f95c8eda": {
      "model_module": "@jupyter-widgets/controls",
      "model_module_version": "2.0.0",
      "model_name": "ProgressStyleModel",
      "state": {
       "description_width": ""
      }
     },
     "6dde294beddd46ba89a0ca57edef9e63": {
      "model_module": "@jupyter-widgets/base",
      "model_module_version": "2.0.0",
      "model_name": "LayoutModel",
      "state": {}
     },
     "6e093a7a14bb42c0a107f2bae7ca1905": {
      "model_module": "@jupyter-widgets/controls",
      "model_module_version": "2.0.0",
      "model_name": "ProgressStyleModel",
      "state": {
       "description_width": ""
      }
     },
     "6e1f1fc75bda4893ab0b853148aa0904": {
      "model_module": "@jupyter-widgets/controls",
      "model_module_version": "2.0.0",
      "model_name": "HBoxModel",
      "state": {
       "children": [
        "IPY_MODEL_29973cb2da9b49d5ae949a1b212089eb",
        "IPY_MODEL_6155f1d1e39f4f55a43d3d283bdf8b6a",
        "IPY_MODEL_f4129f93d4fb4346a675efa2eb40090b"
       ],
       "layout": "IPY_MODEL_982399c709054d7b86d9fde40d4e496a"
      }
     },
     "6e2703a1afa64017b595f39271d9fccd": {
      "model_module": "@jupyter-widgets/controls",
      "model_module_version": "2.0.0",
      "model_name": "HTMLModel",
      "state": {
       "layout": "IPY_MODEL_f1234bf6797c433e8e691092a0c32b6a",
       "style": "IPY_MODEL_e53251b1c2da41068bf2456b548859cb",
       "value": " 2/4 [00:21&lt;00:12,  6.10s/it]"
      }
     },
     "6e3fc0944c1742c6ba502c2586c487b2": {
      "model_module": "@jupyter-widgets/base",
      "model_module_version": "2.0.0",
      "model_name": "LayoutModel",
      "state": {}
     },
     "6e415b5ee9fc424480bc33da744d6afc": {
      "model_module": "@jupyter-widgets/base",
      "model_module_version": "2.0.0",
      "model_name": "LayoutModel",
      "state": {}
     },
     "6e7c0a9bbfe94b11a1f2d11ad4b9f6e8": {
      "model_module": "@jupyter-widgets/controls",
      "model_module_version": "2.0.0",
      "model_name": "HTMLModel",
      "state": {
       "layout": "IPY_MODEL_4085bff371484e92aa4cb7001aff7a8b",
       "style": "IPY_MODEL_c15778211c164881a98df01f75f0a383",
       "value": "hook.frame__tpch__nation: nodes...: 100%"
      }
     },
     "6ea01b70c0414d1f9c383ea89c17073a": {
      "model_module": "@jupyter-widgets/base",
      "model_module_version": "2.0.0",
      "model_name": "LayoutModel",
      "state": {}
     },
     "6ea92ca6f05c43c5a18315a8ecbd6565": {
      "model_module": "@jupyter-widgets/base",
      "model_module_version": "2.0.0",
      "model_name": "LayoutModel",
      "state": {}
     },
     "6eefa7a0e8c94453b0b40df3d5c2a765": {
      "model_module": "@jupyter-widgets/controls",
      "model_module_version": "2.0.0",
      "model_name": "FloatProgressModel",
      "state": {
       "bar_style": "danger",
       "layout": "IPY_MODEL_a0e205a6f1e8425f8f205f91ab042430",
       "max": 4,
       "style": "IPY_MODEL_21a44b0a9d03455396514101f2efd1f5",
       "value": 2
      }
     },
     "6f04a9d05bda4c60a67c86dc0164bdbb": {
      "model_module": "@jupyter-widgets/base",
      "model_module_version": "2.0.0",
      "model_name": "LayoutModel",
      "state": {}
     },
     "6f32d006ec58452dbf450e2f533fc76a": {
      "model_module": "@jupyter-widgets/base",
      "model_module_version": "2.0.0",
      "model_name": "LayoutModel",
      "state": {}
     },
     "6f6e149d7a4d4202a8bab989771c9e5f": {
      "model_module": "@jupyter-widgets/controls",
      "model_module_version": "2.0.0",
      "model_name": "HTMLModel",
      "state": {
       "layout": "IPY_MODEL_0d528bb3dc3a4cb182e732cfa1ed8101",
       "style": "IPY_MODEL_d2d3181fba3145848ec50455e00caf80",
       "value": "hook.frame__tpch__orders: edges...: "
      }
     },
     "6f7a6ce7c6af4c3897ad930dcc2385c8": {
      "model_module": "@jupyter-widgets/controls",
      "model_module_version": "2.0.0",
      "model_name": "HTMLStyleModel",
      "state": {
       "description_width": "",
       "font_size": null,
       "text_color": null
      }
     },
     "6f9b16db3b5740f0b31b90af383d9796": {
      "model_module": "@jupyter-widgets/controls",
      "model_module_version": "2.0.0",
      "model_name": "HTMLModel",
      "state": {
       "layout": "IPY_MODEL_1b67e024a04b4550966512883ce53846",
       "style": "IPY_MODEL_30dee072dff7497f90b908c3f7e293bd",
       "value": "Scanning for nodes...: 100%"
      }
     },
     "6f9fceb8c25542f7b8fa9e50ffeca955": {
      "model_module": "@jupyter-widgets/controls",
      "model_module_version": "2.0.0",
      "model_name": "HTMLStyleModel",
      "state": {
       "description_width": "",
       "font_size": null,
       "text_color": null
      }
     },
     "6fb40159314149d99eb78978771188f0": {
      "model_module": "@jupyter-widgets/base",
      "model_module_version": "2.0.0",
      "model_name": "LayoutModel",
      "state": {}
     },
     "6fc35e4b701d4059970d818da06549fc": {
      "model_module": "@jupyter-widgets/base",
      "model_module_version": "2.0.0",
      "model_name": "LayoutModel",
      "state": {}
     },
     "6fc6ac918cd340659fbfa1e083f63fdc": {
      "model_module": "@jupyter-widgets/controls",
      "model_module_version": "2.0.0",
      "model_name": "HTMLModel",
      "state": {
       "layout": "IPY_MODEL_9fd8971abbbb4d078186a80ebb315f34",
       "style": "IPY_MODEL_e5d62132fc3d42c8a01e8ea62a5c0bd0",
       "value": "Scanning for edges...: 100%"
      }
     },
     "6fca0fbb288b4fd88064e159c6403c3e": {
      "model_module": "@jupyter-widgets/base",
      "model_module_version": "2.0.0",
      "model_name": "LayoutModel",
      "state": {}
     },
     "6fdec4eaa2274d3fa07aca0658a41971": {
      "model_module": "@jupyter-widgets/base",
      "model_module_version": "2.0.0",
      "model_name": "LayoutModel",
      "state": {}
     },
     "6fea5ff9bd314f9fbf81fa6d816b4d7f": {
      "model_module": "@jupyter-widgets/controls",
      "model_module_version": "2.0.0",
      "model_name": "HTMLStyleModel",
      "state": {
       "description_width": "",
       "font_size": null,
       "text_color": null
      }
     },
     "6ff4ba607b0341ba8be5a5286cabcabe": {
      "model_module": "@jupyter-widgets/base",
      "model_module_version": "2.0.0",
      "model_name": "LayoutModel",
      "state": {}
     },
     "702e34cc88fe4a88ad9e31fd73c16e2c": {
      "model_module": "@jupyter-widgets/controls",
      "model_module_version": "2.0.0",
      "model_name": "HTMLStyleModel",
      "state": {
       "description_width": "",
       "font_size": null,
       "text_color": null
      }
     },
     "703a37bae2f04ca28f4b0492024da8cf": {
      "model_module": "@jupyter-widgets/base",
      "model_module_version": "2.0.0",
      "model_name": "LayoutModel",
      "state": {}
     },
     "705214fe81d4424bbf53470454a72807": {
      "model_module": "@jupyter-widgets/base",
      "model_module_version": "2.0.0",
      "model_name": "LayoutModel",
      "state": {}
     },
     "705cad91e0704287a97e77f0ceddf3d0": {
      "model_module": "@jupyter-widgets/controls",
      "model_module_version": "2.0.0",
      "model_name": "FloatProgressModel",
      "state": {
       "bar_style": "success",
       "layout": "IPY_MODEL_96825146f5894afb8b399386118b1c2f",
       "max": 1,
       "style": "IPY_MODEL_efcb7a47e8f34dd9a4281bc49511936e",
       "value": 1
      }
     },
     "7084cce0676d4b0ab8f387857da23046": {
      "model_module": "@jupyter-widgets/controls",
      "model_module_version": "2.0.0",
      "model_name": "HTMLStyleModel",
      "state": {
       "description_width": "",
       "font_size": null,
       "text_color": null
      }
     },
     "7093e929b2a147c9a950702128e27574": {
      "model_module": "@jupyter-widgets/controls",
      "model_module_version": "2.0.0",
      "model_name": "HTMLStyleModel",
      "state": {
       "description_width": "",
       "font_size": null,
       "text_color": null
      }
     },
     "70ad5b53fa4b47e8986573d275c54f04": {
      "model_module": "@jupyter-widgets/controls",
      "model_module_version": "2.0.0",
      "model_name": "HTMLStyleModel",
      "state": {
       "description_width": "",
       "font_size": null,
       "text_color": null
      }
     },
     "70b997d6dd5e415282497d1e5f413416": {
      "model_module": "@jupyter-widgets/controls",
      "model_module_version": "2.0.0",
      "model_name": "HTMLModel",
      "state": {
       "layout": "IPY_MODEL_18df7b76c2324f7dbdaef3b5144afd8b",
       "style": "IPY_MODEL_3276d477c7b443b4bcc9fe8a022e50f6",
       "value": " 2/2 [00:04&lt;00:00,  2.29s/it]"
      }
     },
     "7102bd96e2834aeeaccb14e5facd86a7": {
      "model_module": "@jupyter-widgets/controls",
      "model_module_version": "2.0.0",
      "model_name": "HTMLStyleModel",
      "state": {
       "description_width": "",
       "font_size": null,
       "text_color": null
      }
     },
     "713c99e6e80649dfa21541896367eba9": {
      "model_module": "@jupyter-widgets/controls",
      "model_module_version": "2.0.0",
      "model_name": "HTMLStyleModel",
      "state": {
       "description_width": "",
       "font_size": null,
       "text_color": null
      }
     },
     "7152599f62fc4d2d81e867cd7f7e3055": {
      "model_module": "@jupyter-widgets/controls",
      "model_module_version": "2.0.0",
      "model_name": "HTMLModel",
      "state": {
       "layout": "IPY_MODEL_43e5c756d8f94cd7b7faa088450c612b",
       "style": "IPY_MODEL_13df32bbed9940b58069d667dcc8cf77",
       "value": "Scanning for nodes...: 100%"
      }
     },
     "718550ad996241d29e43fb6df26e812c": {
      "model_module": "@jupyter-widgets/controls",
      "model_module_version": "2.0.0",
      "model_name": "ProgressStyleModel",
      "state": {
       "description_width": ""
      }
     },
     "71c888efee264bf4b5da07e74b776236": {
      "model_module": "@jupyter-widgets/controls",
      "model_module_version": "2.0.0",
      "model_name": "FloatProgressModel",
      "state": {
       "bar_style": "success",
       "layout": "IPY_MODEL_c513855d65624defa43592f3c00b822b",
       "max": 2,
       "style": "IPY_MODEL_b98513b2abb0485eb9e83ef935b809ca",
       "value": 2
      }
     },
     "71d19726f7984c1d92a2568ed7263014": {
      "model_module": "@jupyter-widgets/controls",
      "model_module_version": "2.0.0",
      "model_name": "FloatProgressModel",
      "state": {
       "layout": "IPY_MODEL_bd2a95ba043d46c29b0730982215af50",
       "max": 2,
       "style": "IPY_MODEL_860b04dbcba84f44b7d1c93c12f1144c",
       "value": 2
      }
     },
     "722c95745fab48419434a970f540cbc7": {
      "model_module": "@jupyter-widgets/controls",
      "model_module_version": "2.0.0",
      "model_name": "ProgressStyleModel",
      "state": {
       "description_width": ""
      }
     },
     "724579da70f845caa9a8d6b89c5a25a7": {
      "model_module": "@jupyter-widgets/base",
      "model_module_version": "2.0.0",
      "model_name": "LayoutModel",
      "state": {}
     },
     "7253e6b6fb084473b2c3b356a6f1ae3e": {
      "model_module": "@jupyter-widgets/controls",
      "model_module_version": "2.0.0",
      "model_name": "FloatProgressModel",
      "state": {
       "layout": "IPY_MODEL_2ea9950701f647aaac39c0004ad26c7e",
       "max": 6,
       "style": "IPY_MODEL_a6be5efde3a74350bbfe09e6fb175bbe",
       "value": 6
      }
     },
     "727e5e2043ce4e25989e291ce1723371": {
      "model_module": "@jupyter-widgets/controls",
      "model_module_version": "2.0.0",
      "model_name": "HTMLStyleModel",
      "state": {
       "description_width": "",
       "font_size": null,
       "text_color": null
      }
     },
     "72879e0be3c5437c897402a041d8bc9d": {
      "model_module": "@jupyter-widgets/base",
      "model_module_version": "2.0.0",
      "model_name": "LayoutModel",
      "state": {
       "visibility": "hidden"
      }
     },
     "729dfd6b814b4f5cb057597ac4a90f04": {
      "model_module": "@jupyter-widgets/controls",
      "model_module_version": "2.0.0",
      "model_name": "ProgressStyleModel",
      "state": {
       "description_width": ""
      }
     },
     "72b4b862bea84484b24b8f1dd8b559bd": {
      "model_module": "@jupyter-widgets/controls",
      "model_module_version": "2.0.0",
      "model_name": "ProgressStyleModel",
      "state": {
       "description_width": ""
      }
     },
     "72c6f3678b354cb1ae859c4ee81ba724": {
      "model_module": "@jupyter-widgets/controls",
      "model_module_version": "2.0.0",
      "model_name": "HTMLStyleModel",
      "state": {
       "description_width": "",
       "font_size": null,
       "text_color": null
      }
     },
     "72e00ed818e54d70bd1879e81b31facb": {
      "model_module": "@jupyter-widgets/controls",
      "model_module_version": "2.0.0",
      "model_name": "FloatProgressModel",
      "state": {
       "layout": "IPY_MODEL_cffff0ac72254da5a1cd3a8cdd3a60a6",
       "max": 2,
       "style": "IPY_MODEL_0af3b15a37b34330bf8eab8c9a09fd45",
       "value": 2
      }
     },
     "72e3820b84024946a92162c5582f2e8b": {
      "model_module": "@jupyter-widgets/controls",
      "model_module_version": "2.0.0",
      "model_name": "HTMLStyleModel",
      "state": {
       "description_width": "",
       "font_size": null,
       "text_color": null
      }
     },
     "73236169256d472cbf270d9c799c6580": {
      "model_module": "@jupyter-widgets/controls",
      "model_module_version": "2.0.0",
      "model_name": "HTMLModel",
      "state": {
       "layout": "IPY_MODEL_2c13d51c9e524eaa953a0de7e42951ba",
       "style": "IPY_MODEL_5a36cc5e6ca546fe850d8f7b09efea02",
       "value": " 2/2 [00:00&lt;00:00,  2.19it/s]"
      }
     },
     "73391f90c1b54f85abb9d0a4721d784e": {
      "model_module": "@jupyter-widgets/controls",
      "model_module_version": "2.0.0",
      "model_name": "HTMLModel",
      "state": {
       "layout": "IPY_MODEL_b6d05e6c77b146958d288b94a6a3dcb4",
       "style": "IPY_MODEL_73d0d55a80fb4b46af12d2204acdc0cd",
       "value": " 2/2 [00:01&lt;00:00,  1.45it/s]"
      }
     },
     "733aae0570b14351adf7efc7834044c1": {
      "model_module": "@jupyter-widgets/controls",
      "model_module_version": "2.0.0",
      "model_name": "HTMLStyleModel",
      "state": {
       "description_width": "",
       "font_size": null,
       "text_color": null
      }
     },
     "738e8552c4bb4a6f956d03eea3b6b7cc": {
      "model_module": "@jupyter-widgets/base",
      "model_module_version": "2.0.0",
      "model_name": "LayoutModel",
      "state": {}
     },
     "73cfdb84a5a145eea6fe5dd680e13fee": {
      "model_module": "@jupyter-widgets/controls",
      "model_module_version": "2.0.0",
      "model_name": "HBoxModel",
      "state": {
       "children": [
        "IPY_MODEL_0dcad528673841a5b3353eeda96293e5",
        "IPY_MODEL_ceb705bf79364ea09e067a5e842baf02",
        "IPY_MODEL_4c49fb11631d48cf93339307f50c9c4d"
       ],
       "layout": "IPY_MODEL_6d9eac699cb64c73a3c126390326d972"
      }
     },
     "73d0d55a80fb4b46af12d2204acdc0cd": {
      "model_module": "@jupyter-widgets/controls",
      "model_module_version": "2.0.0",
      "model_name": "HTMLStyleModel",
      "state": {
       "description_width": "",
       "font_size": null,
       "text_color": null
      }
     },
     "745311f7f657492e8b1660a9f6c46a24": {
      "model_module": "@jupyter-widgets/base",
      "model_module_version": "2.0.0",
      "model_name": "LayoutModel",
      "state": {}
     },
     "74607dba9cb440a680ff279368207967": {
      "model_module": "@jupyter-widgets/controls",
      "model_module_version": "2.0.0",
      "model_name": "HTMLModel",
      "state": {
       "layout": "IPY_MODEL_4b75921a0d104cc5b47dcfd011122421",
       "style": "IPY_MODEL_98061d69cdf14e4e844eef690bcf038d",
       "value": "Scanning for nodes in hook.frame__tpch__customer...: 100%"
      }
     },
     "74706e2666db4e739da75f418366ef57": {
      "model_module": "@jupyter-widgets/base",
      "model_module_version": "2.0.0",
      "model_name": "LayoutModel",
      "state": {}
     },
     "74729095cd0e4d938d766681d2db9f2c": {
      "model_module": "@jupyter-widgets/controls",
      "model_module_version": "2.0.0",
      "model_name": "HTMLModel",
      "state": {
       "layout": "IPY_MODEL_9df26e21613248f7ba49114217b8372c",
       "style": "IPY_MODEL_b96abf9ad62842c8aabfbd94b4f9f582",
       "value": "Scanning hook.frame__tpch__lineitem: 100%"
      }
     },
     "747b862b66da42a6a8ae504944551fcb": {
      "model_module": "@jupyter-widgets/controls",
      "model_module_version": "2.0.0",
      "model_name": "FloatProgressModel",
      "state": {
       "bar_style": "success",
       "layout": "IPY_MODEL_f2bc951a540e4139896365acd018b19c",
       "max": 4,
       "style": "IPY_MODEL_aa6e86e989104f60ab8bbe9f2daffc54",
       "value": 4
      }
     },
     "748405a034f14599961c0a6d49da13f6": {
      "model_module": "@jupyter-widgets/controls",
      "model_module_version": "2.0.0",
      "model_name": "ProgressStyleModel",
      "state": {
       "description_width": ""
      }
     },
     "748feb6ff5a246f194fe2f7271a23f72": {
      "model_module": "@jupyter-widgets/base",
      "model_module_version": "2.0.0",
      "model_name": "LayoutModel",
      "state": {}
     },
     "74a434cdc2a248758aca417311edd79a": {
      "model_module": "@jupyter-widgets/controls",
      "model_module_version": "2.0.0",
      "model_name": "FloatProgressModel",
      "state": {
       "bar_style": "success",
       "layout": "IPY_MODEL_1c8ad758e79948048029ac1e10dbaa4b",
       "max": 1,
       "style": "IPY_MODEL_5f98daafb3cc4395a8da74732bf56985",
       "value": 1
      }
     },
     "74a885fe4a23417b84eccc2f281a573a": {
      "model_module": "@jupyter-widgets/controls",
      "model_module_version": "2.0.0",
      "model_name": "FloatProgressModel",
      "state": {
       "bar_style": "success",
       "layout": "IPY_MODEL_57673979c42e499fa686911675c95116",
       "max": 2,
       "style": "IPY_MODEL_f3883710b32645669e1c0fb2679cd73a",
       "value": 2
      }
     },
     "74c79dff79bb4cad8933ded98f911a3d": {
      "model_module": "@jupyter-widgets/controls",
      "model_module_version": "2.0.0",
      "model_name": "FloatProgressModel",
      "state": {
       "bar_style": "success",
       "layout": "IPY_MODEL_eda9911106d643a2be0f9cce86301c6f",
       "max": 4,
       "style": "IPY_MODEL_f9d52198b3df4b6c9695ffc2782dbb60",
       "value": 4
      }
     },
     "74cae6befd8948ee891d1967c77f20d2": {
      "model_module": "@jupyter-widgets/controls",
      "model_module_version": "2.0.0",
      "model_name": "HTMLModel",
      "state": {
       "layout": "IPY_MODEL_41f829bc121c47f58029a974e076dec8",
       "style": "IPY_MODEL_b640ca0896d8498b964bfc23ce57bdea",
       "value": " 2/2 [00:01&lt;00:00,  1.41it/s]"
      }
     },
     "74d2e79cfb484715aa4a239549bec375": {
      "model_module": "@jupyter-widgets/controls",
      "model_module_version": "2.0.0",
      "model_name": "HTMLModel",
      "state": {
       "layout": "IPY_MODEL_086f97dba65744cbbdbe01526341fad0",
       "style": "IPY_MODEL_03c6cb16f31e4a79b619e8abb11a984d",
       "value": "Scanning for nodes...: 100%"
      }
     },
     "74ffed13e10546a3a7f02208bf154a81": {
      "model_module": "@jupyter-widgets/base",
      "model_module_version": "2.0.0",
      "model_name": "LayoutModel",
      "state": {}
     },
     "75033535b3e9444c8f7315970cd826a3": {
      "model_module": "@jupyter-widgets/base",
      "model_module_version": "2.0.0",
      "model_name": "LayoutModel",
      "state": {}
     },
     "75034023ecff4729bf32c31f74d32298": {
      "model_module": "@jupyter-widgets/controls",
      "model_module_version": "2.0.0",
      "model_name": "HTMLModel",
      "state": {
       "layout": "IPY_MODEL_12837fba86d842c4b7cb2fed2e0f16a4",
       "style": "IPY_MODEL_e6a9da8f31d8462497f0b37323ff8ac6",
       "value": " 4/4 [00:32&lt;00:00,  8.37s/it]"
      }
     },
     "750d7f2dc3a44595a0c1ea3bc4b21d5d": {
      "model_module": "@jupyter-widgets/base",
      "model_module_version": "2.0.0",
      "model_name": "LayoutModel",
      "state": {}
     },
     "752a8b8aa92646a48b59d7287d2a8c1d": {
      "model_module": "@jupyter-widgets/base",
      "model_module_version": "2.0.0",
      "model_name": "LayoutModel",
      "state": {}
     },
     "75302c79b1154b2ca9defed37908555c": {
      "model_module": "@jupyter-widgets/base",
      "model_module_version": "2.0.0",
      "model_name": "LayoutModel",
      "state": {
       "visibility": "hidden"
      }
     },
     "75311b0e3c7b4186a420ceecd5a3c1e2": {
      "model_module": "@jupyter-widgets/controls",
      "model_module_version": "2.0.0",
      "model_name": "HTMLStyleModel",
      "state": {
       "description_width": "",
       "font_size": null,
       "text_color": null
      }
     },
     "7531c5cd57634d3887ae4f2d0826a933": {
      "model_module": "@jupyter-widgets/controls",
      "model_module_version": "2.0.0",
      "model_name": "HTMLStyleModel",
      "state": {
       "description_width": "",
       "font_size": null,
       "text_color": null
      }
     },
     "75594597a98c45e592066b69e7842fa6": {
      "model_module": "@jupyter-widgets/controls",
      "model_module_version": "2.0.0",
      "model_name": "HTMLStyleModel",
      "state": {
       "description_width": "",
       "font_size": null,
       "text_color": null
      }
     },
     "7560760b3cc84dd0888ee17c141102b3": {
      "model_module": "@jupyter-widgets/controls",
      "model_module_version": "2.0.0",
      "model_name": "ProgressStyleModel",
      "state": {
       "description_width": ""
      }
     },
     "7598ac631a1d44ecb278a079e2fa69be": {
      "model_module": "@jupyter-widgets/controls",
      "model_module_version": "2.0.0",
      "model_name": "ProgressStyleModel",
      "state": {
       "description_width": ""
      }
     },
     "75b0d2d8b3ab47319feb36d230c70e53": {
      "model_module": "@jupyter-widgets/controls",
      "model_module_version": "2.0.0",
      "model_name": "FloatProgressModel",
      "state": {
       "bar_style": "success",
       "layout": "IPY_MODEL_62ce5a5b2e3742b38149fe60ff8404b0",
       "max": 2,
       "style": "IPY_MODEL_14f9d89b27b548199a83201352d0e915",
       "value": 2
      }
     },
     "75bbd18dba34458ebc8e1a0d574e92b9": {
      "model_module": "@jupyter-widgets/base",
      "model_module_version": "2.0.0",
      "model_name": "LayoutModel",
      "state": {}
     },
     "75e1ae2ef34044c383c1b767fb625cfb": {
      "model_module": "@jupyter-widgets/controls",
      "model_module_version": "2.0.0",
      "model_name": "HTMLModel",
      "state": {
       "layout": "IPY_MODEL_0d4af63ed8e44f6eb5e35387bdd21a77",
       "style": "IPY_MODEL_0278030ae04e4087b56412167fee138e",
       "value": "hook.frame__tpch__orders: 100%"
      }
     },
     "75f35515d9664853bf1449be9ffab2a8": {
      "model_module": "@jupyter-widgets/base",
      "model_module_version": "2.0.0",
      "model_name": "LayoutModel",
      "state": {}
     },
     "7608b0502e3842dfb0a5638e3ed76f69": {
      "model_module": "@jupyter-widgets/base",
      "model_module_version": "2.0.0",
      "model_name": "LayoutModel",
      "state": {
       "visibility": "hidden"
      }
     },
     "760b580b1d7c4a9ab8515f06273ed923": {
      "model_module": "@jupyter-widgets/base",
      "model_module_version": "2.0.0",
      "model_name": "LayoutModel",
      "state": {}
     },
     "7642893a236047c7a3437bd86928ac8f": {
      "model_module": "@jupyter-widgets/base",
      "model_module_version": "2.0.0",
      "model_name": "LayoutModel",
      "state": {}
     },
     "766d3a12c36a458c8057077570afd77e": {
      "model_module": "@jupyter-widgets/base",
      "model_module_version": "2.0.0",
      "model_name": "LayoutModel",
      "state": {}
     },
     "76a00a64cf8d4cc2a4a22927415fa2ee": {
      "model_module": "@jupyter-widgets/controls",
      "model_module_version": "2.0.0",
      "model_name": "HTMLModel",
      "state": {
       "layout": "IPY_MODEL_d7b2ce0f5ccf4bfe92dc9756e6d5af7b",
       "style": "IPY_MODEL_6fea5ff9bd314f9fbf81fa6d816b4d7f",
       "value": " 2/2 [00:01&lt;00:00,  1.38it/s]"
      }
     },
     "76bb00b638c945ea9e28571bd76893ae": {
      "model_module": "@jupyter-widgets/controls",
      "model_module_version": "2.0.0",
      "model_name": "HTMLModel",
      "state": {
       "layout": "IPY_MODEL_b2d411fe033a435ea6108cf6c951a713",
       "style": "IPY_MODEL_9eaf1e5761644a8a84de3e7766f6e6f9",
       "value": " 2/2 [00:02&lt;00:00,  1.18s/it]"
      }
     },
     "772906602e3d4cbb84604760ed4ea999": {
      "model_module": "@jupyter-widgets/controls",
      "model_module_version": "2.0.0",
      "model_name": "HBoxModel",
      "state": {
       "children": [
        "IPY_MODEL_26713ba57f5047649ef774e665cb089b",
        "IPY_MODEL_6394a27c50444e89bf8ebf449e30d8c6",
        "IPY_MODEL_95ec72cb80cb4afbba63bbff7d2239d7"
       ],
       "layout": "IPY_MODEL_63219c41b1b6456483624f65c28f2221"
      }
     },
     "772ad0c6ba494a1ebddb12d898775aea": {
      "model_module": "@jupyter-widgets/base",
      "model_module_version": "2.0.0",
      "model_name": "LayoutModel",
      "state": {}
     },
     "7754b6d474a24c67b18fdd5975df1a38": {
      "model_module": "@jupyter-widgets/base",
      "model_module_version": "2.0.0",
      "model_name": "LayoutModel",
      "state": {}
     },
     "775bed2a7b0f47968395d18fdd02580f": {
      "model_module": "@jupyter-widgets/base",
      "model_module_version": "2.0.0",
      "model_name": "LayoutModel",
      "state": {}
     },
     "77751a579d1541b19a9ef34b08cf5bef": {
      "model_module": "@jupyter-widgets/controls",
      "model_module_version": "2.0.0",
      "model_name": "HTMLStyleModel",
      "state": {
       "description_width": "",
       "font_size": null,
       "text_color": null
      }
     },
     "777b8c10f760416dbac70dd5d961a42c": {
      "model_module": "@jupyter-widgets/base",
      "model_module_version": "2.0.0",
      "model_name": "LayoutModel",
      "state": {}
     },
     "7794039e851a44d5986bad7d39983395": {
      "model_module": "@jupyter-widgets/base",
      "model_module_version": "2.0.0",
      "model_name": "LayoutModel",
      "state": {}
     },
     "779acd58e24c4b2ba9e442b6f4fa4c4a": {
      "model_module": "@jupyter-widgets/controls",
      "model_module_version": "2.0.0",
      "model_name": "HTMLModel",
      "state": {
       "layout": "IPY_MODEL_bcd22b536a544f99a1cd314750f77179",
       "style": "IPY_MODEL_dc0f31f491e54eb18d6556a5ef472c49",
       "value": " 2/2 [00:01&lt;00:00,  1.69it/s]"
      }
     },
     "77b045fefa8d4e6cac19966b0656e4bf": {
      "model_module": "@jupyter-widgets/controls",
      "model_module_version": "2.0.0",
      "model_name": "HTMLModel",
      "state": {
       "layout": "IPY_MODEL_29482f5906b24ac8ba9ef6f6d7a63f8e",
       "style": "IPY_MODEL_7bdf313f9960434598f2b5ba59201471",
       "value": " 0/1 [00:00&lt;?, ?it/s]"
      }
     },
     "77b9678b3ca74c25a7a12030108b575c": {
      "model_module": "@jupyter-widgets/controls",
      "model_module_version": "2.0.0",
      "model_name": "HBoxModel",
      "state": {
       "children": [
        "IPY_MODEL_793df1bd9dc44e218f10df2a0f383c8e",
        "IPY_MODEL_48483e6f36174ed8a275b5508f1950af",
        "IPY_MODEL_de8b3ee4aef247aa9b96a18aa2672090"
       ],
       "layout": "IPY_MODEL_6a96bf6e55d74eca87816cf733165a61"
      }
     },
     "77f3756056f64538aaf548ad0d9934a6": {
      "model_module": "@jupyter-widgets/base",
      "model_module_version": "2.0.0",
      "model_name": "LayoutModel",
      "state": {}
     },
     "780e2140794a4827a35e9e700c6911e1": {
      "model_module": "@jupyter-widgets/controls",
      "model_module_version": "2.0.0",
      "model_name": "HTMLModel",
      "state": {
       "layout": "IPY_MODEL_30141bd4d0684e45b3a955c11942e69c",
       "style": "IPY_MODEL_72c6f3678b354cb1ae859c4ee81ba724",
       "value": " 1/? [00:00&lt;00:00, 195.98it/s]"
      }
     },
     "781ec80c466d4b8fa9bf3254295ab974": {
      "model_module": "@jupyter-widgets/base",
      "model_module_version": "2.0.0",
      "model_name": "LayoutModel",
      "state": {}
     },
     "782fcfeab87840b7867069b8fdb191cf": {
      "model_module": "@jupyter-widgets/base",
      "model_module_version": "2.0.0",
      "model_name": "LayoutModel",
      "state": {}
     },
     "783d322718ee4aafbbd06f03f9aeb356": {
      "model_module": "@jupyter-widgets/controls",
      "model_module_version": "2.0.0",
      "model_name": "HTMLStyleModel",
      "state": {
       "description_width": "",
       "font_size": null,
       "text_color": null
      }
     },
     "78779b21ee6443eba68dc76d8f4f399b": {
      "model_module": "@jupyter-widgets/controls",
      "model_module_version": "2.0.0",
      "model_name": "HTMLModel",
      "state": {
       "layout": "IPY_MODEL_5da61859fe9a4d96b85e282d3ff693ca",
       "style": "IPY_MODEL_5fc067f3c8884064acaad37d6f60d72d",
       "value": "hook.frame__tpch__part:  50%"
      }
     },
     "7878df3c102c45fbb5b936bc24fb1c36": {
      "model_module": "@jupyter-widgets/controls",
      "model_module_version": "2.0.0",
      "model_name": "FloatProgressModel",
      "state": {
       "bar_style": "success",
       "layout": "IPY_MODEL_b99fe88fed46494e93d6c5d34da223a6",
       "max": 1,
       "style": "IPY_MODEL_7560760b3cc84dd0888ee17c141102b3",
       "value": 1
      }
     },
     "789ba260ab57476986d909e6000c10f0": {
      "model_module": "@jupyter-widgets/controls",
      "model_module_version": "2.0.0",
      "model_name": "ProgressStyleModel",
      "state": {
       "description_width": ""
      }
     },
     "78a3e6cf0ba04a3e8615e36831649c5d": {
      "model_module": "@jupyter-widgets/base",
      "model_module_version": "2.0.0",
      "model_name": "LayoutModel",
      "state": {}
     },
     "78c6a3943b80438aa925d1ec1e15fd6d": {
      "model_module": "@jupyter-widgets/controls",
      "model_module_version": "2.0.0",
      "model_name": "HTMLModel",
      "state": {
       "layout": "IPY_MODEL_6cf71a32523743d4a96ec1c1be2eebac",
       "style": "IPY_MODEL_4f2a330543c0440197594333f4360a94",
       "value": "hook.frame__tpch__customer: nodes...: 100%"
      }
     },
     "78d76268b8344c618442313e3405a180": {
      "model_module": "@jupyter-widgets/base",
      "model_module_version": "2.0.0",
      "model_name": "LayoutModel",
      "state": {}
     },
     "78e0efd3b14d49ac9dc51137797de2b6": {
      "model_module": "@jupyter-widgets/controls",
      "model_module_version": "2.0.0",
      "model_name": "FloatProgressModel",
      "state": {
       "layout": "IPY_MODEL_5a6afc0dc12d4d8890663c860b0d52c1",
       "max": 2,
       "style": "IPY_MODEL_91cd1ce38f1c4b7e8e635aac51f0c14c",
       "value": 2
      }
     },
     "78ef955a5476471eb3ada0ffe60eded8": {
      "model_module": "@jupyter-widgets/base",
      "model_module_version": "2.0.0",
      "model_name": "LayoutModel",
      "state": {}
     },
     "792f57cb8e4343e98893e37f35f2e675": {
      "model_module": "@jupyter-widgets/base",
      "model_module_version": "2.0.0",
      "model_name": "LayoutModel",
      "state": {}
     },
     "793633ce693b4ce5be50e370b204260d": {
      "model_module": "@jupyter-widgets/controls",
      "model_module_version": "2.0.0",
      "model_name": "HTMLStyleModel",
      "state": {
       "description_width": "",
       "font_size": null,
       "text_color": null
      }
     },
     "793df1bd9dc44e218f10df2a0f383c8e": {
      "model_module": "@jupyter-widgets/controls",
      "model_module_version": "2.0.0",
      "model_name": "HTMLModel",
      "state": {
       "layout": "IPY_MODEL_18f50d9fd05b411899afcf16f2e1e822",
       "style": "IPY_MODEL_14936d6bb87b416ba7b0188115e50f62",
       "value": "Scanning for edges...:   0%"
      }
     },
     "797a64e7059a4ef1a4fcbc791cffdb33": {
      "model_module": "@jupyter-widgets/controls",
      "model_module_version": "2.0.0",
      "model_name": "HTMLStyleModel",
      "state": {
       "description_width": "",
       "font_size": null,
       "text_color": null
      }
     },
     "798e682e3b074744968056a9d06d31c8": {
      "model_module": "@jupyter-widgets/base",
      "model_module_version": "2.0.0",
      "model_name": "LayoutModel",
      "state": {}
     },
     "79c47aaae9d44a93bd9d1459b6d27d7e": {
      "model_module": "@jupyter-widgets/controls",
      "model_module_version": "2.0.0",
      "model_name": "FloatProgressModel",
      "state": {
       "bar_style": "success",
       "layout": "IPY_MODEL_3156754761ec4cb0a476bb60d348dd3e",
       "max": 8,
       "style": "IPY_MODEL_c65777221cb54296bf5eab53e4a3f80e",
       "value": 8
      }
     },
     "79c61d5bba414d14b40148163566c1cf": {
      "model_module": "@jupyter-widgets/base",
      "model_module_version": "2.0.0",
      "model_name": "LayoutModel",
      "state": {
       "visibility": "hidden"
      }
     },
     "7a16cbd5ce1840b6b1caa015b8f38aae": {
      "model_module": "@jupyter-widgets/controls",
      "model_module_version": "2.0.0",
      "model_name": "ProgressStyleModel",
      "state": {
       "description_width": ""
      }
     },
     "7a223de2035b4fabbb754ec9f4644e6f": {
      "model_module": "@jupyter-widgets/controls",
      "model_module_version": "2.0.0",
      "model_name": "HTMLStyleModel",
      "state": {
       "description_width": "",
       "font_size": null,
       "text_color": null
      }
     },
     "7a3d2efefbb1408593076e46c5392d35": {
      "model_module": "@jupyter-widgets/controls",
      "model_module_version": "2.0.0",
      "model_name": "HTMLModel",
      "state": {
       "layout": "IPY_MODEL_78d76268b8344c618442313e3405a180",
       "style": "IPY_MODEL_b8dc1e225e344c5c9035db2154eac480",
       "value": " 1/2 [00:01&lt;00:01,  1.41s/it]"
      }
     },
     "7a3ec8a590fc478f84a55a4a1fc0075b": {
      "model_module": "@jupyter-widgets/controls",
      "model_module_version": "2.0.0",
      "model_name": "HBoxModel",
      "state": {
       "children": [
        "IPY_MODEL_9bfb3a5b41eb404f8a9d6c6ccea889b5",
        "IPY_MODEL_9dab8f6e19804e75847acff0a483bf0f",
        "IPY_MODEL_c715872b51f84e78a24d8e9f7088be8b"
       ],
       "layout": "IPY_MODEL_14ad9f1ac4834fdea4e3be93fcf03d2c"
      }
     },
     "7a520d118d7c4377adf29c2d546304b6": {
      "model_module": "@jupyter-widgets/base",
      "model_module_version": "2.0.0",
      "model_name": "LayoutModel",
      "state": {}
     },
     "7a5b8edad171422080b5a3bb5d140432": {
      "model_module": "@jupyter-widgets/base",
      "model_module_version": "2.0.0",
      "model_name": "LayoutModel",
      "state": {}
     },
     "7a9efb18b1744d06a19b2676840bc693": {
      "model_module": "@jupyter-widgets/controls",
      "model_module_version": "2.0.0",
      "model_name": "HTMLModel",
      "state": {
       "layout": "IPY_MODEL_44e1eee023984bb99ddf12a12b87ae59",
       "style": "IPY_MODEL_176e2363593041608add8fbd3ecf05e4",
       "value": "Scanning for nodes...: 100%"
      }
     },
     "7aaadd9836be497687e9564a41ae1336": {
      "model_module": "@jupyter-widgets/base",
      "model_module_version": "2.0.0",
      "model_name": "LayoutModel",
      "state": {}
     },
     "7aaf83ff85804f0885e99157500cc5ff": {
      "model_module": "@jupyter-widgets/controls",
      "model_module_version": "2.0.0",
      "model_name": "HTMLModel",
      "state": {
       "layout": "IPY_MODEL_b4a412e1fd364a58a2ed26e100f6d8f9",
       "style": "IPY_MODEL_6887bbfc36244291a5d3a82103895f94",
       "value": " 3/3 [00:05&lt;00:00,  1.78s/it]"
      }
     },
     "7ab0a0a5b1614714a1e3c5c79a0166bc": {
      "model_module": "@jupyter-widgets/base",
      "model_module_version": "2.0.0",
      "model_name": "LayoutModel",
      "state": {}
     },
     "7ab6a7d73b554ddab83542d0d8f2d1bf": {
      "model_module": "@jupyter-widgets/controls",
      "model_module_version": "2.0.0",
      "model_name": "HTMLModel",
      "state": {
       "layout": "IPY_MODEL_8a66d07ef315446e81a3d4929d96c685",
       "style": "IPY_MODEL_b03584aad2b5487b992ea50ce6e74a3d",
       "value": "hook.frame__tpch__orders: 100%"
      }
     },
     "7ad3bc271a8f44acad26ab26a027d44d": {
      "model_module": "@jupyter-widgets/controls",
      "model_module_version": "2.0.0",
      "model_name": "HTMLStyleModel",
      "state": {
       "description_width": "",
       "font_size": null,
       "text_color": null
      }
     },
     "7ae7372393c54551a31959dd92be2c44": {
      "model_module": "@jupyter-widgets/controls",
      "model_module_version": "2.0.0",
      "model_name": "HTMLStyleModel",
      "state": {
       "description_width": "",
       "font_size": null,
       "text_color": null
      }
     },
     "7af029f5fa2c4f9984c69570e502d004": {
      "model_module": "@jupyter-widgets/controls",
      "model_module_version": "2.0.0",
      "model_name": "FloatProgressModel",
      "state": {
       "bar_style": "success",
       "layout": "IPY_MODEL_75f35515d9664853bf1449be9ffab2a8",
       "max": 2,
       "style": "IPY_MODEL_789ba260ab57476986d909e6000c10f0",
       "value": 2
      }
     },
     "7af2fea7dd264d6ebeff8c4242637c0f": {
      "model_module": "@jupyter-widgets/controls",
      "model_module_version": "2.0.0",
      "model_name": "HTMLModel",
      "state": {
       "layout": "IPY_MODEL_115e26fccfcc418b855095729e233120",
       "style": "IPY_MODEL_836df2c555714592879351bc2ca8d843",
       "value": " 2/2 [00:05&lt;00:00,  5.90s/it]"
      }
     },
     "7af9cb97f03a40fc946b22988b705dd5": {
      "model_module": "@jupyter-widgets/controls",
      "model_module_version": "2.0.0",
      "model_name": "HTMLStyleModel",
      "state": {
       "description_width": "",
       "font_size": null,
       "text_color": null
      }
     },
     "7b31a6ed397a4fae94f017bd1d1868f2": {
      "model_module": "@jupyter-widgets/base",
      "model_module_version": "2.0.0",
      "model_name": "LayoutModel",
      "state": {}
     },
     "7b48c68bb3404ff993c2329cd6649e46": {
      "model_module": "@jupyter-widgets/controls",
      "model_module_version": "2.0.0",
      "model_name": "HTMLModel",
      "state": {
       "layout": "IPY_MODEL_b6512d0370ef40bb9576eec6b7fb76af",
       "style": "IPY_MODEL_9e8679a5054e4503b8f68bf1cd81d265",
       "value": "hook.frame__tpch__customer: 100%"
      }
     },
     "7b5871b539754801968864bf5e4023b1": {
      "model_module": "@jupyter-widgets/controls",
      "model_module_version": "2.0.0",
      "model_name": "HBoxModel",
      "state": {
       "children": [
        "IPY_MODEL_a1540029b08640beb1480a994cd1dc51",
        "IPY_MODEL_d44dd7319a9d4714946f8228ac2dda83",
        "IPY_MODEL_2eef707141874257aa3aff7cbe5d24a5"
       ],
       "layout": "IPY_MODEL_2d321e7ce66b46e3b7d21f2212f7c699"
      }
     },
     "7b7abfc8ff6349f397f67f3ee6c80c30": {
      "model_module": "@jupyter-widgets/base",
      "model_module_version": "2.0.0",
      "model_name": "LayoutModel",
      "state": {}
     },
     "7b7d999ad4cf4315b42494f3efa7846f": {
      "model_module": "@jupyter-widgets/controls",
      "model_module_version": "2.0.0",
      "model_name": "ProgressStyleModel",
      "state": {
       "description_width": ""
      }
     },
     "7b8dc8ca1ba9496d8fb104e13b1f130e": {
      "model_module": "@jupyter-widgets/controls",
      "model_module_version": "2.0.0",
      "model_name": "HBoxModel",
      "state": {
       "children": [
        "IPY_MODEL_17fab7c096834f17a3436a2bd07947f9",
        "IPY_MODEL_8a31855ee7124522a6207d4d545e2bd6",
        "IPY_MODEL_f907282f8d714b13a51516868d55394b"
       ],
       "layout": "IPY_MODEL_9a723fdc79a3483b81d588c31e6184df"
      }
     },
     "7bdf313f9960434598f2b5ba59201471": {
      "model_module": "@jupyter-widgets/controls",
      "model_module_version": "2.0.0",
      "model_name": "HTMLStyleModel",
      "state": {
       "description_width": "",
       "font_size": null,
       "text_color": null
      }
     },
     "7beeda6252774d26ad946e689ec8beb5": {
      "model_module": "@jupyter-widgets/controls",
      "model_module_version": "2.0.0",
      "model_name": "FloatProgressModel",
      "state": {
       "bar_style": "success",
       "layout": "IPY_MODEL_ea4adfde54044a0b89c1ef222873e489",
       "max": 2,
       "style": "IPY_MODEL_43389149bd4543e1a9209e0cf187c0d1",
       "value": 2
      }
     },
     "7c04383b62e348fc89440c37ec41f4ae": {
      "model_module": "@jupyter-widgets/base",
      "model_module_version": "2.0.0",
      "model_name": "LayoutModel",
      "state": {}
     },
     "7c344e867e8041c393aa80f3cba17581": {
      "model_module": "@jupyter-widgets/controls",
      "model_module_version": "2.0.0",
      "model_name": "HTMLModel",
      "state": {
       "layout": "IPY_MODEL_d257756fa7834e149bfcae4279373f77",
       "style": "IPY_MODEL_783d322718ee4aafbbd06f03f9aeb356",
       "value": " 1/1 [00:00&lt;00:00,  1.17it/s]"
      }
     },
     "7c35d1862b3f419985db9947906f7ef8": {
      "model_module": "@jupyter-widgets/controls",
      "model_module_version": "2.0.0",
      "model_name": "FloatProgressModel",
      "state": {
       "bar_style": "success",
       "layout": "IPY_MODEL_eecd6ea075b54b0fbafb1fe05b83542e",
       "max": 2,
       "style": "IPY_MODEL_5d4dbe54dd754e2db0519996cc7fdfc9",
       "value": 2
      }
     },
     "7c5d8f1464304910a1d95ae21b80eab9": {
      "model_module": "@jupyter-widgets/base",
      "model_module_version": "2.0.0",
      "model_name": "LayoutModel",
      "state": {}
     },
     "7c6cc757058242d3956713a7e6a059b0": {
      "model_module": "@jupyter-widgets/base",
      "model_module_version": "2.0.0",
      "model_name": "LayoutModel",
      "state": {}
     },
     "7c966f61cff64a6fab65cb7e9418735d": {
      "model_module": "@jupyter-widgets/base",
      "model_module_version": "2.0.0",
      "model_name": "LayoutModel",
      "state": {}
     },
     "7ca77359a29b4376b33d0b093cbc7edf": {
      "model_module": "@jupyter-widgets/base",
      "model_module_version": "2.0.0",
      "model_name": "LayoutModel",
      "state": {}
     },
     "7ce60418c33c477c8687b701d9a8277b": {
      "model_module": "@jupyter-widgets/controls",
      "model_module_version": "2.0.0",
      "model_name": "HTMLModel",
      "state": {
       "layout": "IPY_MODEL_5e74eb24477c4fb7a034eb8c1496d623",
       "style": "IPY_MODEL_89dc83fe700c40e285b3de2f76c8054c",
       "value": " 1/1 [00:00&lt;00:00, 212.24it/s]"
      }
     },
     "7ce90a37dffb4c62a27fcb366141855d": {
      "model_module": "@jupyter-widgets/controls",
      "model_module_version": "2.0.0",
      "model_name": "HTMLStyleModel",
      "state": {
       "description_width": "",
       "font_size": null,
       "text_color": null
      }
     },
     "7d16db5f57734cb7a53c6d609a703e2c": {
      "model_module": "@jupyter-widgets/controls",
      "model_module_version": "2.0.0",
      "model_name": "HTMLStyleModel",
      "state": {
       "description_width": "",
       "font_size": null,
       "text_color": null
      }
     },
     "7d1ea4fbd394480abfdae8cbcdf265c7": {
      "model_module": "@jupyter-widgets/base",
      "model_module_version": "2.0.0",
      "model_name": "LayoutModel",
      "state": {}
     },
     "7d54c599f35d46d089eedf4f3c7ccb0f": {
      "model_module": "@jupyter-widgets/controls",
      "model_module_version": "2.0.0",
      "model_name": "HBoxModel",
      "state": {
       "children": [
        "IPY_MODEL_e6839ebff97e42f381772601d629ef5a",
        "IPY_MODEL_e07b1f1ffbe748638450fd7f7ab4ba26",
        "IPY_MODEL_4adfc472cb2249748afd71c983c29d5c"
       ],
       "layout": "IPY_MODEL_327e0fefe63c40e7a9a7a717adfd0ebe"
      }
     },
     "7d6a77c18c024421bb578da0a7be6cc8": {
      "model_module": "@jupyter-widgets/controls",
      "model_module_version": "2.0.0",
      "model_name": "HTMLModel",
      "state": {
       "layout": "IPY_MODEL_9fa720cca2e249138874447bfd53ef63",
       "style": "IPY_MODEL_58119678325340b6a4003d710db854ac",
       "value": "hook.frame__tpch__customer: 100%"
      }
     },
     "7d8a1f73f0e647a280612cde4834233f": {
      "model_module": "@jupyter-widgets/base",
      "model_module_version": "2.0.0",
      "model_name": "LayoutModel",
      "state": {}
     },
     "7db037e3af53421b8b01f82779065133": {
      "model_module": "@jupyter-widgets/base",
      "model_module_version": "2.0.0",
      "model_name": "LayoutModel",
      "state": {}
     },
     "7db157a7b0714afc8498b84a5f12fc04": {
      "model_module": "@jupyter-widgets/controls",
      "model_module_version": "2.0.0",
      "model_name": "HTMLStyleModel",
      "state": {
       "description_width": "",
       "font_size": null,
       "text_color": null
      }
     },
     "7dc64e5200964ec6af9d351a024ab9e1": {
      "model_module": "@jupyter-widgets/controls",
      "model_module_version": "2.0.0",
      "model_name": "FloatProgressModel",
      "state": {
       "bar_style": "success",
       "layout": "IPY_MODEL_53a3b25f151d4bd38cccfad80352dfb6",
       "max": 2,
       "style": "IPY_MODEL_b7440a7736bf4e299a399a18f2d28ddc",
       "value": 2
      }
     },
     "7dcac37c4d8748629705f307d0ddebcd": {
      "model_module": "@jupyter-widgets/base",
      "model_module_version": "2.0.0",
      "model_name": "LayoutModel",
      "state": {}
     },
     "7dcaf99861ae4b4e832f05bed79f81f2": {
      "model_module": "@jupyter-widgets/controls",
      "model_module_version": "2.0.0",
      "model_name": "HTMLModel",
      "state": {
       "layout": "IPY_MODEL_ffd916cde7fa4262beec886e090156c5",
       "style": "IPY_MODEL_37a622563c37435d83f357aaaaaba055",
       "value": " 2/2 [00:01&lt;00:00,  1.89it/s]"
      }
     },
     "7dd3cd51e0074d55bfd4e73bdaac33a6": {
      "model_module": "@jupyter-widgets/base",
      "model_module_version": "2.0.0",
      "model_name": "LayoutModel",
      "state": {}
     },
     "7df55effecf04cddb65208b88b211fe5": {
      "model_module": "@jupyter-widgets/controls",
      "model_module_version": "2.0.0",
      "model_name": "FloatProgressModel",
      "state": {
       "bar_style": "success",
       "layout": "IPY_MODEL_942ababa071c41418e3190ea14d0a206",
       "max": 2,
       "style": "IPY_MODEL_b16356d31f58460d9c26e68551c825c1",
       "value": 2
      }
     },
     "7e203d706a62424bbd98ae2eeef5098f": {
      "model_module": "@jupyter-widgets/controls",
      "model_module_version": "2.0.0",
      "model_name": "HTMLModel",
      "state": {
       "layout": "IPY_MODEL_3db77ebf23c24e96a7d72afc75deec36",
       "style": "IPY_MODEL_91b3cac9d1b54a19a5c824696037d3b9",
       "value": "Scanning for edges...:   0%"
      }
     },
     "7e2456e526254349acf09406af48f90d": {
      "model_module": "@jupyter-widgets/base",
      "model_module_version": "2.0.0",
      "model_name": "LayoutModel",
      "state": {}
     },
     "7e497aa155dd4d2388aa1deb5a5ed8cb": {
      "model_module": "@jupyter-widgets/base",
      "model_module_version": "2.0.0",
      "model_name": "LayoutModel",
      "state": {}
     },
     "7e6769bf31bb47178654fcdb41c1c933": {
      "model_module": "@jupyter-widgets/controls",
      "model_module_version": "2.0.0",
      "model_name": "FloatProgressModel",
      "state": {
       "layout": "IPY_MODEL_de80c545bde64086a4dd9f6d906743f3",
       "max": 2,
       "style": "IPY_MODEL_1573d7569b04467cbf03eb2a109f94e1",
       "value": 2
      }
     },
     "7eb094e4bd3246c7a4696503c3a48b2d": {
      "model_module": "@jupyter-widgets/controls",
      "model_module_version": "2.0.0",
      "model_name": "FloatProgressModel",
      "state": {
       "bar_style": "success",
       "layout": "IPY_MODEL_856cfd1eb3dc4a90a428e3e5c395375a",
       "max": 2,
       "style": "IPY_MODEL_d8cba2dd0d674d47b919c819024575dc",
       "value": 2
      }
     },
     "7ee0646961d7445ca37412682a6ff1f2": {
      "model_module": "@jupyter-widgets/controls",
      "model_module_version": "2.0.0",
      "model_name": "HTMLModel",
      "state": {
       "layout": "IPY_MODEL_0ac2af1b025947efa753f698e10df7ca",
       "style": "IPY_MODEL_444fbf773404401bb8eba44b89113c38",
       "value": " 4/4 [00:32&lt;00:00,  8.43s/it]"
      }
     },
     "7f1ac7069dd04075a0dc333560a606cf": {
      "model_module": "@jupyter-widgets/base",
      "model_module_version": "2.0.0",
      "model_name": "LayoutModel",
      "state": {}
     },
     "7f287800fff24ce381c53f0e7b8a93cb": {
      "model_module": "@jupyter-widgets/controls",
      "model_module_version": "2.0.0",
      "model_name": "FloatProgressModel",
      "state": {
       "layout": "IPY_MODEL_d12ee008abc7432cb40cbf1f0f4c0c13",
       "max": 2,
       "style": "IPY_MODEL_718550ad996241d29e43fb6df26e812c",
       "value": 2
      }
     },
     "7f560c80859e45de81d2921a11b6e930": {
      "model_module": "@jupyter-widgets/base",
      "model_module_version": "2.0.0",
      "model_name": "LayoutModel",
      "state": {}
     },
     "7f706c424f254038b87ee01ca407eb62": {
      "model_module": "@jupyter-widgets/controls",
      "model_module_version": "2.0.0",
      "model_name": "FloatProgressModel",
      "state": {
       "bar_style": "success",
       "layout": "IPY_MODEL_904bb29efe634d3799b4bb2a37ffaa0f",
       "max": 6,
       "style": "IPY_MODEL_481f6829c92a4a22bd0ce216ff19fc2e",
       "value": 6
      }
     },
     "7fcf2a6f86804103ad7afad86bd90216": {
      "model_module": "@jupyter-widgets/controls",
      "model_module_version": "2.0.0",
      "model_name": "HTMLModel",
      "state": {
       "layout": "IPY_MODEL_6fb40159314149d99eb78978771188f0",
       "style": "IPY_MODEL_a77f4152edb649368789eafd765a4cde",
       "value": " 2/2 [00:01&lt;00:00,  1.80it/s]"
      }
     },
     "8017ca8822004d428e145ec873e245e2": {
      "model_module": "@jupyter-widgets/controls",
      "model_module_version": "2.0.0",
      "model_name": "HBoxModel",
      "state": {
       "children": [
        "IPY_MODEL_51115e575ac44973bc42d7073cc3c531",
        "IPY_MODEL_8056d30458bc4ca782f6eb4e402ccc72",
        "IPY_MODEL_2b3f5c71a6a74e8f89ead702ce316e6b"
       ],
       "layout": "IPY_MODEL_3787105c419b4b068b66333c9206fbba"
      }
     },
     "801843d94e8e4548bf50e425cb0f4897": {
      "model_module": "@jupyter-widgets/controls",
      "model_module_version": "2.0.0",
      "model_name": "ProgressStyleModel",
      "state": {
       "description_width": ""
      }
     },
     "802a206ae61f4b49b2e25861247800e0": {
      "model_module": "@jupyter-widgets/controls",
      "model_module_version": "2.0.0",
      "model_name": "HTMLStyleModel",
      "state": {
       "description_width": "",
       "font_size": null,
       "text_color": null
      }
     },
     "802a51857b34421d918e4d1dd1559dc8": {
      "model_module": "@jupyter-widgets/controls",
      "model_module_version": "2.0.0",
      "model_name": "FloatProgressModel",
      "state": {
       "bar_style": "success",
       "layout": "IPY_MODEL_973a114ea649457aa45c5ffd229344a5",
       "max": 8,
       "style": "IPY_MODEL_e9bca1bde7eb4a8fbb8bc6c2109db5fb",
       "value": 8
      }
     },
     "8056d30458bc4ca782f6eb4e402ccc72": {
      "model_module": "@jupyter-widgets/controls",
      "model_module_version": "2.0.0",
      "model_name": "FloatProgressModel",
      "state": {
       "layout": "IPY_MODEL_55374ce178bd479db1b9ce8d87cf606b",
       "max": 1,
       "style": "IPY_MODEL_ce2cf3d15f8f4f25a62df1337b5ad29e",
       "value": 1
      }
     },
     "80694758c65348aba35509fbc45ac3f8": {
      "model_module": "@jupyter-widgets/base",
      "model_module_version": "2.0.0",
      "model_name": "LayoutModel",
      "state": {}
     },
     "807710e83fef4f5192b748dc0ef3594f": {
      "model_module": "@jupyter-widgets/controls",
      "model_module_version": "2.0.0",
      "model_name": "HBoxModel",
      "state": {
       "children": [
        "IPY_MODEL_444f5f19ccfd4c8ab6afb7d5d96468d4",
        "IPY_MODEL_690db8d298cb4ef0a2e62b4b4768aabc",
        "IPY_MODEL_377ccd3a34ad431ca1ed9662dd3f057d"
       ],
       "layout": "IPY_MODEL_6d39138bac3b415ea77df0f47a3a047c"
      }
     },
     "807b0a18e94f4ba69487798e0dbf8f76": {
      "model_module": "@jupyter-widgets/controls",
      "model_module_version": "2.0.0",
      "model_name": "HTMLStyleModel",
      "state": {
       "description_width": "",
       "font_size": null,
       "text_color": null
      }
     },
     "809cec1bff564790a955be3ec0eddf92": {
      "model_module": "@jupyter-widgets/base",
      "model_module_version": "2.0.0",
      "model_name": "LayoutModel",
      "state": {}
     },
     "80bfec5a776a4e7b80318815ced3bcd0": {
      "model_module": "@jupyter-widgets/controls",
      "model_module_version": "2.0.0",
      "model_name": "ProgressStyleModel",
      "state": {
       "description_width": ""
      }
     },
     "80c5062d9f5a421ebecc4be8472e9517": {
      "model_module": "@jupyter-widgets/controls",
      "model_module_version": "2.0.0",
      "model_name": "HTMLModel",
      "state": {
       "layout": "IPY_MODEL_df0ea418977f4fcf9f38d1b0218b47d3",
       "style": "IPY_MODEL_4c243e3539044fdf8de3fe2ad12a9dad",
       "value": " 2/2 [00:01&lt;00:00,  1.43s/it]"
      }
     },
     "80d58b53d0774ea9994fd93832a6631d": {
      "model_module": "@jupyter-widgets/controls",
      "model_module_version": "2.0.0",
      "model_name": "ProgressStyleModel",
      "state": {
       "description_width": ""
      }
     },
     "81023c127c2e4a38a981d2f8a157756d": {
      "model_module": "@jupyter-widgets/controls",
      "model_module_version": "2.0.0",
      "model_name": "FloatProgressModel",
      "state": {
       "bar_style": "success",
       "layout": "IPY_MODEL_ac863df5df9a4fccabe55a718ecc4e20",
       "max": 2,
       "style": "IPY_MODEL_a6de85b16c66457697ab2fab696932ba",
       "value": 2
      }
     },
     "81283aad5df04cca8d4fb1d58ba74147": {
      "model_module": "@jupyter-widgets/base",
      "model_module_version": "2.0.0",
      "model_name": "LayoutModel",
      "state": {}
     },
     "8134434cb4ec4366a1750b147b4742f5": {
      "model_module": "@jupyter-widgets/base",
      "model_module_version": "2.0.0",
      "model_name": "LayoutModel",
      "state": {}
     },
     "816e3f7689bc4812bee7628048ec5578": {
      "model_module": "@jupyter-widgets/base",
      "model_module_version": "2.0.0",
      "model_name": "LayoutModel",
      "state": {}
     },
     "8199a7975da94c98a7380d6f2e79f04b": {
      "model_module": "@jupyter-widgets/controls",
      "model_module_version": "2.0.0",
      "model_name": "HBoxModel",
      "state": {
       "children": [
        "IPY_MODEL_8ba0ff8d74444c0e80fc4532b082a273",
        "IPY_MODEL_acf7a642a1894311a43c174948923198",
        "IPY_MODEL_f138bc8ec4b14566abd4159ff685307a"
       ],
       "layout": "IPY_MODEL_6933053392ba4c2699c4247d9a41c1ed"
      }
     },
     "81b9c950cfdb4d7883502022b63f38cf": {
      "model_module": "@jupyter-widgets/controls",
      "model_module_version": "2.0.0",
      "model_name": "HBoxModel",
      "state": {
       "children": [
        "IPY_MODEL_50ea98afee344c2bb3889f1efb25f250",
        "IPY_MODEL_64a9297dc3794959b2b71631056a0b9d",
        "IPY_MODEL_a1e5989465184bd28a21e7c5ce7d48f0"
       ],
       "layout": "IPY_MODEL_45c9ce473cf84218998caf98f450a28d"
      }
     },
     "81df68f4510f4e3f996fa6093588a751": {
      "model_module": "@jupyter-widgets/controls",
      "model_module_version": "2.0.0",
      "model_name": "HTMLModel",
      "state": {
       "layout": "IPY_MODEL_c0367204aa4142199a6912e4fb9bd488",
       "style": "IPY_MODEL_9c7b40d841fa44ee87f21fd2dbd93bbb",
       "value": "Scanning for nodes...: 100%"
      }
     },
     "82377aa0a37c49e6a6804eadbb894f22": {
      "model_module": "@jupyter-widgets/controls",
      "model_module_version": "2.0.0",
      "model_name": "FloatProgressModel",
      "state": {
       "layout": "IPY_MODEL_3c2a6a9e1ef847178ca118ded120fcdf",
       "max": 2,
       "style": "IPY_MODEL_f98cb8dd32be46f0a6650ebe5101b848",
       "value": 2
      }
     },
     "824cd0076279428e996a458c63fc1102": {
      "model_module": "@jupyter-widgets/controls",
      "model_module_version": "2.0.0",
      "model_name": "HTMLModel",
      "state": {
       "layout": "IPY_MODEL_de1c71788e7e4150aef40b06ff730d89",
       "style": "IPY_MODEL_8bfb3fa61f994c45b1e5a51081ea2254",
       "value": " 0/1 [00:00&lt;?, ?it/s]"
      }
     },
     "8288561d210d4bfdb6652c0532d3646b": {
      "model_module": "@jupyter-widgets/controls",
      "model_module_version": "2.0.0",
      "model_name": "HTMLStyleModel",
      "state": {
       "description_width": "",
       "font_size": null,
       "text_color": null
      }
     },
     "829849edf6af48959c771b926a0d71e8": {
      "model_module": "@jupyter-widgets/controls",
      "model_module_version": "2.0.0",
      "model_name": "HTMLStyleModel",
      "state": {
       "description_width": "",
       "font_size": null,
       "text_color": null
      }
     },
     "82a278bc3c014023b0602739865c9a78": {
      "model_module": "@jupyter-widgets/base",
      "model_module_version": "2.0.0",
      "model_name": "LayoutModel",
      "state": {
       "visibility": "hidden"
      }
     },
     "82aa3970aa0546a0ac4c37dec31a0734": {
      "model_module": "@jupyter-widgets/controls",
      "model_module_version": "2.0.0",
      "model_name": "HBoxModel",
      "state": {
       "children": [
        "IPY_MODEL_f3019bc01246447188c77bad9a0aa76f",
        "IPY_MODEL_07eecd2f362e4d39a43cb954cc56e361",
        "IPY_MODEL_ae7f0b9902d041cd9ad6415d8c5a2589"
       ],
       "layout": "IPY_MODEL_ad210f75f6904fbe828bdb221aa2f768"
      }
     },
     "82d6b11b5b34494a80e0ef275fb3a034": {
      "model_module": "@jupyter-widgets/controls",
      "model_module_version": "2.0.0",
      "model_name": "HTMLModel",
      "state": {
       "layout": "IPY_MODEL_a2915029a3f64bed95de87123be9f58a",
       "style": "IPY_MODEL_2712c1077b324da087beca1c5d5943c6",
       "value": " 1/1 [00:00&lt;00:00, 201.18it/s]"
      }
     },
     "82d8c120e6824e66975b44c1bded555b": {
      "model_module": "@jupyter-widgets/base",
      "model_module_version": "2.0.0",
      "model_name": "LayoutModel",
      "state": {}
     },
     "82ea74a31130405aaaee8b754317ce5a": {
      "model_module": "@jupyter-widgets/controls",
      "model_module_version": "2.0.0",
      "model_name": "HTMLModel",
      "state": {
       "layout": "IPY_MODEL_f3475bcf6669465e9127c4157ad377d7",
       "style": "IPY_MODEL_2cb63b4088144fd7b4d4573266e79269",
       "value": "hook.frame__tpch__supplier: edges...: "
      }
     },
     "82ef72bf373447a599afc745f7611c3b": {
      "model_module": "@jupyter-widgets/controls",
      "model_module_version": "2.0.0",
      "model_name": "HBoxModel",
      "state": {
       "children": [
        "IPY_MODEL_15c3367946074bff905632991874ba9f",
        "IPY_MODEL_18907b2ec659416881f790e9782ca55d",
        "IPY_MODEL_7c344e867e8041c393aa80f3cba17581"
       ],
       "layout": "IPY_MODEL_2e7a8c7b15ea46a2bab8e207fda35f43"
      }
     },
     "82fc1b52c8fe4e4bb1aef5a7dba6393f": {
      "model_module": "@jupyter-widgets/controls",
      "model_module_version": "2.0.0",
      "model_name": "HTMLStyleModel",
      "state": {
       "description_width": "",
       "font_size": null,
       "text_color": null
      }
     },
     "82fd60e839fb42aa8b5a35f040a51c01": {
      "model_module": "@jupyter-widgets/base",
      "model_module_version": "2.0.0",
      "model_name": "LayoutModel",
      "state": {}
     },
     "830ba77e715d467997791610696d4ec2": {
      "model_module": "@jupyter-widgets/base",
      "model_module_version": "2.0.0",
      "model_name": "LayoutModel",
      "state": {}
     },
     "8327328c34c645b09862b581e9629c63": {
      "model_module": "@jupyter-widgets/controls",
      "model_module_version": "2.0.0",
      "model_name": "HTMLStyleModel",
      "state": {
       "description_width": "",
       "font_size": null,
       "text_color": null
      }
     },
     "836df2c555714592879351bc2ca8d843": {
      "model_module": "@jupyter-widgets/controls",
      "model_module_version": "2.0.0",
      "model_name": "HTMLStyleModel",
      "state": {
       "description_width": "",
       "font_size": null,
       "text_color": null
      }
     },
     "837624c15f5842b2970c054a61992816": {
      "model_module": "@jupyter-widgets/controls",
      "model_module_version": "2.0.0",
      "model_name": "HTMLStyleModel",
      "state": {
       "description_width": "",
       "font_size": null,
       "text_color": null
      }
     },
     "838033953ced459f9c69b0e07edc5097": {
      "model_module": "@jupyter-widgets/base",
      "model_module_version": "2.0.0",
      "model_name": "LayoutModel",
      "state": {}
     },
     "838f1741847b4fe3a5ac47d8f9a445d2": {
      "model_module": "@jupyter-widgets/base",
      "model_module_version": "2.0.0",
      "model_name": "LayoutModel",
      "state": {}
     },
     "83933a82ccc7441a870eb2190f87e9cd": {
      "model_module": "@jupyter-widgets/controls",
      "model_module_version": "2.0.0",
      "model_name": "HBoxModel",
      "state": {
       "children": [
        "IPY_MODEL_185264bd10454a778b1b1d5c8d63466a",
        "IPY_MODEL_74a885fe4a23417b84eccc2f281a573a",
        "IPY_MODEL_863fd46d5da54a79900d6b2ff4e5047c"
       ],
       "layout": "IPY_MODEL_4dd3e9c8932e4a8a885f7bc99b1bf22f"
      }
     },
     "839487f2a233472283e4d8c8fb4d3547": {
      "model_module": "@jupyter-widgets/base",
      "model_module_version": "2.0.0",
      "model_name": "LayoutModel",
      "state": {}
     },
     "839a3c67551042eaa766d325824e2f6d": {
      "model_module": "@jupyter-widgets/base",
      "model_module_version": "2.0.0",
      "model_name": "LayoutModel",
      "state": {}
     },
     "839dd98c633a48279e67d5fa0f6981ca": {
      "model_module": "@jupyter-widgets/controls",
      "model_module_version": "2.0.0",
      "model_name": "FloatProgressModel",
      "state": {
       "bar_style": "success",
       "layout": "IPY_MODEL_ec4c5461df62482293ea215f82d66eae",
       "max": 2,
       "style": "IPY_MODEL_a2229cf4f2434a1d9d4bb6e2e0f47b51",
       "value": 2
      }
     },
     "83a857f6e4024cbea1cdff02a10e71ae": {
      "model_module": "@jupyter-widgets/base",
      "model_module_version": "2.0.0",
      "model_name": "LayoutModel",
      "state": {}
     },
     "83b0d175e6c94d64a27976792787e432": {
      "model_module": "@jupyter-widgets/base",
      "model_module_version": "2.0.0",
      "model_name": "LayoutModel",
      "state": {}
     },
     "83c8cbc4fad0449ba3a36eba82767a2f": {
      "model_module": "@jupyter-widgets/base",
      "model_module_version": "2.0.0",
      "model_name": "LayoutModel",
      "state": {}
     },
     "83ee55e3cf8d4c389bde207d94f054af": {
      "model_module": "@jupyter-widgets/controls",
      "model_module_version": "2.0.0",
      "model_name": "HTMLStyleModel",
      "state": {
       "description_width": "",
       "font_size": null,
       "text_color": null
      }
     },
     "8408325f3636497fb3c42b8a928e7f14": {
      "model_module": "@jupyter-widgets/controls",
      "model_module_version": "2.0.0",
      "model_name": "ProgressStyleModel",
      "state": {
       "description_width": ""
      }
     },
     "844da6567ed54dceb5d9c6979e08401d": {
      "model_module": "@jupyter-widgets/controls",
      "model_module_version": "2.0.0",
      "model_name": "FloatProgressModel",
      "state": {
       "bar_style": "success",
       "layout": "IPY_MODEL_b839171b52d44c3c98712def1c4d28b4",
       "max": 1,
       "style": "IPY_MODEL_4d84e862bed64bf488e921417ef717d4",
       "value": 1
      }
     },
     "845c05a707ef4a12839b51bf781c0122": {
      "model_module": "@jupyter-widgets/base",
      "model_module_version": "2.0.0",
      "model_name": "LayoutModel",
      "state": {}
     },
     "846a0b16c19a409685e0cbea4dfdeab2": {
      "model_module": "@jupyter-widgets/controls",
      "model_module_version": "2.0.0",
      "model_name": "ProgressStyleModel",
      "state": {
       "description_width": ""
      }
     },
     "847bbd241d9443acbfe3410b3d25b140": {
      "model_module": "@jupyter-widgets/controls",
      "model_module_version": "2.0.0",
      "model_name": "ProgressStyleModel",
      "state": {
       "description_width": ""
      }
     },
     "84817b58a8dd4c84befbf828b5627ae5": {
      "model_module": "@jupyter-widgets/controls",
      "model_module_version": "2.0.0",
      "model_name": "HTMLStyleModel",
      "state": {
       "description_width": "",
       "font_size": null,
       "text_color": null
      }
     },
     "8482c0253d1f4e25901beabaaa92daba": {
      "model_module": "@jupyter-widgets/controls",
      "model_module_version": "2.0.0",
      "model_name": "FloatProgressModel",
      "state": {
       "layout": "IPY_MODEL_772ad0c6ba494a1ebddb12d898775aea",
       "max": 3,
       "style": "IPY_MODEL_72b4b862bea84484b24b8f1dd8b559bd",
       "value": 3
      }
     },
     "849b4a5b118943a48be3f6b1bde9327d": {
      "model_module": "@jupyter-widgets/base",
      "model_module_version": "2.0.0",
      "model_name": "LayoutModel",
      "state": {}
     },
     "84a2700c119443559a763eb9f0b09b47": {
      "model_module": "@jupyter-widgets/controls",
      "model_module_version": "2.0.0",
      "model_name": "HTMLStyleModel",
      "state": {
       "description_width": "",
       "font_size": null,
       "text_color": null
      }
     },
     "84c41c21b4a042d2bebb9a2ea15d49e0": {
      "model_module": "@jupyter-widgets/base",
      "model_module_version": "2.0.0",
      "model_name": "LayoutModel",
      "state": {}
     },
     "84de2883b5ba4da3b086b1d389ab7267": {
      "model_module": "@jupyter-widgets/base",
      "model_module_version": "2.0.0",
      "model_name": "LayoutModel",
      "state": {}
     },
     "84e9128ff0674da183e6750ecc2c56b0": {
      "model_module": "@jupyter-widgets/base",
      "model_module_version": "2.0.0",
      "model_name": "LayoutModel",
      "state": {}
     },
     "852865b451bc455f8e2ba29ea964ff6e": {
      "model_module": "@jupyter-widgets/controls",
      "model_module_version": "2.0.0",
      "model_name": "HBoxModel",
      "state": {
       "children": [
        "IPY_MODEL_91a6a3f0d5a546e3987dccdec6e8146e",
        "IPY_MODEL_cb3f88a97ebd4bd28ecaebb3392aa5fc",
        "IPY_MODEL_24114a9bca1e48679d6acd6976d68958"
       ],
       "layout": "IPY_MODEL_422511a3fdc74d81a0b8672214b954d5"
      }
     },
     "8538b6f0298047c8b194a54d07163501": {
      "model_module": "@jupyter-widgets/controls",
      "model_module_version": "2.0.0",
      "model_name": "HTMLStyleModel",
      "state": {
       "description_width": "",
       "font_size": null,
       "text_color": null
      }
     },
     "853a00daf72a437a988bcf07568857e6": {
      "model_module": "@jupyter-widgets/controls",
      "model_module_version": "2.0.0",
      "model_name": "HTMLModel",
      "state": {
       "layout": "IPY_MODEL_2d736642cf0e478da392ad18fab62bf8",
       "style": "IPY_MODEL_33e7c2d2934d41839e9b4fea1effc0aa",
       "value": " 2/2 [00:00&lt;00:00,  3.43it/s]"
      }
     },
     "856cfd1eb3dc4a90a428e3e5c395375a": {
      "model_module": "@jupyter-widgets/base",
      "model_module_version": "2.0.0",
      "model_name": "LayoutModel",
      "state": {}
     },
     "85944741bfa14145b14b2ee5664a0317": {
      "model_module": "@jupyter-widgets/controls",
      "model_module_version": "2.0.0",
      "model_name": "ProgressStyleModel",
      "state": {
       "description_width": ""
      }
     },
     "85b6ab5ac6a94024a301c8fe1e24bdba": {
      "model_module": "@jupyter-widgets/base",
      "model_module_version": "2.0.0",
      "model_name": "LayoutModel",
      "state": {}
     },
     "85c421a4f4f64c139c6aa6e7ad2fa604": {
      "model_module": "@jupyter-widgets/controls",
      "model_module_version": "2.0.0",
      "model_name": "HTMLModel",
      "state": {
       "layout": "IPY_MODEL_48c410d01b9f41c28b6949e9cca5000e",
       "style": "IPY_MODEL_9f0e9de37b244181b38e0652e2e80bc4",
       "value": " 2/2 [00:01&lt;00:00,  1.38it/s]"
      }
     },
     "86060599e7914681904deef5c38efe1a": {
      "model_module": "@jupyter-widgets/base",
      "model_module_version": "2.0.0",
      "model_name": "LayoutModel",
      "state": {}
     },
     "860b04dbcba84f44b7d1c93c12f1144c": {
      "model_module": "@jupyter-widgets/controls",
      "model_module_version": "2.0.0",
      "model_name": "ProgressStyleModel",
      "state": {
       "description_width": ""
      }
     },
     "861f30b4be1a424694194f920af6442d": {
      "model_module": "@jupyter-widgets/controls",
      "model_module_version": "2.0.0",
      "model_name": "HTMLStyleModel",
      "state": {
       "description_width": "",
       "font_size": null,
       "text_color": null
      }
     },
     "862ad03931734e73946baa278d7015aa": {
      "model_module": "@jupyter-widgets/controls",
      "model_module_version": "2.0.0",
      "model_name": "FloatProgressModel",
      "state": {
       "layout": "IPY_MODEL_4e90844959d04b8895d772d77fd762f9",
       "max": 1,
       "style": "IPY_MODEL_6781d87641ca4970adab543f4d869b99",
       "value": 1
      }
     },
     "863fd46d5da54a79900d6b2ff4e5047c": {
      "model_module": "@jupyter-widgets/controls",
      "model_module_version": "2.0.0",
      "model_name": "HTMLModel",
      "state": {
       "layout": "IPY_MODEL_9e57b55c1e7e4381a7776a1dd296fe0f",
       "style": "IPY_MODEL_0db94bb0348c4159ab569a05c619e396",
       "value": " 2/2 [00:06&lt;00:00,  6.28s/it]"
      }
     },
     "865999294240429694b2cc9f96c35286": {
      "model_module": "@jupyter-widgets/controls",
      "model_module_version": "2.0.0",
      "model_name": "FloatProgressModel",
      "state": {
       "bar_style": "success",
       "layout": "IPY_MODEL_e6cfe135847541b2b1de7f0ef1703aca",
       "max": 1,
       "style": "IPY_MODEL_2e82162e7cef4b549891140e073d7696",
       "value": 1
      }
     },
     "8669e8d6e25641a68a0d98e4ea5eebc0": {
      "model_module": "@jupyter-widgets/controls",
      "model_module_version": "2.0.0",
      "model_name": "ProgressStyleModel",
      "state": {
       "description_width": ""
      }
     },
     "869429d61cf147fd89663322f41dda0e": {
      "model_module": "@jupyter-widgets/controls",
      "model_module_version": "2.0.0",
      "model_name": "HTMLStyleModel",
      "state": {
       "description_width": "",
       "font_size": null,
       "text_color": null
      }
     },
     "86bbb07aaace4f8bb4f1f4c5a614245e": {
      "model_module": "@jupyter-widgets/controls",
      "model_module_version": "2.0.0",
      "model_name": "FloatProgressModel",
      "state": {
       "layout": "IPY_MODEL_500dadac896143609406496079de802a",
       "max": 1,
       "style": "IPY_MODEL_8717300d7b694f60a047e2089f269327",
       "value": 1
      }
     },
     "86d91fc1630749e19dc4a3123029ae51": {
      "model_module": "@jupyter-widgets/controls",
      "model_module_version": "2.0.0",
      "model_name": "FloatProgressModel",
      "state": {
       "layout": "IPY_MODEL_ea39a09fb4064b6694a177eeb4ce69f2",
       "max": 2,
       "style": "IPY_MODEL_3b033764a8334fb2afb233a93627ad3c",
       "value": 2
      }
     },
     "870d8d2cc5cf4a5b84349b4c93637675": {
      "model_module": "@jupyter-widgets/controls",
      "model_module_version": "2.0.0",
      "model_name": "HTMLStyleModel",
      "state": {
       "description_width": "",
       "font_size": null,
       "text_color": null
      }
     },
     "8717300d7b694f60a047e2089f269327": {
      "model_module": "@jupyter-widgets/controls",
      "model_module_version": "2.0.0",
      "model_name": "ProgressStyleModel",
      "state": {
       "description_width": ""
      }
     },
     "8750fe291be74588bbe604f7d273ccd0": {
      "model_module": "@jupyter-widgets/base",
      "model_module_version": "2.0.0",
      "model_name": "LayoutModel",
      "state": {}
     },
     "8755a7417b7c4908a1687c056cfcf3e8": {
      "model_module": "@jupyter-widgets/controls",
      "model_module_version": "2.0.0",
      "model_name": "FloatProgressModel",
      "state": {
       "bar_style": "success",
       "layout": "IPY_MODEL_1b8d21dbe85a4ea1a597e7ddb3363f83",
       "max": 2,
       "style": "IPY_MODEL_85944741bfa14145b14b2ee5664a0317",
       "value": 2
      }
     },
     "8762b2b1e74c4c16803b144bcfcd7654": {
      "model_module": "@jupyter-widgets/controls",
      "model_module_version": "2.0.0",
      "model_name": "HTMLStyleModel",
      "state": {
       "description_width": "",
       "font_size": null,
       "text_color": null
      }
     },
     "876b3072f81f45ac924f91e4bac11fc3": {
      "model_module": "@jupyter-widgets/controls",
      "model_module_version": "2.0.0",
      "model_name": "HTMLModel",
      "state": {
       "layout": "IPY_MODEL_feab1b98e50f4d84abc570757b7339ef",
       "style": "IPY_MODEL_ed916fd8f6624ac3888e98ce0ed6258e",
       "value": "Scanning for nodes...: 100%"
      }
     },
     "876e617ed1b84a8782f54e3beb8936be": {
      "model_module": "@jupyter-widgets/controls",
      "model_module_version": "2.0.0",
      "model_name": "HTMLModel",
      "state": {
       "layout": "IPY_MODEL_b736e2624a364bd5979c14ce4a64da9d",
       "style": "IPY_MODEL_40577833fe2e4e2fb344c3d234ddc093",
       "value": " 0/1 [00:00&lt;?, ?it/s]"
      }
     },
     "87981cfd2eef406eaa37851e7d7ad12a": {
      "model_module": "@jupyter-widgets/base",
      "model_module_version": "2.0.0",
      "model_name": "LayoutModel",
      "state": {}
     },
     "87a056171e8342ab8f6d464da8443d00": {
      "model_module": "@jupyter-widgets/base",
      "model_module_version": "2.0.0",
      "model_name": "LayoutModel",
      "state": {}
     },
     "87ad0f8ac2344c958a30cc773397a86d": {
      "model_module": "@jupyter-widgets/controls",
      "model_module_version": "2.0.0",
      "model_name": "FloatProgressModel",
      "state": {
       "bar_style": "success",
       "layout": "IPY_MODEL_6b8f03525f864697adf153e2bd5f0ab3",
       "max": 2,
       "style": "IPY_MODEL_eef1b3d9931f4d2fbd022bb16f19bf69",
       "value": 2
      }
     },
     "87db3058502e4319a1991dc489ba766b": {
      "model_module": "@jupyter-widgets/base",
      "model_module_version": "2.0.0",
      "model_name": "LayoutModel",
      "state": {}
     },
     "87ead3bfd0384d1a8fb61d1f61e9f8e0": {
      "model_module": "@jupyter-widgets/base",
      "model_module_version": "2.0.0",
      "model_name": "LayoutModel",
      "state": {}
     },
     "880027aa93c242ee90964244d3898fe0": {
      "model_module": "@jupyter-widgets/controls",
      "model_module_version": "2.0.0",
      "model_name": "HTMLStyleModel",
      "state": {
       "description_width": "",
       "font_size": null,
       "text_color": null
      }
     },
     "88230bc23ddb4432ba0aeb977d089613": {
      "model_module": "@jupyter-widgets/controls",
      "model_module_version": "2.0.0",
      "model_name": "HBoxModel",
      "state": {
       "children": [
        "IPY_MODEL_9df3bb944a5e40ed9de3d9e0d3a065e8",
        "IPY_MODEL_0d2bbd91f1e9458fa9ea6f823da13ef3",
        "IPY_MODEL_506639cc32d7495d9cbc3d8ddb48b7e4"
       ],
       "layout": "IPY_MODEL_705214fe81d4424bbf53470454a72807"
      }
     },
     "882eda8459704d53b1d7b24dc540d012": {
      "model_module": "@jupyter-widgets/controls",
      "model_module_version": "2.0.0",
      "model_name": "FloatProgressModel",
      "state": {
       "bar_style": "success",
       "layout": "IPY_MODEL_b11272ac2ea440c6bf9e625fb3715743",
       "max": 2,
       "style": "IPY_MODEL_41e35693eed14760a4bec91fe064827e",
       "value": 2
      }
     },
     "88303e37c5ae471aab0910502a968001": {
      "model_module": "@jupyter-widgets/controls",
      "model_module_version": "2.0.0",
      "model_name": "HTMLModel",
      "state": {
       "layout": "IPY_MODEL_84de2883b5ba4da3b086b1d389ab7267",
       "style": "IPY_MODEL_c8ef2838fa5f46f08e32daac6f4dba62",
       "value": " 0/1 [00:00&lt;?, ?it/s]"
      }
     },
     "8854081358424a36b8aaf98065f46dfc": {
      "model_module": "@jupyter-widgets/base",
      "model_module_version": "2.0.0",
      "model_name": "LayoutModel",
      "state": {}
     },
     "8867e25278de4d9593302983c6f49e38": {
      "model_module": "@jupyter-widgets/controls",
      "model_module_version": "2.0.0",
      "model_name": "HTMLModel",
      "state": {
       "layout": "IPY_MODEL_f942afad034e49d0918ea934d7cbdbdc",
       "style": "IPY_MODEL_1f47e022d8f94f8192a2622ad0421671",
       "value": " 8/8 [00:48&lt;00:00,  5.33s/it]"
      }
     },
     "8871796f281a49fd8d42240729a558c8": {
      "model_module": "@jupyter-widgets/base",
      "model_module_version": "2.0.0",
      "model_name": "LayoutModel",
      "state": {}
     },
     "8892950e935e42e98f611f598f09ebb9": {
      "model_module": "@jupyter-widgets/controls",
      "model_module_version": "2.0.0",
      "model_name": "HTMLStyleModel",
      "state": {
       "description_width": "",
       "font_size": null,
       "text_color": null
      }
     },
     "88a8ffdb46aa42a9831063276795b6f9": {
      "model_module": "@jupyter-widgets/controls",
      "model_module_version": "2.0.0",
      "model_name": "HBoxModel",
      "state": {
       "children": [
        "IPY_MODEL_b58431a5d61d4e95826181c99e5e2030",
        "IPY_MODEL_9daff45a66994119829fc27a3c9876e5",
        "IPY_MODEL_bc72ba2208da45bb907b6e6e962c190c"
       ],
       "layout": "IPY_MODEL_c0ab3979aa504aea8243c383b49663c4"
      }
     },
     "88b244530d484a7c9746b979d30e65dd": {
      "model_module": "@jupyter-widgets/controls",
      "model_module_version": "2.0.0",
      "model_name": "HBoxModel",
      "state": {
       "children": [
        "IPY_MODEL_b05cde4a7fa94657b99c82d0d61a69cc",
        "IPY_MODEL_b570d3950af44576afb895710b003bb2",
        "IPY_MODEL_8f808f3c6e274c87887ffaf4bd4a60a3"
       ],
       "layout": "IPY_MODEL_5921e87dca584bc2b2383367a818f60a"
      }
     },
     "8911b0d51e294ac9aac70611fc660eec": {
      "model_module": "@jupyter-widgets/controls",
      "model_module_version": "2.0.0",
      "model_name": "HTMLModel",
      "state": {
       "layout": "IPY_MODEL_8f1d04987b114460a88aa4bee72b86bb",
       "style": "IPY_MODEL_4455e6c1849a4873b870e25e3fd483d4",
       "value": " 1/1 [00:00&lt;00:00, 143.22it/s]"
      }
     },
     "89135aba7da347d994bd3d0535745e4d": {
      "model_module": "@jupyter-widgets/controls",
      "model_module_version": "2.0.0",
      "model_name": "HTMLStyleModel",
      "state": {
       "description_width": "",
       "font_size": null,
       "text_color": null
      }
     },
     "891cb147a8b14f09bb050558f5b78036": {
      "model_module": "@jupyter-widgets/base",
      "model_module_version": "2.0.0",
      "model_name": "LayoutModel",
      "state": {}
     },
     "89463767278c4f34a4733a93be6db9dd": {
      "model_module": "@jupyter-widgets/base",
      "model_module_version": "2.0.0",
      "model_name": "LayoutModel",
      "state": {}
     },
     "8990e83bbe9b43ed844a3ede00346faf": {
      "model_module": "@jupyter-widgets/controls",
      "model_module_version": "2.0.0",
      "model_name": "HTMLStyleModel",
      "state": {
       "description_width": "",
       "font_size": null,
       "text_color": null
      }
     },
     "899ed08b30e54dc18bc1193b571eae47": {
      "model_module": "@jupyter-widgets/base",
      "model_module_version": "2.0.0",
      "model_name": "LayoutModel",
      "state": {}
     },
     "89a0bbd93f384770bd833257e1b6fcf7": {
      "model_module": "@jupyter-widgets/controls",
      "model_module_version": "2.0.0",
      "model_name": "FloatProgressModel",
      "state": {
       "layout": "IPY_MODEL_2cb306e8006b4562bc05d229225d2e11",
       "max": 2,
       "style": "IPY_MODEL_12917c82e8144417bc391a47c0072ee2",
       "value": 2
      }
     },
     "89b32df4b2e1443689d6e5943b447400": {
      "model_module": "@jupyter-widgets/controls",
      "model_module_version": "2.0.0",
      "model_name": "HTMLStyleModel",
      "state": {
       "description_width": "",
       "font_size": null,
       "text_color": null
      }
     },
     "89bd9cd0011a423e8b5ee296174b65fb": {
      "model_module": "@jupyter-widgets/controls",
      "model_module_version": "2.0.0",
      "model_name": "HTMLModel",
      "state": {
       "layout": "IPY_MODEL_9765494f46784a018f2c38b189e94823",
       "style": "IPY_MODEL_9ae2a999c3cb4d1682c749c4d0c3b31e",
       "value": "Scanning for edges...:   0%"
      }
     },
     "89dc83fe700c40e285b3de2f76c8054c": {
      "model_module": "@jupyter-widgets/controls",
      "model_module_version": "2.0.0",
      "model_name": "HTMLStyleModel",
      "state": {
       "description_width": "",
       "font_size": null,
       "text_color": null
      }
     },
     "8a0b51c2767742738e7897a84dbe3b98": {
      "model_module": "@jupyter-widgets/controls",
      "model_module_version": "2.0.0",
      "model_name": "HBoxModel",
      "state": {
       "children": [
        "IPY_MODEL_0501b01dcd3344c5bd6f4ab00e24ed6e",
        "IPY_MODEL_862ad03931734e73946baa278d7015aa",
        "IPY_MODEL_97734b87726c4753a1c7de8af4330195"
       ],
       "layout": "IPY_MODEL_f371f44ece2844f5877e52511a13c8bd"
      }
     },
     "8a12cca277e144db95777ffe92b126e2": {
      "model_module": "@jupyter-widgets/base",
      "model_module_version": "2.0.0",
      "model_name": "LayoutModel",
      "state": {}
     },
     "8a1ff51ae2874c9f858d18f7c8e6f00b": {
      "model_module": "@jupyter-widgets/controls",
      "model_module_version": "2.0.0",
      "model_name": "ProgressStyleModel",
      "state": {
       "description_width": ""
      }
     },
     "8a31855ee7124522a6207d4d545e2bd6": {
      "model_module": "@jupyter-widgets/controls",
      "model_module_version": "2.0.0",
      "model_name": "FloatProgressModel",
      "state": {
       "bar_style": "success",
       "layout": "IPY_MODEL_cda86968d71d4b7389e8493c1d1b2509",
       "max": 2,
       "style": "IPY_MODEL_54a93e120f8a42d8b81b79debc3b17c9",
       "value": 2
      }
     },
     "8a36de68cc8e4cb79a10ceaff32c8d9a": {
      "model_module": "@jupyter-widgets/controls",
      "model_module_version": "2.0.0",
      "model_name": "HBoxModel",
      "state": {
       "children": [
        "IPY_MODEL_6fc6ac918cd340659fbfa1e083f63fdc",
        "IPY_MODEL_e9418a28f88941b79ad4fe400dd2ac39",
        "IPY_MODEL_13ce86aafeda451cad89389491dae76a"
       ],
       "layout": "IPY_MODEL_f1ba5760e2e548a7bd4bdc8df54e3c6f"
      }
     },
     "8a41341734404aaca4ca744e7f3cecb3": {
      "model_module": "@jupyter-widgets/controls",
      "model_module_version": "2.0.0",
      "model_name": "HTMLStyleModel",
      "state": {
       "description_width": "",
       "font_size": null,
       "text_color": null
      }
     },
     "8a4ac3caff924161ad1518f4c389a694": {
      "model_module": "@jupyter-widgets/base",
      "model_module_version": "2.0.0",
      "model_name": "LayoutModel",
      "state": {}
     },
     "8a529a3d476e4fcb8f98efcd966b88ec": {
      "model_module": "@jupyter-widgets/controls",
      "model_module_version": "2.0.0",
      "model_name": "HTMLStyleModel",
      "state": {
       "description_width": "",
       "font_size": null,
       "text_color": null
      }
     },
     "8a66d07ef315446e81a3d4929d96c685": {
      "model_module": "@jupyter-widgets/base",
      "model_module_version": "2.0.0",
      "model_name": "LayoutModel",
      "state": {}
     },
     "8aa650f1883a4a7db8ba0bd06d7b920d": {
      "model_module": "@jupyter-widgets/controls",
      "model_module_version": "2.0.0",
      "model_name": "FloatProgressModel",
      "state": {
       "bar_style": "success",
       "layout": "IPY_MODEL_cdd5cd5082d445e1816f1824ac0eaa35",
       "max": 1,
       "style": "IPY_MODEL_acfa4598a5424b65a5ef2feb571b404f",
       "value": 1
      }
     },
     "8aabd825b7e64159ae18aad196376347": {
      "model_module": "@jupyter-widgets/controls",
      "model_module_version": "2.0.0",
      "model_name": "HBoxModel",
      "state": {
       "children": [
        "IPY_MODEL_e2813a7ff1c44fc993b197394902c2f4",
        "IPY_MODEL_9adf06e2437943d8aefcd1302e4cbb2f",
        "IPY_MODEL_c9dba1dffe9a4c4ab4fe567b97ed5fb2"
       ],
       "layout": "IPY_MODEL_75302c79b1154b2ca9defed37908555c"
      }
     },
     "8abb27fbde3641f5ad911947f2a1f2f5": {
      "model_module": "@jupyter-widgets/controls",
      "model_module_version": "2.0.0",
      "model_name": "HTMLStyleModel",
      "state": {
       "description_width": "",
       "font_size": null,
       "text_color": null
      }
     },
     "8ac81728d64b4701ace88acc464ce9a9": {
      "model_module": "@jupyter-widgets/base",
      "model_module_version": "2.0.0",
      "model_name": "LayoutModel",
      "state": {}
     },
     "8adad61dbd7742b9817b01062194bf9a": {
      "model_module": "@jupyter-widgets/controls",
      "model_module_version": "2.0.0",
      "model_name": "HTMLStyleModel",
      "state": {
       "description_width": "",
       "font_size": null,
       "text_color": null
      }
     },
     "8ade000c32ca484598454fb94848ef60": {
      "model_module": "@jupyter-widgets/base",
      "model_module_version": "2.0.0",
      "model_name": "LayoutModel",
      "state": {}
     },
     "8ae92369d0974f1c8a37fc8659908e7b": {
      "model_module": "@jupyter-widgets/controls",
      "model_module_version": "2.0.0",
      "model_name": "HTMLStyleModel",
      "state": {
       "description_width": "",
       "font_size": null,
       "text_color": null
      }
     },
     "8aebc72da1464199a20d60d84ae821b9": {
      "model_module": "@jupyter-widgets/base",
      "model_module_version": "2.0.0",
      "model_name": "LayoutModel",
      "state": {}
     },
     "8aefa3488c524c19b34f8dc935177271": {
      "model_module": "@jupyter-widgets/base",
      "model_module_version": "2.0.0",
      "model_name": "LayoutModel",
      "state": {}
     },
     "8b0497988a9444e5b357718141cb64cf": {
      "model_module": "@jupyter-widgets/controls",
      "model_module_version": "2.0.0",
      "model_name": "FloatProgressModel",
      "state": {
       "bar_style": "success",
       "layout": "IPY_MODEL_cb11ecc8781f49f287fd600f5a7bf0b0",
       "max": 2,
       "style": "IPY_MODEL_fb87d40663924ce58023e538616c57b3",
       "value": 2
      }
     },
     "8b1f3bae2c884e22bcc94d3436e9d9c7": {
      "model_module": "@jupyter-widgets/controls",
      "model_module_version": "2.0.0",
      "model_name": "HTMLStyleModel",
      "state": {
       "description_width": "",
       "font_size": null,
       "text_color": null
      }
     },
     "8b56c38f78b3453db39345933e641a60": {
      "model_module": "@jupyter-widgets/base",
      "model_module_version": "2.0.0",
      "model_name": "LayoutModel",
      "state": {
       "visibility": "hidden"
      }
     },
     "8b67089ea9834b4e8e096b75e89030e8": {
      "model_module": "@jupyter-widgets/base",
      "model_module_version": "2.0.0",
      "model_name": "LayoutModel",
      "state": {}
     },
     "8b908aefe00c426088e80f9ce5d61b4a": {
      "model_module": "@jupyter-widgets/base",
      "model_module_version": "2.0.0",
      "model_name": "LayoutModel",
      "state": {}
     },
     "8ba0ff8d74444c0e80fc4532b082a273": {
      "model_module": "@jupyter-widgets/controls",
      "model_module_version": "2.0.0",
      "model_name": "HTMLModel",
      "state": {
       "layout": "IPY_MODEL_6699539c0a2e45afb57df3023d25cdc4",
       "style": "IPY_MODEL_0e4ac96e2b7946e3877d72826919e52a",
       "value": "Scanning hook.frame__tpch__part:  50%"
      }
     },
     "8bc0dd1c25d047d68d3c88d942bd5aa7": {
      "model_module": "@jupyter-widgets/controls",
      "model_module_version": "2.0.0",
      "model_name": "FloatProgressModel",
      "state": {
       "bar_style": "success",
       "layout": "IPY_MODEL_899ed08b30e54dc18bc1193b571eae47",
       "max": 1,
       "style": "IPY_MODEL_0cd9e84ac8ed42deadc4a07fa631c2fe",
       "value": 1
      }
     },
     "8bd96905766c4e33b953214542c7267a": {
      "model_module": "@jupyter-widgets/base",
      "model_module_version": "2.0.0",
      "model_name": "LayoutModel",
      "state": {}
     },
     "8bfb3fa61f994c45b1e5a51081ea2254": {
      "model_module": "@jupyter-widgets/controls",
      "model_module_version": "2.0.0",
      "model_name": "HTMLStyleModel",
      "state": {
       "description_width": "",
       "font_size": null,
       "text_color": null
      }
     },
     "8c2890c165ff4e5fa9c1b56a34fe3891": {
      "model_module": "@jupyter-widgets/controls",
      "model_module_version": "2.0.0",
      "model_name": "HTMLStyleModel",
      "state": {
       "description_width": "",
       "font_size": null,
       "text_color": null
      }
     },
     "8c358d80c2d44eae8119c65e6383edd6": {
      "model_module": "@jupyter-widgets/controls",
      "model_module_version": "2.0.0",
      "model_name": "HTMLStyleModel",
      "state": {
       "description_width": "",
       "font_size": null,
       "text_color": null
      }
     },
     "8c78afbcef184d4686bd4ef651224a20": {
      "model_module": "@jupyter-widgets/base",
      "model_module_version": "2.0.0",
      "model_name": "LayoutModel",
      "state": {}
     },
     "8c7f722c7d8245c4a990ac4ab2f7950e": {
      "model_module": "@jupyter-widgets/base",
      "model_module_version": "2.0.0",
      "model_name": "LayoutModel",
      "state": {}
     },
     "8c8958e86a4d448ba8cde73013df05ea": {
      "model_module": "@jupyter-widgets/controls",
      "model_module_version": "2.0.0",
      "model_name": "HTMLModel",
      "state": {
       "layout": "IPY_MODEL_e9b281823f8a44c0abb9560a191f304f",
       "style": "IPY_MODEL_4d341ed84a7145c7a20d7a44b384c0ee",
       "value": "Scanning for edges...:   0%"
      }
     },
     "8c99bad089274fc9ab18cedff0cb3140": {
      "model_module": "@jupyter-widgets/controls",
      "model_module_version": "2.0.0",
      "model_name": "HTMLStyleModel",
      "state": {
       "description_width": "",
       "font_size": null,
       "text_color": null
      }
     },
     "8cb1a7e60df94dc192ef15b948e149eb": {
      "model_module": "@jupyter-widgets/controls",
      "model_module_version": "2.0.0",
      "model_name": "HTMLModel",
      "state": {
       "layout": "IPY_MODEL_42ba9b0b37984db69b7cde454ecd4151",
       "style": "IPY_MODEL_f0d0ee852ac74b1292ef32ba6080ef17",
       "value": " 1/1 [00:00&lt;00:00,  1.58it/s]"
      }
     },
     "8cb7a6744e3d44a4b69f8018fd27d743": {
      "model_module": "@jupyter-widgets/controls",
      "model_module_version": "2.0.0",
      "model_name": "ProgressStyleModel",
      "state": {
       "description_width": ""
      }
     },
     "8cc11984126846a3a469f430e616ad02": {
      "model_module": "@jupyter-widgets/base",
      "model_module_version": "2.0.0",
      "model_name": "LayoutModel",
      "state": {}
     },
     "8cf8610e32994f9f95ff964fe7164339": {
      "model_module": "@jupyter-widgets/controls",
      "model_module_version": "2.0.0",
      "model_name": "HTMLModel",
      "state": {
       "layout": "IPY_MODEL_a0c02beb838a438f92f79699c529f0bb",
       "style": "IPY_MODEL_db2c353afbf24af2a7c1a020472ae9ad",
       "value": " 4/4 [00:33&lt;00:00,  8.57s/it]"
      }
     },
     "8cfc3cd5af65467dbb15b73a3e26f83d": {
      "model_module": "@jupyter-widgets/controls",
      "model_module_version": "2.0.0",
      "model_name": "HTMLModel",
      "state": {
       "layout": "IPY_MODEL_cd14b6b2f8d447b2b01bf875b7fcbd0f",
       "style": "IPY_MODEL_3cbe0112bb65482d95b785f5802aa131",
       "value": " 2/2 [00:01&lt;00:00,  1.72it/s]"
      }
     },
     "8d04c208abc943ad9b01fd794509cf9d": {
      "model_module": "@jupyter-widgets/controls",
      "model_module_version": "2.0.0",
      "model_name": "HTMLStyleModel",
      "state": {
       "description_width": "",
       "font_size": null,
       "text_color": null
      }
     },
     "8d255ed1b5fa44a08c8a9e2907d2c6a8": {
      "model_module": "@jupyter-widgets/controls",
      "model_module_version": "2.0.0",
      "model_name": "HTMLStyleModel",
      "state": {
       "description_width": "",
       "font_size": null,
       "text_color": null
      }
     },
     "8d2fb2c417a6480cb233ec351ace65b2": {
      "model_module": "@jupyter-widgets/controls",
      "model_module_version": "2.0.0",
      "model_name": "FloatProgressModel",
      "state": {
       "layout": "IPY_MODEL_54b0fd2e1d9144cd8b2900b1f86f2046",
       "max": 4,
       "style": "IPY_MODEL_f82a328ae9de4fbea05d2d9334ccedae",
       "value": 4
      }
     },
     "8d329f44277f4a39b0e10aee1d35014e": {
      "model_module": "@jupyter-widgets/controls",
      "model_module_version": "2.0.0",
      "model_name": "FloatProgressModel",
      "state": {
       "bar_style": "success",
       "layout": "IPY_MODEL_bbcada6fbd794bbcb66355e03c43c666",
       "max": 1,
       "style": "IPY_MODEL_f5570b6ebd804b55923730626e9d8f0c",
       "value": 1
      }
     },
     "8d3f3c21e1f44e1daae1e5ebca388a1c": {
      "model_module": "@jupyter-widgets/controls",
      "model_module_version": "2.0.0",
      "model_name": "FloatProgressModel",
      "state": {
       "bar_style": "success",
       "layout": "IPY_MODEL_64c73d0325264dc48e9af7c0908a1b8e",
       "max": 8,
       "style": "IPY_MODEL_ab4e3b99de274aa4af235245441c5aaf",
       "value": 8
      }
     },
     "8d4ee57b8d6a49cfa49e0c6efd95e188": {
      "model_module": "@jupyter-widgets/controls",
      "model_module_version": "2.0.0",
      "model_name": "HTMLStyleModel",
      "state": {
       "description_width": "",
       "font_size": null,
       "text_color": null
      }
     },
     "8d89678d82034b4b92ea55b028a996df": {
      "model_module": "@jupyter-widgets/controls",
      "model_module_version": "2.0.0",
      "model_name": "HTMLStyleModel",
      "state": {
       "description_width": "",
       "font_size": null,
       "text_color": null
      }
     },
     "8d97ea1bd11b47a8a64ade82b9747aa8": {
      "model_module": "@jupyter-widgets/base",
      "model_module_version": "2.0.0",
      "model_name": "LayoutModel",
      "state": {}
     },
     "8da625deb42e45e6a4ebae21267919fc": {
      "model_module": "@jupyter-widgets/controls",
      "model_module_version": "2.0.0",
      "model_name": "HTMLModel",
      "state": {
       "layout": "IPY_MODEL_525a5816fd554268b20de9488e7f5582",
       "style": "IPY_MODEL_0dc4e512aa0a4ae9bf6f4f10a2415c63",
       "value": " 2/2 [00:01&lt;00:00,  1.80it/s]"
      }
     },
     "8dd09064d6df4b249e6b2dea9d4bf594": {
      "model_module": "@jupyter-widgets/controls",
      "model_module_version": "2.0.0",
      "model_name": "FloatProgressModel",
      "state": {
       "layout": "IPY_MODEL_ac9307c578f8402985ab66a854447233",
       "max": 2,
       "style": "IPY_MODEL_d4292823e6b14462806d5ef1b845a989",
       "value": 2
      }
     },
     "8e07bf42c7f74ca497da747d726ed38f": {
      "model_module": "@jupyter-widgets/controls",
      "model_module_version": "2.0.0",
      "model_name": "FloatProgressModel",
      "state": {
       "bar_style": "danger",
       "layout": "IPY_MODEL_d96d90ee948a4c1ca85a1455d2d12878",
       "max": 2,
       "style": "IPY_MODEL_31e4743e2d884cbc91986e0b7f96b884"
      }
     },
     "8e3cfad00f0e4aa696d21b811d4faada": {
      "model_module": "@jupyter-widgets/base",
      "model_module_version": "2.0.0",
      "model_name": "LayoutModel",
      "state": {}
     },
     "8e5b92aef24f4d048f50afcd566a092d": {
      "model_module": "@jupyter-widgets/base",
      "model_module_version": "2.0.0",
      "model_name": "LayoutModel",
      "state": {}
     },
     "8eb88569700d42e786b0348389c36dc6": {
      "model_module": "@jupyter-widgets/controls",
      "model_module_version": "2.0.0",
      "model_name": "FloatProgressModel",
      "state": {
       "layout": "IPY_MODEL_b4d2b5665c254191953ee72f339867fe",
       "max": 2,
       "style": "IPY_MODEL_aa9805f9c0264e4499ab1a29ed38b741",
       "value": 2
      }
     },
     "8ed96596a6ec476cb871edf13cc3742f": {
      "model_module": "@jupyter-widgets/base",
      "model_module_version": "2.0.0",
      "model_name": "LayoutModel",
      "state": {}
     },
     "8efc4d49c31843a39c3c79f6f486a7c6": {
      "model_module": "@jupyter-widgets/base",
      "model_module_version": "2.0.0",
      "model_name": "LayoutModel",
      "state": {}
     },
     "8f05ab18b53842489283d87b7b0d6e39": {
      "model_module": "@jupyter-widgets/controls",
      "model_module_version": "2.0.0",
      "model_name": "HBoxModel",
      "state": {
       "children": [
        "IPY_MODEL_09c3df64e068454b82536f5956617f9c",
        "IPY_MODEL_8b0497988a9444e5b357718141cb64cf",
        "IPY_MODEL_ee26c8895bdf4259a19f3ead71a57641"
       ],
       "layout": "IPY_MODEL_75033535b3e9444c8f7315970cd826a3"
      }
     },
     "8f0f681977514adbb42eb8b54156591c": {
      "model_module": "@jupyter-widgets/base",
      "model_module_version": "2.0.0",
      "model_name": "LayoutModel",
      "state": {}
     },
     "8f10349902864895850d4acb28ddfa28": {
      "model_module": "@jupyter-widgets/controls",
      "model_module_version": "2.0.0",
      "model_name": "HTMLModel",
      "state": {
       "layout": "IPY_MODEL_5c653e9bd1dd4bc39826746f5676ea3a",
       "style": "IPY_MODEL_0f48e53fb67f40e9838a36718061f1a7",
       "value": "Scanning hook.frame__tpch__partsupp:  50%"
      }
     },
     "8f1731962f7b4eb2a68d42b48ab4de3a": {
      "model_module": "@jupyter-widgets/base",
      "model_module_version": "2.0.0",
      "model_name": "LayoutModel",
      "state": {}
     },
     "8f1d04987b114460a88aa4bee72b86bb": {
      "model_module": "@jupyter-widgets/base",
      "model_module_version": "2.0.0",
      "model_name": "LayoutModel",
      "state": {}
     },
     "8f671bee624b4c2f8736fdd57b090dd1": {
      "model_module": "@jupyter-widgets/base",
      "model_module_version": "2.0.0",
      "model_name": "LayoutModel",
      "state": {}
     },
     "8f77709c23ac4990aaee4226d4ccc455": {
      "model_module": "@jupyter-widgets/controls",
      "model_module_version": "2.0.0",
      "model_name": "FloatProgressModel",
      "state": {
       "bar_style": "success",
       "layout": "IPY_MODEL_14741da87d54476f8315cb0866687079",
       "max": 8,
       "style": "IPY_MODEL_a160fda104b24508b80a8ad9672bdb6f",
       "value": 8
      }
     },
     "8f808f3c6e274c87887ffaf4bd4a60a3": {
      "model_module": "@jupyter-widgets/controls",
      "model_module_version": "2.0.0",
      "model_name": "HTMLModel",
      "state": {
       "layout": "IPY_MODEL_009b1af1f73a4845961ab07fcc69acb1",
       "style": "IPY_MODEL_702e34cc88fe4a88ad9e31fd73c16e2c",
       "value": " 1/? [00:00&lt;00:00, 157.47it/s]"
      }
     },
     "8fadb4ac2f1a4566b5d15938fd432772": {
      "model_module": "@jupyter-widgets/controls",
      "model_module_version": "2.0.0",
      "model_name": "HBoxModel",
      "state": {
       "children": [
        "IPY_MODEL_ca833ccc37c44165abba0be229656775",
        "IPY_MODEL_4b4142090d694d0995565d12ed168d65",
        "IPY_MODEL_8da625deb42e45e6a4ebae21267919fc"
       ],
       "layout": "IPY_MODEL_3be613a6fe734db890d5a76782251db4"
      }
     },
     "8fb26d4cc2894d8ca2240acd04e62377": {
      "model_module": "@jupyter-widgets/controls",
      "model_module_version": "2.0.0",
      "model_name": "HTMLStyleModel",
      "state": {
       "description_width": "",
       "font_size": null,
       "text_color": null
      }
     },
     "8fcca053e4fe47fa8048d9ecbbfaf6d1": {
      "model_module": "@jupyter-widgets/controls",
      "model_module_version": "2.0.0",
      "model_name": "HBoxModel",
      "state": {
       "children": [
        "IPY_MODEL_94b14ba9d2864e2b8c342bcf50d1b689",
        "IPY_MODEL_16c05d5732454000bd7496816cd0850b",
        "IPY_MODEL_a6b66c64e50c40ed93f9fadbb6d06932"
       ],
       "layout": "IPY_MODEL_e526847a452141e2b70c816ad01113e6"
      }
     },
     "9007bc0a008c4ebfab85e69f7c061d6a": {
      "model_module": "@jupyter-widgets/controls",
      "model_module_version": "2.0.0",
      "model_name": "HTMLStyleModel",
      "state": {
       "description_width": "",
       "font_size": null,
       "text_color": null
      }
     },
     "904bb29efe634d3799b4bb2a37ffaa0f": {
      "model_module": "@jupyter-widgets/base",
      "model_module_version": "2.0.0",
      "model_name": "LayoutModel",
      "state": {}
     },
     "9070ae92d9734dd0b3a31855804f24af": {
      "model_module": "@jupyter-widgets/controls",
      "model_module_version": "2.0.0",
      "model_name": "FloatProgressModel",
      "state": {
       "layout": "IPY_MODEL_82fd60e839fb42aa8b5a35f040a51c01",
       "max": 2,
       "style": "IPY_MODEL_3d79373083a446659e0d076610ddbdab",
       "value": 2
      }
     },
     "90aed895363c40d19008a8a090c6c5c0": {
      "model_module": "@jupyter-widgets/base",
      "model_module_version": "2.0.0",
      "model_name": "LayoutModel",
      "state": {}
     },
     "90b62196d0f84ea7a54cc04d0881e294": {
      "model_module": "@jupyter-widgets/controls",
      "model_module_version": "2.0.0",
      "model_name": "ProgressStyleModel",
      "state": {
       "description_width": ""
      }
     },
     "910c74b4e0544e2f8fb997cab02e7a88": {
      "model_module": "@jupyter-widgets/base",
      "model_module_version": "2.0.0",
      "model_name": "LayoutModel",
      "state": {}
     },
     "915b81c8ba8d42f9bc3f4a70ef5f91ce": {
      "model_module": "@jupyter-widgets/controls",
      "model_module_version": "2.0.0",
      "model_name": "HTMLModel",
      "state": {
       "layout": "IPY_MODEL_a4206c38537440a38188053969b5dec0",
       "style": "IPY_MODEL_a9b86f0be029466fb303debf6b05be5e",
       "value": "Scanning for nodes...: 100%"
      }
     },
     "9181f935d47743ed8c6c7f1cc5d0fe67": {
      "model_module": "@jupyter-widgets/controls",
      "model_module_version": "2.0.0",
      "model_name": "ProgressStyleModel",
      "state": {
       "description_width": ""
      }
     },
     "9191995778f34fbe9f67777fa995ab18": {
      "model_module": "@jupyter-widgets/controls",
      "model_module_version": "2.0.0",
      "model_name": "HBoxModel",
      "state": {
       "children": [
        "IPY_MODEL_b496936a9c184957bb03d3ed3d24fed9",
        "IPY_MODEL_bed71b2b4b1c4f29bdf8ea7b2d124960",
        "IPY_MODEL_40b02c5772df4d5aaf7d413a3125b713"
       ],
       "layout": "IPY_MODEL_3b6dade1470e4b299f2b5a20d63c0499"
      }
     },
     "9194dcbec7874a0e81145d407f515d58": {
      "model_module": "@jupyter-widgets/controls",
      "model_module_version": "2.0.0",
      "model_name": "HBoxModel",
      "state": {
       "children": [
        "IPY_MODEL_4cfa8b37e98d45dcb698ee813a7fdd61",
        "IPY_MODEL_efb2830cdd57480c9c1d5020c359fb45",
        "IPY_MODEL_528e3b8e2a4c4b68922f530c68e35237"
       ],
       "layout": "IPY_MODEL_a27237ab28ef479c92a533a2e1387ebf"
      }
     },
     "91a6a3f0d5a546e3987dccdec6e8146e": {
      "model_module": "@jupyter-widgets/controls",
      "model_module_version": "2.0.0",
      "model_name": "HTMLModel",
      "state": {
       "layout": "IPY_MODEL_83a857f6e4024cbea1cdff02a10e71ae",
       "style": "IPY_MODEL_8a529a3d476e4fcb8f98efcd966b88ec",
       "value": "Scanning frames: 100%"
      }
     },
     "91b3cac9d1b54a19a5c824696037d3b9": {
      "model_module": "@jupyter-widgets/controls",
      "model_module_version": "2.0.0",
      "model_name": "HTMLStyleModel",
      "state": {
       "description_width": "",
       "font_size": null,
       "text_color": null
      }
     },
     "91beacbd03bf400da75cdd327ee1275a": {
      "model_module": "@jupyter-widgets/controls",
      "model_module_version": "2.0.0",
      "model_name": "HTMLStyleModel",
      "state": {
       "description_width": "",
       "font_size": null,
       "text_color": null
      }
     },
     "91cd1ce38f1c4b7e8e635aac51f0c14c": {
      "model_module": "@jupyter-widgets/controls",
      "model_module_version": "2.0.0",
      "model_name": "ProgressStyleModel",
      "state": {
       "description_width": ""
      }
     },
     "91e03d485da44321885587f00579b5ba": {
      "model_module": "@jupyter-widgets/base",
      "model_module_version": "2.0.0",
      "model_name": "LayoutModel",
      "state": {}
     },
     "91e57ffa2714481487565db9cdf0d0ee": {
      "model_module": "@jupyter-widgets/controls",
      "model_module_version": "2.0.0",
      "model_name": "HTMLModel",
      "state": {
       "layout": "IPY_MODEL_8cc11984126846a3a469f430e616ad02",
       "style": "IPY_MODEL_e2d53362f60d48429f73003186dba561",
       "value": " 2/2 [00:01&lt;00:00,  1.82it/s]"
      }
     },
     "92288dffcf424711b42f7d9352da7cd7": {
      "model_module": "@jupyter-widgets/base",
      "model_module_version": "2.0.0",
      "model_name": "LayoutModel",
      "state": {
       "width": "20px"
      }
     },
     "9248ce6d2ae049a98712f47aee97a127": {
      "model_module": "@jupyter-widgets/controls",
      "model_module_version": "2.0.0",
      "model_name": "ProgressStyleModel",
      "state": {
       "description_width": ""
      }
     },
     "926f6e5d6bcf421f8f7177ddb09bfcfb": {
      "model_module": "@jupyter-widgets/base",
      "model_module_version": "2.0.0",
      "model_name": "LayoutModel",
      "state": {}
     },
     "9271919910074a9981b1dbeb8199693f": {
      "model_module": "@jupyter-widgets/controls",
      "model_module_version": "2.0.0",
      "model_name": "HBoxModel",
      "state": {
       "children": [
        "IPY_MODEL_c5b4dcf460324ecf9fcb093c3ee1d7e2",
        "IPY_MODEL_1e7b10305b684a7797af66f3432b74a0",
        "IPY_MODEL_dd428a32c58d45a2afb583f0e63cee50"
       ],
       "layout": "IPY_MODEL_028debc68a014d75b213adb875a6dc8f"
      }
     },
     "92bbd95dba254fe89d11e35a8dd4898b": {
      "model_module": "@jupyter-widgets/controls",
      "model_module_version": "2.0.0",
      "model_name": "HBoxModel",
      "state": {
       "children": [
        "IPY_MODEL_4304fa8bdb2e47359b43456ea08ce13a",
        "IPY_MODEL_8755a7417b7c4908a1687c056cfcf3e8",
        "IPY_MODEL_80c5062d9f5a421ebecc4be8472e9517"
       ],
       "layout": "IPY_MODEL_c2537b07fd3844468a621d5feeb5de2b"
      }
     },
     "92cb06bb4f874162921627382fc20a2d": {
      "model_module": "@jupyter-widgets/base",
      "model_module_version": "2.0.0",
      "model_name": "LayoutModel",
      "state": {}
     },
     "92d4cbd2a5d5487e871211c07af84d07": {
      "model_module": "@jupyter-widgets/base",
      "model_module_version": "2.0.0",
      "model_name": "LayoutModel",
      "state": {}
     },
     "92d6debabb774e8ab83a4bb533a30836": {
      "model_module": "@jupyter-widgets/controls",
      "model_module_version": "2.0.0",
      "model_name": "HTMLModel",
      "state": {
       "layout": "IPY_MODEL_7a520d118d7c4377adf29c2d546304b6",
       "style": "IPY_MODEL_6a81e65984204a07a29256a7cdaff14b",
       "value": "hook.frame__tpch__supplier: nodes...: 100%"
      }
     },
     "92e051c0accd43edab0c43768416d905": {
      "model_module": "@jupyter-widgets/controls",
      "model_module_version": "2.0.0",
      "model_name": "HTMLModel",
      "state": {
       "layout": "IPY_MODEL_8ac81728d64b4701ace88acc464ce9a9",
       "style": "IPY_MODEL_00284596372b4daea1796315394478fe",
       "value": "Scanning for edges...: 100%"
      }
     },
     "92e08c7954db4050834174272728edfc": {
      "model_module": "@jupyter-widgets/controls",
      "model_module_version": "2.0.0",
      "model_name": "HTMLModel",
      "state": {
       "layout": "IPY_MODEL_19f51e3e9e2948d69ae2110b1c1cbb1d",
       "style": "IPY_MODEL_ba2a5ab6bd694f129e7e7a83aa4769b5",
       "value": "Scanning frames:  50%"
      }
     },
     "92f70f59429d4f189b5342a0e120d30a": {
      "model_module": "@jupyter-widgets/base",
      "model_module_version": "2.0.0",
      "model_name": "LayoutModel",
      "state": {}
     },
     "931a73e15a184dbc955a4aeeb1f03e01": {
      "model_module": "@jupyter-widgets/controls",
      "model_module_version": "2.0.0",
      "model_name": "HBoxModel",
      "state": {
       "children": [
        "IPY_MODEL_070f16aeca2e44cb822302459ee2ab63",
        "IPY_MODEL_d7115ffa123249c3aa9e1b972ae46228",
        "IPY_MODEL_21c87f19287340caa0fde28039ebc997"
       ],
       "layout": "IPY_MODEL_d8b545d8c11947c5909c40a1d31bfe75"
      }
     },
     "9323f1292336453a85eead73dd443bc5": {
      "model_module": "@jupyter-widgets/controls",
      "model_module_version": "2.0.0",
      "model_name": "HTMLStyleModel",
      "state": {
       "description_width": "",
       "font_size": null,
       "text_color": null
      }
     },
     "9360f3ccf48d4d94afdc053e42fe6e5d": {
      "model_module": "@jupyter-widgets/base",
      "model_module_version": "2.0.0",
      "model_name": "LayoutModel",
      "state": {
       "visibility": "hidden"
      }
     },
     "93800839bebb4fecb7a76f48c92e600b": {
      "model_module": "@jupyter-widgets/controls",
      "model_module_version": "2.0.0",
      "model_name": "HBoxModel",
      "state": {
       "children": [
        "IPY_MODEL_01ee4987b7794dfc89dd145067f1a403",
        "IPY_MODEL_d7c7b6dc60694a85964569db125d7f87",
        "IPY_MODEL_ff11f140f0594b7dbebd2046da5a6ab8"
       ],
       "layout": "IPY_MODEL_3e1df9c900f148cb9725e8022371c181"
      }
     },
     "938055596f344aee911c629823ac73ea": {
      "model_module": "@jupyter-widgets/controls",
      "model_module_version": "2.0.0",
      "model_name": "HTMLModel",
      "state": {
       "layout": "IPY_MODEL_bc6a4493d2f143a095b15ff45b6e7d55",
       "style": "IPY_MODEL_fd408599bea942b0a2fca9d0a2f5ea5b",
       "value": "hook.frame__tpch__lineitem: edges...: 100%"
      }
     },
     "9383fd1fc04f4654aba4c251496501ac": {
      "model_module": "@jupyter-widgets/controls",
      "model_module_version": "2.0.0",
      "model_name": "FloatProgressModel",
      "state": {
       "bar_style": "success",
       "layout": "IPY_MODEL_12ee143638ac480ca1579d0144e4d64a",
       "max": 8,
       "style": "IPY_MODEL_7a16cbd5ce1840b6b1caa015b8f38aae",
       "value": 8
      }
     },
     "93c1ca051c8e4ae993ded792934695eb": {
      "model_module": "@jupyter-widgets/controls",
      "model_module_version": "2.0.0",
      "model_name": "HBoxModel",
      "state": {
       "children": [
        "IPY_MODEL_449cd55f23ec4fa1b9706a027fa616be",
        "IPY_MODEL_4b4236e1b5734c3cbca1eda14473d503",
        "IPY_MODEL_5a589ad6728249078de748b387188e5d"
       ],
       "layout": "IPY_MODEL_6c8304f0f39a4f48b0d72c6762b49e00"
      }
     },
     "93c7ca8f7be54070b837b4f31c226067": {
      "model_module": "@jupyter-widgets/controls",
      "model_module_version": "2.0.0",
      "model_name": "FloatProgressModel",
      "state": {
       "bar_style": "success",
       "layout": "IPY_MODEL_3e6f230ec8b64611b6247e35e15a0d1d",
       "max": 3,
       "style": "IPY_MODEL_9248ce6d2ae049a98712f47aee97a127",
       "value": 3
      }
     },
     "93cbde6918034941b99f0be2d9de961d": {
      "model_module": "@jupyter-widgets/controls",
      "model_module_version": "2.0.0",
      "model_name": "HTMLStyleModel",
      "state": {
       "description_width": "",
       "font_size": null,
       "text_color": null
      }
     },
     "93e02fa74bec4588bbb81cd6d072c98e": {
      "model_module": "@jupyter-widgets/controls",
      "model_module_version": "2.0.0",
      "model_name": "HTMLModel",
      "state": {
       "layout": "IPY_MODEL_15e258e4c2c84c358539aad43db1d027",
       "style": "IPY_MODEL_7ad3bc271a8f44acad26ab26a027d44d",
       "value": "Scanning frames:  50%"
      }
     },
     "93edbf40575843328ca741f5d1969212": {
      "model_module": "@jupyter-widgets/controls",
      "model_module_version": "2.0.0",
      "model_name": "HBoxModel",
      "state": {
       "children": [
        "IPY_MODEL_04835936dbb446a9ad2fcbc0a7f1bf75",
        "IPY_MODEL_7c35d1862b3f419985db9947906f7ef8",
        "IPY_MODEL_c7473988e858442f9fdb4eb703e2de44"
       ],
       "layout": "IPY_MODEL_d73be6d1ec2944faba6f7e79ce7438d6"
      }
     },
     "9408ef8d89a549979c0d880e757bf85f": {
      "model_module": "@jupyter-widgets/controls",
      "model_module_version": "2.0.0",
      "model_name": "HTMLStyleModel",
      "state": {
       "description_width": "",
       "font_size": null,
       "text_color": null
      }
     },
     "942702e1b8464119a09d67c501af0e85": {
      "model_module": "@jupyter-widgets/controls",
      "model_module_version": "2.0.0",
      "model_name": "FloatProgressModel",
      "state": {
       "bar_style": "success",
       "layout": "IPY_MODEL_61ce2290d16e49618f303f5c080bd5da",
       "max": 2,
       "style": "IPY_MODEL_399db600823a4dc48a859396dc36e224",
       "value": 2
      }
     },
     "94292a1dd2cc46779d6cff1140041a6d": {
      "model_module": "@jupyter-widgets/controls",
      "model_module_version": "2.0.0",
      "model_name": "HBoxModel",
      "state": {
       "children": [
        "IPY_MODEL_6e7c0a9bbfe94b11a1f2d11ad4b9f6e8",
        "IPY_MODEL_9cc2cf94d1ee4fddb4a9a44f42b4ae13",
        "IPY_MODEL_4dbe5ceaf48140e3886274571e081e42"
       ],
       "layout": "IPY_MODEL_cbf67602604641938ef7f71560f20e77"
      }
     },
     "942ababa071c41418e3190ea14d0a206": {
      "model_module": "@jupyter-widgets/base",
      "model_module_version": "2.0.0",
      "model_name": "LayoutModel",
      "state": {}
     },
     "944ba21cf2f94954918f01f2d4444705": {
      "model_module": "@jupyter-widgets/controls",
      "model_module_version": "2.0.0",
      "model_name": "HTMLStyleModel",
      "state": {
       "description_width": "",
       "font_size": null,
       "text_color": null
      }
     },
     "9462c8e1de004ca68c3d015d1f4d2fc9": {
      "model_module": "@jupyter-widgets/controls",
      "model_module_version": "2.0.0",
      "model_name": "HTMLStyleModel",
      "state": {
       "description_width": "",
       "font_size": null,
       "text_color": null
      }
     },
     "94747211663941bcba6fac48f14d9b49": {
      "model_module": "@jupyter-widgets/controls",
      "model_module_version": "2.0.0",
      "model_name": "HTMLStyleModel",
      "state": {
       "description_width": "",
       "font_size": null,
       "text_color": null
      }
     },
     "948a663970674e8b85a8006e0b3790a6": {
      "model_module": "@jupyter-widgets/controls",
      "model_module_version": "2.0.0",
      "model_name": "HTMLStyleModel",
      "state": {
       "description_width": "",
       "font_size": null,
       "text_color": null
      }
     },
     "949c0cfeb6b84ac1b37cdf1329e40984": {
      "model_module": "@jupyter-widgets/controls",
      "model_module_version": "2.0.0",
      "model_name": "HTMLStyleModel",
      "state": {
       "description_width": "",
       "font_size": null,
       "text_color": null
      }
     },
     "94b14ba9d2864e2b8c342bcf50d1b689": {
      "model_module": "@jupyter-widgets/controls",
      "model_module_version": "2.0.0",
      "model_name": "HTMLModel",
      "state": {
       "layout": "IPY_MODEL_236f198ef2c84e1abb68fdbc6c3c6b9f",
       "style": "IPY_MODEL_75594597a98c45e592066b69e7842fa6",
       "value": "Scanning for edges...:   0%"
      }
     },
     "94b22c4bd19b4ac58f5618c20d43ef0c": {
      "model_module": "@jupyter-widgets/controls",
      "model_module_version": "2.0.0",
      "model_name": "FloatProgressModel",
      "state": {
       "bar_style": "success",
       "layout": "IPY_MODEL_060ad3b7966b4640a345a07f1b1e9870",
       "max": 1,
       "style": "IPY_MODEL_bb1446986af0434498138de8307f6c04",
       "value": 1
      }
     },
     "94df2a88cad349cca1709295e651dca6": {
      "model_module": "@jupyter-widgets/base",
      "model_module_version": "2.0.0",
      "model_name": "LayoutModel",
      "state": {}
     },
     "95229f4c408848f580ab626505244b9c": {
      "model_module": "@jupyter-widgets/base",
      "model_module_version": "2.0.0",
      "model_name": "LayoutModel",
      "state": {
       "visibility": "hidden"
      }
     },
     "952cf7e188ff4a0598d4bf42e4614e2b": {
      "model_module": "@jupyter-widgets/base",
      "model_module_version": "2.0.0",
      "model_name": "LayoutModel",
      "state": {}
     },
     "957a240aea46454489787caff03b92b6": {
      "model_module": "@jupyter-widgets/controls",
      "model_module_version": "2.0.0",
      "model_name": "HTMLStyleModel",
      "state": {
       "description_width": "",
       "font_size": null,
       "text_color": null
      }
     },
     "95a0dd67be9f4229ae49ede65b925578": {
      "model_module": "@jupyter-widgets/controls",
      "model_module_version": "2.0.0",
      "model_name": "FloatProgressModel",
      "state": {
       "layout": "IPY_MODEL_0195f206855446fdbe1c9b97d018172f",
       "max": 2,
       "style": "IPY_MODEL_630d3a6fd8724ad6bc6650723bb3fe2e",
       "value": 2
      }
     },
     "95b20df620f241b196deec570293d660": {
      "model_module": "@jupyter-widgets/base",
      "model_module_version": "2.0.0",
      "model_name": "LayoutModel",
      "state": {}
     },
     "95ce0cf530f24c6fa2eb636dc6111b25": {
      "model_module": "@jupyter-widgets/base",
      "model_module_version": "2.0.0",
      "model_name": "LayoutModel",
      "state": {}
     },
     "95d0c97e734c47ccb951d162fddfeb35": {
      "model_module": "@jupyter-widgets/controls",
      "model_module_version": "2.0.0",
      "model_name": "HTMLStyleModel",
      "state": {
       "description_width": "",
       "font_size": null,
       "text_color": null
      }
     },
     "95e816e10804416c85a39543b95b49e7": {
      "model_module": "@jupyter-widgets/base",
      "model_module_version": "2.0.0",
      "model_name": "LayoutModel",
      "state": {}
     },
     "95ec72cb80cb4afbba63bbff7d2239d7": {
      "model_module": "@jupyter-widgets/controls",
      "model_module_version": "2.0.0",
      "model_name": "HTMLModel",
      "state": {
       "layout": "IPY_MODEL_0cab628c65d04ba0abef303fc6e5769c",
       "style": "IPY_MODEL_948a663970674e8b85a8006e0b3790a6",
       "value": " 1/1 [00:00&lt;00:00,  1.20it/s]"
      }
     },
     "960ce7213f8d424a91f4242bb7284f2e": {
      "model_module": "@jupyter-widgets/controls",
      "model_module_version": "2.0.0",
      "model_name": "HTMLStyleModel",
      "state": {
       "description_width": "",
       "font_size": null,
       "text_color": null
      }
     },
     "9623765a546b49b79ba7b313457a83d9": {
      "model_module": "@jupyter-widgets/base",
      "model_module_version": "2.0.0",
      "model_name": "LayoutModel",
      "state": {}
     },
     "966f33a4e39f411a848dba9fa6c99269": {
      "model_module": "@jupyter-widgets/base",
      "model_module_version": "2.0.0",
      "model_name": "LayoutModel",
      "state": {}
     },
     "967f6a54c36140a392a5b2966968e17d": {
      "model_module": "@jupyter-widgets/base",
      "model_module_version": "2.0.0",
      "model_name": "LayoutModel",
      "state": {
       "display": "inline-flex",
       "flex_flow": "row wrap",
       "width": "100%"
      }
     },
     "96825146f5894afb8b399386118b1c2f": {
      "model_module": "@jupyter-widgets/base",
      "model_module_version": "2.0.0",
      "model_name": "LayoutModel",
      "state": {}
     },
     "96a29f03ee5341558f6bd69457fbbb76": {
      "model_module": "@jupyter-widgets/controls",
      "model_module_version": "2.0.0",
      "model_name": "HTMLModel",
      "state": {
       "layout": "IPY_MODEL_9bc2a8ecccdd47bba7e13279105deb08",
       "style": "IPY_MODEL_f7f32ec15a0f4fe6aa05b78c3fbcc471",
       "value": " 0/1 [00:00&lt;?, ?it/s]"
      }
     },
     "96a57ab93f4844dbab6c5c028055ace8": {
      "model_module": "@jupyter-widgets/controls",
      "model_module_version": "2.0.0",
      "model_name": "ProgressStyleModel",
      "state": {
       "description_width": ""
      }
     },
     "96c2a1269bfc47339329c6c7401b0141": {
      "model_module": "@jupyter-widgets/controls",
      "model_module_version": "2.0.0",
      "model_name": "HBoxModel",
      "state": {
       "children": [
        "IPY_MODEL_c539486870c04b30a4397e5f80a8caa4",
        "IPY_MODEL_81023c127c2e4a38a981d2f8a157756d",
        "IPY_MODEL_e008658ed5f6425487561506df4c65f4"
       ],
       "layout": "IPY_MODEL_77f3756056f64538aaf548ad0d9934a6"
      }
     },
     "96c9b481875c4cb78e8c8091058c4fc0": {
      "model_module": "@jupyter-widgets/base",
      "model_module_version": "2.0.0",
      "model_name": "LayoutModel",
      "state": {}
     },
     "973a114ea649457aa45c5ffd229344a5": {
      "model_module": "@jupyter-widgets/base",
      "model_module_version": "2.0.0",
      "model_name": "LayoutModel",
      "state": {}
     },
     "974ea97f79f946ecb2c9500d08a0ad57": {
      "model_module": "@jupyter-widgets/controls",
      "model_module_version": "2.0.0",
      "model_name": "HTMLModel",
      "state": {
       "layout": "IPY_MODEL_84e9128ff0674da183e6750ecc2c56b0",
       "style": "IPY_MODEL_ce658469505b4e93bca52d7dba3af35f",
       "value": " 4/8 [00:26&lt;00:13,  3.40s/it]"
      }
     },
     "9765494f46784a018f2c38b189e94823": {
      "model_module": "@jupyter-widgets/base",
      "model_module_version": "2.0.0",
      "model_name": "LayoutModel",
      "state": {}
     },
     "97734b87726c4753a1c7de8af4330195": {
      "model_module": "@jupyter-widgets/controls",
      "model_module_version": "2.0.0",
      "model_name": "HTMLModel",
      "state": {
       "layout": "IPY_MODEL_bf2ad609025543cbafdc3139612e9c68",
       "style": "IPY_MODEL_ed3509182b534e24bc924526d6725cd5",
       "value": " 0/1 [00:00&lt;?, ?it/s]"
      }
     },
     "97871a27d4584a9f98ae61e4fcc3d37d": {
      "model_module": "@jupyter-widgets/controls",
      "model_module_version": "2.0.0",
      "model_name": "HTMLModel",
      "state": {
       "layout": "IPY_MODEL_100a927dc67147bfbc25ffbd53c8cb04",
       "style": "IPY_MODEL_226e6f498a144613badeff0abc9a296f",
       "value": " 2/4 [00:16&lt;00:11,  5.99s/it]"
      }
     },
     "97918745305d42b3b174696e4222417c": {
      "model_module": "@jupyter-widgets/base",
      "model_module_version": "2.0.0",
      "model_name": "LayoutModel",
      "state": {}
     },
     "9797e9b1f34644a387e2ed4dc2086a17": {
      "model_module": "@jupyter-widgets/controls",
      "model_module_version": "2.0.0",
      "model_name": "HTMLStyleModel",
      "state": {
       "description_width": "",
       "font_size": null,
       "text_color": null
      }
     },
     "97a8573ac26d4e569c6f29f5a72de0a2": {
      "model_module": "@jupyter-widgets/controls",
      "model_module_version": "2.0.0",
      "model_name": "HTMLStyleModel",
      "state": {
       "description_width": "",
       "font_size": null,
       "text_color": null
      }
     },
     "97c2e125b9754f2ca3759befe2552bdf": {
      "model_module": "@jupyter-widgets/base",
      "model_module_version": "2.0.0",
      "model_name": "LayoutModel",
      "state": {}
     },
     "97c9b2bf19954b9384a9055dbbfc91b4": {
      "model_module": "@jupyter-widgets/controls",
      "model_module_version": "2.0.0",
      "model_name": "HTMLStyleModel",
      "state": {
       "description_width": "",
       "font_size": null,
       "text_color": null
      }
     },
     "97dbbd08e2fc449aa6d39e688eb792c0": {
      "model_module": "@jupyter-widgets/controls",
      "model_module_version": "2.0.0",
      "model_name": "HTMLStyleModel",
      "state": {
       "description_width": "",
       "font_size": null,
       "text_color": null
      }
     },
     "97e93f2cf8f441ae974edd597d150aed": {
      "model_module": "@jupyter-widgets/controls",
      "model_module_version": "2.0.0",
      "model_name": "HTMLStyleModel",
      "state": {
       "description_width": "",
       "font_size": null,
       "text_color": null
      }
     },
     "97eea856cefa48af87d88679ab802e72": {
      "model_module": "@jupyter-widgets/base",
      "model_module_version": "2.0.0",
      "model_name": "LayoutModel",
      "state": {
       "flex": "2"
      }
     },
     "97f3c7d507d1458ab86a41651b978c85": {
      "model_module": "@jupyter-widgets/controls",
      "model_module_version": "2.0.0",
      "model_name": "HTMLStyleModel",
      "state": {
       "description_width": "",
       "font_size": null,
       "text_color": null
      }
     },
     "97fb38e2513147f59215225de9fbd28d": {
      "model_module": "@jupyter-widgets/base",
      "model_module_version": "2.0.0",
      "model_name": "LayoutModel",
      "state": {}
     },
     "97ff96b033c84c3d9fa1aa781ab77d05": {
      "model_module": "@jupyter-widgets/controls",
      "model_module_version": "2.0.0",
      "model_name": "FloatProgressModel",
      "state": {
       "bar_style": "success",
       "layout": "IPY_MODEL_3f61c8ad285c47fdab33fa1eda1f6431",
       "max": 2,
       "style": "IPY_MODEL_801843d94e8e4548bf50e425cb0f4897",
       "value": 2
      }
     },
     "98061d69cdf14e4e844eef690bcf038d": {
      "model_module": "@jupyter-widgets/controls",
      "model_module_version": "2.0.0",
      "model_name": "HTMLStyleModel",
      "state": {
       "description_width": "",
       "font_size": null,
       "text_color": null
      }
     },
     "9818fb44be844bf7b78f413f4233156d": {
      "model_module": "@jupyter-widgets/controls",
      "model_module_version": "2.0.0",
      "model_name": "HTMLModel",
      "state": {
       "layout": "IPY_MODEL_49c42153f87d48d58d4683e8d0dec867",
       "style": "IPY_MODEL_385491b9d560484eaefd30f79641192c",
       "value": " 6/6 [00:00&lt;00:00, 517.99it/s]"
      }
     },
     "982399c709054d7b86d9fde40d4e496a": {
      "model_module": "@jupyter-widgets/base",
      "model_module_version": "2.0.0",
      "model_name": "LayoutModel",
      "state": {}
     },
     "9823fd412fae419e9d11740f5af02d88": {
      "model_module": "@jupyter-widgets/controls",
      "model_module_version": "2.0.0",
      "model_name": "HBoxModel",
      "state": {
       "children": [
        "IPY_MODEL_0473f8a514964cc39d813599eaa628db",
        "IPY_MODEL_112b3e77e189469aa300e975ed471f61",
        "IPY_MODEL_fd62498c2c024dfaa4a53ea2c155820a"
       ],
       "layout": "IPY_MODEL_5d3061f7cf7f4814abc2fc4b2f75d9e5"
      }
     },
     "98307fe7e8a349ee9c87cdb1d713cf1f": {
      "model_module": "@jupyter-widgets/base",
      "model_module_version": "2.0.0",
      "model_name": "LayoutModel",
      "state": {}
     },
     "983b335096d048329aa04f183b464a10": {
      "model_module": "@jupyter-widgets/controls",
      "model_module_version": "2.0.0",
      "model_name": "HBoxModel",
      "state": {
       "children": [
        "IPY_MODEL_938055596f344aee911c629823ac73ea",
        "IPY_MODEL_7f706c424f254038b87ee01ca407eb62",
        "IPY_MODEL_2363f8de8ee84ee6960a620dad2ed32d"
       ],
       "layout": "IPY_MODEL_4166931f50d84dd6a7147662388051dd"
      }
     },
     "985a90ae0fa64afab0dc4389d109eedc": {
      "model_module": "@jupyter-widgets/controls",
      "model_module_version": "2.0.0",
      "model_name": "HTMLStyleModel",
      "state": {
       "description_width": "",
       "font_size": null,
       "text_color": null
      }
     },
     "98699d103b8149c9930d368b67a2ba47": {
      "model_module": "@jupyter-widgets/base",
      "model_module_version": "2.0.0",
      "model_name": "LayoutModel",
      "state": {}
     },
     "98721c85b91e4722ac52f11c427b9f35": {
      "model_module": "@jupyter-widgets/controls",
      "model_module_version": "2.0.0",
      "model_name": "ProgressStyleModel",
      "state": {
       "description_width": ""
      }
     },
     "9874e3c447b2440a814e11413bf70a0b": {
      "model_module": "@jupyter-widgets/base",
      "model_module_version": "2.0.0",
      "model_name": "LayoutModel",
      "state": {}
     },
     "98817da2b2ec4054b5055b93fc298836": {
      "model_module": "@jupyter-widgets/base",
      "model_module_version": "2.0.0",
      "model_name": "LayoutModel",
      "state": {}
     },
     "988e69df210b4d61b406923d1588f70a": {
      "model_module": "@jupyter-widgets/controls",
      "model_module_version": "2.0.0",
      "model_name": "FloatProgressModel",
      "state": {
       "bar_style": "success",
       "layout": "IPY_MODEL_e2eda81eaf4c4388991c71ce55ca99ce",
       "max": 2,
       "style": "IPY_MODEL_407b41b5c2dd497e8fc3afdf829226a8",
       "value": 2
      }
     },
     "98932e17ccb74b79bb0b66041ffa4f06": {
      "model_module": "@jupyter-widgets/base",
      "model_module_version": "2.0.0",
      "model_name": "LayoutModel",
      "state": {
       "flex": "2"
      }
     },
     "98a8a1c5a5804248b947433c086f4082": {
      "model_module": "@jupyter-widgets/controls",
      "model_module_version": "2.0.0",
      "model_name": "HTMLModel",
      "state": {
       "layout": "IPY_MODEL_b254fb4369204122b6996e6359fe6a2a",
       "style": "IPY_MODEL_949c0cfeb6b84ac1b37cdf1329e40984",
       "value": "Scanning for nodes in hook.frame__tpch__orders...: 100%"
      }
     },
     "98fab114aa664d4da5921bf5b9a95a1b": {
      "model_module": "@jupyter-widgets/base",
      "model_module_version": "2.0.0",
      "model_name": "LayoutModel",
      "state": {
       "visibility": "hidden"
      }
     },
     "98fc42c1f17243b9a6ef09749624bdce": {
      "model_module": "@jupyter-widgets/controls",
      "model_module_version": "2.0.0",
      "model_name": "HBoxModel",
      "state": {
       "children": [
        "IPY_MODEL_68ccd938148b45dab16e159d2e85fb32",
        "IPY_MODEL_9a8a4c302dbd4c379f6c78aa86d5eb7f",
        "IPY_MODEL_6d8cb7db1ce14bbe95501e9d0ef20599"
       ],
       "layout": "IPY_MODEL_5c68333fc29d4ce2bad2385531349e4b"
      }
     },
     "9947e633cc474014855e526b49939467": {
      "model_module": "@jupyter-widgets/controls",
      "model_module_version": "2.0.0",
      "model_name": "FloatProgressModel",
      "state": {
       "bar_style": "success",
       "layout": "IPY_MODEL_1368640db99b4c2eab13ef1e63ed4a12",
       "max": 2,
       "style": "IPY_MODEL_f2c0eb062b2e44cbbcada6098f28ffa7",
       "value": 2
      }
     },
     "99743b14870c40fea311e5b123422e0e": {
      "model_module": "@jupyter-widgets/controls",
      "model_module_version": "2.0.0",
      "model_name": "ProgressStyleModel",
      "state": {
       "description_width": ""
      }
     },
     "99836d534804491fbc8898bad25422c4": {
      "model_module": "@jupyter-widgets/base",
      "model_module_version": "2.0.0",
      "model_name": "LayoutModel",
      "state": {
       "visibility": "hidden"
      }
     },
     "99c7089d664f4219b40d84ae0182dc55": {
      "model_module": "@jupyter-widgets/controls",
      "model_module_version": "2.0.0",
      "model_name": "HTMLStyleModel",
      "state": {
       "description_width": "",
       "font_size": null,
       "text_color": null
      }
     },
     "99d6bf1e589d4284a57fc0cd09eb57d6": {
      "model_module": "@jupyter-widgets/controls",
      "model_module_version": "2.0.0",
      "model_name": "HTMLStyleModel",
      "state": {
       "description_width": "",
       "font_size": null,
       "text_color": null
      }
     },
     "99fdecf114e0476c83048889d034eb86": {
      "model_module": "@jupyter-widgets/controls",
      "model_module_version": "2.0.0",
      "model_name": "HTMLModel",
      "state": {
       "layout": "IPY_MODEL_076957cef631464785a6307dd83cdf11",
       "style": "IPY_MODEL_a88f782a64574fb9b1c9f9d359980392",
       "value": " 0/2 [00:16&lt;?, ?it/s]"
      }
     },
     "9a0fa9dce4bd4f8088532cbab5ca8b30": {
      "model_module": "@jupyter-widgets/controls",
      "model_module_version": "2.0.0",
      "model_name": "HTMLModel",
      "state": {
       "layout": "IPY_MODEL_9d4aceb5c24440cb9e7ff0f62a5c8510",
       "style": "IPY_MODEL_227c468380864ebfb1169ae192debdf0",
       "value": "Scanning for nodes...: 100%"
      }
     },
     "9a12af52137d4d38aae244563e7829b0": {
      "model_module": "@jupyter-widgets/controls",
      "model_module_version": "2.0.0",
      "model_name": "HTMLStyleModel",
      "state": {
       "description_width": "",
       "font_size": null,
       "text_color": null
      }
     },
     "9a15e17d2c21474c99f3b214d5ab3070": {
      "model_module": "@jupyter-widgets/controls",
      "model_module_version": "2.0.0",
      "model_name": "HTMLStyleModel",
      "state": {
       "description_width": "",
       "font_size": null,
       "text_color": null
      }
     },
     "9a294d70a4f146bbb83df0f2b1ef2fd1": {
      "model_module": "@jupyter-widgets/controls",
      "model_module_version": "2.0.0",
      "model_name": "HTMLModel",
      "state": {
       "layout": "IPY_MODEL_75bbd18dba34458ebc8e1a0d574e92b9",
       "style": "IPY_MODEL_a6ce9fa2df8240f6a8a0cf32efc91a75",
       "value": "Scanning for nodes...: 100%"
      }
     },
     "9a3264e114b14650bfb4f99732b8345e": {
      "model_module": "@jupyter-widgets/base",
      "model_module_version": "2.0.0",
      "model_name": "LayoutModel",
      "state": {
       "display": "inline-flex",
       "flex_flow": "row wrap",
       "width": "100%"
      }
     },
     "9a591a8596d344c596be0b39a58ea9f7": {
      "model_module": "@jupyter-widgets/controls",
      "model_module_version": "2.0.0",
      "model_name": "ProgressStyleModel",
      "state": {
       "description_width": ""
      }
     },
     "9a723fdc79a3483b81d588c31e6184df": {
      "model_module": "@jupyter-widgets/base",
      "model_module_version": "2.0.0",
      "model_name": "LayoutModel",
      "state": {}
     },
     "9a8a4c302dbd4c379f6c78aa86d5eb7f": {
      "model_module": "@jupyter-widgets/controls",
      "model_module_version": "2.0.0",
      "model_name": "FloatProgressModel",
      "state": {
       "layout": "IPY_MODEL_8aefa3488c524c19b34f8dc935177271",
       "max": 2,
       "style": "IPY_MODEL_6cabfff3052f445e9b0b774564fcaa81",
       "value": 2
      }
     },
     "9ac51799724d4795bf3164826863f1aa": {
      "model_module": "@jupyter-widgets/controls",
      "model_module_version": "2.0.0",
      "model_name": "HTMLStyleModel",
      "state": {
       "description_width": "",
       "font_size": null,
       "text_color": null
      }
     },
     "9adf06e2437943d8aefcd1302e4cbb2f": {
      "model_module": "@jupyter-widgets/controls",
      "model_module_version": "2.0.0",
      "model_name": "FloatProgressModel",
      "state": {
       "layout": "IPY_MODEL_389672cc2e154495b253a66675020f1f",
       "max": 2,
       "style": "IPY_MODEL_c5b9a5950dd749598de98336f2d06a7b",
       "value": 2
      }
     },
     "9ae2a999c3cb4d1682c749c4d0c3b31e": {
      "model_module": "@jupyter-widgets/controls",
      "model_module_version": "2.0.0",
      "model_name": "HTMLStyleModel",
      "state": {
       "description_width": "",
       "font_size": null,
       "text_color": null
      }
     },
     "9aeefaed594640d49c69bf91fe707c0e": {
      "model_module": "@jupyter-widgets/controls",
      "model_module_version": "2.0.0",
      "model_name": "HTMLStyleModel",
      "state": {
       "description_width": "",
       "font_size": null,
       "text_color": null
      }
     },
     "9af352b7ff2f453a98de65c82062f6cf": {
      "model_module": "@jupyter-widgets/controls",
      "model_module_version": "2.0.0",
      "model_name": "FloatProgressModel",
      "state": {
       "layout": "IPY_MODEL_9f80ea92c6ef4e58a48012b4ccf0a13c",
       "max": 4,
       "style": "IPY_MODEL_610ef207caa84742bc845cf857e9b26d",
       "value": 4
      }
     },
     "9afd58cb05184a148c5b12b453f4ad24": {
      "model_module": "@jupyter-widgets/controls",
      "model_module_version": "2.0.0",
      "model_name": "HTMLStyleModel",
      "state": {
       "description_width": "",
       "font_size": null,
       "text_color": null
      }
     },
     "9afe9ea8b7024193b8a904b9da531562": {
      "model_module": "@jupyter-widgets/base",
      "model_module_version": "2.0.0",
      "model_name": "LayoutModel",
      "state": {}
     },
     "9b006e0a4e0442ecae86d065a333d46d": {
      "model_module": "@jupyter-widgets/controls",
      "model_module_version": "2.0.0",
      "model_name": "HTMLModel",
      "state": {
       "layout": "IPY_MODEL_be090fe662624da2a72a027237cd04d2",
       "style": "IPY_MODEL_fd3526e471304031ac1a15992afcc885",
       "value": "Scanning hook.frame__tpch__customer: 100%"
      }
     },
     "9b17272da555446aba730b144c201d25": {
      "model_module": "@jupyter-widgets/base",
      "model_module_version": "2.0.0",
      "model_name": "LayoutModel",
      "state": {
       "display": "inline-flex",
       "flex_flow": "row wrap",
       "width": "100%"
      }
     },
     "9b2e37d5e308445fa1f1463a043e313d": {
      "model_module": "@jupyter-widgets/controls",
      "model_module_version": "2.0.0",
      "model_name": "HTMLModel",
      "state": {
       "layout": "IPY_MODEL_f99b872a57f3434fafd45969465756d4",
       "style": "IPY_MODEL_3d40fd9f2c904dffa56c39c2a079f41d",
       "value": " 2/2 [00:01&lt;00:00,  1.85it/s]"
      }
     },
     "9b3a0dd9ce8e4650af030afc85de043f": {
      "model_module": "@jupyter-widgets/controls",
      "model_module_version": "2.0.0",
      "model_name": "HTMLModel",
      "state": {
       "layout": "IPY_MODEL_845c05a707ef4a12839b51bf781c0122",
       "style": "IPY_MODEL_797a64e7059a4ef1a4fcbc791cffdb33",
       "value": "Scanning for edges...: 100%"
      }
     },
     "9b3da3da14fe4733b65cadfdd32d2dd5": {
      "model_module": "@jupyter-widgets/controls",
      "model_module_version": "2.0.0",
      "model_name": "HTMLStyleModel",
      "state": {
       "description_width": "",
       "font_size": null,
       "text_color": null
      }
     },
     "9b55a323dcbe41689b38ad4debc9874a": {
      "model_module": "@jupyter-widgets/base",
      "model_module_version": "2.0.0",
      "model_name": "LayoutModel",
      "state": {}
     },
     "9b5c2728c85e4d1996b13f8a7e7cd407": {
      "model_module": "@jupyter-widgets/base",
      "model_module_version": "2.0.0",
      "model_name": "LayoutModel",
      "state": {}
     },
     "9b630e7c17db4f57950434160c8feecd": {
      "model_module": "@jupyter-widgets/base",
      "model_module_version": "2.0.0",
      "model_name": "LayoutModel",
      "state": {}
     },
     "9b6a6ab2547a4f38a3014ea4dd881f70": {
      "model_module": "@jupyter-widgets/controls",
      "model_module_version": "2.0.0",
      "model_name": "HTMLStyleModel",
      "state": {
       "description_width": "",
       "font_size": null,
       "text_color": null
      }
     },
     "9bb258d272214b0d983e2450c281aa81": {
      "model_module": "@jupyter-widgets/controls",
      "model_module_version": "2.0.0",
      "model_name": "FloatProgressModel",
      "state": {
       "bar_style": "success",
       "layout": "IPY_MODEL_78ef955a5476471eb3ada0ffe60eded8",
       "max": 2,
       "style": "IPY_MODEL_b1679d4866394ecdba2b99babcd9578b",
       "value": 2
      }
     },
     "9bc2a8ecccdd47bba7e13279105deb08": {
      "model_module": "@jupyter-widgets/base",
      "model_module_version": "2.0.0",
      "model_name": "LayoutModel",
      "state": {}
     },
     "9bc5d2e652e0427798938676aee79317": {
      "model_module": "@jupyter-widgets/base",
      "model_module_version": "2.0.0",
      "model_name": "LayoutModel",
      "state": {}
     },
     "9bfb3a5b41eb404f8a9d6c6ccea889b5": {
      "model_module": "@jupyter-widgets/controls",
      "model_module_version": "2.0.0",
      "model_name": "HTMLModel",
      "state": {
       "layout": "IPY_MODEL_d81d184576224be7a32285f47bbd73a1",
       "style": "IPY_MODEL_3315f528496647bab3b32613138d51f4",
       "value": "Scanning frames: 100%"
      }
     },
     "9c005d99d24b4fa7b4538215f375edcd": {
      "model_module": "@jupyter-widgets/controls",
      "model_module_version": "2.0.0",
      "model_name": "HTMLStyleModel",
      "state": {
       "description_width": "",
       "font_size": null,
       "text_color": null
      }
     },
     "9c0d63c4e3754350b3abb0bb889d5a5e": {
      "model_module": "@jupyter-widgets/controls",
      "model_module_version": "2.0.0",
      "model_name": "HTMLStyleModel",
      "state": {
       "description_width": "",
       "font_size": null,
       "text_color": null
      }
     },
     "9c15d5e4f585408b82c8208510e20968": {
      "model_module": "@jupyter-widgets/controls",
      "model_module_version": "2.0.0",
      "model_name": "HTMLStyleModel",
      "state": {
       "description_width": "",
       "font_size": null,
       "text_color": null
      }
     },
     "9c4eaf1cfe20431db1bbfaa35ad97191": {
      "model_module": "@jupyter-widgets/controls",
      "model_module_version": "2.0.0",
      "model_name": "HTMLModel",
      "state": {
       "layout": "IPY_MODEL_5c9aa03c9b1d40d2b31d24ef2fe214ed",
       "style": "IPY_MODEL_08d485ab926e45e290f99ccc2cd022f9",
       "value": "hook.frame__tpch__region: nodes...: 100%"
      }
     },
     "9c57c2662de644e680996b6afd58df37": {
      "model_module": "@jupyter-widgets/controls",
      "model_module_version": "2.0.0",
      "model_name": "HTMLStyleModel",
      "state": {
       "description_width": "",
       "font_size": null,
       "text_color": null
      }
     },
     "9c7b40d841fa44ee87f21fd2dbd93bbb": {
      "model_module": "@jupyter-widgets/controls",
      "model_module_version": "2.0.0",
      "model_name": "HTMLStyleModel",
      "state": {
       "description_width": "",
       "font_size": null,
       "text_color": null
      }
     },
     "9cae0b4f21484cc186a274802ff058c6": {
      "model_module": "@jupyter-widgets/controls",
      "model_module_version": "2.0.0",
      "model_name": "HTMLStyleModel",
      "state": {
       "description_width": "",
       "font_size": null,
       "text_color": null
      }
     },
     "9cc2cf94d1ee4fddb4a9a44f42b4ae13": {
      "model_module": "@jupyter-widgets/controls",
      "model_module_version": "2.0.0",
      "model_name": "FloatProgressModel",
      "state": {
       "bar_style": "success",
       "layout": "IPY_MODEL_044a43fb885d456dbd4b604f8bb481a0",
       "max": 2,
       "style": "IPY_MODEL_748405a034f14599961c0a6d49da13f6",
       "value": 2
      }
     },
     "9ce4d231155f4290b37d644111088119": {
      "model_module": "@jupyter-widgets/base",
      "model_module_version": "2.0.0",
      "model_name": "LayoutModel",
      "state": {}
     },
     "9cfa82e79ac14652883e1742ab0fa9bd": {
      "model_module": "@jupyter-widgets/controls",
      "model_module_version": "2.0.0",
      "model_name": "FloatProgressModel",
      "state": {
       "bar_style": "success",
       "layout": "IPY_MODEL_98932e17ccb74b79bb0b66041ffa4f06",
       "max": 2,
       "style": "IPY_MODEL_e817068ee1694dedbf3198511c5791d3",
       "value": 2
      }
     },
     "9d1559f5bfaa4ccfad2adab9846d12ff": {
      "model_module": "@jupyter-widgets/controls",
      "model_module_version": "2.0.0",
      "model_name": "ProgressStyleModel",
      "state": {
       "description_width": ""
      }
     },
     "9d3ce2c73056467e9a56f4aaf7ebd146": {
      "model_module": "@jupyter-widgets/base",
      "model_module_version": "2.0.0",
      "model_name": "LayoutModel",
      "state": {}
     },
     "9d4944da62b44ce7992ff09e161dc247": {
      "model_module": "@jupyter-widgets/controls",
      "model_module_version": "2.0.0",
      "model_name": "HBoxModel",
      "state": {
       "children": [
        "IPY_MODEL_0236dda5b9214b708b0f80d691ffd51b",
        "IPY_MODEL_13d4a7bc98044feaa9d3a67b3cf85649",
        "IPY_MODEL_a932e480866041b78831dd9e6d450ee2"
       ],
       "layout": "IPY_MODEL_522616e336c44e4389a3b165b0d310c4"
      }
     },
     "9d4aceb5c24440cb9e7ff0f62a5c8510": {
      "model_module": "@jupyter-widgets/base",
      "model_module_version": "2.0.0",
      "model_name": "LayoutModel",
      "state": {}
     },
     "9d73901b3a014a1ea9a5e492210cdb78": {
      "model_module": "@jupyter-widgets/base",
      "model_module_version": "2.0.0",
      "model_name": "LayoutModel",
      "state": {}
     },
     "9d8ebbf604c94bac9f1b15d52b1f17a6": {
      "model_module": "@jupyter-widgets/base",
      "model_module_version": "2.0.0",
      "model_name": "LayoutModel",
      "state": {}
     },
     "9d98a122d2794c308a3534cb04ef7679": {
      "model_module": "@jupyter-widgets/controls",
      "model_module_version": "2.0.0",
      "model_name": "HBoxModel",
      "state": {
       "children": [
        "IPY_MODEL_039147e939d54bb080730c5eefa3e672",
        "IPY_MODEL_31f3711e65a94bf098c44a8d79ebccdc",
        "IPY_MODEL_07579f7a6cc74c2e936b5579915a40f1"
       ],
       "layout": "IPY_MODEL_a98d1bd25efe4c7fae9567bc6dcd8ebe"
      }
     },
     "9da14c3562c2417e9590f45265c86c86": {
      "model_module": "@jupyter-widgets/base",
      "model_module_version": "2.0.0",
      "model_name": "LayoutModel",
      "state": {}
     },
     "9dab8f6e19804e75847acff0a483bf0f": {
      "model_module": "@jupyter-widgets/controls",
      "model_module_version": "2.0.0",
      "model_name": "FloatProgressModel",
      "state": {
       "bar_style": "success",
       "layout": "IPY_MODEL_fb06d84ba518493da827c7bd9b7bfe1e",
       "max": 8,
       "style": "IPY_MODEL_05d21b8acfd2472d824a0a4515d56953",
       "value": 8
      }
     },
     "9daff45a66994119829fc27a3c9876e5": {
      "model_module": "@jupyter-widgets/controls",
      "model_module_version": "2.0.0",
      "model_name": "FloatProgressModel",
      "state": {
       "bar_style": "success",
       "layout": "IPY_MODEL_9bc5d2e652e0427798938676aee79317",
       "max": 1,
       "style": "IPY_MODEL_d0874992398241f9a0d0f3aafb845cbd",
       "value": 1
      }
     },
     "9dd5320968ee4525b90ff0107d029df2": {
      "model_module": "@jupyter-widgets/controls",
      "model_module_version": "2.0.0",
      "model_name": "HTMLStyleModel",
      "state": {
       "description_width": "",
       "font_size": null,
       "text_color": null
      }
     },
     "9de7ce63fda24af28cecfd779ab016de": {
      "model_module": "@jupyter-widgets/controls",
      "model_module_version": "2.0.0",
      "model_name": "HTMLModel",
      "state": {
       "layout": "IPY_MODEL_eb244a1cfbb04ad884c3994732a6e665",
       "style": "IPY_MODEL_567a5405730f415e974866deab8e167a",
       "value": " 4/4 [00:33&lt;00:00,  8.55s/it]"
      }
     },
     "9df26e21613248f7ba49114217b8372c": {
      "model_module": "@jupyter-widgets/base",
      "model_module_version": "2.0.0",
      "model_name": "LayoutModel",
      "state": {}
     },
     "9df3bb944a5e40ed9de3d9e0d3a065e8": {
      "model_module": "@jupyter-widgets/controls",
      "model_module_version": "2.0.0",
      "model_name": "HTMLModel",
      "state": {
       "layout": "IPY_MODEL_cfc5700edd204016b41788f3bdbda980",
       "style": "IPY_MODEL_2773580b94f44220985d4edd40dc16fb",
       "value": "Scanning frames: 100%"
      }
     },
     "9e08ccfdb0024eacb0c8ad3498eebbab": {
      "model_module": "@jupyter-widgets/controls",
      "model_module_version": "2.0.0",
      "model_name": "ProgressStyleModel",
      "state": {
       "description_width": ""
      }
     },
     "9e46284cb1c04a44b5fb0a35a3c27794": {
      "model_module": "@jupyter-widgets/base",
      "model_module_version": "2.0.0",
      "model_name": "LayoutModel",
      "state": {
       "display": "inline-flex",
       "flex_flow": "row wrap",
       "width": "100%"
      }
     },
     "9e56883c7bb244f6abba3eddaffad593": {
      "model_module": "@jupyter-widgets/controls",
      "model_module_version": "2.0.0",
      "model_name": "HTMLStyleModel",
      "state": {
       "description_width": "",
       "font_size": null,
       "text_color": null
      }
     },
     "9e57b55c1e7e4381a7776a1dd296fe0f": {
      "model_module": "@jupyter-widgets/base",
      "model_module_version": "2.0.0",
      "model_name": "LayoutModel",
      "state": {}
     },
     "9e8679a5054e4503b8f68bf1cd81d265": {
      "model_module": "@jupyter-widgets/controls",
      "model_module_version": "2.0.0",
      "model_name": "HTMLStyleModel",
      "state": {
       "description_width": "",
       "font_size": null,
       "text_color": null
      }
     },
     "9e8ea4acbc634a08a3e314a98808af2d": {
      "model_module": "@jupyter-widgets/controls",
      "model_module_version": "2.0.0",
      "model_name": "HTMLModel",
      "state": {
       "layout": "IPY_MODEL_0d0d30bc999b4c0ba701907316b047ba",
       "style": "IPY_MODEL_3ee74a21e9614f9e98d144ee2a84f204",
       "value": " 8/8 [00:48&lt;00:00,  5.30s/it]"
      }
     },
     "9e96bef7c76d4def8096913cbd9e1811": {
      "model_module": "@jupyter-widgets/controls",
      "model_module_version": "2.0.0",
      "model_name": "ProgressStyleModel",
      "state": {
       "description_width": ""
      }
     },
     "9ea1f0008f3741c7bee31bee506ab0e9": {
      "model_module": "@jupyter-widgets/controls",
      "model_module_version": "2.0.0",
      "model_name": "ProgressStyleModel",
      "state": {
       "description_width": ""
      }
     },
     "9eaf1e5761644a8a84de3e7766f6e6f9": {
      "model_module": "@jupyter-widgets/controls",
      "model_module_version": "2.0.0",
      "model_name": "HTMLStyleModel",
      "state": {
       "description_width": "",
       "font_size": null,
       "text_color": null
      }
     },
     "9ef0b1f709a345d7ba7eaa52260b739b": {
      "model_module": "@jupyter-widgets/controls",
      "model_module_version": "2.0.0",
      "model_name": "FloatProgressModel",
      "state": {
       "bar_style": "success",
       "layout": "IPY_MODEL_703a37bae2f04ca28f4b0492024da8cf",
       "max": 2,
       "style": "IPY_MODEL_08dcaafc548a4d5496d90c492b491363",
       "value": 2
      }
     },
     "9f0e9de37b244181b38e0652e2e80bc4": {
      "model_module": "@jupyter-widgets/controls",
      "model_module_version": "2.0.0",
      "model_name": "HTMLStyleModel",
      "state": {
       "description_width": "",
       "font_size": null,
       "text_color": null
      }
     },
     "9f626d9eb4294411b1646fcf63cb1604": {
      "model_module": "@jupyter-widgets/controls",
      "model_module_version": "2.0.0",
      "model_name": "HBoxModel",
      "state": {
       "children": [
        "IPY_MODEL_3a772f5efe2242aeb629f94f920f7369",
        "IPY_MODEL_2e031c2f855f43f5a2fd38f1ce4b2bc7",
        "IPY_MODEL_f3d47a9df91049e9825057ea2e9b38b7"
       ],
       "layout": "IPY_MODEL_967f6a54c36140a392a5b2966968e17d"
      }
     },
     "9f80ea92c6ef4e58a48012b4ccf0a13c": {
      "model_module": "@jupyter-widgets/base",
      "model_module_version": "2.0.0",
      "model_name": "LayoutModel",
      "state": {}
     },
     "9fa720cca2e249138874447bfd53ef63": {
      "model_module": "@jupyter-widgets/base",
      "model_module_version": "2.0.0",
      "model_name": "LayoutModel",
      "state": {}
     },
     "9fad56fa177a4117affea798c4936dcc": {
      "model_module": "@jupyter-widgets/controls",
      "model_module_version": "2.0.0",
      "model_name": "ProgressStyleModel",
      "state": {
       "description_width": ""
      }
     },
     "9fd8971abbbb4d078186a80ebb315f34": {
      "model_module": "@jupyter-widgets/base",
      "model_module_version": "2.0.0",
      "model_name": "LayoutModel",
      "state": {}
     },
     "a03799d72280414ea5bedbe4925f4713": {
      "model_module": "@jupyter-widgets/controls",
      "model_module_version": "2.0.0",
      "model_name": "HTMLModel",
      "state": {
       "layout": "IPY_MODEL_f4236302cb4c4d1ea96201a55698307c",
       "style": "IPY_MODEL_1a3981bc4c5e4a8ca940c892892ebb1b",
       "value": " 2/2 [00:31&lt;00:00, 15.94s/it]"
      }
     },
     "a04ff99a15984877ac332def8dc4b2ee": {
      "model_module": "@jupyter-widgets/base",
      "model_module_version": "2.0.0",
      "model_name": "LayoutModel",
      "state": {}
     },
     "a0507032b5b34c8ba9113e9d6597353c": {
      "model_module": "@jupyter-widgets/base",
      "model_module_version": "2.0.0",
      "model_name": "LayoutModel",
      "state": {
       "flex": "2"
      }
     },
     "a0c02beb838a438f92f79699c529f0bb": {
      "model_module": "@jupyter-widgets/base",
      "model_module_version": "2.0.0",
      "model_name": "LayoutModel",
      "state": {}
     },
     "a0cfeedad3e84aa78379868e6dae1ca8": {
      "model_module": "@jupyter-widgets/controls",
      "model_module_version": "2.0.0",
      "model_name": "HTMLStyleModel",
      "state": {
       "description_width": "",
       "font_size": null,
       "text_color": null
      }
     },
     "a0e205a6f1e8425f8f205f91ab042430": {
      "model_module": "@jupyter-widgets/base",
      "model_module_version": "2.0.0",
      "model_name": "LayoutModel",
      "state": {}
     },
     "a0f75fc84b9f49aa85f8c29dd99371b6": {
      "model_module": "@jupyter-widgets/base",
      "model_module_version": "2.0.0",
      "model_name": "LayoutModel",
      "state": {
       "visibility": "hidden"
      }
     },
     "a100246b95fb4bf5905fc9cf141c4c3f": {
      "model_module": "@jupyter-widgets/base",
      "model_module_version": "2.0.0",
      "model_name": "LayoutModel",
      "state": {}
     },
     "a103479bb39f4de5b20208ebdf3ca38d": {
      "model_module": "@jupyter-widgets/controls",
      "model_module_version": "2.0.0",
      "model_name": "HTMLStyleModel",
      "state": {
       "description_width": "",
       "font_size": null,
       "text_color": null
      }
     },
     "a1301815546341f38e2e47aadb77f520": {
      "model_module": "@jupyter-widgets/controls",
      "model_module_version": "2.0.0",
      "model_name": "HTMLStyleModel",
      "state": {
       "description_width": "",
       "font_size": null,
       "text_color": null
      }
     },
     "a1540029b08640beb1480a994cd1dc51": {
      "model_module": "@jupyter-widgets/controls",
      "model_module_version": "2.0.0",
      "model_name": "HTMLModel",
      "state": {
       "layout": "IPY_MODEL_a2ff3d318499493b84403d14018b4e7f",
       "style": "IPY_MODEL_c617cbb3909d4a708ce84a938e7f6ace",
       "value": "Scanning for edges...:   0%"
      }
     },
     "a160fda104b24508b80a8ad9672bdb6f": {
      "model_module": "@jupyter-widgets/controls",
      "model_module_version": "2.0.0",
      "model_name": "ProgressStyleModel",
      "state": {
       "description_width": ""
      }
     },
     "a16c23bf41134b5b9b58077823c971a8": {
      "model_module": "@jupyter-widgets/base",
      "model_module_version": "2.0.0",
      "model_name": "LayoutModel",
      "state": {}
     },
     "a196c96edd754756ab62f9e462a5e12e": {
      "model_module": "@jupyter-widgets/base",
      "model_module_version": "2.0.0",
      "model_name": "LayoutModel",
      "state": {}
     },
     "a19a2cf71b1f4d91976dec361fb50e27": {
      "model_module": "@jupyter-widgets/controls",
      "model_module_version": "2.0.0",
      "model_name": "FloatProgressModel",
      "state": {
       "layout": "IPY_MODEL_d2f55b2e9d6a4f58853a1d8f5631ef1c",
       "max": 2,
       "style": "IPY_MODEL_16b51921e98e445489d8313a5c51cfc1",
       "value": 2
      }
     },
     "a1a99a8f686d4be99294b499c4ea6087": {
      "model_module": "@jupyter-widgets/controls",
      "model_module_version": "2.0.0",
      "model_name": "FloatProgressModel",
      "state": {
       "bar_style": "success",
       "layout": "IPY_MODEL_1c9146bc957b4b918b968fa44310f34c",
       "max": 1,
       "style": "IPY_MODEL_67cf57f239944eff81ca0cc133682e38",
       "value": 1
      }
     },
     "a1cda36c91bf4022a72e22d53a3981eb": {
      "model_module": "@jupyter-widgets/controls",
      "model_module_version": "2.0.0",
      "model_name": "HTMLStyleModel",
      "state": {
       "description_width": "",
       "font_size": null,
       "text_color": null
      }
     },
     "a1e05ffa5a654d879ebe0781d7f9ae3a": {
      "model_module": "@jupyter-widgets/base",
      "model_module_version": "2.0.0",
      "model_name": "LayoutModel",
      "state": {}
     },
     "a1e5989465184bd28a21e7c5ce7d48f0": {
      "model_module": "@jupyter-widgets/controls",
      "model_module_version": "2.0.0",
      "model_name": "HTMLModel",
      "state": {
       "layout": "IPY_MODEL_7c04383b62e348fc89440c37ec41f4ae",
       "style": "IPY_MODEL_8d255ed1b5fa44a08c8a9e2907d2c6a8",
       "value": " 8/8 [01:35&lt;00:00, 10.39s/it]"
      }
     },
     "a215a077fd5f489bb7e8f530101d9986": {
      "model_module": "@jupyter-widgets/base",
      "model_module_version": "2.0.0",
      "model_name": "LayoutModel",
      "state": {}
     },
     "a2229cf4f2434a1d9d4bb6e2e0f47b51": {
      "model_module": "@jupyter-widgets/controls",
      "model_module_version": "2.0.0",
      "model_name": "ProgressStyleModel",
      "state": {
       "description_width": ""
      }
     },
     "a2451b582e6740ae9370b9800837716b": {
      "model_module": "@jupyter-widgets/controls",
      "model_module_version": "2.0.0",
      "model_name": "FloatProgressModel",
      "state": {
       "layout": "IPY_MODEL_e7811efbb9cf4bef813075086b453148",
       "max": 3,
       "style": "IPY_MODEL_98721c85b91e4722ac52f11c427b9f35",
       "value": 3
      }
     },
     "a2486e361e944cb086082d69ec02f19e": {
      "model_module": "@jupyter-widgets/controls",
      "model_module_version": "2.0.0",
      "model_name": "HTMLModel",
      "state": {
       "layout": "IPY_MODEL_34a33bd4c67e4fe8954df04bffa6edd9",
       "style": "IPY_MODEL_ace0a24b4c2146f68b47f0fc4e80be91",
       "value": " 2/2 [00:01&lt;00:00,  1.84it/s]"
      }
     },
     "a268223ad81748ff865e2ab0cec11da4": {
      "model_module": "@jupyter-widgets/base",
      "model_module_version": "2.0.0",
      "model_name": "LayoutModel",
      "state": {}
     },
     "a27237ab28ef479c92a533a2e1387ebf": {
      "model_module": "@jupyter-widgets/base",
      "model_module_version": "2.0.0",
      "model_name": "LayoutModel",
      "state": {}
     },
     "a284f2fe590a4e1aa9409fd6cb0528f0": {
      "model_module": "@jupyter-widgets/controls",
      "model_module_version": "2.0.0",
      "model_name": "FloatProgressModel",
      "state": {
       "layout": "IPY_MODEL_a3c808bb98ac4d2f85a073138e70f941",
       "max": 2,
       "style": "IPY_MODEL_f5a0736b2fb0435fb8a634f97f1496d2",
       "value": 2
      }
     },
     "a289f2c518b6497d8783cf0111a7bf67": {
      "model_module": "@jupyter-widgets/base",
      "model_module_version": "2.0.0",
      "model_name": "LayoutModel",
      "state": {}
     },
     "a28fd94fb2db4784925de29c8a8d18c0": {
      "model_module": "@jupyter-widgets/controls",
      "model_module_version": "2.0.0",
      "model_name": "FloatProgressModel",
      "state": {
       "layout": "IPY_MODEL_d99dc961c78c4ec48d15fad8f9ea300b",
       "max": 1,
       "style": "IPY_MODEL_c8c072de668541d8b50a8a56e8b8911e",
       "value": 1
      }
     },
     "a2915029a3f64bed95de87123be9f58a": {
      "model_module": "@jupyter-widgets/base",
      "model_module_version": "2.0.0",
      "model_name": "LayoutModel",
      "state": {}
     },
     "a29a6eec58b044d1a10abca91aaf40a1": {
      "model_module": "@jupyter-widgets/controls",
      "model_module_version": "2.0.0",
      "model_name": "HBoxModel",
      "state": {
       "children": [
        "IPY_MODEL_476ed4ca01504999bfb372397fb9dcc2",
        "IPY_MODEL_b56a86613ea04f689c24ddf84e249673",
        "IPY_MODEL_bd3407acaff54959a62530555276208d"
       ],
       "layout": "IPY_MODEL_290c8e63f0584f2abb3f6c01342c4aff"
      }
     },
     "a2ff3d318499493b84403d14018b4e7f": {
      "model_module": "@jupyter-widgets/base",
      "model_module_version": "2.0.0",
      "model_name": "LayoutModel",
      "state": {}
     },
     "a2ffa1b3278c45d7aa9dbd4fc8e7b929": {
      "model_module": "@jupyter-widgets/controls",
      "model_module_version": "2.0.0",
      "model_name": "HTMLStyleModel",
      "state": {
       "description_width": "",
       "font_size": null,
       "text_color": null
      }
     },
     "a3140dca76cf4878a56a00cd5b0d007f": {
      "model_module": "@jupyter-widgets/controls",
      "model_module_version": "2.0.0",
      "model_name": "ProgressStyleModel",
      "state": {
       "description_width": ""
      }
     },
     "a3274ddcabd440c492003f1d9be48532": {
      "model_module": "@jupyter-widgets/base",
      "model_module_version": "2.0.0",
      "model_name": "LayoutModel",
      "state": {}
     },
     "a32f476cbc904f8980b2905a019c76c7": {
      "model_module": "@jupyter-widgets/base",
      "model_module_version": "2.0.0",
      "model_name": "LayoutModel",
      "state": {}
     },
     "a33d1eb9c95143498b0a7004f1660441": {
      "model_module": "@jupyter-widgets/controls",
      "model_module_version": "2.0.0",
      "model_name": "HTMLStyleModel",
      "state": {
       "description_width": "",
       "font_size": null,
       "text_color": null
      }
     },
     "a34d3df86b544e55b7b8fe0ffaa6113d": {
      "model_module": "@jupyter-widgets/controls",
      "model_module_version": "2.0.0",
      "model_name": "HTMLStyleModel",
      "state": {
       "description_width": "",
       "font_size": null,
       "text_color": null
      }
     },
     "a37651aa2ed64831964f17f8f2bfef28": {
      "model_module": "@jupyter-widgets/controls",
      "model_module_version": "2.0.0",
      "model_name": "FloatProgressModel",
      "state": {
       "bar_style": "success",
       "layout": "IPY_MODEL_a0507032b5b34c8ba9113e9d6597353c",
       "max": 4,
       "style": "IPY_MODEL_039c97b4475c48e7b1f3a1446955f655",
       "value": 4
      }
     },
     "a38eaed300074f13bdfa5acf9bb2e07c": {
      "model_module": "@jupyter-widgets/controls",
      "model_module_version": "2.0.0",
      "model_name": "HTMLModel",
      "state": {
       "layout": "IPY_MODEL_5af98460a7524a5fb14ad45672d768fd",
       "style": "IPY_MODEL_c56737fe62744f54b65fdc4f40450015",
       "value": " 2/2 [00:01&lt;00:00,  1.22s/it]"
      }
     },
     "a3a4aa8eb1aa4c35a081feff35761049": {
      "model_module": "@jupyter-widgets/base",
      "model_module_version": "2.0.0",
      "model_name": "LayoutModel",
      "state": {}
     },
     "a3a74e52007c4716b4a296eafa57560c": {
      "model_module": "@jupyter-widgets/controls",
      "model_module_version": "2.0.0",
      "model_name": "FloatProgressModel",
      "state": {
       "layout": "IPY_MODEL_3c302cd48bdd4d3ab8c29c12c0d19ef8",
       "max": 2,
       "style": "IPY_MODEL_ea2fd893839c465abefa66be08e91e4c",
       "value": 2
      }
     },
     "a3b06933b3ac4bd992fa32ed4b9f3242": {
      "model_module": "@jupyter-widgets/base",
      "model_module_version": "2.0.0",
      "model_name": "LayoutModel",
      "state": {}
     },
     "a3b4658ff5d3468c9dc6883af1a17ccf": {
      "model_module": "@jupyter-widgets/controls",
      "model_module_version": "2.0.0",
      "model_name": "HTMLModel",
      "state": {
       "layout": "IPY_MODEL_17e53c27ffb843a18ef7e16d6ff8805f",
       "style": "IPY_MODEL_8762b2b1e74c4c16803b144bcfcd7654",
       "value": " 1/1 [00:00&lt;00:00, 200.79it/s]"
      }
     },
     "a3c808bb98ac4d2f85a073138e70f941": {
      "model_module": "@jupyter-widgets/base",
      "model_module_version": "2.0.0",
      "model_name": "LayoutModel",
      "state": {}
     },
     "a3d8052082134403bdc93acb00a975ba": {
      "model_module": "@jupyter-widgets/base",
      "model_module_version": "2.0.0",
      "model_name": "LayoutModel",
      "state": {}
     },
     "a3ee7baaddcc4382bb6e34dce7036f68": {
      "model_module": "@jupyter-widgets/controls",
      "model_module_version": "2.0.0",
      "model_name": "FloatProgressModel",
      "state": {
       "layout": "IPY_MODEL_092071c73e934e05aa9400f1b8bd364f",
       "max": 2,
       "style": "IPY_MODEL_5946ab1dc5c94471951e8b82f25430d2",
       "value": 2
      }
     },
     "a3f27e4ff51d46e9adec8905fa6582f1": {
      "model_module": "@jupyter-widgets/controls",
      "model_module_version": "2.0.0",
      "model_name": "HTMLStyleModel",
      "state": {
       "description_width": "",
       "font_size": null,
       "text_color": null
      }
     },
     "a409769022214062aa01028a607c3d5f": {
      "model_module": "@jupyter-widgets/controls",
      "model_module_version": "2.0.0",
      "model_name": "FloatProgressModel",
      "state": {
       "bar_style": "success",
       "layout": "IPY_MODEL_b54cbc3f8e194ffdbdee4fd32de85b9c",
       "max": 1,
       "style": "IPY_MODEL_183ffbfe347a4802a9898f65dcbced3d",
       "value": 1
      }
     },
     "a410cbf183a64d0abd29fb1cefc65ea4": {
      "model_module": "@jupyter-widgets/base",
      "model_module_version": "2.0.0",
      "model_name": "LayoutModel",
      "state": {}
     },
     "a4206c38537440a38188053969b5dec0": {
      "model_module": "@jupyter-widgets/base",
      "model_module_version": "2.0.0",
      "model_name": "LayoutModel",
      "state": {}
     },
     "a48a72ac6ed94633bf8b9d98c9d50420": {
      "model_module": "@jupyter-widgets/controls",
      "model_module_version": "2.0.0",
      "model_name": "HTMLModel",
      "state": {
       "layout": "IPY_MODEL_09f915049d4d4569b7d78bae8e4b9252",
       "style": "IPY_MODEL_9b3da3da14fe4733b65cadfdd32d2dd5",
       "value": "hook.frame__tpch__part: 100%"
      }
     },
     "a4a37d089629463e99accf48acec5e84": {
      "model_module": "@jupyter-widgets/base",
      "model_module_version": "2.0.0",
      "model_name": "LayoutModel",
      "state": {}
     },
     "a4ddba9b185f4085989de1fcd429785e": {
      "model_module": "@jupyter-widgets/base",
      "model_module_version": "2.0.0",
      "model_name": "LayoutModel",
      "state": {}
     },
     "a4ecfc4f753f44f581555b83729ebf61": {
      "model_module": "@jupyter-widgets/controls",
      "model_module_version": "2.0.0",
      "model_name": "FloatProgressModel",
      "state": {
       "layout": "IPY_MODEL_97918745305d42b3b174696e4222417c",
       "max": 1,
       "style": "IPY_MODEL_bb18c147f79b45a5b00117920a29d580",
       "value": 1
      }
     },
     "a50061d446874d0095a357ff3c15a1e5": {
      "model_module": "@jupyter-widgets/controls",
      "model_module_version": "2.0.0",
      "model_name": "HTMLStyleModel",
      "state": {
       "description_width": "",
       "font_size": null,
       "text_color": null
      }
     },
     "a5274d2bf1564fdabcd880788da35cfa": {
      "model_module": "@jupyter-widgets/controls",
      "model_module_version": "2.0.0",
      "model_name": "HTMLStyleModel",
      "state": {
       "description_width": "",
       "font_size": null,
       "text_color": null
      }
     },
     "a528e15c39c54bf9b934beda3c8fe521": {
      "model_module": "@jupyter-widgets/controls",
      "model_module_version": "2.0.0",
      "model_name": "HTMLModel",
      "state": {
       "layout": "IPY_MODEL_0e7278c1089f40e0a12a35883e5fa046",
       "style": "IPY_MODEL_e549ed5abd6443adb4828b18b72832cb",
       "value": "Scanning frames: 100%"
      }
     },
     "a5432c34b7ad46939d915d6e961f3283": {
      "model_module": "@jupyter-widgets/controls",
      "model_module_version": "2.0.0",
      "model_name": "FloatProgressModel",
      "state": {
       "layout": "IPY_MODEL_00a7a705146f4de99dd96362c9b7384d",
       "max": 2,
       "style": "IPY_MODEL_43a1d784c64e490ab4aee5b250fa3d5b",
       "value": 2
      }
     },
     "a54757c135694c3ba4e1e2b7ef52a735": {
      "model_module": "@jupyter-widgets/controls",
      "model_module_version": "2.0.0",
      "model_name": "FloatProgressModel",
      "state": {
       "bar_style": "success",
       "layout": "IPY_MODEL_782fcfeab87840b7867069b8fdb191cf",
       "max": 1,
       "style": "IPY_MODEL_6c69918433944c278beb89e33ba24f80",
       "value": 1
      }
     },
     "a5603126ad864fd98e0cf4370a3b8110": {
      "model_module": "@jupyter-widgets/controls",
      "model_module_version": "2.0.0",
      "model_name": "HTMLStyleModel",
      "state": {
       "description_width": "",
       "font_size": null,
       "text_color": null
      }
     },
     "a5a5db1469e94e8d97e727edbee91515": {
      "model_module": "@jupyter-widgets/base",
      "model_module_version": "2.0.0",
      "model_name": "LayoutModel",
      "state": {}
     },
     "a5ca235e69a84083b8279fa742bf01d6": {
      "model_module": "@jupyter-widgets/controls",
      "model_module_version": "2.0.0",
      "model_name": "HBoxModel",
      "state": {
       "children": [
        "IPY_MODEL_d3f7623617024339bd01222714cc1a6b",
        "IPY_MODEL_747b862b66da42a6a8ae504944551fcb",
        "IPY_MODEL_8cf8610e32994f9f95ff964fe7164339"
       ],
       "layout": "IPY_MODEL_dcbc639ffdf54d94af74806a1ebc65ac"
      }
     },
     "a5d302d2264540978e5269f77c6b07d0": {
      "model_module": "@jupyter-widgets/base",
      "model_module_version": "2.0.0",
      "model_name": "LayoutModel",
      "state": {}
     },
     "a5fec77db1774d1a9114f348cb5a55e7": {
      "model_module": "@jupyter-widgets/controls",
      "model_module_version": "2.0.0",
      "model_name": "FloatProgressModel",
      "state": {
       "layout": "IPY_MODEL_bf79eeb0e17842c8bd1e7ac40ac153dd",
       "max": 3,
       "style": "IPY_MODEL_bff81b5686314160b104411fad1642d6",
       "value": 3
      }
     },
     "a6019c54ae334c4390b1eaad3c8cd06b": {
      "model_module": "@jupyter-widgets/base",
      "model_module_version": "2.0.0",
      "model_name": "LayoutModel",
      "state": {}
     },
     "a603bacb9831425f8ad528b0f5521d13": {
      "model_module": "@jupyter-widgets/controls",
      "model_module_version": "2.0.0",
      "model_name": "HBoxModel",
      "state": {
       "children": [
        "IPY_MODEL_e2bfc55585fd42bbbbe5c9a143bf7c8d",
        "IPY_MODEL_dfe55e9266ed410ca801e05c5204d94b",
        "IPY_MODEL_16ecc60eb44d4ab3bd73e0d3261d14aa"
       ],
       "layout": "IPY_MODEL_2e94cbb96a9c4445827f9b477e8fe598"
      }
     },
     "a61bd97e1dab44f2b7a7e736c0b7fefd": {
      "model_module": "@jupyter-widgets/base",
      "model_module_version": "2.0.0",
      "model_name": "LayoutModel",
      "state": {
       "flex": "2"
      }
     },
     "a6248bfd4f974f02b5d418d97082c7a1": {
      "model_module": "@jupyter-widgets/controls",
      "model_module_version": "2.0.0",
      "model_name": "FloatProgressModel",
      "state": {
       "layout": "IPY_MODEL_5d7322ede87847c1b2cde129cef0d794",
       "max": 2,
       "style": "IPY_MODEL_07081d64db0e41de9a0cec72dae7a2a9",
       "value": 2
      }
     },
     "a62db91857c54b4a84010739676cba8a": {
      "model_module": "@jupyter-widgets/controls",
      "model_module_version": "2.0.0",
      "model_name": "ProgressStyleModel",
      "state": {
       "description_width": ""
      }
     },
     "a6483f6284ca4900badf74331beed508": {
      "model_module": "@jupyter-widgets/controls",
      "model_module_version": "2.0.0",
      "model_name": "HTMLStyleModel",
      "state": {
       "description_width": "",
       "font_size": null,
       "text_color": null
      }
     },
     "a651fec9761b4fd58d63837d05fcaf15": {
      "model_module": "@jupyter-widgets/base",
      "model_module_version": "2.0.0",
      "model_name": "LayoutModel",
      "state": {}
     },
     "a66e0ddda3694166a19c67725f5db350": {
      "model_module": "@jupyter-widgets/base",
      "model_module_version": "2.0.0",
      "model_name": "LayoutModel",
      "state": {}
     },
     "a6727a6228d44f7c90a0a81ebe889c66": {
      "model_module": "@jupyter-widgets/controls",
      "model_module_version": "2.0.0",
      "model_name": "HTMLStyleModel",
      "state": {
       "description_width": "",
       "font_size": null,
       "text_color": null
      }
     },
     "a6807633c4fb498fb415d94a58b69336": {
      "model_module": "@jupyter-widgets/controls",
      "model_module_version": "2.0.0",
      "model_name": "ProgressStyleModel",
      "state": {
       "description_width": ""
      }
     },
     "a6878a31d03540f59f41cbd9a881bf5c": {
      "model_module": "@jupyter-widgets/controls",
      "model_module_version": "2.0.0",
      "model_name": "ProgressStyleModel",
      "state": {
       "description_width": ""
      }
     },
     "a6966f0462af4404972b7b46747134fd": {
      "model_module": "@jupyter-widgets/controls",
      "model_module_version": "2.0.0",
      "model_name": "FloatProgressModel",
      "state": {
       "bar_style": "success",
       "layout": "IPY_MODEL_c0bce032df9945b1a59fec9105af641a",
       "max": 1,
       "style": "IPY_MODEL_33de19f2dc8a4f498ef45082a70b7479",
       "value": 1
      }
     },
     "a6b66c64e50c40ed93f9fadbb6d06932": {
      "model_module": "@jupyter-widgets/controls",
      "model_module_version": "2.0.0",
      "model_name": "HTMLModel",
      "state": {
       "layout": "IPY_MODEL_b61c6845c0cf414b89f4e724c0c615b0",
       "style": "IPY_MODEL_9afd58cb05184a148c5b12b453f4ad24",
       "value": " 0/1 [00:00&lt;?, ?it/s]"
      }
     },
     "a6be5efde3a74350bbfe09e6fb175bbe": {
      "model_module": "@jupyter-widgets/controls",
      "model_module_version": "2.0.0",
      "model_name": "ProgressStyleModel",
      "state": {
       "description_width": ""
      }
     },
     "a6ce9fa2df8240f6a8a0cf32efc91a75": {
      "model_module": "@jupyter-widgets/controls",
      "model_module_version": "2.0.0",
      "model_name": "HTMLStyleModel",
      "state": {
       "description_width": "",
       "font_size": null,
       "text_color": null
      }
     },
     "a6de85b16c66457697ab2fab696932ba": {
      "model_module": "@jupyter-widgets/controls",
      "model_module_version": "2.0.0",
      "model_name": "ProgressStyleModel",
      "state": {
       "description_width": ""
      }
     },
     "a6ffd88695124a41a34b2f515d120145": {
      "model_module": "@jupyter-widgets/base",
      "model_module_version": "2.0.0",
      "model_name": "LayoutModel",
      "state": {
       "visibility": "hidden"
      }
     },
     "a75d0e4f092f41dc85d7551d10d5bdfd": {
      "model_module": "@jupyter-widgets/base",
      "model_module_version": "2.0.0",
      "model_name": "LayoutModel",
      "state": {}
     },
     "a766c2ae2ad14d27b3a8ba4b7a27937e": {
      "model_module": "@jupyter-widgets/base",
      "model_module_version": "2.0.0",
      "model_name": "LayoutModel",
      "state": {}
     },
     "a77c76ee1b244e09ab4ad7cdf4c6cc91": {
      "model_module": "@jupyter-widgets/base",
      "model_module_version": "2.0.0",
      "model_name": "LayoutModel",
      "state": {}
     },
     "a77f4152edb649368789eafd765a4cde": {
      "model_module": "@jupyter-widgets/controls",
      "model_module_version": "2.0.0",
      "model_name": "HTMLStyleModel",
      "state": {
       "description_width": "",
       "font_size": null,
       "text_color": null
      }
     },
     "a7b17ed71a724b7d9a79ba04e443c355": {
      "model_module": "@jupyter-widgets/base",
      "model_module_version": "2.0.0",
      "model_name": "LayoutModel",
      "state": {}
     },
     "a7d1961ce61a452cad4084b07f0da484": {
      "model_module": "@jupyter-widgets/controls",
      "model_module_version": "2.0.0",
      "model_name": "FloatProgressModel",
      "state": {
       "bar_style": "success",
       "layout": "IPY_MODEL_5ce3ca32d91d4f7f908c1230afa5f92a",
       "max": 1,
       "style": "IPY_MODEL_bd76fc50763c42ccad4bd1dc3002c249",
       "value": 1
      }
     },
     "a7de163c37224cc98738e023aa12457b": {
      "model_module": "@jupyter-widgets/base",
      "model_module_version": "2.0.0",
      "model_name": "LayoutModel",
      "state": {}
     },
     "a7e90c93486948ba86437a047ed323fd": {
      "model_module": "@jupyter-widgets/controls",
      "model_module_version": "2.0.0",
      "model_name": "HBoxModel",
      "state": {
       "children": [
        "IPY_MODEL_18aefe829fe94a0f88792fe8828881e4",
        "IPY_MODEL_c80bc15e2cdc40ea8f93fd085ce18454",
        "IPY_MODEL_a38eaed300074f13bdfa5acf9bb2e07c"
       ],
       "layout": "IPY_MODEL_4a1fd9b469fc493ca77e771d7d7eec48"
      }
     },
     "a7fa1cd30f9d47ef8fcbd9a15f3d1a03": {
      "model_module": "@jupyter-widgets/controls",
      "model_module_version": "2.0.0",
      "model_name": "FloatProgressModel",
      "state": {
       "bar_style": "success",
       "layout": "IPY_MODEL_1bf7dfb7826d43889404544c320fe821",
       "max": 4,
       "style": "IPY_MODEL_3ee5383b029b48d3b88ac97477722339",
       "value": 4
      }
     },
     "a81a760eb78246b984eedb286a5305da": {
      "model_module": "@jupyter-widgets/base",
      "model_module_version": "2.0.0",
      "model_name": "LayoutModel",
      "state": {}
     },
     "a88f782a64574fb9b1c9f9d359980392": {
      "model_module": "@jupyter-widgets/controls",
      "model_module_version": "2.0.0",
      "model_name": "HTMLStyleModel",
      "state": {
       "description_width": "",
       "font_size": null,
       "text_color": null
      }
     },
     "a8cef7ff86664a33b2fdf3e44a8cf8e1": {
      "model_module": "@jupyter-widgets/controls",
      "model_module_version": "2.0.0",
      "model_name": "FloatProgressModel",
      "state": {
       "bar_style": "danger",
       "layout": "IPY_MODEL_98699d103b8149c9930d368b67a2ba47",
       "max": 4,
       "style": "IPY_MODEL_265fa9614c1c431b9f6eda496c009680",
       "value": 2
      }
     },
     "a8dd37f9246c404dafe8ae1e4cd8f17d": {
      "model_module": "@jupyter-widgets/base",
      "model_module_version": "2.0.0",
      "model_name": "LayoutModel",
      "state": {}
     },
     "a8e286ccaf4342f5a1bddfdd083cb700": {
      "model_module": "@jupyter-widgets/base",
      "model_module_version": "2.0.0",
      "model_name": "LayoutModel",
      "state": {}
     },
     "a8e50371afd14a79aa8e19f721db9094": {
      "model_module": "@jupyter-widgets/controls",
      "model_module_version": "2.0.0",
      "model_name": "ProgressStyleModel",
      "state": {
       "description_width": ""
      }
     },
     "a90858fe2e0d4f77a24fe5e8d9c58a07": {
      "model_module": "@jupyter-widgets/controls",
      "model_module_version": "2.0.0",
      "model_name": "HTMLModel",
      "state": {
       "layout": "IPY_MODEL_0829be2263fb4a3d8d0da045668d4ecd",
       "style": "IPY_MODEL_b528b97ddec749a3a7d71e061d5a8a7c",
       "value": "Scanning for edges...:   0%"
      }
     },
     "a91f82ea79b84fa2abf2453150d97871": {
      "model_module": "@jupyter-widgets/base",
      "model_module_version": "2.0.0",
      "model_name": "LayoutModel",
      "state": {}
     },
     "a932e480866041b78831dd9e6d450ee2": {
      "model_module": "@jupyter-widgets/controls",
      "model_module_version": "2.0.0",
      "model_name": "HTMLModel",
      "state": {
       "layout": "IPY_MODEL_67d8232ff10e4aef8615816a3d535913",
       "style": "IPY_MODEL_cef87b98777e4a2ab6d06c3f4f524e15",
       "value": " 1/1 [00:01&lt;00:00,  1.00s/it]"
      }
     },
     "a943ff3053c644d9b2bf8686c06e9fc5": {
      "model_module": "@jupyter-widgets/controls",
      "model_module_version": "2.0.0",
      "model_name": "HBoxModel",
      "state": {
       "children": [
        "IPY_MODEL_ce3774de5ca24dabb6cc12d2c0f1738f",
        "IPY_MODEL_988e69df210b4d61b406923d1588f70a",
        "IPY_MODEL_7af2fea7dd264d6ebeff8c4242637c0f"
       ],
       "layout": "IPY_MODEL_2750660b5d4e4ff993565b33c475906b"
      }
     },
     "a94574325db34e2b81e5971219ff99b1": {
      "model_module": "@jupyter-widgets/base",
      "model_module_version": "2.0.0",
      "model_name": "LayoutModel",
      "state": {
       "flex": "2"
      }
     },
     "a94ff8adb0264694aac10cd6716c10ca": {
      "model_module": "@jupyter-widgets/controls",
      "model_module_version": "2.0.0",
      "model_name": "HTMLModel",
      "state": {
       "layout": "IPY_MODEL_cfcdeac90d8543b9848ceb1a40e7cad4",
       "style": "IPY_MODEL_fdabacb656d443598a53d523fb34fb4f",
       "value": " 2/2 [00:01&lt;00:00,  1.55it/s]"
      }
     },
     "a9526f21956b40958a7ef7d2e292b5df": {
      "model_module": "@jupyter-widgets/base",
      "model_module_version": "2.0.0",
      "model_name": "LayoutModel",
      "state": {}
     },
     "a95a7c694c254a6fa0f4eeae7b893122": {
      "model_module": "@jupyter-widgets/base",
      "model_module_version": "2.0.0",
      "model_name": "LayoutModel",
      "state": {}
     },
     "a97af2a608e443d5857757f057742230": {
      "model_module": "@jupyter-widgets/controls",
      "model_module_version": "2.0.0",
      "model_name": "HTMLModel",
      "state": {
       "layout": "IPY_MODEL_4dd8bcb8bccf491ab9c4e06acd1c770c",
       "style": "IPY_MODEL_37f7d81daa724b1b93dc3d0db874c237",
       "value": " 2/2 [00:06&lt;00:00,  3.21s/it]"
      }
     },
     "a98d1bd25efe4c7fae9567bc6dcd8ebe": {
      "model_module": "@jupyter-widgets/base",
      "model_module_version": "2.0.0",
      "model_name": "LayoutModel",
      "state": {
       "visibility": "hidden"
      }
     },
     "a9a68d036ef04d36abd2addaf70147d0": {
      "model_module": "@jupyter-widgets/base",
      "model_module_version": "2.0.0",
      "model_name": "LayoutModel",
      "state": {}
     },
     "a9ad0047ddcb463eaf15c294e3f7d97b": {
      "model_module": "@jupyter-widgets/controls",
      "model_module_version": "2.0.0",
      "model_name": "FloatProgressModel",
      "state": {
       "layout": "IPY_MODEL_b7d7f0bf2d744806a56ffd00628c94d8",
       "max": 1,
       "style": "IPY_MODEL_641ba3afd6044bd49b3f2dcf11df909e",
       "value": 1
      }
     },
     "a9b86f0be029466fb303debf6b05be5e": {
      "model_module": "@jupyter-widgets/controls",
      "model_module_version": "2.0.0",
      "model_name": "HTMLStyleModel",
      "state": {
       "description_width": "",
       "font_size": null,
       "text_color": null
      }
     },
     "a9e6c7d0f5264c9b91866790be59394f": {
      "model_module": "@jupyter-widgets/base",
      "model_module_version": "2.0.0",
      "model_name": "LayoutModel",
      "state": {}
     },
     "a9fc2ca659264c39975ed9055c0aa77a": {
      "model_module": "@jupyter-widgets/base",
      "model_module_version": "2.0.0",
      "model_name": "LayoutModel",
      "state": {}
     },
     "aa34501fe02a48199050bcc9244da457": {
      "model_module": "@jupyter-widgets/controls",
      "model_module_version": "2.0.0",
      "model_name": "FloatProgressModel",
      "state": {
       "layout": "IPY_MODEL_5be357c076a24174abdf71f18aa28e55",
       "max": 2,
       "style": "IPY_MODEL_52c3094ac3cf4785a76f28fb6eaad617",
       "value": 2
      }
     },
     "aa4416239b2d4ef3b7b9148e7821d398": {
      "model_module": "@jupyter-widgets/controls",
      "model_module_version": "2.0.0",
      "model_name": "HTMLModel",
      "state": {
       "layout": "IPY_MODEL_6fc35e4b701d4059970d818da06549fc",
       "style": "IPY_MODEL_20eb255e6cb44e9682624d2a88aedeb3",
       "value": " 1/1 [00:00&lt;00:00, 209.08it/s]"
      }
     },
     "aa4eb95c282a44e18c61ac19d2a672c2": {
      "model_module": "@jupyter-widgets/base",
      "model_module_version": "2.0.0",
      "model_name": "LayoutModel",
      "state": {}
     },
     "aa6e86e989104f60ab8bbe9f2daffc54": {
      "model_module": "@jupyter-widgets/controls",
      "model_module_version": "2.0.0",
      "model_name": "ProgressStyleModel",
      "state": {
       "description_width": ""
      }
     },
     "aa732a2114c74d33939f92b48b249c04": {
      "model_module": "@jupyter-widgets/controls",
      "model_module_version": "2.0.0",
      "model_name": "ProgressStyleModel",
      "state": {
       "description_width": ""
      }
     },
     "aa7b6832643342789ce1adc03fc2f2e9": {
      "model_module": "@jupyter-widgets/base",
      "model_module_version": "2.0.0",
      "model_name": "LayoutModel",
      "state": {
       "display": "inline-flex",
       "flex_flow": "row wrap",
       "width": "100%"
      }
     },
     "aa7e46de2a06446780061635a1023620": {
      "model_module": "@jupyter-widgets/controls",
      "model_module_version": "2.0.0",
      "model_name": "ProgressStyleModel",
      "state": {
       "description_width": ""
      }
     },
     "aa9805f9c0264e4499ab1a29ed38b741": {
      "model_module": "@jupyter-widgets/controls",
      "model_module_version": "2.0.0",
      "model_name": "ProgressStyleModel",
      "state": {
       "description_width": ""
      }
     },
     "aa9cde2305c84677bc6a9513a5f226ba": {
      "model_module": "@jupyter-widgets/controls",
      "model_module_version": "2.0.0",
      "model_name": "HBoxModel",
      "state": {
       "children": [
        "IPY_MODEL_417db4fc092746359584094cf0403da2",
        "IPY_MODEL_7eb094e4bd3246c7a4696503c3a48b2d",
        "IPY_MODEL_2c0ed4fbf1a84259b59b0415b931936f"
       ],
       "layout": "IPY_MODEL_6fca0fbb288b4fd88064e159c6403c3e"
      }
     },
     "aade29b10186432f87b7cb2081cb7637": {
      "model_module": "@jupyter-widgets/controls",
      "model_module_version": "2.0.0",
      "model_name": "ProgressStyleModel",
      "state": {
       "description_width": ""
      }
     },
     "ab2b402d983b4d049676adb4bcaaca40": {
      "model_module": "@jupyter-widgets/controls",
      "model_module_version": "2.0.0",
      "model_name": "HTMLStyleModel",
      "state": {
       "description_width": "",
       "font_size": null,
       "text_color": null
      }
     },
     "ab402cfb47314d17bd34ad64fc67117e": {
      "model_module": "@jupyter-widgets/base",
      "model_module_version": "2.0.0",
      "model_name": "LayoutModel",
      "state": {}
     },
     "ab4e3b99de274aa4af235245441c5aaf": {
      "model_module": "@jupyter-widgets/controls",
      "model_module_version": "2.0.0",
      "model_name": "ProgressStyleModel",
      "state": {
       "description_width": ""
      }
     },
     "abb396294f2e44e5a17fd6c29fe3067b": {
      "model_module": "@jupyter-widgets/base",
      "model_module_version": "2.0.0",
      "model_name": "LayoutModel",
      "state": {}
     },
     "ac27303078bc47d49c52067b3d3e42fd": {
      "model_module": "@jupyter-widgets/base",
      "model_module_version": "2.0.0",
      "model_name": "LayoutModel",
      "state": {}
     },
     "ac77905302d84b649dc21debb200b7c0": {
      "model_module": "@jupyter-widgets/controls",
      "model_module_version": "2.0.0",
      "model_name": "HTMLStyleModel",
      "state": {
       "description_width": "",
       "font_size": null,
       "text_color": null
      }
     },
     "ac863df5df9a4fccabe55a718ecc4e20": {
      "model_module": "@jupyter-widgets/base",
      "model_module_version": "2.0.0",
      "model_name": "LayoutModel",
      "state": {}
     },
     "ac9307c578f8402985ab66a854447233": {
      "model_module": "@jupyter-widgets/base",
      "model_module_version": "2.0.0",
      "model_name": "LayoutModel",
      "state": {}
     },
     "acc75068ca6e4eeba01e3c92730b13b2": {
      "model_module": "@jupyter-widgets/controls",
      "model_module_version": "2.0.0",
      "model_name": "HBoxModel",
      "state": {
       "children": [
        "IPY_MODEL_de19f52dbd214459b009726149b767ac",
        "IPY_MODEL_12a1b56b84ce4d388130cfab394742c4",
        "IPY_MODEL_cdb40ebb0abd4f36aed177d313d952fb"
       ],
       "layout": "IPY_MODEL_5d68fb753ef8464dbc8a1a536a238729"
      }
     },
     "ace0a24b4c2146f68b47f0fc4e80be91": {
      "model_module": "@jupyter-widgets/controls",
      "model_module_version": "2.0.0",
      "model_name": "HTMLStyleModel",
      "state": {
       "description_width": "",
       "font_size": null,
       "text_color": null
      }
     },
     "acef125360a14723b3602a536c19da5c": {
      "model_module": "@jupyter-widgets/controls",
      "model_module_version": "2.0.0",
      "model_name": "ProgressStyleModel",
      "state": {
       "description_width": ""
      }
     },
     "acf7a642a1894311a43c174948923198": {
      "model_module": "@jupyter-widgets/controls",
      "model_module_version": "2.0.0",
      "model_name": "FloatProgressModel",
      "state": {
       "layout": "IPY_MODEL_e00ec58a17a44291a16bb120e7c2ed41",
       "max": 2,
       "style": "IPY_MODEL_157eb8b93591447bbc02715b94910ebf",
       "value": 2
      }
     },
     "acf8e76e212249f58e4c6edd9cea52dc": {
      "model_module": "@jupyter-widgets/controls",
      "model_module_version": "2.0.0",
      "model_name": "HTMLModel",
      "state": {
       "layout": "IPY_MODEL_43dc7d1dca4840a8a8819ae5de3560dd",
       "style": "IPY_MODEL_84a2700c119443559a763eb9f0b09b47",
       "value": " 1/1 [00:00&lt;00:00,  1.05it/s]"
      }
     },
     "acfa4598a5424b65a5ef2feb571b404f": {
      "model_module": "@jupyter-widgets/controls",
      "model_module_version": "2.0.0",
      "model_name": "ProgressStyleModel",
      "state": {
       "description_width": ""
      }
     },
     "ad210f75f6904fbe828bdb221aa2f768": {
      "model_module": "@jupyter-widgets/base",
      "model_module_version": "2.0.0",
      "model_name": "LayoutModel",
      "state": {}
     },
     "ad4fe68fe4414f87a13368aa118c7c9e": {
      "model_module": "@jupyter-widgets/base",
      "model_module_version": "2.0.0",
      "model_name": "LayoutModel",
      "state": {
       "visibility": "hidden"
      }
     },
     "ad5f4f5bee4643c1ad2c627060a67d30": {
      "model_module": "@jupyter-widgets/controls",
      "model_module_version": "2.0.0",
      "model_name": "HTMLStyleModel",
      "state": {
       "description_width": "",
       "font_size": null,
       "text_color": null
      }
     },
     "ad763a37c92244a8b2d2a3bea24e537b": {
      "model_module": "@jupyter-widgets/base",
      "model_module_version": "2.0.0",
      "model_name": "LayoutModel",
      "state": {}
     },
     "ad7d430f78a246b890a71076a3430e45": {
      "model_module": "@jupyter-widgets/base",
      "model_module_version": "2.0.0",
      "model_name": "LayoutModel",
      "state": {}
     },
     "ad93b64889b14c5c9fa552d47af6c8c8": {
      "model_module": "@jupyter-widgets/controls",
      "model_module_version": "2.0.0",
      "model_name": "HTMLStyleModel",
      "state": {
       "description_width": "",
       "font_size": null,
       "text_color": null
      }
     },
     "ada39c73708344baaae20ad32d291f54": {
      "model_module": "@jupyter-widgets/controls",
      "model_module_version": "2.0.0",
      "model_name": "FloatProgressModel",
      "state": {
       "layout": "IPY_MODEL_bc344deb167e4da9883a8ae8464fa64c",
       "max": 1,
       "style": "IPY_MODEL_b6c3c9e7c23945728c3af63ff6f91258",
       "value": 1
      }
     },
     "adb748b3a4bb42cc81f8d109a4e43f1f": {
      "model_module": "@jupyter-widgets/controls",
      "model_module_version": "2.0.0",
      "model_name": "ProgressStyleModel",
      "state": {
       "description_width": ""
      }
     },
     "adc94a083d5840e0bf2f142cf349db75": {
      "model_module": "@jupyter-widgets/controls",
      "model_module_version": "2.0.0",
      "model_name": "HTMLStyleModel",
      "state": {
       "description_width": "",
       "font_size": null,
       "text_color": null
      }
     },
     "ae04c446c9484439805c49e6bd6ab8c6": {
      "model_module": "@jupyter-widgets/base",
      "model_module_version": "2.0.0",
      "model_name": "LayoutModel",
      "state": {}
     },
     "ae37d32e4590464bbebd1f4276252858": {
      "model_module": "@jupyter-widgets/controls",
      "model_module_version": "2.0.0",
      "model_name": "ProgressStyleModel",
      "state": {
       "description_width": ""
      }
     },
     "ae3e81a2fad240059eae8aa8dbcc1fe5": {
      "model_module": "@jupyter-widgets/base",
      "model_module_version": "2.0.0",
      "model_name": "LayoutModel",
      "state": {}
     },
     "ae59da5b2e3143cb942bf4309ff21386": {
      "model_module": "@jupyter-widgets/controls",
      "model_module_version": "2.0.0",
      "model_name": "FloatProgressModel",
      "state": {
       "layout": "IPY_MODEL_b2618a64df54486baa0db3ea011309c7",
       "max": 2,
       "style": "IPY_MODEL_05120cf7b1ab437faf82e3b2ec3fbb92",
       "value": 2
      }
     },
     "ae7d9d61efd1408baf474c93536cc304": {
      "model_module": "@jupyter-widgets/controls",
      "model_module_version": "2.0.0",
      "model_name": "HTMLModel",
      "state": {
       "layout": "IPY_MODEL_36789e95d2024761836086c9259dfc19",
       "style": "IPY_MODEL_035a131dbdbb471e80bbba35211ac577",
       "value": " 1/2 [00:06&lt;00:06,  6.67s/it]"
      }
     },
     "ae7f0b9902d041cd9ad6415d8c5a2589": {
      "model_module": "@jupyter-widgets/controls",
      "model_module_version": "2.0.0",
      "model_name": "HTMLModel",
      "state": {
       "layout": "IPY_MODEL_e95680fa770b4d4298c47ab61c89f8ae",
       "style": "IPY_MODEL_35aba944f0fc4563a21918cf20a78541",
       "value": " 2/2 [00:01&lt;00:00,  1.86it/s]"
      }
     },
     "aeaf1c74fe224f7f86b91cabb818020a": {
      "model_module": "@jupyter-widgets/controls",
      "model_module_version": "2.0.0",
      "model_name": "HTMLStyleModel",
      "state": {
       "description_width": "",
       "font_size": null,
       "text_color": null
      }
     },
     "aeb28f81d09c4eb8838a315b6f5ca1f8": {
      "model_module": "@jupyter-widgets/controls",
      "model_module_version": "2.0.0",
      "model_name": "HTMLModel",
      "state": {
       "layout": "IPY_MODEL_6ae2acb0fc4446f29e2cb2eae04cfe1c",
       "style": "IPY_MODEL_33defd52c4014bceb8b45b8014f357c6",
       "value": "Scanning for nodes...: 100%"
      }
     },
     "aede5c2b7495462a8bc747050f2e5f6e": {
      "model_module": "@jupyter-widgets/controls",
      "model_module_version": "2.0.0",
      "model_name": "HBoxModel",
      "state": {
       "children": [
        "IPY_MODEL_3988e0ed57e44a5f9dc5a3818833bed7",
        "IPY_MODEL_dfe468889bf94d628f70f1853a1d8171",
        "IPY_MODEL_5a477e62e94f41b1ac34f989f9de0292"
       ],
       "layout": "IPY_MODEL_25706b8f3ef44be3b08ea2f0e4349ff5"
      }
     },
     "aef03df7f7f244629e07f587f17a8368": {
      "model_module": "@jupyter-widgets/controls",
      "model_module_version": "2.0.0",
      "model_name": "HTMLModel",
      "state": {
       "layout": "IPY_MODEL_752a8b8aa92646a48b59d7287d2a8c1d",
       "style": "IPY_MODEL_2b867e4d9702414caac6516d10387770",
       "value": "Scanning for edges...:   0%"
      }
     },
     "aef065ed8beb4e66bc61f4f9e3395667": {
      "model_module": "@jupyter-widgets/controls",
      "model_module_version": "2.0.0",
      "model_name": "HTMLStyleModel",
      "state": {
       "description_width": "",
       "font_size": null,
       "text_color": null
      }
     },
     "af0af6d948c0482f8eab8dd4d5150eb9": {
      "model_module": "@jupyter-widgets/controls",
      "model_module_version": "2.0.0",
      "model_name": "HTMLModel",
      "state": {
       "layout": "IPY_MODEL_a95a7c694c254a6fa0f4eeae7b893122",
       "style": "IPY_MODEL_8c2890c165ff4e5fa9c1b56a34fe3891",
       "value": " 8/8 [00:49&lt;00:00,  5.49s/it]"
      }
     },
     "af1c1a649fd54f48a40c0cde497cd120": {
      "model_module": "@jupyter-widgets/base",
      "model_module_version": "2.0.0",
      "model_name": "LayoutModel",
      "state": {}
     },
     "af1c1ffeb84e4b418523e56968e232cb": {
      "model_module": "@jupyter-widgets/controls",
      "model_module_version": "2.0.0",
      "model_name": "HTMLStyleModel",
      "state": {
       "description_width": "",
       "font_size": null,
       "text_color": null
      }
     },
     "af1d2160d42a40a792f56b248be637ff": {
      "model_module": "@jupyter-widgets/controls",
      "model_module_version": "2.0.0",
      "model_name": "HTMLStyleModel",
      "state": {
       "description_width": "",
       "font_size": null,
       "text_color": null
      }
     },
     "af2161d1048f4e01b14027487cc3e1cd": {
      "model_module": "@jupyter-widgets/base",
      "model_module_version": "2.0.0",
      "model_name": "LayoutModel",
      "state": {}
     },
     "af6256faa57144449f6a57c961a73708": {
      "model_module": "@jupyter-widgets/controls",
      "model_module_version": "2.0.0",
      "model_name": "ProgressStyleModel",
      "state": {
       "description_width": ""
      }
     },
     "af639590a7274e36a547fb064af0b176": {
      "model_module": "@jupyter-widgets/controls",
      "model_module_version": "2.0.0",
      "model_name": "HTMLStyleModel",
      "state": {
       "description_width": "",
       "font_size": null,
       "text_color": null
      }
     },
     "af662083914247aba0420eba1a8a32b4": {
      "model_module": "@jupyter-widgets/controls",
      "model_module_version": "2.0.0",
      "model_name": "FloatProgressModel",
      "state": {
       "layout": "IPY_MODEL_9b55a323dcbe41689b38ad4debc9874a",
       "max": 2,
       "style": "IPY_MODEL_f10fad27294541ea8c88a35603f36d2b",
       "value": 2
      }
     },
     "af6cb605962641fcba5f8cae1ea614ce": {
      "model_module": "@jupyter-widgets/base",
      "model_module_version": "2.0.0",
      "model_name": "LayoutModel",
      "state": {}
     },
     "afa2168097e04b68b9f04e037c1e2545": {
      "model_module": "@jupyter-widgets/base",
      "model_module_version": "2.0.0",
      "model_name": "LayoutModel",
      "state": {}
     },
     "afde542f2028453a907cbd9357200988": {
      "model_module": "@jupyter-widgets/controls",
      "model_module_version": "2.0.0",
      "model_name": "FloatProgressModel",
      "state": {
       "bar_style": "success",
       "layout": "IPY_MODEL_c29e620625514d7ebce3b5260b06c238",
       "max": 2,
       "style": "IPY_MODEL_dc808c9ed4dc4b4bb8389825de163586",
       "value": 2
      }
     },
     "afe8cd1226274fd991ec9c87af3b6e95": {
      "model_module": "@jupyter-widgets/controls",
      "model_module_version": "2.0.0",
      "model_name": "HBoxModel",
      "state": {
       "children": [
        "IPY_MODEL_c77f34d2b39545949bde2163185b5a06",
        "IPY_MODEL_7beeda6252774d26ad946e689ec8beb5",
        "IPY_MODEL_3ae5eaea71524ee69b9fe3c9e7449e29"
       ],
       "layout": "IPY_MODEL_b5ba39f82bdd44c08000220337938277"
      }
     },
     "b016112fb4b3400ab65a4f1f664bbd9a": {
      "model_module": "@jupyter-widgets/base",
      "model_module_version": "2.0.0",
      "model_name": "LayoutModel",
      "state": {}
     },
     "b020521357de48ff87f205c3b2f56b02": {
      "model_module": "@jupyter-widgets/base",
      "model_module_version": "2.0.0",
      "model_name": "LayoutModel",
      "state": {
       "visibility": "hidden"
      }
     },
     "b03584aad2b5487b992ea50ce6e74a3d": {
      "model_module": "@jupyter-widgets/controls",
      "model_module_version": "2.0.0",
      "model_name": "HTMLStyleModel",
      "state": {
       "description_width": "",
       "font_size": null,
       "text_color": null
      }
     },
     "b041b5f4e919489487d32dcf8d46b365": {
      "model_module": "@jupyter-widgets/base",
      "model_module_version": "2.0.0",
      "model_name": "LayoutModel",
      "state": {}
     },
     "b04a06accf6e4e439562b98efeb825d5": {
      "model_module": "@jupyter-widgets/base",
      "model_module_version": "2.0.0",
      "model_name": "LayoutModel",
      "state": {}
     },
     "b05cde4a7fa94657b99c82d0d61a69cc": {
      "model_module": "@jupyter-widgets/controls",
      "model_module_version": "2.0.0",
      "model_name": "HTMLModel",
      "state": {
       "layout": "IPY_MODEL_35ed4d3df2624983940aace64e9fdbf1",
       "style": "IPY_MODEL_97c9b2bf19954b9384a9055dbbfc91b4",
       "value": "hook.frame__tpch__customer: edges...: "
      }
     },
     "b07dbead3c864cbcb6549eacf9aa6a8c": {
      "model_module": "@jupyter-widgets/controls",
      "model_module_version": "2.0.0",
      "model_name": "ProgressStyleModel",
      "state": {
       "description_width": ""
      }
     },
     "b084446cdd514eafb3e57a8964085e74": {
      "model_module": "@jupyter-widgets/controls",
      "model_module_version": "2.0.0",
      "model_name": "HTMLStyleModel",
      "state": {
       "description_width": "",
       "font_size": null,
       "text_color": null
      }
     },
     "b104844b8de34b8eae54c0a0efe58a66": {
      "model_module": "@jupyter-widgets/base",
      "model_module_version": "2.0.0",
      "model_name": "LayoutModel",
      "state": {}
     },
     "b104938321bf4699b66de1ac3a35441f": {
      "model_module": "@jupyter-widgets/controls",
      "model_module_version": "2.0.0",
      "model_name": "ProgressStyleModel",
      "state": {
       "description_width": ""
      }
     },
     "b10ac98205554cdba6722ade7f4c0576": {
      "model_module": "@jupyter-widgets/controls",
      "model_module_version": "2.0.0",
      "model_name": "ProgressStyleModel",
      "state": {
       "description_width": ""
      }
     },
     "b11272ac2ea440c6bf9e625fb3715743": {
      "model_module": "@jupyter-widgets/base",
      "model_module_version": "2.0.0",
      "model_name": "LayoutModel",
      "state": {}
     },
     "b113cda5ffb942faa8aade0b87ee1b48": {
      "model_module": "@jupyter-widgets/controls",
      "model_module_version": "2.0.0",
      "model_name": "HBoxModel",
      "state": {
       "children": [
        "IPY_MODEL_68a1242e10004a0ba1ca807460adb64f",
        "IPY_MODEL_6bd6c7743b6f4a5b8652fcdd9e89840f",
        "IPY_MODEL_f4d051d010c2417486e5d32822f8e376"
       ],
       "layout": "IPY_MODEL_ba20c2df0b4f470e88332b963abf2268"
      }
     },
     "b1269d91de034320a9a3629d2d4c8cfb": {
      "model_module": "@jupyter-widgets/controls",
      "model_module_version": "2.0.0",
      "model_name": "HTMLStyleModel",
      "state": {
       "description_width": "",
       "font_size": null,
       "text_color": null
      }
     },
     "b133be221e604e98ae89dd1a2ed5ffac": {
      "model_module": "@jupyter-widgets/controls",
      "model_module_version": "2.0.0",
      "model_name": "ProgressStyleModel",
      "state": {
       "description_width": ""
      }
     },
     "b14b7e4a39e640d593039da08cc0023e": {
      "model_module": "@jupyter-widgets/controls",
      "model_module_version": "2.0.0",
      "model_name": "HBoxModel",
      "state": {
       "children": [
        "IPY_MODEL_c15b579e07a84021a7f8d2d7867825cf",
        "IPY_MODEL_bb308893952c48ef8e152b7cc712f527",
        "IPY_MODEL_c41b7b078b0941a8bc4fb04df449855f"
       ],
       "layout": "IPY_MODEL_46bc748075b542d7a372ac5ba0a5b8da"
      }
     },
     "b16356d31f58460d9c26e68551c825c1": {
      "model_module": "@jupyter-widgets/controls",
      "model_module_version": "2.0.0",
      "model_name": "ProgressStyleModel",
      "state": {
       "description_width": ""
      }
     },
     "b166e9ff0ba84d9589d81a4f357b0571": {
      "model_module": "@jupyter-widgets/controls",
      "model_module_version": "2.0.0",
      "model_name": "HTMLModel",
      "state": {
       "layout": "IPY_MODEL_1b0969300925436fbb6b4cca0ac2b9d2",
       "style": "IPY_MODEL_bc63bda5f4e242eb8ed8c718661074fd",
       "value": " 1/1 [00:01&lt;00:00,  1.10s/it]"
      }
     },
     "b1679d4866394ecdba2b99babcd9578b": {
      "model_module": "@jupyter-widgets/controls",
      "model_module_version": "2.0.0",
      "model_name": "ProgressStyleModel",
      "state": {
       "description_width": ""
      }
     },
     "b191c0c044244b2ab91ed9525ab4675c": {
      "model_module": "@jupyter-widgets/controls",
      "model_module_version": "2.0.0",
      "model_name": "FloatProgressModel",
      "state": {
       "bar_style": "success",
       "layout": "IPY_MODEL_d4524132607b408ea279778d568248cb",
       "max": 4,
       "style": "IPY_MODEL_489bdd48142f4cb490c5c22f638c7dbc",
       "value": 4
      }
     },
     "b1a658e961c942bf9aabad1a06f72f6d": {
      "model_module": "@jupyter-widgets/controls",
      "model_module_version": "2.0.0",
      "model_name": "HTMLModel",
      "state": {
       "layout": "IPY_MODEL_1151a2898e30486d8c3a97f6538d1943",
       "style": "IPY_MODEL_93cbde6918034941b99f0be2d9de961d",
       "value": "Scanning hook.frame__tpch__orders:  50%"
      }
     },
     "b1cbb7139b9043c4959186b0d5f43331": {
      "model_module": "@jupyter-widgets/base",
      "model_module_version": "2.0.0",
      "model_name": "LayoutModel",
      "state": {}
     },
     "b1ddcc52870f4f26a8716bdd8df5b0cb": {
      "model_module": "@jupyter-widgets/base",
      "model_module_version": "2.0.0",
      "model_name": "LayoutModel",
      "state": {}
     },
     "b1eb7751bd98473aa70557dbe77e2c3d": {
      "model_module": "@jupyter-widgets/base",
      "model_module_version": "2.0.0",
      "model_name": "LayoutModel",
      "state": {}
     },
     "b1ef2be153754906a3fff4d33e41e583": {
      "model_module": "@jupyter-widgets/base",
      "model_module_version": "2.0.0",
      "model_name": "LayoutModel",
      "state": {}
     },
     "b1f52becd7384d469cdd3b163203469a": {
      "model_module": "@jupyter-widgets/base",
      "model_module_version": "2.0.0",
      "model_name": "LayoutModel",
      "state": {}
     },
     "b216e1c8a44b46eb88c155cbecac4437": {
      "model_module": "@jupyter-widgets/base",
      "model_module_version": "2.0.0",
      "model_name": "LayoutModel",
      "state": {}
     },
     "b22a387571fe446b9f27dbba9163427a": {
      "model_module": "@jupyter-widgets/base",
      "model_module_version": "2.0.0",
      "model_name": "LayoutModel",
      "state": {}
     },
     "b2427f7a3bd44d009da56f756afd3f45": {
      "model_module": "@jupyter-widgets/controls",
      "model_module_version": "2.0.0",
      "model_name": "HTMLStyleModel",
      "state": {
       "description_width": "",
       "font_size": null,
       "text_color": null
      }
     },
     "b24af60aefad4957b835bccea347745a": {
      "model_module": "@jupyter-widgets/controls",
      "model_module_version": "2.0.0",
      "model_name": "HTMLModel",
      "state": {
       "layout": "IPY_MODEL_2e33fc72593e4fdc8bb8fad2990262c7",
       "style": "IPY_MODEL_e6ee1b05a5544f63a2aa4527f42d8dbb",
       "value": " 0/6 [00:00&lt;?, ?it/s]"
      }
     },
     "b254fb4369204122b6996e6359fe6a2a": {
      "model_module": "@jupyter-widgets/base",
      "model_module_version": "2.0.0",
      "model_name": "LayoutModel",
      "state": {}
     },
     "b2618a64df54486baa0db3ea011309c7": {
      "model_module": "@jupyter-widgets/base",
      "model_module_version": "2.0.0",
      "model_name": "LayoutModel",
      "state": {}
     },
     "b2d411fe033a435ea6108cf6c951a713": {
      "model_module": "@jupyter-widgets/base",
      "model_module_version": "2.0.0",
      "model_name": "LayoutModel",
      "state": {}
     },
     "b2d5531b36664850ba9a2a06834f5ad8": {
      "model_module": "@jupyter-widgets/controls",
      "model_module_version": "2.0.0",
      "model_name": "HTMLModel",
      "state": {
       "layout": "IPY_MODEL_e618246b50de479d8c6a38bddb6c4d70",
       "style": "IPY_MODEL_0378b91c1448444f82e5434a84e97813",
       "value": " 4/4 [00:31&lt;00:00,  8.14s/it]"
      }
     },
     "b2dfeaa8fd2f4f928d73de02c7a6e342": {
      "model_module": "@jupyter-widgets/controls",
      "model_module_version": "2.0.0",
      "model_name": "HTMLStyleModel",
      "state": {
       "description_width": "",
       "font_size": null,
       "text_color": null
      }
     },
     "b2f21d30716d4e3caab3459571898647": {
      "model_module": "@jupyter-widgets/base",
      "model_module_version": "2.0.0",
      "model_name": "LayoutModel",
      "state": {}
     },
     "b31d45d518fe4b5f9db44a50022f2c42": {
      "model_module": "@jupyter-widgets/base",
      "model_module_version": "2.0.0",
      "model_name": "LayoutModel",
      "state": {}
     },
     "b3200a94d16a42e995174017c0f0ac6c": {
      "model_module": "@jupyter-widgets/base",
      "model_module_version": "2.0.0",
      "model_name": "LayoutModel",
      "state": {}
     },
     "b344d71f19834d31a2185674195fa5fb": {
      "model_module": "@jupyter-widgets/base",
      "model_module_version": "2.0.0",
      "model_name": "LayoutModel",
      "state": {}
     },
     "b352383dc3174668afcdead175c4572b": {
      "model_module": "@jupyter-widgets/controls",
      "model_module_version": "2.0.0",
      "model_name": "HTMLStyleModel",
      "state": {
       "description_width": "",
       "font_size": null,
       "text_color": null
      }
     },
     "b3681a3f2eb3464bb98e06d4506faa44": {
      "model_module": "@jupyter-widgets/controls",
      "model_module_version": "2.0.0",
      "model_name": "FloatProgressModel",
      "state": {
       "layout": "IPY_MODEL_5327a69f6e674ac2af6205b562ebb3a9",
       "max": 2,
       "style": "IPY_MODEL_d76fcbffe4534112a6edffe3f53c3dea",
       "value": 2
      }
     },
     "b37dda1b4a604312a0a1d0380e4d2103": {
      "model_module": "@jupyter-widgets/controls",
      "model_module_version": "2.0.0",
      "model_name": "HBoxModel",
      "state": {
       "children": [
        "IPY_MODEL_f66b0ae981db4c0b81e6f7dba1216f20",
        "IPY_MODEL_74a434cdc2a248758aca417311edd79a",
        "IPY_MODEL_66fedfe0b4a445f1ac480c0644dcfb01"
       ],
       "layout": "IPY_MODEL_4522c10772b04d0bb16aa9672146ddff"
      }
     },
     "b37f60783cf54809a234f3f73dc8da63": {
      "model_module": "@jupyter-widgets/base",
      "model_module_version": "2.0.0",
      "model_name": "LayoutModel",
      "state": {}
     },
     "b384e14042724c9dac3999301ad4ba4b": {
      "model_module": "@jupyter-widgets/base",
      "model_module_version": "2.0.0",
      "model_name": "LayoutModel",
      "state": {
       "visibility": "hidden"
      }
     },
     "b3a2f3c551974633b55f395eebaa6f2b": {
      "model_module": "@jupyter-widgets/base",
      "model_module_version": "2.0.0",
      "model_name": "LayoutModel",
      "state": {}
     },
     "b3a96827dd5c4629a2ce19b9d47358a4": {
      "model_module": "@jupyter-widgets/controls",
      "model_module_version": "2.0.0",
      "model_name": "HBoxModel",
      "state": {
       "children": [
        "IPY_MODEL_81df68f4510f4e3f996fa6093588a751",
        "IPY_MODEL_9947e633cc474014855e526b49939467",
        "IPY_MODEL_c2b1cfb8476b41569e84cfd5d5ee2859"
       ],
       "layout": "IPY_MODEL_afa2168097e04b68b9f04e037c1e2545"
      }
     },
     "b3bd9169df554abfa8c0e7f73964aa81": {
      "model_module": "@jupyter-widgets/controls",
      "model_module_version": "2.0.0",
      "model_name": "FloatProgressModel",
      "state": {
       "layout": "IPY_MODEL_fa5386b283cc4fc3a739065d74a3c2e8",
       "max": 2,
       "style": "IPY_MODEL_49a3392986a34dc08e7d4b5d473d20bb",
       "value": 2
      }
     },
     "b40dba846b614a5b9fb01751d3725043": {
      "model_module": "@jupyter-widgets/base",
      "model_module_version": "2.0.0",
      "model_name": "LayoutModel",
      "state": {
       "visibility": "hidden"
      }
     },
     "b40fda10717340c58a9ea228b4a59e64": {
      "model_module": "@jupyter-widgets/controls",
      "model_module_version": "2.0.0",
      "model_name": "HTMLModel",
      "state": {
       "layout": "IPY_MODEL_42ab93531d9149df8b9ae3fdb3c26c15",
       "style": "IPY_MODEL_ba0f4cf1d08640f193421b0148adacd0",
       "value": " 2/2 [00:01&lt;00:00,  1.44it/s]"
      }
     },
     "b4220d0e7f194dc7b3accdc2de0a7ce3": {
      "model_module": "@jupyter-widgets/controls",
      "model_module_version": "2.0.0",
      "model_name": "HTMLStyleModel",
      "state": {
       "description_width": "",
       "font_size": null,
       "text_color": null
      }
     },
     "b434a1347fec428b99bb611c9bd9b407": {
      "model_module": "@jupyter-widgets/base",
      "model_module_version": "2.0.0",
      "model_name": "LayoutModel",
      "state": {}
     },
     "b4459f439fc54a3cbec24b7fc19ad861": {
      "model_module": "@jupyter-widgets/controls",
      "model_module_version": "2.0.0",
      "model_name": "HTMLStyleModel",
      "state": {
       "description_width": "",
       "font_size": null,
       "text_color": null
      }
     },
     "b44cf1a4901a45b19f58c98d0fdf8de5": {
      "model_module": "@jupyter-widgets/controls",
      "model_module_version": "2.0.0",
      "model_name": "HTMLModel",
      "state": {
       "layout": "IPY_MODEL_2840ed5c54644e05a3bc475f50ec548c",
       "style": "IPY_MODEL_9a15e17d2c21474c99f3b214d5ab3070",
       "value": "hook.frame__tpch__lineitem: 100%"
      }
     },
     "b487b6a9b4044612b60f204d76e6405d": {
      "model_module": "@jupyter-widgets/controls",
      "model_module_version": "2.0.0",
      "model_name": "HBoxModel",
      "state": {
       "children": [
        "IPY_MODEL_aef03df7f7f244629e07f587f17a8368",
        "IPY_MODEL_4180ae8b880043a3ae71072e5e865cd3",
        "IPY_MODEL_ff3e679c50e946ad821bd8a5e66487fa"
       ],
       "layout": "IPY_MODEL_457b8eae29ba4974855c1f6b20fb89d2"
      }
     },
     "b496936a9c184957bb03d3ed3d24fed9": {
      "model_module": "@jupyter-widgets/controls",
      "model_module_version": "2.0.0",
      "model_name": "HTMLModel",
      "state": {
       "layout": "IPY_MODEL_534d633284d1405b9daef8d942990c1d",
       "style": "IPY_MODEL_4c05e660b76b4888b8f2e68a2da3ac18",
       "value": "Scanning hook.frame__tpch__partsupp: 100%"
      }
     },
     "b4a3a2ae8a4645278bbbb5567a045955": {
      "model_module": "@jupyter-widgets/controls",
      "model_module_version": "2.0.0",
      "model_name": "HTMLModel",
      "state": {
       "layout": "IPY_MODEL_91e03d485da44321885587f00579b5ba",
       "style": "IPY_MODEL_8c358d80c2d44eae8119c65e6383edd6",
       "value": "hook.frame__tpch__lineitem: 100%"
      }
     },
     "b4a412e1fd364a58a2ed26e100f6d8f9": {
      "model_module": "@jupyter-widgets/base",
      "model_module_version": "2.0.0",
      "model_name": "LayoutModel",
      "state": {}
     },
     "b4d2b5665c254191953ee72f339867fe": {
      "model_module": "@jupyter-widgets/base",
      "model_module_version": "2.0.0",
      "model_name": "LayoutModel",
      "state": {}
     },
     "b5014b06811c425ea5c419f360692a81": {
      "model_module": "@jupyter-widgets/controls",
      "model_module_version": "2.0.0",
      "model_name": "FloatProgressModel",
      "state": {
       "bar_style": "success",
       "layout": "IPY_MODEL_527bcfe500a0497f8a344b7d92108eb9",
       "max": 1,
       "style": "IPY_MODEL_df2896cb0d8142a4bb93fe42e395ae72",
       "value": 1
      }
     },
     "b512dd4aaf7547b387eb4dd432455183": {
      "model_module": "@jupyter-widgets/controls",
      "model_module_version": "2.0.0",
      "model_name": "HTMLStyleModel",
      "state": {
       "description_width": "",
       "font_size": null,
       "text_color": null
      }
     },
     "b52408d8bf384b199d77d53d93387a8d": {
      "model_module": "@jupyter-widgets/controls",
      "model_module_version": "2.0.0",
      "model_name": "HTMLStyleModel",
      "state": {
       "description_width": "",
       "font_size": null,
       "text_color": null
      }
     },
     "b528b97ddec749a3a7d71e061d5a8a7c": {
      "model_module": "@jupyter-widgets/controls",
      "model_module_version": "2.0.0",
      "model_name": "HTMLStyleModel",
      "state": {
       "description_width": "",
       "font_size": null,
       "text_color": null
      }
     },
     "b53f7e5a49324ccebea4e2e1c1ed6af6": {
      "model_module": "@jupyter-widgets/controls",
      "model_module_version": "2.0.0",
      "model_name": "HBoxModel",
      "state": {
       "children": [
        "IPY_MODEL_dc31c62692094bb39b14a856f9d7f771",
        "IPY_MODEL_337665fca2bc48f0b31044d672896eda",
        "IPY_MODEL_53b2aa52bb2b415d901ce34174cf95e3"
       ],
       "layout": "IPY_MODEL_c31eefd52e014085a6732a883ad32194"
      }
     },
     "b54b2ccc049f44f1912f591d3323a897": {
      "model_module": "@jupyter-widgets/base",
      "model_module_version": "2.0.0",
      "model_name": "LayoutModel",
      "state": {}
     },
     "b54cbc3f8e194ffdbdee4fd32de85b9c": {
      "model_module": "@jupyter-widgets/base",
      "model_module_version": "2.0.0",
      "model_name": "LayoutModel",
      "state": {}
     },
     "b56a86613ea04f689c24ddf84e249673": {
      "model_module": "@jupyter-widgets/controls",
      "model_module_version": "2.0.0",
      "model_name": "FloatProgressModel",
      "state": {
       "bar_style": "success",
       "layout": "IPY_MODEL_02e050a552054f63b24150e480292613",
       "max": 8,
       "style": "IPY_MODEL_b133be221e604e98ae89dd1a2ed5ffac",
       "value": 8
      }
     },
     "b570d3950af44576afb895710b003bb2": {
      "model_module": "@jupyter-widgets/controls",
      "model_module_version": "2.0.0",
      "model_name": "FloatProgressModel",
      "state": {
       "bar_style": "success",
       "layout": "IPY_MODEL_92288dffcf424711b42f7d9352da7cd7",
       "max": 1,
       "style": "IPY_MODEL_0c00d2398c104ce9b676587f42cf62ea",
       "value": 1
      }
     },
     "b5720d36c70d48c4b879f68656bf324c": {
      "model_module": "@jupyter-widgets/controls",
      "model_module_version": "2.0.0",
      "model_name": "HBoxModel",
      "state": {
       "children": [
        "IPY_MODEL_45324b2ded97487b890c2c043c7baf86",
        "IPY_MODEL_9bb258d272214b0d983e2450c281aa81",
        "IPY_MODEL_4d338d778d64423ea680c3c9d7cc69d4"
       ],
       "layout": "IPY_MODEL_4457d26f4a29407f92c8a94806a40e90"
      }
     },
     "b58431a5d61d4e95826181c99e5e2030": {
      "model_module": "@jupyter-widgets/controls",
      "model_module_version": "2.0.0",
      "model_name": "HTMLModel",
      "state": {
       "layout": "IPY_MODEL_fa4f493945824025bc44686927e296d3",
       "style": "IPY_MODEL_1e3717cec6ed4c298361be139b287ea0",
       "value": "Scanning for edges...: 100%"
      }
     },
     "b5912b877ea5440792946ea9645ad340": {
      "model_module": "@jupyter-widgets/controls",
      "model_module_version": "2.0.0",
      "model_name": "HTMLModel",
      "state": {
       "layout": "IPY_MODEL_22cdc8862e44490e982c0f6cad6e66ea",
       "style": "IPY_MODEL_ebed2e6dbf0d49b0b6a4c825a3d173d7",
       "value": " 6/6 [00:00&lt;00:00, 947.04it/s]"
      }
     },
     "b5a7ba69b119486ea6fa186eac5ddeb3": {
      "model_module": "@jupyter-widgets/controls",
      "model_module_version": "2.0.0",
      "model_name": "HTMLStyleModel",
      "state": {
       "description_width": "",
       "font_size": null,
       "text_color": null
      }
     },
     "b5b63a44e75a40739aef3e2e6ce7cb27": {
      "model_module": "@jupyter-widgets/base",
      "model_module_version": "2.0.0",
      "model_name": "LayoutModel",
      "state": {
       "visibility": "hidden"
      }
     },
     "b5ba39f82bdd44c08000220337938277": {
      "model_module": "@jupyter-widgets/base",
      "model_module_version": "2.0.0",
      "model_name": "LayoutModel",
      "state": {}
     },
     "b6065954cef04fcf8d24460ef5d4cf65": {
      "model_module": "@jupyter-widgets/controls",
      "model_module_version": "2.0.0",
      "model_name": "HTMLStyleModel",
      "state": {
       "description_width": "",
       "font_size": null,
       "text_color": null
      }
     },
     "b611e1fcd8224d3eb8d8a226620a5d4c": {
      "model_module": "@jupyter-widgets/controls",
      "model_module_version": "2.0.0",
      "model_name": "HTMLStyleModel",
      "state": {
       "description_width": "",
       "font_size": null,
       "text_color": null
      }
     },
     "b61c6845c0cf414b89f4e724c0c615b0": {
      "model_module": "@jupyter-widgets/base",
      "model_module_version": "2.0.0",
      "model_name": "LayoutModel",
      "state": {}
     },
     "b624b7c3154c433397aba7af9876d050": {
      "model_module": "@jupyter-widgets/controls",
      "model_module_version": "2.0.0",
      "model_name": "HBoxModel",
      "state": {
       "children": [
        "IPY_MODEL_dc7a71a28ecb4958a83b6b88a4e7e614",
        "IPY_MODEL_a2451b582e6740ae9370b9800837716b",
        "IPY_MODEL_154bc929a4e34f0fad1887367343e26c"
       ],
       "layout": "IPY_MODEL_82a278bc3c014023b0602739865c9a78"
      }
     },
     "b631baf3445f45f3b96e0e627c4700ad": {
      "model_module": "@jupyter-widgets/base",
      "model_module_version": "2.0.0",
      "model_name": "LayoutModel",
      "state": {}
     },
     "b640ca0896d8498b964bfc23ce57bdea": {
      "model_module": "@jupyter-widgets/controls",
      "model_module_version": "2.0.0",
      "model_name": "HTMLStyleModel",
      "state": {
       "description_width": "",
       "font_size": null,
       "text_color": null
      }
     },
     "b6512d0370ef40bb9576eec6b7fb76af": {
      "model_module": "@jupyter-widgets/base",
      "model_module_version": "2.0.0",
      "model_name": "LayoutModel",
      "state": {}
     },
     "b66b70006419429fa87f01ccd546d845": {
      "model_module": "@jupyter-widgets/controls",
      "model_module_version": "2.0.0",
      "model_name": "ProgressStyleModel",
      "state": {
       "description_width": ""
      }
     },
     "b68de9bce6764b1fa06b3a61ef9a3353": {
      "model_module": "@jupyter-widgets/controls",
      "model_module_version": "2.0.0",
      "model_name": "ProgressStyleModel",
      "state": {
       "description_width": ""
      }
     },
     "b6b8c1d32a034cd1805d446fa6133d74": {
      "model_module": "@jupyter-widgets/controls",
      "model_module_version": "2.0.0",
      "model_name": "HTMLStyleModel",
      "state": {
       "description_width": "",
       "font_size": null,
       "text_color": null
      }
     },
     "b6c3c9e7c23945728c3af63ff6f91258": {
      "model_module": "@jupyter-widgets/controls",
      "model_module_version": "2.0.0",
      "model_name": "ProgressStyleModel",
      "state": {
       "description_width": ""
      }
     },
     "b6d05e6c77b146958d288b94a6a3dcb4": {
      "model_module": "@jupyter-widgets/base",
      "model_module_version": "2.0.0",
      "model_name": "LayoutModel",
      "state": {}
     },
     "b6ea88c8b4ba4edba54a83cfa433aad2": {
      "model_module": "@jupyter-widgets/controls",
      "model_module_version": "2.0.0",
      "model_name": "HBoxModel",
      "state": {
       "children": [
        "IPY_MODEL_8c8958e86a4d448ba8cde73013df05ea",
        "IPY_MODEL_24a669dee39f4ef3bd15a143f61f6023",
        "IPY_MODEL_0317637efd7f4ad29413fdadfe490264"
       ],
       "layout": "IPY_MODEL_5c3ff34711ef4ec481a4811311baf76c"
      }
     },
     "b6fbbfbbe90b49a996363e72d5e37d25": {
      "model_module": "@jupyter-widgets/base",
      "model_module_version": "2.0.0",
      "model_name": "LayoutModel",
      "state": {}
     },
     "b736e2624a364bd5979c14ce4a64da9d": {
      "model_module": "@jupyter-widgets/base",
      "model_module_version": "2.0.0",
      "model_name": "LayoutModel",
      "state": {}
     },
     "b7440a7736bf4e299a399a18f2d28ddc": {
      "model_module": "@jupyter-widgets/controls",
      "model_module_version": "2.0.0",
      "model_name": "ProgressStyleModel",
      "state": {
       "description_width": ""
      }
     },
     "b74e0ef5a17b4dc4b0a5fedfc94e250b": {
      "model_module": "@jupyter-widgets/controls",
      "model_module_version": "2.0.0",
      "model_name": "HBoxModel",
      "state": {
       "children": [
        "IPY_MODEL_227d3dbb38ca4a4e990a529d686b7719",
        "IPY_MODEL_18f2aa55aea14a5da784c79d096afdda",
        "IPY_MODEL_5f81c485b9af4f9b898e2a9f12fbed91"
       ],
       "layout": "IPY_MODEL_4ae7f8c74e9743eaa83a9d840082fd0b"
      }
     },
     "b75cbc2e99c1423f8611ec66a74c66a5": {
      "model_module": "@jupyter-widgets/controls",
      "model_module_version": "2.0.0",
      "model_name": "HTMLStyleModel",
      "state": {
       "description_width": "",
       "font_size": null,
       "text_color": null
      }
     },
     "b76995b7087b4b438594763cf6df2b1a": {
      "model_module": "@jupyter-widgets/controls",
      "model_module_version": "2.0.0",
      "model_name": "HBoxModel",
      "state": {
       "children": [
        "IPY_MODEL_238a4248fc5f4c4ba0f3cb68196d41b8",
        "IPY_MODEL_a8cef7ff86664a33b2fdf3e44a8cf8e1",
        "IPY_MODEL_6e2703a1afa64017b595f39271d9fccd"
       ],
       "layout": "IPY_MODEL_85b6ab5ac6a94024a301c8fe1e24bdba"
      }
     },
     "b77b93afacad4d48abd0059059b0639f": {
      "model_module": "@jupyter-widgets/base",
      "model_module_version": "2.0.0",
      "model_name": "LayoutModel",
      "state": {
       "flex": "2"
      }
     },
     "b77e768bd6104e439b055f756d9ded94": {
      "model_module": "@jupyter-widgets/controls",
      "model_module_version": "2.0.0",
      "model_name": "HTMLStyleModel",
      "state": {
       "description_width": "",
       "font_size": null,
       "text_color": null
      }
     },
     "b7d7f0bf2d744806a56ffd00628c94d8": {
      "model_module": "@jupyter-widgets/base",
      "model_module_version": "2.0.0",
      "model_name": "LayoutModel",
      "state": {}
     },
     "b7fa5519e8a64ee7bbf6af6687267ead": {
      "model_module": "@jupyter-widgets/base",
      "model_module_version": "2.0.0",
      "model_name": "LayoutModel",
      "state": {}
     },
     "b7fd4763ef8c4dc78fc58c3b294b4c60": {
      "model_module": "@jupyter-widgets/controls",
      "model_module_version": "2.0.0",
      "model_name": "HBoxModel",
      "state": {
       "children": [
        "IPY_MODEL_beede72429c6405c82d8d74659fb8015",
        "IPY_MODEL_12f2136e66e046b2a52c3bede4537684",
        "IPY_MODEL_b5912b877ea5440792946ea9645ad340"
       ],
       "layout": "IPY_MODEL_f20988bf23594563a19d2143ffb49793"
      }
     },
     "b81ef55536d04a05804db2ea51ea7ce5": {
      "model_module": "@jupyter-widgets/base",
      "model_module_version": "2.0.0",
      "model_name": "LayoutModel",
      "state": {}
     },
     "b834baf75ebd4b00bd583cb51f0a2977": {
      "model_module": "@jupyter-widgets/controls",
      "model_module_version": "2.0.0",
      "model_name": "HBoxModel",
      "state": {
       "children": [
        "IPY_MODEL_b88c486759934005b3b6e5d06fb3ac04",
        "IPY_MODEL_469c43cacaee404c9a94539d170945f5",
        "IPY_MODEL_ca06cd1ce4154527b8567b750cb109dd"
       ],
       "layout": "IPY_MODEL_69e6f16e260b43a7889f20f234069d6e"
      }
     },
     "b839171b52d44c3c98712def1c4d28b4": {
      "model_module": "@jupyter-widgets/base",
      "model_module_version": "2.0.0",
      "model_name": "LayoutModel",
      "state": {}
     },
     "b84c79936fdd48b9bba10c96534c9d7c": {
      "model_module": "@jupyter-widgets/controls",
      "model_module_version": "2.0.0",
      "model_name": "HTMLStyleModel",
      "state": {
       "description_width": "",
       "font_size": null,
       "text_color": null
      }
     },
     "b84ff61d4ecd40c9a7b743592471830b": {
      "model_module": "@jupyter-widgets/controls",
      "model_module_version": "2.0.0",
      "model_name": "HBoxModel",
      "state": {
       "children": [
        "IPY_MODEL_f9493658c0154a7d9028f9eaabad5a36",
        "IPY_MODEL_8e07bf42c7f74ca497da747d726ed38f",
        "IPY_MODEL_99fdecf114e0476c83048889d034eb86"
       ],
       "layout": "IPY_MODEL_e33a4beb160a4b8b9e852aad8cd5b8e6"
      }
     },
     "b88c486759934005b3b6e5d06fb3ac04": {
      "model_module": "@jupyter-widgets/controls",
      "model_module_version": "2.0.0",
      "model_name": "HTMLModel",
      "state": {
       "layout": "IPY_MODEL_ca11bd0911964df48154084c0d4434cd",
       "style": "IPY_MODEL_2ea3860f5ca445c087154920c93f19ac",
       "value": "Scanning for nodes in hook.frame__tpch__part...: 100%"
      }
     },
     "b8abf7e622ce4674bdac73aceceb7633": {
      "model_module": "@jupyter-widgets/base",
      "model_module_version": "2.0.0",
      "model_name": "LayoutModel",
      "state": {}
     },
     "b8cc3fef84f44fe286031ee57b23dd42": {
      "model_module": "@jupyter-widgets/controls",
      "model_module_version": "2.0.0",
      "model_name": "HTMLModel",
      "state": {
       "layout": "IPY_MODEL_7f1ac7069dd04075a0dc333560a606cf",
       "style": "IPY_MODEL_63b13d402e23414bbdd52bd1afe800aa",
       "value": "Scanning for edges...:   0%"
      }
     },
     "b8d40dee007b4312a5381ae87192ac43": {
      "model_module": "@jupyter-widgets/controls",
      "model_module_version": "2.0.0",
      "model_name": "HTMLModel",
      "state": {
       "layout": "IPY_MODEL_5e2d52f349ac4e88aa40dfb0d4b5d545",
       "style": "IPY_MODEL_7093e929b2a147c9a950702128e27574",
       "value": "Scanning for nodes...: 100%"
      }
     },
     "b8dc1e225e344c5c9035db2154eac480": {
      "model_module": "@jupyter-widgets/controls",
      "model_module_version": "2.0.0",
      "model_name": "HTMLStyleModel",
      "state": {
       "description_width": "",
       "font_size": null,
       "text_color": null
      }
     },
     "b8dec5caffa145d7a15f9bce5ca76744": {
      "model_module": "@jupyter-widgets/base",
      "model_module_version": "2.0.0",
      "model_name": "LayoutModel",
      "state": {}
     },
     "b90220270c244bef9a0e77eb2ec1be6f": {
      "model_module": "@jupyter-widgets/controls",
      "model_module_version": "2.0.0",
      "model_name": "HTMLStyleModel",
      "state": {
       "description_width": "",
       "font_size": null,
       "text_color": null
      }
     },
     "b9063543355b4470b411eb75dc47cf76": {
      "model_module": "@jupyter-widgets/base",
      "model_module_version": "2.0.0",
      "model_name": "LayoutModel",
      "state": {}
     },
     "b9252a081e9d45f8b7132301b291a2c6": {
      "model_module": "@jupyter-widgets/controls",
      "model_module_version": "2.0.0",
      "model_name": "HTMLStyleModel",
      "state": {
       "description_width": "",
       "font_size": null,
       "text_color": null
      }
     },
     "b93d43b848484afca823ba21e031fc56": {
      "model_module": "@jupyter-widgets/controls",
      "model_module_version": "2.0.0",
      "model_name": "HTMLStyleModel",
      "state": {
       "description_width": "",
       "font_size": null,
       "text_color": null
      }
     },
     "b9539ef2d64647f1be9d4f982b65d338": {
      "model_module": "@jupyter-widgets/controls",
      "model_module_version": "2.0.0",
      "model_name": "HTMLStyleModel",
      "state": {
       "description_width": "",
       "font_size": null,
       "text_color": null
      }
     },
     "b95fd45ca4c84a0b8e63d027eba12520": {
      "model_module": "@jupyter-widgets/controls",
      "model_module_version": "2.0.0",
      "model_name": "HTMLStyleModel",
      "state": {
       "description_width": "",
       "font_size": null,
       "text_color": null
      }
     },
     "b96abf9ad62842c8aabfbd94b4f9f582": {
      "model_module": "@jupyter-widgets/controls",
      "model_module_version": "2.0.0",
      "model_name": "HTMLStyleModel",
      "state": {
       "description_width": "",
       "font_size": null,
       "text_color": null
      }
     },
     "b96c5dad9d684fc18273214fbf4f19c1": {
      "model_module": "@jupyter-widgets/controls",
      "model_module_version": "2.0.0",
      "model_name": "HTMLStyleModel",
      "state": {
       "description_width": "",
       "font_size": null,
       "text_color": null
      }
     },
     "b97207bb021740c6847c5920c124151c": {
      "model_module": "@jupyter-widgets/controls",
      "model_module_version": "2.0.0",
      "model_name": "HTMLModel",
      "state": {
       "layout": "IPY_MODEL_a5a5db1469e94e8d97e727edbee91515",
       "style": "IPY_MODEL_97f3c7d507d1458ab86a41651b978c85",
       "value": " 2/2 [00:01&lt;00:00,  1.67it/s]"
      }
     },
     "b98513b2abb0485eb9e83ef935b809ca": {
      "model_module": "@jupyter-widgets/controls",
      "model_module_version": "2.0.0",
      "model_name": "ProgressStyleModel",
      "state": {
       "description_width": ""
      }
     },
     "b99fe88fed46494e93d6c5d34da223a6": {
      "model_module": "@jupyter-widgets/base",
      "model_module_version": "2.0.0",
      "model_name": "LayoutModel",
      "state": {}
     },
     "b9ab3fa42a3b4381bcd1d1ff71915650": {
      "model_module": "@jupyter-widgets/base",
      "model_module_version": "2.0.0",
      "model_name": "LayoutModel",
      "state": {}
     },
     "b9c7b7cce37147af8966568523557ce0": {
      "model_module": "@jupyter-widgets/controls",
      "model_module_version": "2.0.0",
      "model_name": "HTMLStyleModel",
      "state": {
       "description_width": "",
       "font_size": null,
       "text_color": null
      }
     },
     "b9d730f6a24747e9a9e14e58030cca77": {
      "model_module": "@jupyter-widgets/controls",
      "model_module_version": "2.0.0",
      "model_name": "HTMLStyleModel",
      "state": {
       "description_width": "",
       "font_size": null,
       "text_color": null
      }
     },
     "b9e61994c83540daa97486434ea38d36": {
      "model_module": "@jupyter-widgets/controls",
      "model_module_version": "2.0.0",
      "model_name": "HTMLModel",
      "state": {
       "layout": "IPY_MODEL_af2161d1048f4e01b14027487cc3e1cd",
       "style": "IPY_MODEL_32c77d9eea8d47fca886ad46d6629c9d",
       "value": "hook.frame__tpch__part: nodes...: 100%"
      }
     },
     "ba0f4cf1d08640f193421b0148adacd0": {
      "model_module": "@jupyter-widgets/controls",
      "model_module_version": "2.0.0",
      "model_name": "HTMLStyleModel",
      "state": {
       "description_width": "",
       "font_size": null,
       "text_color": null
      }
     },
     "ba20c2df0b4f470e88332b963abf2268": {
      "model_module": "@jupyter-widgets/base",
      "model_module_version": "2.0.0",
      "model_name": "LayoutModel",
      "state": {}
     },
     "ba2a5ab6bd694f129e7e7a83aa4769b5": {
      "model_module": "@jupyter-widgets/controls",
      "model_module_version": "2.0.0",
      "model_name": "HTMLStyleModel",
      "state": {
       "description_width": "",
       "font_size": null,
       "text_color": null
      }
     },
     "ba3d1d5d5fb3415591ea1a092d282d3d": {
      "model_module": "@jupyter-widgets/base",
      "model_module_version": "2.0.0",
      "model_name": "LayoutModel",
      "state": {}
     },
     "ba9d70f26eb34c4cbb89ca75b8b9f484": {
      "model_module": "@jupyter-widgets/base",
      "model_module_version": "2.0.0",
      "model_name": "LayoutModel",
      "state": {}
     },
     "babfa90acbb340a9b6e65604a015786a": {
      "model_module": "@jupyter-widgets/base",
      "model_module_version": "2.0.0",
      "model_name": "LayoutModel",
      "state": {}
     },
     "bac3244be2544a89ad667343b74db00c": {
      "model_module": "@jupyter-widgets/base",
      "model_module_version": "2.0.0",
      "model_name": "LayoutModel",
      "state": {}
     },
     "bacff2eecdc54045a21ff883f80e2dc2": {
      "model_module": "@jupyter-widgets/controls",
      "model_module_version": "2.0.0",
      "model_name": "HTMLStyleModel",
      "state": {
       "description_width": "",
       "font_size": null,
       "text_color": null
      }
     },
     "bb1446986af0434498138de8307f6c04": {
      "model_module": "@jupyter-widgets/controls",
      "model_module_version": "2.0.0",
      "model_name": "ProgressStyleModel",
      "state": {
       "description_width": ""
      }
     },
     "bb18c147f79b45a5b00117920a29d580": {
      "model_module": "@jupyter-widgets/controls",
      "model_module_version": "2.0.0",
      "model_name": "ProgressStyleModel",
      "state": {
       "description_width": ""
      }
     },
     "bb2de59348554b9393a6d03bfc90a199": {
      "model_module": "@jupyter-widgets/controls",
      "model_module_version": "2.0.0",
      "model_name": "HTMLModel",
      "state": {
       "layout": "IPY_MODEL_a9526f21956b40958a7ef7d2e292b5df",
       "style": "IPY_MODEL_944ba21cf2f94954918f01f2d4444705",
       "value": " 1/1 [00:01&lt;00:00,  1.07s/it]"
      }
     },
     "bb308893952c48ef8e152b7cc712f527": {
      "model_module": "@jupyter-widgets/controls",
      "model_module_version": "2.0.0",
      "model_name": "FloatProgressModel",
      "state": {
       "bar_style": "success",
       "layout": "IPY_MODEL_ae3e81a2fad240059eae8aa8dbcc1fe5",
       "max": 1,
       "style": "IPY_MODEL_1a4a987960b24f7fb2d10b101bf90b18",
       "value": 1
      }
     },
     "bb93c01f6079408395990b830b2f418f": {
      "model_module": "@jupyter-widgets/controls",
      "model_module_version": "2.0.0",
      "model_name": "FloatProgressModel",
      "state": {
       "layout": "IPY_MODEL_5e4acd5ef25041969e125f835cd0c324",
       "max": 2,
       "style": "IPY_MODEL_6398c74b1238466f9a3b3a0c51c7eb41",
       "value": 2
      }
     },
     "bbacd98df1954749a02a4f35e5132b0e": {
      "model_module": "@jupyter-widgets/controls",
      "model_module_version": "2.0.0",
      "model_name": "HTMLModel",
      "state": {
       "layout": "IPY_MODEL_952cf7e188ff4a0598d4bf42e4614e2b",
       "style": "IPY_MODEL_fa7cdabde92049c7b25697eb29dbaaef",
       "value": " 1/1 [00:00&lt;00:00, 134.40it/s]"
      }
     },
     "bbc62f7510764c6b88926d6553c613a8": {
      "model_module": "@jupyter-widgets/controls",
      "model_module_version": "2.0.0",
      "model_name": "HTMLModel",
      "state": {
       "layout": "IPY_MODEL_d05e61ebbe634023aedc4ae232e2d74a",
       "style": "IPY_MODEL_2de6805a3d194c4bb7c4cd1d8aa6a681",
       "value": "Scanning for nodes...: 100%"
      }
     },
     "bbcada6fbd794bbcb66355e03c43c666": {
      "model_module": "@jupyter-widgets/base",
      "model_module_version": "2.0.0",
      "model_name": "LayoutModel",
      "state": {}
     },
     "bbcbb27bf33f4fcb9f5f7620ac3b115c": {
      "model_module": "@jupyter-widgets/controls",
      "model_module_version": "2.0.0",
      "model_name": "ProgressStyleModel",
      "state": {
       "description_width": ""
      }
     },
     "bbd0f745da944be8a70639ffdf24a6fc": {
      "model_module": "@jupyter-widgets/controls",
      "model_module_version": "2.0.0",
      "model_name": "HTMLStyleModel",
      "state": {
       "description_width": "",
       "font_size": null,
       "text_color": null
      }
     },
     "bbde4064697d4f9fb88dca202cb525bc": {
      "model_module": "@jupyter-widgets/controls",
      "model_module_version": "2.0.0",
      "model_name": "HTMLModel",
      "state": {
       "layout": "IPY_MODEL_0638b4e67138491ea7228a52ab3e70e8",
       "style": "IPY_MODEL_56b75c9125164e369c40461d64e243ed",
       "value": " 2/2 [00:01&lt;00:00,  1.13s/it]"
      }
     },
     "bc2dfd6dded54c6380f20b66d2f5893f": {
      "model_module": "@jupyter-widgets/controls",
      "model_module_version": "2.0.0",
      "model_name": "HTMLModel",
      "state": {
       "layout": "IPY_MODEL_4fba6b20da044d019323a45fe2df81c0",
       "style": "IPY_MODEL_91beacbd03bf400da75cdd327ee1275a",
       "value": "Scanning for nodes...: 100%"
      }
     },
     "bc344deb167e4da9883a8ae8464fa64c": {
      "model_module": "@jupyter-widgets/base",
      "model_module_version": "2.0.0",
      "model_name": "LayoutModel",
      "state": {}
     },
     "bc43e4f1cd9c4df7b0b3ddae285a08c3": {
      "model_module": "@jupyter-widgets/controls",
      "model_module_version": "2.0.0",
      "model_name": "HTMLModel",
      "state": {
       "layout": "IPY_MODEL_e110908d314c4bb4ad6956be20de9069",
       "style": "IPY_MODEL_dcd8dbfc1661444ca2df66fcd22be4de",
       "value": "Scanning for edges...: 100%"
      }
     },
     "bc47768ebfd74cb1b8b19756eb93c344": {
      "model_module": "@jupyter-widgets/controls",
      "model_module_version": "2.0.0",
      "model_name": "HTMLStyleModel",
      "state": {
       "description_width": "",
       "font_size": null,
       "text_color": null
      }
     },
     "bc498b53e17c4c58b7f94a3affc8f471": {
      "model_module": "@jupyter-widgets/base",
      "model_module_version": "2.0.0",
      "model_name": "LayoutModel",
      "state": {
       "display": "inline-flex",
       "flex_flow": "row wrap",
       "width": "100%"
      }
     },
     "bc63bda5f4e242eb8ed8c718661074fd": {
      "model_module": "@jupyter-widgets/controls",
      "model_module_version": "2.0.0",
      "model_name": "HTMLStyleModel",
      "state": {
       "description_width": "",
       "font_size": null,
       "text_color": null
      }
     },
     "bc6a4493d2f143a095b15ff45b6e7d55": {
      "model_module": "@jupyter-widgets/base",
      "model_module_version": "2.0.0",
      "model_name": "LayoutModel",
      "state": {}
     },
     "bc72ba2208da45bb907b6e6e962c190c": {
      "model_module": "@jupyter-widgets/controls",
      "model_module_version": "2.0.0",
      "model_name": "HTMLModel",
      "state": {
       "layout": "IPY_MODEL_02f3ecf281f64d988dea46759e9b38b7",
       "style": "IPY_MODEL_89b32df4b2e1443689d6e5943b447400",
       "value": " 1/1 [00:00&lt;00:00, 122.46it/s]"
      }
     },
     "bc8b736cf2da41f1a930978237b7ff19": {
      "model_module": "@jupyter-widgets/controls",
      "model_module_version": "2.0.0",
      "model_name": "HTMLModel",
      "state": {
       "layout": "IPY_MODEL_592fb10824fe4a5b83a90fb41044c64a",
       "style": "IPY_MODEL_b9252a081e9d45f8b7132301b291a2c6",
       "value": "hook.frame__tpch__supplier: 100%"
      }
     },
     "bca9d5d385a84ee0aec160c5f75921cd": {
      "model_module": "@jupyter-widgets/base",
      "model_module_version": "2.0.0",
      "model_name": "LayoutModel",
      "state": {}
     },
     "bcd22b536a544f99a1cd314750f77179": {
      "model_module": "@jupyter-widgets/base",
      "model_module_version": "2.0.0",
      "model_name": "LayoutModel",
      "state": {}
     },
     "bd2188328fbb40eba8ba5d5ceda7fe67": {
      "model_module": "@jupyter-widgets/controls",
      "model_module_version": "2.0.0",
      "model_name": "HTMLModel",
      "state": {
       "layout": "IPY_MODEL_5358685b7b6f4f13b5fdec225fc34b0e",
       "style": "IPY_MODEL_a6727a6228d44f7c90a0a81ebe889c66",
       "value": " 2/2 [00:01&lt;00:00,  1.48it/s]"
      }
     },
     "bd2a95ba043d46c29b0730982215af50": {
      "model_module": "@jupyter-widgets/base",
      "model_module_version": "2.0.0",
      "model_name": "LayoutModel",
      "state": {}
     },
     "bd3407acaff54959a62530555276208d": {
      "model_module": "@jupyter-widgets/controls",
      "model_module_version": "2.0.0",
      "model_name": "HTMLModel",
      "state": {
       "layout": "IPY_MODEL_30f7a16724d145cd922bb2f8ecf9629f",
       "style": "IPY_MODEL_f825ee70838144f98c6a701c6b4b3d94",
       "value": " 8/8 [00:47&lt;00:00,  5.12s/it]"
      }
     },
     "bd37fec7fe69486a9c0690860b99a518": {
      "model_module": "@jupyter-widgets/base",
      "model_module_version": "2.0.0",
      "model_name": "LayoutModel",
      "state": {
       "display": "inline-flex",
       "flex_flow": "row wrap",
       "width": "100%"
      }
     },
     "bd449587301e4d95aacfeb8e321a0e91": {
      "model_module": "@jupyter-widgets/controls",
      "model_module_version": "2.0.0",
      "model_name": "HTMLModel",
      "state": {
       "layout": "IPY_MODEL_87981cfd2eef406eaa37851e7d7ad12a",
       "style": "IPY_MODEL_e89ebff5dd27411cb607d3a49919e01b",
       "value": "hook.frame__tpch__nation (nodes)...: 100%"
      }
     },
     "bd76fc50763c42ccad4bd1dc3002c249": {
      "model_module": "@jupyter-widgets/controls",
      "model_module_version": "2.0.0",
      "model_name": "ProgressStyleModel",
      "state": {
       "description_width": ""
      }
     },
     "bdc234d25e7d4a32b1c7577f37730e5e": {
      "model_module": "@jupyter-widgets/controls",
      "model_module_version": "2.0.0",
      "model_name": "FloatProgressModel",
      "state": {
       "bar_style": "success",
       "layout": "IPY_MODEL_fab3e9e7f29c4dbc8124a90cf3e52300",
       "max": 1,
       "style": "IPY_MODEL_f75dd5995a374cbf88e8792983a1d49f",
       "value": 1
      }
     },
     "be090fe662624da2a72a027237cd04d2": {
      "model_module": "@jupyter-widgets/base",
      "model_module_version": "2.0.0",
      "model_name": "LayoutModel",
      "state": {}
     },
     "be19d5cda5564d03b66a0c0e134386a0": {
      "model_module": "@jupyter-widgets/base",
      "model_module_version": "2.0.0",
      "model_name": "LayoutModel",
      "state": {}
     },
     "be4a2a56706a4105b67faacee5f37c72": {
      "model_module": "@jupyter-widgets/controls",
      "model_module_version": "2.0.0",
      "model_name": "HTMLStyleModel",
      "state": {
       "description_width": "",
       "font_size": null,
       "text_color": null
      }
     },
     "be840f997e924da587f156829c44597f": {
      "model_module": "@jupyter-widgets/controls",
      "model_module_version": "2.0.0",
      "model_name": "FloatProgressModel",
      "state": {
       "bar_style": "success",
       "layout": "IPY_MODEL_2b1a8479a93e4e49a90db3ea4e680a45",
       "max": 1,
       "style": "IPY_MODEL_b104938321bf4699b66de1ac3a35441f",
       "value": 1
      }
     },
     "be8fb66d76a847ab9bd7df375e4ed7bb": {
      "model_module": "@jupyter-widgets/controls",
      "model_module_version": "2.0.0",
      "model_name": "HTMLStyleModel",
      "state": {
       "description_width": "",
       "font_size": null,
       "text_color": null
      }
     },
     "bed1d24a2b654cab8022d3f0ddb44dba": {
      "model_module": "@jupyter-widgets/controls",
      "model_module_version": "2.0.0",
      "model_name": "FloatProgressModel",
      "state": {
       "bar_style": "success",
       "layout": "IPY_MODEL_0ee18d104ec14f678bcc3328834c130f",
       "max": 2,
       "style": "IPY_MODEL_9d1559f5bfaa4ccfad2adab9846d12ff",
       "value": 2
      }
     },
     "bed71b2b4b1c4f29bdf8ea7b2d124960": {
      "model_module": "@jupyter-widgets/controls",
      "model_module_version": "2.0.0",
      "model_name": "FloatProgressModel",
      "state": {
       "bar_style": "success",
       "layout": "IPY_MODEL_61e80fe60c1b4295ad417dea02a62dfe",
       "max": 2,
       "style": "IPY_MODEL_b10ac98205554cdba6722ade7f4c0576",
       "value": 2
      }
     },
     "beede72429c6405c82d8d74659fb8015": {
      "model_module": "@jupyter-widgets/controls",
      "model_module_version": "2.0.0",
      "model_name": "HTMLModel",
      "state": {
       "layout": "IPY_MODEL_1f56e2c605a3470e9d5ff869f9663e1c",
       "style": "IPY_MODEL_33c3914f6fea4960865d183fa869ca5b",
       "value": "Scanning for edges...: 100%"
      }
     },
     "bf19e88a91db42e8a1a71790a5c96650": {
      "model_module": "@jupyter-widgets/controls",
      "model_module_version": "2.0.0",
      "model_name": "HTMLModel",
      "state": {
       "layout": "IPY_MODEL_2b0958e10e7b4e9fa7e0713a56be44be",
       "style": "IPY_MODEL_0589c21e1a274ec893028a7c2a70d918",
       "value": " 1/1 [00:01&lt;00:00,  1.09s/it]"
      }
     },
     "bf1fce3d0f26479490dd56bd1b683dbe": {
      "model_module": "@jupyter-widgets/base",
      "model_module_version": "2.0.0",
      "model_name": "LayoutModel",
      "state": {}
     },
     "bf2ad609025543cbafdc3139612e9c68": {
      "model_module": "@jupyter-widgets/base",
      "model_module_version": "2.0.0",
      "model_name": "LayoutModel",
      "state": {}
     },
     "bf2d6709de404f389ddca0c3ec5b1e31": {
      "model_module": "@jupyter-widgets/controls",
      "model_module_version": "2.0.0",
      "model_name": "HTMLStyleModel",
      "state": {
       "description_width": "",
       "font_size": null,
       "text_color": null
      }
     },
     "bf772895dcdf4907ab0c321fa86f6817": {
      "model_module": "@jupyter-widgets/base",
      "model_module_version": "2.0.0",
      "model_name": "LayoutModel",
      "state": {}
     },
     "bf79eeb0e17842c8bd1e7ac40ac153dd": {
      "model_module": "@jupyter-widgets/base",
      "model_module_version": "2.0.0",
      "model_name": "LayoutModel",
      "state": {}
     },
     "bfa047de85254bb782ddc23705ef731a": {
      "model_module": "@jupyter-widgets/controls",
      "model_module_version": "2.0.0",
      "model_name": "HTMLStyleModel",
      "state": {
       "description_width": "",
       "font_size": null,
       "text_color": null
      }
     },
     "bff81b5686314160b104411fad1642d6": {
      "model_module": "@jupyter-widgets/controls",
      "model_module_version": "2.0.0",
      "model_name": "ProgressStyleModel",
      "state": {
       "description_width": ""
      }
     },
     "bff89c5f271c4379945d829ffc030d4f": {
      "model_module": "@jupyter-widgets/base",
      "model_module_version": "2.0.0",
      "model_name": "LayoutModel",
      "state": {}
     },
     "c0367204aa4142199a6912e4fb9bd488": {
      "model_module": "@jupyter-widgets/base",
      "model_module_version": "2.0.0",
      "model_name": "LayoutModel",
      "state": {}
     },
     "c03baf888cd645abb4612718e76fa1ce": {
      "model_module": "@jupyter-widgets/base",
      "model_module_version": "2.0.0",
      "model_name": "LayoutModel",
      "state": {}
     },
     "c052da093cdc4533b1475f2a0703c5e1": {
      "model_module": "@jupyter-widgets/controls",
      "model_module_version": "2.0.0",
      "model_name": "HBoxModel",
      "state": {
       "children": [
        "IPY_MODEL_4b53bb34412642a3b32d947c7fc7c9b1",
        "IPY_MODEL_9ef0b1f709a345d7ba7eaa52260b739b",
        "IPY_MODEL_12c2f856fd284ac2b45d240e667b916f"
       ],
       "layout": "IPY_MODEL_fa5831168e034100bebc35555f674975"
      }
     },
     "c0856121a5584e10b4a5fe6d2b6880b3": {
      "model_module": "@jupyter-widgets/controls",
      "model_module_version": "2.0.0",
      "model_name": "HTMLModel",
      "state": {
       "layout": "IPY_MODEL_9d8ebbf604c94bac9f1b15d52b1f17a6",
       "style": "IPY_MODEL_a103479bb39f4de5b20208ebdf3ca38d",
       "value": "hook.frame__tpch__part: 100%"
      }
     },
     "c09389e6880a4bfca4539391913a4c74": {
      "model_module": "@jupyter-widgets/controls",
      "model_module_version": "2.0.0",
      "model_name": "HTMLStyleModel",
      "state": {
       "description_width": "",
       "font_size": null,
       "text_color": null
      }
     },
     "c0ab3979aa504aea8243c383b49663c4": {
      "model_module": "@jupyter-widgets/base",
      "model_module_version": "2.0.0",
      "model_name": "LayoutModel",
      "state": {}
     },
     "c0bce032df9945b1a59fec9105af641a": {
      "model_module": "@jupyter-widgets/base",
      "model_module_version": "2.0.0",
      "model_name": "LayoutModel",
      "state": {
       "width": "20px"
      }
     },
     "c0f31a0407954509add32932997d8df1": {
      "model_module": "@jupyter-widgets/controls",
      "model_module_version": "2.0.0",
      "model_name": "HTMLModel",
      "state": {
       "layout": "IPY_MODEL_fe373a22a0f34f339c9eb51143d65581",
       "style": "IPY_MODEL_33f23c17f3b640ed93efc80f289c85ae",
       "value": "Scanning for nodes...: 100%"
      }
     },
     "c10a7838bf1545338c8eb6e221683fc9": {
      "model_module": "@jupyter-widgets/controls",
      "model_module_version": "2.0.0",
      "model_name": "HTMLModel",
      "state": {
       "layout": "IPY_MODEL_020e1fa6de5e47d9890a7ef0db6d3fff",
       "style": "IPY_MODEL_a34d3df86b544e55b7b8fe0ffaa6113d",
       "value": " 2/2 [00:01&lt;00:00,  1.23it/s]"
      }
     },
     "c13498bd603745c9985ee8fbeebaf0b4": {
      "model_module": "@jupyter-widgets/base",
      "model_module_version": "2.0.0",
      "model_name": "LayoutModel",
      "state": {}
     },
     "c15778211c164881a98df01f75f0a383": {
      "model_module": "@jupyter-widgets/controls",
      "model_module_version": "2.0.0",
      "model_name": "HTMLStyleModel",
      "state": {
       "description_width": "",
       "font_size": null,
       "text_color": null
      }
     },
     "c15b579e07a84021a7f8d2d7867825cf": {
      "model_module": "@jupyter-widgets/controls",
      "model_module_version": "2.0.0",
      "model_name": "HTMLModel",
      "state": {
       "layout": "IPY_MODEL_ca7e2fb41c354169bb8b26fffa602742",
       "style": "IPY_MODEL_5d77fa2ec39149429a508e9f1181f925",
       "value": "hook.frame__tpch__orders: edges...: 100%"
      }
     },
     "c16e14c7464b4597a721ba2d3bfae141": {
      "model_module": "@jupyter-widgets/base",
      "model_module_version": "2.0.0",
      "model_name": "LayoutModel",
      "state": {}
     },
     "c18753c6cbd04e49ae04e6751d561fad": {
      "model_module": "@jupyter-widgets/controls",
      "model_module_version": "2.0.0",
      "model_name": "HBoxModel",
      "state": {
       "children": [
        "IPY_MODEL_29e1e1a7f89c4b48b7749abc9e4841f5",
        "IPY_MODEL_a409769022214062aa01028a607c3d5f",
        "IPY_MODEL_60395cfeb90f4c74b7366b49304291f0"
       ],
       "layout": "IPY_MODEL_97fb38e2513147f59215225de9fbd28d"
      }
     },
     "c227ca0fd7674bbd980cf9c76d49ab36": {
      "model_module": "@jupyter-widgets/controls",
      "model_module_version": "2.0.0",
      "model_name": "HTMLModel",
      "state": {
       "layout": "IPY_MODEL_4395e9ea04364638b6ebfeef6ce5538d",
       "style": "IPY_MODEL_94747211663941bcba6fac48f14d9b49",
       "value": "Scanning for nodes...: 100%"
      }
     },
     "c24bf063750e456382ce510c4dbea8d4": {
      "model_module": "@jupyter-widgets/base",
      "model_module_version": "2.0.0",
      "model_name": "LayoutModel",
      "state": {}
     },
     "c2537b07fd3844468a621d5feeb5de2b": {
      "model_module": "@jupyter-widgets/base",
      "model_module_version": "2.0.0",
      "model_name": "LayoutModel",
      "state": {}
     },
     "c25fa88ad3c4497fbc210b318f526259": {
      "model_module": "@jupyter-widgets/base",
      "model_module_version": "2.0.0",
      "model_name": "LayoutModel",
      "state": {}
     },
     "c26c50866f4c4ee4aba308338995ca59": {
      "model_module": "@jupyter-widgets/controls",
      "model_module_version": "2.0.0",
      "model_name": "ProgressStyleModel",
      "state": {
       "description_width": ""
      }
     },
     "c284779a0739486babf7998ab6e804a9": {
      "model_module": "@jupyter-widgets/base",
      "model_module_version": "2.0.0",
      "model_name": "LayoutModel",
      "state": {}
     },
     "c285ab06809f456ab81be3c2ce09ffc5": {
      "model_module": "@jupyter-widgets/controls",
      "model_module_version": "2.0.0",
      "model_name": "HTMLModel",
      "state": {
       "layout": "IPY_MODEL_7db037e3af53421b8b01f82779065133",
       "style": "IPY_MODEL_bf2d6709de404f389ddca0c3ec5b1e31",
       "value": " 2/2 [00:04&lt;00:00,  2.35s/it]"
      }
     },
     "c29e620625514d7ebce3b5260b06c238": {
      "model_module": "@jupyter-widgets/base",
      "model_module_version": "2.0.0",
      "model_name": "LayoutModel",
      "state": {}
     },
     "c2a68ad159104e66bc9724f3e00b83c5": {
      "model_module": "@jupyter-widgets/controls",
      "model_module_version": "2.0.0",
      "model_name": "ProgressStyleModel",
      "state": {
       "description_width": ""
      }
     },
     "c2af343c4bc847c6a93c3e18b9801a7b": {
      "model_module": "@jupyter-widgets/controls",
      "model_module_version": "2.0.0",
      "model_name": "HTMLModel",
      "state": {
       "layout": "IPY_MODEL_1074ec16eaa74d6a8ce11740eee5ca83",
       "style": "IPY_MODEL_528b3001edb745c09ca1966d7bacb658",
       "value": " 1/1 [00:00&lt;00:00, 183.01it/s]"
      }
     },
     "c2b0017c0cd84b2982dcb99aa236b331": {
      "model_module": "@jupyter-widgets/base",
      "model_module_version": "2.0.0",
      "model_name": "LayoutModel",
      "state": {}
     },
     "c2b1cfb8476b41569e84cfd5d5ee2859": {
      "model_module": "@jupyter-widgets/controls",
      "model_module_version": "2.0.0",
      "model_name": "HTMLModel",
      "state": {
       "layout": "IPY_MODEL_62834b8e3b0d429e9c1ba4372e62bb6d",
       "style": "IPY_MODEL_b084446cdd514eafb3e57a8964085e74",
       "value": " 2/2 [00:01&lt;00:00,  1.85it/s]"
      }
     },
     "c2cf8b0bd09b4ac4a971a27fa8f3e7fd": {
      "model_module": "@jupyter-widgets/controls",
      "model_module_version": "2.0.0",
      "model_name": "HTMLModel",
      "state": {
       "layout": "IPY_MODEL_4cffaa4ac7f048ff890982bbf8854503",
       "style": "IPY_MODEL_5163b85537cb48e2886a91f8b62a3cbd",
       "value": " 1/2 [00:01&lt;00:01,  1.06s/it]"
      }
     },
     "c2e12a9a575b4dfb817de748bd713c79": {
      "model_module": "@jupyter-widgets/controls",
      "model_module_version": "2.0.0",
      "model_name": "HTMLStyleModel",
      "state": {
       "description_width": "",
       "font_size": null,
       "text_color": null
      }
     },
     "c30a2267f2b8453fbb91a40f3e6edfa0": {
      "model_module": "@jupyter-widgets/controls",
      "model_module_version": "2.0.0",
      "model_name": "FloatProgressModel",
      "state": {
       "layout": "IPY_MODEL_187c77b7e1944d4b9db965c26e66f7a3",
       "max": 2,
       "style": "IPY_MODEL_3a7464aa43b14259aa35cc41233ee687",
       "value": 2
      }
     },
     "c31d6aa51da14f53a47bb0f92477e73a": {
      "model_module": "@jupyter-widgets/controls",
      "model_module_version": "2.0.0",
      "model_name": "HTMLModel",
      "state": {
       "layout": "IPY_MODEL_16baea35e48a47b88557b12f5bb0be24",
       "style": "IPY_MODEL_70ad5b53fa4b47e8986573d275c54f04",
       "value": "hook.frame__tpch__customer: nodes...: 100%"
      }
     },
     "c31eefd52e014085a6732a883ad32194": {
      "model_module": "@jupyter-widgets/base",
      "model_module_version": "2.0.0",
      "model_name": "LayoutModel",
      "state": {
       "visibility": "hidden"
      }
     },
     "c339981ee6b8428ebbb1b2331770316d": {
      "model_module": "@jupyter-widgets/controls",
      "model_module_version": "2.0.0",
      "model_name": "HBoxModel",
      "state": {
       "children": [
        "IPY_MODEL_6d6d044e3b354aacb742ee8d7a43fb61",
        "IPY_MODEL_839dd98c633a48279e67d5fa0f6981ca",
        "IPY_MODEL_f853b1e9426e4f5baa884a2c38a0f23d"
       ],
       "layout": "IPY_MODEL_809cec1bff564790a955be3ec0eddf92"
      }
     },
     "c37a7f7234a5489cab0b23f18f67614a": {
      "model_module": "@jupyter-widgets/controls",
      "model_module_version": "2.0.0",
      "model_name": "HBoxModel",
      "state": {
       "children": [
        "IPY_MODEL_f874f9ead76048cca561f229b9b25a21",
        "IPY_MODEL_6eefa7a0e8c94453b0b40df3d5c2a765",
        "IPY_MODEL_97871a27d4584a9f98ae61e4fcc3d37d"
       ],
       "layout": "IPY_MODEL_09fcd2cf2a294aca9e62cad317a3366e"
      }
     },
     "c382ddec0e5542dcba59559b4500136f": {
      "model_module": "@jupyter-widgets/base",
      "model_module_version": "2.0.0",
      "model_name": "LayoutModel",
      "state": {}
     },
     "c39b30c5c0dc481c8af8f57f78496de0": {
      "model_module": "@jupyter-widgets/base",
      "model_module_version": "2.0.0",
      "model_name": "LayoutModel",
      "state": {}
     },
     "c39d50f7e9384f95a53d331bf8ee2595": {
      "model_module": "@jupyter-widgets/controls",
      "model_module_version": "2.0.0",
      "model_name": "HTMLModel",
      "state": {
       "layout": "IPY_MODEL_ba3d1d5d5fb3415591ea1a092d282d3d",
       "style": "IPY_MODEL_9797e9b1f34644a387e2ed4dc2086a17",
       "value": "hook.frame__tpch__region (nodes)...: 100%"
      }
     },
     "c3c047d708a9486c8f8fec8272a63671": {
      "model_module": "@jupyter-widgets/base",
      "model_module_version": "2.0.0",
      "model_name": "LayoutModel",
      "state": {}
     },
     "c3dd23e335ab4d89a0a482dbc9e40ed3": {
      "model_module": "@jupyter-widgets/controls",
      "model_module_version": "2.0.0",
      "model_name": "HTMLModel",
      "state": {
       "layout": "IPY_MODEL_072a998d5fff4e7aaf440383970f7569",
       "style": "IPY_MODEL_df36eaf53661453db9e4adbc65eccbe0",
       "value": " 1/8 [00:02&lt;00:10,  1.48s/it]"
      }
     },
     "c3e3010540f74448bb3976668fda3390": {
      "model_module": "@jupyter-widgets/controls",
      "model_module_version": "2.0.0",
      "model_name": "HBoxModel",
      "state": {
       "children": [
        "IPY_MODEL_4861ac93c2154d729348e90da0ef73a0",
        "IPY_MODEL_fe3c849c64f44502aba9a930f8102a0e",
        "IPY_MODEL_6240e93f33024ff9a4fa5daec5eb0db1"
       ],
       "layout": "IPY_MODEL_830ba77e715d467997791610696d4ec2"
      }
     },
     "c3f588d74c3f46409e3b8eca36080361": {
      "model_module": "@jupyter-widgets/controls",
      "model_module_version": "2.0.0",
      "model_name": "HTMLModel",
      "state": {
       "layout": "IPY_MODEL_966f33a4e39f411a848dba9fa6c99269",
       "style": "IPY_MODEL_84817b58a8dd4c84befbf828b5627ae5",
       "value": " 0/6 [00:00&lt;?, ?it/s]"
      }
     },
     "c408cded6d7246d78d10eecffdbd8184": {
      "model_module": "@jupyter-widgets/controls",
      "model_module_version": "2.0.0",
      "model_name": "HTMLModel",
      "state": {
       "layout": "IPY_MODEL_fb3ff4e441b0465ea2b915ba980ed02d",
       "style": "IPY_MODEL_985a90ae0fa64afab0dc4389d109eedc",
       "value": " 8/8 [00:54&lt;00:00,  6.03s/it]"
      }
     },
     "c40cb5ddbc974ca795d701f8ab25f003": {
      "model_module": "@jupyter-widgets/base",
      "model_module_version": "2.0.0",
      "model_name": "LayoutModel",
      "state": {}
     },
     "c41b7b078b0941a8bc4fb04df449855f": {
      "model_module": "@jupyter-widgets/controls",
      "model_module_version": "2.0.0",
      "model_name": "HTMLModel",
      "state": {
       "layout": "IPY_MODEL_5bcd014ea5ab43f29bd44fced4b77656",
       "style": "IPY_MODEL_c632aab8be814bb8ada75422d0dd41ab",
       "value": " 1/1 [00:00&lt;00:00, 219.97it/s]"
      }
     },
     "c4206823551f461e9b215b0c44be7b3a": {
      "model_module": "@jupyter-widgets/controls",
      "model_module_version": "2.0.0",
      "model_name": "FloatProgressModel",
      "state": {
       "bar_style": "success",
       "layout": "IPY_MODEL_b434a1347fec428b99bb611c9bd9b407",
       "max": 2,
       "style": "IPY_MODEL_02e201c67cc24ceba688f36c23a06ffe",
       "value": 2
      }
     },
     "c43bcfea6706437a961d6b3acecb083f": {
      "model_module": "@jupyter-widgets/base",
      "model_module_version": "2.0.0",
      "model_name": "LayoutModel",
      "state": {}
     },
     "c44e019dbfa246a098b48b63a70a295a": {
      "model_module": "@jupyter-widgets/controls",
      "model_module_version": "2.0.0",
      "model_name": "HBoxModel",
      "state": {
       "children": [
        "IPY_MODEL_23d38a4c718249d29f057ec1528d2ef6",
        "IPY_MODEL_47408a440b59453fba4acae65b459f35",
        "IPY_MODEL_2f88d7775d8e4f628ae856bab327dcf0"
       ],
       "layout": "IPY_MODEL_e1c4441b3b874666954c0772b613d83f"
      }
     },
     "c4ba8abbecbf4b35850aacd69f1b6b03": {
      "model_module": "@jupyter-widgets/controls",
      "model_module_version": "2.0.0",
      "model_name": "HTMLModel",
      "state": {
       "layout": "IPY_MODEL_46329d5f632d4b2e970f9aeee52ca00d",
       "style": "IPY_MODEL_bfa047de85254bb782ddc23705ef731a",
       "value": "Scanning for nodes...: 100%"
      }
     },
     "c4d5b73e44ec413794e87a53d1d60ea9": {
      "model_module": "@jupyter-widgets/controls",
      "model_module_version": "2.0.0",
      "model_name": "FloatProgressModel",
      "state": {
       "layout": "IPY_MODEL_e13f6867d55a435a8cb1b3b0d29576c8",
       "max": 2,
       "style": "IPY_MODEL_2953cc8f7f8641049bf6add326ad95f6",
       "value": 2
      }
     },
     "c513855d65624defa43592f3c00b822b": {
      "model_module": "@jupyter-widgets/base",
      "model_module_version": "2.0.0",
      "model_name": "LayoutModel",
      "state": {}
     },
     "c516d006fee0435996cf660019fc6e6e": {
      "model_module": "@jupyter-widgets/base",
      "model_module_version": "2.0.0",
      "model_name": "LayoutModel",
      "state": {}
     },
     "c52ba0190bae483cb05d7e7eb46f6ea5": {
      "model_module": "@jupyter-widgets/controls",
      "model_module_version": "2.0.0",
      "model_name": "HTMLModel",
      "state": {
       "layout": "IPY_MODEL_83b0d175e6c94d64a27976792787e432",
       "style": "IPY_MODEL_ee3dbf81c3874c13a7d4168caa585bb1",
       "value": "Scanning for nodes...: 100%"
      }
     },
     "c539486870c04b30a4397e5f80a8caa4": {
      "model_module": "@jupyter-widgets/controls",
      "model_module_version": "2.0.0",
      "model_name": "HTMLModel",
      "state": {
       "layout": "IPY_MODEL_792f57cb8e4343e98893e37f35f2e675",
       "style": "IPY_MODEL_3fbd672185d8447baf274eb08ef0f442",
       "value": "hook.frame__tpch__orders: nodes...: 100%"
      }
     },
     "c556e4a4dcca48f9a0040eb810d26db2": {
      "model_module": "@jupyter-widgets/controls",
      "model_module_version": "2.0.0",
      "model_name": "FloatProgressModel",
      "state": {
       "bar_style": "success",
       "layout": "IPY_MODEL_2d552c2c7ba242849aa95ead3947dbde",
       "max": 2,
       "style": "IPY_MODEL_dd2830fe289b4c239afa9c412eaaa1ec",
       "value": 2
      }
     },
     "c563b605e8ab4cc69ba02944e6eba74f": {
      "model_module": "@jupyter-widgets/controls",
      "model_module_version": "2.0.0",
      "model_name": "HTMLStyleModel",
      "state": {
       "description_width": "",
       "font_size": null,
       "text_color": null
      }
     },
     "c56737fe62744f54b65fdc4f40450015": {
      "model_module": "@jupyter-widgets/controls",
      "model_module_version": "2.0.0",
      "model_name": "HTMLStyleModel",
      "state": {
       "description_width": "",
       "font_size": null,
       "text_color": null
      }
     },
     "c59f0d1439f143808111ddc4a7cf2bf3": {
      "model_module": "@jupyter-widgets/controls",
      "model_module_version": "2.0.0",
      "model_name": "HTMLModel",
      "state": {
       "layout": "IPY_MODEL_95b20df620f241b196deec570293d660",
       "style": "IPY_MODEL_af1c1ffeb84e4b418523e56968e232cb",
       "value": "hook.frame__tpch__part: nodes...: 100%"
      }
     },
     "c5b4dcf460324ecf9fcb093c3ee1d7e2": {
      "model_module": "@jupyter-widgets/controls",
      "model_module_version": "2.0.0",
      "model_name": "HTMLModel",
      "state": {
       "layout": "IPY_MODEL_f1f98e6656ae44a9b933bee9282a7fe1",
       "style": "IPY_MODEL_ad93b64889b14c5c9fa552d47af6c8c8",
       "value": "hook.frame__tpch__partsupp: edges...: 100%"
      }
     },
     "c5b9a5950dd749598de98336f2d06a7b": {
      "model_module": "@jupyter-widgets/controls",
      "model_module_version": "2.0.0",
      "model_name": "ProgressStyleModel",
      "state": {
       "description_width": ""
      }
     },
     "c5bfd83ace4f420e84220d4cb7a026ed": {
      "model_module": "@jupyter-widgets/controls",
      "model_module_version": "2.0.0",
      "model_name": "HTMLModel",
      "state": {
       "layout": "IPY_MODEL_1d62f33da01b43f887c83268a9915324",
       "style": "IPY_MODEL_d17a965994d54253aec9834e7901909f",
       "value": "hook.frame__tpch__part: nodes...: 100%"
      }
     },
     "c5c1ef31bb6a495d87a771b7bb1192b9": {
      "model_module": "@jupyter-widgets/controls",
      "model_module_version": "2.0.0",
      "model_name": "HTMLStyleModel",
      "state": {
       "description_width": "",
       "font_size": null,
       "text_color": null
      }
     },
     "c5c932363a584fd392b6033c40501e93": {
      "model_module": "@jupyter-widgets/controls",
      "model_module_version": "2.0.0",
      "model_name": "FloatProgressModel",
      "state": {
       "layout": "IPY_MODEL_766d3a12c36a458c8057077570afd77e",
       "max": 2,
       "style": "IPY_MODEL_2bd9f387ba3f4ba9ac5055ede6e72b68",
       "value": 2
      }
     },
     "c5d8237648284aff9788132ae5076b87": {
      "model_module": "@jupyter-widgets/base",
      "model_module_version": "2.0.0",
      "model_name": "LayoutModel",
      "state": {
       "visibility": "hidden"
      }
     },
     "c5dd7ef27be94b4a82658b472f5e277e": {
      "model_module": "@jupyter-widgets/controls",
      "model_module_version": "2.0.0",
      "model_name": "ProgressStyleModel",
      "state": {
       "description_width": ""
      }
     },
     "c5e0f78cb202493a977105632c134edc": {
      "model_module": "@jupyter-widgets/base",
      "model_module_version": "2.0.0",
      "model_name": "LayoutModel",
      "state": {
       "visibility": "hidden"
      }
     },
     "c5eff3f91fce41e4ac1ffc883223d0df": {
      "model_module": "@jupyter-widgets/controls",
      "model_module_version": "2.0.0",
      "model_name": "HBoxModel",
      "state": {
       "children": [
        "IPY_MODEL_3b2c653e591442a387b1ab7025750b6f",
        "IPY_MODEL_37f7ec4dc1db453191ea8a3fe07a2ea7",
        "IPY_MODEL_1116fbf01f404b5aa1c42c3f740b2bf4"
       ],
       "layout": "IPY_MODEL_580c02a9013948bcacf4722d7805af51"
      }
     },
     "c60931ebeff44219866be9a9241bca88": {
      "model_module": "@jupyter-widgets/base",
      "model_module_version": "2.0.0",
      "model_name": "LayoutModel",
      "state": {}
     },
     "c616f8e5ad354d38bf99691f51a1b6ac": {
      "model_module": "@jupyter-widgets/base",
      "model_module_version": "2.0.0",
      "model_name": "LayoutModel",
      "state": {}
     },
     "c617cbb3909d4a708ce84a938e7f6ace": {
      "model_module": "@jupyter-widgets/controls",
      "model_module_version": "2.0.0",
      "model_name": "HTMLStyleModel",
      "state": {
       "description_width": "",
       "font_size": null,
       "text_color": null
      }
     },
     "c6292bd4cd0c4fa0b424da7785b83df7": {
      "model_module": "@jupyter-widgets/controls",
      "model_module_version": "2.0.0",
      "model_name": "HTMLStyleModel",
      "state": {
       "description_width": "",
       "font_size": null,
       "text_color": null
      }
     },
     "c632aab8be814bb8ada75422d0dd41ab": {
      "model_module": "@jupyter-widgets/controls",
      "model_module_version": "2.0.0",
      "model_name": "HTMLStyleModel",
      "state": {
       "description_width": "",
       "font_size": null,
       "text_color": null
      }
     },
     "c65777221cb54296bf5eab53e4a3f80e": {
      "model_module": "@jupyter-widgets/controls",
      "model_module_version": "2.0.0",
      "model_name": "ProgressStyleModel",
      "state": {
       "description_width": ""
      }
     },
     "c65f250761944051ae223445f09cb875": {
      "model_module": "@jupyter-widgets/base",
      "model_module_version": "2.0.0",
      "model_name": "LayoutModel",
      "state": {}
     },
     "c6620b3e3639422fbc2a3618963b5f86": {
      "model_module": "@jupyter-widgets/controls",
      "model_module_version": "2.0.0",
      "model_name": "HTMLModel",
      "state": {
       "layout": "IPY_MODEL_760b580b1d7c4a9ab8515f06273ed923",
       "style": "IPY_MODEL_e2cbdb67b0884434a71578a680a420e2",
       "value": " 2/2 [00:01&lt;00:00,  1.45it/s]"
      }
     },
     "c6698d93cc864b38939b2dce5720ceb7": {
      "model_module": "@jupyter-widgets/controls",
      "model_module_version": "2.0.0",
      "model_name": "HTMLStyleModel",
      "state": {
       "description_width": "",
       "font_size": null,
       "text_color": null
      }
     },
     "c67fc0dba0cc41779dd57793c7972b87": {
      "model_module": "@jupyter-widgets/controls",
      "model_module_version": "2.0.0",
      "model_name": "HTMLModel",
      "state": {
       "layout": "IPY_MODEL_4116ea3e1f1548859bc9929d18277f38",
       "style": "IPY_MODEL_ea1b94b6925e48c9be88e81e3d8b5258",
       "value": "hook.frame__tpch__supplier: nodes...: 100%"
      }
     },
     "c6827f8fc74e47548b30485a7cce2f9e": {
      "model_module": "@jupyter-widgets/base",
      "model_module_version": "2.0.0",
      "model_name": "LayoutModel",
      "state": {}
     },
     "c715872b51f84e78a24d8e9f7088be8b": {
      "model_module": "@jupyter-widgets/controls",
      "model_module_version": "2.0.0",
      "model_name": "HTMLModel",
      "state": {
       "layout": "IPY_MODEL_fb70bdb5396a4389a62c9a9cf608e770",
       "style": "IPY_MODEL_5e61972b7d8d45459a77efe1fb2f344e",
       "value": " 8/8 [00:52&lt;00:00,  5.69s/it]"
      }
     },
     "c7473988e858442f9fdb4eb703e2de44": {
      "model_module": "@jupyter-widgets/controls",
      "model_module_version": "2.0.0",
      "model_name": "HTMLModel",
      "state": {
       "layout": "IPY_MODEL_2cdf8b9807ef499086f82f3db386437b",
       "style": "IPY_MODEL_573f9998cd6e4dee8b8f043883e88938",
       "value": " 2/2 [00:00&lt;00:00,  2.26it/s]"
      }
     },
     "c75bc1c067c04f8a99449cd678110b09": {
      "model_module": "@jupyter-widgets/controls",
      "model_module_version": "2.0.0",
      "model_name": "HTMLModel",
      "state": {
       "layout": "IPY_MODEL_ca6c9abfccbb45b7b063961b54faf1aa",
       "style": "IPY_MODEL_a6483f6284ca4900badf74331beed508",
       "value": "hook.frame__tpch__supplier: edges...: 100%"
      }
     },
     "c7600af2504c46fea962811c316f0bab": {
      "model_module": "@jupyter-widgets/base",
      "model_module_version": "2.0.0",
      "model_name": "LayoutModel",
      "state": {}
     },
     "c762991fb083458f864156c4c940eea2": {
      "model_module": "@jupyter-widgets/controls",
      "model_module_version": "2.0.0",
      "model_name": "HBoxModel",
      "state": {
       "children": [
        "IPY_MODEL_bc43e4f1cd9c4df7b0b3ddae285a08c3",
        "IPY_MODEL_bdc234d25e7d4a32b1c7577f37730e5e",
        "IPY_MODEL_8911b0d51e294ac9aac70611fc660eec"
       ],
       "layout": "IPY_MODEL_3e0d27c24cba4fdeaa7e99b5be9c76c4"
      }
     },
     "c77f34d2b39545949bde2163185b5a06": {
      "model_module": "@jupyter-widgets/controls",
      "model_module_version": "2.0.0",
      "model_name": "HTMLModel",
      "state": {
       "layout": "IPY_MODEL_8854081358424a36b8aaf98065f46dfc",
       "style": "IPY_MODEL_ed9565f0337e42f5ba26f76952739165",
       "value": "hook.frame__tpch__customer: nodes...: 100%"
      }
     },
     "c78f98189e0c433f9e8ddd53059c9240": {
      "model_module": "@jupyter-widgets/controls",
      "model_module_version": "2.0.0",
      "model_name": "FloatProgressModel",
      "state": {
       "layout": "IPY_MODEL_082cf8f36c57499e9c4d7ca4100050ea",
       "max": 2,
       "style": "IPY_MODEL_07096e69152d4403a3158325ff8c5688",
       "value": 2
      }
     },
     "c7ea2966b7414fc885581d891139d7ab": {
      "model_module": "@jupyter-widgets/controls",
      "model_module_version": "2.0.0",
      "model_name": "HTMLModel",
      "state": {
       "layout": "IPY_MODEL_eb2c0ea4dacf49ffa246eec71220c8c6",
       "style": "IPY_MODEL_52d43d1cb2e5479dae323774781b9373",
       "value": " 1/1 [00:01&lt;00:00,  1.05s/it]"
      }
     },
     "c80bc15e2cdc40ea8f93fd085ce18454": {
      "model_module": "@jupyter-widgets/controls",
      "model_module_version": "2.0.0",
      "model_name": "FloatProgressModel",
      "state": {
       "bar_style": "success",
       "layout": "IPY_MODEL_b104844b8de34b8eae54c0a0efe58a66",
       "max": 2,
       "style": "IPY_MODEL_b66b70006419429fa87f01ccd546d845",
       "value": 2
      }
     },
     "c8152d1475d34d879dac67baaeb18549": {
      "model_module": "@jupyter-widgets/base",
      "model_module_version": "2.0.0",
      "model_name": "LayoutModel",
      "state": {
       "visibility": "hidden"
      }
     },
     "c818db67140244dea3405c663aa57b7e": {
      "model_module": "@jupyter-widgets/base",
      "model_module_version": "2.0.0",
      "model_name": "LayoutModel",
      "state": {}
     },
     "c8a48cf050a545f69f7c8c4520ea7e99": {
      "model_module": "@jupyter-widgets/controls",
      "model_module_version": "2.0.0",
      "model_name": "HTMLModel",
      "state": {
       "layout": "IPY_MODEL_d619d38b00c642d5b9b85c6a3b062de8",
       "style": "IPY_MODEL_b4459f439fc54a3cbec24b7fc19ad861",
       "value": " 2/2 [00:06&lt;00:00,  3.36s/it]"
      }
     },
     "c8bf052a5ecc49108875112cfd4ce3f2": {
      "model_module": "@jupyter-widgets/base",
      "model_module_version": "2.0.0",
      "model_name": "LayoutModel",
      "state": {}
     },
     "c8c072de668541d8b50a8a56e8b8911e": {
      "model_module": "@jupyter-widgets/controls",
      "model_module_version": "2.0.0",
      "model_name": "ProgressStyleModel",
      "state": {
       "description_width": ""
      }
     },
     "c8e02cb173354cc4ab7459e754c1804a": {
      "model_module": "@jupyter-widgets/controls",
      "model_module_version": "2.0.0",
      "model_name": "HTMLModel",
      "state": {
       "layout": "IPY_MODEL_a91f82ea79b84fa2abf2453150d97871",
       "style": "IPY_MODEL_b93d43b848484afca823ba21e031fc56",
       "value": "Scanning frames:  62%"
      }
     },
     "c8ef2838fa5f46f08e32daac6f4dba62": {
      "model_module": "@jupyter-widgets/controls",
      "model_module_version": "2.0.0",
      "model_name": "HTMLStyleModel",
      "state": {
       "description_width": "",
       "font_size": null,
       "text_color": null
      }
     },
     "c90be3fe2fa540d4af706bf09940d160": {
      "model_module": "@jupyter-widgets/controls",
      "model_module_version": "2.0.0",
      "model_name": "HBoxModel",
      "state": {
       "children": [
        "IPY_MODEL_27967906adda4c419df5b8b18ee9f54b",
        "IPY_MODEL_a1a99a8f686d4be99294b499c4ea6087",
        "IPY_MODEL_c7ea2966b7414fc885581d891139d7ab"
       ],
       "layout": "IPY_MODEL_dd39cec3abc049c78fae338ac21aae10"
      }
     },
     "c917ab6694e342668b1728659be4ecba": {
      "model_module": "@jupyter-widgets/controls",
      "model_module_version": "2.0.0",
      "model_name": "FloatProgressModel",
      "state": {
       "bar_style": "success",
       "layout": "IPY_MODEL_ad763a37c92244a8b2d2a3bea24e537b",
       "max": 2,
       "style": "IPY_MODEL_a8e50371afd14a79aa8e19f721db9094",
       "value": 2
      }
     },
     "c92108832a8f431683fc4ac7a919d431": {
      "model_module": "@jupyter-widgets/controls",
      "model_module_version": "2.0.0",
      "model_name": "HBoxModel",
      "state": {
       "children": [
        "IPY_MODEL_92e051c0accd43edab0c43768416d905",
        "IPY_MODEL_0c1efb735e98477db84ac3e2d0e230bc",
        "IPY_MODEL_56d55b5b407744f7a76336ecdda0c5b9"
       ],
       "layout": "IPY_MODEL_f541efbda7c04009acfa81342bce37a5"
      }
     },
     "c936085327474821a95e792251678ab3": {
      "model_module": "@jupyter-widgets/controls",
      "model_module_version": "2.0.0",
      "model_name": "HTMLModel",
      "state": {
       "layout": "IPY_MODEL_b04a06accf6e4e439562b98efeb825d5",
       "style": "IPY_MODEL_e3ead444ef674dcc9f44df10d99409a1",
       "value": "Scanning for nodes...: 100%"
      }
     },
     "c9a158e314084f4c911aab950a1311ec": {
      "model_module": "@jupyter-widgets/base",
      "model_module_version": "2.0.0",
      "model_name": "LayoutModel",
      "state": {}
     },
     "c9a7a25ad82b43ddaa0931ac81c483c2": {
      "model_module": "@jupyter-widgets/controls",
      "model_module_version": "2.0.0",
      "model_name": "HTMLModel",
      "state": {
       "layout": "IPY_MODEL_74ffed13e10546a3a7f02208bf154a81",
       "style": "IPY_MODEL_ad5f4f5bee4643c1ad2c627060a67d30",
       "value": " 1/1 [00:00&lt;00:00,  1.74it/s]"
      }
     },
     "c9bc061435fb4656a63964f206ea6030": {
      "model_module": "@jupyter-widgets/base",
      "model_module_version": "2.0.0",
      "model_name": "LayoutModel",
      "state": {}
     },
     "c9cee45244b647ce9e6186b78642a918": {
      "model_module": "@jupyter-widgets/base",
      "model_module_version": "2.0.0",
      "model_name": "LayoutModel",
      "state": {}
     },
     "c9dba1dffe9a4c4ab4fe567b97ed5fb2": {
      "model_module": "@jupyter-widgets/controls",
      "model_module_version": "2.0.0",
      "model_name": "HTMLModel",
      "state": {
       "layout": "IPY_MODEL_47f6bc12c5a344929897f35a7bb1e9a5",
       "style": "IPY_MODEL_c6292bd4cd0c4fa0b424da7785b83df7",
       "value": " 2/2 [00:01&lt;00:00,  1.65it/s]"
      }
     },
     "ca06cd1ce4154527b8567b750cb109dd": {
      "model_module": "@jupyter-widgets/controls",
      "model_module_version": "2.0.0",
      "model_name": "HTMLModel",
      "state": {
       "layout": "IPY_MODEL_218813f188e54f16ad85f197f4c4d455",
       "style": "IPY_MODEL_d639619679a84a939685568e476fee07",
       "value": " 1/1 [00:00&lt;00:00,  1.05it/s]"
      }
     },
     "ca11bd0911964df48154084c0d4434cd": {
      "model_module": "@jupyter-widgets/base",
      "model_module_version": "2.0.0",
      "model_name": "LayoutModel",
      "state": {}
     },
     "ca18852ba44a49efa69044e6ed9d80fe": {
      "model_module": "@jupyter-widgets/controls",
      "model_module_version": "2.0.0",
      "model_name": "HBoxModel",
      "state": {
       "children": [
        "IPY_MODEL_c5bfd83ace4f420e84220d4cb7a026ed",
        "IPY_MODEL_50ab9d887ca64f8b8e02f3f3d6a945e1",
        "IPY_MODEL_24d4b5684bfc4bf49e44de424c6eff7f"
       ],
       "layout": "IPY_MODEL_e37aa1fa9f394956af2c902032a1fa90"
      }
     },
     "ca27833de65b45d2b717dbea72dbec3b": {
      "model_module": "@jupyter-widgets/controls",
      "model_module_version": "2.0.0",
      "model_name": "ProgressStyleModel",
      "state": {
       "description_width": ""
      }
     },
     "ca2d0d7c451f4f4eb2e7180d5e9d5737": {
      "model_module": "@jupyter-widgets/controls",
      "model_module_version": "2.0.0",
      "model_name": "HTMLModel",
      "state": {
       "layout": "IPY_MODEL_b31d45d518fe4b5f9db44a50022f2c42",
       "style": "IPY_MODEL_802a206ae61f4b49b2e25861247800e0",
       "value": "hook.frame__tpch__nation: nodes...: 100%"
      }
     },
     "ca3845d4424f4bd6933e65a935647892": {
      "model_module": "@jupyter-widgets/controls",
      "model_module_version": "2.0.0",
      "model_name": "HBoxModel",
      "state": {
       "children": [
        "IPY_MODEL_1cc825042a634e62a7a18766af3b15dc",
        "IPY_MODEL_2b216e3e7d294c7ab41c0283df6d7b0a",
        "IPY_MODEL_06269113fcf44e96b8d49d156f39111f"
       ],
       "layout": "IPY_MODEL_53a9750d931742cea27c3ef74d308770"
      }
     },
     "ca38c78f23b543ab91a10cde7e7935f9": {
      "model_module": "@jupyter-widgets/controls",
      "model_module_version": "2.0.0",
      "model_name": "HTMLModel",
      "state": {
       "layout": "IPY_MODEL_4ce0b8a4ab0d496a9c6a8fab7c22079f",
       "style": "IPY_MODEL_ddfc2c761d3d477da5ed4f17a02194fa",
       "value": " 0/1 [00:00&lt;?, ?it/s]"
      }
     },
     "ca4c02028b764d4f89afb3b81114176f": {
      "model_module": "@jupyter-widgets/controls",
      "model_module_version": "2.0.0",
      "model_name": "HTMLModel",
      "state": {
       "layout": "IPY_MODEL_83c8cbc4fad0449ba3a36eba82767a2f",
       "style": "IPY_MODEL_35a220e552604d75b9d386efb897adb9",
       "value": " 2/2 [00:31&lt;00:00, 15.55s/it]"
      }
     },
     "ca62495de361434ab33dabe935931815": {
      "model_module": "@jupyter-widgets/controls",
      "model_module_version": "2.0.0",
      "model_name": "HTMLModel",
      "state": {
       "layout": "IPY_MODEL_7754b6d474a24c67b18fdd5975df1a38",
       "style": "IPY_MODEL_7ae7372393c54551a31959dd92be2c44",
       "value": " 1/1 [00:00&lt;00:00, 136.15it/s]"
      }
     },
     "ca6c9abfccbb45b7b063961b54faf1aa": {
      "model_module": "@jupyter-widgets/base",
      "model_module_version": "2.0.0",
      "model_name": "LayoutModel",
      "state": {}
     },
     "ca7008220d8c41a4888c60c186ce4ee3": {
      "model_module": "@jupyter-widgets/controls",
      "model_module_version": "2.0.0",
      "model_name": "HTMLModel",
      "state": {
       "layout": "IPY_MODEL_798e682e3b074744968056a9d06d31c8",
       "style": "IPY_MODEL_39e8c7570dd441aaa23dfa4cfb1bb59f",
       "value": "Scanning hook.frame__tpch__supplier:  50%"
      }
     },
     "ca7e2fb41c354169bb8b26fffa602742": {
      "model_module": "@jupyter-widgets/base",
      "model_module_version": "2.0.0",
      "model_name": "LayoutModel",
      "state": {}
     },
     "ca833ccc37c44165abba0be229656775": {
      "model_module": "@jupyter-widgets/controls",
      "model_module_version": "2.0.0",
      "model_name": "HTMLModel",
      "state": {
       "layout": "IPY_MODEL_cbb9bcfb0b6e4118aea2701f3e64da21",
       "style": "IPY_MODEL_4801c6a92e024ecbaa8ed5daad860709",
       "value": "Scanning for nodes...: 100%"
      }
     },
     "ca982be8e6604b05b24c98e3910fe852": {
      "model_module": "@jupyter-widgets/base",
      "model_module_version": "2.0.0",
      "model_name": "LayoutModel",
      "state": {}
     },
     "cab3562cb4994857844cbfc9ef435b9f": {
      "model_module": "@jupyter-widgets/controls",
      "model_module_version": "2.0.0",
      "model_name": "FloatProgressModel",
      "state": {
       "layout": "IPY_MODEL_24b9f084b1f2411883f6c2c92fed5819",
       "max": 2,
       "style": "IPY_MODEL_4e813b3da5ff452094540cdeab45262f",
       "value": 2
      }
     },
     "cafe1ab982194b69a45a1c9f629c59a2": {
      "model_module": "@jupyter-widgets/base",
      "model_module_version": "2.0.0",
      "model_name": "LayoutModel",
      "state": {}
     },
     "cb110647b321462fa568160fa90731ad": {
      "model_module": "@jupyter-widgets/controls",
      "model_module_version": "2.0.0",
      "model_name": "ProgressStyleModel",
      "state": {
       "description_width": ""
      }
     },
     "cb11ecc8781f49f287fd600f5a7bf0b0": {
      "model_module": "@jupyter-widgets/base",
      "model_module_version": "2.0.0",
      "model_name": "LayoutModel",
      "state": {}
     },
     "cb2753e1d0994ab6829be335fa14ca0b": {
      "model_module": "@jupyter-widgets/base",
      "model_module_version": "2.0.0",
      "model_name": "LayoutModel",
      "state": {
       "visibility": "hidden"
      }
     },
     "cb30771e58374fcc9fe4264f6c08ccb6": {
      "model_module": "@jupyter-widgets/controls",
      "model_module_version": "2.0.0",
      "model_name": "HTMLModel",
      "state": {
       "layout": "IPY_MODEL_8efc4d49c31843a39c3c79f6f486a7c6",
       "style": "IPY_MODEL_06e37ebe7fa046cd817dd2c4394a9cc0",
       "value": " 1/1 [00:00&lt;00:00, 165.00it/s]"
      }
     },
     "cb3f88a97ebd4bd28ecaebb3392aa5fc": {
      "model_module": "@jupyter-widgets/controls",
      "model_module_version": "2.0.0",
      "model_name": "FloatProgressModel",
      "state": {
       "bar_style": "success",
       "layout": "IPY_MODEL_def1cc26db114fc1b1dd0ecfd952f6da",
       "max": 8,
       "style": "IPY_MODEL_ebf7b2a1afb7490bb4d25b09b270c29d",
       "value": 8
      }
     },
     "cb51aac12b124fdda307e8d6da07f230": {
      "model_module": "@jupyter-widgets/controls",
      "model_module_version": "2.0.0",
      "model_name": "ProgressStyleModel",
      "state": {
       "description_width": ""
      }
     },
     "cbace0a88c1742469ba1b5fa089b33cf": {
      "model_module": "@jupyter-widgets/controls",
      "model_module_version": "2.0.0",
      "model_name": "FloatProgressModel",
      "state": {
       "bar_style": "danger",
       "layout": "IPY_MODEL_1c2de4dc5fa44772b8a339f89b1cc04e",
       "max": 8,
       "style": "IPY_MODEL_049e605da12a48bb863870f2d6e9f9e6",
       "value": 5
      }
     },
     "cbb9bcfb0b6e4118aea2701f3e64da21": {
      "model_module": "@jupyter-widgets/base",
      "model_module_version": "2.0.0",
      "model_name": "LayoutModel",
      "state": {}
     },
     "cbf186765c3b42348253e162b44e3222": {
      "model_module": "@jupyter-widgets/controls",
      "model_module_version": "2.0.0",
      "model_name": "HBoxModel",
      "state": {
       "children": [
        "IPY_MODEL_9c4eaf1cfe20431db1bbfaa35ad97191",
        "IPY_MODEL_705cad91e0704287a97e77f0ceddf3d0",
        "IPY_MODEL_65166e52257b460190e5e812934d800d"
       ],
       "layout": "IPY_MODEL_8c78afbcef184d4686bd4ef651224a20"
      }
     },
     "cbf31656b97747559af7cb1616f1e28c": {
      "model_module": "@jupyter-widgets/controls",
      "model_module_version": "2.0.0",
      "model_name": "ProgressStyleModel",
      "state": {
       "description_width": ""
      }
     },
     "cbf67602604641938ef7f71560f20e77": {
      "model_module": "@jupyter-widgets/base",
      "model_module_version": "2.0.0",
      "model_name": "LayoutModel",
      "state": {}
     },
     "cc0298eacfb8454c8b480e2cbb4fec94": {
      "model_module": "@jupyter-widgets/base",
      "model_module_version": "2.0.0",
      "model_name": "LayoutModel",
      "state": {}
     },
     "cc0554796feb4833bc231f54dc54890e": {
      "model_module": "@jupyter-widgets/base",
      "model_module_version": "2.0.0",
      "model_name": "LayoutModel",
      "state": {}
     },
     "cc49ce1b82004cc3a0a23b1f26db50c0": {
      "model_module": "@jupyter-widgets/controls",
      "model_module_version": "2.0.0",
      "model_name": "FloatProgressModel",
      "state": {
       "layout": "IPY_MODEL_231641cd16904e5e873deeace16d9304",
       "max": 1,
       "style": "IPY_MODEL_e831e1ea5796439a8baf079c6e4095a8",
       "value": 1
      }
     },
     "cc7d7f84a55a45a1811b908da91d1583": {
      "model_module": "@jupyter-widgets/base",
      "model_module_version": "2.0.0",
      "model_name": "LayoutModel",
      "state": {}
     },
     "cc8db08f50034753a0db27e19720f5f8": {
      "model_module": "@jupyter-widgets/base",
      "model_module_version": "2.0.0",
      "model_name": "LayoutModel",
      "state": {}
     },
     "cca894e4c0064e05aa6070f2e34b3ebf": {
      "model_module": "@jupyter-widgets/controls",
      "model_module_version": "2.0.0",
      "model_name": "HTMLStyleModel",
      "state": {
       "description_width": "",
       "font_size": null,
       "text_color": null
      }
     },
     "ccd0b8983c914678a63b80f1120064d8": {
      "model_module": "@jupyter-widgets/base",
      "model_module_version": "2.0.0",
      "model_name": "LayoutModel",
      "state": {
       "visibility": "hidden"
      }
     },
     "ccd6dd06ab6941f59a43b3a55f5f291f": {
      "model_module": "@jupyter-widgets/base",
      "model_module_version": "2.0.0",
      "model_name": "LayoutModel",
      "state": {}
     },
     "cd14b6b2f8d447b2b01bf875b7fcbd0f": {
      "model_module": "@jupyter-widgets/base",
      "model_module_version": "2.0.0",
      "model_name": "LayoutModel",
      "state": {}
     },
     "cd42e93040e1414ba7e16e885cef43f7": {
      "model_module": "@jupyter-widgets/controls",
      "model_module_version": "2.0.0",
      "model_name": "FloatProgressModel",
      "state": {
       "layout": "IPY_MODEL_e4db22c20345453fa4dd0cc2f1efea44",
       "max": 2,
       "style": "IPY_MODEL_db5f91e4c2f6419aad46a5738ceba536",
       "value": 2
      }
     },
     "cd57262fcd7041e49b711f1819d136a4": {
      "model_module": "@jupyter-widgets/controls",
      "model_module_version": "2.0.0",
      "model_name": "HTMLModel",
      "state": {
       "layout": "IPY_MODEL_a196c96edd754756ab62f9e462a5e12e",
       "style": "IPY_MODEL_2c443a0945e2472eb179b8468454e34c",
       "value": "Scanning for edges...:   0%"
      }
     },
     "cd7a4167172a4197a0f3f18ff47846d4": {
      "model_module": "@jupyter-widgets/base",
      "model_module_version": "2.0.0",
      "model_name": "LayoutModel",
      "state": {
       "visibility": "hidden"
      }
     },
     "cd84766502e84ad080b06278e810881b": {
      "model_module": "@jupyter-widgets/controls",
      "model_module_version": "2.0.0",
      "model_name": "HTMLModel",
      "state": {
       "layout": "IPY_MODEL_131ea0459ebe487e988bcfc3081c51b2",
       "style": "IPY_MODEL_09501733c73b47d1af0aeb3a1efbe298",
       "value": "Scanning for nodes...: 100%"
      }
     },
     "cda86968d71d4b7389e8493c1d1b2509": {
      "model_module": "@jupyter-widgets/base",
      "model_module_version": "2.0.0",
      "model_name": "LayoutModel",
      "state": {}
     },
     "cdb40ebb0abd4f36aed177d313d952fb": {
      "model_module": "@jupyter-widgets/controls",
      "model_module_version": "2.0.0",
      "model_name": "HTMLModel",
      "state": {
       "layout": "IPY_MODEL_b6fbbfbbe90b49a996363e72d5e37d25",
       "style": "IPY_MODEL_db1284bc24754201be17de9f781b4fa0",
       "value": " 2/2 [00:06&lt;00:00,  3.26s/it]"
      }
     },
     "cdd5cd5082d445e1816f1824ac0eaa35": {
      "model_module": "@jupyter-widgets/base",
      "model_module_version": "2.0.0",
      "model_name": "LayoutModel",
      "state": {}
     },
     "cdfabafafaf8425fb6b4999a6acd29d0": {
      "model_module": "@jupyter-widgets/controls",
      "model_module_version": "2.0.0",
      "model_name": "HTMLModel",
      "state": {
       "layout": "IPY_MODEL_8871796f281a49fd8d42240729a558c8",
       "style": "IPY_MODEL_d278b2ff62c84ef090046c2bbf0042db",
       "value": " 4/4 [00:31&lt;00:00,  8.03s/it]"
      }
     },
     "ce2cc28d3c81423db45565e524903fe9": {
      "model_module": "@jupyter-widgets/base",
      "model_module_version": "2.0.0",
      "model_name": "LayoutModel",
      "state": {}
     },
     "ce2cf3d15f8f4f25a62df1337b5ad29e": {
      "model_module": "@jupyter-widgets/controls",
      "model_module_version": "2.0.0",
      "model_name": "ProgressStyleModel",
      "state": {
       "description_width": ""
      }
     },
     "ce3774de5ca24dabb6cc12d2c0f1738f": {
      "model_module": "@jupyter-widgets/controls",
      "model_module_version": "2.0.0",
      "model_name": "HTMLModel",
      "state": {
       "layout": "IPY_MODEL_cf89e9743fd84570b54045ceb771c535",
       "style": "IPY_MODEL_95d0c97e734c47ccb951d162fddfeb35",
       "value": "hook.frame__tpch__partsupp: 100%"
      }
     },
     "ce3e0a0834c647a4b156ba3977560d51": {
      "model_module": "@jupyter-widgets/controls",
      "model_module_version": "2.0.0",
      "model_name": "FloatProgressModel",
      "state": {
       "layout": "IPY_MODEL_2d5e38bbb3e046aeba460c7c5d422bfe",
       "max": 1,
       "style": "IPY_MODEL_adb748b3a4bb42cc81f8d109a4e43f1f",
       "value": 1
      }
     },
     "ce658469505b4e93bca52d7dba3af35f": {
      "model_module": "@jupyter-widgets/controls",
      "model_module_version": "2.0.0",
      "model_name": "HTMLStyleModel",
      "state": {
       "description_width": "",
       "font_size": null,
       "text_color": null
      }
     },
     "ce6f52248c91432089be925682c426c6": {
      "model_module": "@jupyter-widgets/base",
      "model_module_version": "2.0.0",
      "model_name": "LayoutModel",
      "state": {}
     },
     "ceaafa1dd7b64be68c099595a00e602e": {
      "model_module": "@jupyter-widgets/base",
      "model_module_version": "2.0.0",
      "model_name": "LayoutModel",
      "state": {}
     },
     "ceb705bf79364ea09e067a5e842baf02": {
      "model_module": "@jupyter-widgets/controls",
      "model_module_version": "2.0.0",
      "model_name": "FloatProgressModel",
      "state": {
       "bar_style": "success",
       "layout": "IPY_MODEL_5bd2f342c8d24b358eb5fa0bf478b9bb",
       "max": 2,
       "style": "IPY_MODEL_447844f5b01e43a0b62115327d86441a",
       "value": 2
      }
     },
     "cecc66256ce14f5ba40843626fe2963c": {
      "model_module": "@jupyter-widgets/controls",
      "model_module_version": "2.0.0",
      "model_name": "ProgressStyleModel",
      "state": {
       "description_width": ""
      }
     },
     "cef87b98777e4a2ab6d06c3f4f524e15": {
      "model_module": "@jupyter-widgets/controls",
      "model_module_version": "2.0.0",
      "model_name": "HTMLStyleModel",
      "state": {
       "description_width": "",
       "font_size": null,
       "text_color": null
      }
     },
     "cf12c63bb905439c8d9ea9a5cdaedb59": {
      "model_module": "@jupyter-widgets/controls",
      "model_module_version": "2.0.0",
      "model_name": "HBoxModel",
      "state": {
       "children": [
        "IPY_MODEL_c75bc1c067c04f8a99449cd678110b09",
        "IPY_MODEL_f0523e32412d4b9d951775ff278475cd",
        "IPY_MODEL_ecc564fd5a444616adfaad5ba9b4ad36"
       ],
       "layout": "IPY_MODEL_c7600af2504c46fea962811c316f0bab"
      }
     },
     "cf1b9bcdddb9450691e6f4847aa7e4a6": {
      "model_module": "@jupyter-widgets/base",
      "model_module_version": "2.0.0",
      "model_name": "LayoutModel",
      "state": {}
     },
     "cf35f0c08b4447958ee8731c148d00d7": {
      "model_module": "@jupyter-widgets/controls",
      "model_module_version": "2.0.0",
      "model_name": "HTMLStyleModel",
      "state": {
       "description_width": "",
       "font_size": null,
       "text_color": null
      }
     },
     "cf89e9743fd84570b54045ceb771c535": {
      "model_module": "@jupyter-widgets/base",
      "model_module_version": "2.0.0",
      "model_name": "LayoutModel",
      "state": {}
     },
     "cf9b1ad58b6546a4ad78e934b8bedc66": {
      "model_module": "@jupyter-widgets/controls",
      "model_module_version": "2.0.0",
      "model_name": "HBoxModel",
      "state": {
       "children": [
        "IPY_MODEL_74607dba9cb440a680ff279368207967",
        "IPY_MODEL_e348874f2c5f4bca9f851c8f022b2e50",
        "IPY_MODEL_399e2f6b88de412986f84e1d48d4484f"
       ],
       "layout": "IPY_MODEL_f5dc49b141624d558955bfac6eb31e85"
      }
     },
     "cfbd7e1c67a74be881594f9e5604d57b": {
      "model_module": "@jupyter-widgets/controls",
      "model_module_version": "2.0.0",
      "model_name": "HTMLStyleModel",
      "state": {
       "description_width": "",
       "font_size": null,
       "text_color": null
      }
     },
     "cfc5700edd204016b41788f3bdbda980": {
      "model_module": "@jupyter-widgets/base",
      "model_module_version": "2.0.0",
      "model_name": "LayoutModel",
      "state": {}
     },
     "cfcdeac90d8543b9848ceb1a40e7cad4": {
      "model_module": "@jupyter-widgets/base",
      "model_module_version": "2.0.0",
      "model_name": "LayoutModel",
      "state": {}
     },
     "cfde71a6d6534c9cb5b611f010ec1588": {
      "model_module": "@jupyter-widgets/controls",
      "model_module_version": "2.0.0",
      "model_name": "HTMLModel",
      "state": {
       "layout": "IPY_MODEL_ba9d70f26eb34c4cbb89ca75b8b9f484",
       "style": "IPY_MODEL_6f9fceb8c25542f7b8fa9e50ffeca955",
       "value": "hook.frame__tpch__lineitem (nodes)...: 100%"
      }
     },
     "cffff0ac72254da5a1cd3a8cdd3a60a6": {
      "model_module": "@jupyter-widgets/base",
      "model_module_version": "2.0.0",
      "model_name": "LayoutModel",
      "state": {}
     },
     "d01de1e232f146e8995124e3be860ac4": {
      "model_module": "@jupyter-widgets/controls",
      "model_module_version": "2.0.0",
      "model_name": "ProgressStyleModel",
      "state": {
       "description_width": ""
      }
     },
     "d02fc06ac9f446c086832f430147a901": {
      "model_module": "@jupyter-widgets/base",
      "model_module_version": "2.0.0",
      "model_name": "LayoutModel",
      "state": {}
     },
     "d042f15d486241109d9fa030007c867c": {
      "model_module": "@jupyter-widgets/controls",
      "model_module_version": "2.0.0",
      "model_name": "ProgressStyleModel",
      "state": {
       "description_width": ""
      }
     },
     "d05e61ebbe634023aedc4ae232e2d74a": {
      "model_module": "@jupyter-widgets/base",
      "model_module_version": "2.0.0",
      "model_name": "LayoutModel",
      "state": {}
     },
     "d07aa29aa2a74b76b312c4497a1ffeeb": {
      "model_module": "@jupyter-widgets/base",
      "model_module_version": "2.0.0",
      "model_name": "LayoutModel",
      "state": {}
     },
     "d0874992398241f9a0d0f3aafb845cbd": {
      "model_module": "@jupyter-widgets/controls",
      "model_module_version": "2.0.0",
      "model_name": "ProgressStyleModel",
      "state": {
       "description_width": ""
      }
     },
     "d094257c07d3452288f73a0d2ce77718": {
      "model_module": "@jupyter-widgets/base",
      "model_module_version": "2.0.0",
      "model_name": "LayoutModel",
      "state": {}
     },
     "d0a15772870940ef8becb8810e06e817": {
      "model_module": "@jupyter-widgets/base",
      "model_module_version": "2.0.0",
      "model_name": "LayoutModel",
      "state": {
       "visibility": "hidden"
      }
     },
     "d0a5ad3dd6084f4cbbfd8641d415f83d": {
      "model_module": "@jupyter-widgets/base",
      "model_module_version": "2.0.0",
      "model_name": "LayoutModel",
      "state": {}
     },
     "d0e4bbfb3633438c87014c5e7caca8b0": {
      "model_module": "@jupyter-widgets/base",
      "model_module_version": "2.0.0",
      "model_name": "LayoutModel",
      "state": {}
     },
     "d0feedd694a040028f1af67a63083772": {
      "model_module": "@jupyter-widgets/controls",
      "model_module_version": "2.0.0",
      "model_name": "HTMLModel",
      "state": {
       "layout": "IPY_MODEL_4577778c5f4645928c877ab7025dc078",
       "style": "IPY_MODEL_2956c5e2a79b458986d28428bfb6c247",
       "value": " 0/1 [00:00&lt;?, ?it/s]"
      }
     },
     "d10252669b6b41edaaadff53c090be54": {
      "model_module": "@jupyter-widgets/controls",
      "model_module_version": "2.0.0",
      "model_name": "HBoxModel",
      "state": {
       "children": [
        "IPY_MODEL_9b3a0dd9ce8e4650af030afc85de043f",
        "IPY_MODEL_476e896db105497b8a88fba89c8751fa",
        "IPY_MODEL_c2af343c4bc847c6a93c3e18b9801a7b"
       ],
       "layout": "IPY_MODEL_d2870706555549be9c08cdc9b1072bfe"
      }
     },
     "d114783643b9436b9e9aa78c379f2b46": {
      "model_module": "@jupyter-widgets/base",
      "model_module_version": "2.0.0",
      "model_name": "LayoutModel",
      "state": {}
     },
     "d12bbc7f277f4796b5f67831a194e78a": {
      "model_module": "@jupyter-widgets/base",
      "model_module_version": "2.0.0",
      "model_name": "LayoutModel",
      "state": {
       "visibility": "hidden"
      }
     },
     "d12ee008abc7432cb40cbf1f0f4c0c13": {
      "model_module": "@jupyter-widgets/base",
      "model_module_version": "2.0.0",
      "model_name": "LayoutModel",
      "state": {}
     },
     "d150c4fb6b1c4aecaefb902e89e188de": {
      "model_module": "@jupyter-widgets/controls",
      "model_module_version": "2.0.0",
      "model_name": "HTMLStyleModel",
      "state": {
       "description_width": "",
       "font_size": null,
       "text_color": null
      }
     },
     "d1532bfe6e614ffd9579a1891cb203c2": {
      "model_module": "@jupyter-widgets/controls",
      "model_module_version": "2.0.0",
      "model_name": "ProgressStyleModel",
      "state": {
       "description_width": ""
      }
     },
     "d17a965994d54253aec9834e7901909f": {
      "model_module": "@jupyter-widgets/controls",
      "model_module_version": "2.0.0",
      "model_name": "HTMLStyleModel",
      "state": {
       "description_width": "",
       "font_size": null,
       "text_color": null
      }
     },
     "d184bd592a0b4a3cbccce3b5f0220639": {
      "model_module": "@jupyter-widgets/base",
      "model_module_version": "2.0.0",
      "model_name": "LayoutModel",
      "state": {}
     },
     "d1a85e890e8c40a3ab45b68ea5b35cca": {
      "model_module": "@jupyter-widgets/base",
      "model_module_version": "2.0.0",
      "model_name": "LayoutModel",
      "state": {}
     },
     "d1ad4095483f460084ffe9d28044219e": {
      "model_module": "@jupyter-widgets/base",
      "model_module_version": "2.0.0",
      "model_name": "LayoutModel",
      "state": {
       "display": "inline-flex",
       "flex_flow": "row wrap",
       "width": "100%"
      }
     },
     "d1f6f6d1d3434a7cb9f1b7769e402d09": {
      "model_module": "@jupyter-widgets/base",
      "model_module_version": "2.0.0",
      "model_name": "LayoutModel",
      "state": {}
     },
     "d2495443ac9e43c282b68fcc500eb48e": {
      "model_module": "@jupyter-widgets/controls",
      "model_module_version": "2.0.0",
      "model_name": "HTMLStyleModel",
      "state": {
       "description_width": "",
       "font_size": null,
       "text_color": null
      }
     },
     "d24f4aa5135546858506d876b372f41a": {
      "model_module": "@jupyter-widgets/base",
      "model_module_version": "2.0.0",
      "model_name": "LayoutModel",
      "state": {}
     },
     "d257756fa7834e149bfcae4279373f77": {
      "model_module": "@jupyter-widgets/base",
      "model_module_version": "2.0.0",
      "model_name": "LayoutModel",
      "state": {}
     },
     "d266a3d2c8ca4c6abf35bec6db374e0a": {
      "model_module": "@jupyter-widgets/base",
      "model_module_version": "2.0.0",
      "model_name": "LayoutModel",
      "state": {
       "visibility": "hidden"
      }
     },
     "d278b2ff62c84ef090046c2bbf0042db": {
      "model_module": "@jupyter-widgets/controls",
      "model_module_version": "2.0.0",
      "model_name": "HTMLStyleModel",
      "state": {
       "description_width": "",
       "font_size": null,
       "text_color": null
      }
     },
     "d27dce899de9418b8718bce36deb3236": {
      "model_module": "@jupyter-widgets/base",
      "model_module_version": "2.0.0",
      "model_name": "LayoutModel",
      "state": {}
     },
     "d2870706555549be9c08cdc9b1072bfe": {
      "model_module": "@jupyter-widgets/base",
      "model_module_version": "2.0.0",
      "model_name": "LayoutModel",
      "state": {}
     },
     "d2ac2055d9fd4fa688344da91d23e6d3": {
      "model_module": "@jupyter-widgets/controls",
      "model_module_version": "2.0.0",
      "model_name": "HTMLStyleModel",
      "state": {
       "description_width": "",
       "font_size": null,
       "text_color": null
      }
     },
     "d2b5bf29d71f4d8498721b5e26329efd": {
      "model_module": "@jupyter-widgets/controls",
      "model_module_version": "2.0.0",
      "model_name": "HTMLModel",
      "state": {
       "layout": "IPY_MODEL_7b31a6ed397a4fae94f017bd1d1868f2",
       "style": "IPY_MODEL_6096f042a5374553947a9845c70bbc33",
       "value": " 8/8 [00:48&lt;00:00,  5.31s/it]"
      }
     },
     "d2d3181fba3145848ec50455e00caf80": {
      "model_module": "@jupyter-widgets/controls",
      "model_module_version": "2.0.0",
      "model_name": "HTMLStyleModel",
      "state": {
       "description_width": "",
       "font_size": null,
       "text_color": null
      }
     },
     "d2f55b2e9d6a4f58853a1d8f5631ef1c": {
      "model_module": "@jupyter-widgets/base",
      "model_module_version": "2.0.0",
      "model_name": "LayoutModel",
      "state": {}
     },
     "d30df91d487b4ed6a40817c4d90fbd45": {
      "model_module": "@jupyter-widgets/controls",
      "model_module_version": "2.0.0",
      "model_name": "HTMLStyleModel",
      "state": {
       "description_width": "",
       "font_size": null,
       "text_color": null
      }
     },
     "d3291997455f441a815d45523e90c95c": {
      "model_module": "@jupyter-widgets/controls",
      "model_module_version": "2.0.0",
      "model_name": "HBoxModel",
      "state": {
       "children": [
        "IPY_MODEL_cfde71a6d6534c9cb5b611f010ec1588",
        "IPY_MODEL_a7fa1cd30f9d47ef8fcbd9a15f3d1a03",
        "IPY_MODEL_ed593ad47cf541358b32c29fd2facb1a"
       ],
       "layout": "IPY_MODEL_3177add784874b4e9ec12842e7f87a9f"
      }
     },
     "d3391be9528c452e9de49abc41d109b3": {
      "model_module": "@jupyter-widgets/controls",
      "model_module_version": "2.0.0",
      "model_name": "HTMLStyleModel",
      "state": {
       "description_width": "",
       "font_size": null,
       "text_color": null
      }
     },
     "d39ccb105a63454eb59853ca611f507d": {
      "model_module": "@jupyter-widgets/controls",
      "model_module_version": "2.0.0",
      "model_name": "HTMLStyleModel",
      "state": {
       "description_width": "",
       "font_size": null,
       "text_color": null
      }
     },
     "d3c09fdcb6444fffa43244c3441e0daf": {
      "model_module": "@jupyter-widgets/controls",
      "model_module_version": "2.0.0",
      "model_name": "HBoxModel",
      "state": {
       "children": [
        "IPY_MODEL_da70b55b7937459d9042963ded339717",
        "IPY_MODEL_2c52a8a9bc2a45b3935334a677853d22",
        "IPY_MODEL_6b47b347c9e24d31a3bbd3c9a1e2dcb6"
       ],
       "layout": "IPY_MODEL_bd37fec7fe69486a9c0690860b99a518"
      }
     },
     "d3f7623617024339bd01222714cc1a6b": {
      "model_module": "@jupyter-widgets/controls",
      "model_module_version": "2.0.0",
      "model_name": "HTMLModel",
      "state": {
       "layout": "IPY_MODEL_550ee0cc5eee4271b3206389ae0d26ae",
       "style": "IPY_MODEL_9a12af52137d4d38aae244563e7829b0",
       "value": "hook.frame__tpch__lineitem: nodes...: 100%"
      }
     },
     "d4292823e6b14462806d5ef1b845a989": {
      "model_module": "@jupyter-widgets/controls",
      "model_module_version": "2.0.0",
      "model_name": "ProgressStyleModel",
      "state": {
       "description_width": ""
      }
     },
     "d44dd7319a9d4714946f8228ac2dda83": {
      "model_module": "@jupyter-widgets/controls",
      "model_module_version": "2.0.0",
      "model_name": "FloatProgressModel",
      "state": {
       "layout": "IPY_MODEL_6f32d006ec58452dbf450e2f533fc76a",
       "max": 1,
       "style": "IPY_MODEL_a6807633c4fb498fb415d94a58b69336",
       "value": 1
      }
     },
     "d4524132607b408ea279778d568248cb": {
      "model_module": "@jupyter-widgets/base",
      "model_module_version": "2.0.0",
      "model_name": "LayoutModel",
      "state": {}
     },
     "d457f6312fec4a21bc4b844782013faf": {
      "model_module": "@jupyter-widgets/controls",
      "model_module_version": "2.0.0",
      "model_name": "HTMLModel",
      "state": {
       "layout": "IPY_MODEL_49450b96b9384e2f9276c2c8a8520f37",
       "style": "IPY_MODEL_807b0a18e94f4ba69487798e0dbf8f76",
       "value": " 1/? [00:00&lt;00:00, 154.29it/s]"
      }
     },
     "d46804e811de4c15a6982195c7b35f24": {
      "model_module": "@jupyter-widgets/controls",
      "model_module_version": "2.0.0",
      "model_name": "HTMLModel",
      "state": {
       "layout": "IPY_MODEL_3030bb604401485faf66e44cb127cb0d",
       "style": "IPY_MODEL_a33d1eb9c95143498b0a7004f1660441",
       "value": "Scanning for edges...: 100%"
      }
     },
     "d48cfed5b2b940da94a57ed03a2669a5": {
      "model_module": "@jupyter-widgets/controls",
      "model_module_version": "2.0.0",
      "model_name": "FloatProgressModel",
      "state": {
       "layout": "IPY_MODEL_a4a37d089629463e99accf48acec5e84",
       "max": 1,
       "style": "IPY_MODEL_19b3d9b953124d3ba95b61bce8a1f669",
       "value": 1
      }
     },
     "d49b6ca334c84189a0704ad6b4ebb8be": {
      "model_module": "@jupyter-widgets/controls",
      "model_module_version": "2.0.0",
      "model_name": "HTMLModel",
      "state": {
       "layout": "IPY_MODEL_a7de163c37224cc98738e023aa12457b",
       "style": "IPY_MODEL_d3391be9528c452e9de49abc41d109b3",
       "value": "Scanning for nodes...: 100%"
      }
     },
     "d4a78c75f8064535b58bbb80b66cebb1": {
      "model_module": "@jupyter-widgets/base",
      "model_module_version": "2.0.0",
      "model_name": "LayoutModel",
      "state": {}
     },
     "d4b3fb5c450742cd92f19c8fde627374": {
      "model_module": "@jupyter-widgets/controls",
      "model_module_version": "2.0.0",
      "model_name": "HTMLStyleModel",
      "state": {
       "description_width": "",
       "font_size": null,
       "text_color": null
      }
     },
     "d4cb411d7b6b475a9d2652ac5b2a1b6d": {
      "model_module": "@jupyter-widgets/controls",
      "model_module_version": "2.0.0",
      "model_name": "ProgressStyleModel",
      "state": {
       "description_width": ""
      }
     },
     "d4fc1e8c6292405088fe292e810e4c8c": {
      "model_module": "@jupyter-widgets/base",
      "model_module_version": "2.0.0",
      "model_name": "LayoutModel",
      "state": {
       "visibility": "hidden"
      }
     },
     "d50ced1cffec4724b75eb316ea3ae08d": {
      "model_module": "@jupyter-widgets/controls",
      "model_module_version": "2.0.0",
      "model_name": "HTMLModel",
      "state": {
       "layout": "IPY_MODEL_61d9b51ca4074f10968fa07a45421365",
       "style": "IPY_MODEL_d30df91d487b4ed6a40817c4d90fbd45",
       "value": " 2/2 [00:06&lt;00:00,  3.24s/it]"
      }
     },
     "d5165ebe094d4b5bae3fc8f34560995a": {
      "model_module": "@jupyter-widgets/controls",
      "model_module_version": "2.0.0",
      "model_name": "HBoxModel",
      "state": {
       "children": [
        "IPY_MODEL_266d41982fee4705828019ccb29a7924",
        "IPY_MODEL_f790a1b82386455b9f28aa5d2c474f42",
        "IPY_MODEL_1f73f1ed426a4055928a9e369d3409fc"
       ],
       "layout": "IPY_MODEL_43c0b7d6b7e4468ebd08e0915fce619d"
      }
     },
     "d518055e683246ba96889fa41a5a93a3": {
      "model_module": "@jupyter-widgets/controls",
      "model_module_version": "2.0.0",
      "model_name": "HBoxModel",
      "state": {
       "children": [
        "IPY_MODEL_dcbab6ecafea4564bde5e89aa441ad86",
        "IPY_MODEL_dad855e2eaea4cbf8eb5a25f5442559f",
        "IPY_MODEL_824cd0076279428e996a458c63fc1102"
       ],
       "layout": "IPY_MODEL_e78754ad5ae0433e9121e2c8796293c2"
      }
     },
     "d51b270a6c8e48d0ab86d4da8ce85078": {
      "model_module": "@jupyter-widgets/controls",
      "model_module_version": "2.0.0",
      "model_name": "HTMLStyleModel",
      "state": {
       "description_width": "",
       "font_size": null,
       "text_color": null
      }
     },
     "d55680a9f3f244ce8ee5588438186577": {
      "model_module": "@jupyter-widgets/controls",
      "model_module_version": "2.0.0",
      "model_name": "HTMLStyleModel",
      "state": {
       "description_width": "",
       "font_size": null,
       "text_color": null
      }
     },
     "d55e5b29683049f5b1e0e3b247acfe4c": {
      "model_module": "@jupyter-widgets/controls",
      "model_module_version": "2.0.0",
      "model_name": "ProgressStyleModel",
      "state": {
       "description_width": ""
      }
     },
     "d5830dfa441f4b0e98508f98296115c6": {
      "model_module": "@jupyter-widgets/controls",
      "model_module_version": "2.0.0",
      "model_name": "HTMLModel",
      "state": {
       "layout": "IPY_MODEL_a410cbf183a64d0abd29fb1cefc65ea4",
       "style": "IPY_MODEL_be8fb66d76a847ab9bd7df375e4ed7bb",
       "value": "hook.frame__tpch__partsupp (nodes)...: 100%"
      }
     },
     "d5b8f84cd0f74fd6ad19e26970d68f1f": {
      "model_module": "@jupyter-widgets/controls",
      "model_module_version": "2.0.0",
      "model_name": "HTMLModel",
      "state": {
       "layout": "IPY_MODEL_a04ff99a15984877ac332def8dc4b2ee",
       "style": "IPY_MODEL_7af9cb97f03a40fc946b22988b705dd5",
       "value": "Scanning for edges...:   0%"
      }
     },
     "d5bd7d9b143040a099188867fab0c87c": {
      "model_module": "@jupyter-widgets/controls",
      "model_module_version": "2.0.0",
      "model_name": "HBoxModel",
      "state": {
       "children": [
        "IPY_MODEL_2af9e94df58847558c2af0af5847cd25",
        "IPY_MODEL_79c47aaae9d44a93bd9d1459b6d27d7e",
        "IPY_MODEL_02e3079f67ce477c8cde119ec5720a01"
       ],
       "layout": "IPY_MODEL_c2b0017c0cd84b2982dcb99aa236b331"
      }
     },
     "d5e9744e3fd447a8b03c0d5a7673baaf": {
      "model_module": "@jupyter-widgets/controls",
      "model_module_version": "2.0.0",
      "model_name": "HTMLModel",
      "state": {
       "layout": "IPY_MODEL_1be5e64c996845deaa427e596cd0e0d8",
       "style": "IPY_MODEL_350ed54ddc774955936b04ec594b65bb",
       "value": " 3/3 [00:04&lt;00:00,  1.56s/it]"
      }
     },
     "d619d38b00c642d5b9b85c6a3b062de8": {
      "model_module": "@jupyter-widgets/base",
      "model_module_version": "2.0.0",
      "model_name": "LayoutModel",
      "state": {}
     },
     "d639619679a84a939685568e476fee07": {
      "model_module": "@jupyter-widgets/controls",
      "model_module_version": "2.0.0",
      "model_name": "HTMLStyleModel",
      "state": {
       "description_width": "",
       "font_size": null,
       "text_color": null
      }
     },
     "d6427b91bde34f93ab06b092b7bcde50": {
      "model_module": "@jupyter-widgets/controls",
      "model_module_version": "2.0.0",
      "model_name": "HTMLModel",
      "state": {
       "layout": "IPY_MODEL_47b5dd57bd5d4479a555cc6f2927ac8a",
       "style": "IPY_MODEL_7102bd96e2834aeeaccb14e5facd86a7",
       "value": "Scanning frames: 100%"
      }
     },
     "d64d933c5deb42efa053ac8aedb760fd": {
      "model_module": "@jupyter-widgets/controls",
      "model_module_version": "2.0.0",
      "model_name": "FloatProgressModel",
      "state": {
       "layout": "IPY_MODEL_ed36dd1aef3e47f0bc7a85ba6c0ee732",
       "max": 2,
       "style": "IPY_MODEL_33a677bbd6e54f7a91287bd780c0c056",
       "value": 2
      }
     },
     "d654e60f745140619388d429f860d5b0": {
      "model_module": "@jupyter-widgets/controls",
      "model_module_version": "2.0.0",
      "model_name": "HTMLStyleModel",
      "state": {
       "description_width": "",
       "font_size": null,
       "text_color": null
      }
     },
     "d65b7d8d47e342a093d97fb604076ebe": {
      "model_module": "@jupyter-widgets/controls",
      "model_module_version": "2.0.0",
      "model_name": "HTMLModel",
      "state": {
       "layout": "IPY_MODEL_2277f025423e487dbfa9a6452ab807e2",
       "style": "IPY_MODEL_10e29229d787447a90f5f879db26eb3d",
       "value": " 0/1 [00:00&lt;?, ?it/s]"
      }
     },
     "d6ff4268fafa4e00baf9c2519143c66d": {
      "model_module": "@jupyter-widgets/controls",
      "model_module_version": "2.0.0",
      "model_name": "HTMLModel",
      "state": {
       "layout": "IPY_MODEL_c39b30c5c0dc481c8af8f57f78496de0",
       "style": "IPY_MODEL_a0cfeedad3e84aa78379868e6dae1ca8",
       "value": " 1/2 [00:01&lt;00:01,  1.02s/it]"
      }
     },
     "d7115ffa123249c3aa9e1b972ae46228": {
      "model_module": "@jupyter-widgets/controls",
      "model_module_version": "2.0.0",
      "model_name": "FloatProgressModel",
      "state": {
       "bar_style": "success",
       "layout": "IPY_MODEL_ef6eee812b704922a4e3b776fa9ef85b",
       "max": 3,
       "style": "IPY_MODEL_f03876bbd6d646f397b3e343f320bfec",
       "value": 3
      }
     },
     "d727c69064a04120aea190105b545b3e": {
      "model_module": "@jupyter-widgets/controls",
      "model_module_version": "2.0.0",
      "model_name": "HTMLModel",
      "state": {
       "layout": "IPY_MODEL_745311f7f657492e8b1660a9f6c46a24",
       "style": "IPY_MODEL_386e75923bad4aedb8434e7689da0b28",
       "value": " 2/2 [00:01&lt;00:00,  1.78it/s]"
      }
     },
     "d73be6d1ec2944faba6f7e79ce7438d6": {
      "model_module": "@jupyter-widgets/base",
      "model_module_version": "2.0.0",
      "model_name": "LayoutModel",
      "state": {
       "display": "inline-flex",
       "flex_flow": "row wrap",
       "width": "100%"
      }
     },
     "d76fcbffe4534112a6edffe3f53c3dea": {
      "model_module": "@jupyter-widgets/controls",
      "model_module_version": "2.0.0",
      "model_name": "ProgressStyleModel",
      "state": {
       "description_width": ""
      }
     },
     "d7b2ce0f5ccf4bfe92dc9756e6d5af7b": {
      "model_module": "@jupyter-widgets/base",
      "model_module_version": "2.0.0",
      "model_name": "LayoutModel",
      "state": {}
     },
     "d7c7b6dc60694a85964569db125d7f87": {
      "model_module": "@jupyter-widgets/controls",
      "model_module_version": "2.0.0",
      "model_name": "FloatProgressModel",
      "state": {
       "bar_style": "success",
       "layout": "IPY_MODEL_ca982be8e6604b05b24c98e3910fe852",
       "max": 3,
       "style": "IPY_MODEL_26c9d8d7ffa44556b4374a0e331da1fe",
       "value": 3
      }
     },
     "d81d184576224be7a32285f47bbd73a1": {
      "model_module": "@jupyter-widgets/base",
      "model_module_version": "2.0.0",
      "model_name": "LayoutModel",
      "state": {}
     },
     "d84424edda6c4c7a8d621162c5f9e945": {
      "model_module": "@jupyter-widgets/controls",
      "model_module_version": "2.0.0",
      "model_name": "HTMLModel",
      "state": {
       "layout": "IPY_MODEL_80694758c65348aba35509fbc45ac3f8",
       "style": "IPY_MODEL_a50061d446874d0095a357ff3c15a1e5",
       "value": " 2/2 [00:01&lt;00:00,  1.65it/s]"
      }
     },
     "d85a22e96b034f0896226acdcb6fb6c2": {
      "model_module": "@jupyter-widgets/controls",
      "model_module_version": "2.0.0",
      "model_name": "FloatProgressModel",
      "state": {
       "bar_style": "danger",
       "layout": "IPY_MODEL_f5d5de7a3114423faf2a295f56bec138",
       "max": 8,
       "style": "IPY_MODEL_56090583ba1e49d6922f9d81594f12ad",
       "value": 4
      }
     },
     "d87a3f7208e74a448361ff5a0f1d1792": {
      "model_module": "@jupyter-widgets/base",
      "model_module_version": "2.0.0",
      "model_name": "LayoutModel",
      "state": {}
     },
     "d88723c47145438b8c42454fadf796d9": {
      "model_module": "@jupyter-widgets/controls",
      "model_module_version": "2.0.0",
      "model_name": "HTMLStyleModel",
      "state": {
       "description_width": "",
       "font_size": null,
       "text_color": null
      }
     },
     "d89ba02b2b7248909598faee6e648500": {
      "model_module": "@jupyter-widgets/base",
      "model_module_version": "2.0.0",
      "model_name": "LayoutModel",
      "state": {}
     },
     "d8b545d8c11947c5909c40a1d31bfe75": {
      "model_module": "@jupyter-widgets/base",
      "model_module_version": "2.0.0",
      "model_name": "LayoutModel",
      "state": {}
     },
     "d8cba2dd0d674d47b919c819024575dc": {
      "model_module": "@jupyter-widgets/controls",
      "model_module_version": "2.0.0",
      "model_name": "ProgressStyleModel",
      "state": {
       "description_width": ""
      }
     },
     "d902f868a08e4a0cb3046ee5ecd75e65": {
      "model_module": "@jupyter-widgets/controls",
      "model_module_version": "2.0.0",
      "model_name": "FloatProgressModel",
      "state": {
       "bar_style": "success",
       "layout": "IPY_MODEL_b77b93afacad4d48abd0059059b0639f",
       "max": 2,
       "style": "IPY_MODEL_a3140dca76cf4878a56a00cd5b0d007f",
       "value": 2
      }
     },
     "d9564c12351a43629e58946216fefd9e": {
      "model_module": "@jupyter-widgets/base",
      "model_module_version": "2.0.0",
      "model_name": "LayoutModel",
      "state": {}
     },
     "d9634c3bdd254c688e5cf313f67b644e": {
      "model_module": "@jupyter-widgets/controls",
      "model_module_version": "2.0.0",
      "model_name": "HTMLModel",
      "state": {
       "layout": "IPY_MODEL_dcf1676ae29e4de39012ce2bc861bc0a",
       "style": "IPY_MODEL_08773c257a5e41b786b81c2d8438de6d",
       "value": "Scanning for nodes...: 100%"
      }
     },
     "d965e79314c2434bb3eb896ff347c39b": {
      "model_module": "@jupyter-widgets/base",
      "model_module_version": "2.0.0",
      "model_name": "LayoutModel",
      "state": {}
     },
     "d96aff6693a34ab98e463d4563858710": {
      "model_module": "@jupyter-widgets/controls",
      "model_module_version": "2.0.0",
      "model_name": "FloatProgressModel",
      "state": {
       "bar_style": "success",
       "layout": "IPY_MODEL_7dd3cd51e0074d55bfd4e73bdaac33a6",
       "max": 1,
       "style": "IPY_MODEL_bbcbb27bf33f4fcb9f5f7620ac3b115c",
       "value": 1
      }
     },
     "d96d90ee948a4c1ca85a1455d2d12878": {
      "model_module": "@jupyter-widgets/base",
      "model_module_version": "2.0.0",
      "model_name": "LayoutModel",
      "state": {}
     },
     "d970f715953841a4831d785ed582ddca": {
      "model_module": "@jupyter-widgets/controls",
      "model_module_version": "2.0.0",
      "model_name": "HBoxModel",
      "state": {
       "children": [
        "IPY_MODEL_876b3072f81f45ac924f91e4bac11fc3",
        "IPY_MODEL_69f964a467f141feadcdc8da3b530d08",
        "IPY_MODEL_c9a7a25ad82b43ddaa0931ac81c483c2"
       ],
       "layout": "IPY_MODEL_d0a15772870940ef8becb8810e06e817"
      }
     },
     "d99dc961c78c4ec48d15fad8f9ea300b": {
      "model_module": "@jupyter-widgets/base",
      "model_module_version": "2.0.0",
      "model_name": "LayoutModel",
      "state": {}
     },
     "d9aca17ba463475a942c03387156cb8a": {
      "model_module": "@jupyter-widgets/base",
      "model_module_version": "2.0.0",
      "model_name": "LayoutModel",
      "state": {}
     },
     "d9eab363e6cb4be88d3bc497accd5749": {
      "model_module": "@jupyter-widgets/controls",
      "model_module_version": "2.0.0",
      "model_name": "HTMLStyleModel",
      "state": {
       "description_width": "",
       "font_size": null,
       "text_color": null
      }
     },
     "da70b55b7937459d9042963ded339717": {
      "model_module": "@jupyter-widgets/controls",
      "model_module_version": "2.0.0",
      "model_name": "HTMLModel",
      "state": {
       "layout": "IPY_MODEL_fb91f72d2ef245f2933f68e3584030e9",
       "style": "IPY_MODEL_1480c6aa6d364ee6ad892562e06f50bf",
       "value": "Scanning for nodes...: 100%"
      }
     },
     "da93225334a3486a9f3f8d2cb2aed634": {
      "model_module": "@jupyter-widgets/controls",
      "model_module_version": "2.0.0",
      "model_name": "HBoxModel",
      "state": {
       "children": [
        "IPY_MODEL_fae11f4206864d2abb221b01035683e6",
        "IPY_MODEL_94b22c4bd19b4ac58f5618c20d43ef0c",
        "IPY_MODEL_a3b4658ff5d3468c9dc6883af1a17ccf"
       ],
       "layout": "IPY_MODEL_f19eb4188697409babadd6597ed171aa"
      }
     },
     "dab7a70c68d748ab9e40eeeb62829dbc": {
      "model_module": "@jupyter-widgets/base",
      "model_module_version": "2.0.0",
      "model_name": "LayoutModel",
      "state": {}
     },
     "dad855e2eaea4cbf8eb5a25f5442559f": {
      "model_module": "@jupyter-widgets/controls",
      "model_module_version": "2.0.0",
      "model_name": "FloatProgressModel",
      "state": {
       "layout": "IPY_MODEL_61d6d4bc0f3d463c97646dbffa227bf1",
       "max": 1,
       "style": "IPY_MODEL_56a45f5a6c0545aeaa20a806728bc41d",
       "value": 1
      }
     },
     "dae150d41f994d26952cd8910f4ac727": {
      "model_module": "@jupyter-widgets/controls",
      "model_module_version": "2.0.0",
      "model_name": "FloatProgressModel",
      "state": {
       "bar_style": "success",
       "layout": "IPY_MODEL_43716b8d733d488d81af8a5e1cef9443",
       "max": 8,
       "style": "IPY_MODEL_00837fc2188642dfa9116f5f24c9e3ce",
       "value": 8
      }
     },
     "db1284bc24754201be17de9f781b4fa0": {
      "model_module": "@jupyter-widgets/controls",
      "model_module_version": "2.0.0",
      "model_name": "HTMLStyleModel",
      "state": {
       "description_width": "",
       "font_size": null,
       "text_color": null
      }
     },
     "db2c353afbf24af2a7c1a020472ae9ad": {
      "model_module": "@jupyter-widgets/controls",
      "model_module_version": "2.0.0",
      "model_name": "HTMLStyleModel",
      "state": {
       "description_width": "",
       "font_size": null,
       "text_color": null
      }
     },
     "db37ffcfc09847f9a6082e01a53b8b61": {
      "model_module": "@jupyter-widgets/base",
      "model_module_version": "2.0.0",
      "model_name": "LayoutModel",
      "state": {}
     },
     "db3d5731c90544578a4d2fc0d0369266": {
      "model_module": "@jupyter-widgets/controls",
      "model_module_version": "2.0.0",
      "model_name": "HTMLStyleModel",
      "state": {
       "description_width": "",
       "font_size": null,
       "text_color": null
      }
     },
     "db4550dbf2264eeda9222eeaaca2275d": {
      "model_module": "@jupyter-widgets/controls",
      "model_module_version": "2.0.0",
      "model_name": "HTMLModel",
      "state": {
       "layout": "IPY_MODEL_b041b5f4e919489487d32dcf8d46b365",
       "style": "IPY_MODEL_390ecaa6e4364c6087095c1055fe533d",
       "value": " 1/2 [00:06&lt;00:06,  6.56s/it]"
      }
     },
     "db57b92335924058ab497584bf62674f": {
      "model_module": "@jupyter-widgets/base",
      "model_module_version": "2.0.0",
      "model_name": "LayoutModel",
      "state": {}
     },
     "db5f91e4c2f6419aad46a5738ceba536": {
      "model_module": "@jupyter-widgets/controls",
      "model_module_version": "2.0.0",
      "model_name": "ProgressStyleModel",
      "state": {
       "description_width": ""
      }
     },
     "db68f39b2dd44dbebcd80099b9e2ef86": {
      "model_module": "@jupyter-widgets/controls",
      "model_module_version": "2.0.0",
      "model_name": "FloatProgressModel",
      "state": {
       "layout": "IPY_MODEL_0691e4fb57cc45259da4be98000f0ead",
       "max": 2,
       "style": "IPY_MODEL_80bfec5a776a4e7b80318815ced3bcd0",
       "value": 2
      }
     },
     "db86bebddbb546ca9c7c6a1695b91a52": {
      "model_module": "@jupyter-widgets/controls",
      "model_module_version": "2.0.0",
      "model_name": "HTMLStyleModel",
      "state": {
       "description_width": "",
       "font_size": null,
       "text_color": null
      }
     },
     "dbd1b9c501be450d9f5f8b188a380a1b": {
      "model_module": "@jupyter-widgets/base",
      "model_module_version": "2.0.0",
      "model_name": "LayoutModel",
      "state": {}
     },
     "dbd2964c89e3453eb1d4ebba3c6ef5d1": {
      "model_module": "@jupyter-widgets/base",
      "model_module_version": "2.0.0",
      "model_name": "LayoutModel",
      "state": {}
     },
     "dc0f31f491e54eb18d6556a5ef472c49": {
      "model_module": "@jupyter-widgets/controls",
      "model_module_version": "2.0.0",
      "model_name": "HTMLStyleModel",
      "state": {
       "description_width": "",
       "font_size": null,
       "text_color": null
      }
     },
     "dc31c62692094bb39b14a856f9d7f771": {
      "model_module": "@jupyter-widgets/controls",
      "model_module_version": "2.0.0",
      "model_name": "HTMLModel",
      "state": {
       "layout": "IPY_MODEL_0dad0bd5dc1946c2a865ff3a487e564d",
       "style": "IPY_MODEL_861f30b4be1a424694194f920af6442d",
       "value": "Scanning for edges...:   0%"
      }
     },
     "dc580354095847d2b8f4d41af658a58a": {
      "model_module": "@jupyter-widgets/base",
      "model_module_version": "2.0.0",
      "model_name": "LayoutModel",
      "state": {}
     },
     "dc7a71a28ecb4958a83b6b88a4e7e614": {
      "model_module": "@jupyter-widgets/controls",
      "model_module_version": "2.0.0",
      "model_name": "HTMLModel",
      "state": {
       "layout": "IPY_MODEL_ad7d430f78a246b890a71076a3430e45",
       "style": "IPY_MODEL_d2495443ac9e43c282b68fcc500eb48e",
       "value": "Scanning for edges...:   0%"
      }
     },
     "dc808c9ed4dc4b4bb8389825de163586": {
      "model_module": "@jupyter-widgets/controls",
      "model_module_version": "2.0.0",
      "model_name": "ProgressStyleModel",
      "state": {
       "description_width": ""
      }
     },
     "dcae5c1c4feb4cb08651ee4219e40e40": {
      "model_module": "@jupyter-widgets/controls",
      "model_module_version": "2.0.0",
      "model_name": "ProgressStyleModel",
      "state": {
       "description_width": ""
      }
     },
     "dcbab6ecafea4564bde5e89aa441ad86": {
      "model_module": "@jupyter-widgets/controls",
      "model_module_version": "2.0.0",
      "model_name": "HTMLModel",
      "state": {
       "layout": "IPY_MODEL_15c5f761bf954a2dbe03d39f2e9c4cb7",
       "style": "IPY_MODEL_579160397e064d269262927460adb8f6",
       "value": "Scanning for edges...:   0%"
      }
     },
     "dcbc639ffdf54d94af74806a1ebc65ac": {
      "model_module": "@jupyter-widgets/base",
      "model_module_version": "2.0.0",
      "model_name": "LayoutModel",
      "state": {}
     },
     "dcd8dbfc1661444ca2df66fcd22be4de": {
      "model_module": "@jupyter-widgets/controls",
      "model_module_version": "2.0.0",
      "model_name": "HTMLStyleModel",
      "state": {
       "description_width": "",
       "font_size": null,
       "text_color": null
      }
     },
     "dcf1676ae29e4de39012ce2bc861bc0a": {
      "model_module": "@jupyter-widgets/base",
      "model_module_version": "2.0.0",
      "model_name": "LayoutModel",
      "state": {}
     },
     "dcff33af18544cc197c41fd54e1df8f1": {
      "model_module": "@jupyter-widgets/base",
      "model_module_version": "2.0.0",
      "model_name": "LayoutModel",
      "state": {}
     },
     "dd2830fe289b4c239afa9c412eaaa1ec": {
      "model_module": "@jupyter-widgets/controls",
      "model_module_version": "2.0.0",
      "model_name": "ProgressStyleModel",
      "state": {
       "description_width": ""
      }
     },
     "dd39cec3abc049c78fae338ac21aae10": {
      "model_module": "@jupyter-widgets/base",
      "model_module_version": "2.0.0",
      "model_name": "LayoutModel",
      "state": {}
     },
     "dd3ab9d2427c4b019f378ee82fc38f21": {
      "model_module": "@jupyter-widgets/base",
      "model_module_version": "2.0.0",
      "model_name": "LayoutModel",
      "state": {
       "visibility": "hidden"
      }
     },
     "dd428a32c58d45a2afb583f0e63cee50": {
      "model_module": "@jupyter-widgets/controls",
      "model_module_version": "2.0.0",
      "model_name": "HTMLModel",
      "state": {
       "layout": "IPY_MODEL_b1f52becd7384d469cdd3b163203469a",
       "style": "IPY_MODEL_4685ee2a5ace453090ef6032ea7c1dda",
       "value": " 3/3 [00:00&lt;00:00, 646.14it/s]"
      }
     },
     "dd444bee9d244ea09dfd612cd31cd626": {
      "model_module": "@jupyter-widgets/controls",
      "model_module_version": "2.0.0",
      "model_name": "HBoxModel",
      "state": {
       "children": [
        "IPY_MODEL_f6dbb6b0012b4d68b04a5d733508ecdf",
        "IPY_MODEL_251ad6f82638416c8545fd9daa505851",
        "IPY_MODEL_d65b7d8d47e342a093d97fb604076ebe"
       ],
       "layout": "IPY_MODEL_1d0c3ab033ec40b09f92a964c3d5ff6c"
      }
     },
     "dd45c28089f84702a083dfe62373b899": {
      "model_module": "@jupyter-widgets/controls",
      "model_module_version": "2.0.0",
      "model_name": "HTMLModel",
      "state": {
       "layout": "IPY_MODEL_839487f2a233472283e4d8c8fb4d3547",
       "style": "IPY_MODEL_5bf814ec72de417c9bdfc651ecd41c79",
       "value": " 2/2 [00:06&lt;00:00,  3.19s/it]"
      }
     },
     "ddaf693174b5424eaa0aba5a4ab79182": {
      "model_module": "@jupyter-widgets/controls",
      "model_module_version": "2.0.0",
      "model_name": "ProgressStyleModel",
      "state": {
       "description_width": ""
      }
     },
     "dde217353dde47f0a76f1aa20af35924": {
      "model_module": "@jupyter-widgets/base",
      "model_module_version": "2.0.0",
      "model_name": "LayoutModel",
      "state": {}
     },
     "ddfc2c761d3d477da5ed4f17a02194fa": {
      "model_module": "@jupyter-widgets/controls",
      "model_module_version": "2.0.0",
      "model_name": "HTMLStyleModel",
      "state": {
       "description_width": "",
       "font_size": null,
       "text_color": null
      }
     },
     "de167d8d962d4404a06728e9b8c89d32": {
      "model_module": "@jupyter-widgets/controls",
      "model_module_version": "2.0.0",
      "model_name": "HTMLStyleModel",
      "state": {
       "description_width": "",
       "font_size": null,
       "text_color": null
      }
     },
     "de19f52dbd214459b009726149b767ac": {
      "model_module": "@jupyter-widgets/controls",
      "model_module_version": "2.0.0",
      "model_name": "HTMLModel",
      "state": {
       "layout": "IPY_MODEL_7a5b8edad171422080b5a3bb5d140432",
       "style": "IPY_MODEL_b6b8c1d32a034cd1805d446fa6133d74",
       "value": "hook.frame__tpch__orders: 100%"
      }
     },
     "de1c71788e7e4150aef40b06ff730d89": {
      "model_module": "@jupyter-widgets/base",
      "model_module_version": "2.0.0",
      "model_name": "LayoutModel",
      "state": {}
     },
     "de2ec648470f40c38309e97559834161": {
      "model_module": "@jupyter-widgets/controls",
      "model_module_version": "2.0.0",
      "model_name": "HTMLStyleModel",
      "state": {
       "description_width": "",
       "font_size": null,
       "text_color": null
      }
     },
     "de4ea1daf0a6441aab94108921db509c": {
      "model_module": "@jupyter-widgets/base",
      "model_module_version": "2.0.0",
      "model_name": "LayoutModel",
      "state": {
       "visibility": "hidden"
      }
     },
     "de55001ae74a4c558469fab4b2a40823": {
      "model_module": "@jupyter-widgets/base",
      "model_module_version": "2.0.0",
      "model_name": "LayoutModel",
      "state": {}
     },
     "de778b19094b45c19a51a824c169f7e7": {
      "model_module": "@jupyter-widgets/base",
      "model_module_version": "2.0.0",
      "model_name": "LayoutModel",
      "state": {
       "visibility": "hidden"
      }
     },
     "de7a239e90e7410387da563ac10bde23": {
      "model_module": "@jupyter-widgets/controls",
      "model_module_version": "2.0.0",
      "model_name": "HBoxModel",
      "state": {
       "children": [
        "IPY_MODEL_c0f31a0407954509add32932997d8df1",
        "IPY_MODEL_18489443bb31474fb66a4c56f3d1765c",
        "IPY_MODEL_b166e9ff0ba84d9589d81a4f357b0571"
       ],
       "layout": "IPY_MODEL_159e0c842c90437bbd3622cc0461f3b9"
      }
     },
     "de80c545bde64086a4dd9f6d906743f3": {
      "model_module": "@jupyter-widgets/base",
      "model_module_version": "2.0.0",
      "model_name": "LayoutModel",
      "state": {}
     },
     "de8b3ee4aef247aa9b96a18aa2672090": {
      "model_module": "@jupyter-widgets/controls",
      "model_module_version": "2.0.0",
      "model_name": "HTMLModel",
      "state": {
       "layout": "IPY_MODEL_6880e48ee032473381c40dd4862270fe",
       "style": "IPY_MODEL_cf35f0c08b4447958ee8731c148d00d7",
       "value": " 0/1 [00:00&lt;?, ?it/s]"
      }
     },
     "de9fc7e389754581891a801d2afda8c8": {
      "model_module": "@jupyter-widgets/controls",
      "model_module_version": "2.0.0",
      "model_name": "HTMLModel",
      "state": {
       "layout": "IPY_MODEL_d87a3f7208e74a448361ff5a0f1d1792",
       "style": "IPY_MODEL_5f227e5925d8410aaee25b6f065e67bc",
       "value": "Scanning frames: 100%"
      }
     },
     "def1cc26db114fc1b1dd0ecfd952f6da": {
      "model_module": "@jupyter-widgets/base",
      "model_module_version": "2.0.0",
      "model_name": "LayoutModel",
      "state": {}
     },
     "df01aed1faba423e947765c70dc34559": {
      "model_module": "@jupyter-widgets/base",
      "model_module_version": "2.0.0",
      "model_name": "LayoutModel",
      "state": {
       "visibility": "hidden"
      }
     },
     "df0ea418977f4fcf9f38d1b0218b47d3": {
      "model_module": "@jupyter-widgets/base",
      "model_module_version": "2.0.0",
      "model_name": "LayoutModel",
      "state": {}
     },
     "df2896cb0d8142a4bb93fe42e395ae72": {
      "model_module": "@jupyter-widgets/controls",
      "model_module_version": "2.0.0",
      "model_name": "ProgressStyleModel",
      "state": {
       "description_width": ""
      }
     },
     "df2b334fb482467fbe001112c2e6ccfc": {
      "model_module": "@jupyter-widgets/base",
      "model_module_version": "2.0.0",
      "model_name": "LayoutModel",
      "state": {
       "visibility": "hidden"
      }
     },
     "df3510d9301b433497255404c40e4890": {
      "model_module": "@jupyter-widgets/controls",
      "model_module_version": "2.0.0",
      "model_name": "FloatProgressModel",
      "state": {
       "bar_style": "success",
       "layout": "IPY_MODEL_97eea856cefa48af87d88679ab802e72",
       "max": 2,
       "style": "IPY_MODEL_2f6e84aaa2a04a8993276501ae19b764",
       "value": 2
      }
     },
     "df36eaf53661453db9e4adbc65eccbe0": {
      "model_module": "@jupyter-widgets/controls",
      "model_module_version": "2.0.0",
      "model_name": "HTMLStyleModel",
      "state": {
       "description_width": "",
       "font_size": null,
       "text_color": null
      }
     },
     "df41f2b00c4746c4845f31caa0c5f31a": {
      "model_module": "@jupyter-widgets/controls",
      "model_module_version": "2.0.0",
      "model_name": "FloatProgressModel",
      "state": {
       "layout": "IPY_MODEL_9874e3c447b2440a814e11413bf70a0b",
       "max": 2,
       "style": "IPY_MODEL_6e093a7a14bb42c0a107f2bae7ca1905",
       "value": 2
      }
     },
     "df524b85b03f455298d2a6e32e05d4e2": {
      "model_module": "@jupyter-widgets/controls",
      "model_module_version": "2.0.0",
      "model_name": "HTMLStyleModel",
      "state": {
       "description_width": "",
       "font_size": null,
       "text_color": null
      }
     },
     "dfe468889bf94d628f70f1853a1d8171": {
      "model_module": "@jupyter-widgets/controls",
      "model_module_version": "2.0.0",
      "model_name": "FloatProgressModel",
      "state": {
       "layout": "IPY_MODEL_ccd6dd06ab6941f59a43b3a55f5f291f",
       "max": 1,
       "style": "IPY_MODEL_ea1332b927514bcc8d5adb2d404d1e32",
       "value": 1
      }
     },
     "dfe55e9266ed410ca801e05c5204d94b": {
      "model_module": "@jupyter-widgets/controls",
      "model_module_version": "2.0.0",
      "model_name": "FloatProgressModel",
      "state": {
       "bar_style": "success",
       "layout": "IPY_MODEL_189c56142ea24173b4cd1a693e9dcf13",
       "max": 2,
       "style": "IPY_MODEL_2948306dd43342469ff1ed60cc458954",
       "value": 2
      }
     },
     "e008658ed5f6425487561506df4c65f4": {
      "model_module": "@jupyter-widgets/controls",
      "model_module_version": "2.0.0",
      "model_name": "HTMLModel",
      "state": {
       "layout": "IPY_MODEL_838033953ced459f9c69b0e07edc5097",
       "style": "IPY_MODEL_e22af7da05ed4b2c9189b56f69dc79a2",
       "value": " 2/2 [00:07&lt;00:00,  3.67s/it]"
      }
     },
     "e00ec58a17a44291a16bb120e7c2ed41": {
      "model_module": "@jupyter-widgets/base",
      "model_module_version": "2.0.0",
      "model_name": "LayoutModel",
      "state": {}
     },
     "e049891761a74150845df1bf098bbced": {
      "model_module": "@jupyter-widgets/controls",
      "model_module_version": "2.0.0",
      "model_name": "HTMLStyleModel",
      "state": {
       "description_width": "",
       "font_size": null,
       "text_color": null
      }
     },
     "e04d0d8ee4624fbb8c6f76c576e86a78": {
      "model_module": "@jupyter-widgets/controls",
      "model_module_version": "2.0.0",
      "model_name": "HTMLStyleModel",
      "state": {
       "description_width": "",
       "font_size": null,
       "text_color": null
      }
     },
     "e060a882edd24489b0cb8986b52ec7de": {
      "model_module": "@jupyter-widgets/controls",
      "model_module_version": "2.0.0",
      "model_name": "HBoxModel",
      "state": {
       "children": [
        "IPY_MODEL_5ee759f45e9e4a418a76474b194c40af",
        "IPY_MODEL_8bc0dd1c25d047d68d3c88d942bd5aa7",
        "IPY_MODEL_cb30771e58374fcc9fe4264f6c08ccb6"
       ],
       "layout": "IPY_MODEL_777b8c10f760416dbac70dd5d961a42c"
      }
     },
     "e07b1f1ffbe748638450fd7f7ab4ba26": {
      "model_module": "@jupyter-widgets/controls",
      "model_module_version": "2.0.0",
      "model_name": "FloatProgressModel",
      "state": {
       "layout": "IPY_MODEL_2a180966a1e6484b8ec803dcc10d9937",
       "max": 1,
       "style": "IPY_MODEL_04ab387d02f44bf9942386db23fe726e",
       "value": 1
      }
     },
     "e08275feaa9b434b851b7f712472c3d8": {
      "model_module": "@jupyter-widgets/controls",
      "model_module_version": "2.0.0",
      "model_name": "HTMLModel",
      "state": {
       "layout": "IPY_MODEL_09c93829a03440f59a19e4a295dacfa8",
       "style": "IPY_MODEL_a1301815546341f38e2e47aadb77f520",
       "value": "Scanning for edges...:   0%"
      }
     },
     "e110908d314c4bb4ad6956be20de9069": {
      "model_module": "@jupyter-widgets/base",
      "model_module_version": "2.0.0",
      "model_name": "LayoutModel",
      "state": {}
     },
     "e1307919140a4710b2be7bbe0276be5c": {
      "model_module": "@jupyter-widgets/controls",
      "model_module_version": "2.0.0",
      "model_name": "ProgressStyleModel",
      "state": {
       "description_width": ""
      }
     },
     "e133ac1de0204250b2d372a797225298": {
      "model_module": "@jupyter-widgets/controls",
      "model_module_version": "2.0.0",
      "model_name": "HTMLStyleModel",
      "state": {
       "description_width": "",
       "font_size": null,
       "text_color": null
      }
     },
     "e13f6867d55a435a8cb1b3b0d29576c8": {
      "model_module": "@jupyter-widgets/base",
      "model_module_version": "2.0.0",
      "model_name": "LayoutModel",
      "state": {}
     },
     "e1606a72abc743f2b37d34cc955ad71d": {
      "model_module": "@jupyter-widgets/controls",
      "model_module_version": "2.0.0",
      "model_name": "HTMLModel",
      "state": {
       "layout": "IPY_MODEL_f55097138ee14be28ea182735b18e412",
       "style": "IPY_MODEL_2fcc602d14224995aaf587d7ba564cff",
       "value": "Scanning frames: 100%"
      }
     },
     "e1774238a7b949319bb445743d015ae4": {
      "model_module": "@jupyter-widgets/controls",
      "model_module_version": "2.0.0",
      "model_name": "FloatProgressModel",
      "state": {
       "bar_style": "success",
       "layout": "IPY_MODEL_be19d5cda5564d03b66a0c0e134386a0",
       "max": 1,
       "style": "IPY_MODEL_53193be3f2d84449bc6d5c1aee7daada",
       "value": 1
      }
     },
     "e1c0238e8deb4c7eb0bb5d7418c90042": {
      "model_module": "@jupyter-widgets/base",
      "model_module_version": "2.0.0",
      "model_name": "LayoutModel",
      "state": {}
     },
     "e1c4441b3b874666954c0772b613d83f": {
      "model_module": "@jupyter-widgets/base",
      "model_module_version": "2.0.0",
      "model_name": "LayoutModel",
      "state": {
       "display": "inline-flex",
       "flex_flow": "row wrap",
       "width": "100%"
      }
     },
     "e1c93c26b4544eb399c1c948852f6b9e": {
      "model_module": "@jupyter-widgets/controls",
      "model_module_version": "2.0.0",
      "model_name": "HTMLStyleModel",
      "state": {
       "description_width": "",
       "font_size": null,
       "text_color": null
      }
     },
     "e22af7da05ed4b2c9189b56f69dc79a2": {
      "model_module": "@jupyter-widgets/controls",
      "model_module_version": "2.0.0",
      "model_name": "HTMLStyleModel",
      "state": {
       "description_width": "",
       "font_size": null,
       "text_color": null
      }
     },
     "e24c4030fbb245d3a807d40dc62a8306": {
      "model_module": "@jupyter-widgets/controls",
      "model_module_version": "2.0.0",
      "model_name": "FloatProgressModel",
      "state": {
       "layout": "IPY_MODEL_af1c1a649fd54f48a40c0cde497cd120",
       "max": 2,
       "style": "IPY_MODEL_9e96bef7c76d4def8096913cbd9e1811",
       "value": 2
      }
     },
     "e254bf751bbf4eb7a6f027b12fa1607a": {
      "model_module": "@jupyter-widgets/controls",
      "model_module_version": "2.0.0",
      "model_name": "ProgressStyleModel",
      "state": {
       "description_width": ""
      }
     },
     "e2813a7ff1c44fc993b197394902c2f4": {
      "model_module": "@jupyter-widgets/controls",
      "model_module_version": "2.0.0",
      "model_name": "HTMLModel",
      "state": {
       "layout": "IPY_MODEL_f253193958364b50b4f16805e795f413",
       "style": "IPY_MODEL_6d0d8cb15e254f108addb40079c3f56f",
       "value": "Scanning for nodes...: 100%"
      }
     },
     "e2bfc55585fd42bbbbe5c9a143bf7c8d": {
      "model_module": "@jupyter-widgets/controls",
      "model_module_version": "2.0.0",
      "model_name": "HTMLModel",
      "state": {
       "layout": "IPY_MODEL_90aed895363c40d19008a8a090c6c5c0",
       "style": "IPY_MODEL_8adad61dbd7742b9817b01062194bf9a",
       "value": "Scanning for nodes...: 100%"
      }
     },
     "e2cbdb67b0884434a71578a680a420e2": {
      "model_module": "@jupyter-widgets/controls",
      "model_module_version": "2.0.0",
      "model_name": "HTMLStyleModel",
      "state": {
       "description_width": "",
       "font_size": null,
       "text_color": null
      }
     },
     "e2d53362f60d48429f73003186dba561": {
      "model_module": "@jupyter-widgets/controls",
      "model_module_version": "2.0.0",
      "model_name": "HTMLStyleModel",
      "state": {
       "description_width": "",
       "font_size": null,
       "text_color": null
      }
     },
     "e2ddcea63eba48a1a19e05cc5ad80f14": {
      "model_module": "@jupyter-widgets/base",
      "model_module_version": "2.0.0",
      "model_name": "LayoutModel",
      "state": {}
     },
     "e2eda81eaf4c4388991c71ce55ca99ce": {
      "model_module": "@jupyter-widgets/base",
      "model_module_version": "2.0.0",
      "model_name": "LayoutModel",
      "state": {}
     },
     "e2eebc43d0b541d3aab9593c11e8f06f": {
      "model_module": "@jupyter-widgets/controls",
      "model_module_version": "2.0.0",
      "model_name": "FloatProgressModel",
      "state": {
       "bar_style": "success",
       "layout": "IPY_MODEL_2447f73e85c746f489431460eb5b41a1",
       "max": 1,
       "style": "IPY_MODEL_ff5b8ddddcee40a58613e72877a46d9d",
       "value": 1
      }
     },
     "e2f9733b3a7f4f3ca40faaee832f9037": {
      "model_module": "@jupyter-widgets/controls",
      "model_module_version": "2.0.0",
      "model_name": "HTMLModel",
      "state": {
       "layout": "IPY_MODEL_d094257c07d3452288f73a0d2ce77718",
       "style": "IPY_MODEL_42d3c8a1691b4b6583342f15eb4b2946",
       "value": " 2/2 [00:01&lt;00:00,  1.30it/s]"
      }
     },
     "e3113e7d484945a39824f53aa6ed4027": {
      "model_module": "@jupyter-widgets/controls",
      "model_module_version": "2.0.0",
      "model_name": "HTMLModel",
      "state": {
       "layout": "IPY_MODEL_c284779a0739486babf7998ab6e804a9",
       "style": "IPY_MODEL_957a240aea46454489787caff03b92b6",
       "value": "hook.frame__tpch__nation: edges...: 100%"
      }
     },
     "e33a4beb160a4b8b9e852aad8cd5b8e6": {
      "model_module": "@jupyter-widgets/base",
      "model_module_version": "2.0.0",
      "model_name": "LayoutModel",
      "state": {}
     },
     "e348874f2c5f4bca9f851c8f022b2e50": {
      "model_module": "@jupyter-widgets/controls",
      "model_module_version": "2.0.0",
      "model_name": "FloatProgressModel",
      "state": {
       "bar_style": "success",
       "layout": "IPY_MODEL_102af84bd79a41109ef0fa8030dd5461",
       "max": 2,
       "style": "IPY_MODEL_c5dd7ef27be94b4a82658b472f5e277e",
       "value": 2
      }
     },
     "e37aa1fa9f394956af2c902032a1fa90": {
      "model_module": "@jupyter-widgets/base",
      "model_module_version": "2.0.0",
      "model_name": "LayoutModel",
      "state": {}
     },
     "e3ead444ef674dcc9f44df10d99409a1": {
      "model_module": "@jupyter-widgets/controls",
      "model_module_version": "2.0.0",
      "model_name": "HTMLStyleModel",
      "state": {
       "description_width": "",
       "font_size": null,
       "text_color": null
      }
     },
     "e3ef12193ab9485e97bde9f892fca205": {
      "model_module": "@jupyter-widgets/controls",
      "model_module_version": "2.0.0",
      "model_name": "HBoxModel",
      "state": {
       "children": [
        "IPY_MODEL_a528e15c39c54bf9b934beda3c8fe521",
        "IPY_MODEL_8d3f3c21e1f44e1daae1e5ebca388a1c",
        "IPY_MODEL_374076a434cf418e89ac04ede2571c49"
       ],
       "layout": "IPY_MODEL_1f40a172d2954a46826ea2f9e1d0c683"
      }
     },
     "e431553bade94ebeb90beba7286fad87": {
      "model_module": "@jupyter-widgets/base",
      "model_module_version": "2.0.0",
      "model_name": "LayoutModel",
      "state": {}
     },
     "e4488192c2f54227ac7a795b1004e0ef": {
      "model_module": "@jupyter-widgets/controls",
      "model_module_version": "2.0.0",
      "model_name": "HBoxModel",
      "state": {
       "children": [
        "IPY_MODEL_f27d447dd66e433e81babfa2094e9d16",
        "IPY_MODEL_e5431fcb860449d098fa68884478181c",
        "IPY_MODEL_9818fb44be844bf7b78f413f4233156d"
       ],
       "layout": "IPY_MODEL_c13498bd603745c9985ee8fbeebaf0b4"
      }
     },
     "e45f7789622e4eccbeb72662a3ee9efc": {
      "model_module": "@jupyter-widgets/controls",
      "model_module_version": "2.0.0",
      "model_name": "HTMLStyleModel",
      "state": {
       "description_width": "",
       "font_size": null,
       "text_color": null
      }
     },
     "e4b9871f3d4d42579c1b359a86eb5ae2": {
      "model_module": "@jupyter-widgets/controls",
      "model_module_version": "2.0.0",
      "model_name": "FloatProgressModel",
      "state": {
       "layout": "IPY_MODEL_ce6f52248c91432089be925682c426c6",
       "max": 2,
       "style": "IPY_MODEL_8a1ff51ae2874c9f858d18f7c8e6f00b",
       "value": 2
      }
     },
     "e4db22c20345453fa4dd0cc2f1efea44": {
      "model_module": "@jupyter-widgets/base",
      "model_module_version": "2.0.0",
      "model_name": "LayoutModel",
      "state": {}
     },
     "e5263def950d432186513f8d92864bf4": {
      "model_module": "@jupyter-widgets/base",
      "model_module_version": "2.0.0",
      "model_name": "LayoutModel",
      "state": {}
     },
     "e526847a452141e2b70c816ad01113e6": {
      "model_module": "@jupyter-widgets/base",
      "model_module_version": "2.0.0",
      "model_name": "LayoutModel",
      "state": {
       "visibility": "hidden"
      }
     },
     "e53251b1c2da41068bf2456b548859cb": {
      "model_module": "@jupyter-widgets/controls",
      "model_module_version": "2.0.0",
      "model_name": "HTMLStyleModel",
      "state": {
       "description_width": "",
       "font_size": null,
       "text_color": null
      }
     },
     "e5431fcb860449d098fa68884478181c": {
      "model_module": "@jupyter-widgets/controls",
      "model_module_version": "2.0.0",
      "model_name": "FloatProgressModel",
      "state": {
       "bar_style": "success",
       "layout": "IPY_MODEL_aa4eb95c282a44e18c61ac19d2a672c2",
       "max": 6,
       "style": "IPY_MODEL_527e9b2bc73d4ecb89884d94656c1ed9",
       "value": 6
      }
     },
     "e549ed5abd6443adb4828b18b72832cb": {
      "model_module": "@jupyter-widgets/controls",
      "model_module_version": "2.0.0",
      "model_name": "HTMLStyleModel",
      "state": {
       "description_width": "",
       "font_size": null,
       "text_color": null
      }
     },
     "e54e4c15f2014348b678d04f17c24768": {
      "model_module": "@jupyter-widgets/base",
      "model_module_version": "2.0.0",
      "model_name": "LayoutModel",
      "state": {}
     },
     "e555675896494bf68d81eae763233581": {
      "model_module": "@jupyter-widgets/controls",
      "model_module_version": "2.0.0",
      "model_name": "HTMLStyleModel",
      "state": {
       "description_width": "",
       "font_size": null,
       "text_color": null
      }
     },
     "e57e644611c947a68b6b304282c967dd": {
      "model_module": "@jupyter-widgets/controls",
      "model_module_version": "2.0.0",
      "model_name": "HTMLModel",
      "state": {
       "layout": "IPY_MODEL_748feb6ff5a246f194fe2f7271a23f72",
       "style": "IPY_MODEL_9dd5320968ee4525b90ff0107d029df2",
       "value": " 2/2 [00:01&lt;00:00,  1.27it/s]"
      }
     },
     "e5840bd774b743e18ad1e6e2a893bc2e": {
      "model_module": "@jupyter-widgets/controls",
      "model_module_version": "2.0.0",
      "model_name": "HBoxModel",
      "state": {
       "children": [
        "IPY_MODEL_1b5a3527748b40b0b02be48026d8995f",
        "IPY_MODEL_5756682684904ad89f69ede538c571f2",
        "IPY_MODEL_6c7e75603f384e6193e1a0407bc21ba1"
       ],
       "layout": "IPY_MODEL_9a3264e114b14650bfb4f99732b8345e"
      }
     },
     "e5c632262e8b470eb9165808ab1eaa98": {
      "model_module": "@jupyter-widgets/base",
      "model_module_version": "2.0.0",
      "model_name": "LayoutModel",
      "state": {}
     },
     "e5d62132fc3d42c8a01e8ea62a5c0bd0": {
      "model_module": "@jupyter-widgets/controls",
      "model_module_version": "2.0.0",
      "model_name": "HTMLStyleModel",
      "state": {
       "description_width": "",
       "font_size": null,
       "text_color": null
      }
     },
     "e5d7fa0a8f684a0ca41d6e0e7ce84d4a": {
      "model_module": "@jupyter-widgets/base",
      "model_module_version": "2.0.0",
      "model_name": "LayoutModel",
      "state": {}
     },
     "e618246b50de479d8c6a38bddb6c4d70": {
      "model_module": "@jupyter-widgets/base",
      "model_module_version": "2.0.0",
      "model_name": "LayoutModel",
      "state": {}
     },
     "e6807cc355df4dc9a56091b9d37b21f3": {
      "model_module": "@jupyter-widgets/controls",
      "model_module_version": "2.0.0",
      "model_name": "HTMLStyleModel",
      "state": {
       "description_width": "",
       "font_size": null,
       "text_color": null
      }
     },
     "e6839ebff97e42f381772601d629ef5a": {
      "model_module": "@jupyter-widgets/controls",
      "model_module_version": "2.0.0",
      "model_name": "HTMLModel",
      "state": {
       "layout": "IPY_MODEL_c616f8e5ad354d38bf99691f51a1b6ac",
       "style": "IPY_MODEL_75311b0e3c7b4186a420ceecd5a3c1e2",
       "value": "Scanning for edges...:   0%"
      }
     },
     "e692bfbc871a437d9a119bab0af30d6c": {
      "model_module": "@jupyter-widgets/controls",
      "model_module_version": "2.0.0",
      "model_name": "HTMLModel",
      "state": {
       "layout": "IPY_MODEL_95ce0cf530f24c6fa2eb636dc6111b25",
       "style": "IPY_MODEL_b352383dc3174668afcdead175c4572b",
       "value": "Scanning for nodes...: 100%"
      }
     },
     "e6a9da8f31d8462497f0b37323ff8ac6": {
      "model_module": "@jupyter-widgets/controls",
      "model_module_version": "2.0.0",
      "model_name": "HTMLStyleModel",
      "state": {
       "description_width": "",
       "font_size": null,
       "text_color": null
      }
     },
     "e6b5cfff43094e97b68a3978fd1e56bb": {
      "model_module": "@jupyter-widgets/controls",
      "model_module_version": "2.0.0",
      "model_name": "HBoxModel",
      "state": {
       "children": [
        "IPY_MODEL_c8e02cb173354cc4ab7459e754c1804a",
        "IPY_MODEL_cbace0a88c1742469ba1b5fa089b33cf",
        "IPY_MODEL_62db2d47fd5f44e081a171e785e1131a"
       ],
       "layout": "IPY_MODEL_b1ddcc52870f4f26a8716bdd8df5b0cb"
      }
     },
     "e6cc3b5ec19148c8858e4a7072fd1d9f": {
      "model_module": "@jupyter-widgets/controls",
      "model_module_version": "2.0.0",
      "model_name": "HTMLStyleModel",
      "state": {
       "description_width": "",
       "font_size": null,
       "text_color": null
      }
     },
     "e6cfe135847541b2b1de7f0ef1703aca": {
      "model_module": "@jupyter-widgets/base",
      "model_module_version": "2.0.0",
      "model_name": "LayoutModel",
      "state": {
       "flex": "2"
      }
     },
     "e6dc9e034dce4f31b0075d5b5b47de4c": {
      "model_module": "@jupyter-widgets/base",
      "model_module_version": "2.0.0",
      "model_name": "LayoutModel",
      "state": {
       "flex": "2"
      }
     },
     "e6ec75c2358d4c2eb5ec0650575badb7": {
      "model_module": "@jupyter-widgets/controls",
      "model_module_version": "2.0.0",
      "model_name": "ProgressStyleModel",
      "state": {
       "description_width": ""
      }
     },
     "e6ee1b05a5544f63a2aa4527f42d8dbb": {
      "model_module": "@jupyter-widgets/controls",
      "model_module_version": "2.0.0",
      "model_name": "HTMLStyleModel",
      "state": {
       "description_width": "",
       "font_size": null,
       "text_color": null
      }
     },
     "e70eb2112d3b4416a47992135f319bd7": {
      "model_module": "@jupyter-widgets/controls",
      "model_module_version": "2.0.0",
      "model_name": "HBoxModel",
      "state": {
       "children": [
        "IPY_MODEL_1fae0b55af7a4b46b24c67d7518de3ac",
        "IPY_MODEL_ada39c73708344baaae20ad32d291f54",
        "IPY_MODEL_d0feedd694a040028f1af67a63083772"
       ],
       "layout": "IPY_MODEL_4cf9e0e1a8494575a2ea0ebdc44d2622"
      }
     },
     "e739350a794e42af941825ea094fda15": {
      "model_module": "@jupyter-widgets/controls",
      "model_module_version": "2.0.0",
      "model_name": "HTMLModel",
      "state": {
       "layout": "IPY_MODEL_6ff4ba607b0341ba8be5a5286cabcabe",
       "style": "IPY_MODEL_d150c4fb6b1c4aecaefb902e89e188de",
       "value": " 8/8 [00:51&lt;00:00,  5.62s/it]"
      }
     },
     "e762758172a44f32bb40afa5fdadd709": {
      "model_module": "@jupyter-widgets/base",
      "model_module_version": "2.0.0",
      "model_name": "LayoutModel",
      "state": {
       "visibility": "hidden"
      }
     },
     "e7811efbb9cf4bef813075086b453148": {
      "model_module": "@jupyter-widgets/base",
      "model_module_version": "2.0.0",
      "model_name": "LayoutModel",
      "state": {}
     },
     "e78754ad5ae0433e9121e2c8796293c2": {
      "model_module": "@jupyter-widgets/base",
      "model_module_version": "2.0.0",
      "model_name": "LayoutModel",
      "state": {
       "visibility": "hidden"
      }
     },
     "e7da2338daa746d88aa3561680c49f1b": {
      "model_module": "@jupyter-widgets/controls",
      "model_module_version": "2.0.0",
      "model_name": "HTMLStyleModel",
      "state": {
       "description_width": "",
       "font_size": null,
       "text_color": null
      }
     },
     "e817068ee1694dedbf3198511c5791d3": {
      "model_module": "@jupyter-widgets/controls",
      "model_module_version": "2.0.0",
      "model_name": "ProgressStyleModel",
      "state": {
       "description_width": ""
      }
     },
     "e831e1ea5796439a8baf079c6e4095a8": {
      "model_module": "@jupyter-widgets/controls",
      "model_module_version": "2.0.0",
      "model_name": "ProgressStyleModel",
      "state": {
       "description_width": ""
      }
     },
     "e833547848234e35af498efb17507451": {
      "model_module": "@jupyter-widgets/controls",
      "model_module_version": "2.0.0",
      "model_name": "HTMLModel",
      "state": {
       "layout": "IPY_MODEL_3893b03ea9124aab809f17fd093fc538",
       "style": "IPY_MODEL_b1269d91de034320a9a3629d2d4c8cfb",
       "value": "hook.frame__tpch__nation: 100%"
      }
     },
     "e83655dc33364267b1b477a0c1ed68f3": {
      "model_module": "@jupyter-widgets/controls",
      "model_module_version": "2.0.0",
      "model_name": "FloatProgressModel",
      "state": {
       "layout": "IPY_MODEL_1fe01584c7734b4cac1d88ca722f2d90",
       "max": 2,
       "style": "IPY_MODEL_cbf31656b97747559af7cb1616f1e28c",
       "value": 2
      }
     },
     "e85bfebdaa564c64b7eb67f854617ffb": {
      "model_module": "@jupyter-widgets/base",
      "model_module_version": "2.0.0",
      "model_name": "LayoutModel",
      "state": {}
     },
     "e89ebff5dd27411cb607d3a49919e01b": {
      "model_module": "@jupyter-widgets/controls",
      "model_module_version": "2.0.0",
      "model_name": "HTMLStyleModel",
      "state": {
       "description_width": "",
       "font_size": null,
       "text_color": null
      }
     },
     "e8a8206197934dd791ff08581815556c": {
      "model_module": "@jupyter-widgets/base",
      "model_module_version": "2.0.0",
      "model_name": "LayoutModel",
      "state": {}
     },
     "e8a976d6cabd43c4a55f2a2b633c18ba": {
      "model_module": "@jupyter-widgets/controls",
      "model_module_version": "2.0.0",
      "model_name": "HTMLStyleModel",
      "state": {
       "description_width": "",
       "font_size": null,
       "text_color": null
      }
     },
     "e8bb6b372eb649dda2d498f3f98c0b6b": {
      "model_module": "@jupyter-widgets/controls",
      "model_module_version": "2.0.0",
      "model_name": "HBoxModel",
      "state": {
       "children": [
        "IPY_MODEL_462a1ebbf73143d18891e1fd3ad1eca3",
        "IPY_MODEL_bed1d24a2b654cab8022d3f0ddb44dba",
        "IPY_MODEL_d84424edda6c4c7a8d621162c5f9e945"
       ],
       "layout": "IPY_MODEL_33ec4f75f29a4abaab106298f8af0a78"
      }
     },
     "e8c1de5cf34f4692aea6fbe165ca3068": {
      "model_module": "@jupyter-widgets/controls",
      "model_module_version": "2.0.0",
      "model_name": "HTMLModel",
      "state": {
       "layout": "IPY_MODEL_6e3fc0944c1742c6ba502c2586c487b2",
       "style": "IPY_MODEL_ec07732fc89e4ea796ce7eac41327117",
       "value": "hook.frame__tpch__supplier: nodes...: 100%"
      }
     },
     "e8c4edd5741542308e5fc1b3c982d311": {
      "model_module": "@jupyter-widgets/controls",
      "model_module_version": "2.0.0",
      "model_name": "ProgressStyleModel",
      "state": {
       "description_width": ""
      }
     },
     "e929782b67c64bc99faac0782119acba": {
      "model_module": "@jupyter-widgets/base",
      "model_module_version": "2.0.0",
      "model_name": "LayoutModel",
      "state": {
       "visibility": "hidden"
      }
     },
     "e9418a28f88941b79ad4fe400dd2ac39": {
      "model_module": "@jupyter-widgets/controls",
      "model_module_version": "2.0.0",
      "model_name": "FloatProgressModel",
      "state": {
       "bar_style": "success",
       "layout": "IPY_MODEL_ecc254227c3b4087bdb3cf6784338a60",
       "max": 1,
       "style": "IPY_MODEL_99743b14870c40fea311e5b123422e0e",
       "value": 1
      }
     },
     "e94fdf69a81f4209a3cae3638ed061e3": {
      "model_module": "@jupyter-widgets/base",
      "model_module_version": "2.0.0",
      "model_name": "LayoutModel",
      "state": {
       "visibility": "hidden"
      }
     },
     "e95680fa770b4d4298c47ab61c89f8ae": {
      "model_module": "@jupyter-widgets/base",
      "model_module_version": "2.0.0",
      "model_name": "LayoutModel",
      "state": {}
     },
     "e95b5bccd19d45bfa619959e940fc8f7": {
      "model_module": "@jupyter-widgets/controls",
      "model_module_version": "2.0.0",
      "model_name": "HTMLStyleModel",
      "state": {
       "description_width": "",
       "font_size": null,
       "text_color": null
      }
     },
     "e9778e0d9df24f749c9d19b5434f67a1": {
      "model_module": "@jupyter-widgets/controls",
      "model_module_version": "2.0.0",
      "model_name": "HTMLModel",
      "state": {
       "layout": "IPY_MODEL_003ea001b7e1441a93359e5f5c3c699d",
       "style": "IPY_MODEL_793633ce693b4ce5be50e370b204260d",
       "value": " 2/2 [00:00&lt;00:00,  2.18it/s]"
      }
     },
     "e9b281823f8a44c0abb9560a191f304f": {
      "model_module": "@jupyter-widgets/base",
      "model_module_version": "2.0.0",
      "model_name": "LayoutModel",
      "state": {}
     },
     "e9bca1bde7eb4a8fbb8bc6c2109db5fb": {
      "model_module": "@jupyter-widgets/controls",
      "model_module_version": "2.0.0",
      "model_name": "ProgressStyleModel",
      "state": {
       "description_width": ""
      }
     },
     "e9d326db6baa4c3c89f4c3ec28429f6a": {
      "model_module": "@jupyter-widgets/controls",
      "model_module_version": "2.0.0",
      "model_name": "HTMLStyleModel",
      "state": {
       "description_width": "",
       "font_size": null,
       "text_color": null
      }
     },
     "e9e1a9968e5d4efc8535d4a02b3ff975": {
      "model_module": "@jupyter-widgets/controls",
      "model_module_version": "2.0.0",
      "model_name": "HTMLStyleModel",
      "state": {
       "description_width": "",
       "font_size": null,
       "text_color": null
      }
     },
     "ea01f51c00be425c96439fb739903b99": {
      "model_module": "@jupyter-widgets/base",
      "model_module_version": "2.0.0",
      "model_name": "LayoutModel",
      "state": {}
     },
     "ea1332b927514bcc8d5adb2d404d1e32": {
      "model_module": "@jupyter-widgets/controls",
      "model_module_version": "2.0.0",
      "model_name": "ProgressStyleModel",
      "state": {
       "description_width": ""
      }
     },
     "ea1b94b6925e48c9be88e81e3d8b5258": {
      "model_module": "@jupyter-widgets/controls",
      "model_module_version": "2.0.0",
      "model_name": "HTMLStyleModel",
      "state": {
       "description_width": "",
       "font_size": null,
       "text_color": null
      }
     },
     "ea2fd893839c465abefa66be08e91e4c": {
      "model_module": "@jupyter-widgets/controls",
      "model_module_version": "2.0.0",
      "model_name": "ProgressStyleModel",
      "state": {
       "description_width": ""
      }
     },
     "ea39a09fb4064b6694a177eeb4ce69f2": {
      "model_module": "@jupyter-widgets/base",
      "model_module_version": "2.0.0",
      "model_name": "LayoutModel",
      "state": {}
     },
     "ea3feb1f74814ad6adcfb506d258d070": {
      "model_module": "@jupyter-widgets/controls",
      "model_module_version": "2.0.0",
      "model_name": "FloatProgressModel",
      "state": {
       "bar_style": "success",
       "layout": "IPY_MODEL_43ce3ad510ba48d3b20e02bf65e264ab",
       "max": 2,
       "style": "IPY_MODEL_523a6d15cd11486c964dcbc24be53f9f",
       "value": 2
      }
     },
     "ea4adfde54044a0b89c1ef222873e489": {
      "model_module": "@jupyter-widgets/base",
      "model_module_version": "2.0.0",
      "model_name": "LayoutModel",
      "state": {}
     },
     "eac08400856041d6b19b8c6d9a6011a6": {
      "model_module": "@jupyter-widgets/controls",
      "model_module_version": "2.0.0",
      "model_name": "HTMLModel",
      "state": {
       "layout": "IPY_MODEL_372de33e3dc247ae8d3966d62fc09036",
       "style": "IPY_MODEL_ac77905302d84b649dc21debb200b7c0",
       "value": " 2/2 [00:32&lt;00:00, 32.66s/it]"
      }
     },
     "eb064b160fee4d8fba040c9a5c6088d6": {
      "model_module": "@jupyter-widgets/controls",
      "model_module_version": "2.0.0",
      "model_name": "HBoxModel",
      "state": {
       "children": [
        "IPY_MODEL_7b48c68bb3404ff993c2329cd6649e46",
        "IPY_MODEL_d902f868a08e4a0cb3046ee5ecd75e65",
        "IPY_MODEL_1f108c81ba19491b9b4360b9971b987d"
       ],
       "layout": "IPY_MODEL_01f88a260de84893b56578ee18699d42"
      }
     },
     "eb244a1cfbb04ad884c3994732a6e665": {
      "model_module": "@jupyter-widgets/base",
      "model_module_version": "2.0.0",
      "model_name": "LayoutModel",
      "state": {}
     },
     "eb2c0ea4dacf49ffa246eec71220c8c6": {
      "model_module": "@jupyter-widgets/base",
      "model_module_version": "2.0.0",
      "model_name": "LayoutModel",
      "state": {}
     },
     "eb57158191df4883bae449687198c769": {
      "model_module": "@jupyter-widgets/controls",
      "model_module_version": "2.0.0",
      "model_name": "HBoxModel",
      "state": {
       "children": [
        "IPY_MODEL_679fd2b3c3634bb5afaee755d0aa4c36",
        "IPY_MODEL_8d329f44277f4a39b0e10aee1d35014e",
        "IPY_MODEL_bb2de59348554b9393a6d03bfc90a199"
       ],
       "layout": "IPY_MODEL_f4f6aa6524c04c338157d29bd4965538"
      }
     },
     "eba440feba2f4eaa82d96d2e9aeb3467": {
      "model_module": "@jupyter-widgets/controls",
      "model_module_version": "2.0.0",
      "model_name": "HTMLStyleModel",
      "state": {
       "description_width": "",
       "font_size": null,
       "text_color": null
      }
     },
     "ebed2e6dbf0d49b0b6a4c825a3d173d7": {
      "model_module": "@jupyter-widgets/controls",
      "model_module_version": "2.0.0",
      "model_name": "HTMLStyleModel",
      "state": {
       "description_width": "",
       "font_size": null,
       "text_color": null
      }
     },
     "ebf7b2a1afb7490bb4d25b09b270c29d": {
      "model_module": "@jupyter-widgets/controls",
      "model_module_version": "2.0.0",
      "model_name": "ProgressStyleModel",
      "state": {
       "description_width": ""
      }
     },
     "ec07732fc89e4ea796ce7eac41327117": {
      "model_module": "@jupyter-widgets/controls",
      "model_module_version": "2.0.0",
      "model_name": "HTMLStyleModel",
      "state": {
       "description_width": "",
       "font_size": null,
       "text_color": null
      }
     },
     "ec32c2635fa24af2823757883799227e": {
      "model_module": "@jupyter-widgets/base",
      "model_module_version": "2.0.0",
      "model_name": "LayoutModel",
      "state": {}
     },
     "ec4c5461df62482293ea215f82d66eae": {
      "model_module": "@jupyter-widgets/base",
      "model_module_version": "2.0.0",
      "model_name": "LayoutModel",
      "state": {}
     },
     "ec73a3c7dc4f4487bb16d38b9aa18643": {
      "model_module": "@jupyter-widgets/controls",
      "model_module_version": "2.0.0",
      "model_name": "HBoxModel",
      "state": {
       "children": [
        "IPY_MODEL_4558d26c561742dab0453a10608c1a95",
        "IPY_MODEL_9383fd1fc04f4654aba4c251496501ac",
        "IPY_MODEL_0b808bc7ca3643f0bf09cde1c4a2821e"
       ],
       "layout": "IPY_MODEL_9e46284cb1c04a44b5fb0a35a3c27794"
      }
     },
     "ec9086baf15e4603bcec5f904263372b": {
      "model_module": "@jupyter-widgets/base",
      "model_module_version": "2.0.0",
      "model_name": "LayoutModel",
      "state": {}
     },
     "ecc254227c3b4087bdb3cf6784338a60": {
      "model_module": "@jupyter-widgets/base",
      "model_module_version": "2.0.0",
      "model_name": "LayoutModel",
      "state": {}
     },
     "ecc564fd5a444616adfaad5ba9b4ad36": {
      "model_module": "@jupyter-widgets/controls",
      "model_module_version": "2.0.0",
      "model_name": "HTMLModel",
      "state": {
       "layout": "IPY_MODEL_b631baf3445f45f3b96e0e627c4700ad",
       "style": "IPY_MODEL_d2ac2055d9fd4fa688344da91d23e6d3",
       "value": " 1/1 [00:00&lt;00:00, 210.83it/s]"
      }
     },
     "ecce90db49424d1ebedf6635c49c9264": {
      "model_module": "@jupyter-widgets/controls",
      "model_module_version": "2.0.0",
      "model_name": "HTMLModel",
      "state": {
       "layout": "IPY_MODEL_02afb28537c449b4b441671d89e0d839",
       "style": "IPY_MODEL_b512dd4aaf7547b387eb4dd432455183",
       "value": " 2/2 [00:06&lt;00:00,  3.17s/it]"
      }
     },
     "ed289de87a0c4a23b771f60526bc756e": {
      "model_module": "@jupyter-widgets/base",
      "model_module_version": "2.0.0",
      "model_name": "LayoutModel",
      "state": {}
     },
     "ed3509182b534e24bc924526d6725cd5": {
      "model_module": "@jupyter-widgets/controls",
      "model_module_version": "2.0.0",
      "model_name": "HTMLStyleModel",
      "state": {
       "description_width": "",
       "font_size": null,
       "text_color": null
      }
     },
     "ed36dd1aef3e47f0bc7a85ba6c0ee732": {
      "model_module": "@jupyter-widgets/base",
      "model_module_version": "2.0.0",
      "model_name": "LayoutModel",
      "state": {}
     },
     "ed593ad47cf541358b32c29fd2facb1a": {
      "model_module": "@jupyter-widgets/controls",
      "model_module_version": "2.0.0",
      "model_name": "HTMLModel",
      "state": {
       "layout": "IPY_MODEL_7f560c80859e45de81d2921a11b6e930",
       "style": "IPY_MODEL_fb246020ae594f88aeed527a79348700",
       "value": " 4/4 [00:35&lt;00:00,  9.06s/it]"
      }
     },
     "ed916fd8f6624ac3888e98ce0ed6258e": {
      "model_module": "@jupyter-widgets/controls",
      "model_module_version": "2.0.0",
      "model_name": "HTMLStyleModel",
      "state": {
       "description_width": "",
       "font_size": null,
       "text_color": null
      }
     },
     "ed9565f0337e42f5ba26f76952739165": {
      "model_module": "@jupyter-widgets/controls",
      "model_module_version": "2.0.0",
      "model_name": "HTMLStyleModel",
      "state": {
       "description_width": "",
       "font_size": null,
       "text_color": null
      }
     },
     "eda9911106d643a2be0f9cce86301c6f": {
      "model_module": "@jupyter-widgets/base",
      "model_module_version": "2.0.0",
      "model_name": "LayoutModel",
      "state": {}
     },
     "edc0dc9c0a3f4087bbe02533788d1cbb": {
      "model_module": "@jupyter-widgets/controls",
      "model_module_version": "2.0.0",
      "model_name": "HTMLModel",
      "state": {
       "layout": "IPY_MODEL_05fcf1eb940e4c52a61cdbc7aec01187",
       "style": "IPY_MODEL_8990e83bbe9b43ed844a3ede00346faf",
       "value": "Scanning for edges...: 100%"
      }
     },
     "edcc5f038ca644b29b2b6e1a543c9d64": {
      "model_module": "@jupyter-widgets/controls",
      "model_module_version": "2.0.0",
      "model_name": "HTMLModel",
      "state": {
       "layout": "IPY_MODEL_b344d71f19834d31a2185674195fa5fb",
       "style": "IPY_MODEL_8ae92369d0974f1c8a37fc8659908e7b",
       "value": " 2/2 [00:06&lt;00:00,  3.25s/it]"
      }
     },
     "ee18a344e7a74b5cb3d7dfcd6a828f5a": {
      "model_module": "@jupyter-widgets/controls",
      "model_module_version": "2.0.0",
      "model_name": "HTMLStyleModel",
      "state": {
       "description_width": "",
       "font_size": null,
       "text_color": null
      }
     },
     "ee26c8895bdf4259a19f3ead71a57641": {
      "model_module": "@jupyter-widgets/controls",
      "model_module_version": "2.0.0",
      "model_name": "HTMLModel",
      "state": {
       "layout": "IPY_MODEL_87a056171e8342ab8f6d464da8443d00",
       "style": "IPY_MODEL_960ce7213f8d424a91f4242bb7284f2e",
       "value": " 2/2 [00:32&lt;00:00, 32.93s/it]"
      }
     },
     "ee3dbf81c3874c13a7d4168caa585bb1": {
      "model_module": "@jupyter-widgets/controls",
      "model_module_version": "2.0.0",
      "model_name": "HTMLStyleModel",
      "state": {
       "description_width": "",
       "font_size": null,
       "text_color": null
      }
     },
     "eea15e48057141c58de2f3b5f62892c3": {
      "model_module": "@jupyter-widgets/base",
      "model_module_version": "2.0.0",
      "model_name": "LayoutModel",
      "state": {}
     },
     "eecd6ea075b54b0fbafb1fe05b83542e": {
      "model_module": "@jupyter-widgets/base",
      "model_module_version": "2.0.0",
      "model_name": "LayoutModel",
      "state": {
       "flex": "2"
      }
     },
     "eee7439073e447afb0f1ecc59d76f021": {
      "model_module": "@jupyter-widgets/controls",
      "model_module_version": "2.0.0",
      "model_name": "HTMLStyleModel",
      "state": {
       "description_width": "",
       "font_size": null,
       "text_color": null
      }
     },
     "eef1b3d9931f4d2fbd022bb16f19bf69": {
      "model_module": "@jupyter-widgets/controls",
      "model_module_version": "2.0.0",
      "model_name": "ProgressStyleModel",
      "state": {
       "description_width": ""
      }
     },
     "ef0ee143a2cf4621ba20109d7f809e76": {
      "model_module": "@jupyter-widgets/controls",
      "model_module_version": "2.0.0",
      "model_name": "HTMLModel",
      "state": {
       "layout": "IPY_MODEL_d07aa29aa2a74b76b312c4497a1ffeeb",
       "style": "IPY_MODEL_9ac51799724d4795bf3164826863f1aa",
       "value": "Scanning hook.frame__tpch__lineitem:  50%"
      }
     },
     "ef4974c77dc543248014577c7d5b6503": {
      "model_module": "@jupyter-widgets/base",
      "model_module_version": "2.0.0",
      "model_name": "LayoutModel",
      "state": {
       "visibility": "hidden"
      }
     },
     "ef54522c0e0342409207e2a36d02c5d6": {
      "model_module": "@jupyter-widgets/controls",
      "model_module_version": "2.0.0",
      "model_name": "FloatProgressModel",
      "state": {
       "bar_style": "success",
       "layout": "IPY_MODEL_a100246b95fb4bf5905fc9cf141c4c3f",
       "max": 1,
       "style": "IPY_MODEL_ca27833de65b45d2b717dbea72dbec3b",
       "value": 1
      }
     },
     "ef6eee812b704922a4e3b776fa9ef85b": {
      "model_module": "@jupyter-widgets/base",
      "model_module_version": "2.0.0",
      "model_name": "LayoutModel",
      "state": {}
     },
     "ef719624649b4574bc4c8145df329577": {
      "model_module": "@jupyter-widgets/base",
      "model_module_version": "2.0.0",
      "model_name": "LayoutModel",
      "state": {}
     },
     "efb2830cdd57480c9c1d5020c359fb45": {
      "model_module": "@jupyter-widgets/controls",
      "model_module_version": "2.0.0",
      "model_name": "FloatProgressModel",
      "state": {
       "bar_style": "success",
       "layout": "IPY_MODEL_7e497aa155dd4d2388aa1deb5a5ed8cb",
       "max": 8,
       "style": "IPY_MODEL_21ffab25e2064f3483f50936365733b9",
       "value": 8
      }
     },
     "efb2882d5d5a4b9898776bd450150d37": {
      "model_module": "@jupyter-widgets/controls",
      "model_module_version": "2.0.0",
      "model_name": "HTMLModel",
      "state": {
       "layout": "IPY_MODEL_a81a760eb78246b984eedb286a5305da",
       "style": "IPY_MODEL_b77e768bd6104e439b055f756d9ded94",
       "value": " 1/2 [00:01&lt;00:01,  1.46s/it]"
      }
     },
     "efcb7a47e8f34dd9a4281bc49511936e": {
      "model_module": "@jupyter-widgets/controls",
      "model_module_version": "2.0.0",
      "model_name": "ProgressStyleModel",
      "state": {
       "description_width": ""
      }
     },
     "eff41d2270f543109b8737daccf66827": {
      "model_module": "@jupyter-widgets/base",
      "model_module_version": "2.0.0",
      "model_name": "LayoutModel",
      "state": {}
     },
     "f0294a44ce274497839ccc1a4c9a2239": {
      "model_module": "@jupyter-widgets/base",
      "model_module_version": "2.0.0",
      "model_name": "LayoutModel",
      "state": {}
     },
     "f031db51838543bdb4b8b42910f61f50": {
      "model_module": "@jupyter-widgets/controls",
      "model_module_version": "2.0.0",
      "model_name": "HTMLStyleModel",
      "state": {
       "description_width": "",
       "font_size": null,
       "text_color": null
      }
     },
     "f03876bbd6d646f397b3e343f320bfec": {
      "model_module": "@jupyter-widgets/controls",
      "model_module_version": "2.0.0",
      "model_name": "ProgressStyleModel",
      "state": {
       "description_width": ""
      }
     },
     "f0523e32412d4b9d951775ff278475cd": {
      "model_module": "@jupyter-widgets/controls",
      "model_module_version": "2.0.0",
      "model_name": "FloatProgressModel",
      "state": {
       "bar_style": "success",
       "layout": "IPY_MODEL_8ade000c32ca484598454fb94848ef60",
       "max": 1,
       "style": "IPY_MODEL_67f9ba3b12524d70854861a818c00294",
       "value": 1
      }
     },
     "f0665d5d5940450e9129b84fdf5757d7": {
      "model_module": "@jupyter-widgets/controls",
      "model_module_version": "2.0.0",
      "model_name": "FloatProgressModel",
      "state": {
       "layout": "IPY_MODEL_05da6632a1424f46b5c18933749f0aba",
       "max": 1,
       "style": "IPY_MODEL_f164c6d6b2b84753b98c7426dcb71ae0",
       "value": 1
      }
     },
     "f0a0e484f1754de3b6b355194d57cb17": {
      "model_module": "@jupyter-widgets/base",
      "model_module_version": "2.0.0",
      "model_name": "LayoutModel",
      "state": {
       "visibility": "hidden"
      }
     },
     "f0d0ee852ac74b1292ef32ba6080ef17": {
      "model_module": "@jupyter-widgets/controls",
      "model_module_version": "2.0.0",
      "model_name": "HTMLStyleModel",
      "state": {
       "description_width": "",
       "font_size": null,
       "text_color": null
      }
     },
     "f0dec97b9cc1468e86d3c1fd3e7117e4": {
      "model_module": "@jupyter-widgets/base",
      "model_module_version": "2.0.0",
      "model_name": "LayoutModel",
      "state": {}
     },
     "f0f52215006140d595a678dedb7eadc2": {
      "model_module": "@jupyter-widgets/controls",
      "model_module_version": "2.0.0",
      "model_name": "HTMLStyleModel",
      "state": {
       "description_width": "",
       "font_size": null,
       "text_color": null
      }
     },
     "f10800fd88a14e12987bf7402a672b67": {
      "model_module": "@jupyter-widgets/base",
      "model_module_version": "2.0.0",
      "model_name": "LayoutModel",
      "state": {}
     },
     "f10fad27294541ea8c88a35603f36d2b": {
      "model_module": "@jupyter-widgets/controls",
      "model_module_version": "2.0.0",
      "model_name": "ProgressStyleModel",
      "state": {
       "description_width": ""
      }
     },
     "f1234bf6797c433e8e691092a0c32b6a": {
      "model_module": "@jupyter-widgets/base",
      "model_module_version": "2.0.0",
      "model_name": "LayoutModel",
      "state": {}
     },
     "f138bc8ec4b14566abd4159ff685307a": {
      "model_module": "@jupyter-widgets/controls",
      "model_module_version": "2.0.0",
      "model_name": "HTMLModel",
      "state": {
       "layout": "IPY_MODEL_57488a7aa999454e889b97c33099651e",
       "style": "IPY_MODEL_9cae0b4f21484cc186a274802ff058c6",
       "value": " 1/2 [00:00&lt;00:00,  1.01it/s]"
      }
     },
     "f139842b2cfe4b749068069fd2ac518c": {
      "model_module": "@jupyter-widgets/controls",
      "model_module_version": "2.0.0",
      "model_name": "HBoxModel",
      "state": {
       "children": [
        "IPY_MODEL_1ee186f893b540d994c7c1182faab011",
        "IPY_MODEL_45dc80705806433a963a6a4e54212096",
        "IPY_MODEL_fe3806bd485541f3aeee3c195cd6e248"
       ],
       "layout": "IPY_MODEL_e929782b67c64bc99faac0782119acba"
      }
     },
     "f164c6d6b2b84753b98c7426dcb71ae0": {
      "model_module": "@jupyter-widgets/controls",
      "model_module_version": "2.0.0",
      "model_name": "ProgressStyleModel",
      "state": {
       "description_width": ""
      }
     },
     "f1747b5c7f0242d3aa623c7aa258347a": {
      "model_module": "@jupyter-widgets/controls",
      "model_module_version": "2.0.0",
      "model_name": "HTMLModel",
      "state": {
       "layout": "IPY_MODEL_2e9a20298d1e4c9d9acfb9735d5064d0",
       "style": "IPY_MODEL_423ec73fbd3d4a92b3f2b2a4020600bf",
       "value": "hook.frame__tpch__supplier: nodes...: 100%"
      }
     },
     "f17f0df93caf471ab0e06c8e8ff889b2": {
      "model_module": "@jupyter-widgets/base",
      "model_module_version": "2.0.0",
      "model_name": "LayoutModel",
      "state": {
       "visibility": "hidden"
      }
     },
     "f19eb4188697409babadd6597ed171aa": {
      "model_module": "@jupyter-widgets/base",
      "model_module_version": "2.0.0",
      "model_name": "LayoutModel",
      "state": {}
     },
     "f1ba5760e2e548a7bd4bdc8df54e3c6f": {
      "model_module": "@jupyter-widgets/base",
      "model_module_version": "2.0.0",
      "model_name": "LayoutModel",
      "state": {}
     },
     "f1f98e6656ae44a9b933bee9282a7fe1": {
      "model_module": "@jupyter-widgets/base",
      "model_module_version": "2.0.0",
      "model_name": "LayoutModel",
      "state": {}
     },
     "f20988bf23594563a19d2143ffb49793": {
      "model_module": "@jupyter-widgets/base",
      "model_module_version": "2.0.0",
      "model_name": "LayoutModel",
      "state": {
       "display": "inline-flex",
       "flex_flow": "row wrap",
       "width": "100%"
      }
     },
     "f21c9329f01a44d1b275dbcb78a940f8": {
      "model_module": "@jupyter-widgets/controls",
      "model_module_version": "2.0.0",
      "model_name": "HTMLStyleModel",
      "state": {
       "description_width": "",
       "font_size": null,
       "text_color": null
      }
     },
     "f235c0dc52a545bc8ef7ccd0d01889b7": {
      "model_module": "@jupyter-widgets/controls",
      "model_module_version": "2.0.0",
      "model_name": "HTMLStyleModel",
      "state": {
       "description_width": "",
       "font_size": null,
       "text_color": null
      }
     },
     "f24c0ea9281143fdbf086e60bc5c7256": {
      "model_module": "@jupyter-widgets/controls",
      "model_module_version": "2.0.0",
      "model_name": "ProgressStyleModel",
      "state": {
       "description_width": ""
      }
     },
     "f253193958364b50b4f16805e795f413": {
      "model_module": "@jupyter-widgets/base",
      "model_module_version": "2.0.0",
      "model_name": "LayoutModel",
      "state": {}
     },
     "f27d447dd66e433e81babfa2094e9d16": {
      "model_module": "@jupyter-widgets/controls",
      "model_module_version": "2.0.0",
      "model_name": "HTMLModel",
      "state": {
       "layout": "IPY_MODEL_7d1ea4fbd394480abfdae8cbcdf265c7",
       "style": "IPY_MODEL_46ce7f5540804b07883c41552bf56264",
       "value": "Scanning for edges...: 100%"
      }
     },
     "f2a9296d10ec4fab85149ad3fa457695": {
      "model_module": "@jupyter-widgets/controls",
      "model_module_version": "2.0.0",
      "model_name": "HTMLModel",
      "state": {
       "layout": "IPY_MODEL_9d73901b3a014a1ea9a5e492210cdb78",
       "style": "IPY_MODEL_9c005d99d24b4fa7b4538215f375edcd",
       "value": "Scanning for edges...:   0%"
      }
     },
     "f2b5a7823c28486fb9f697fd1192a3c5": {
      "model_module": "@jupyter-widgets/base",
      "model_module_version": "2.0.0",
      "model_name": "LayoutModel",
      "state": {
       "visibility": "hidden"
      }
     },
     "f2b915f1cf994912b6e4f8497c1881e8": {
      "model_module": "@jupyter-widgets/controls",
      "model_module_version": "2.0.0",
      "model_name": "HTMLModel",
      "state": {
       "layout": "IPY_MODEL_96c9b481875c4cb78e8c8091058c4fc0",
       "style": "IPY_MODEL_83ee55e3cf8d4c389bde207d94f054af",
       "value": " 4/4 [00:31&lt;00:00,  7.96s/it]"
      }
     },
     "f2bc951a540e4139896365acd018b19c": {
      "model_module": "@jupyter-widgets/base",
      "model_module_version": "2.0.0",
      "model_name": "LayoutModel",
      "state": {}
     },
     "f2c0eb062b2e44cbbcada6098f28ffa7": {
      "model_module": "@jupyter-widgets/controls",
      "model_module_version": "2.0.0",
      "model_name": "ProgressStyleModel",
      "state": {
       "description_width": ""
      }
     },
     "f2cc446450004d2f8190482ec5d95f3b": {
      "model_module": "@jupyter-widgets/controls",
      "model_module_version": "2.0.0",
      "model_name": "HTMLStyleModel",
      "state": {
       "description_width": "",
       "font_size": null,
       "text_color": null
      }
     },
     "f3019bc01246447188c77bad9a0aa76f": {
      "model_module": "@jupyter-widgets/controls",
      "model_module_version": "2.0.0",
      "model_name": "HTMLModel",
      "state": {
       "layout": "IPY_MODEL_f8a2281c60aa4b44bac4a943703d44d2",
       "style": "IPY_MODEL_8892950e935e42e98f611f598f09ebb9",
       "value": "Scanning for nodes...: 100%"
      }
     },
     "f32727c635e640579345ab216853b47f": {
      "model_module": "@jupyter-widgets/controls",
      "model_module_version": "2.0.0",
      "model_name": "HTMLModel",
      "state": {
       "layout": "IPY_MODEL_9b5c2728c85e4d1996b13f8a7e7cd407",
       "style": "IPY_MODEL_fd283f2af9bd4e698ddae8b1317c4656",
       "value": "hook.frame__tpch__orders: nodes...: 100%"
      }
     },
     "f336b8d483ef446482816224215b5d5a": {
      "model_module": "@jupyter-widgets/controls",
      "model_module_version": "2.0.0",
      "model_name": "HBoxModel",
      "state": {
       "children": [
        "IPY_MODEL_24199f4002ce4b8f8b6c98e15e63559b",
        "IPY_MODEL_57ee65967b6c4444ab5fa98ee480d67e",
        "IPY_MODEL_af0af6d948c0482f8eab8dd4d5150eb9"
       ],
       "layout": "IPY_MODEL_6495efb4994446a2ae6840a0df1c6b62"
      }
     },
     "f3475bcf6669465e9127c4157ad377d7": {
      "model_module": "@jupyter-widgets/base",
      "model_module_version": "2.0.0",
      "model_name": "LayoutModel",
      "state": {}
     },
     "f3529c1b3d8f4f88af50ecf11a94250b": {
      "model_module": "@jupyter-widgets/controls",
      "model_module_version": "2.0.0",
      "model_name": "HTMLModel",
      "state": {
       "layout": "IPY_MODEL_a8dd37f9246c404dafe8ae1e4cd8f17d",
       "style": "IPY_MODEL_44fc52644d8d4400bc7fc949d1c311c1",
       "value": "Scanning for nodes...: 100%"
      }
     },
     "f371f44ece2844f5877e52511a13c8bd": {
      "model_module": "@jupyter-widgets/base",
      "model_module_version": "2.0.0",
      "model_name": "LayoutModel",
      "state": {
       "visibility": "hidden"
      }
     },
     "f37fc4f4c03f4c5ba2255f91e2988888": {
      "model_module": "@jupyter-widgets/controls",
      "model_module_version": "2.0.0",
      "model_name": "HBoxModel",
      "state": {
       "children": [
        "IPY_MODEL_f2a9296d10ec4fab85149ad3fa457695",
        "IPY_MODEL_a9ad0047ddcb463eaf15c294e3f7d97b",
        "IPY_MODEL_6cca712368494efc81b22ca400dc2cdf"
       ],
       "layout": "IPY_MODEL_f54fb9d4c3e64659b1888d90ef0410eb"
      }
     },
     "f3883710b32645669e1c0fb2679cd73a": {
      "model_module": "@jupyter-widgets/controls",
      "model_module_version": "2.0.0",
      "model_name": "ProgressStyleModel",
      "state": {
       "description_width": ""
      }
     },
     "f399c57a71dc45e59710f102542d2d98": {
      "model_module": "@jupyter-widgets/base",
      "model_module_version": "2.0.0",
      "model_name": "LayoutModel",
      "state": {}
     },
     "f3b3599a1feb49f4a1aec75608ec5dab": {
      "model_module": "@jupyter-widgets/controls",
      "model_module_version": "2.0.0",
      "model_name": "HTMLModel",
      "state": {
       "layout": "IPY_MODEL_6685e0b11b814427a906835b8ea81d6f",
       "style": "IPY_MODEL_8abb27fbde3641f5ad911947f2a1f2f5",
       "value": "hook.frame__tpch__customer: 100%"
      }
     },
     "f3d47a9df91049e9825057ea2e9b38b7": {
      "model_module": "@jupyter-widgets/controls",
      "model_module_version": "2.0.0",
      "model_name": "HTMLModel",
      "state": {
       "layout": "IPY_MODEL_c9bc061435fb4656a63964f206ea6030",
       "style": "IPY_MODEL_38bb248faa4a4f3697eb8f3135e1f619",
       "value": " 2/2 [00:31&lt;00:00, 15.55s/it]"
      }
     },
     "f4129f93d4fb4346a675efa2eb40090b": {
      "model_module": "@jupyter-widgets/controls",
      "model_module_version": "2.0.0",
      "model_name": "HTMLModel",
      "state": {
       "layout": "IPY_MODEL_cc7d7f84a55a45a1811b908da91d1583",
       "style": "IPY_MODEL_99d6bf1e589d4284a57fc0cd09eb57d6",
       "value": " 2/2 [00:07&lt;00:00,  3.51s/it]"
      }
     },
     "f4236302cb4c4d1ea96201a55698307c": {
      "model_module": "@jupyter-widgets/base",
      "model_module_version": "2.0.0",
      "model_name": "LayoutModel",
      "state": {}
     },
     "f4414bdf20614b1bb7ff891a174205e3": {
      "model_module": "@jupyter-widgets/controls",
      "model_module_version": "2.0.0",
      "model_name": "HBoxModel",
      "state": {
       "children": [
        "IPY_MODEL_e3113e7d484945a39824f53aa6ed4027",
        "IPY_MODEL_e2eebc43d0b541d3aab9593c11e8f06f",
        "IPY_MODEL_ca62495de361434ab33dabe935931815"
       ],
       "layout": "IPY_MODEL_bca9d5d385a84ee0aec160c5f75921cd"
      }
     },
     "f475c7ac87c24bbcbe5b518e6d2b61e6": {
      "model_module": "@jupyter-widgets/base",
      "model_module_version": "2.0.0",
      "model_name": "LayoutModel",
      "state": {
       "visibility": "hidden"
      }
     },
     "f4a411d8b3df4aee92047744d351a8dd": {
      "model_module": "@jupyter-widgets/base",
      "model_module_version": "2.0.0",
      "model_name": "LayoutModel",
      "state": {
       "visibility": "hidden"
      }
     },
     "f4bf58af33704f89bbede92d93665097": {
      "model_module": "@jupyter-widgets/controls",
      "model_module_version": "2.0.0",
      "model_name": "HTMLModel",
      "state": {
       "layout": "IPY_MODEL_db37ffcfc09847f9a6082e01a53b8b61",
       "style": "IPY_MODEL_164d8fe331ba41d1b663d8812e3088b2",
       "value": "hook.frame__tpch__part: nodes...: 100%"
      }
     },
     "f4cce909534d42ba8afd96ca57ce3925": {
      "model_module": "@jupyter-widgets/controls",
      "model_module_version": "2.0.0",
      "model_name": "HTMLStyleModel",
      "state": {
       "description_width": "",
       "font_size": null,
       "text_color": null
      }
     },
     "f4d051d010c2417486e5d32822f8e376": {
      "model_module": "@jupyter-widgets/controls",
      "model_module_version": "2.0.0",
      "model_name": "HTMLModel",
      "state": {
       "layout": "IPY_MODEL_a651fec9761b4fd58d63837d05fcaf15",
       "style": "IPY_MODEL_c09389e6880a4bfca4539391913a4c74",
       "value": " 2/2 [00:01&lt;00:00,  1.69it/s]"
      }
     },
     "f4ee1936112d463eb8c87d797b48bf64": {
      "model_module": "@jupyter-widgets/controls",
      "model_module_version": "2.0.0",
      "model_name": "HBoxModel",
      "state": {
       "children": [
        "IPY_MODEL_32d78904fe5e4a66bed4d8bd1722a507",
        "IPY_MODEL_865999294240429694b2cc9f96c35286",
        "IPY_MODEL_7ce60418c33c477c8687b701d9a8277b"
       ],
       "layout": "IPY_MODEL_9b17272da555446aba730b144c201d25"
      }
     },
     "f4f6aa6524c04c338157d29bd4965538": {
      "model_module": "@jupyter-widgets/base",
      "model_module_version": "2.0.0",
      "model_name": "LayoutModel",
      "state": {}
     },
     "f526ed1de6224a25a0452d74da7e1303": {
      "model_module": "@jupyter-widgets/base",
      "model_module_version": "2.0.0",
      "model_name": "LayoutModel",
      "state": {
       "visibility": "hidden"
      }
     },
     "f528d9498be44c13aa292b5dc409ed64": {
      "model_module": "@jupyter-widgets/base",
      "model_module_version": "2.0.0",
      "model_name": "LayoutModel",
      "state": {
       "visibility": "hidden"
      }
     },
     "f530d4581cdd4f419b7abce0dedbf4e6": {
      "model_module": "@jupyter-widgets/controls",
      "model_module_version": "2.0.0",
      "model_name": "FloatProgressModel",
      "state": {
       "layout": "IPY_MODEL_49a51d9310084770af58ca281b358a47",
       "max": 4,
       "style": "IPY_MODEL_66ee75e8b4924055911b08ec7c700bb6",
       "value": 4
      }
     },
     "f541efbda7c04009acfa81342bce37a5": {
      "model_module": "@jupyter-widgets/base",
      "model_module_version": "2.0.0",
      "model_name": "LayoutModel",
      "state": {}
     },
     "f5471a72229c47d295e7a7667bc8676b": {
      "model_module": "@jupyter-widgets/controls",
      "model_module_version": "2.0.0",
      "model_name": "HTMLStyleModel",
      "state": {
       "description_width": "",
       "font_size": null,
       "text_color": null
      }
     },
     "f54f507322954bcbac3a30377fe164b3": {
      "model_module": "@jupyter-widgets/base",
      "model_module_version": "2.0.0",
      "model_name": "LayoutModel",
      "state": {}
     },
     "f54fb9d4c3e64659b1888d90ef0410eb": {
      "model_module": "@jupyter-widgets/base",
      "model_module_version": "2.0.0",
      "model_name": "LayoutModel",
      "state": {
       "visibility": "hidden"
      }
     },
     "f55097138ee14be28ea182735b18e412": {
      "model_module": "@jupyter-widgets/base",
      "model_module_version": "2.0.0",
      "model_name": "LayoutModel",
      "state": {}
     },
     "f5570b6ebd804b55923730626e9d8f0c": {
      "model_module": "@jupyter-widgets/controls",
      "model_module_version": "2.0.0",
      "model_name": "ProgressStyleModel",
      "state": {
       "description_width": ""
      }
     },
     "f5599ee92abd44b990a427bc198df47d": {
      "model_module": "@jupyter-widgets/controls",
      "model_module_version": "2.0.0",
      "model_name": "HTMLStyleModel",
      "state": {
       "description_width": "",
       "font_size": null,
       "text_color": null
      }
     },
     "f55aa2ee44d247abb3c39a103a96cd03": {
      "model_module": "@jupyter-widgets/base",
      "model_module_version": "2.0.0",
      "model_name": "LayoutModel",
      "state": {}
     },
     "f56feabc12f6454c98428167adb45154": {
      "model_module": "@jupyter-widgets/controls",
      "model_module_version": "2.0.0",
      "model_name": "ProgressStyleModel",
      "state": {
       "description_width": ""
      }
     },
     "f58a6b73061d430289100abf170aa420": {
      "model_module": "@jupyter-widgets/base",
      "model_module_version": "2.0.0",
      "model_name": "LayoutModel",
      "state": {}
     },
     "f5a0736b2fb0435fb8a634f97f1496d2": {
      "model_module": "@jupyter-widgets/controls",
      "model_module_version": "2.0.0",
      "model_name": "ProgressStyleModel",
      "state": {
       "description_width": ""
      }
     },
     "f5d5de7a3114423faf2a295f56bec138": {
      "model_module": "@jupyter-widgets/base",
      "model_module_version": "2.0.0",
      "model_name": "LayoutModel",
      "state": {}
     },
     "f5dc49b141624d558955bfac6eb31e85": {
      "model_module": "@jupyter-widgets/base",
      "model_module_version": "2.0.0",
      "model_name": "LayoutModel",
      "state": {}
     },
     "f5f7003d3bff4412b94097e8433cc463": {
      "model_module": "@jupyter-widgets/controls",
      "model_module_version": "2.0.0",
      "model_name": "HTMLStyleModel",
      "state": {
       "description_width": "",
       "font_size": null,
       "text_color": null
      }
     },
     "f620b124e118491ba4974ee19cf9508d": {
      "model_module": "@jupyter-widgets/controls",
      "model_module_version": "2.0.0",
      "model_name": "HTMLModel",
      "state": {
       "layout": "IPY_MODEL_4b31ff17b8374d829788d20397496c8b",
       "style": "IPY_MODEL_16671f4c8fe040408b370281269591bb",
       "value": "Scanning hook.frame__tpch__customer:  50%"
      }
     },
     "f66b0ae981db4c0b81e6f7dba1216f20": {
      "model_module": "@jupyter-widgets/controls",
      "model_module_version": "2.0.0",
      "model_name": "HTMLModel",
      "state": {
       "layout": "IPY_MODEL_61bb8ac2cbf143ab88abcca4cbc1da00",
       "style": "IPY_MODEL_0ba1302e61fe4bbba731335fca905454",
       "value": "hook.frame__tpch__customer: edges...: 100%"
      }
     },
     "f6a347b855a54c24be109611a30845be": {
      "model_module": "@jupyter-widgets/base",
      "model_module_version": "2.0.0",
      "model_name": "LayoutModel",
      "state": {}
     },
     "f6d17d094cfb44249ba9cb1fce591799": {
      "model_module": "@jupyter-widgets/controls",
      "model_module_version": "2.0.0",
      "model_name": "ProgressStyleModel",
      "state": {
       "description_width": ""
      }
     },
     "f6dbb6b0012b4d68b04a5d733508ecdf": {
      "model_module": "@jupyter-widgets/controls",
      "model_module_version": "2.0.0",
      "model_name": "HTMLModel",
      "state": {
       "layout": "IPY_MODEL_92d4cbd2a5d5487e871211c07af84d07",
       "style": "IPY_MODEL_13efcff82e3e4e40bf8eff67ae4653a9",
       "value": "Scanning for edges...:   0%"
      }
     },
     "f740cfaf0ac94670a5df2c0bddf16251": {
      "model_module": "@jupyter-widgets/controls",
      "model_module_version": "2.0.0",
      "model_name": "FloatProgressModel",
      "state": {
       "bar_style": "success",
       "layout": "IPY_MODEL_b9ab3fa42a3b4381bcd1d1ff71915650",
       "max": 1,
       "style": "IPY_MODEL_5ad689afba47445eb16398156ae113a9",
       "value": 1
      }
     },
     "f7469d4869a94d05a08599868f6024b2": {
      "model_module": "@jupyter-widgets/base",
      "model_module_version": "2.0.0",
      "model_name": "LayoutModel",
      "state": {}
     },
     "f75dd5995a374cbf88e8792983a1d49f": {
      "model_module": "@jupyter-widgets/controls",
      "model_module_version": "2.0.0",
      "model_name": "ProgressStyleModel",
      "state": {
       "description_width": ""
      }
     },
     "f790a1b82386455b9f28aa5d2c474f42": {
      "model_module": "@jupyter-widgets/controls",
      "model_module_version": "2.0.0",
      "model_name": "FloatProgressModel",
      "state": {
       "bar_style": "danger",
       "layout": "IPY_MODEL_dde217353dde47f0a76f1aa20af35924",
       "max": 8,
       "style": "IPY_MODEL_aa732a2114c74d33939f92b48b249c04",
       "value": 3
      }
     },
     "f7916e20139a4323b7ca5f7082ba989c": {
      "model_module": "@jupyter-widgets/controls",
      "model_module_version": "2.0.0",
      "model_name": "HTMLStyleModel",
      "state": {
       "description_width": "",
       "font_size": null,
       "text_color": null
      }
     },
     "f7bc147c6a57428d94ee361aa11d2cf5": {
      "model_module": "@jupyter-widgets/base",
      "model_module_version": "2.0.0",
      "model_name": "LayoutModel",
      "state": {}
     },
     "f7e548c0be5c4004a09ae645a2f41293": {
      "model_module": "@jupyter-widgets/base",
      "model_module_version": "2.0.0",
      "model_name": "LayoutModel",
      "state": {}
     },
     "f7f32ec15a0f4fe6aa05b78c3fbcc471": {
      "model_module": "@jupyter-widgets/controls",
      "model_module_version": "2.0.0",
      "model_name": "HTMLStyleModel",
      "state": {
       "description_width": "",
       "font_size": null,
       "text_color": null
      }
     },
     "f810c47e38fa4a96b83d45f18f6cab1f": {
      "model_module": "@jupyter-widgets/base",
      "model_module_version": "2.0.0",
      "model_name": "LayoutModel",
      "state": {}
     },
     "f825ee70838144f98c6a701c6b4b3d94": {
      "model_module": "@jupyter-widgets/controls",
      "model_module_version": "2.0.0",
      "model_name": "HTMLStyleModel",
      "state": {
       "description_width": "",
       "font_size": null,
       "text_color": null
      }
     },
     "f82a328ae9de4fbea05d2d9334ccedae": {
      "model_module": "@jupyter-widgets/controls",
      "model_module_version": "2.0.0",
      "model_name": "ProgressStyleModel",
      "state": {
       "description_width": ""
      }
     },
     "f853b1e9426e4f5baa884a2c38a0f23d": {
      "model_module": "@jupyter-widgets/controls",
      "model_module_version": "2.0.0",
      "model_name": "HTMLModel",
      "state": {
       "layout": "IPY_MODEL_349e4822b2a24a3cafe9d1214a2aea78",
       "style": "IPY_MODEL_8fb26d4cc2894d8ca2240acd04e62377",
       "value": " 2/2 [00:06&lt;00:00,  3.20s/it]"
      }
     },
     "f874f9ead76048cca561f229b9b25a21": {
      "model_module": "@jupyter-widgets/controls",
      "model_module_version": "2.0.0",
      "model_name": "HTMLModel",
      "state": {
       "layout": "IPY_MODEL_e1c0238e8deb4c7eb0bb5d7418c90042",
       "style": "IPY_MODEL_4730c9ba50014111b8a85670e018ed8e",
       "value": "Scanning for nodes...:  50%"
      }
     },
     "f8a2281c60aa4b44bac4a943703d44d2": {
      "model_module": "@jupyter-widgets/base",
      "model_module_version": "2.0.0",
      "model_name": "LayoutModel",
      "state": {}
     },
     "f8bb4e78a95f44e890588ead6a169c37": {
      "model_module": "@jupyter-widgets/base",
      "model_module_version": "2.0.0",
      "model_name": "LayoutModel",
      "state": {}
     },
     "f8d284a509ce4f1f83bde300b863c5ab": {
      "model_module": "@jupyter-widgets/base",
      "model_module_version": "2.0.0",
      "model_name": "LayoutModel",
      "state": {
       "visibility": "hidden"
      }
     },
     "f8e571c6373c49f6b100103bada65a6c": {
      "model_module": "@jupyter-widgets/controls",
      "model_module_version": "2.0.0",
      "model_name": "HTMLStyleModel",
      "state": {
       "description_width": "",
       "font_size": null,
       "text_color": null
      }
     },
     "f907282f8d714b13a51516868d55394b": {
      "model_module": "@jupyter-widgets/controls",
      "model_module_version": "2.0.0",
      "model_name": "HTMLModel",
      "state": {
       "layout": "IPY_MODEL_2e0ef5e7c03a4859947d2edae9099fdb",
       "style": "IPY_MODEL_354f909fafa54e41a712850ac0b669a5",
       "value": " 2/2 [00:06&lt;00:00,  3.14s/it]"
      }
     },
     "f919d8697ba6409e8d13fc3396ca96ee": {
      "model_module": "@jupyter-widgets/base",
      "model_module_version": "2.0.0",
      "model_name": "LayoutModel",
      "state": {}
     },
     "f942afad034e49d0918ea934d7cbdbdc": {
      "model_module": "@jupyter-widgets/base",
      "model_module_version": "2.0.0",
      "model_name": "LayoutModel",
      "state": {}
     },
     "f9493658c0154a7d9028f9eaabad5a36": {
      "model_module": "@jupyter-widgets/controls",
      "model_module_version": "2.0.0",
      "model_name": "HTMLModel",
      "state": {
       "layout": "IPY_MODEL_82d8c120e6824e66975b44c1bded555b",
       "style": "IPY_MODEL_fec26eca687b4f26ad1aca575b16c73a",
       "value": "hook.frame__tpch__lineitem:   0%"
      }
     },
     "f959264dccd241d687f94002b8476cc3": {
      "model_module": "@jupyter-widgets/controls",
      "model_module_version": "2.0.0",
      "model_name": "HTMLModel",
      "state": {
       "layout": "IPY_MODEL_4be0ab266a374895b7ed15913c48136c",
       "style": "IPY_MODEL_db3d5731c90544578a4d2fc0d0369266",
       "value": "Scanning for nodes...: 100%"
      }
     },
     "f98cb8dd32be46f0a6650ebe5101b848": {
      "model_module": "@jupyter-widgets/controls",
      "model_module_version": "2.0.0",
      "model_name": "ProgressStyleModel",
      "state": {
       "description_width": ""
      }
     },
     "f99b872a57f3434fafd45969465756d4": {
      "model_module": "@jupyter-widgets/base",
      "model_module_version": "2.0.0",
      "model_name": "LayoutModel",
      "state": {}
     },
     "f9c36aed219a413786dbb03881907048": {
      "model_module": "@jupyter-widgets/base",
      "model_module_version": "2.0.0",
      "model_name": "LayoutModel",
      "state": {}
     },
     "f9d52198b3df4b6c9695ffc2782dbb60": {
      "model_module": "@jupyter-widgets/controls",
      "model_module_version": "2.0.0",
      "model_name": "ProgressStyleModel",
      "state": {
       "description_width": ""
      }
     },
     "f9f9df0c317b4c239aff2b5a60f85c9c": {
      "model_module": "@jupyter-widgets/controls",
      "model_module_version": "2.0.0",
      "model_name": "FloatProgressModel",
      "state": {
       "layout": "IPY_MODEL_d1f6f6d1d3434a7cb9f1b7769e402d09",
       "max": 4,
       "style": "IPY_MODEL_0d47b4a85b4d40118dd34c2d36a2f326",
       "value": 4
      }
     },
     "f9fead8f2ade47a8a3a4ef7089e2cc43": {
      "model_module": "@jupyter-widgets/base",
      "model_module_version": "2.0.0",
      "model_name": "LayoutModel",
      "state": {}
     },
     "fa2b3e47e55246429e6795d6527eb1f1": {
      "model_module": "@jupyter-widgets/controls",
      "model_module_version": "2.0.0",
      "model_name": "ProgressStyleModel",
      "state": {
       "description_width": ""
      }
     },
     "fa4f493945824025bc44686927e296d3": {
      "model_module": "@jupyter-widgets/base",
      "model_module_version": "2.0.0",
      "model_name": "LayoutModel",
      "state": {}
     },
     "fa5386b283cc4fc3a739065d74a3c2e8": {
      "model_module": "@jupyter-widgets/base",
      "model_module_version": "2.0.0",
      "model_name": "LayoutModel",
      "state": {}
     },
     "fa5831168e034100bebc35555f674975": {
      "model_module": "@jupyter-widgets/base",
      "model_module_version": "2.0.0",
      "model_name": "LayoutModel",
      "state": {}
     },
     "fa7cdabde92049c7b25697eb29dbaaef": {
      "model_module": "@jupyter-widgets/controls",
      "model_module_version": "2.0.0",
      "model_name": "HTMLStyleModel",
      "state": {
       "description_width": "",
       "font_size": null,
       "text_color": null
      }
     },
     "fab3e9e7f29c4dbc8124a90cf3e52300": {
      "model_module": "@jupyter-widgets/base",
      "model_module_version": "2.0.0",
      "model_name": "LayoutModel",
      "state": {}
     },
     "fad346eff62a4699a6b97e1cf0d92299": {
      "model_module": "@jupyter-widgets/controls",
      "model_module_version": "2.0.0",
      "model_name": "HTMLStyleModel",
      "state": {
       "description_width": "",
       "font_size": null,
       "text_color": null
      }
     },
     "fadb57d2bb9b49f3aa325f76924daa99": {
      "model_module": "@jupyter-widgets/controls",
      "model_module_version": "2.0.0",
      "model_name": "HBoxModel",
      "state": {
       "children": [
        "IPY_MODEL_92e08c7954db4050834174272728edfc",
        "IPY_MODEL_56c61b726b664179a08416a0c0473b02",
        "IPY_MODEL_3000f87c8cd64de0b0e094d67455aa42"
       ],
       "layout": "IPY_MODEL_c43bcfea6706437a961d6b3acecb083f"
      }
     },
     "fae11f4206864d2abb221b01035683e6": {
      "model_module": "@jupyter-widgets/controls",
      "model_module_version": "2.0.0",
      "model_name": "HTMLModel",
      "state": {
       "layout": "IPY_MODEL_352c71136ffe4ba78fc69ad5c3928197",
       "style": "IPY_MODEL_4e6fcf77fea94532a71ca163c5bee79f",
       "value": "Scanning for edges...: 100%"
      }
     },
     "faf8c8cb7d0042bab51cc6b9ba8d1817": {
      "model_module": "@jupyter-widgets/base",
      "model_module_version": "2.0.0",
      "model_name": "LayoutModel",
      "state": {}
     },
     "fb06d84ba518493da827c7bd9b7bfe1e": {
      "model_module": "@jupyter-widgets/base",
      "model_module_version": "2.0.0",
      "model_name": "LayoutModel",
      "state": {}
     },
     "fb246020ae594f88aeed527a79348700": {
      "model_module": "@jupyter-widgets/controls",
      "model_module_version": "2.0.0",
      "model_name": "HTMLStyleModel",
      "state": {
       "description_width": "",
       "font_size": null,
       "text_color": null
      }
     },
     "fb3e59f4b29d43aca26fb3b18a8eb7c9": {
      "model_module": "@jupyter-widgets/base",
      "model_module_version": "2.0.0",
      "model_name": "LayoutModel",
      "state": {}
     },
     "fb3ff4e441b0465ea2b915ba980ed02d": {
      "model_module": "@jupyter-widgets/base",
      "model_module_version": "2.0.0",
      "model_name": "LayoutModel",
      "state": {}
     },
     "fb507dc43387467cbf5753c15c8fa071": {
      "model_module": "@jupyter-widgets/base",
      "model_module_version": "2.0.0",
      "model_name": "LayoutModel",
      "state": {}
     },
     "fb621e1d0ba14d14a32e04e9e9936163": {
      "model_module": "@jupyter-widgets/controls",
      "model_module_version": "2.0.0",
      "model_name": "HTMLStyleModel",
      "state": {
       "description_width": "",
       "font_size": null,
       "text_color": null
      }
     },
     "fb70bdb5396a4389a62c9a9cf608e770": {
      "model_module": "@jupyter-widgets/base",
      "model_module_version": "2.0.0",
      "model_name": "LayoutModel",
      "state": {}
     },
     "fb770fcdccb5472a82a947a2c0ad73e5": {
      "model_module": "@jupyter-widgets/controls",
      "model_module_version": "2.0.0",
      "model_name": "HBoxModel",
      "state": {
       "children": [
        "IPY_MODEL_4196a3786a3f443081671b5cb69dd721",
        "IPY_MODEL_8f77709c23ac4990aaee4226d4ccc455",
        "IPY_MODEL_c408cded6d7246d78d10eecffdbd8184"
       ],
       "layout": "IPY_MODEL_56ca2900c3c74bb8adab375612f70612"
      }
     },
     "fb87d40663924ce58023e538616c57b3": {
      "model_module": "@jupyter-widgets/controls",
      "model_module_version": "2.0.0",
      "model_name": "ProgressStyleModel",
      "state": {
       "description_width": ""
      }
     },
     "fb91f72d2ef245f2933f68e3584030e9": {
      "model_module": "@jupyter-widgets/base",
      "model_module_version": "2.0.0",
      "model_name": "LayoutModel",
      "state": {}
     },
     "fbd5fbec4e134f9893ba874a83002741": {
      "model_module": "@jupyter-widgets/controls",
      "model_module_version": "2.0.0",
      "model_name": "HBoxModel",
      "state": {
       "children": [
        "IPY_MODEL_1c716008972b4fe28ddf30414292476f",
        "IPY_MODEL_54a28fc7e14f4fa5812fe05da0d85e81",
        "IPY_MODEL_d2b5bf29d71f4d8498721b5e26329efd"
       ],
       "layout": "IPY_MODEL_cc0298eacfb8454c8b480e2cbb4fec94"
      }
     },
     "fbfea17f7d4e481ea9b3f57d3a41bfa8": {
      "model_module": "@jupyter-widgets/base",
      "model_module_version": "2.0.0",
      "model_name": "LayoutModel",
      "state": {}
     },
     "fc9bfba8001f438d9e3a219ae3c85573": {
      "model_module": "@jupyter-widgets/base",
      "model_module_version": "2.0.0",
      "model_name": "LayoutModel",
      "state": {}
     },
     "fcb0e2b399e44171802097f231ece1e6": {
      "model_module": "@jupyter-widgets/base",
      "model_module_version": "2.0.0",
      "model_name": "LayoutModel",
      "state": {}
     },
     "fcb91d6af4ee4c0293267ec8d1dc0bdc": {
      "model_module": "@jupyter-widgets/base",
      "model_module_version": "2.0.0",
      "model_name": "LayoutModel",
      "state": {}
     },
     "fd0268e9113042c4a581e79862e7c56b": {
      "model_module": "@jupyter-widgets/controls",
      "model_module_version": "2.0.0",
      "model_name": "HTMLStyleModel",
      "state": {
       "description_width": "",
       "font_size": null,
       "text_color": null
      }
     },
     "fd283f2af9bd4e698ddae8b1317c4656": {
      "model_module": "@jupyter-widgets/controls",
      "model_module_version": "2.0.0",
      "model_name": "HTMLStyleModel",
      "state": {
       "description_width": "",
       "font_size": null,
       "text_color": null
      }
     },
     "fd3526e471304031ac1a15992afcc885": {
      "model_module": "@jupyter-widgets/controls",
      "model_module_version": "2.0.0",
      "model_name": "HTMLStyleModel",
      "state": {
       "description_width": "",
       "font_size": null,
       "text_color": null
      }
     },
     "fd408599bea942b0a2fca9d0a2f5ea5b": {
      "model_module": "@jupyter-widgets/controls",
      "model_module_version": "2.0.0",
      "model_name": "HTMLStyleModel",
      "state": {
       "description_width": "",
       "font_size": null,
       "text_color": null
      }
     },
     "fd62498c2c024dfaa4a53ea2c155820a": {
      "model_module": "@jupyter-widgets/controls",
      "model_module_version": "2.0.0",
      "model_name": "HTMLModel",
      "state": {
       "layout": "IPY_MODEL_355521775ef14f54969228b85afd9e0c",
       "style": "IPY_MODEL_f5471a72229c47d295e7a7667bc8676b",
       "value": " 2/2 [00:06&lt;00:00,  3.14s/it]"
      }
     },
     "fd7d8413b06841c397e8d0cc122a231e": {
      "model_module": "@jupyter-widgets/controls",
      "model_module_version": "2.0.0",
      "model_name": "HBoxModel",
      "state": {
       "children": [
        "IPY_MODEL_6f9b16db3b5740f0b31b90af383d9796",
        "IPY_MODEL_df3510d9301b433497255404c40e4890",
        "IPY_MODEL_edcc5f038ca644b29b2b6e1a543c9d64"
       ],
       "layout": "IPY_MODEL_24fa856e726444b99db7acf88f20263d"
      }
     },
     "fdabacb656d443598a53d523fb34fb4f": {
      "model_module": "@jupyter-widgets/controls",
      "model_module_version": "2.0.0",
      "model_name": "HTMLStyleModel",
      "state": {
       "description_width": "",
       "font_size": null,
       "text_color": null
      }
     },
     "fdeed3494bd74fb6aab1fa41acbc4ef1": {
      "model_module": "@jupyter-widgets/base",
      "model_module_version": "2.0.0",
      "model_name": "LayoutModel",
      "state": {}
     },
     "fe2085c239804d3884b29bce69610816": {
      "model_module": "@jupyter-widgets/base",
      "model_module_version": "2.0.0",
      "model_name": "LayoutModel",
      "state": {}
     },
     "fe373a22a0f34f339c9eb51143d65581": {
      "model_module": "@jupyter-widgets/base",
      "model_module_version": "2.0.0",
      "model_name": "LayoutModel",
      "state": {}
     },
     "fe3806bd485541f3aeee3c195cd6e248": {
      "model_module": "@jupyter-widgets/controls",
      "model_module_version": "2.0.0",
      "model_name": "HTMLModel",
      "state": {
       "layout": "IPY_MODEL_436799f4808a4f88b138bca053c36dfa",
       "style": "IPY_MODEL_0a005278da6e47ffac264af1dd22d30e",
       "value": " 0/3 [00:00&lt;?, ?it/s]"
      }
     },
     "fe3c849c64f44502aba9a930f8102a0e": {
      "model_module": "@jupyter-widgets/controls",
      "model_module_version": "2.0.0",
      "model_name": "FloatProgressModel",
      "state": {
       "bar_style": "danger",
       "layout": "IPY_MODEL_3c3cb7406c3145e9bf4a74461c912b27",
       "max": 8,
       "style": "IPY_MODEL_19def831413d4d8b8fb7268ce8eb7cd3",
       "value": 1
      }
     },
     "fe51255632df408298745c50b068af6d": {
      "model_module": "@jupyter-widgets/controls",
      "model_module_version": "2.0.0",
      "model_name": "FloatProgressModel",
      "state": {
       "layout": "IPY_MODEL_c65f250761944051ae223445f09cb875",
       "max": 1,
       "style": "IPY_MODEL_046cfba4f6b44039978a46e41f5d5297",
       "value": 1
      }
     },
     "fe54513485fc42a7bbbd902f64adca90": {
      "model_module": "@jupyter-widgets/controls",
      "model_module_version": "2.0.0",
      "model_name": "HTMLModel",
      "state": {
       "layout": "IPY_MODEL_97c2e125b9754f2ca3759befe2552bdf",
       "style": "IPY_MODEL_9c15d5e4f585408b82c8208510e20968",
       "value": "Scanning for nodes...: 100%"
      }
     },
     "fe659c1d34134b9090a9d352a5d36dd7": {
      "model_module": "@jupyter-widgets/base",
      "model_module_version": "2.0.0",
      "model_name": "LayoutModel",
      "state": {
       "visibility": "hidden"
      }
     },
     "fe7dc07da681435884ad30c50feb5495": {
      "model_module": "@jupyter-widgets/base",
      "model_module_version": "2.0.0",
      "model_name": "LayoutModel",
      "state": {}
     },
     "fe87d3af48df4c02b368bcf05c5b3fcf": {
      "model_module": "@jupyter-widgets/controls",
      "model_module_version": "2.0.0",
      "model_name": "HTMLStyleModel",
      "state": {
       "description_width": "",
       "font_size": null,
       "text_color": null
      }
     },
     "feab1b98e50f4d84abc570757b7339ef": {
      "model_module": "@jupyter-widgets/base",
      "model_module_version": "2.0.0",
      "model_name": "LayoutModel",
      "state": {}
     },
     "fec26eca687b4f26ad1aca575b16c73a": {
      "model_module": "@jupyter-widgets/controls",
      "model_module_version": "2.0.0",
      "model_name": "HTMLStyleModel",
      "state": {
       "description_width": "",
       "font_size": null,
       "text_color": null
      }
     },
     "fed8df60a0c342128175ba4974253d82": {
      "model_module": "@jupyter-widgets/base",
      "model_module_version": "2.0.0",
      "model_name": "LayoutModel",
      "state": {}
     },
     "fef19ca358644ccdab68eebc0c9d007a": {
      "model_module": "@jupyter-widgets/controls",
      "model_module_version": "2.0.0",
      "model_name": "HTMLModel",
      "state": {
       "layout": "IPY_MODEL_00367132200c4fb3ac7969256bce000c",
       "style": "IPY_MODEL_37e9c3519476419286c7d32a9c3ccf1e",
       "value": "Scanning for nodes...: 100%"
      }
     },
     "ff11f140f0594b7dbebd2046da5a6ab8": {
      "model_module": "@jupyter-widgets/controls",
      "model_module_version": "2.0.0",
      "model_name": "HTMLModel",
      "state": {
       "layout": "IPY_MODEL_9d3ce2c73056467e9a56f4aaf7ebd146",
       "style": "IPY_MODEL_97a8573ac26d4e569c6f29f5a72de0a2",
       "value": " 3/3 [00:00&lt;00:00, 459.47it/s]"
      }
     },
     "ff3e679c50e946ad821bd8a5e66487fa": {
      "model_module": "@jupyter-widgets/controls",
      "model_module_version": "2.0.0",
      "model_name": "HTMLModel",
      "state": {
       "layout": "IPY_MODEL_658dac230eb043019bc66e41e1b7fd5f",
       "style": "IPY_MODEL_e45f7789622e4eccbeb72662a3ee9efc",
       "value": " 0/6 [00:00&lt;?, ?it/s]"
      }
     },
     "ff5b8ddddcee40a58613e72877a46d9d": {
      "model_module": "@jupyter-widgets/controls",
      "model_module_version": "2.0.0",
      "model_name": "ProgressStyleModel",
      "state": {
       "description_width": ""
      }
     },
     "ff7535c9feb946869bdda313e5fefacd": {
      "model_module": "@jupyter-widgets/controls",
      "model_module_version": "2.0.0",
      "model_name": "HBoxModel",
      "state": {
       "children": [
        "IPY_MODEL_f3529c1b3d8f4f88af50ecf11a94250b",
        "IPY_MODEL_4a20bb527c984888bc3f2554e1a0eb1a",
        "IPY_MODEL_020704612a6b43c1883f9489c12d1a77"
       ],
       "layout": "IPY_MODEL_95229f4c408848f580ab626505244b9c"
      }
     },
     "ffa9663fb9b548d7b56873b6903e5562": {
      "model_module": "@jupyter-widgets/controls",
      "model_module_version": "2.0.0",
      "model_name": "ProgressStyleModel",
      "state": {
       "description_width": ""
      }
     },
     "ffb1de2b9ed84506ba3e69a3fe345a15": {
      "model_module": "@jupyter-widgets/base",
      "model_module_version": "2.0.0",
      "model_name": "LayoutModel",
      "state": {}
     },
     "ffb6dc0c7105426784f7236503a16494": {
      "model_module": "@jupyter-widgets/controls",
      "model_module_version": "2.0.0",
      "model_name": "HTMLModel",
      "state": {
       "layout": "IPY_MODEL_6a9e87334d7a42ffb2ece4fb6ede3423",
       "style": "IPY_MODEL_9323f1292336453a85eead73dd443bc5",
       "value": "hook.frame__tpch__supplier: nodes...: 100%"
      }
     },
     "ffd916cde7fa4262beec886e090156c5": {
      "model_module": "@jupyter-widgets/base",
      "model_module_version": "2.0.0",
      "model_name": "LayoutModel",
      "state": {}
     },
     "fff6f04f33334497968453065961cb70": {
      "model_module": "@jupyter-widgets/base",
      "model_module_version": "2.0.0",
      "model_name": "LayoutModel",
      "state": {}
     }
    },
    "version_major": 2,
    "version_minor": 0
   }
  }
 },
 "nbformat": 4,
 "nbformat_minor": 5
}
