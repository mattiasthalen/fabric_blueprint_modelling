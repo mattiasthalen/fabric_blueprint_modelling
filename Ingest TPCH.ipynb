{
 "cells": [
  {
   "cell_type": "code",
   "execution_count": null,
   "id": "ef4c6208-b2f3-4def-960e-f9ad453994b4",
   "metadata": {
    "microsoft": {
     "language": "python",
     "language_group": "jupyter_python"
    }
   },
   "outputs": [],
   "source": [
    "import importlib.util\n",
    "import sys\n",
    "\n",
    "# Install if missing\n",
    "if importlib.util.find_spec(\"dlt\") is None:\n",
    "    %pip install -q boto3==1.40.18\n",
    "    #%pip install -q dlt[filesystem,az,deltalake]==1.17.0\n",
    "    %pip install -q \"dlt[filesystem,az,deltalake] @ git+https://github.com/dlt-hub/dlt.git@devel\"\n",
    "\n",
    "    sys.exit(0)"
   ]
  },
  {
   "cell_type": "code",
   "execution_count": null,
   "id": "e42e22f4-7709-46fb-95e1-2fe6cea9978b",
   "metadata": {
    "jupyter": {
     "outputs_hidden": false,
     "source_hidden": false
    },
    "microsoft": {
     "language": "python",
     "language_group": "jupyter_python"
    },
    "nteract": {
     "transient": {
      "deleting": false
     }
    }
   },
   "outputs": [],
   "source": [
    "import dlt\n",
    "import os\n",
    "import tqdm\n",
    "import tqdm.auto\n",
    "\n",
    "tqdm.tqdm = tqdm.auto.tqdm"
   ]
  },
  {
   "cell_type": "code",
   "execution_count": null,
   "id": "f14882bd-5037-45de-bed6-ad19865f7fc8",
   "metadata": {
    "microsoft": {
     "language": "python",
     "language_group": "jupyter_python"
    }
   },
   "outputs": [],
   "source": [
    "# Add keyvault parameters\n",
    "KEYVAULT = \"https://mattiasthalen-fabric.vault.azure.net\"\n",
    "SECRET__TENANT_ID = \"credentials--azure-tenant-id\"\n",
    "SECRET__CLIENT_ID = \"credentials--azure-client-id\"\n",
    "SECRET__CLIENT_SECRET = \"credentials--azure-client-secret\""
   ]
  },
  {
   "cell_type": "code",
   "execution_count": null,
   "id": "ed682d53-2b35-44b9-b6f2-f7bd4fe25c9d",
   "metadata": {
    "microsoft": {
     "language": "python",
     "language_group": "jupyter_python"
    }
   },
   "outputs": [],
   "source": [
    "# Set environment variables for dlt\n",
    "abfs_path = notebookutils.lakehouse.get().get(\"properties\").get(\"abfsPath\")\n",
    "\n",
    "os.environ[\"DESTINATION__BUCKET_URL\"] =  f\"{abfs_path}/Tables\"\n",
    "os.environ[\"CREDENTIALS__AZURE_STORAGE_ACCOUNT_NAME\"] = \"onelake\"\n",
    "os.environ[\"CREDENTIALS__AZURE_ACCOUNT_HOST\"] = \"onelake.blob.fabric.microsoft.com\"\n",
    "os.environ[\"CREDENTIALS__AZURE_TENANT_ID\"] = notebookutils.credentials.getSecret(KEYVAULT, SECRET__TENANT_ID)\n",
    "os.environ[\"CREDENTIALS__AZURE_CLIENT_ID\"] =notebookutils.credentials.getSecret(KEYVAULT, SECRET__CLIENT_ID)\n",
    "os.environ[\"CREDENTIALS__AZURE_CLIENT_SECRET\"] = notebookutils.credentials.getSecret(KEYVAULT, SECRET__CLIENT_SECRET)"
   ]
  },
  {
   "cell_type": "code",
   "execution_count": null,
   "id": "35132a43-8801-4467-8bb4-838d2a047b38",
   "metadata": {
    "microsoft": {
     "language": "python",
     "language_group": "jupyter_python"
    }
   },
   "outputs": [],
   "source": [
    "# Define general pipeline function to feed with sources\n",
    "def run_pipeline(source, table_format=\"delta\", loader_file_format=\"parquet\", dev_mode=True):\n",
    "    pipeline = dlt.pipeline(\n",
    "        pipeline_name=\"raw\",\n",
    "        destination=\"filesystem\",\n",
    "        dataset_name=\"raw\",\n",
    "        progress=dlt.progress.tqdm(),\n",
    "        dev_mode=dev_mode,\n",
    "    )\n",
    "    \n",
    "    load = pipeline.run(source, table_format=table_format, loader_file_format=loader_file_format)\n",
    "\n",
    "    return load"
   ]
  },
  {
   "cell_type": "code",
   "execution_count": null,
   "id": "307a8d48-cf47-45d1-abd5-3f86c6189ffe",
   "metadata": {
    "microsoft": {
     "language": "python",
     "language_group": "jupyter_python"
    }
   },
   "outputs": [],
   "source": [
    "# Define the tpch source\n",
    "@dlt.source()\n",
    "def tpch(source_path=\"/lakehouse/default/Files/tpch\"):\n",
    "    from dlt.sources.filesystem import filesystem, read_parquet\n",
    "\n",
    "    tables = [\n",
    "        \"customer\",\n",
    "        \"lineitem\",\n",
    "        \"nation\",\n",
    "        \"orders\",\n",
    "        \"part\",\n",
    "        \"partsupp\",\n",
    "        \"region\",\n",
    "        \"supplier\",\n",
    "    ]\n",
    "\n",
    "    for table in tables:\n",
    "        resource = filesystem(\n",
    "            bucket_url=source_path,\n",
    "            file_glob=f\"{table}/{table}.*.parquet\",\n",
    "            files_per_page=1,\n",
    "            incremental=dlt.sources.incremental(\"modification_date\"),\n",
    "        )\n",
    "\n",
    "        resource_pipe = resource | read_parquet(use_pyarrow=True)\n",
    "\n",
    "        yield resource_pipe.with_name(f\"raw__tpch__{table}\").apply_hints(write_disposition=\"append\")"
   ]
  },
  {
   "cell_type": "code",
   "execution_count": null,
   "id": "26e986e0-1473-4355-8dbc-b24a6fa9d89d",
   "metadata": {
    "microsoft": {
     "language": "python",
     "language_group": "jupyter_python"
    }
   },
   "outputs": [],
   "source": [
    "# Run the pipeline\n",
    "_ = run_pipeline(tpch(), dev_mode=False)"
   ]
  }
 ],
 "metadata": {
  "dependencies": {
   "lakehouse": {
    "default_lakehouse": "606b479f-9338-452b-ac6d-d84f8e49e976",
    "default_lakehouse_name": "tpch",
    "default_lakehouse_workspace_id": "99a969c7-6acc-45c8-808f-93eea0b7b50e",
    "known_lakehouses": [
     {
      "id": "606b479f-9338-452b-ac6d-d84f8e49e976"
     }
    ]
   }
  },
  "kernel_info": {
   "jupyter_kernel_name": "python3.11",
   "name": "jupyter"
  },
  "kernelspec": {
   "display_name": "Jupyter",
   "name": "jupyter"
  },
  "language_info": {
   "name": "python"
  },
  "microsoft": {
   "language": "python",
   "language_group": "jupyter_python",
   "ms_spell_check": {
    "ms_spell_check_language": "en"
   }
  },
  "nteract": {
   "version": "nteract-front-end@1.0.0"
  },
  "spark_compute": {
   "compute_id": "/trident/default",
   "session_options": {
    "conf": {
     "spark.synapse.nbs.session.timeout": "1200000"
    }
   }
  },
  "widgets": {
   "application/vnd.jupyter.widget-state+json": {
    "state": {
     "01a652f1fd16430e84168a563c76a653": {
      "model_module": "@jupyter-widgets/controls",
      "model_module_version": "2.0.0",
      "model_name": "ProgressStyleModel",
      "state": {
       "description_width": ""
      }
     },
     "022bbc2782bd4e9b83d187ca5e62b09f": {
      "model_module": "@jupyter-widgets/controls",
      "model_module_version": "2.0.0",
      "model_name": "FloatProgressModel",
      "state": {
       "layout": "IPY_MODEL_6b2ccde71a3a47ceba3c9e0156261811",
       "max": 9,
       "style": "IPY_MODEL_cd880085c2fd4d3a92b14b4263467a37",
       "value": 9
      }
     },
     "0288689f43084929af191c6c5302061c": {
      "model_module": "@jupyter-widgets/controls",
      "model_module_version": "2.0.0",
      "model_name": "HBoxModel",
      "state": {
       "children": [
        "IPY_MODEL_45849303d99c44148efd0625a76b6a0d",
        "IPY_MODEL_361f4d5b5df047849f49f13589206158",
        "IPY_MODEL_918a4f1f79d64ae8a1d06580f34e52a6"
       ],
       "layout": "IPY_MODEL_3d240bb3ba1a48f28ea2cb2d1524b8b6"
      }
     },
     "047caa7b7b474a5fadf3c704afcc7939": {
      "model_module": "@jupyter-widgets/controls",
      "model_module_version": "2.0.0",
      "model_name": "ProgressStyleModel",
      "state": {
       "bar_color": "black",
       "description_width": ""
      }
     },
     "06e6dcf5f9ae4f6992d87113371e7fdc": {
      "model_module": "@jupyter-widgets/controls",
      "model_module_version": "2.0.0",
      "model_name": "HBoxModel",
      "state": {
       "children": [
        "IPY_MODEL_3ed93ba9580143049d5e09c4785064ae",
        "IPY_MODEL_b116f84ffaa8420583d9f22ad361fe86",
        "IPY_MODEL_15a388d1d28440f3b64db3e55c34d034"
       ],
       "layout": "IPY_MODEL_e90117ee03524f9e95f617bebb6e036f"
      }
     },
     "070455f7adf74d89b8582293382eea1c": {
      "model_module": "@jupyter-widgets/controls",
      "model_module_version": "2.0.0",
      "model_name": "HTMLModel",
      "state": {
       "layout": "IPY_MODEL_6b9e35a8d0414b8592d192494fe2e351",
       "style": "IPY_MODEL_2df45e59c0dd40f093f2967ab281d0a3",
       "value": "raw__tpch__part: "
      }
     },
     "0785a8e79a8647f0a73abc60acaa7ff3": {
      "model_module": "@jupyter-widgets/controls",
      "model_module_version": "2.0.0",
      "model_name": "HBoxModel",
      "state": {
       "children": [
        "IPY_MODEL_0f7279aaeb514f5a8bf889bbdce662c0",
        "IPY_MODEL_73bc66e417bf42c0a609a9c2df84da86",
        "IPY_MODEL_654598fc154a4756b970dbccf8be7627"
       ],
       "layout": "IPY_MODEL_c86b6455d0c345ff884d9110959af615"
      }
     },
     "090f639ff96844ab9f81a4db286fc06f": {
      "model_module": "@jupyter-widgets/base",
      "model_module_version": "2.0.0",
      "model_name": "LayoutModel",
      "state": {
       "visibility": "hidden"
      }
     },
     "095c4abbe04f4e54a2f814d09be8af58": {
      "model_module": "@jupyter-widgets/base",
      "model_module_version": "2.0.0",
      "model_name": "LayoutModel",
      "state": {
       "width": "20px"
      }
     },
     "0a215faff5a4433abea578e94458874c": {
      "model_module": "@jupyter-widgets/controls",
      "model_module_version": "2.0.0",
      "model_name": "ProgressStyleModel",
      "state": {
       "description_width": ""
      }
     },
     "0a5d24d8b1ba4c23ae2d37a3466c83cc": {
      "model_module": "@jupyter-widgets/controls",
      "model_module_version": "2.0.0",
      "model_name": "ProgressStyleModel",
      "state": {
       "description_width": ""
      }
     },
     "0a9a0499fd724295b4cb394da505181c": {
      "model_module": "@jupyter-widgets/controls",
      "model_module_version": "2.0.0",
      "model_name": "FloatProgressModel",
      "state": {
       "bar_style": "info",
       "layout": "IPY_MODEL_de5f1998f2a04658b9c381479e8c88d6",
       "max": 1,
       "style": "IPY_MODEL_631d5cc2906944ed8795b5217502d50f",
       "value": 1
      }
     },
     "0add1acb61414eb4b728f2a4251c28b6": {
      "model_module": "@jupyter-widgets/controls",
      "model_module_version": "2.0.0",
      "model_name": "FloatProgressModel",
      "state": {
       "bar_style": "info",
       "layout": "IPY_MODEL_2d7d19d538084a3a98def9e376672e34",
       "max": 1,
       "style": "IPY_MODEL_6986c9beb6e64bc99935d1668ca9b6df",
       "value": 1
      }
     },
     "0bc970f3450c4b2896f78354521cf77a": {
      "model_module": "@jupyter-widgets/controls",
      "model_module_version": "2.0.0",
      "model_name": "ProgressStyleModel",
      "state": {
       "description_width": ""
      }
     },
     "0f57a8f1adf744b891cee3666ffb87e7": {
      "model_module": "@jupyter-widgets/controls",
      "model_module_version": "2.0.0",
      "model_name": "HTMLStyleModel",
      "state": {
       "description_width": "",
       "font_size": null,
       "text_color": null
      }
     },
     "0f7279aaeb514f5a8bf889bbdce662c0": {
      "model_module": "@jupyter-widgets/controls",
      "model_module_version": "2.0.0",
      "model_name": "HTMLModel",
      "state": {
       "layout": "IPY_MODEL_854673cd1bc4469db609ad7e642d65f1",
       "style": "IPY_MODEL_a2d2728b578f4f508153acbed5978312",
       "value": "Extract tpch: Resources: 100%"
      }
     },
     "0fc0306d9b5044b79077263f8cc448af": {
      "model_module": "@jupyter-widgets/base",
      "model_module_version": "2.0.0",
      "model_name": "LayoutModel",
      "state": {}
     },
     "102c7772d869439e971145153b89ca3c": {
      "model_module": "@jupyter-widgets/controls",
      "model_module_version": "2.0.0",
      "model_name": "ProgressStyleModel",
      "state": {
       "description_width": ""
      }
     },
     "111a3fa5102042959db33fefe22eecf0": {
      "model_module": "@jupyter-widgets/base",
      "model_module_version": "2.0.0",
      "model_name": "LayoutModel",
      "state": {
       "width": "20px"
      }
     },
     "1216aa18a1c040bc8f6bb9d7ededff6e": {
      "model_module": "@jupyter-widgets/controls",
      "model_module_version": "2.0.0",
      "model_name": "HTMLModel",
      "state": {
       "layout": "IPY_MODEL_ce32d48c7d1f4084adc7c9c139c194eb",
       "style": "IPY_MODEL_4bbf0a39c8b04e819a4e23077f5ecc7c",
       "value": "_dlt_pipeline_state: "
      }
     },
     "12389723c279453e81371a7c9e97d173": {
      "model_module": "@jupyter-widgets/controls",
      "model_module_version": "2.0.0",
      "model_name": "FloatProgressModel",
      "state": {
       "bar_style": "info",
       "layout": "IPY_MODEL_5d9ce5e9feff4df08713854f5c68989e",
       "max": 1,
       "style": "IPY_MODEL_3ab3578428614d879e15fc2782caf920",
       "value": 1
      }
     },
     "12a8c324ece1477dab9f691dc49b9a36": {
      "model_module": "@jupyter-widgets/controls",
      "model_module_version": "2.0.0",
      "model_name": "HBoxModel",
      "state": {
       "children": [
        "IPY_MODEL_51e665ce75e145cab1c35d515b24c85d",
        "IPY_MODEL_12389723c279453e81371a7c9e97d173",
        "IPY_MODEL_986d27e6a7c44f76be9868f385ba6f77"
       ],
       "layout": "IPY_MODEL_6699f936668d455796a6de109b4ca263"
      }
     },
     "15a388d1d28440f3b64db3e55c34d034": {
      "model_module": "@jupyter-widgets/controls",
      "model_module_version": "2.0.0",
      "model_name": "HTMLModel",
      "state": {
       "layout": "IPY_MODEL_e280fe8162484e86b104163658fe6026",
       "style": "IPY_MODEL_680f1993075845199605002dccd7985b",
       "value": " 8660239/? [00:00&lt;00:00, 140520379.89it/s]"
      }
     },
     "17a4f487884c4ac7beb66a75e18a88af": {
      "model_module": "@jupyter-widgets/controls",
      "model_module_version": "2.0.0",
      "model_name": "HTMLStyleModel",
      "state": {
       "description_width": "",
       "font_size": null,
       "text_color": null
      }
     },
     "1a3089bdd54c4b2893db7a6dee4724f3": {
      "model_module": "@jupyter-widgets/controls",
      "model_module_version": "2.0.0",
      "model_name": "HTMLStyleModel",
      "state": {
       "description_width": "",
       "font_size": null,
       "text_color": null
      }
     },
     "1a32b09920024acdb5e0394ffb708a5c": {
      "model_module": "@jupyter-widgets/base",
      "model_module_version": "2.0.0",
      "model_name": "LayoutModel",
      "state": {
       "visibility": "hidden"
      }
     },
     "1b31d080782b4833ba9fbc70a8f81e50": {
      "model_module": "@jupyter-widgets/controls",
      "model_module_version": "2.0.0",
      "model_name": "HTMLModel",
      "state": {
       "layout": "IPY_MODEL_0fc0306d9b5044b79077263f8cc448af",
       "style": "IPY_MODEL_32644d25d0234933872ab0810e536b98",
       "value": "Normalize tpch in 1759224859.3936732: Files: 100%"
      }
     },
     "1b5ea180d0b2402e912f36d297050aff": {
      "model_module": "@jupyter-widgets/controls",
      "model_module_version": "2.0.0",
      "model_name": "ProgressStyleModel",
      "state": {
       "description_width": ""
      }
     },
     "1db537a4d3484a2eb50295ef20acbf18": {
      "model_module": "@jupyter-widgets/base",
      "model_module_version": "2.0.0",
      "model_name": "LayoutModel",
      "state": {
       "visibility": "hidden"
      }
     },
     "20d2c4782be9403381e3f8a4d012a5da": {
      "model_module": "@jupyter-widgets/controls",
      "model_module_version": "2.0.0",
      "model_name": "HTMLModel",
      "state": {
       "layout": "IPY_MODEL_acb4b3914b0544208eb6090e56601114",
       "style": "IPY_MODEL_51e448f607f9469abe581465e2a55c9f",
       "value": " 150000/? [00:20&lt;00:00, 97536.14it/s]"
      }
     },
     "239c1c50e4ec409ba18803518919f6ee": {
      "model_module": "@jupyter-widgets/base",
      "model_module_version": "2.0.0",
      "model_name": "LayoutModel",
      "state": {}
     },
     "27fd2265d80343c2ab74a4823ad51b43": {
      "model_module": "@jupyter-widgets/controls",
      "model_module_version": "2.0.0",
      "model_name": "HTMLModel",
      "state": {
       "layout": "IPY_MODEL_30cae0c6467e493f890b52eff8006d3d",
       "style": "IPY_MODEL_4b6e747358154f0286304c0cc55afeba",
       "value": " 1/1 [00:00&lt;00:00, 28.31it/s]"
      }
     },
     "2861ba413b424642aaf3cae952593095": {
      "model_module": "@jupyter-widgets/controls",
      "model_module_version": "2.0.0",
      "model_name": "HBoxModel",
      "state": {
       "children": [
        "IPY_MODEL_2d4d02f2794e459c989ad584e4325de7",
        "IPY_MODEL_d0c9d66d95b04eb2a13c6a6a363b1218",
        "IPY_MODEL_81acb8eb480e466d858c0072e0690ad2"
       ],
       "layout": "IPY_MODEL_651b1d1d50ed43dab8e8ec92407ded6b"
      }
     },
     "2b4e508728a24342a3fe9e77b497433a": {
      "model_module": "@jupyter-widgets/base",
      "model_module_version": "2.0.0",
      "model_name": "LayoutModel",
      "state": {
       "visibility": "hidden"
      }
     },
     "2b5bc149460c4a31a9c68c20942dbdb3": {
      "model_module": "@jupyter-widgets/controls",
      "model_module_version": "2.0.0",
      "model_name": "HTMLStyleModel",
      "state": {
       "description_width": "",
       "font_size": null,
       "text_color": null
      }
     },
     "2c3733d40da449f4b8681d108e89d305": {
      "model_module": "@jupyter-widgets/base",
      "model_module_version": "2.0.0",
      "model_name": "LayoutModel",
      "state": {
       "width": "20px"
      }
     },
     "2cec88f7fc734d688958b533e9b3e391": {
      "model_module": "@jupyter-widgets/controls",
      "model_module_version": "2.0.0",
      "model_name": "HTMLStyleModel",
      "state": {
       "description_width": "",
       "font_size": null,
       "text_color": null
      }
     },
     "2d4d02f2794e459c989ad584e4325de7": {
      "model_module": "@jupyter-widgets/controls",
      "model_module_version": "2.0.0",
      "model_name": "HTMLModel",
      "state": {
       "layout": "IPY_MODEL_8e29319be6c5457e841f1dc29ed57109",
       "style": "IPY_MODEL_916f7a03c8074ac7b892f76728dcdf99",
       "value": "raw__tpch__lineitem: "
      }
     },
     "2d7d19d538084a3a98def9e376672e34": {
      "model_module": "@jupyter-widgets/base",
      "model_module_version": "2.0.0",
      "model_name": "LayoutModel",
      "state": {
       "width": "20px"
      }
     },
     "2df45e59c0dd40f093f2967ab281d0a3": {
      "model_module": "@jupyter-widgets/controls",
      "model_module_version": "2.0.0",
      "model_name": "HTMLStyleModel",
      "state": {
       "description_width": "",
       "font_size": null,
       "text_color": null
      }
     },
     "2fac496176b74e15a58c6c6f65c45cf2": {
      "model_module": "@jupyter-widgets/base",
      "model_module_version": "2.0.0",
      "model_name": "LayoutModel",
      "state": {
       "width": "20px"
      }
     },
     "2fb78c7fbcd9480e8335bf941abb79b7": {
      "model_module": "@jupyter-widgets/base",
      "model_module_version": "2.0.0",
      "model_name": "LayoutModel",
      "state": {}
     },
     "30cae0c6467e493f890b52eff8006d3d": {
      "model_module": "@jupyter-widgets/base",
      "model_module_version": "2.0.0",
      "model_name": "LayoutModel",
      "state": {}
     },
     "325dc97858d248e7a0a45aeeeb159eb3": {
      "model_module": "@jupyter-widgets/controls",
      "model_module_version": "2.0.0",
      "model_name": "HBoxModel",
      "state": {
       "children": [
        "IPY_MODEL_c70f1f5c27974b58821d3eb720612100",
        "IPY_MODEL_0add1acb61414eb4b728f2a4251c28b6",
        "IPY_MODEL_82ab64d89da742f8960d307083f96bec"
       ],
       "layout": "IPY_MODEL_767d306c2bc94376bab22f36932a7238"
      }
     },
     "32644d25d0234933872ab0810e536b98": {
      "model_module": "@jupyter-widgets/controls",
      "model_module_version": "2.0.0",
      "model_name": "HTMLStyleModel",
      "state": {
       "description_width": "",
       "font_size": null,
       "text_color": null
      }
     },
     "35a1b2de99af4baca872aadbd9132463": {
      "model_module": "@jupyter-widgets/base",
      "model_module_version": "2.0.0",
      "model_name": "LayoutModel",
      "state": {}
     },
     "361cfe6d521f43ea8a026297fea30e60": {
      "model_module": "@jupyter-widgets/base",
      "model_module_version": "2.0.0",
      "model_name": "LayoutModel",
      "state": {
       "width": "20px"
      }
     },
     "361f4d5b5df047849f49f13589206158": {
      "model_module": "@jupyter-widgets/controls",
      "model_module_version": "2.0.0",
      "model_name": "FloatProgressModel",
      "state": {
       "layout": "IPY_MODEL_c114a36ad0d540a6a54d5e356860ac71",
       "max": 9,
       "style": "IPY_MODEL_1b5ea180d0b2402e912f36d297050aff",
       "value": 9
      }
     },
     "36f126fee27c4dd484d1e579bdc33e41": {
      "model_module": "@jupyter-widgets/controls",
      "model_module_version": "2.0.0",
      "model_name": "HTMLModel",
      "state": {
       "layout": "IPY_MODEL_80cf54edc1334722a9e230c2d10c6241",
       "style": "IPY_MODEL_5bd9650cff934ea696ed2f1a53a08dad",
       "value": " 1/1 [00:00&lt;00:00, 32.74it/s]"
      }
     },
     "3a4ddae9845b4691a2646dd4c136c35d": {
      "model_module": "@jupyter-widgets/base",
      "model_module_version": "2.0.0",
      "model_name": "LayoutModel",
      "state": {
       "visibility": "hidden"
      }
     },
     "3ab3578428614d879e15fc2782caf920": {
      "model_module": "@jupyter-widgets/controls",
      "model_module_version": "2.0.0",
      "model_name": "ProgressStyleModel",
      "state": {
       "description_width": ""
      }
     },
     "3aeff9ceaf5740119656ea33e19a8ec9": {
      "model_module": "@jupyter-widgets/controls",
      "model_module_version": "2.0.0",
      "model_name": "HTMLStyleModel",
      "state": {
       "description_width": "",
       "font_size": null,
       "text_color": null
      }
     },
     "3bf0fafe77534e3a8d52a88485485e68": {
      "model_module": "@jupyter-widgets/base",
      "model_module_version": "2.0.0",
      "model_name": "LayoutModel",
      "state": {}
     },
     "3cede7e87e554dbb9216f49cb4266edf": {
      "model_module": "@jupyter-widgets/controls",
      "model_module_version": "2.0.0",
      "model_name": "HTMLModel",
      "state": {
       "layout": "IPY_MODEL_685c8034aef44daa86ec3132ea2c72b8",
       "style": "IPY_MODEL_abe8faf61b664e47be7d191ca75dbf60",
       "value": " 8658452/? [00:00&lt;00:00, 135337951.37it/s]"
      }
     },
     "3d0350afb51a46619f94229c529d6955": {
      "model_module": "@jupyter-widgets/base",
      "model_module_version": "2.0.0",
      "model_name": "LayoutModel",
      "state": {}
     },
     "3d240bb3ba1a48f28ea2cb2d1524b8b6": {
      "model_module": "@jupyter-widgets/base",
      "model_module_version": "2.0.0",
      "model_name": "LayoutModel",
      "state": {
       "visibility": "hidden"
      }
     },
     "3d3566b04a1b4d7a84bd3d30f7a04c19": {
      "model_module": "@jupyter-widgets/base",
      "model_module_version": "2.0.0",
      "model_name": "LayoutModel",
      "state": {}
     },
     "3dec6a48df4a4ad3aab899cc9fc5bf6e": {
      "model_module": "@jupyter-widgets/controls",
      "model_module_version": "2.0.0",
      "model_name": "HTMLModel",
      "state": {
       "layout": "IPY_MODEL_b2021c4a7bc9418a82bd070f65669173",
       "style": "IPY_MODEL_1a3089bdd54c4b2893db7a6dee4724f3",
       "value": "Items: "
      }
     },
     "3df557f5931a42bdb06dc66f4a185696": {
      "model_module": "@jupyter-widgets/base",
      "model_module_version": "2.0.0",
      "model_name": "LayoutModel",
      "state": {
       "width": "auto"
      }
     },
     "3ed93ba9580143049d5e09c4785064ae": {
      "model_module": "@jupyter-widgets/controls",
      "model_module_version": "2.0.0",
      "model_name": "HTMLModel",
      "state": {
       "layout": "IPY_MODEL_e43a174d1ab8475a8d57e0b552208989",
       "style": "IPY_MODEL_9a78443a590b4568a8cd33bf8253cfe9",
       "value": "Items: "
      }
     },
     "3f52e9fb8317424c87ce0da6292ad3ac": {
      "model_module": "@jupyter-widgets/controls",
      "model_module_version": "2.0.0",
      "model_name": "ProgressStyleModel",
      "state": {
       "description_width": ""
      }
     },
     "3f613e67fd2f4be5adcc836883de503e": {
      "model_module": "@jupyter-widgets/controls",
      "model_module_version": "2.0.0",
      "model_name": "HTMLStyleModel",
      "state": {
       "description_width": "",
       "font_size": null,
       "text_color": null
      }
     },
     "3f65a66597fb4624bc3eed15d6a1d645": {
      "model_module": "@jupyter-widgets/base",
      "model_module_version": "2.0.0",
      "model_name": "LayoutModel",
      "state": {
       "visibility": "hidden"
      }
     },
     "41f8737f8ebb4b78a30d28a4b077fddc": {
      "model_module": "@jupyter-widgets/controls",
      "model_module_version": "2.0.0",
      "model_name": "HBoxModel",
      "state": {
       "children": [
        "IPY_MODEL_f2ef8d88989e4b599f7f51b56fb49119",
        "IPY_MODEL_c9ebc824365549b3b01f1697c2978f17",
        "IPY_MODEL_fee961d81d9142a48a8072c5eeb0153c"
       ],
       "layout": "IPY_MODEL_5f6ec4d61bd6400a8fd670c4c705ee50"
      }
     },
     "45849303d99c44148efd0625a76b6a0d": {
      "model_module": "@jupyter-widgets/controls",
      "model_module_version": "2.0.0",
      "model_name": "HTMLModel",
      "state": {
       "layout": "IPY_MODEL_b3966686b71d413fa034ec60bf369db3",
       "style": "IPY_MODEL_dc7fbf38e45541038083c88c32bfd661",
       "value": "Normalize tpch in 1759309970.0476809: Files: 100%"
      }
     },
     "48574d9465ce4fca924585a82fdebf48": {
      "model_module": "@jupyter-widgets/controls",
      "model_module_version": "2.0.0",
      "model_name": "HTMLStyleModel",
      "state": {
       "description_width": "",
       "font_size": null,
       "text_color": null
      }
     },
     "4a55ebbfc8984cdbad6e94e9f02b138d": {
      "model_module": "@jupyter-widgets/base",
      "model_module_version": "2.0.0",
      "model_name": "LayoutModel",
      "state": {}
     },
     "4b6e747358154f0286304c0cc55afeba": {
      "model_module": "@jupyter-widgets/controls",
      "model_module_version": "2.0.0",
      "model_name": "HTMLStyleModel",
      "state": {
       "description_width": "",
       "font_size": null,
       "text_color": null
      }
     },
     "4bbf0a39c8b04e819a4e23077f5ecc7c": {
      "model_module": "@jupyter-widgets/controls",
      "model_module_version": "2.0.0",
      "model_name": "HTMLStyleModel",
      "state": {
       "description_width": "",
       "font_size": null,
       "text_color": null
      }
     },
     "4c5891578a62459c9882f58248fb32bf": {
      "model_module": "@jupyter-widgets/controls",
      "model_module_version": "2.0.0",
      "model_name": "HTMLModel",
      "state": {
       "layout": "IPY_MODEL_f34a958bb8e84f22bcf5ae90e40ea696",
       "style": "IPY_MODEL_ec754a7263ac4918b6f1eb7ebb5774b0",
       "value": " 1/? [00:00&lt;00:00, 43.99it/s]"
      }
     },
     "4cd4d1f7f97241ea8e536a3fe9e9c5b5": {
      "model_module": "@jupyter-widgets/controls",
      "model_module_version": "2.0.0",
      "model_name": "FloatProgressModel",
      "state": {
       "bar_style": "info",
       "layout": "IPY_MODEL_2c3733d40da449f4b8681d108e89d305",
       "max": 1,
       "style": "IPY_MODEL_102c7772d869439e971145153b89ca3c",
       "value": 1
      }
     },
     "4e11226afa9a458eb4998031724797ad": {
      "model_module": "@jupyter-widgets/base",
      "model_module_version": "2.0.0",
      "model_name": "LayoutModel",
      "state": {}
     },
     "4edf4d3a948d492a82a83d28af477aad": {
      "model_module": "@jupyter-widgets/controls",
      "model_module_version": "2.0.0",
      "model_name": "ProgressStyleModel",
      "state": {
       "description_width": ""
      }
     },
     "51e448f607f9469abe581465e2a55c9f": {
      "model_module": "@jupyter-widgets/controls",
      "model_module_version": "2.0.0",
      "model_name": "HTMLStyleModel",
      "state": {
       "description_width": "",
       "font_size": null,
       "text_color": null
      }
     },
     "51e665ce75e145cab1c35d515b24c85d": {
      "model_module": "@jupyter-widgets/controls",
      "model_module_version": "2.0.0",
      "model_name": "HTMLModel",
      "state": {
       "layout": "IPY_MODEL_da0274ed1b2e47269a93621728125ab5",
       "style": "IPY_MODEL_e1f610ef248843479ae0f27e150ece18",
       "value": "_dlt_pipeline_state: "
      }
     },
     "52bbfb05f84d45299e4f14e4e12410c3": {
      "model_module": "@jupyter-widgets/controls",
      "model_module_version": "2.0.0",
      "model_name": "ProgressStyleModel",
      "state": {
       "description_width": ""
      }
     },
     "580b98d86c8540c09d3d731e4f30cfbe": {
      "model_module": "@jupyter-widgets/base",
      "model_module_version": "2.0.0",
      "model_name": "LayoutModel",
      "state": {}
     },
     "5bd9650cff934ea696ed2f1a53a08dad": {
      "model_module": "@jupyter-widgets/controls",
      "model_module_version": "2.0.0",
      "model_name": "HTMLStyleModel",
      "state": {
       "description_width": "",
       "font_size": null,
       "text_color": null
      }
     },
     "5d6a1e303d344af9b4d8e85ac02eb668": {
      "model_module": "@jupyter-widgets/controls",
      "model_module_version": "2.0.0",
      "model_name": "HTMLStyleModel",
      "state": {
       "description_width": "",
       "font_size": null,
       "text_color": null
      }
     },
     "5d9ce5e9feff4df08713854f5c68989e": {
      "model_module": "@jupyter-widgets/base",
      "model_module_version": "2.0.0",
      "model_name": "LayoutModel",
      "state": {
       "width": "20px"
      }
     },
     "5e474437cb6144c4a0875e234dbaaee7": {
      "model_module": "@jupyter-widgets/base",
      "model_module_version": "2.0.0",
      "model_name": "LayoutModel",
      "state": {}
     },
     "5f6ec4d61bd6400a8fd670c4c705ee50": {
      "model_module": "@jupyter-widgets/base",
      "model_module_version": "2.0.0",
      "model_name": "LayoutModel",
      "state": {
       "visibility": "hidden"
      }
     },
     "602fe5b04def450bb6e1c5cd94843c83": {
      "model_module": "@jupyter-widgets/controls",
      "model_module_version": "2.0.0",
      "model_name": "HTMLStyleModel",
      "state": {
       "description_width": "",
       "font_size": null,
       "text_color": null
      }
     },
     "6081135e6ea14d2eb5a27f0a87b8448d": {
      "model_module": "@jupyter-widgets/controls",
      "model_module_version": "2.0.0",
      "model_name": "HTMLModel",
      "state": {
       "layout": "IPY_MODEL_4a55ebbfc8984cdbad6e94e9f02b138d",
       "style": "IPY_MODEL_e1772a9998c5402aa927e11863ccb70c",
       "value": " 10000/? [00:18&lt;00:00, 31472.47it/s]"
      }
     },
     "61026e9f22874bb5aae4dd497d41774f": {
      "model_module": "@jupyter-widgets/controls",
      "model_module_version": "2.0.0",
      "model_name": "HTMLModel",
      "state": {
       "layout": "IPY_MODEL_ee81cc1a31bb4f1ea86e12ec8ae5073c",
       "style": "IPY_MODEL_8b878e400598411d90f02fef36b0c445",
       "value": "raw__tpch__customer: "
      }
     },
     "631d5cc2906944ed8795b5217502d50f": {
      "model_module": "@jupyter-widgets/controls",
      "model_module_version": "2.0.0",
      "model_name": "ProgressStyleModel",
      "state": {
       "description_width": ""
      }
     },
     "651b1d1d50ed43dab8e8ec92407ded6b": {
      "model_module": "@jupyter-widgets/base",
      "model_module_version": "2.0.0",
      "model_name": "LayoutModel",
      "state": {
       "visibility": "hidden"
      }
     },
     "654598fc154a4756b970dbccf8be7627": {
      "model_module": "@jupyter-widgets/controls",
      "model_module_version": "2.0.0",
      "model_name": "HTMLModel",
      "state": {
       "layout": "IPY_MODEL_7513d10484ea4f19ab11a687003063e9",
       "style": "IPY_MODEL_17a4f487884c4ac7beb66a75e18a88af",
       "value": " 8/8 [00:21&lt;00:00,  4.47s/it]"
      }
     },
     "65661c49db43435b84d0118c417fd363": {
      "model_module": "@jupyter-widgets/controls",
      "model_module_version": "2.0.0",
      "model_name": "HBoxModel",
      "state": {
       "children": [
        "IPY_MODEL_b026916742d643c0a5918d9c07e1b913",
        "IPY_MODEL_e9e9c20209e64b8a9d04dde83c73f595",
        "IPY_MODEL_d78076294d314f26b264e3605120f392"
       ],
       "layout": "IPY_MODEL_1db537a4d3484a2eb50295ef20acbf18"
      }
     },
     "6699f936668d455796a6de109b4ca263": {
      "model_module": "@jupyter-widgets/base",
      "model_module_version": "2.0.0",
      "model_name": "LayoutModel",
      "state": {
       "visibility": "hidden"
      }
     },
     "680f1993075845199605002dccd7985b": {
      "model_module": "@jupyter-widgets/controls",
      "model_module_version": "2.0.0",
      "model_name": "HTMLStyleModel",
      "state": {
       "description_width": "",
       "font_size": null,
       "text_color": null
      }
     },
     "685c8034aef44daa86ec3132ea2c72b8": {
      "model_module": "@jupyter-widgets/base",
      "model_module_version": "2.0.0",
      "model_name": "LayoutModel",
      "state": {}
     },
     "69104d6b4d8f434b995543e556538108": {
      "model_module": "@jupyter-widgets/base",
      "model_module_version": "2.0.0",
      "model_name": "LayoutModel",
      "state": {
       "visibility": "hidden"
      }
     },
     "6986c9beb6e64bc99935d1668ca9b6df": {
      "model_module": "@jupyter-widgets/controls",
      "model_module_version": "2.0.0",
      "model_name": "ProgressStyleModel",
      "state": {
       "description_width": ""
      }
     },
     "6b2ccde71a3a47ceba3c9e0156261811": {
      "model_module": "@jupyter-widgets/base",
      "model_module_version": "2.0.0",
      "model_name": "LayoutModel",
      "state": {}
     },
     "6b9e35a8d0414b8592d192494fe2e351": {
      "model_module": "@jupyter-widgets/base",
      "model_module_version": "2.0.0",
      "model_name": "LayoutModel",
      "state": {}
     },
     "6d4576c899b14db8b0a591d3b52d1556": {
      "model_module": "@jupyter-widgets/base",
      "model_module_version": "2.0.0",
      "model_name": "LayoutModel",
      "state": {
       "width": "20px"
      }
     },
     "71c67caffbc74611ae786013922ce065": {
      "model_module": "@jupyter-widgets/base",
      "model_module_version": "2.0.0",
      "model_name": "LayoutModel",
      "state": {}
     },
     "7334153756e24f6496462e7b835aba03": {
      "model_module": "@jupyter-widgets/controls",
      "model_module_version": "2.0.0",
      "model_name": "HTMLStyleModel",
      "state": {
       "description_width": "",
       "font_size": null,
       "text_color": null
      }
     },
     "73bc66e417bf42c0a609a9c2df84da86": {
      "model_module": "@jupyter-widgets/controls",
      "model_module_version": "2.0.0",
      "model_name": "FloatProgressModel",
      "state": {
       "layout": "IPY_MODEL_d6238f3f32e54ba89e79a75042ebf515",
       "max": 8,
       "style": "IPY_MODEL_ccb299486b364b1da5a3de13b4143d70",
       "value": 8
      }
     },
     "7513d10484ea4f19ab11a687003063e9": {
      "model_module": "@jupyter-widgets/base",
      "model_module_version": "2.0.0",
      "model_name": "LayoutModel",
      "state": {}
     },
     "7555794cd1544d08ad8f3ead9ba086da": {
      "model_module": "@jupyter-widgets/controls",
      "model_module_version": "2.0.0",
      "model_name": "HBoxModel",
      "state": {
       "children": [
        "IPY_MODEL_1b31d080782b4833ba9fbc70a8f81e50",
        "IPY_MODEL_d2be9833412241dab793114b387c352e",
        "IPY_MODEL_bb7bc04e2e884fecb3e4adb2f0ba6b2d"
       ],
       "layout": "IPY_MODEL_2b4e508728a24342a3fe9e77b497433a"
      }
     },
     "767d306c2bc94376bab22f36932a7238": {
      "model_module": "@jupyter-widgets/base",
      "model_module_version": "2.0.0",
      "model_name": "LayoutModel",
      "state": {
       "visibility": "hidden"
      }
     },
     "793e879fe15b49328ad4940c73f45d93": {
      "model_module": "@jupyter-widgets/controls",
      "model_module_version": "2.0.0",
      "model_name": "HTMLStyleModel",
      "state": {
       "description_width": "",
       "font_size": null,
       "text_color": null
      }
     },
     "7a978858cc194861b6891641143bdeb6": {
      "model_module": "@jupyter-widgets/controls",
      "model_module_version": "2.0.0",
      "model_name": "HTMLStyleModel",
      "state": {
       "description_width": "",
       "font_size": null,
       "text_color": null
      }
     },
     "7b9985d7f6bf4f2da0e4b451482f9490": {
      "model_module": "@jupyter-widgets/base",
      "model_module_version": "2.0.0",
      "model_name": "LayoutModel",
      "state": {}
     },
     "7c934ba949144715890cd843ec3e103e": {
      "model_module": "@jupyter-widgets/base",
      "model_module_version": "2.0.0",
      "model_name": "LayoutModel",
      "state": {}
     },
     "80cf54edc1334722a9e230c2d10c6241": {
      "model_module": "@jupyter-widgets/base",
      "model_module_version": "2.0.0",
      "model_name": "LayoutModel",
      "state": {}
     },
     "81acb8eb480e466d858c0072e0690ad2": {
      "model_module": "@jupyter-widgets/controls",
      "model_module_version": "2.0.0",
      "model_name": "HTMLModel",
      "state": {
       "layout": "IPY_MODEL_35a1b2de99af4baca872aadbd9132463",
       "style": "IPY_MODEL_a766efe95cdd47579aacdcf2f50f294b",
       "value": " 6000208/? [00:19&lt;00:00, 451950.36it/s]"
      }
     },
     "82434cbf1bb74f6d921f5c9505538496": {
      "model_module": "@jupyter-widgets/controls",
      "model_module_version": "2.0.0",
      "model_name": "HTMLStyleModel",
      "state": {
       "description_width": "",
       "font_size": null,
       "text_color": null
      }
     },
     "82ab64d89da742f8960d307083f96bec": {
      "model_module": "@jupyter-widgets/controls",
      "model_module_version": "2.0.0",
      "model_name": "HTMLModel",
      "state": {
       "layout": "IPY_MODEL_5e474437cb6144c4a0875e234dbaaee7",
       "style": "IPY_MODEL_2b5bc149460c4a31a9c68c20942dbdb3",
       "value": " 1500000/? [00:19&lt;00:00, 248880.76it/s]"
      }
     },
     "854673cd1bc4469db609ad7e642d65f1": {
      "model_module": "@jupyter-widgets/base",
      "model_module_version": "2.0.0",
      "model_name": "LayoutModel",
      "state": {}
     },
     "8847e0f4bfcc4671aa41db0af78123a8": {
      "model_module": "@jupyter-widgets/controls",
      "model_module_version": "2.0.0",
      "model_name": "HBoxModel",
      "state": {
       "children": [
        "IPY_MODEL_3dec6a48df4a4ad3aab899cc9fc5bf6e",
        "IPY_MODEL_4cd4d1f7f97241ea8e536a3fe9e9c5b5",
        "IPY_MODEL_3cede7e87e554dbb9216f49cb4266edf"
       ],
       "layout": "IPY_MODEL_d9202df2cdbd4bcc9b6cf69d7fb154c4"
      }
     },
     "8a04838ccfbe4f24bcedc7aa3e28a199": {
      "model_module": "@jupyter-widgets/controls",
      "model_module_version": "2.0.0",
      "model_name": "HTMLModel",
      "state": {
       "layout": "IPY_MODEL_f4078c6dd79f4181b15f9e165262858b",
       "style": "IPY_MODEL_0f57a8f1adf744b891cee3666ffb87e7",
       "value": "raw__tpch__region: "
      }
     },
     "8b878e400598411d90f02fef36b0c445": {
      "model_module": "@jupyter-widgets/controls",
      "model_module_version": "2.0.0",
      "model_name": "HTMLStyleModel",
      "state": {
       "description_width": "",
       "font_size": null,
       "text_color": null
      }
     },
     "8e29319be6c5457e841f1dc29ed57109": {
      "model_module": "@jupyter-widgets/base",
      "model_module_version": "2.0.0",
      "model_name": "LayoutModel",
      "state": {}
     },
     "8ebd843b0eab4bf6b4724370d0249299": {
      "model_module": "@jupyter-widgets/controls",
      "model_module_version": "2.0.0",
      "model_name": "FloatProgressModel",
      "state": {
       "layout": "IPY_MODEL_af543b5608dd4069b1c61a29a9bccefe",
       "max": 1,
       "style": "IPY_MODEL_52bbfb05f84d45299e4f14e4e12410c3",
       "value": 1
      }
     },
     "908220054df242b0b19a9fb92a6c71f8": {
      "model_module": "@jupyter-widgets/controls",
      "model_module_version": "2.0.0",
      "model_name": "HBoxModel",
      "state": {
       "children": [
        "IPY_MODEL_8a04838ccfbe4f24bcedc7aa3e28a199",
        "IPY_MODEL_bf8bb126350842d9bea20dbe05907b9f",
        "IPY_MODEL_a6967b1dff804702b2e4f2c8140c68f5"
       ],
       "layout": "IPY_MODEL_1a32b09920024acdb5e0394ffb708a5c"
      }
     },
     "916f7a03c8074ac7b892f76728dcdf99": {
      "model_module": "@jupyter-widgets/controls",
      "model_module_version": "2.0.0",
      "model_name": "HTMLStyleModel",
      "state": {
       "description_width": "",
       "font_size": null,
       "text_color": null
      }
     },
     "918a4f1f79d64ae8a1d06580f34e52a6": {
      "model_module": "@jupyter-widgets/controls",
      "model_module_version": "2.0.0",
      "model_name": "HTMLModel",
      "state": {
       "layout": "IPY_MODEL_95cc5a27fd30431fa2439e9b9c6b27d7",
       "style": "IPY_MODEL_e99901495d55486f88eadb77bca96575",
       "value": " 9/9 [00:00&lt;00:00, 135.31it/s]"
      }
     },
     "931e08f3decb46bdb327edd058bfbebe": {
      "model_module": "@jupyter-widgets/base",
      "model_module_version": "2.0.0",
      "model_name": "LayoutModel",
      "state": {}
     },
     "95cc5a27fd30431fa2439e9b9c6b27d7": {
      "model_module": "@jupyter-widgets/base",
      "model_module_version": "2.0.0",
      "model_name": "LayoutModel",
      "state": {}
     },
     "986d27e6a7c44f76be9868f385ba6f77": {
      "model_module": "@jupyter-widgets/controls",
      "model_module_version": "2.0.0",
      "model_name": "HTMLModel",
      "state": {
       "layout": "IPY_MODEL_fead057dceef4b7aa94eba37410b33b1",
       "style": "IPY_MODEL_602fe5b04def450bb6e1c5cd94843c83",
       "value": " 1/? [00:00&lt;00:00, 39.55it/s]"
      }
     },
     "991620d92035497c9ddc401b6d66b283": {
      "model_module": "@jupyter-widgets/controls",
      "model_module_version": "2.0.0",
      "model_name": "HBoxModel",
      "state": {
       "children": [
        "IPY_MODEL_070455f7adf74d89b8582293382eea1c",
        "IPY_MODEL_eca190d5f88c4aaab2adb7cb313971c7",
        "IPY_MODEL_beb73a9ba1e044d783668c7e9bba118a"
       ],
       "layout": "IPY_MODEL_3a4ddae9845b4691a2646dd4c136c35d"
      }
     },
     "9a78443a590b4568a8cd33bf8253cfe9": {
      "model_module": "@jupyter-widgets/controls",
      "model_module_version": "2.0.0",
      "model_name": "HTMLStyleModel",
      "state": {
       "description_width": "",
       "font_size": null,
       "text_color": null
      }
     },
     "9c6f9c527ecb4f8ea9e6f794165e56c9": {
      "model_module": "@jupyter-widgets/controls",
      "model_module_version": "2.0.0",
      "model_name": "HTMLModel",
      "state": {
       "layout": "IPY_MODEL_2fb78c7fbcd9480e8335bf941abb79b7",
       "style": "IPY_MODEL_a0b30ee6e03d4dcc817412d5afdd6f20",
       "value": "Extract tpch: Resources: 100%"
      }
     },
     "a0b30ee6e03d4dcc817412d5afdd6f20": {
      "model_module": "@jupyter-widgets/controls",
      "model_module_version": "2.0.0",
      "model_name": "HTMLStyleModel",
      "state": {
       "description_width": "",
       "font_size": null,
       "text_color": null
      }
     },
     "a1102790f7644b7d864db61811be1032": {
      "model_module": "@jupyter-widgets/controls",
      "model_module_version": "2.0.0",
      "model_name": "FloatProgressModel",
      "state": {
       "bar_style": "info",
       "layout": "IPY_MODEL_fe4507340b6045c4be13bf038370f5cd",
       "max": 1,
       "style": "IPY_MODEL_0a5d24d8b1ba4c23ae2d37a3466c83cc",
       "value": 1
      }
     },
     "a2d2728b578f4f508153acbed5978312": {
      "model_module": "@jupyter-widgets/controls",
      "model_module_version": "2.0.0",
      "model_name": "HTMLStyleModel",
      "state": {
       "description_width": "",
       "font_size": null,
       "text_color": null
      }
     },
     "a6967b1dff804702b2e4f2c8140c68f5": {
      "model_module": "@jupyter-widgets/controls",
      "model_module_version": "2.0.0",
      "model_name": "HTMLModel",
      "state": {
       "layout": "IPY_MODEL_580b98d86c8540c09d3d731e4f30cfbe",
       "style": "IPY_MODEL_793e879fe15b49328ad4940c73f45d93",
       "value": " 5/? [00:18&lt;00:00,  3.73s/it]"
      }
     },
     "a766efe95cdd47579aacdcf2f50f294b": {
      "model_module": "@jupyter-widgets/controls",
      "model_module_version": "2.0.0",
      "model_name": "HTMLStyleModel",
      "state": {
       "description_width": "",
       "font_size": null,
       "text_color": null
      }
     },
     "aaae60421ba5455c96245ab72b9c796a": {
      "model_module": "@jupyter-widgets/controls",
      "model_module_version": "2.0.0",
      "model_name": "HBoxModel",
      "state": {
       "children": [
        "IPY_MODEL_61026e9f22874bb5aae4dd497d41774f",
        "IPY_MODEL_0a9a0499fd724295b4cb394da505181c",
        "IPY_MODEL_20d2c4782be9403381e3f8a4d012a5da"
       ],
       "layout": "IPY_MODEL_3f65a66597fb4624bc3eed15d6a1d645"
      }
     },
     "ab3d4858ebb74ca0acb795ea0b405b41": {
      "model_module": "@jupyter-widgets/controls",
      "model_module_version": "2.0.0",
      "model_name": "HTMLStyleModel",
      "state": {
       "description_width": "",
       "font_size": null,
       "text_color": null
      }
     },
     "ab99c5f3b8d74c54b73ee0a1d62897c8": {
      "model_module": "@jupyter-widgets/controls",
      "model_module_version": "2.0.0",
      "model_name": "HBoxModel",
      "state": {
       "children": [
        "IPY_MODEL_e8c11d69c9854237aa0abcfe9f96d747",
        "IPY_MODEL_b8928c80cd0e46d8a41b6716a0eb248e",
        "IPY_MODEL_6081135e6ea14d2eb5a27f0a87b8448d"
       ],
       "layout": "IPY_MODEL_090f639ff96844ab9f81a4db286fc06f"
      }
     },
     "abe8faf61b664e47be7d191ca75dbf60": {
      "model_module": "@jupyter-widgets/controls",
      "model_module_version": "2.0.0",
      "model_name": "HTMLStyleModel",
      "state": {
       "description_width": "",
       "font_size": null,
       "text_color": null
      }
     },
     "acb4b3914b0544208eb6090e56601114": {
      "model_module": "@jupyter-widgets/base",
      "model_module_version": "2.0.0",
      "model_name": "LayoutModel",
      "state": {}
     },
     "af543b5608dd4069b1c61a29a9bccefe": {
      "model_module": "@jupyter-widgets/base",
      "model_module_version": "2.0.0",
      "model_name": "LayoutModel",
      "state": {}
     },
     "afa87991551d4aa49c8a9f38f2de0142": {
      "model_module": "@jupyter-widgets/controls",
      "model_module_version": "2.0.0",
      "model_name": "ProgressStyleModel",
      "state": {
       "description_width": ""
      }
     },
     "b026916742d643c0a5918d9c07e1b913": {
      "model_module": "@jupyter-widgets/controls",
      "model_module_version": "2.0.0",
      "model_name": "HTMLModel",
      "state": {
       "layout": "IPY_MODEL_3d0350afb51a46619f94229c529d6955",
       "style": "IPY_MODEL_ab3d4858ebb74ca0acb795ea0b405b41",
       "value": "raw__tpch__partsupp: "
      }
     },
     "b116f84ffaa8420583d9f22ad361fe86": {
      "model_module": "@jupyter-widgets/controls",
      "model_module_version": "2.0.0",
      "model_name": "FloatProgressModel",
      "state": {
       "bar_style": "info",
       "layout": "IPY_MODEL_2fac496176b74e15a58c6c6f65c45cf2",
       "max": 1,
       "style": "IPY_MODEL_4edf4d3a948d492a82a83d28af477aad",
       "value": 1
      }
     },
     "b2021c4a7bc9418a82bd070f65669173": {
      "model_module": "@jupyter-widgets/base",
      "model_module_version": "2.0.0",
      "model_name": "LayoutModel",
      "state": {}
     },
     "b3966686b71d413fa034ec60bf369db3": {
      "model_module": "@jupyter-widgets/base",
      "model_module_version": "2.0.0",
      "model_name": "LayoutModel",
      "state": {}
     },
     "b7d94cd8b1d6419db051e09e35c21941": {
      "model_module": "@jupyter-widgets/controls",
      "model_module_version": "2.0.0",
      "model_name": "HTMLStyleModel",
      "state": {
       "description_width": "",
       "font_size": null,
       "text_color": null
      }
     },
     "b8928c80cd0e46d8a41b6716a0eb248e": {
      "model_module": "@jupyter-widgets/controls",
      "model_module_version": "2.0.0",
      "model_name": "FloatProgressModel",
      "state": {
       "bar_style": "info",
       "layout": "IPY_MODEL_eaa6a32d4f1d433786a2cceb8f6ee38c",
       "max": 1,
       "style": "IPY_MODEL_01a652f1fd16430e84168a563c76a653",
       "value": 1
      }
     },
     "bb7bc04e2e884fecb3e4adb2f0ba6b2d": {
      "model_module": "@jupyter-widgets/controls",
      "model_module_version": "2.0.0",
      "model_name": "HTMLModel",
      "state": {
       "layout": "IPY_MODEL_d7967dad7030440b91a04391383a9cd0",
       "style": "IPY_MODEL_da84ce47e7fc4720b8f1a5531c33b3d5",
       "value": " 9/9 [00:00&lt;00:00, 128.62it/s]"
      }
     },
     "beb73a9ba1e044d783668c7e9bba118a": {
      "model_module": "@jupyter-widgets/controls",
      "model_module_version": "2.0.0",
      "model_name": "HTMLModel",
      "state": {
       "layout": "IPY_MODEL_feaefaee6252488fab6da7820beb5a41",
       "style": "IPY_MODEL_b7d94cd8b1d6419db051e09e35c21941",
       "value": " 200000/? [00:19&lt;00:00, 118789.75it/s]"
      }
     },
     "bf8bb126350842d9bea20dbe05907b9f": {
      "model_module": "@jupyter-widgets/controls",
      "model_module_version": "2.0.0",
      "model_name": "FloatProgressModel",
      "state": {
       "bar_style": "info",
       "layout": "IPY_MODEL_361cfe6d521f43ea8a026297fea30e60",
       "max": 1,
       "style": "IPY_MODEL_0bc970f3450c4b2896f78354521cf77a",
       "value": 1
      }
     },
     "c114a36ad0d540a6a54d5e356860ac71": {
      "model_module": "@jupyter-widgets/base",
      "model_module_version": "2.0.0",
      "model_name": "LayoutModel",
      "state": {}
     },
     "c4fb8594601c48f69198e5ff67ffcbdc": {
      "model_module": "@jupyter-widgets/controls",
      "model_module_version": "2.0.0",
      "model_name": "HTMLModel",
      "state": {
       "layout": "IPY_MODEL_239c1c50e4ec409ba18803518919f6ee",
       "style": "IPY_MODEL_3aeff9ceaf5740119656ea33e19a8ec9",
       "value": "Load tpch in 1759309970.0476809: Jobs:  65%"
      }
     },
     "c70f1f5c27974b58821d3eb720612100": {
      "model_module": "@jupyter-widgets/controls",
      "model_module_version": "2.0.0",
      "model_name": "HTMLModel",
      "state": {
       "layout": "IPY_MODEL_931e08f3decb46bdb327edd058bfbebe",
       "style": "IPY_MODEL_3f613e67fd2f4be5adcc836883de503e",
       "value": "raw__tpch__orders: "
      }
     },
     "c86b6455d0c345ff884d9110959af615": {
      "model_module": "@jupyter-widgets/base",
      "model_module_version": "2.0.0",
      "model_name": "LayoutModel",
      "state": {
       "visibility": "hidden"
      }
     },
     "c9ebc824365549b3b01f1697c2978f17": {
      "model_module": "@jupyter-widgets/controls",
      "model_module_version": "2.0.0",
      "model_name": "FloatProgressModel",
      "state": {
       "bar_style": "info",
       "layout": "IPY_MODEL_6d4576c899b14db8b0a591d3b52d1556",
       "max": 1,
       "style": "IPY_MODEL_3f52e9fb8317424c87ce0da6292ad3ac",
       "value": 1
      }
     },
     "cae7db9504d640b585718109ff5dce42": {
      "model_module": "@jupyter-widgets/controls",
      "model_module_version": "2.0.0",
      "model_name": "HBoxModel",
      "state": {
       "children": [
        "IPY_MODEL_9c6f9c527ecb4f8ea9e6f794165e56c9",
        "IPY_MODEL_d8af576988c04f438f710fe7aeab7cc0",
        "IPY_MODEL_36f126fee27c4dd484d1e579bdc33e41"
       ],
       "layout": "IPY_MODEL_f72ba74608664dcdb5c418ca6cea7646"
      }
     },
     "cb242e22b5ca4a009cd8c49ad497aec8": {
      "model_module": "@jupyter-widgets/controls",
      "model_module_version": "2.0.0",
      "model_name": "FloatProgressModel",
      "state": {
       "layout": "IPY_MODEL_3df557f5931a42bdb06dc66f4a185696",
       "style": "IPY_MODEL_047caa7b7b474a5fadf3c704afcc7939",
       "value": 100
      }
     },
     "cc31290da36f4b758e1d47ff51ac4cea": {
      "model_module": "@jupyter-widgets/base",
      "model_module_version": "2.0.0",
      "model_name": "LayoutModel",
      "state": {
       "width": "20px"
      }
     },
     "ccb299486b364b1da5a3de13b4143d70": {
      "model_module": "@jupyter-widgets/controls",
      "model_module_version": "2.0.0",
      "model_name": "ProgressStyleModel",
      "state": {
       "description_width": ""
      }
     },
     "cd880085c2fd4d3a92b14b4263467a37": {
      "model_module": "@jupyter-widgets/controls",
      "model_module_version": "2.0.0",
      "model_name": "ProgressStyleModel",
      "state": {
       "description_width": ""
      }
     },
     "ce32d48c7d1f4084adc7c9c139c194eb": {
      "model_module": "@jupyter-widgets/base",
      "model_module_version": "2.0.0",
      "model_name": "LayoutModel",
      "state": {}
     },
     "d0c9d66d95b04eb2a13c6a6a363b1218": {
      "model_module": "@jupyter-widgets/controls",
      "model_module_version": "2.0.0",
      "model_name": "FloatProgressModel",
      "state": {
       "bar_style": "info",
       "layout": "IPY_MODEL_111a3fa5102042959db33fefe22eecf0",
       "max": 1,
       "style": "IPY_MODEL_0a215faff5a4433abea578e94458874c",
       "value": 1
      }
     },
     "d2be9833412241dab793114b387c352e": {
      "model_module": "@jupyter-widgets/controls",
      "model_module_version": "2.0.0",
      "model_name": "FloatProgressModel",
      "state": {
       "layout": "IPY_MODEL_71c67caffbc74611ae786013922ce065",
       "max": 9,
       "style": "IPY_MODEL_d578225546d1415581de553a5ec2880e",
       "value": 9
      }
     },
     "d578225546d1415581de553a5ec2880e": {
      "model_module": "@jupyter-widgets/controls",
      "model_module_version": "2.0.0",
      "model_name": "ProgressStyleModel",
      "state": {
       "description_width": ""
      }
     },
     "d6238f3f32e54ba89e79a75042ebf515": {
      "model_module": "@jupyter-widgets/base",
      "model_module_version": "2.0.0",
      "model_name": "LayoutModel",
      "state": {}
     },
     "d6c9d21e0b724d629f2f6091bc2f2223": {
      "model_module": "@jupyter-widgets/base",
      "model_module_version": "2.0.0",
      "model_name": "LayoutModel",
      "state": {}
     },
     "d78076294d314f26b264e3605120f392": {
      "model_module": "@jupyter-widgets/controls",
      "model_module_version": "2.0.0",
      "model_name": "HTMLModel",
      "state": {
       "layout": "IPY_MODEL_7c934ba949144715890cd843ec3e103e",
       "style": "IPY_MODEL_82434cbf1bb74f6d921f5c9505538496",
       "value": " 800000/? [00:18&lt;00:00, 174621.18it/s]"
      }
     },
     "d7967dad7030440b91a04391383a9cd0": {
      "model_module": "@jupyter-widgets/base",
      "model_module_version": "2.0.0",
      "model_name": "LayoutModel",
      "state": {}
     },
     "d8af576988c04f438f710fe7aeab7cc0": {
      "model_module": "@jupyter-widgets/controls",
      "model_module_version": "2.0.0",
      "model_name": "FloatProgressModel",
      "state": {
       "layout": "IPY_MODEL_f7a51082eced435d970e57a7f7018635",
       "max": 1,
       "style": "IPY_MODEL_d8f9123374024d0f8b20c3939a60b748",
       "value": 1
      }
     },
     "d8f9123374024d0f8b20c3939a60b748": {
      "model_module": "@jupyter-widgets/controls",
      "model_module_version": "2.0.0",
      "model_name": "ProgressStyleModel",
      "state": {
       "description_width": ""
      }
     },
     "d9202df2cdbd4bcc9b6cf69d7fb154c4": {
      "model_module": "@jupyter-widgets/base",
      "model_module_version": "2.0.0",
      "model_name": "LayoutModel",
      "state": {
       "visibility": "hidden"
      }
     },
     "d9f1f6eb0c1147499ec89026b318e496": {
      "model_module": "@jupyter-widgets/controls",
      "model_module_version": "2.0.0",
      "model_name": "ProgressStyleModel",
      "state": {
       "description_width": ""
      }
     },
     "da0274ed1b2e47269a93621728125ab5": {
      "model_module": "@jupyter-widgets/base",
      "model_module_version": "2.0.0",
      "model_name": "LayoutModel",
      "state": {}
     },
     "da84ce47e7fc4720b8f1a5531c33b3d5": {
      "model_module": "@jupyter-widgets/controls",
      "model_module_version": "2.0.0",
      "model_name": "HTMLStyleModel",
      "state": {
       "description_width": "",
       "font_size": null,
       "text_color": null
      }
     },
     "dc7fbf38e45541038083c88c32bfd661": {
      "model_module": "@jupyter-widgets/controls",
      "model_module_version": "2.0.0",
      "model_name": "HTMLStyleModel",
      "state": {
       "description_width": "",
       "font_size": null,
       "text_color": null
      }
     },
     "dcc71a1ce1c843fe94c1d1dd816a3bfc": {
      "model_module": "@jupyter-widgets/controls",
      "model_module_version": "2.0.0",
      "model_name": "HBoxModel",
      "state": {
       "children": [
        "IPY_MODEL_1216aa18a1c040bc8f6bb9d7ededff6e",
        "IPY_MODEL_a1102790f7644b7d864db61811be1032",
        "IPY_MODEL_4c5891578a62459c9882f58248fb32bf"
       ],
       "layout": "IPY_MODEL_ef35d118c0a94fe1ba9aaa9ee25f496a"
      }
     },
     "de5f1998f2a04658b9c381479e8c88d6": {
      "model_module": "@jupyter-widgets/base",
      "model_module_version": "2.0.0",
      "model_name": "LayoutModel",
      "state": {
       "width": "20px"
      }
     },
     "e1772a9998c5402aa927e11863ccb70c": {
      "model_module": "@jupyter-widgets/controls",
      "model_module_version": "2.0.0",
      "model_name": "HTMLStyleModel",
      "state": {
       "description_width": "",
       "font_size": null,
       "text_color": null
      }
     },
     "e18a69d46bc74a5f943c4054b24d72c9": {
      "model_module": "@jupyter-widgets/controls",
      "model_module_version": "2.0.0",
      "model_name": "HTMLModel",
      "state": {
       "layout": "IPY_MODEL_3d3566b04a1b4d7a84bd3d30f7a04c19",
       "style": "IPY_MODEL_2cec88f7fc734d688958b533e9b3e391",
       "value": "Extract tpch: Resources: 100%"
      }
     },
     "e1f610ef248843479ae0f27e150ece18": {
      "model_module": "@jupyter-widgets/controls",
      "model_module_version": "2.0.0",
      "model_name": "HTMLStyleModel",
      "state": {
       "description_width": "",
       "font_size": null,
       "text_color": null
      }
     },
     "e280fe8162484e86b104163658fe6026": {
      "model_module": "@jupyter-widgets/base",
      "model_module_version": "2.0.0",
      "model_name": "LayoutModel",
      "state": {}
     },
     "e43a174d1ab8475a8d57e0b552208989": {
      "model_module": "@jupyter-widgets/base",
      "model_module_version": "2.0.0",
      "model_name": "LayoutModel",
      "state": {}
     },
     "e8c11d69c9854237aa0abcfe9f96d747": {
      "model_module": "@jupyter-widgets/controls",
      "model_module_version": "2.0.0",
      "model_name": "HTMLModel",
      "state": {
       "layout": "IPY_MODEL_4e11226afa9a458eb4998031724797ad",
       "style": "IPY_MODEL_7a978858cc194861b6891641143bdeb6",
       "value": "raw__tpch__supplier: "
      }
     },
     "e90117ee03524f9e95f617bebb6e036f": {
      "model_module": "@jupyter-widgets/base",
      "model_module_version": "2.0.0",
      "model_name": "LayoutModel",
      "state": {
       "visibility": "hidden"
      }
     },
     "e979283345c54cc197ac2962fb19cbf3": {
      "model_module": "@jupyter-widgets/controls",
      "model_module_version": "2.0.0",
      "model_name": "HBoxModel",
      "state": {
       "children": [
        "IPY_MODEL_e18a69d46bc74a5f943c4054b24d72c9",
        "IPY_MODEL_8ebd843b0eab4bf6b4724370d0249299",
        "IPY_MODEL_27fd2265d80343c2ab74a4823ad51b43"
       ],
       "layout": "IPY_MODEL_69104d6b4d8f434b995543e556538108"
      }
     },
     "e99901495d55486f88eadb77bca96575": {
      "model_module": "@jupyter-widgets/controls",
      "model_module_version": "2.0.0",
      "model_name": "HTMLStyleModel",
      "state": {
       "description_width": "",
       "font_size": null,
       "text_color": null
      }
     },
     "e9e9c20209e64b8a9d04dde83c73f595": {
      "model_module": "@jupyter-widgets/controls",
      "model_module_version": "2.0.0",
      "model_name": "FloatProgressModel",
      "state": {
       "bar_style": "info",
       "layout": "IPY_MODEL_095c4abbe04f4e54a2f814d09be8af58",
       "max": 1,
       "style": "IPY_MODEL_afa87991551d4aa49c8a9f38f2de0142",
       "value": 1
      }
     },
     "eaa6a32d4f1d433786a2cceb8f6ee38c": {
      "model_module": "@jupyter-widgets/base",
      "model_module_version": "2.0.0",
      "model_name": "LayoutModel",
      "state": {
       "width": "20px"
      }
     },
     "eb3e55b9436942d4a8da4fa5760767b1": {
      "model_module": "@jupyter-widgets/base",
      "model_module_version": "2.0.0",
      "model_name": "LayoutModel",
      "state": {}
     },
     "ec754a7263ac4918b6f1eb7ebb5774b0": {
      "model_module": "@jupyter-widgets/controls",
      "model_module_version": "2.0.0",
      "model_name": "HTMLStyleModel",
      "state": {
       "description_width": "",
       "font_size": null,
       "text_color": null
      }
     },
     "eca190d5f88c4aaab2adb7cb313971c7": {
      "model_module": "@jupyter-widgets/controls",
      "model_module_version": "2.0.0",
      "model_name": "FloatProgressModel",
      "state": {
       "bar_style": "info",
       "layout": "IPY_MODEL_cc31290da36f4b758e1d47ff51ac4cea",
       "max": 1,
       "style": "IPY_MODEL_d9f1f6eb0c1147499ec89026b318e496",
       "value": 1
      }
     },
     "ee4a2801f2304c7aa942f85f3088fd74": {
      "model_module": "@jupyter-widgets/controls",
      "model_module_version": "2.0.0",
      "model_name": "HTMLModel",
      "state": {
       "layout": "IPY_MODEL_3bf0fafe77534e3a8d52a88485485e68",
       "style": "IPY_MODEL_5d6a1e303d344af9b4d8e85ac02eb668",
       "value": " 11/17 [00:20&lt;00:09,  1.60s/it]"
      }
     },
     "ee81cc1a31bb4f1ea86e12ec8ae5073c": {
      "model_module": "@jupyter-widgets/base",
      "model_module_version": "2.0.0",
      "model_name": "LayoutModel",
      "state": {}
     },
     "ef35d118c0a94fe1ba9aaa9ee25f496a": {
      "model_module": "@jupyter-widgets/base",
      "model_module_version": "2.0.0",
      "model_name": "LayoutModel",
      "state": {
       "visibility": "hidden"
      }
     },
     "f2ef8d88989e4b599f7f51b56fb49119": {
      "model_module": "@jupyter-widgets/controls",
      "model_module_version": "2.0.0",
      "model_name": "HTMLModel",
      "state": {
       "layout": "IPY_MODEL_7b9985d7f6bf4f2da0e4b451482f9490",
       "style": "IPY_MODEL_48574d9465ce4fca924585a82fdebf48",
       "value": "raw__tpch__nation: "
      }
     },
     "f34a958bb8e84f22bcf5ae90e40ea696": {
      "model_module": "@jupyter-widgets/base",
      "model_module_version": "2.0.0",
      "model_name": "LayoutModel",
      "state": {}
     },
     "f4078c6dd79f4181b15f9e165262858b": {
      "model_module": "@jupyter-widgets/base",
      "model_module_version": "2.0.0",
      "model_name": "LayoutModel",
      "state": {}
     },
     "f72ba74608664dcdb5c418ca6cea7646": {
      "model_module": "@jupyter-widgets/base",
      "model_module_version": "2.0.0",
      "model_name": "LayoutModel",
      "state": {
       "visibility": "hidden"
      }
     },
     "f7a51082eced435d970e57a7f7018635": {
      "model_module": "@jupyter-widgets/base",
      "model_module_version": "2.0.0",
      "model_name": "LayoutModel",
      "state": {}
     },
     "fe4507340b6045c4be13bf038370f5cd": {
      "model_module": "@jupyter-widgets/base",
      "model_module_version": "2.0.0",
      "model_name": "LayoutModel",
      "state": {
       "width": "20px"
      }
     },
     "fead057dceef4b7aa94eba37410b33b1": {
      "model_module": "@jupyter-widgets/base",
      "model_module_version": "2.0.0",
      "model_name": "LayoutModel",
      "state": {}
     },
     "feaefaee6252488fab6da7820beb5a41": {
      "model_module": "@jupyter-widgets/base",
      "model_module_version": "2.0.0",
      "model_name": "LayoutModel",
      "state": {}
     },
     "fee961d81d9142a48a8072c5eeb0153c": {
      "model_module": "@jupyter-widgets/controls",
      "model_module_version": "2.0.0",
      "model_name": "HTMLModel",
      "state": {
       "layout": "IPY_MODEL_d6c9d21e0b724d629f2f6091bc2f2223",
       "style": "IPY_MODEL_7334153756e24f6496462e7b835aba03",
       "value": " 25/? [00:19&lt;00:00,  1.28it/s]"
      }
     }
    },
    "version_major": 2,
    "version_minor": 0
   }
  }
 },
 "nbformat": 4,
 "nbformat_minor": 5
}
