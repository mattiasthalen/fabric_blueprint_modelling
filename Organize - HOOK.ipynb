{
 "cells": [
  {
   "cell_type": "markdown",
   "id": "49d8a76e-15e8-47c9-97b5-afbd45b582c4",
   "metadata": {
    "microsoft": {
     "language": "python",
     "language_group": "jupyter_python"
    },
    "nteract": {
     "transient": {
      "deleting": false
     }
    }
   },
   "source": [
    "# Organize - HOOK"
   ]
  },
  {
   "cell_type": "markdown",
   "id": "fc4d34fc-cd8c-4daf-be7f-9c0658ecc066",
   "metadata": {
    "microsoft": {
     "language": "python",
     "language_group": "synapse_pyspark"
    },
    "nteract": {
     "transient": {
      "deleting": false
     }
    }
   },
   "source": [
    "## Prerequisites"
   ]
  },
  {
   "cell_type": "code",
   "execution_count": null,
   "id": "c906c871-2323-4825-a968-f57daf138ccd",
   "metadata": {
    "microsoft": {
     "language": "python",
     "language_group": "synapse_pyspark"
    }
   },
   "outputs": [],
   "source": [
    "!pip install -q sqlglot==27.20.0"
   ]
  },
  {
   "cell_type": "code",
   "execution_count": null,
   "id": "b832f096-d57a-4930-b2c2-c62af57edd7d",
   "metadata": {
    "microsoft": {
     "language": "python",
     "language_group": "synapse_pyspark"
    }
   },
   "outputs": [],
   "source": [
    "import re\n",
    "\n",
    "from datetime import datetime, timezone\n",
    "from pyspark.sql import functions as F\n",
    "from sqlglot import exp, parse_one\n",
    "from tqdm.auto import tqdm"
   ]
  },
  {
   "cell_type": "code",
   "execution_count": null,
   "id": "5787720a-2e41-473a-b201-6c98750f3a33",
   "metadata": {
    "microsoft": {
     "language": "python",
     "language_group": "synapse_pyspark"
    }
   },
   "outputs": [],
   "source": [
    "MANIFEST_PATH = \"metadata.manifest\"\n",
    "\n",
    "FROM_SCHEMA = \"raw\"\n",
    "FROM_PREFIX = \"raw\"\n",
    "\n",
    "TO_SCHEMA = \"hook\"\n",
    "TO_PREFIX = \"frame\""
   ]
  },
  {
   "cell_type": "markdown",
   "id": "e35f3b0d-1a16-4e68-8079-70c938c0fe37",
   "metadata": {
    "microsoft": {
     "language": "python",
     "language_group": "synapse_pyspark"
    },
    "nteract": {
     "transient": {
      "deleting": false
     }
    }
   },
   "source": [
    "## Helper Functions"
   ]
  },
  {
   "cell_type": "code",
   "execution_count": null,
   "id": "9cee5095-c64c-4472-9d9f-8e96c6e370e2",
   "metadata": {
    "collapsed": false,
    "microsoft": {
     "language": "python",
     "language_group": "synapse_pyspark"
    }
   },
   "outputs": [],
   "source": [
    "def load_manifest(table_path: str):\n",
    "    manifest = (\n",
    "        spark.read.table(table_path)\n",
    "        .filter(F.col(\"generate\") == True)\n",
    "        .collect()\n",
    "    )\n",
    "\n",
    "    return manifest"
   ]
  },
  {
   "cell_type": "code",
   "execution_count": null,
   "id": "96c77b3b-4735-46bd-b47c-e3de2db4af74",
   "metadata": {
    "microsoft": {
     "language": "python",
     "language_group": "synapse_pyspark"
    }
   },
   "outputs": [],
   "source": [
    "def extract_active_select(mlv_name: str) -> exp.Expression | None:\n",
    "    try:\n",
    "        statement =  spark.sql(f\"SHOW CREATE MATERIALIZED LAKE VIEW {mlv_name};\").collect()[0][0]\n",
    "    except:\n",
    "        return None\n",
    "\n",
    "    match = re.search(r\"AS\\s*\\((.*)\\)\\s*$\", statement, flags=re.DOTALL)\n",
    "\n",
    "    if not match:\n",
    "        return None\n",
    "\n",
    "    select = match.group(1).strip()\n",
    "    result = parse_one(select, dialect=\"spark\")\n",
    "\n",
    "    return result"
   ]
  },
  {
   "cell_type": "code",
   "execution_count": null,
   "id": "bcaf8bfc-3ee0-4a23-b972-f66f010dbb2c",
   "metadata": {
    "microsoft": {
     "language": "python",
     "language_group": "synapse_pyspark"
    }
   },
   "outputs": [],
   "source": [
    "def manage_mlv(\n",
    "    select_statement: exp.Expression,\n",
    "    MLV_Identifier: str\n",
    ") -> None:\n",
    "    active_select = extract_active_select(MLV_Identifier)\n",
    "\n",
    "    # We need to parse the selects in order to compare correctly\n",
    "    convert_to_spark_sql = lambda x: x.sql(\n",
    "        dialect=\"spark\",\n",
    "        identify=True,\n",
    "        pretty=True,\n",
    "    )\n",
    "    spark_sql = convert_to_spark_sql(select_statement)\n",
    "    active_spark_sql = convert_to_spark_sql(active_select) if active_select else None\n",
    "    is_unchanged = spark_sql == active_spark_sql\n",
    "\n",
    "    # If the select is unchanged, we refresh the MLV\n",
    "    if is_unchanged:\n",
    "        tqdm.write(f\"{MLV_Identifier}: No changes detected, refreshing...\")\n",
    "        _ = spark.sql(f\"REFRESH MATERIALIZED LAKE VIEW {MLV_Identifier };\")\n",
    "        \n",
    "        return None\n",
    "    \n",
    "    # If there is an active select, we need to backup the view before creation\n",
    "    if active_select:\n",
    "        tqdm.write(f\"{MLV_Identifier}: Changes detected, recreating MLV...\")\n",
    "        utc_ts = datetime.now(timezone.utc).strftime(\"%Y%m%d_%H%M%S\")\n",
    "        _ = spark.sql(f\"ALTER MATERIALIZED LAKE VIEW {MLV_Identifier} RENAME TO {MLV_Identifier}__{utc_ts};\")\n",
    "\n",
    "    else:\n",
    "        tqdm.write(f\"{MLV_Identifier}: Creating MLV...\")\n",
    "\n",
    "    _ = spark.sql(f\"CREATE MATERIALIZED LAKE VIEW {MLV_Identifier} AS ({spark_sql});\")\n",
    "    \n",
    "    return None"
   ]
  },
  {
   "cell_type": "markdown",
   "id": "cb8971d3-f5ca-44a5-a66f-90887bebd381",
   "metadata": {
    "microsoft": {
     "language": "python",
     "language_group": "jupyter_python"
    },
    "nteract": {
     "transient": {
      "deleting": false
     }
    }
   },
   "source": [
    "## Blueprint"
   ]
  },
  {
   "cell_type": "code",
   "execution_count": null,
   "id": "bfce1868-6b95-4922-9f79-7415e94b0b22",
   "metadata": {
    "microsoft": {
     "language": "python",
     "language_group": "synapse_pyspark"
    }
   },
   "outputs": [],
   "source": [
    "def generate_hook_expression(hook_dict: dict) -> exp.Expression:\n",
    "    name = hook_dict[\"name\"]\n",
    "    keyset = hook_dict[\"keyset\"]\n",
    "    business_key_field = hook_dict[\"business_key_field\"]\n",
    "\n",
    "    key_lit = exp.Literal.string(f\"{keyset}|\")\n",
    "    column = parse_one(business_key_field)\n",
    "\n",
    "    cast = exp.Cast(this=column, to=exp.DataType.build(\"STRING\"))\n",
    "    trim = exp.Trim(this=cast)\n",
    "    val = exp.Concat(\n",
    "        expressions=[key_lit, trim]\n",
    "    )\n",
    "\n",
    "    condition = exp.Is(this=column, expression=exp.Null()).not_()\n",
    "    expr = exp.Case().when(condition, val).as_(name)\n",
    "\n",
    "    return expr.sql()"
   ]
  },
  {
   "cell_type": "code",
   "execution_count": null,
   "id": "167bce20-b30e-4386-8d84-a4aff9e3cef0",
   "metadata": {
    "microsoft": {
     "language": "python",
     "language_group": "synapse_pyspark"
    }
   },
   "outputs": [],
   "source": [
    "def generate_frame_sql(\n",
    "    frame_hooks: list,\n",
    "    from_table: str\n",
    ") -> exp.Expression:\n",
    "    \n",
    "    hook_expressions = [generate_hook_expression(hook) for hook in frame_hooks]\n",
    "    expression = exp.select(*hook_expressions, exp.Star()).from_(from_table)\n",
    "\n",
    "    return expression"
   ]
  },
  {
   "cell_type": "code",
   "execution_count": null,
   "id": "38164cbf-4d6f-40c5-9a0a-73393ab35d1c",
   "metadata": {
    "microsoft": {
     "language": "python",
     "language_group": "synapse_pyspark"
    }
   },
   "outputs": [],
   "source": [
    "def generate_hook_frames(\n",
    "    manifest_path: str,\n",
    "    from_schema: str = \"raw\",\n",
    "    from_prefix: str = \"raw\",\n",
    "    to_schema: str = \"hook\",\n",
    "    to_prefix: str = \"frame\"\n",
    ") -> None:\n",
    "\n",
    "    _ = spark.sql(f\"CREATE SCHEMA IF NOT EXISTS {to_schema};\")\n",
    "\n",
    "    frames_to_generate = load_manifest(manifest_path)\n",
    "\n",
    "    for frame in tqdm(\n",
    "        frames_to_generate,\n",
    "        desc=\"Generating Frame MLVs\"\n",
    "    ):\n",
    "\n",
    "        frame_name = frame[\"name\"]\n",
    "        frame_source = frame[\"source\"]\n",
    "        frame_hooks = frame[\"hooks\"]\n",
    "\n",
    "        from_table = f\"{from_schema}.{from_prefix}__{frame_source}__{frame_name}\"\n",
    "        to_table = f\"{to_schema}.{to_prefix}__{frame_source}__{frame_name}\"\n",
    "        select_statement = generate_frame_sql(frame_hooks, from_table)\n",
    "\n",
    "        _ = manage_mlv(\n",
    "                select_statement=select_statement,\n",
    "                MLV_Identifier=to_table\n",
    "            )\n",
    "        \n",
    "    return None\n",
    "\n",
    "generate_hook_frames(MANIFEST_PATH, FROM_SCHEMA, FROM_PREFIX, TO_SCHEMA, TO_PREFIX)"
   ]
  }
 ],
 "metadata": {
  "dependencies": {
   "environment": {},
   "lakehouse": {
    "default_lakehouse": "606b479f-9338-452b-ac6d-d84f8e49e976",
    "default_lakehouse_name": "tpch",
    "default_lakehouse_workspace_id": "99a969c7-6acc-45c8-808f-93eea0b7b50e",
    "known_lakehouses": [
     {
      "id": "606b479f-9338-452b-ac6d-d84f8e49e976"
     }
    ]
   }
  },
  "kernel_info": {
   "name": "synapse_pyspark"
  },
  "kernelspec": {
   "display_name": "Synapse PySpark",
   "name": "synapse_pyspark"
  },
  "language_info": {
   "name": "python"
  },
  "microsoft": {
   "language": "python",
   "language_group": "synapse_pyspark",
   "ms_spell_check": {
    "ms_spell_check_language": "en"
   }
  },
  "nteract": {
   "version": "nteract-front-end@1.0.0"
  },
  "spark_compute": {
   "compute_id": "/trident/default",
   "session_options": {
    "conf": {
     "spark.synapse.nbs.session.timeout": "1200000"
    }
   }
  },
  "synapse_widget": {
   "state": {},
   "version": "0.1"
  },
  "widgets": {
   "application/vnd.jupyter.widget-state+json": {
    "state": {
     "0f6cee5f6a5e4735bf06fb8cc9f79bca": {
      "model_module": "@jupyter-widgets/controls",
      "model_module_version": "2.0.0",
      "model_name": "HTMLStyleModel",
      "state": {
       "description_width": "",
       "font_size": null,
       "text_color": null
      }
     },
     "2003f0ae90de449697263044ecdf313e": {
      "model_module": "@jupyter-widgets/controls",
      "model_module_version": "2.0.0",
      "model_name": "ProgressStyleModel",
      "state": {
       "description_width": ""
      }
     },
     "676412865b174eeba7ac6e5cddd86369": {
      "model_module": "@jupyter-widgets/base",
      "model_module_version": "2.0.0",
      "model_name": "LayoutModel",
      "state": {}
     },
     "67b5d76d0c6044658f655bf696eff6af": {
      "model_module": "@jupyter-widgets/base",
      "model_module_version": "2.0.0",
      "model_name": "LayoutModel",
      "state": {}
     },
     "8ce12c6bed274f3f96b75ae995891cd5": {
      "model_module": "@jupyter-widgets/base",
      "model_module_version": "2.0.0",
      "model_name": "LayoutModel",
      "state": {}
     },
     "97af8b7f5bfb43579515fb6d5935155a": {
      "model_module": "@jupyter-widgets/controls",
      "model_module_version": "2.0.0",
      "model_name": "HTMLModel",
      "state": {
       "layout": "IPY_MODEL_67b5d76d0c6044658f655bf696eff6af",
       "style": "IPY_MODEL_d0e3470ee1f1446a95d05db980e07bc6",
       "value": " 8/8 [01:08&lt;00:00,  7.64s/it]"
      }
     },
     "a1df280fe4964da6b750c19d8db0e8fb": {
      "model_module": "@jupyter-widgets/controls",
      "model_module_version": "2.0.0",
      "model_name": "HTMLModel",
      "state": {
       "layout": "IPY_MODEL_676412865b174eeba7ac6e5cddd86369",
       "style": "IPY_MODEL_0f6cee5f6a5e4735bf06fb8cc9f79bca",
       "value": "Generating Frame MLVs: 100%"
      }
     },
     "b96d5aefeda742f493ca2dddcdfd2d94": {
      "model_module": "@jupyter-widgets/controls",
      "model_module_version": "2.0.0",
      "model_name": "FloatProgressModel",
      "state": {
       "bar_style": "success",
       "layout": "IPY_MODEL_d1cab6a51e2b47b79524355da3580fdc",
       "max": 8,
       "style": "IPY_MODEL_2003f0ae90de449697263044ecdf313e",
       "value": 8
      }
     },
     "cc6012cb3a124ac7a626fd94c2c081f6": {
      "model_module": "@jupyter-widgets/controls",
      "model_module_version": "2.0.0",
      "model_name": "HBoxModel",
      "state": {
       "children": [
        "IPY_MODEL_a1df280fe4964da6b750c19d8db0e8fb",
        "IPY_MODEL_b96d5aefeda742f493ca2dddcdfd2d94",
        "IPY_MODEL_97af8b7f5bfb43579515fb6d5935155a"
       ],
       "layout": "IPY_MODEL_8ce12c6bed274f3f96b75ae995891cd5"
      }
     },
     "d0e3470ee1f1446a95d05db980e07bc6": {
      "model_module": "@jupyter-widgets/controls",
      "model_module_version": "2.0.0",
      "model_name": "HTMLStyleModel",
      "state": {
       "description_width": "",
       "font_size": null,
       "text_color": null
      }
     },
     "d1cab6a51e2b47b79524355da3580fdc": {
      "model_module": "@jupyter-widgets/base",
      "model_module_version": "2.0.0",
      "model_name": "LayoutModel",
      "state": {}
     }
    },
    "version_major": 2,
    "version_minor": 0
   }
  }
 },
 "nbformat": 4,
 "nbformat_minor": 5
}
