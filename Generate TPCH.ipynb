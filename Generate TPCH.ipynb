{
 "cells": [
  {
   "cell_type": "code",
   "execution_count": null,
   "id": "20f92f7a-7dbc-4322-8bd5-3b9515009211",
   "metadata": {
    "microsoft": {
     "language": "python",
     "language_group": "jupyter_python"
    }
   },
   "outputs": [],
   "source": [
    "%pip install tpchgen-cli\n",
    "\n",
    "import sys\n",
    "sys.exit(0)"
   ]
  },
  {
   "cell_type": "code",
   "execution_count": null,
   "id": "65899281-2ef9-4177-b05c-5f0b1fbe0977",
   "metadata": {
    "microsoft": {
     "language": "python",
     "language_group": "jupyter_python"
    }
   },
   "outputs": [],
   "source": [
    "TPCH_PATH = \"/lakehouse/default/Files/tpch\"\n",
    "TPCH_SF = 1000\n",
    "TPCH_PARTITIONS = 1000"
   ]
  },
  {
   "cell_type": "code",
   "execution_count": null,
   "id": "e4ac8581-b7af-4f1b-9c76-d53eb76b36dc",
   "metadata": {
    "microsoft": {
     "language": "python",
     "language_group": "jupyter_python"
    }
   },
   "outputs": [],
   "source": [
    "try:\n",
    "    current_partition = len(notebookutils.fs.ls(f\"{TPCH_PATH}/customer\"))\n",
    "\n",
    "except:\n",
    "    current_partition = 0\n",
    "\n",
    "finally:\n",
    "    next_partition = current_partition + 1\n",
    "\n",
    "next_partition"
   ]
  },
  {
   "cell_type": "code",
   "execution_count": null,
   "id": "002a790d-7ae0-457d-b4a4-9f9a52e31a6d",
   "metadata": {
    "microsoft": {
     "language": "python",
     "language_group": "jupyter_python"
    }
   },
   "outputs": [],
   "source": [
    "def delete_tpch_data():\n",
    "    items = notebookutils.fs.ls(TPCH_PATH)\n",
    "\n",
    "    for item in items:\n",
    "        if item.isDir:\n",
    "            files = notebookutils.fs.ls(item.path)\n",
    "\n",
    "            for file in files:\n",
    "                result = notebookutils.fs.rm(file.path)\n",
    "\n",
    "                print(f\"Deleted {file.name}: {result}\")\n",
    "\n",
    "#delete_tpch_data()"
   ]
  },
  {
   "cell_type": "code",
   "execution_count": null,
   "id": "174997a8-5ece-4e4c-ba06-30190f885ec4",
   "metadata": {
    "microsoft": {
     "language": "python",
     "language_group": "jupyter_python"
    }
   },
   "outputs": [],
   "source": [
    "import subprocess\n",
    "\n",
    "subprocess.call([\n",
    "    \"tpchgen-cli\",\n",
    "    \"-s\", f\"{TPCH_SF}\",\n",
    "    \"--parts\", f\"{TPCH_PARTITIONS}\",\n",
    "    \"--part\", f\"{next_partition}\",\n",
    "    \"--format=parquet\",\n",
    "    \"--output-dir\", TPCH_PATH\n",
    "])"
   ]
  }
 ],
 "metadata": {
  "dependencies": {
   "lakehouse": {
    "default_lakehouse": "606b479f-9338-452b-ac6d-d84f8e49e976",
    "default_lakehouse_name": "tpch",
    "default_lakehouse_workspace_id": "99a969c7-6acc-45c8-808f-93eea0b7b50e",
    "known_lakehouses": [
     {
      "id": "606b479f-9338-452b-ac6d-d84f8e49e976"
     }
    ]
   }
  },
  "kernel_info": {
   "jupyter_kernel_name": "python3.11",
   "name": "jupyter"
  },
  "kernelspec": {
   "display_name": "Jupyter",
   "name": "jupyter"
  },
  "language_info": {
   "name": "python"
  },
  "microsoft": {
   "language": "python",
   "language_group": "jupyter_python",
   "ms_spell_check": {
    "ms_spell_check_language": "en"
   }
  },
  "nteract": {
   "version": "nteract-front-end@1.0.0"
  },
  "spark_compute": {
   "compute_id": "/trident/default",
   "session_options": {
    "conf": {
     "spark.synapse.nbs.session.timeout": "1200000"
    }
   }
  }
 },
 "nbformat": 4,
 "nbformat_minor": 5
}
